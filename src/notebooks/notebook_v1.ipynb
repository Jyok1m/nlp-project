{
 "cells": [
  {
   "cell_type": "code",
   "execution_count": 1,
   "id": "3ef7565a",
   "metadata": {},
   "outputs": [
    {
     "data": {
      "text/html": [
       "<style>.container { width:100% !important; }</style>"
      ],
      "text/plain": [
       "<IPython.core.display.HTML object>"
      ]
     },
     "metadata": {},
     "output_type": "display_data"
    }
   ],
   "source": [
    "from IPython.display import display, HTML\n",
    "display(HTML(\"<style>.container { width:100% !important; }</style>\"))"
   ]
  },
  {
   "cell_type": "markdown",
   "id": "4067e2fa",
   "metadata": {},
   "source": [
    "# 1. Data exploration"
   ]
  },
  {
   "cell_type": "markdown",
   "id": "8bf7ea42",
   "metadata": {},
   "source": [
    "## 1.1 Imports"
   ]
  },
  {
   "cell_type": "code",
   "execution_count": 2,
   "id": "fab33a14",
   "metadata": {},
   "outputs": [],
   "source": [
    "import pandas as pd\n",
    "from sklearn.naive_bayes import MultinomialNB"
   ]
  },
  {
   "cell_type": "markdown",
   "id": "bde2c961",
   "metadata": {},
   "source": [
    "## 1.2 Load data"
   ]
  },
  {
   "cell_type": "code",
   "execution_count": 3,
   "id": "2b02a424",
   "metadata": {},
   "outputs": [],
   "source": [
    "df = pd.read_csv(\"../../dataset/data.csv\")"
   ]
  },
  {
   "cell_type": "markdown",
   "id": "530a15e7",
   "metadata": {},
   "source": [
    "## 1.3 Inspect data\n",
    "\n",
    "We inspect the data to understand its structure, types, and any potential issues."
   ]
  },
  {
   "cell_type": "code",
   "execution_count": null,
   "id": "413352a6",
   "metadata": {},
   "outputs": [],
   "source": [
    "df.shape"
   ]
  },
  {
   "cell_type": "code",
   "execution_count": null,
   "id": "490172b5",
   "metadata": {},
   "outputs": [],
   "source": [
    "df.dtypes"
   ]
  },
  {
   "cell_type": "code",
   "execution_count": null,
   "id": "5b272eba",
   "metadata": {},
   "outputs": [],
   "source": [
    "df.columns"
   ]
  },
  {
   "cell_type": "code",
   "execution_count": null,
   "id": "ecdd5cdd",
   "metadata": {},
   "outputs": [],
   "source": [
    "df.head()"
   ]
  },
  {
   "cell_type": "code",
   "execution_count": null,
   "id": "6c68039a",
   "metadata": {},
   "outputs": [],
   "source": [
    "df.isnull().sum()"
   ]
  },
  {
   "cell_type": "code",
   "execution_count": null,
   "id": "8b64b0eb",
   "metadata": {},
   "outputs": [],
   "source": [
    "df.nunique()"
   ]
  },
  {
   "cell_type": "code",
   "execution_count": null,
   "id": "f8d9c464",
   "metadata": {},
   "outputs": [],
   "source": [
    "df['label'].value_counts(normalize=True) * 100"
   ]
  },
  {
   "cell_type": "markdown",
   "id": "3e1e6677",
   "metadata": {},
   "source": [
    "# 2. Data cleaning"
   ]
  },
  {
   "cell_type": "markdown",
   "id": "0419019b",
   "metadata": {},
   "source": [
    "## 2.1 Reshape data\n",
    "\n",
    "We will combine 3 columns (title, text and subject) into a single column. This is done to simplify the data structure and make it easier to work with. The new column will be called \"combined_text\". We will also drop the original columns (date, title, text and subject) after the reshaping process."
   ]
  },
  {
   "cell_type": "code",
   "execution_count": 4,
   "id": "133dc058",
   "metadata": {},
   "outputs": [],
   "source": [
    "# We regroup the 3 columns into one\n",
    "df['combined_text'] = df['title'] + ' ' + df['text'] + ' ' + df['subject']"
   ]
  },
  {
   "cell_type": "code",
   "execution_count": 5,
   "id": "7f083f95",
   "metadata": {},
   "outputs": [],
   "source": [
    "# We drop the 3 columns\n",
    "df.drop(['title', 'text', 'subject', 'date'], axis=1, inplace=True)"
   ]
  },
  {
   "cell_type": "markdown",
   "id": "a773caa2",
   "metadata": {},
   "source": [
    "## 2.2 Separate y and X\n",
    "\n",
    "We will separate the target variable (y) from the features (X). The target variable is the \"label\" column, which indicates whether the news article is fake or real. The features are the combined text of the articles."
   ]
  },
  {
   "cell_type": "code",
   "execution_count": 6,
   "id": "4fb576f4",
   "metadata": {},
   "outputs": [],
   "source": [
    "y = df['label']\n",
    "X = df.drop(['label'], axis=1)['combined_text']"
   ]
  },
  {
   "cell_type": "code",
   "execution_count": 7,
   "id": "6d581114",
   "metadata": {},
   "outputs": [
    {
     "data": {
      "application/vnd.microsoft.datawrangler.viewer.v0+json": {
       "columns": [
        {
         "name": "index",
         "rawType": "int64",
         "type": "integer"
        },
        {
         "name": "combined_text",
         "rawType": "object",
         "type": "string"
        }
       ],
       "ref": "535fddfc-a359-49f2-8211-9c0f8f25dbf0",
       "rows": [
        [
         "0",
         "As U.S. budget fight looms, Republicans flip their fiscal script WASHINGTON (Reuters) - The head of a conservative Republican faction in the U.S. Congress, who voted this month for a huge expansion of the national debt to pay for tax cuts, called himself a “fiscal conservative” on Sunday and urged budget restraint in 2018. In keeping with a sharp pivot under way among Republicans, U.S. Representative Mark Meadows, speaking on CBS’ “Face the Nation,” drew a hard line on federal spending, which lawmakers are bracing to do battle over in January. When they return from the holidays on Wednesday, lawmakers will begin trying to pass a federal budget in a fight likely to be linked to other issues, such as immigration policy, even as the November congressional election campaigns approach in which Republicans will seek to keep control of Congress. President Donald Trump and his Republicans want a big budget increase in military spending, while Democrats also want proportional increases for non-defense “discretionary” spending on programs that support education, scientific research, infrastructure, public health and environmental protection. “The (Trump) administration has already been willing to say: ‘We’re going to increase non-defense discretionary spending ... by about 7 percent,’” Meadows, chairman of the small but influential House Freedom Caucus, said on the program. “Now, Democrats are saying that’s not enough, we need to give the government a pay raise of 10 to 11 percent. For a fiscal conservative, I don’t see where the rationale is. ... Eventually you run out of other people’s money,” he said. Meadows was among Republicans who voted in late December for their party’s debt-financed tax overhaul, which is expected to balloon the federal budget deficit and add about $1.5 trillion over 10 years to the $20 trillion national debt. “It’s interesting to hear Mark talk about fiscal responsibility,” Democratic U.S. Representative Joseph Crowley said on CBS. Crowley said the Republican tax bill would require the  United States to borrow $1.5 trillion, to be paid off by future generations, to finance tax cuts for corporations and the rich. “This is one of the least ... fiscally responsible bills we’ve ever seen passed in the history of the House of Representatives. I think we’re going to be paying for this for many, many years to come,” Crowley said. Republicans insist the tax package, the biggest U.S. tax overhaul in more than 30 years,  will boost the economy and job growth. House Speaker Paul Ryan, who also supported the tax bill, recently went further than Meadows, making clear in a radio interview that welfare or “entitlement reform,” as the party often calls it, would be a top Republican priority in 2018. In Republican parlance, “entitlement” programs mean food stamps, housing assistance, Medicare and Medicaid health insurance for the elderly, poor and disabled, as well as other programs created by Washington to assist the needy. Democrats seized on Ryan’s early December remarks, saying they showed Republicans would try to pay for their tax overhaul by seeking spending cuts for social programs. But the goals of House Republicans may have to take a back seat to the Senate, where the votes of some Democrats will be needed to approve a budget and prevent a government shutdown. Democrats will use their leverage in the Senate, which Republicans narrowly control, to defend both discretionary non-defense programs and social spending, while tackling the issue of the “Dreamers,” people brought illegally to the country as children. Trump in September put a March 2018 expiration date on the Deferred Action for Childhood Arrivals, or DACA, program, which protects the young immigrants from deportation and provides them with work permits. The president has said in recent Twitter messages he wants funding for his proposed Mexican border wall and other immigration law changes in exchange for agreeing to help the Dreamers. Representative Debbie Dingell told CBS she did not favor linking that issue to other policy objectives, such as wall funding. “We need to do DACA clean,” she said.  On Wednesday, Trump aides will meet with congressional leaders to discuss those issues. That will be followed by a weekend of strategy sessions for Trump and Republican leaders on Jan. 6 and 7, the White House said. Trump was also scheduled to meet on Sunday with Florida Republican Governor Rick Scott, who wants more emergency aid. The House has passed an $81 billion aid package after hurricanes in Florida, Texas and Puerto Rico, and wildfires in California. The package far exceeded the $44 billion requested by the Trump administration. The Senate has not yet voted on the aid.  politicsNews"
        ],
        [
         "1",
         "U.S. military to accept transgender recruits on Monday: Pentagon WASHINGTON (Reuters) - Transgender people will be allowed for the first time to enlist in the U.S. military starting on Monday as ordered by federal courts, the Pentagon said on Friday, after President Donald Trump’s administration decided not to appeal rulings that blocked his transgender ban. Two federal appeals courts, one in Washington and one in Virginia, last week rejected the administration’s request to put on hold orders by lower court judges requiring the military to begin accepting transgender recruits on Jan. 1. A Justice Department official said the administration will not challenge those rulings. “The Department of Defense has announced that it will be releasing an independent study of these issues in the coming weeks. So rather than litigate this interim appeal before that occurs, the administration has decided to wait for DOD’s study and will continue to defend the president’s lawful authority in District Court in the meantime,” the official said, speaking on condition of anonymity. In September, the Pentagon said it had created a panel of senior officials to study how to implement a directive by Trump to prohibit transgender individuals from serving. The Defense Department has until Feb. 21 to submit a plan to Trump. Lawyers representing currently-serving transgender service members and aspiring recruits said they had expected the administration to appeal the rulings to the conservative-majority Supreme Court, but were hoping that would not happen. Pentagon spokeswoman Heather Babb said in a statement: “As mandated by court order, the Department of Defense is prepared to begin accessing transgender applicants for military service Jan. 1. All applicants must meet all accession standards.” Jennifer Levi, a lawyer with gay, lesbian and transgender advocacy group GLAD, called the decision not to appeal “great news.” “I’m hoping it means the government has come to see that there is no way to justify a ban and that it’s not good for the military or our country,” Levi said. Both GLAD and the American Civil Liberties Union represent plaintiffs in the lawsuits filed against the administration. In a move that appealed to his hard-line conservative supporters, Trump announced in July that he would prohibit transgender people from serving in the military, reversing Democratic President Barack Obama’s policy of accepting them. Trump said on Twitter at the time that the military “cannot be burdened with the tremendous medical costs and disruption that transgender in the military would entail.” Four federal judges - in Baltimore, Washington, D.C., Seattle and Riverside, California - have issued rulings blocking Trump’s ban while legal challenges to the Republican president’s policy proceed. The judges said the ban would likely violate the right under the U.S. Constitution to equal protection under the law. The Pentagon on Dec. 8 issued guidelines to recruitment personnel in order to enlist transgender applicants by Jan. 1. The memo outlined medical requirements and specified how the applicants’ sex would be identified and even which undergarments they would wear. The Trump administration previously said in legal papers that the armed forces were not prepared to train thousands of personnel on the medical standards needed to process transgender applicants and might have to accept “some individuals who are not medically fit for service.” The Obama administration had set a deadline of July 1, 2017, to begin accepting transgender recruits. But Trump’s defense secretary, James Mattis, postponed that date to Jan. 1, 2018, which the president’s ban then put off indefinitely. Trump has taken other steps aimed at rolling back transgender rights. In October, his administration said a federal law banning gender-based workplace discrimination does not protect transgender employees, reversing another Obama-era position. In February, Trump rescinded guidance issued by the Obama administration saying that public schools should allow transgender students to use the restroom that corresponds to their gender identity.  politicsNews"
        ],
        [
         "2",
         "Senior U.S. Republican senator: 'Let Mr. Mueller do his job' WASHINGTON (Reuters) - The special counsel investigation of links between Russia and President Trump’s 2016 election campaign should continue without interference in 2018, despite calls from some Trump administration allies and Republican lawmakers to shut it down, a prominent Republican senator said on Sunday. Lindsey Graham, who serves on the Senate armed forces and judiciary committees, said Department of Justice Special Counsel Robert Mueller needs to carry on with his Russia investigation without political interference. “This investigation will go forward. It will be an investigation conducted without political influence,” Graham said on CBS’s Face the Nation news program. “And we all need to let Mr. Mueller do his job. I think he’s the right guy at the right time.”  The question of how Russia may have interfered in the election, and how Trump’s campaign may have had links with or co-ordinated any such effort, has loomed over the White House since Trump took office in January. It shows no sign of receding as Trump prepares for his second year in power, despite intensified rhetoric from some Trump allies in recent weeks accusing Mueller’s team of bias against the Republican president. Trump himself seemed to undercut his supporters in an interview last week with the New York Times in which he said he expected Mueller was “going to be fair.”    Russia’s role in the election and the question of possible links to the Trump campaign are the focus of multiple inquiries in Washington. Three committees of the Senate and the House of Representatives are investigating, as well as Mueller, whose team in May took over an earlier probe launched by the U.S. Federal Bureau of Investigation (FBI). Several members of the Trump campaign and administration have been convicted or indicted in the investigation.  Trump and his allies deny any collusion with Russia during the campaign, and the Kremlin has denied meddling in the election. Graham said he still wants an examination of the FBI’s use of a dossier on links between Trump and Russia that was compiled by a former British spy, Christopher Steele, which prompted Trump allies and some Republicans to question Mueller’s inquiry.   On Saturday, the New York Times reported that it was not that dossier that triggered an early FBI probe, but a tip from former Trump campaign foreign policy adviser George Papadopoulos to an Australian diplomat that Russia had damaging information about former Trump rival Hillary Clinton.  “I want somebody to look at the way the Department of Justice used this dossier. It bothers me greatly the way they used it, and I want somebody to look at it,” Graham said. But he said the Russia investigation must continue. “As a matter of fact, it would hurt us if we ignored it,” he said.  politicsNews"
        ],
        [
         "3",
         "FBI Russia probe helped by Australian diplomat tip-off: NYT WASHINGTON (Reuters) - Trump campaign adviser George Papadopoulos told an Australian diplomat in May 2016 that Russia had political dirt on Democratic presidential candidate Hillary Clinton, the New York Times reported on Saturday. The conversation between Papadopoulos and the diplomat, Alexander Downer, in London was a driving factor behind the FBI’s decision to open a counter-intelligence investigation of Moscow’s contacts with the Trump campaign, the Times reported. Two months after the meeting, Australian officials passed the information that came from Papadopoulos to their American counterparts when leaked Democratic emails began appearing online, according to the newspaper, which cited four current and former U.S. and foreign officials. Besides the information from the Australians, the probe by the Federal Bureau of Investigation was also propelled by intelligence from other friendly governments, including the British and Dutch, the Times said. Papadopoulos, a Chicago-based international energy lawyer, pleaded guilty on Oct. 30 to lying to FBI agents about contacts with people who claimed to have ties to top Russian officials. It was the first criminal charge alleging links between the Trump campaign and Russia. The White House has played down the former aide’s campaign role, saying it was “extremely limited” and that any actions he took would have been on his own. The New York Times, however, reported that Papadopoulos helped set up a meeting between then-candidate Donald Trump and Egyptian President Abdel Fattah al-Sisi and edited the outline of Trump’s first major foreign policy speech in April 2016. The federal investigation, which is now being led by Special Counsel Robert Mueller, has hung over Trump’s White House since he took office almost a year ago. Some Trump allies have recently accused Mueller’s team of being biased against the Republican president. Lawyers for Papadopoulos did not immediately respond to requests by Reuters for comment. Mueller’s office declined to comment. Trump’s White House attorney, Ty Cobb, declined to comment on the New York Times report. “Out of respect for the special counsel and his process, we are not commenting on matters such as this,” he said in a statement. Mueller has charged four Trump associates, including Papadopoulos, in his investigation. Russia has denied interfering in the U.S. election and Trump has said there was no collusion between his campaign and Moscow.  politicsNews"
        ],
        [
         "4",
         "Trump wants Postal Service to charge 'much more' for Amazon shipments SEATTLE/WASHINGTON (Reuters) - President Donald Trump called on the U.S. Postal Service on Friday to charge “much more” to ship packages for Amazon (AMZN.O), picking another fight with an online retail giant he has criticized in the past.     “Why is the United States Post Office, which is losing many billions of dollars a year, while charging Amazon and others so little to deliver their packages, making Amazon richer and the Post Office dumber and poorer? Should be charging MUCH MORE!” Trump wrote on Twitter.  The president’s tweet drew fresh attention to the fragile finances of the Postal Service at a time when tens of millions of parcels have just been shipped all over the country for the holiday season.  The U.S. Postal Service, which runs at a big loss, is an independent agency within the federal government and does not receive tax dollars for operating expenses, according to its website.  Package delivery has become an increasingly important part of its business as the Internet has led to a sharp decline in the amount of first-class letters. The president does not determine postal rates. They are set by the Postal Regulatory Commission, an independent government agency with commissioners selected by the president from both political parties. That panel raised prices on packages by almost 2 percent in November.  Amazon was founded by Jeff Bezos, who remains the chief executive officer of the retail company and is the richest person in the world, according to Bloomberg News. Bezos also owns The Washington Post, a newspaper Trump has repeatedly railed against in his criticisms of the news media. In tweets over the past year, Trump has said the “Amazon Washington Post” fabricated stories. He has said Amazon does not pay sales tax, which is not true, and so hurts other retailers, part of a pattern by the former businessman and reality television host of periodically turning his ire on big American companies since he took office in January. Daniel Ives, a research analyst at GBH Insights, said Trump’s comment could be taken as a warning to the retail giant. However, he said he was not concerned for Amazon. “We do not see any price hikes in the future. However, that is a risk that Amazon is clearly aware of and (it) is building out its distribution (system) aggressively,” he said. Amazon has shown interest in the past in shifting into its own delivery service, including testing drones for deliveries. In 2015, the company spent $11.5 billion on shipping, 46 percent of its total operating expenses that year.  Amazon shares were down 0.86 percent to $1,175.90 by early afternoon. Overall, U.S. stock prices were down slightly on Friday.  Satish Jindel, president of ShipMatrix Inc, which analyzes shipping data, disputed the idea that the Postal Service charges less than United Parcel Service Inc (UPS.N) and FedEx Corp (FDX.N), the other biggest players in the parcel delivery business in the United States. Many customers get lower rates from UPS and FedEx than they would get from the post office for comparable services, he said. The Postal Service delivers about 62 percent of Amazon packages, for about 3.5 to 4 million a day during the current peak year-end holiday shipping season, Jindel said. The Seattle-based company and the post office have an agreement in which mail carriers take Amazon packages on the last leg of their journeys, from post offices to customers’ doorsteps. Amazon’s No. 2 carrier is UPS, at 21 percent, and FedEx is third, with 8 percent or so, according to Jindel. Trump’s comment tapped into a debate over whether Postal Service pricing has kept pace with the rise of e-commerce, which has flooded the mail with small packages.Private companies like UPS have long claimed the current system unfairly undercuts their business. Steve Gaut, a spokesman for UPS, noted that the company values its “productive relationship” with the postal service, but that it has filed with the Postal Regulatory Commission its concerns about the postal service’s methods for covering costs. Representatives for Amazon, the White House, the U.S. Postal Service and FedEx declined comment or were not immediately available for comment on Trump’s tweet. According to its annual report, the Postal Service lost $2.74 billion this year, and its deficit has ballooned to $61.86 billion.  While the Postal Service’s revenue for first class mail, marketing mail and periodicals is flat or declining, revenue from package delivery is up 44 percent since 2014 to $19.5 billion in the fiscal year ended Sept. 30, 2017. But it also lost about $2 billion in revenue when a temporary surcharge expired in April 2016. According to a Government Accountability Office report in February, the service is facing growing personnel expenses, particularly $73.4 billion in unfunded pension and benefits liabilities. The Postal Service has not announced any plans to cut costs. By law, the Postal Service has to set prices for package delivery to cover the costs attributable to that service. But the postal service allocates only 5.5 percent of its total costs to its business of shipping packages even though that line of business is 28 percent of its total revenue.  politicsNews"
        ]
       ],
       "shape": {
        "columns": 1,
        "rows": 5
       }
      },
      "text/plain": [
       "0    As U.S. budget fight looms, Republicans flip t...\n",
       "1    U.S. military to accept transgender recruits o...\n",
       "2    Senior U.S. Republican senator: 'Let Mr. Muell...\n",
       "3    FBI Russia probe helped by Australian diplomat...\n",
       "4    Trump wants Postal Service to charge 'much mor...\n",
       "Name: combined_text, dtype: object"
      ]
     },
     "execution_count": 7,
     "metadata": {},
     "output_type": "execute_result"
    }
   ],
   "source": [
    "X.head()"
   ]
  },
  {
   "cell_type": "markdown",
   "id": "fd67c247",
   "metadata": {},
   "source": [
    "# 3. Text preprocessing"
   ]
  },
  {
   "cell_type": "markdown",
   "id": "d7665c83",
   "metadata": {},
   "source": [
    "## 3.1 Train-test split\n",
    "\n",
    "We will split the data into training and testing sets. The training set will be used to train the model, while the testing set will be used to evaluate its performance."
   ]
  },
  {
   "cell_type": "code",
   "execution_count": 8,
   "id": "33d2aa65",
   "metadata": {},
   "outputs": [],
   "source": [
    "from sklearn.model_selection import train_test_split\n",
    "\n",
    "# Splitting the dataset into train and test sets\n",
    "X_train, X_test, y_train, y_test = train_test_split(X, y, test_size=0.1, random_state=42)"
   ]
  },
  {
   "cell_type": "markdown",
   "id": "b4f9352c",
   "metadata": {},
   "source": [
    "## 3.2 Pre-processing pipeline"
   ]
  },
  {
   "cell_type": "code",
   "execution_count": 9,
   "id": "08ff24d6",
   "metadata": {},
   "outputs": [],
   "source": [
    "import re\n",
    "import nltk\n",
    "from nltk.tokenize import word_tokenize\n",
    "from nltk.corpus import stopwords, wordnet\n",
    "from nltk.stem import WordNetLemmatizer\n",
    "\n",
    "stop_words = set(stopwords.words(\"english\"))\n",
    "lemmatizer = WordNetLemmatizer()\n",
    "\n",
    "def pre_token_cleanup(text):\n",
    "    text = re.sub(r'<.*?>', '', text)\n",
    "    text = re.sub(r'http\\S+|www\\S+|https\\S+', '', text)\n",
    "    text = text.encode('ascii', 'ignore').decode('utf-8')\n",
    "    return text\n",
    "\n",
    "def get_wordnet_pos(word):\n",
    "    tag = nltk.pos_tag([word])[0][1][0]\n",
    "    tag_dict = {\"J\": wordnet.ADJ, \"N\": wordnet.NOUN, \"V\": wordnet.VERB, \"R\": wordnet.ADV}\n",
    "    return tag_dict.get(tag, wordnet.NOUN)\n",
    "\n",
    "def preprocessing_pipeline(text):\n",
    "    # Pre-token cleaning\n",
    "    text = pre_token_cleanup(text)\n",
    "    \n",
    "    # Tokenization\n",
    "    tokens = word_tokenize(text, language=\"english\")\n",
    "    \n",
    "    # Cleaning steps\n",
    "    tokens = [word.lower() for word in tokens if word.isalpha()]\n",
    "    tokens = [word for word in tokens if word not in stop_words]\n",
    "    \n",
    "    # Lemmatization\n",
    "    tokens = [lemmatizer.lemmatize(word, get_wordnet_pos(word)) for word in tokens]\n",
    "    \n",
    "    return tokens"
   ]
  },
  {
   "cell_type": "markdown",
   "id": "c1987e8b",
   "metadata": {},
   "source": [
    "# 4. Vectorization (TF_IDF)"
   ]
  },
  {
   "cell_type": "markdown",
   "id": "3be0732d",
   "metadata": {},
   "source": [
    "## 4.1 Instantiation\n",
    "\n",
    "We will use the TF-IDF (Term Frequency-Inverse Document Frequency) method to convert the text data into numerical vectors. This method helps in representing the importance of each word in the document relative to the entire corpus."
   ]
  },
  {
   "cell_type": "code",
   "execution_count": 10,
   "id": "70280ae7",
   "metadata": {},
   "outputs": [],
   "source": [
    "from sklearn.feature_extraction.text import TfidfVectorizer\n",
    "\n",
    "def identity(x): return x # We don't want to change the data\n",
    "\n",
    "# We create the TfidfVectorizer. No need for the stop words since we already removed them.\n",
    "tfidf_vectorizer = TfidfVectorizer(\n",
    "    analyzer=identity,\n",
    "    min_df=0.01,\n",
    "    max_df=0.9,\n",
    "    ngram_range=(1, 4), # we use quadrigrams because we have a lot of words\n",
    ")"
   ]
  },
  {
   "cell_type": "markdown",
   "id": "665a4750",
   "metadata": {},
   "source": [
    "## 4.2 Pre-process training data"
   ]
  },
  {
   "cell_type": "code",
   "execution_count": 11,
   "id": "c161ca87",
   "metadata": {},
   "outputs": [],
   "source": [
    "X_train = X_train.apply(preprocessing_pipeline)"
   ]
  },
  {
   "cell_type": "markdown",
   "id": "a88cd1be",
   "metadata": {},
   "source": [
    "## 4.3 Fit the training data"
   ]
  },
  {
   "cell_type": "code",
   "execution_count": 12,
   "id": "db0670a7",
   "metadata": {},
   "outputs": [
    {
     "name": "stderr",
     "output_type": "stream",
     "text": [
      "/Users/joachimjasmin/.pyenv/versions/3.12.10/lib/python3.12/site-packages/sklearn/feature_extraction/text.py:533: UserWarning: The parameter 'ngram_range' will not be used since 'analyzer' is callable'\n",
      "  warnings.warn(\n"
     ]
    },
    {
     "data": {
      "text/html": [
       "<style>#sk-container-id-1 {\n",
       "  /* Definition of color scheme common for light and dark mode */\n",
       "  --sklearn-color-text: #000;\n",
       "  --sklearn-color-text-muted: #666;\n",
       "  --sklearn-color-line: gray;\n",
       "  /* Definition of color scheme for unfitted estimators */\n",
       "  --sklearn-color-unfitted-level-0: #fff5e6;\n",
       "  --sklearn-color-unfitted-level-1: #f6e4d2;\n",
       "  --sklearn-color-unfitted-level-2: #ffe0b3;\n",
       "  --sklearn-color-unfitted-level-3: chocolate;\n",
       "  /* Definition of color scheme for fitted estimators */\n",
       "  --sklearn-color-fitted-level-0: #f0f8ff;\n",
       "  --sklearn-color-fitted-level-1: #d4ebff;\n",
       "  --sklearn-color-fitted-level-2: #b3dbfd;\n",
       "  --sklearn-color-fitted-level-3: cornflowerblue;\n",
       "\n",
       "  /* Specific color for light theme */\n",
       "  --sklearn-color-text-on-default-background: var(--sg-text-color, var(--theme-code-foreground, var(--jp-content-font-color1, black)));\n",
       "  --sklearn-color-background: var(--sg-background-color, var(--theme-background, var(--jp-layout-color0, white)));\n",
       "  --sklearn-color-border-box: var(--sg-text-color, var(--theme-code-foreground, var(--jp-content-font-color1, black)));\n",
       "  --sklearn-color-icon: #696969;\n",
       "\n",
       "  @media (prefers-color-scheme: dark) {\n",
       "    /* Redefinition of color scheme for dark theme */\n",
       "    --sklearn-color-text-on-default-background: var(--sg-text-color, var(--theme-code-foreground, var(--jp-content-font-color1, white)));\n",
       "    --sklearn-color-background: var(--sg-background-color, var(--theme-background, var(--jp-layout-color0, #111)));\n",
       "    --sklearn-color-border-box: var(--sg-text-color, var(--theme-code-foreground, var(--jp-content-font-color1, white)));\n",
       "    --sklearn-color-icon: #878787;\n",
       "  }\n",
       "}\n",
       "\n",
       "#sk-container-id-1 {\n",
       "  color: var(--sklearn-color-text);\n",
       "}\n",
       "\n",
       "#sk-container-id-1 pre {\n",
       "  padding: 0;\n",
       "}\n",
       "\n",
       "#sk-container-id-1 input.sk-hidden--visually {\n",
       "  border: 0;\n",
       "  clip: rect(1px 1px 1px 1px);\n",
       "  clip: rect(1px, 1px, 1px, 1px);\n",
       "  height: 1px;\n",
       "  margin: -1px;\n",
       "  overflow: hidden;\n",
       "  padding: 0;\n",
       "  position: absolute;\n",
       "  width: 1px;\n",
       "}\n",
       "\n",
       "#sk-container-id-1 div.sk-dashed-wrapped {\n",
       "  border: 1px dashed var(--sklearn-color-line);\n",
       "  margin: 0 0.4em 0.5em 0.4em;\n",
       "  box-sizing: border-box;\n",
       "  padding-bottom: 0.4em;\n",
       "  background-color: var(--sklearn-color-background);\n",
       "}\n",
       "\n",
       "#sk-container-id-1 div.sk-container {\n",
       "  /* jupyter's `normalize.less` sets `[hidden] { display: none; }`\n",
       "     but bootstrap.min.css set `[hidden] { display: none !important; }`\n",
       "     so we also need the `!important` here to be able to override the\n",
       "     default hidden behavior on the sphinx rendered scikit-learn.org.\n",
       "     See: https://github.com/scikit-learn/scikit-learn/issues/21755 */\n",
       "  display: inline-block !important;\n",
       "  position: relative;\n",
       "}\n",
       "\n",
       "#sk-container-id-1 div.sk-text-repr-fallback {\n",
       "  display: none;\n",
       "}\n",
       "\n",
       "div.sk-parallel-item,\n",
       "div.sk-serial,\n",
       "div.sk-item {\n",
       "  /* draw centered vertical line to link estimators */\n",
       "  background-image: linear-gradient(var(--sklearn-color-text-on-default-background), var(--sklearn-color-text-on-default-background));\n",
       "  background-size: 2px 100%;\n",
       "  background-repeat: no-repeat;\n",
       "  background-position: center center;\n",
       "}\n",
       "\n",
       "/* Parallel-specific style estimator block */\n",
       "\n",
       "#sk-container-id-1 div.sk-parallel-item::after {\n",
       "  content: \"\";\n",
       "  width: 100%;\n",
       "  border-bottom: 2px solid var(--sklearn-color-text-on-default-background);\n",
       "  flex-grow: 1;\n",
       "}\n",
       "\n",
       "#sk-container-id-1 div.sk-parallel {\n",
       "  display: flex;\n",
       "  align-items: stretch;\n",
       "  justify-content: center;\n",
       "  background-color: var(--sklearn-color-background);\n",
       "  position: relative;\n",
       "}\n",
       "\n",
       "#sk-container-id-1 div.sk-parallel-item {\n",
       "  display: flex;\n",
       "  flex-direction: column;\n",
       "}\n",
       "\n",
       "#sk-container-id-1 div.sk-parallel-item:first-child::after {\n",
       "  align-self: flex-end;\n",
       "  width: 50%;\n",
       "}\n",
       "\n",
       "#sk-container-id-1 div.sk-parallel-item:last-child::after {\n",
       "  align-self: flex-start;\n",
       "  width: 50%;\n",
       "}\n",
       "\n",
       "#sk-container-id-1 div.sk-parallel-item:only-child::after {\n",
       "  width: 0;\n",
       "}\n",
       "\n",
       "/* Serial-specific style estimator block */\n",
       "\n",
       "#sk-container-id-1 div.sk-serial {\n",
       "  display: flex;\n",
       "  flex-direction: column;\n",
       "  align-items: center;\n",
       "  background-color: var(--sklearn-color-background);\n",
       "  padding-right: 1em;\n",
       "  padding-left: 1em;\n",
       "}\n",
       "\n",
       "\n",
       "/* Toggleable style: style used for estimator/Pipeline/ColumnTransformer box that is\n",
       "clickable and can be expanded/collapsed.\n",
       "- Pipeline and ColumnTransformer use this feature and define the default style\n",
       "- Estimators will overwrite some part of the style using the `sk-estimator` class\n",
       "*/\n",
       "\n",
       "/* Pipeline and ColumnTransformer style (default) */\n",
       "\n",
       "#sk-container-id-1 div.sk-toggleable {\n",
       "  /* Default theme specific background. It is overwritten whether we have a\n",
       "  specific estimator or a Pipeline/ColumnTransformer */\n",
       "  background-color: var(--sklearn-color-background);\n",
       "}\n",
       "\n",
       "/* Toggleable label */\n",
       "#sk-container-id-1 label.sk-toggleable__label {\n",
       "  cursor: pointer;\n",
       "  display: flex;\n",
       "  width: 100%;\n",
       "  margin-bottom: 0;\n",
       "  padding: 0.5em;\n",
       "  box-sizing: border-box;\n",
       "  text-align: center;\n",
       "  align-items: start;\n",
       "  justify-content: space-between;\n",
       "  gap: 0.5em;\n",
       "}\n",
       "\n",
       "#sk-container-id-1 label.sk-toggleable__label .caption {\n",
       "  font-size: 0.6rem;\n",
       "  font-weight: lighter;\n",
       "  color: var(--sklearn-color-text-muted);\n",
       "}\n",
       "\n",
       "#sk-container-id-1 label.sk-toggleable__label-arrow:before {\n",
       "  /* Arrow on the left of the label */\n",
       "  content: \"▸\";\n",
       "  float: left;\n",
       "  margin-right: 0.25em;\n",
       "  color: var(--sklearn-color-icon);\n",
       "}\n",
       "\n",
       "#sk-container-id-1 label.sk-toggleable__label-arrow:hover:before {\n",
       "  color: var(--sklearn-color-text);\n",
       "}\n",
       "\n",
       "/* Toggleable content - dropdown */\n",
       "\n",
       "#sk-container-id-1 div.sk-toggleable__content {\n",
       "  max-height: 0;\n",
       "  max-width: 0;\n",
       "  overflow: hidden;\n",
       "  text-align: left;\n",
       "  /* unfitted */\n",
       "  background-color: var(--sklearn-color-unfitted-level-0);\n",
       "}\n",
       "\n",
       "#sk-container-id-1 div.sk-toggleable__content.fitted {\n",
       "  /* fitted */\n",
       "  background-color: var(--sklearn-color-fitted-level-0);\n",
       "}\n",
       "\n",
       "#sk-container-id-1 div.sk-toggleable__content pre {\n",
       "  margin: 0.2em;\n",
       "  border-radius: 0.25em;\n",
       "  color: var(--sklearn-color-text);\n",
       "  /* unfitted */\n",
       "  background-color: var(--sklearn-color-unfitted-level-0);\n",
       "}\n",
       "\n",
       "#sk-container-id-1 div.sk-toggleable__content.fitted pre {\n",
       "  /* unfitted */\n",
       "  background-color: var(--sklearn-color-fitted-level-0);\n",
       "}\n",
       "\n",
       "#sk-container-id-1 input.sk-toggleable__control:checked~div.sk-toggleable__content {\n",
       "  /* Expand drop-down */\n",
       "  max-height: 200px;\n",
       "  max-width: 100%;\n",
       "  overflow: auto;\n",
       "}\n",
       "\n",
       "#sk-container-id-1 input.sk-toggleable__control:checked~label.sk-toggleable__label-arrow:before {\n",
       "  content: \"▾\";\n",
       "}\n",
       "\n",
       "/* Pipeline/ColumnTransformer-specific style */\n",
       "\n",
       "#sk-container-id-1 div.sk-label input.sk-toggleable__control:checked~label.sk-toggleable__label {\n",
       "  color: var(--sklearn-color-text);\n",
       "  background-color: var(--sklearn-color-unfitted-level-2);\n",
       "}\n",
       "\n",
       "#sk-container-id-1 div.sk-label.fitted input.sk-toggleable__control:checked~label.sk-toggleable__label {\n",
       "  background-color: var(--sklearn-color-fitted-level-2);\n",
       "}\n",
       "\n",
       "/* Estimator-specific style */\n",
       "\n",
       "/* Colorize estimator box */\n",
       "#sk-container-id-1 div.sk-estimator input.sk-toggleable__control:checked~label.sk-toggleable__label {\n",
       "  /* unfitted */\n",
       "  background-color: var(--sklearn-color-unfitted-level-2);\n",
       "}\n",
       "\n",
       "#sk-container-id-1 div.sk-estimator.fitted input.sk-toggleable__control:checked~label.sk-toggleable__label {\n",
       "  /* fitted */\n",
       "  background-color: var(--sklearn-color-fitted-level-2);\n",
       "}\n",
       "\n",
       "#sk-container-id-1 div.sk-label label.sk-toggleable__label,\n",
       "#sk-container-id-1 div.sk-label label {\n",
       "  /* The background is the default theme color */\n",
       "  color: var(--sklearn-color-text-on-default-background);\n",
       "}\n",
       "\n",
       "/* On hover, darken the color of the background */\n",
       "#sk-container-id-1 div.sk-label:hover label.sk-toggleable__label {\n",
       "  color: var(--sklearn-color-text);\n",
       "  background-color: var(--sklearn-color-unfitted-level-2);\n",
       "}\n",
       "\n",
       "/* Label box, darken color on hover, fitted */\n",
       "#sk-container-id-1 div.sk-label.fitted:hover label.sk-toggleable__label.fitted {\n",
       "  color: var(--sklearn-color-text);\n",
       "  background-color: var(--sklearn-color-fitted-level-2);\n",
       "}\n",
       "\n",
       "/* Estimator label */\n",
       "\n",
       "#sk-container-id-1 div.sk-label label {\n",
       "  font-family: monospace;\n",
       "  font-weight: bold;\n",
       "  display: inline-block;\n",
       "  line-height: 1.2em;\n",
       "}\n",
       "\n",
       "#sk-container-id-1 div.sk-label-container {\n",
       "  text-align: center;\n",
       "}\n",
       "\n",
       "/* Estimator-specific */\n",
       "#sk-container-id-1 div.sk-estimator {\n",
       "  font-family: monospace;\n",
       "  border: 1px dotted var(--sklearn-color-border-box);\n",
       "  border-radius: 0.25em;\n",
       "  box-sizing: border-box;\n",
       "  margin-bottom: 0.5em;\n",
       "  /* unfitted */\n",
       "  background-color: var(--sklearn-color-unfitted-level-0);\n",
       "}\n",
       "\n",
       "#sk-container-id-1 div.sk-estimator.fitted {\n",
       "  /* fitted */\n",
       "  background-color: var(--sklearn-color-fitted-level-0);\n",
       "}\n",
       "\n",
       "/* on hover */\n",
       "#sk-container-id-1 div.sk-estimator:hover {\n",
       "  /* unfitted */\n",
       "  background-color: var(--sklearn-color-unfitted-level-2);\n",
       "}\n",
       "\n",
       "#sk-container-id-1 div.sk-estimator.fitted:hover {\n",
       "  /* fitted */\n",
       "  background-color: var(--sklearn-color-fitted-level-2);\n",
       "}\n",
       "\n",
       "/* Specification for estimator info (e.g. \"i\" and \"?\") */\n",
       "\n",
       "/* Common style for \"i\" and \"?\" */\n",
       "\n",
       ".sk-estimator-doc-link,\n",
       "a:link.sk-estimator-doc-link,\n",
       "a:visited.sk-estimator-doc-link {\n",
       "  float: right;\n",
       "  font-size: smaller;\n",
       "  line-height: 1em;\n",
       "  font-family: monospace;\n",
       "  background-color: var(--sklearn-color-background);\n",
       "  border-radius: 1em;\n",
       "  height: 1em;\n",
       "  width: 1em;\n",
       "  text-decoration: none !important;\n",
       "  margin-left: 0.5em;\n",
       "  text-align: center;\n",
       "  /* unfitted */\n",
       "  border: var(--sklearn-color-unfitted-level-1) 1pt solid;\n",
       "  color: var(--sklearn-color-unfitted-level-1);\n",
       "}\n",
       "\n",
       ".sk-estimator-doc-link.fitted,\n",
       "a:link.sk-estimator-doc-link.fitted,\n",
       "a:visited.sk-estimator-doc-link.fitted {\n",
       "  /* fitted */\n",
       "  border: var(--sklearn-color-fitted-level-1) 1pt solid;\n",
       "  color: var(--sklearn-color-fitted-level-1);\n",
       "}\n",
       "\n",
       "/* On hover */\n",
       "div.sk-estimator:hover .sk-estimator-doc-link:hover,\n",
       ".sk-estimator-doc-link:hover,\n",
       "div.sk-label-container:hover .sk-estimator-doc-link:hover,\n",
       ".sk-estimator-doc-link:hover {\n",
       "  /* unfitted */\n",
       "  background-color: var(--sklearn-color-unfitted-level-3);\n",
       "  color: var(--sklearn-color-background);\n",
       "  text-decoration: none;\n",
       "}\n",
       "\n",
       "div.sk-estimator.fitted:hover .sk-estimator-doc-link.fitted:hover,\n",
       ".sk-estimator-doc-link.fitted:hover,\n",
       "div.sk-label-container:hover .sk-estimator-doc-link.fitted:hover,\n",
       ".sk-estimator-doc-link.fitted:hover {\n",
       "  /* fitted */\n",
       "  background-color: var(--sklearn-color-fitted-level-3);\n",
       "  color: var(--sklearn-color-background);\n",
       "  text-decoration: none;\n",
       "}\n",
       "\n",
       "/* Span, style for the box shown on hovering the info icon */\n",
       ".sk-estimator-doc-link span {\n",
       "  display: none;\n",
       "  z-index: 9999;\n",
       "  position: relative;\n",
       "  font-weight: normal;\n",
       "  right: .2ex;\n",
       "  padding: .5ex;\n",
       "  margin: .5ex;\n",
       "  width: min-content;\n",
       "  min-width: 20ex;\n",
       "  max-width: 50ex;\n",
       "  color: var(--sklearn-color-text);\n",
       "  box-shadow: 2pt 2pt 4pt #999;\n",
       "  /* unfitted */\n",
       "  background: var(--sklearn-color-unfitted-level-0);\n",
       "  border: .5pt solid var(--sklearn-color-unfitted-level-3);\n",
       "}\n",
       "\n",
       ".sk-estimator-doc-link.fitted span {\n",
       "  /* fitted */\n",
       "  background: var(--sklearn-color-fitted-level-0);\n",
       "  border: var(--sklearn-color-fitted-level-3);\n",
       "}\n",
       "\n",
       ".sk-estimator-doc-link:hover span {\n",
       "  display: block;\n",
       "}\n",
       "\n",
       "/* \"?\"-specific style due to the `<a>` HTML tag */\n",
       "\n",
       "#sk-container-id-1 a.estimator_doc_link {\n",
       "  float: right;\n",
       "  font-size: 1rem;\n",
       "  line-height: 1em;\n",
       "  font-family: monospace;\n",
       "  background-color: var(--sklearn-color-background);\n",
       "  border-radius: 1rem;\n",
       "  height: 1rem;\n",
       "  width: 1rem;\n",
       "  text-decoration: none;\n",
       "  /* unfitted */\n",
       "  color: var(--sklearn-color-unfitted-level-1);\n",
       "  border: var(--sklearn-color-unfitted-level-1) 1pt solid;\n",
       "}\n",
       "\n",
       "#sk-container-id-1 a.estimator_doc_link.fitted {\n",
       "  /* fitted */\n",
       "  border: var(--sklearn-color-fitted-level-1) 1pt solid;\n",
       "  color: var(--sklearn-color-fitted-level-1);\n",
       "}\n",
       "\n",
       "/* On hover */\n",
       "#sk-container-id-1 a.estimator_doc_link:hover {\n",
       "  /* unfitted */\n",
       "  background-color: var(--sklearn-color-unfitted-level-3);\n",
       "  color: var(--sklearn-color-background);\n",
       "  text-decoration: none;\n",
       "}\n",
       "\n",
       "#sk-container-id-1 a.estimator_doc_link.fitted:hover {\n",
       "  /* fitted */\n",
       "  background-color: var(--sklearn-color-fitted-level-3);\n",
       "}\n",
       "</style><div id=\"sk-container-id-1\" class=\"sk-top-container\"><div class=\"sk-text-repr-fallback\"><pre>TfidfVectorizer(analyzer=&lt;function identity at 0x11555d580&gt;, max_df=0.9,\n",
       "                min_df=0.01, ngram_range=(1, 4))</pre><b>In a Jupyter environment, please rerun this cell to show the HTML representation or trust the notebook. <br />On GitHub, the HTML representation is unable to render, please try loading this page with nbviewer.org.</b></div><div class=\"sk-container\" hidden><div class=\"sk-item\"><div class=\"sk-estimator fitted sk-toggleable\"><input class=\"sk-toggleable__control sk-hidden--visually\" id=\"sk-estimator-id-1\" type=\"checkbox\" checked><label for=\"sk-estimator-id-1\" class=\"sk-toggleable__label fitted sk-toggleable__label-arrow\"><div><div>TfidfVectorizer</div></div><div><a class=\"sk-estimator-doc-link fitted\" rel=\"noreferrer\" target=\"_blank\" href=\"https://scikit-learn.org/1.6/modules/generated/sklearn.feature_extraction.text.TfidfVectorizer.html\">?<span>Documentation for TfidfVectorizer</span></a><span class=\"sk-estimator-doc-link fitted\">i<span>Fitted</span></span></div></label><div class=\"sk-toggleable__content fitted\"><pre>TfidfVectorizer(analyzer=&lt;function identity at 0x11555d580&gt;, max_df=0.9,\n",
       "                min_df=0.01, ngram_range=(1, 4))</pre></div> </div></div></div></div>"
      ],
      "text/plain": [
       "TfidfVectorizer(analyzer=<function identity at 0x11555d580>, max_df=0.9,\n",
       "                min_df=0.01, ngram_range=(1, 4))"
      ]
     },
     "execution_count": 12,
     "metadata": {},
     "output_type": "execute_result"
    }
   ],
   "source": [
    "# We fit the pre-processed training data\n",
    "tfidf_vectorizer.fit(X_train)"
   ]
  },
  {
   "cell_type": "markdown",
   "id": "937cabaf",
   "metadata": {},
   "source": [
    "## 4.4 Transform the training data"
   ]
  },
  {
   "cell_type": "code",
   "execution_count": 13,
   "id": "2c03c1fe",
   "metadata": {},
   "outputs": [],
   "source": [
    "# We transform the training data to tfidf matrix\n",
    "tfidf_vect_train = tfidf_vectorizer.transform(X_train)"
   ]
  },
  {
   "cell_type": "markdown",
   "id": "8b0399c9",
   "metadata": {},
   "source": [
    "## 4.5 Visualize the TF-IDF matrix"
   ]
  },
  {
   "cell_type": "code",
   "execution_count": 14,
   "id": "b76d8280",
   "metadata": {},
   "outputs": [
    {
     "name": "stdout",
     "output_type": "stream",
     "text": [
      "Final dictionary => 2504 words\n",
      "Dictionary => {'break': 269, 'first': 891, 'charge': 363, 'file': 877, 'russia': 1941, 'investigation': 1169, 'special': 2095, 'counsel': 518, 'robert': 1925, 'mueller': 1440, 'appear': 129, 'turn': 2336, 'something': 2076, 'scandal': 1960, 'official': 1516, 'accord': 11, 'cnn': 410, 'someone': 2075, 'may': 1364, 'well': 2444, 'take': 2213, 'custody': 555, 'day': 573, 'house': 1074, 'senate': 1996, 'seem': 1991, 'throw': 2269, 'republican': 1871, 'include': 1115, 'trump': 2329, 'call': 308, 'hillary': 1049, 'one': 1525, 'still': 2138, 'exclusive': 809, 'story': 2144, 'currently': 554, 'order': 1542, 'federal': 863, 'judge': 1218, 'office': 1514, 'would': 2482, 'comment': 429, 'however': 1076, 'say': 1957, 'plan': 1635, 'prepared': 1684, 'friday': 937, 'anyone': 120, 'soon': 2079, 'monday': 1422, 'source': 2084, 'unclear': 2352, 'appoint': 133, 'shortly': 2035, 'fire': 889, 'fbi': 858, 'director': 652, 'james': 1193, 'comey': 426, 'original': 1546, 'whether': 2449, 'justice': 1223, 'team': 2223, 'interview': 1164, 'everyone': 798, 'paul': 1597, 'michael': 1390, 'flynn': 905, 'know': 1239, 'tie': 2274, 'also': 91, 'look': 1320, 'meeting': 1379, 'jared': 1197, 'russian': 1942, 'attorney': 175, 'claimed': 394, 'damage': 562, 'information': 1132, 'clinton': 404, 'even': 792, 'love': 1325, 'lie': 1294, 'release': 1844, 'email': 738, 'prove': 1746, 'clear': 400, 'sort': 2081, 'possibility': 1668, 'clearly': 401, 'start': 2125, 'fall': 847, 'increasingly': 1118, 'focus': 906, 'democrat': 606, 'show': 2038, 'run': 1939, 'ever': 795, 'image': 1097, 'via': 2388, 'medium': 1377, 'news': 1478, 'donald': 684, 'ask': 157, 'tweet': 2338, 'former': 919, 'testimony': 2245, 'congress': 468, 'task': 2218, 'apparently': 127, 'give': 972, 'opening': 1530, 'statement': 2127, 'wednesday': 2439, 'light': 1297, 'dinner': 645, 'demand': 604, 'need': 1465, 'expect': 817, 'january': 1194, 'detail': 629, 'february': 861, 'mike': 1397, 'discussion': 662, 'president': 1689, 'return': 1901, 'topic': 2289, 'good': 980, 'guy': 1006, 'lot': 1324, 'repeat': 1859, 'do': 676, 'anything': 121, 'wrong': 2487, 'mislead': 1409, 'vice': 2389, 'hope': 1063, 'see': 1989, 'way': 2431, 'let': 1286, 'go': 974, 'certainly': 348, 'sound': 2083, 'like': 1298, 'guilty': 1003, 'try': 2332, 'testify': 2244, 'thursday': 2271, 'stuff': 2163, 'talk': 2214, 'hear': 1033, 'nothing': 1493, 'happens': 1017, 'job': 1206, 'june': 1222, 'far': 853, 'kind': 1234, 'influence': 1129, 'father': 855, 'year': 2491, 'tell': 2230, 'exactly': 804, 'mean': 1369, 'two': 2341, 'different': 643, 'thing': 2256, 'think': 2257, 'user': 2376, 'quick': 1768, 'eat': 716, 'work': 2475, 'son': 2078, 'word': 2474, 'actually': 26, 'come': 425, 'mouth': 1434, 'condition': 459, 'want': 2419, 'david': 572, 'liar': 1289, 'head': 1028, 'multiple': 1441, 'time': 2277, 'hold': 1055, 'ignore': 1091, 'fact': 839, 'maybe': 1365, 'adult': 36, 'hop': 1062, 'drop': 703, 'adam': 28, 'boy': 263, 'ceo': 345, 'standard': 2123, 'lee': 1275, 'kid': 1231, 'realdonaldtrump': 1800, 'potus': 1674, 'suggest': 2175, 'eric': 776, 'use': 2375, 'charity': 364, 'money': 1423, 'put': 1761, 'pocket': 1648, 'chris': 378, 'prosecute': 1737, 'along': 88, 'every': 796, 'single': 2054, 'little': 1307, 'refuse': 1825, 'prison': 1705, 'white': 2451, 'screenshot': 1975, 'launch': 1260, 'effort': 725, 'defeat': 593, 'video': 2392, 'social': 2067, 'message': 1386, 'heard': 1034, 'especially': 780, 'election': 730, 'sit': 2056, 'big': 234, 'name': 1446, 'industry': 1128, 'get': 968, 'save': 1955, 'described': 620, 'production': 1716, 'company': 441, 'idea': 1087, 'voting': 2410, 'necessary': 1464, 'act': 19, 'voice': 2407, 'nation': 1450, 'must': 1444, 'democracy': 605, 'commit': 434, 'fight': 874, 'honest': 1060, 'keep': 1225, 'citizen': 388, 'vote': 2408, 'remind': 1854, 'compromise': 452, 'set': 2015, 'representative': 1869, 'people': 1609, 'hire': 1050, 'serve': 2011, 'make': 1337, 'sense': 2000, 'played': 1641, 'movie': 1437, 'important': 1107, 'absolutely': 6, 'local': 1312, 'level': 1288, 'lead': 1266, 'supreme': 2189, 'court': 527, 'point': 1649, 'tip': 2278, 'home': 1058, 'party': 1588, 'bad': 194, 'dangerous': 566, 'allows': 84, 'gain': 951, 'power': 1676, 'visit': 2404, 'register': 1831, 'sure': 2190, 'feature': 860, 'photo': 1628, 'kevin': 1228, 'protest': 1743, 'washington': 2425, 'reuters': 1902, 'criticism': 542, 'national': 1451, 'league': 1270, 'player': 1642, 'concern': 454, 'told': 2283, 'journalist': 1217, 'tuesday': 2333, 'place': 1634, 'moment': 1421, 'add': 29, 'later': 1257, 'hand': 1013, 'politicsnews': 1657, 'teacher': 2222, 'muslim': 1443, 'student': 2161, 'threaten': 2264, 'never': 1475, 'young': 2498, 'primary': 1700, 'school': 1965, 'australia': 179, 'violence': 2399, 'islamic': 1183, 'prompt': 1731, 'quit': 1770, 'daily': 561, 'violent': 2400, 'threat': 2263, 'pressure': 1692, 'others': 1548, 'read': 1795, 'public': 1751, 'newspaper': 1479, 'allege': 80, 'three': 2266, 'staff': 2117, 'member': 1380, 'leave': 1274, 'stress': 2153, 'receive': 1808, 'award': 186, 'female': 870, 'reportedly': 1865, 'much': 1439, 'claim': 393, 'death': 580, 'family': 850, 'numerous': 1498, 'complaint': 445, 'back': 190, 'behavior': 219, 'class': 397, 'example': 806, 'abuse': 7, 'stop': 2141, 'hang': 1015, 'syrian': 2208, 'flag': 896, 'another': 115, 'push': 1760, 'begin': 217, 'march': 1347, 'around': 148, 'chant': 360, 'restrict': 1896, 'woman': 2471, 'report': 1864, 'incident': 1114, 'child': 370, 'bully': 294, 'religion': 1847, 'group': 995, 'stood': 2140, 'girl': 971, 'horrible': 1066, 'dog': 680, 'meanwhile': 1372, 'county': 523, 'allegedly': 81, 'rule': 1937, 'favor': 856, 'battle': 210, 'u': 2344, 'mexico': 1389, 'long': 1317, 'last': 1255, 'weekend': 2441, 'mexican': 1388, 'sat': 1952, 'previous': 1697, 'kill': 1232, 'laid': 1250, 'play': 1640, 'fan': 852, 'might': 1394, 'fill': 879, 'chance': 356, 'game': 952, 'pull': 1754, 'season': 1980, 'stand': 2122, 'ben': 224, 'november': 1495, 'field': 872, 'throughout': 2268, 'crowd': 546, 'rise': 1920, 'since': 2053, 'sideline': 2042, 'attack': 170, 'ran': 1782, 'onto': 1528, 'broke': 283, 'slow': 2063, 'respect': 1888, 'tension': 2234, 'cbs': 339, 'night': 1482, 'city': 390, 'october': 1509, 'chief': 369, 'embarrass': 739, 'recent': 1809, 'thought': 2261, 'reflect': 1821, 'understand': 2355, 'amaze': 95, 'able': 3, 'live': 1308, 'great': 992, 'ahead': 65, 'saturday': 1953, 'arizona': 145, 'top': 2288, 'san': 1948, 'francisco': 930, 'police': 1650, 'previously': 1698, 'september': 2006, 'rather': 1790, 'murder': 1442, 'really': 1803, 'racist': 1776, 'america': 98, 'address': 32, 'problem': 1709, 'page': 1569, 'form': 916, 'feel': 866, 'strongly': 2157, 'believe': 223, 'man': 1339, 'fox': 928, 'politics': 1656, 'yet': 2496, 'lawmaker': 1262, 'georgia': 965, 'congressman': 470, 'john': 1208, 'living': 1309, 'old': 1524, 'nearly': 1463, 'civil': 391, 'right': 1917, 'therefore': 2253, 'martin': 1356, 'king': 1235, 'short': 2034, 'massive': 1359, 'boycott': 264, 'inauguration': 1112, 'among': 101, 'democratic': 607, 'late': 1256, 'announce': 111, 'become': 215, 'committee': 436, 'decision': 586, 'celebrate': 340, 'division': 673, 'hate': 1024, 'attend': 172, 'side': 2041, 'prior': 1703, 'regard': 1826, 'question': 1767, 'million': 1402, 'country': 522, 'target': 2217, 'always': 94, 'face': 836, 'reject': 1839, 'dc': 574, 'reason': 1804, 'ready': 1797, 'capitol': 324, 'hill': 1048, 'cross': 545, 'line': 1302, 'progressive': 1724, 'true': 2327, 'color': 422, 'event': 793, 'thank': 2248, 'joe': 1207, 'getty': 969, 'major': 1335, 'sensitive': 2001, 'intelligence': 1152, 'board': 251, 'organization': 1543, 'united': 2360, 'found': 923, 'donor': 687, 'position': 1666, 'security': 1988, 'zero': 2502, 'experience': 820, 'please': 1644, 'note': 1492, 'reporter': 1866, 'arrest': 149, 'newly': 1477, 'state': 2126, 'department': 613, 'help': 1042, 'reveal': 1903, 'foundation': 924, 'government': 985, 'though': 2260, 'obvious': 1505, 'professional': 1718, 'inquiry': 1140, 'abc': 1, 'sought': 2082, 'protect': 1741, 'secretary': 1984, 'ultimately': 2347, 'accept': 8, 'resignation': 1881, 'dozen': 692, 'internal': 1161, 'provide': 1748, 'conservative': 474, 'political': 1652, 'obtain': 1504, 'freedom': 933, 'candidate': 318, 'travel': 2314, 'bill': 237, 'trip': 2323, 'africa': 54, 'seat': 1981, 'international': 1162, 'chicago': 368, 'invest': 1167, 'alongside': 89, 'august': 178, 'nuclear': 1496, 'scientist': 1968, 'cabinet': 306, 'advise': 41, 'weapon': 2436, 'crucial': 547, 'arm': 146, 'control': 494, 'issue': 1188, 'leak': 1271, 'agent': 60, 'stay': 2130, 'hot': 1071, 'trail': 2306, 'terrify': 2238, 'grand': 990, 'probe': 1708, 'analyst': 104, 'associate': 165, 'law': 1261, 'warn': 2422, 'hopeful': 1064, 'american': 99, 'adviser': 42, 'request': 1873, 'document': 678, 'probably': 1707, 'crime': 537, 'communication': 438, 'course': 526, 'likely': 1299, 'related': 1840, 'foreign': 914, 'payment': 1599, 'immediately': 1100, 'disclose': 656, 'definitely': 598, 'new': 1476, 'expand': 815, 'early': 709, 'stage': 2119, 'normal': 1489, 'collect': 419, 'evidence': 801, 'possibly': 1670, 'financial': 884, 'record': 1814, 'proceed': 1711, 'many': 1346, 'explain': 822, 'tv': 2337, 'amount': 102, 'twitter': 2340, 'rant': 1785, 'fake': 846, 'hunt': 1082, 'bottom': 262, 'happen': 1016, 'bet': 230, 'treasury': 2315, 'tax': 2219, 'reform': 1822, 'administration': 33, 'approve': 138, 'healthcare': 1032, 'overhaul': 1559, 'steven': 2136, 'conference': 461, 'world': 2477, 'bank': 200, 'option': 1541, 'specific': 2096, 'sweep': 2203, 'significant': 2046, 'create': 533, 'economic': 717, 'growth': 998, 'campaign': 312, 'promise': 1728, 'low': 1326, 'boost': 258, 'suffer': 2174, 'month': 1425, 'proposal': 1735, 'health': 1031, 'care': 328, 'generate': 962, 'continue': 488, 'replace': 1861, 'legislation': 1281, 'enact': 750, 'predecessor': 1680, 'barack': 204, 'obama': 1499, 'move': 1435, 'forward': 921, 'doesnt': 679, 'rate': 1789, 'revenue': 1905, 'lose': 1322, 'pay': 1598, 'full': 942, 'humiliate': 1080, 'practice': 1678, 'daughter': 571, 'village': 2396, 'idiot': 1090, 'already': 90, 'sue': 2173, 'support': 2185, 'honor': 1061, 'agreement': 64, 'twice': 2339, 'cost': 515, 'fee': 864, 'difficult': 644, 'follow': 908, 'widely': 2455, 'governor': 986, 'end': 752, 'agree': 63, 'deal': 579, 'kept': 1227, 'continued': 489, 'total': 2291, 'paid': 1570, 'spokesperson': 2108, 'alone': 87, 'sell': 1995, 'touch': 2293, 'own': 1564, 'modern': 1419, 'facebook': 837, 'post': 1671, 'delete': 602, 'write': 2485, 'happy': 1018, 'life': 1295, 'worth': 2481, 'brought': 286, 'entirely': 766, 'upon': 2370, 'doubt': 691, 'famous': 851, 'alive': 78, 'men': 1382, 'away': 188, 'prevent': 1696, 'factbox': 840, 'spending': 2101, 'obamacare': 1500, 'repeal': 1858, 'york': 2497, 'fellow': 868, 'propose': 1736, 'kick': 1230, 'answer': 116, 'insurance': 1150, 'coverage': 529, 'obamas': 1501, 'signature': 2045, 'piece': 1633, 'domestic': 682, 'policy': 1651, 'affordable': 51, 'cover': 528, 'majority': 1336, 'either': 728, 'private': 1706, 'less': 1285, 'half': 1008, 'publicly': 1752, 'finance': 883, 'contrast': 491, 'percent': 1611, 'average': 184, 'development': 636, 'core': 508, 'goal': 975, 'cut': 558, 'number': 1497, 'fund': 946, 'medicaid': 1375, 'program': 1722, 'poor': 1660, 'military': 1400, 'buy': 304, 'individual': 1127, 'online': 1527, 'exchange': 808, 'purchase': 1757, 'directly': 651, 'service': 2013, 'remain': 1850, 'figure': 876, 'estimate': 785, 'type': 2342, 'spend': 2100, 'trillion': 2322, 'represent': 1868, 'product': 1715, 'current': 553, 'increase': 1117, 'percentage': 1612, 'rank': 1784, 'high': 1044, 'near': 1461, 'behind': 220, 'france': 929, 'germany': 967, 'britain': 278, 'impact': 1103, 'implement': 1104, 'past': 1593, 'six': 2059, 'change': 358, 'system': 2209, 'affect': 47, 'series': 2008, 'minimum': 1404, 'introduce': 1166, 'free': 932, 'mandate': 1343, 'employer': 747, 'offer': 1512, 'income': 1116, 'draw': 695, 'buying': 305, 'deny': 612, 'base': 205, 'status': 2129, 'allow': 83, 'parent': 1576, 'sector': 1986, 'tackle': 2211, 'step': 2133, 'chamber': 354, 'simply': 2052, 'expansion': 816, 'could': 516, 'hospital': 1068, 'doctor': 677, 'benefit': 225, 'debt': 582, 'uncertainty': 2351, 'longer': 1318, 'term': 2236, 'trade': 2302, 'inc': 1113, 'involve': 1174, 'corp': 509, 'community': 440, 'small': 2064, 'chain': 349, 'share': 2027, 'affected': 48, 'potential': 1672, 'congressional': 469, 'budget': 290, 'bureau': 297, 'center': 342, 'conduct': 460, 'training': 2308, 'mission': 1412, 'sea': 1977, 'japan': 1195, 'carry': 331, 'exercise': 812, 'japanese': 1196, 'south': 2085, 'korean': 1242, 'aircraft': 70, 'amid': 100, 'grow': 996, 'north': 1490, 'korea': 1241, 'missile': 1411, 'pacific': 1566, 'command': 427, 'combine': 424, 'fighter': 875, 'worldnews': 2478, 'infrastructure': 1133, 'bond': 256, 'measure': 1373, 'ballot': 198, 'voter': 2409, 'decide': 585, 'billion': 238, 'large': 1253, 'decade': 583, 'fix': 895, 'balance': 196, 'california': 307, 'account': 12, 'nationwide': 1453, 'building': 292, 'mass': 1357, 'road': 1924, 'research': 1877, 'data': 569, 'view': 2394, 'advantage': 39, 'economy': 718, 'consider': 475, 'interest': 1156, 'reserve': 1878, 'december': 584, 'weve': 2447, 'stability': 2116, 'whole': 2452, 'accepted': 9, 'strategist': 2148, 'hit': 1054, 'july': 1221, 'market': 1353, 'scale': 1958, 'general': 960, 'obligation': 1503, 'construction': 481, 'college': 420, 'aim': 68, 'require': 1874, 'approval': 137, 'project': 1726, 'manage': 1340, 'opponent': 1536, 'initiative': 1136, 'delay': 600, 'critical': 541, 'four': 926, 'highlight': 1045, 'northern': 1491, 'water': 2429, 'association': 166, 'panel': 1573, 'dont': 688, 'progress': 1723, 'authority': 181, 'weigh': 2442, 'gun': 1005, 'wage': 2414, 'legislature': 1283, 'several': 2019, 'various': 2380, 'sale': 1947, 'property': 1734, 'constitutional': 480, 'amendment': 97, 'employee': 746, 'five': 894, 'seek': 1990, 'corporate': 510, 'code': 415, 'tank': 2215, 'airport': 71, 'raise': 1780, 'period': 1618, 'improve': 1110, 'area': 142, 'regional': 1830, 'island': 1185, 'future': 950, 'bipartisan': 240, 'coalition': 413, 'investment': 1171, 'funding': 948, 'left': 1276, 'listen': 1305, 'sentence': 2003, 'assault': 159, 'plead': 1643, 'perform': 1615, 'anger': 108, 'management': 1341, 'wealthy': 2435, 'technology': 2225, 'executive': 811, 'rick': 1913, 'west': 2445, 'hour': 1073, 'jail': 1192, 'avoid': 185, 'bar': 203, 'pose': 1665, 'sign': 2043, 'critic': 540, 'encourage': 751, 'supporter': 2186, 'unfair': 2356, 'proud': 1745, 'im': 1096, 'sworn': 2206, 'outside': 1556, 'week': 2440, 'apologize': 125, 'letter': 1287, 'sent': 2002, 'check': 366, 'pledge': 1645, 'confident': 463, 'strong': 2156, 'advocate': 45, 'press': 1691, 'finally': 882, 'arrive': 151, 'open': 1529, 'complete': 446, 'formally': 918, 'dismiss': 665, 'prosecutor': 1739, 'phone': 1627, 'initially': 1135, 'contest': 487, 'instead': 1146, 'insist': 1143, 'case': 332, 'admit': 34, 'ryan': 1943, 'interior': 1160, 'meet': 1378, 'schedule': 1963, 'additional': 31, 'held': 1040, 'transition': 2311, 'retire': 1900, 'navy': 1458, 'commander': 428, 'nato': 1455, 'diplomacy': 646, 'university': 2362, 'co': 411, 'serf': 2007, 'judiciary': 1220, 'natural': 1456, 'resource': 1887, 'senator': 1997, 'virginia': 2401, 'invite': 1173, 'leader': 1267, 'cite': 387, 'gop': 981, 'endorsement': 754, 'intent': 1154, 'walk': 2417, 'backing': 192, 'nominee': 1487, 'speaker': 2093, 'regardless': 1827, 'outcome': 1551, 'radio': 1778, 'yes': 2494, 'nomination': 1486, 'fair': 844, 'square': 2115, 'host': 1069, 'person': 1621, 'elect': 729, 'felt': 869, 'duty': 707, 'process': 1712, 'principle': 1702, 'endorse': 753, 'repeatedly': 1860, 'condemn': 458, 'billionaire': 239, 'offensive': 1511, 'action': 20, 'denounce': 611, 'ban': 199, 'unconstitutional': 2353, 'declare': 588, 'lawsuit': 1263, 'racism': 1775, 'list': 1304, 'accuse': 15, 'sexually': 2023, 'access': 10, 'hollywood': 1057, 'tape': 2216, 'brag': 265, 'sexual': 2022, 'train': 2307, 'johnson': 1209, 'across': 18, 'respond': 1889, 'difference': 642, 'harm': 1022, 'possible': 1669, 'win': 2461, 'mind': 1403, 'alex': 75, 'mark': 1351, 'israel': 1186, 'theyre': 2255, 'ethnic': 787, 'palestinian': 1572, 'dominate': 683, 'religious': 1848, 'ground': 994, 'maintain': 1334, 'jewish': 1203, 'brutal': 289, 'israeli': 1187, 'assume': 167, 'society': 2069, 'land': 1251, 'strike': 2154, 'deem': 590, 'vast': 2381, 'toward': 2297, 'govern': 984, 'population': 1662, 'server': 2012, 'assistant': 164, 'exact': 803, 'alarm': 74, 'wing': 2463, 'crazy': 532, 'neighborhood': 1471, 'dollar': 681, 'politician': 1654, 'influential': 1130, 'lobby': 1311, 'wonder': 2472, 'treatment': 2317, 'sanction': 1949, 'screen': 1973, 'capture': 325, 'attempt': 171, 'dismantle': 664, 'operating': 1533, 'caller': 309, 'close': 406, 'urge': 2372, 'send': 1998, 'shut': 2039, 'website': 2438, 'generally': 961, 'thus': 2272, 'equality': 773, 'instance': 1145, 'without': 2469, 'internet': 1163, 'champion': 355, 'permanent': 1619, 'temporary': 2232, 'settle': 2016, 'surprise': 2193, 'worry': 2480, 'available': 183, 'study': 2162, 'outrage': 1554, 'foot': 911, 'as': 153, 'complain': 444, 'classify': 398, 'real': 1799, 'rest': 1893, 'truth': 2331, 'today': 2281, 'jeff': 1199, 'sean': 1978, 'spicer': 2103, 'speak': 2092, 'briefing': 275, 'room': 1931, 'smith': 2066, 'specifically': 2097, 'device': 637, 'oval': 1557, 'credibility': 535, 'currency': 552, 'trust': 2330, 'inside': 1142, 'find': 885, 'trouble': 2325, 'cause': 338, 'watch': 2427, 'tear': 2224, 'stupid': 2165, 'screengrab': 1974, 'illinois': 1095, 'resident': 1879, 'restore': 1895, 'district': 670, 'unprecedented': 2366, 'fail': 842, 'quality': 1765, 'result': 1898, 'violation': 2398, 'ruling': 1938, 'lack': 1248, 'direct': 649, 'comply': 450, 'argue': 143, 'institution': 1148, 'afford': 50, 'fiscal': 892, 'worker': 2476, 'next': 1480, 'hearing': 1035, 'spokeswoman': 2109, 'human': 1078, 'legal': 1279, 'review': 1907, 'determine': 633, 'appropriate': 136, 'ensure': 763, 'separate': 2005, 'damn': 563, 'shout': 2037, 'drawn': 696, 'debate': 581, 'basically': 208, 'realize': 1802, 'shot': 2036, 'leadership': 1268, 'marriage': 1354, 'unlike': 2364, 'race': 1773, 'husband': 1085, 'pretty': 1695, 'pathetic': 1595, 'msnbc': 1438, 'reply': 1863, 'married': 1355, 'qualify': 1764, 'wow': 2484, 'ship': 2031, 'overseas': 1560, 'false': 848, 'accusation': 14, 'middle': 1393, 'picked': 1631, 'bernie': 228, 'sander': 1950, 'shame': 2025, 'floor': 901, 'club': 409, 'hammer': 1011, 'secret': 1983, 'regret': 1832, 'copy': 507, 'defend': 594, 'presidential': 1690, 'blow': 249, 'demonstrate': 608, 'deficit': 596, 'hundred': 1081, 'slam': 2061, 'eliminate': 733, 'senior': 1999, 'april': 139, 'planning': 1637, 'belief': 222, 'youtube': 2501, 'exist': 813, 'blame': 244, 'literally': 1306, 'rally': 1781, 'george': 964, 'leftist': 1277, 'partner': 1586, 'firm': 890, 'cooperate': 503, 'affair': 46, 'interference': 1159, 'regulation': 1835, 'seriously': 2010, 'fully': 943, 'corporation': 511, 'drew': 699, 'wisconsin': 2465, 'business': 301, 'susan': 2200, 'oppose': 1538, 'earlier': 708, 'taxpayer': 2220, 'signal': 2044, 'pas': 1589, 'rich': 1911, 'neither': 1472, 'version': 2385, 'colleague': 418, 'produce': 1713, 'guarantee': 999, 'temporarily': 2231, 'overall': 1558, 'package': 1567, 'effective': 723, 'key': 1229, 'part': 1581, 'expose': 826, 'risk': 1921, 'mistake': 1413, 'complicate': 449, 'bring': 277, 'moderate': 1418, 'mccain': 1367, 'credit': 536, 'reduce': 1817, 'together': 2282, 'channel': 359, 'relief': 1846, 'deep': 591, 'main': 1331, 'vehicle': 2382, 'prospect': 1740, 'legislative': 1282, 'victory': 2391, 'despite': 625, 'tour': 2296, 'asian': 155, 'capital': 323, 'eventually': 794, 'final': 881, 'blast': 245, 'double': 690, 'penalty': 1603, 'sick': 2040, 'joint': 1211, 'unit': 2359, 'requirement': 1875, 'met': 1387, 'simple': 2051, 'otherwise': 1549, 'egypt': 726, 'alliance': 82, 'saudi': 1954, 'arabia': 141, 'powerful': 1677, 'sunday': 2182, 'counter': 520, 'terrorism': 2241, 'defense': 595, 'gather': 956, 'ago': 62, 'minister': 1405, 'islam': 1182, 'kingdom': 1236, 'delegate': 601, 'role': 1927, 'assistance': 163, 'militant': 1399, 'aid': 66, 'equipment': 774, 'combat': 423, 'terrorist': 2242, 'innocent': 1139, 'spread': 2113, 'reputation': 1872, 'east': 713, 'asia': 154, 'iraq': 1179, 'syria': 2207, 'mainly': 1332, 'iran': 1177, 'rival': 1922, 'mostly': 1430, 'originally': 1547, 'denies': 610, 'build': 291, 'operation': 1534, 'bloc': 246, 'enemy': 755, 'council': 517, 'priority': 1704, 'yemen': 2493, 'al': 72, 'turkey': 2334, 'friend': 938, 'kurdish': 1244, 'african': 55, 'diplomatic': 648, 'war': 2420, 'rebel': 1806, 'neighbor': 1470, 'arrival': 150, 'date': 570, 'french': 934, 'paris': 1577, 'although': 93, 'confirm': 464, 'fed': 862, 'tactic': 2212, 'force': 913, 'donate': 685, 'liberal': 1290, 'corrupt': 513, 'consumer': 483, 'illegal': 1093, 'fraud': 931, 'impose': 1108, 'settlement': 2017, 'thanks': 2249, 'provision': 1750, 'donation': 686, 'none': 1488, 'victim': 2390, 'least': 1273, 'hispanic': 1051, 'la': 1245, 'rig': 1916, 'ally': 85, 'chairman': 351, 'oversight': 1562, 'loan': 1310, 'collapse': 417, 'organize': 1544, 'criminal': 538, 'brain': 266, 'brother': 285, 'tower': 2299, 'crooked': 544, 'proof': 1732, 'regime': 1828, 'serious': 2009, 'gay': 958, 'personally': 1623, 'estate': 784, 'accountable': 13, 'conflict': 466, 'pretend': 1694, 'track': 2301, 'frustrate': 940, 'army': 147, 'didnt': 640, 'isi': 1181, 'troop': 2324, 'publish': 1753, 'hard': 1020, 'direction': 650, 'region': 1829, 'portion': 1664, 'engage': 759, 'recommendation': 1813, 'fell': 867, 'contact': 484, 'else': 736, 'concerned': 455, 'soldier': 2070, 'ability': 2, 'enough': 762, 'europe': 790, 'emerge': 742, 'willing': 2460, 'bit': 242, 'mock': 1416, 'dead': 576, 'drug': 705, 'territory': 2239, 'gang': 953, 'spokesman': 2107, 'shoot': 2033, 'border': 259, 'injured': 1137, 'ongoing': 1526, 'street': 2150, 'los': 1321, 'locate': 1313, 'route': 1935, 'particularly': 1584, 'grown': 997, 'jones': 1213, 'jason': 1198, 'tonight': 2286, 'cancel': 316, 'appearance': 130, 'speech': 2098, 'horrific': 1067, 'wound': 2483, 'hateful': 1025, 'rhetoric': 1910, 'black': 243, 'matter': 1362, 'dare': 567, 'reach': 1792, 'punish': 1756, 'okay': 1523, 'inspire': 1144, 'hatred': 1026, 'body': 253, 'investor': 1172, 'stock': 2139, 'due': 706, 'age': 57, 'passage': 1591, 'size': 2060, 'secure': 1987, 'best': 229, 'item': 1190, 'usually': 2378, 'driven': 701, 'poll': 1658, 'vulnerable': 2413, 'baby': 189, 'suicide': 2178, 'abortion': 4, 'weak': 2432, 'apart': 124, 'sharp': 2028, 'remove': 1856, 'us': 2373, 'shock': 2032, 'mother': 1431, 'labor': 1247, 'heart': 1036, 'easy': 715, 'rip': 1919, 'reporting': 1867, 'per': 1610, 'birth': 241, 'decline': 589, 'education': 721, 'loss': 1323, 'miss': 1410, 'ministry': 1406, 'search': 1979, 'seven': 2018, 'morning': 1428, 'afternoon': 56, 'second': 1982, 'location': 1314, 'authorize': 182, 'surface': 2191, 'emergency': 743, 'wave': 2430, 'km': 1237, 'mile': 1398, 'southern': 2087, 'coast': 414, 'rescue': 1876, 'operate': 1532, 'capable': 321, 'plane': 1636, 'storm': 2143, 'disrupt': 668, 'movement': 1436, 'design': 622, 'challenge': 352, 'depend': 615, 'supply': 2184, 'food': 910, 'recently': 1810, 'truck': 2326, 'driver': 702, 'path': 1594, 'resort': 1886, 'catholic': 335, 'relative': 1843, 'beyond': 231, 'built': 293, 'agency': 58, 'german': 966, 'regular': 1833, 'tillerson': 2275, 'bashar': 206, 'rex': 1909, 'peace': 1600, 'resume': 1899, 'envoy': 771, 'de': 575, 'opposition': 1540, 'india': 1124, 'air': 69, 'militia': 1401, 'eastern': 714, 'reading': 1796, 'iranian': 1178, 'alternative': 92, 'western': 2446, 'diplomat': 647, 'departure': 614, 'succeed': 2169, 'situation': 2058, 'struck': 2158, 'survey': 2198, 'disaster': 655, 'thousand': 2262, 'central': 343, 'safety': 1946, 'quickly': 1769, 'escape': 779, 'slash': 2062, 'bid': 233, 'negotiation': 1468, 'assembly': 160, 'annual': 113, 'almost': 86, 'expert': 821, 'compare': 442, 'expensive': 819, 'republic': 1870, 'negotiate': 1467, 'suggestion': 2176, 'enforce': 757, 'cap': 320, 'contribution': 493, 'global': 973, 'oust': 1550, 'jim': 1204, 'discuss': 661, 'handle': 1014, 'cast': 334, 'present': 1686, 'caucus': 336, 'express': 827, 'hurricane': 1083, 'couple': 525, 'opposite': 1539, 'elsewhere': 737, 'vision': 2403, 'pick': 1630, 'profile': 1720, 'session': 2014, 'enforcement': 758, 'interested': 1157, 'deputy': 618, 'lawyer': 1264, 'intend': 1153, 'perfect': 1613, 'fine': 887, 'motivate': 1432, 'cant': 319, 'switch': 2205, 'car': 326, 'aide': 67, 'announcement': 112, 'witness': 2470, 'knew': 1238, 'politico': 1655, 'chair': 350, 'meddling': 1374, 'hopefully': 1065, 'hostile': 1070, 'suspend': 2202, 'angry': 109, 'indeed': 1120, 'revelation': 1904, 'popular': 1661, 'constitution': 479, 'limited': 1301, 'article': 152, 'platform': 1639, 'space': 2088, 'responsibility': 1891, 'outrageous': 1555, 'usa': 2374, 'segment': 1992, 'ok': 1522, 'conspiracy': 478, 'theory': 2251, 'owner': 1565, 'bos': 261, 'wait': 2415, 'describe': 619, 'immigration': 1102, 'contract': 490, 'star': 2124, 'controversy': 496, 'essentially': 781, 'outlet': 1552, 'effect': 722, 'quite': 1771, 'opinion': 1535, 'flickr': 898, 'huge': 1077, 'drag': 694, 'store': 2142, 'identity': 1089, 'front': 939, 'author': 180, 'choice': 374, 'feed': 865, 'truly': 2328, 'easily': 712, 'saw': 1956, 'negative': 1466, 'extreme': 831, 'remark': 1852, 'advice': 40, 'poverty': 1675, 'mention': 1383, 'joke': 1212, 'criticize': 543, 'suspect': 2201, 'wealth': 2434, 'entire': 765, 'wife': 2457, 'hero': 1043, 'sometimes': 2077, 'incredibly': 1119, 'remember': 1853, 'unless': 2363, 'promote': 1730, 'paper': 1574, 'spent': 2102, 'resign': 1880, 'allegation': 79, 'ethic': 786, 'harassment': 1019, 'deeply': 592, 'struggle': 2160, 'prominent': 1727, 'rare': 1788, 'veteran': 2387, 'investigate': 1168, 'texas': 2246, 'discrimination': 659, 'independently': 1123, 'verify': 2383, 'meaning': 1370, 'tone': 2285, 'moore': 1426, 'aware': 187, 'history': 1053, 'advance': 37, 'alabama': 73, 'candidacy': 317, 'aside': 156, 'moral': 1427, 'confront': 467, 'replacement': 1862, 'independent': 1122, 'eight': 727, 'vow': 2411, 'warren': 2424, 'agenda': 59, 'tough': 2294, 'michigan': 1392, 'scrap': 1971, 'meant': 1371, 'wall': 2418, 'manager': 1342, 'businessman': 302, 'appeal': 128, 'pennsylvania': 1606, 'ohio': 1520, 'outline': 1553, 'few': 871, 'deliver': 603, 'steve': 2135, 'nine': 1483, 'addition': 30, 'anthony': 117, 'paint': 1571, 'partnership': 1587, 'praise': 1679, 'often': 1518, 'dialogue': 638, 'london': 1316, 'british': 279, 'eye': 834, 'leaf': 1269, 'european': 791, 'union': 2358, 'environment': 769, 'select': 1994, 'common': 437, 'counterpart': 521, 'eu': 788, 'relationship': 1842, 'conversation': 498, 'pursue': 1759, 'historic': 1052, 'science': 1967, 'importance': 1106, 'uk': 2345, 'producer': 1714, 'export': 825, 'opportunity': 1537, 'brexit': 271, 'bilateral': 236, 'f': 835, 'widespread': 2456, 'safe': 1945, 'crisis': 539, 'hell': 1041, 'inform': 1131, 'phase': 1626, 'rush': 1940, 'presidency': 1688, 'summer': 2180, 'everything': 799, 'particular': 1583, 'pm': 1647, 'parliament': 1579, 'prime': 1701, 'confirmation': 465, 'heavy': 1039, 'corruption': 514, 'title': 2280, 'youth': 2500, 'socialist': 2068, 'contribute': 492, 'coal': 412, 'china': 371, 'energy': 756, 'block': 247, 'thomas': 2259, 'roll': 1928, 'ad': 27, 'disclosure': 657, 'longtime': 1319, 'television': 2229, 'regulator': 1836, 'investigator': 1170, 'busy': 303, 'cry': 549, 'success': 2170, 'table': 2210, 'link': 1303, 'electoral': 731, 'laugh': 1259, 'restriction': 1897, 'typically': 2343, 'elizabeth': 735, 'institute': 1147, 'facility': 838, 'similar': 2050, 'manner': 1344, 'spark': 2091, 'halt': 1010, 'burden': 296, 'pass': 1590, 'preserve': 1687, 'treat': 2316, 'kelly': 1226, 'destroyed': 627, 'rating': 1791, 'hat': 1023, 'disappointed': 654, 'native': 1454, 'film': 880, 'park': 1578, 'join': 1210, 'oil': 1521, 'revive': 1908, 'upset': 2371, 'controversial': 495, 'transport': 2312, 'cold': 416, 'resist': 1882, 'rock': 1926, 'reverse': 1906, 'chose': 376, 'signing': 2047, 'brilliant': 276, 'activist': 22, 'chip': 373, 'macron': 1328, 'euro': 789, 'zone': 2503, 'berlin': 227, 'chancellor': 357, 'angela': 106, 'merkel': 1384, 'welcome': 2443, 'emmanuel': 744, 'strengthen': 2152, 'cooperation': 504, 'seize': 1993, 'largely': 1254, 'unable': 2349, 'shift': 2030, 'subject': 2167, 'hotel': 1072, 'price': 1699, 'profit': 1721, 'refusal': 1824, 'confidence': 462, 'stem': 2132, 'danger': 565, 'passing': 1592, 'nice': 1481, 'network': 1474, 'earn': 710, 'charles': 365, 'reference': 1819, 'stance': 2121, 'blood': 248, 'text': 2247, 'hurt': 1084, 'gathering': 957, 'convince': 501, 'dispute': 667, 'extend': 828, 'officially': 1517, 'picture': 1632, 'suppose': 2187, 'completely': 447, 'manufacturing': 1345, 'plant': 1638, 'penny': 1607, 'indiana': 1125, 'perhaps': 1617, 'promising': 1729, 'develop': 635, 'enable': 749, 'mainstream': 1333, 'winner': 2464, 'display': 666, 'town': 2300, 'officer': 1515, 'guess': 1001, 'mount': 1433, 'vet': 2386, 'everybody': 797, 'fought': 922, 'destroy': 626, 'card': 327, 'nobody': 1484, 'bob': 252, 'finding': 886, 'apply': 132, 'draft': 693, 'acknowledge': 17, 'violate': 2397, 'prohibit': 1725, 'chuck': 381, 'iowa': 1176, 'broken': 284, 'extremely': 832, 'highly': 1046, 'conclusion': 457, 'material': 1361, 'anyway': 122, 'graham': 989, 'interviewed': 1165, 'joseph': 1214, 'usual': 2377, 'spot': 2112, 'analysis': 103, 'cop': 506, 'actual': 25, 'die': 641, 'suggests': 2177, 'personal': 1622, 'richard': 1912, 'waste': 2426, 'inappropriate': 1111, 'vladimir': 2406, 'putin': 1762, 'dictator': 639, 'summit': 2181, 'thrown': 2270, 'relation': 1841, 'oversee': 1561, 'founder': 925, 'nbc': 1460, 'appointment': 134, 'round': 1934, 'strategic': 2147, 'dan': 564, 'conway': 502, 'ivanka': 1191, 'graduate': 988, 'theresa': 2254, 'hack': 1007, 'homeland': 1059, 'learn': 1272, 'somebody': 2073, 'brian': 272, 'activity': 23, 'parliamentary': 1580, 'cash': 333, 'enjoy': 761, 'whose': 2453, 'magazine': 1329, 'consideration': 476, 'asset': 162, 'potentially': 1673, 'solve': 2072, 'strategy': 2149, 'split': 2104, 'port': 1663, 'brand': 268, 'filing': 878, 'structure': 2159, 'basis': 209, 'bear': 212, 'radical': 1777, 'speed': 2099, 'resolve': 1885, 'purpose': 1758, 'within': 2468, 'narrow': 1449, 'commission': 432, 'divide': 672, 'camp': 311, 'trigger': 2321, 'weaken': 2433, 'wrongdoing': 2488, 'reality': 1801, 'traditional': 2304, 'fear': 859, 'value': 2379, 'creation': 534, 'transfer': 2309, 'racial': 1774, 'carolina': 330, 'minority': 1407, 'swing': 2204, 'professor': 1719, 'cycle': 560, 'surprising': 2195, 'unusual': 2367, 'environmental': 770, 'survive': 2199, 'mayor': 1366, 'commitment': 435, 'background': 191, 'attitude': 174, 'distance': 669, 'culture': 550, 'attract': 176, 'telephone': 2228, 'recognize': 1811, 'politically': 1653, 'ill': 1092, 'headline': 1029, 'clip': 405, 'somehow': 2074, 'paragraph': 1575, 'century': 344, 'divisive': 674, 'basic': 207, 'independence': 1121, 'evil': 802, 'approach': 135, 'achieve': 16, 'destruction': 628, 'scream': 1972, 'protection': 1742, 'element': 732, 'apparent': 126, 'commerce': 430, 'window': 2462, 'burn': 298, 'disagree': 653, 'forget': 915, 'writer': 2486, 'active': 21, 'limit': 1300, 'exit': 814, 'threatens': 2265, 'vowed': 2412, 'brussels': 288, 'refer': 1818, 'spoke': 2105, 'stun': 2164, 'referendum': 1820, 'unity': 2361, 'prefer': 1682, 'sentiment': 2004, 'consequence': 473, 'coordinate': 505, 'response': 1890, 'unlikely': 2365, 'thats': 2250, 'golf': 978, 'legitimate': 1284, 'legacy': 1278, 'function': 945, 'monitor': 1424, 'worried': 2479, 'teach': 2221, 'alien': 77, 'english': 760, 'gov': 983, 'immigrant': 1101, 'license': 1293, 'language': 1252, 'permit': 1620, 'latino': 1258, 'era': 775, 'surveillance': 2197, 'prof': 1717, 'spy': 2114, 'detailed': 630, 'perfectly': 1614, 'anybody': 118, 'massachusetts': 1358, 'supremacist': 2188, 'minute': 1408, 'youre': 2499, 'detention': 632, 'pentagon': 1608, 'upcoming': 2368, 'circumstance': 386, 'bush': 300, 'lift': 1296, 'trial': 2320, 'fundamental': 947, 'tool': 2287, 'islamist': 1184, 'presumptive': 1693, 'proven': 1747, 'green': 993, 'third': 2258, 'whatever': 2448, 'afraid': 53, 'recall': 1807, 'migrant': 1395, 'refugee': 1823, 'fuel': 941, 'career': 329, 'christian': 379, 'caught': 337, 'surround': 2196, 'drive': 700, 'establish': 782, 'crack': 530, 'enter': 764, 'capacity': 322, 'everywhere': 800, 'footage': 912, 'actor': 24, 'celebrity': 341, 'argument': 144, 'reaction': 1794, 'asylum': 169, 'italy': 1189, 'migration': 1396, 'door': 689, 'flood': 900, 'flow': 903, 'dream': 697, 'collusion': 421, 'narrative': 1448, 'audience': 177, 'viewer': 2395, 'guest': 1002, 'gas': 955, 'campus': 313, 'demonstration': 609, 'fourth': 927, 'pending': 1604, 'protester': 1744, 'remains': 1851, 'traffic': 2305, 'attention': 173, 'disturb': 671, 'dress': 698, 'trash': 2313, 'clean': 399, 'judicial': 1219, 'root': 1932, 'clash': 396, 'react': 1793, 'liberty': 1291, 'discus': 660, 'flee': 897, 'un': 2348, 'civilian': 392, 'faith': 845, 'insult': 1149, 'kim': 1233, 'ballistic': 197, 'range': 1783, 'wont': 2473, 'indicate': 1126, 'notice': 1494, 'he': 1027, 'chinese': 372, 'peninsula': 1605, 'participate': 1582, 'relevant': 1845, 'resolution': 1884, 'responsible': 1892, 'contain': 485, 'assessment': 161, 'test': 2243, 'pyongyang': 1763, 'fifth': 873, 'import': 1105, 'canada': 314, 'client': 402, 'becomes': 216, 'renew': 1857, 'abroad': 5, 'church': 382, 'update': 2369, 'threw': 2267, 'establishment': 783, 'bannon': 202, 'anonymity': 114, 'challenged': 353, 'wide': 2454, 'margin': 1349, 'failure': 843, 'book': 257, 'convention': 497, 'deserve': 621, 'gold': 977, 'tim': 2276, 'physical': 1629, 'resistance': 1883, 'openly': 1531, 'favorite': 857, 'chaos': 361, 'undermine': 2354, 'correct': 512, 'god': 976, 'bomb': 254, 'born': 260, 'define': 597, 'occupy': 1507, 'heat': 1037, 'roughly': 1933, 'housing': 1075, 'nominate': 1485, 'style': 2166, 'familiar': 849, 'choose': 375, 'surprised': 2194, 'jersey': 1200, 'nature': 1457, 'male': 1338, 'camera': 310, 'explains': 823, 'impossible': 1109, 'yeah': 2490, 'gon': 979, 'na': 1445, 'cheer': 367, 'towards': 2298, 'nazi': 1459, 'character': 362, 'bigotry': 235, 'medical': 1376, 'wear': 2437, 'immediate': 1099, 'quote': 1772, 'sad': 1944, 'terror': 2240, 'smart': 2065, 'clarify': 395, 'count': 519, 'fast': 854, 'rid': 1914, 'embrace': 741, 'cruz': 548, 'rubio': 1936, 'ted': 2226, 'marco': 1348, 'detain': 631, 'humanitarian': 1079, 'ronald': 1930, 'reagan': 1798, 'embassy': 740, 'tehran': 2227, 'edit': 719, 'sponsor': 2110, 'scene': 1962, 'drove': 704, 'bus': 299, 'identify': 1088, 'site': 2057, 'convict': 499, 'totally': 2292, 'imagine': 1098, 'gotten': 982, 'ten': 2233, 'heavily': 1038, 'beat': 213, 'ridiculous': 1915, 'reasonable': 1805, 'brown': 287, 'rape': 1786, 'positive': 1667, 'visa': 2402, 'river': 1923, 'grant': 991, 'certain': 347, 'tire': 2279, 'anymore': 119, 'beautiful': 214, 'oh': 1519, 'disgust': 663, 'obviously': 1506, 'lock': 1315, 'initial': 1134, 'computer': 453, 'conviction': 500, 'injury': 1138, 'circuit': 385, 'kremlin': 1243, 'moscow': 1429, 'sex': 2021, 'frequently': 935, 'shake': 2024, 'connect': 471, 'occur': 1508, 'closer': 408, 'deadly': 578, 'marked': 1352, 'vital': 2405, 'successful': 2171, 'unfortunately': 2357, 'presence': 1685, 'forum': 920, 'asks': 158, 'tom': 2284, 'except': 807, 'ankara': 110, 'fresh': 936, 'trading': 2303, 'comprehensive': 451, 'treaty': 2318, 'abandon': 0, 'shape': 2026, 'breitbart': 270, 'sheriff': 2029, 'grab': 987, 'dark': 568, 'sorry': 2080, 'excuse': 810, 'offend': 1510, 'cyber': 559, 'application': 131, 'peaceful': 1601, 'ceremony': 346, 'torture': 2290, 'canadian': 315, 'justin': 1224, 'lay': 1265, 'schumer': 1966, 'scalia': 1959, 'yell': 2492, 'deport': 616, 'patrol': 1596, 'extra': 830, 'personnel': 1624, 'offering': 1513, 'angeles': 107, 'stake': 2120, 'organizer': 1545, 'station': 2128, 'nearby': 1462, 'score': 1969, 'jet': 1202, 'desperate': 624, 'hall': 1009, 'terrible': 2237, 'id': 1086, 'degree': 599, 'gulf': 1004, 'desire': 623, 'wake': 2416, 'arab': 140, 'interfere': 1158, 'conclude': 456, 'connection': 472, 'spain': 2089, 'discover': 658, 'spanish': 2090, 'propaganda': 1733, 'sarah': 1951, 'polling': 1659, 'hilarious': 1047, 'lady': 1249, 'funny': 949, 'fun': 944, 'mitch': 1414, 'mcconnell': 1368, 'red': 1816, 'broader': 282, 'broadcast': 281, 'involvement': 1175, 'suit': 2179, 'entry': 768, 'josh': 1215, 'fit': 893, 'climate': 403, 'bombing': 255, 'ali': 76, 'compete': 443, 'severe': 2020, 'raid': 1779, 'rely': 1849, 'knowledge': 1240, 'advanced': 38, 'badly': 195, 'affiliate': 49, 'yesterday': 2495, 'dnc': 675, 'nancy': 1447, 'stick': 2137, 'closely': 407, 'andrew': 105, 'wish': 2466, 'submit': 2168, 'staffer': 2118, 'extent': 829, 'headquarters': 1030, 'advisor': 43, 'restaurant': 1894, 'steal': 2131, 'plot': 1646, 'flight': 899, 'citizenship': 389, 'effectively': 724, 'wikileaks': 2458, 'deportation': 617, 'silence': 2048, 'mail': 1330, 'stephen': 2134, 'sister': 2055, 'formal': 917, 'coup': 524, 'machine': 1327, 'employ': 745, 'employment': 748, 'customer': 557, 'giant': 970, 'consult': 482, 'model': 1417, 'scott': 1970, 'riot': 1918, 'recover': 1815, 'prepare': 1683, 'warrant': 2423, 'regulatory': 1837, 'partisan': 1585, 'banking': 201, 'mitt': 1415, 'romney': 1929, 'ticket': 2273, 'florida': 902, 'integrity': 1151, 'procedure': 1710, 'advocacy': 44, 'turkish': 2335, 'insane': 1141, 'marine': 1350, 'regularly': 1834, 'ease': 711, 'mogul': 1420, 'vermont': 2384, 'label': 1246, 'extremist': 833, 'afghanistan': 52, 'surge': 2192, 'pundit': 1755, 'section': 1985, 'commissioner': 433, 'memo': 1381, 'behalf': 218, 'folk': 907, 'strip': 2155, 'expense': 818, 'object': 1502, 'william': 2459, 'removal': 1855, 'generation': 963, 'error': 777, 'anywhere': 123, 'blue': 250, 'ambassador': 96, 'peter': 1625, 'warm': 2421, 'scrutiny': 1976, 'tenure': 2235, 'follower': 909, 'bias': 232, 'province': 1749, 'crackdown': 531, 'finish': 888, 'straight': 2145, 'transgender': 2310, 'gender': 959, 'prosecution': 1738, 'net': 1473, 'beach': 211, 'trend': 2319, 'examine': 805, 'match': 1360, 'spoken': 2106, 'content': 486, 'deadline': 577, 'broad': 280, 'tougher': 2295, 'commercial': 431, 'michelle': 1391, 'strain': 2146, 'pact': 1568, 'negotiator': 1469, 'custom': 556, 'declaration': 587, 'legally': 1280, 'nationalist': 1452, 'hampshire': 1012, 'there': 2252, 'equal': 772, 'holiday': 1056, 'performance': 1616, 'mess': 1385, 'super': 2183, 'scar': 1961, 'bridge': 273, 'watchdog': 2428, 'adopt': 35, 'silent': 2049, 'whine': 2450, 'scheme': 1964, 'entity': 767, 'rapist': 1787, 'gap': 954, 'solution': 2071, 'editorial': 720, 'recommend': 1812, 'chosen': 377, 'cia': 383, 'beijing': 221, 'illegally': 1094, 'bunch': 295, 'pelosi': 1602, 'exploit': 824, 'considers': 477, 'devastate': 634, 'elite': 734, 'factor': 841, 'predict': 1681, 'curb': 551, 'ukraine': 2346, 'xi': 2489, 'jinping': 1205, 'communist': 439, 'withdraw': 2467, 'guard': 1000, 'complex': 448, 'brief': 274, 'intention': 1155, 'mattis': 1363, 'circle': 384, 'reiterate': 1838, 'christmas': 380, 'backlash': 193, 'benghazi': 226, 'aggressive': 61, 'fly': 904, 'harder': 1021, 'strength': 2151, 'speaks': 2094, 'vietnam': 2393, 'escalate': 778, 'quarter': 1766, 'libya': 1292, 'unacceptable': 2350, 'southeast': 2086, 'sport': 2111, 'journal': 1216, 'jerusalem': 1201, 'successor': 2172, 'overturn': 1563, 'branch': 267, 'iraqi': 1180, 'assure': 168}\n",
      "TF-IDF matrix shape => (35947, 2504)\n"
     ]
    }
   ],
   "source": [
    "# Vectorizer viz\n",
    "\n",
    "print(\"Final dictionary =>\", len(tfidf_vectorizer.vocabulary_), \"words\")\n",
    "print(\"Dictionary =>\", tfidf_vectorizer.vocabulary_)\n",
    "print(\"TF-IDF matrix shape =>\", tfidf_vect_train.shape)"
   ]
  },
  {
   "cell_type": "code",
   "execution_count": 15,
   "id": "11e47c21",
   "metadata": {},
   "outputs": [
    {
     "name": "stdout",
     "output_type": "stream",
     "text": [
      "Top 10 words : \n",
      "\n",
      "trump         2769.955933\n",
      "say           2200.876391\n",
      "state         1067.175102\n",
      "president     1057.609378\n",
      "republican     953.082678\n",
      "would          935.169532\n",
      "clinton        855.432294\n",
      "people         815.029248\n",
      "house          780.009034\n",
      "obama          777.954852\n",
      "dtype: float64\n",
      "Last 10 words : \n",
      "\n",
      "advanced       27.319439\n",
      "stem           27.292183\n",
      "fundamental    26.964393\n",
      "sharp          26.841418\n",
      "exclusive      26.519168\n",
      "influential    26.484445\n",
      "strain         26.452051\n",
      "generate       26.133776\n",
      "enable         26.107586\n",
      "extent         24.913631\n",
      "dtype: float64\n"
     ]
    }
   ],
   "source": [
    "# Vectorized train viz\n",
    "tfidf_df_train = pd.DataFrame(tfidf_vect_train.toarray(), columns=tfidf_vectorizer.get_feature_names_out())\n",
    "\n",
    "print(\"Top 10 words : \\n\")\n",
    "print(tfidf_df_train.sum().sort_values(ascending=False).head(10))\n",
    "\n",
    "print(\"Last 10 words : \\n\")\n",
    "print(tfidf_df_train.sum().sort_values(ascending=False).tail(10))"
   ]
  },
  {
   "cell_type": "markdown",
   "id": "79d9c380",
   "metadata": {},
   "source": [
    "# 5. Model training"
   ]
  },
  {
   "cell_type": "markdown",
   "id": "2d90d578",
   "metadata": {},
   "source": [
    "## 5.1 Multinomial Naive Bayes Model\n",
    "\n",
    "We will train a Multinomial Naive Bayes Model on the training data. This model is good for text classification tasks and works well with high-dimensional data like text."
   ]
  },
  {
   "cell_type": "markdown",
   "id": "c3bb635e",
   "metadata": {},
   "source": [
    "### Train the model"
   ]
  },
  {
   "cell_type": "code",
   "execution_count": 16,
   "id": "ce2d38fa",
   "metadata": {},
   "outputs": [],
   "source": [
    "# Instanciation of the model\n",
    "naive_model = MultinomialNB()"
   ]
  },
  {
   "cell_type": "markdown",
   "id": "6f6090ce",
   "metadata": {},
   "source": [
    "### Fit the model on the training data"
   ]
  },
  {
   "cell_type": "code",
   "execution_count": 17,
   "id": "9e4c5c28",
   "metadata": {},
   "outputs": [
    {
     "data": {
      "text/html": [
       "<style>#sk-container-id-2 {\n",
       "  /* Definition of color scheme common for light and dark mode */\n",
       "  --sklearn-color-text: #000;\n",
       "  --sklearn-color-text-muted: #666;\n",
       "  --sklearn-color-line: gray;\n",
       "  /* Definition of color scheme for unfitted estimators */\n",
       "  --sklearn-color-unfitted-level-0: #fff5e6;\n",
       "  --sklearn-color-unfitted-level-1: #f6e4d2;\n",
       "  --sklearn-color-unfitted-level-2: #ffe0b3;\n",
       "  --sklearn-color-unfitted-level-3: chocolate;\n",
       "  /* Definition of color scheme for fitted estimators */\n",
       "  --sklearn-color-fitted-level-0: #f0f8ff;\n",
       "  --sklearn-color-fitted-level-1: #d4ebff;\n",
       "  --sklearn-color-fitted-level-2: #b3dbfd;\n",
       "  --sklearn-color-fitted-level-3: cornflowerblue;\n",
       "\n",
       "  /* Specific color for light theme */\n",
       "  --sklearn-color-text-on-default-background: var(--sg-text-color, var(--theme-code-foreground, var(--jp-content-font-color1, black)));\n",
       "  --sklearn-color-background: var(--sg-background-color, var(--theme-background, var(--jp-layout-color0, white)));\n",
       "  --sklearn-color-border-box: var(--sg-text-color, var(--theme-code-foreground, var(--jp-content-font-color1, black)));\n",
       "  --sklearn-color-icon: #696969;\n",
       "\n",
       "  @media (prefers-color-scheme: dark) {\n",
       "    /* Redefinition of color scheme for dark theme */\n",
       "    --sklearn-color-text-on-default-background: var(--sg-text-color, var(--theme-code-foreground, var(--jp-content-font-color1, white)));\n",
       "    --sklearn-color-background: var(--sg-background-color, var(--theme-background, var(--jp-layout-color0, #111)));\n",
       "    --sklearn-color-border-box: var(--sg-text-color, var(--theme-code-foreground, var(--jp-content-font-color1, white)));\n",
       "    --sklearn-color-icon: #878787;\n",
       "  }\n",
       "}\n",
       "\n",
       "#sk-container-id-2 {\n",
       "  color: var(--sklearn-color-text);\n",
       "}\n",
       "\n",
       "#sk-container-id-2 pre {\n",
       "  padding: 0;\n",
       "}\n",
       "\n",
       "#sk-container-id-2 input.sk-hidden--visually {\n",
       "  border: 0;\n",
       "  clip: rect(1px 1px 1px 1px);\n",
       "  clip: rect(1px, 1px, 1px, 1px);\n",
       "  height: 1px;\n",
       "  margin: -1px;\n",
       "  overflow: hidden;\n",
       "  padding: 0;\n",
       "  position: absolute;\n",
       "  width: 1px;\n",
       "}\n",
       "\n",
       "#sk-container-id-2 div.sk-dashed-wrapped {\n",
       "  border: 1px dashed var(--sklearn-color-line);\n",
       "  margin: 0 0.4em 0.5em 0.4em;\n",
       "  box-sizing: border-box;\n",
       "  padding-bottom: 0.4em;\n",
       "  background-color: var(--sklearn-color-background);\n",
       "}\n",
       "\n",
       "#sk-container-id-2 div.sk-container {\n",
       "  /* jupyter's `normalize.less` sets `[hidden] { display: none; }`\n",
       "     but bootstrap.min.css set `[hidden] { display: none !important; }`\n",
       "     so we also need the `!important` here to be able to override the\n",
       "     default hidden behavior on the sphinx rendered scikit-learn.org.\n",
       "     See: https://github.com/scikit-learn/scikit-learn/issues/21755 */\n",
       "  display: inline-block !important;\n",
       "  position: relative;\n",
       "}\n",
       "\n",
       "#sk-container-id-2 div.sk-text-repr-fallback {\n",
       "  display: none;\n",
       "}\n",
       "\n",
       "div.sk-parallel-item,\n",
       "div.sk-serial,\n",
       "div.sk-item {\n",
       "  /* draw centered vertical line to link estimators */\n",
       "  background-image: linear-gradient(var(--sklearn-color-text-on-default-background), var(--sklearn-color-text-on-default-background));\n",
       "  background-size: 2px 100%;\n",
       "  background-repeat: no-repeat;\n",
       "  background-position: center center;\n",
       "}\n",
       "\n",
       "/* Parallel-specific style estimator block */\n",
       "\n",
       "#sk-container-id-2 div.sk-parallel-item::after {\n",
       "  content: \"\";\n",
       "  width: 100%;\n",
       "  border-bottom: 2px solid var(--sklearn-color-text-on-default-background);\n",
       "  flex-grow: 1;\n",
       "}\n",
       "\n",
       "#sk-container-id-2 div.sk-parallel {\n",
       "  display: flex;\n",
       "  align-items: stretch;\n",
       "  justify-content: center;\n",
       "  background-color: var(--sklearn-color-background);\n",
       "  position: relative;\n",
       "}\n",
       "\n",
       "#sk-container-id-2 div.sk-parallel-item {\n",
       "  display: flex;\n",
       "  flex-direction: column;\n",
       "}\n",
       "\n",
       "#sk-container-id-2 div.sk-parallel-item:first-child::after {\n",
       "  align-self: flex-end;\n",
       "  width: 50%;\n",
       "}\n",
       "\n",
       "#sk-container-id-2 div.sk-parallel-item:last-child::after {\n",
       "  align-self: flex-start;\n",
       "  width: 50%;\n",
       "}\n",
       "\n",
       "#sk-container-id-2 div.sk-parallel-item:only-child::after {\n",
       "  width: 0;\n",
       "}\n",
       "\n",
       "/* Serial-specific style estimator block */\n",
       "\n",
       "#sk-container-id-2 div.sk-serial {\n",
       "  display: flex;\n",
       "  flex-direction: column;\n",
       "  align-items: center;\n",
       "  background-color: var(--sklearn-color-background);\n",
       "  padding-right: 1em;\n",
       "  padding-left: 1em;\n",
       "}\n",
       "\n",
       "\n",
       "/* Toggleable style: style used for estimator/Pipeline/ColumnTransformer box that is\n",
       "clickable and can be expanded/collapsed.\n",
       "- Pipeline and ColumnTransformer use this feature and define the default style\n",
       "- Estimators will overwrite some part of the style using the `sk-estimator` class\n",
       "*/\n",
       "\n",
       "/* Pipeline and ColumnTransformer style (default) */\n",
       "\n",
       "#sk-container-id-2 div.sk-toggleable {\n",
       "  /* Default theme specific background. It is overwritten whether we have a\n",
       "  specific estimator or a Pipeline/ColumnTransformer */\n",
       "  background-color: var(--sklearn-color-background);\n",
       "}\n",
       "\n",
       "/* Toggleable label */\n",
       "#sk-container-id-2 label.sk-toggleable__label {\n",
       "  cursor: pointer;\n",
       "  display: flex;\n",
       "  width: 100%;\n",
       "  margin-bottom: 0;\n",
       "  padding: 0.5em;\n",
       "  box-sizing: border-box;\n",
       "  text-align: center;\n",
       "  align-items: start;\n",
       "  justify-content: space-between;\n",
       "  gap: 0.5em;\n",
       "}\n",
       "\n",
       "#sk-container-id-2 label.sk-toggleable__label .caption {\n",
       "  font-size: 0.6rem;\n",
       "  font-weight: lighter;\n",
       "  color: var(--sklearn-color-text-muted);\n",
       "}\n",
       "\n",
       "#sk-container-id-2 label.sk-toggleable__label-arrow:before {\n",
       "  /* Arrow on the left of the label */\n",
       "  content: \"▸\";\n",
       "  float: left;\n",
       "  margin-right: 0.25em;\n",
       "  color: var(--sklearn-color-icon);\n",
       "}\n",
       "\n",
       "#sk-container-id-2 label.sk-toggleable__label-arrow:hover:before {\n",
       "  color: var(--sklearn-color-text);\n",
       "}\n",
       "\n",
       "/* Toggleable content - dropdown */\n",
       "\n",
       "#sk-container-id-2 div.sk-toggleable__content {\n",
       "  max-height: 0;\n",
       "  max-width: 0;\n",
       "  overflow: hidden;\n",
       "  text-align: left;\n",
       "  /* unfitted */\n",
       "  background-color: var(--sklearn-color-unfitted-level-0);\n",
       "}\n",
       "\n",
       "#sk-container-id-2 div.sk-toggleable__content.fitted {\n",
       "  /* fitted */\n",
       "  background-color: var(--sklearn-color-fitted-level-0);\n",
       "}\n",
       "\n",
       "#sk-container-id-2 div.sk-toggleable__content pre {\n",
       "  margin: 0.2em;\n",
       "  border-radius: 0.25em;\n",
       "  color: var(--sklearn-color-text);\n",
       "  /* unfitted */\n",
       "  background-color: var(--sklearn-color-unfitted-level-0);\n",
       "}\n",
       "\n",
       "#sk-container-id-2 div.sk-toggleable__content.fitted pre {\n",
       "  /* unfitted */\n",
       "  background-color: var(--sklearn-color-fitted-level-0);\n",
       "}\n",
       "\n",
       "#sk-container-id-2 input.sk-toggleable__control:checked~div.sk-toggleable__content {\n",
       "  /* Expand drop-down */\n",
       "  max-height: 200px;\n",
       "  max-width: 100%;\n",
       "  overflow: auto;\n",
       "}\n",
       "\n",
       "#sk-container-id-2 input.sk-toggleable__control:checked~label.sk-toggleable__label-arrow:before {\n",
       "  content: \"▾\";\n",
       "}\n",
       "\n",
       "/* Pipeline/ColumnTransformer-specific style */\n",
       "\n",
       "#sk-container-id-2 div.sk-label input.sk-toggleable__control:checked~label.sk-toggleable__label {\n",
       "  color: var(--sklearn-color-text);\n",
       "  background-color: var(--sklearn-color-unfitted-level-2);\n",
       "}\n",
       "\n",
       "#sk-container-id-2 div.sk-label.fitted input.sk-toggleable__control:checked~label.sk-toggleable__label {\n",
       "  background-color: var(--sklearn-color-fitted-level-2);\n",
       "}\n",
       "\n",
       "/* Estimator-specific style */\n",
       "\n",
       "/* Colorize estimator box */\n",
       "#sk-container-id-2 div.sk-estimator input.sk-toggleable__control:checked~label.sk-toggleable__label {\n",
       "  /* unfitted */\n",
       "  background-color: var(--sklearn-color-unfitted-level-2);\n",
       "}\n",
       "\n",
       "#sk-container-id-2 div.sk-estimator.fitted input.sk-toggleable__control:checked~label.sk-toggleable__label {\n",
       "  /* fitted */\n",
       "  background-color: var(--sklearn-color-fitted-level-2);\n",
       "}\n",
       "\n",
       "#sk-container-id-2 div.sk-label label.sk-toggleable__label,\n",
       "#sk-container-id-2 div.sk-label label {\n",
       "  /* The background is the default theme color */\n",
       "  color: var(--sklearn-color-text-on-default-background);\n",
       "}\n",
       "\n",
       "/* On hover, darken the color of the background */\n",
       "#sk-container-id-2 div.sk-label:hover label.sk-toggleable__label {\n",
       "  color: var(--sklearn-color-text);\n",
       "  background-color: var(--sklearn-color-unfitted-level-2);\n",
       "}\n",
       "\n",
       "/* Label box, darken color on hover, fitted */\n",
       "#sk-container-id-2 div.sk-label.fitted:hover label.sk-toggleable__label.fitted {\n",
       "  color: var(--sklearn-color-text);\n",
       "  background-color: var(--sklearn-color-fitted-level-2);\n",
       "}\n",
       "\n",
       "/* Estimator label */\n",
       "\n",
       "#sk-container-id-2 div.sk-label label {\n",
       "  font-family: monospace;\n",
       "  font-weight: bold;\n",
       "  display: inline-block;\n",
       "  line-height: 1.2em;\n",
       "}\n",
       "\n",
       "#sk-container-id-2 div.sk-label-container {\n",
       "  text-align: center;\n",
       "}\n",
       "\n",
       "/* Estimator-specific */\n",
       "#sk-container-id-2 div.sk-estimator {\n",
       "  font-family: monospace;\n",
       "  border: 1px dotted var(--sklearn-color-border-box);\n",
       "  border-radius: 0.25em;\n",
       "  box-sizing: border-box;\n",
       "  margin-bottom: 0.5em;\n",
       "  /* unfitted */\n",
       "  background-color: var(--sklearn-color-unfitted-level-0);\n",
       "}\n",
       "\n",
       "#sk-container-id-2 div.sk-estimator.fitted {\n",
       "  /* fitted */\n",
       "  background-color: var(--sklearn-color-fitted-level-0);\n",
       "}\n",
       "\n",
       "/* on hover */\n",
       "#sk-container-id-2 div.sk-estimator:hover {\n",
       "  /* unfitted */\n",
       "  background-color: var(--sklearn-color-unfitted-level-2);\n",
       "}\n",
       "\n",
       "#sk-container-id-2 div.sk-estimator.fitted:hover {\n",
       "  /* fitted */\n",
       "  background-color: var(--sklearn-color-fitted-level-2);\n",
       "}\n",
       "\n",
       "/* Specification for estimator info (e.g. \"i\" and \"?\") */\n",
       "\n",
       "/* Common style for \"i\" and \"?\" */\n",
       "\n",
       ".sk-estimator-doc-link,\n",
       "a:link.sk-estimator-doc-link,\n",
       "a:visited.sk-estimator-doc-link {\n",
       "  float: right;\n",
       "  font-size: smaller;\n",
       "  line-height: 1em;\n",
       "  font-family: monospace;\n",
       "  background-color: var(--sklearn-color-background);\n",
       "  border-radius: 1em;\n",
       "  height: 1em;\n",
       "  width: 1em;\n",
       "  text-decoration: none !important;\n",
       "  margin-left: 0.5em;\n",
       "  text-align: center;\n",
       "  /* unfitted */\n",
       "  border: var(--sklearn-color-unfitted-level-1) 1pt solid;\n",
       "  color: var(--sklearn-color-unfitted-level-1);\n",
       "}\n",
       "\n",
       ".sk-estimator-doc-link.fitted,\n",
       "a:link.sk-estimator-doc-link.fitted,\n",
       "a:visited.sk-estimator-doc-link.fitted {\n",
       "  /* fitted */\n",
       "  border: var(--sklearn-color-fitted-level-1) 1pt solid;\n",
       "  color: var(--sklearn-color-fitted-level-1);\n",
       "}\n",
       "\n",
       "/* On hover */\n",
       "div.sk-estimator:hover .sk-estimator-doc-link:hover,\n",
       ".sk-estimator-doc-link:hover,\n",
       "div.sk-label-container:hover .sk-estimator-doc-link:hover,\n",
       ".sk-estimator-doc-link:hover {\n",
       "  /* unfitted */\n",
       "  background-color: var(--sklearn-color-unfitted-level-3);\n",
       "  color: var(--sklearn-color-background);\n",
       "  text-decoration: none;\n",
       "}\n",
       "\n",
       "div.sk-estimator.fitted:hover .sk-estimator-doc-link.fitted:hover,\n",
       ".sk-estimator-doc-link.fitted:hover,\n",
       "div.sk-label-container:hover .sk-estimator-doc-link.fitted:hover,\n",
       ".sk-estimator-doc-link.fitted:hover {\n",
       "  /* fitted */\n",
       "  background-color: var(--sklearn-color-fitted-level-3);\n",
       "  color: var(--sklearn-color-background);\n",
       "  text-decoration: none;\n",
       "}\n",
       "\n",
       "/* Span, style for the box shown on hovering the info icon */\n",
       ".sk-estimator-doc-link span {\n",
       "  display: none;\n",
       "  z-index: 9999;\n",
       "  position: relative;\n",
       "  font-weight: normal;\n",
       "  right: .2ex;\n",
       "  padding: .5ex;\n",
       "  margin: .5ex;\n",
       "  width: min-content;\n",
       "  min-width: 20ex;\n",
       "  max-width: 50ex;\n",
       "  color: var(--sklearn-color-text);\n",
       "  box-shadow: 2pt 2pt 4pt #999;\n",
       "  /* unfitted */\n",
       "  background: var(--sklearn-color-unfitted-level-0);\n",
       "  border: .5pt solid var(--sklearn-color-unfitted-level-3);\n",
       "}\n",
       "\n",
       ".sk-estimator-doc-link.fitted span {\n",
       "  /* fitted */\n",
       "  background: var(--sklearn-color-fitted-level-0);\n",
       "  border: var(--sklearn-color-fitted-level-3);\n",
       "}\n",
       "\n",
       ".sk-estimator-doc-link:hover span {\n",
       "  display: block;\n",
       "}\n",
       "\n",
       "/* \"?\"-specific style due to the `<a>` HTML tag */\n",
       "\n",
       "#sk-container-id-2 a.estimator_doc_link {\n",
       "  float: right;\n",
       "  font-size: 1rem;\n",
       "  line-height: 1em;\n",
       "  font-family: monospace;\n",
       "  background-color: var(--sklearn-color-background);\n",
       "  border-radius: 1rem;\n",
       "  height: 1rem;\n",
       "  width: 1rem;\n",
       "  text-decoration: none;\n",
       "  /* unfitted */\n",
       "  color: var(--sklearn-color-unfitted-level-1);\n",
       "  border: var(--sklearn-color-unfitted-level-1) 1pt solid;\n",
       "}\n",
       "\n",
       "#sk-container-id-2 a.estimator_doc_link.fitted {\n",
       "  /* fitted */\n",
       "  border: var(--sklearn-color-fitted-level-1) 1pt solid;\n",
       "  color: var(--sklearn-color-fitted-level-1);\n",
       "}\n",
       "\n",
       "/* On hover */\n",
       "#sk-container-id-2 a.estimator_doc_link:hover {\n",
       "  /* unfitted */\n",
       "  background-color: var(--sklearn-color-unfitted-level-3);\n",
       "  color: var(--sklearn-color-background);\n",
       "  text-decoration: none;\n",
       "}\n",
       "\n",
       "#sk-container-id-2 a.estimator_doc_link.fitted:hover {\n",
       "  /* fitted */\n",
       "  background-color: var(--sklearn-color-fitted-level-3);\n",
       "}\n",
       "</style><div id=\"sk-container-id-2\" class=\"sk-top-container\"><div class=\"sk-text-repr-fallback\"><pre>MultinomialNB()</pre><b>In a Jupyter environment, please rerun this cell to show the HTML representation or trust the notebook. <br />On GitHub, the HTML representation is unable to render, please try loading this page with nbviewer.org.</b></div><div class=\"sk-container\" hidden><div class=\"sk-item\"><div class=\"sk-estimator fitted sk-toggleable\"><input class=\"sk-toggleable__control sk-hidden--visually\" id=\"sk-estimator-id-2\" type=\"checkbox\" checked><label for=\"sk-estimator-id-2\" class=\"sk-toggleable__label fitted sk-toggleable__label-arrow\"><div><div>MultinomialNB</div></div><div><a class=\"sk-estimator-doc-link fitted\" rel=\"noreferrer\" target=\"_blank\" href=\"https://scikit-learn.org/1.6/modules/generated/sklearn.naive_bayes.MultinomialNB.html\">?<span>Documentation for MultinomialNB</span></a><span class=\"sk-estimator-doc-link fitted\">i<span>Fitted</span></span></div></label><div class=\"sk-toggleable__content fitted\"><pre>MultinomialNB()</pre></div> </div></div></div></div>"
      ],
      "text/plain": [
       "MultinomialNB()"
      ]
     },
     "execution_count": 17,
     "metadata": {},
     "output_type": "execute_result"
    }
   ],
   "source": [
    "naive_model.fit(tfidf_vect_train, y_train)"
   ]
  },
  {
   "cell_type": "markdown",
   "id": "5f53eda6",
   "metadata": {},
   "source": [
    "### Vectorize the test data"
   ]
  },
  {
   "cell_type": "code",
   "execution_count": 18,
   "id": "70f8c5eb",
   "metadata": {},
   "outputs": [],
   "source": [
    "# Vectorization of the test set\n",
    "tfidf_vect_test = tfidf_vectorizer.transform(X_test)"
   ]
  },
  {
   "cell_type": "markdown",
   "id": "48eaaee0",
   "metadata": {},
   "source": [
    "### Predict the test data"
   ]
  },
  {
   "cell_type": "code",
   "execution_count": 19,
   "id": "af903e55",
   "metadata": {},
   "outputs": [],
   "source": [
    "# Prediction\n",
    "y_pred = naive_model.predict(tfidf_vect_test) # Prédit les labels sur les données de test"
   ]
  },
  {
   "cell_type": "markdown",
   "id": "c8e98d0c",
   "metadata": {},
   "source": [
    "### Analysis - Confusion Matrix"
   ]
  },
  {
   "cell_type": "code",
   "execution_count": 20,
   "id": "78c5f25f",
   "metadata": {},
   "outputs": [
    {
     "data": {
      "image/png": "[encoded data removed]",
      "text/plain": [
       "<Figure size 640x480 with 2 Axes>"
      ]
     },
     "metadata": {},
     "output_type": "display_data"
    }
   ],
   "source": [
    "# Labels (1 = Real News, 0 = fake News)\n",
    "\n",
    "from sklearn.metrics import confusion_matrix, ConfusionMatrixDisplay\n",
    "import matplotlib.pyplot as plt\n",
    "\n",
    "cm = confusion_matrix(y_test, y_pred)\n",
    "disp = ConfusionMatrixDisplay(confusion_matrix=cm, display_labels=[\"Fake News\", \"Real News\"])\n",
    "disp.plot(cmap=\"Blues\")\n",
    "plt.title(\"Confusion Matrix - Naive Bayes\")\n",
    "plt.show()"
   ]
  },
  {
   "cell_type": "markdown",
   "id": "7f8a3a19",
   "metadata": {},
   "source": [
    "### Analysis - ROC Curve"
   ]
  },
  {
   "cell_type": "code",
   "execution_count": 21,
   "id": "0bac97c7",
   "metadata": {},
   "outputs": [
    {
     "data": {
      "image/png": "[encoded data removed]",
      "text/plain": [
       "<Figure size 640x480 with 1 Axes>"
      ]
     },
     "metadata": {},
     "output_type": "display_data"
    }
   ],
   "source": [
    "from sklearn.metrics import roc_curve, auc\n",
    "\n",
    "y_proba = naive_model.predict_proba(tfidf_vect_test)[:, 1]\n",
    "fpr, tpr, thresholds = roc_curve(y_test, y_proba)\n",
    "roc_auc = auc(fpr, tpr)\n",
    "\n",
    "plt.figure()\n",
    "plt.plot(fpr, tpr, color='darkorange', lw=2, label=f\"ROC curve (AUC = {roc_auc:.2f})\")\n",
    "plt.plot([0, 1], [0, 1], color='navy', lw=2, linestyle='--')\n",
    "plt.xlim([0.0, 1.0])\n",
    "plt.ylim([0.0, 1.05])\n",
    "plt.xlabel(\"Faux positifs\")\n",
    "plt.ylabel(\"Vrais positifs\")\n",
    "plt.title(\"ROC curve - Naive Bayes\")\n",
    "plt.legend(loc=\"lower right\")\n",
    "plt.grid()\n",
    "plt.show()"
   ]
  },
  {
   "cell_type": "markdown",
   "id": "6bd243d7",
   "metadata": {},
   "source": [
    "### Analysis - Classification Report"
   ]
  },
  {
   "cell_type": "code",
   "execution_count": 22,
   "id": "520d9950",
   "metadata": {},
   "outputs": [
    {
     "name": "stdout",
     "output_type": "stream",
     "text": [
      "              precision    recall  f1-score   support\n",
      "\n",
      "   Fake News       0.50      0.99      0.67      2022\n",
      "   Real News       0.00      0.00      0.00      1973\n",
      "\n",
      "    accuracy                           0.50      3995\n",
      "   macro avg       0.25      0.50      0.33      3995\n",
      "weighted avg       0.26      0.50      0.34      3995\n",
      "\n"
     ]
    }
   ],
   "source": [
    "from sklearn.metrics import classification_report\n",
    "\n",
    "# Classification report\n",
    "print(classification_report(y_test, y_pred, target_names=[\"Fake News\", \"Real News\"]))"
   ]
  },
  {
   "cell_type": "markdown",
   "id": "3b96346d",
   "metadata": {},
   "source": [
    "### Analysis - Accuracy Score"
   ]
  },
  {
   "cell_type": "code",
   "execution_count": 23,
   "id": "d2862b8d",
   "metadata": {},
   "outputs": [
    {
     "name": "stdout",
     "output_type": "stream",
     "text": [
      "Final accuracy : 0.5019\n"
     ]
    }
   ],
   "source": [
    "from sklearn.metrics import accuracy_score\n",
    "\n",
    "# Calcul de l'accuracy\n",
    "accuracy = accuracy_score(y_test, y_pred)\n",
    "print(f\"Final accuracy : {accuracy:.4f}\")"
   ]
  },
  {
   "cell_type": "markdown",
   "id": "a858cb08",
   "metadata": {},
   "source": [
    "# 6. Model saving"
   ]
  },
  {
   "cell_type": "code",
   "execution_count": 24,
   "id": "7de35049",
   "metadata": {},
   "outputs": [],
   "source": [
    "import pickle\n",
    "import json\n",
    "\n",
    "# Save the model\n",
    "with open(\"../exports/naive_bayes_v1/nb_model_v1.pkl\", \"wb\") as f:\n",
    "    pickle.dump(naive_model, f)\n",
    "\n",
    "# Save the TfidfVectorizer\n",
    "with open(\"../exports/naive_bayes_v1/tfidf_vect_v1.pkl\", \"wb\") as f:\n",
    "    pickle.dump(tfidf_vectorizer, f)\n",
    "\n",
    "# Save the metadata\n",
    "metadata = {\n",
    "    \"model_name\": \"MultinomialNB_v1\",\n",
    "    \"vectorizer\": \"TfidfVectorizer\",\n",
    "    \"accuracy\": round(accuracy, 4),\n",
    "    \"date\": \"2025-05-22\",\n",
    "    \"preprocessing\": {\n",
    "        \"tokenization\": \"nltk word_tokenize\",\n",
    "        \"stopwords\": \"NLTK english\",\n",
    "        \"lemmatization\": \"WordNet POS-aware\",\n",
    "        \"lowercase\": True,\n",
    "        \"remove_punctuation\": True\n",
    "    },\n",
    "    \"vectorizer_params\": str(tfidf_vectorizer.get_params()),\n",
    "    \"model_params\": str(naive_model.get_params())\n",
    "}\n",
    "\n",
    "with open(\"../exports/naive_bayes_v1/nb_meta_v1.json\", \"w\") as f:\n",
    "    json.dump(metadata, f, indent=4)"
   ]
  },
  {
   "cell_type": "markdown",
   "id": "f2396845",
   "metadata": {},
   "source": [
    "# 7. Model (re)loading"
   ]
  },
  {
   "cell_type": "code",
   "execution_count": 25,
   "id": "a91a4010",
   "metadata": {},
   "outputs": [],
   "source": [
    "import pickle\n",
    "\n",
    "# Load the model\n",
    "with open(\"../exports/naive_bayes_v1/nb_model_v1.pkl\", \"rb\") as f:\n",
    "    nb_model = pickle.load(f)\n",
    "\n",
    "# Load the TfidfVectorizer\n",
    "with open(\"../exports/naive_bayes_v1/tfidf_vect_v1.pkl\", \"rb\") as f:\n",
    "    tfidf_vect = pickle.load(f)"
   ]
  },
  {
   "cell_type": "markdown",
   "id": "00b14000",
   "metadata": {},
   "source": [
    "# 8. Prediction\n",
    "\n",
    "We use the trained model to make predictions on new data. The predictions will be in the form of probabilities for each class (fake or real). We will also provide a threshold to classify the articles as fake or real based on the predicted probabilities."
   ]
  },
  {
   "cell_type": "code",
   "execution_count": 27,
   "id": "6ad579e0",
   "metadata": {},
   "outputs": [
    {
     "name": "stdout",
     "output_type": "stream",
     "text": [
      "Validation predictions saved to ../data/validation_predictions_v1.csv\n"
     ]
    }
   ],
   "source": [
    "# Load val data\n",
    "val_df = pd.read_csv(\"../../dataset/validation_data.csv\")\n",
    "\n",
    "# Pre-process the validation data\n",
    "val_df['combined_text'] = val_df['title'] + ' ' + val_df['text'] + ' ' + val_df['subject']\n",
    "val_df.drop(['label'], axis=1, inplace=True)\n",
    "\n",
    "X_val = val_df['combined_text'].apply(preprocessing_pipeline)\n",
    "\n",
    "# Vectorize the validation data\n",
    "tfidf_vect_val = tfidf_vect.transform(X_val)\n",
    "\n",
    "# Predict the labels\n",
    "y_val_pred = nb_model.predict(tfidf_vect_val)\n",
    "\n",
    "# Save the predictions\n",
    "val_df['predicted_label'] = y_val_pred\n",
    "val_df.to_csv(\"../data/validation_predictions_v1.csv\", index=False)\n",
    "print(\"Validation predictions saved to ../data/validation_predictions_v1.csv\")"
   ]
  }
 ],
 "metadata": {
  "kernelspec": {
   "display_name": "Python 3",
   "language": "python",
   "name": "python3"
  },
  "language_info": {
   "codemirror_mode": {
    "name": "ipython",
    "version": 3
   },
   "file_extension": ".py",
   "mimetype": "text/x-python",
   "name": "python",
   "nbconvert_exporter": "python",
   "pygments_lexer": "ipython3",
   "version": "3.12.10"
  }
 },
 "nbformat": 4,
 "nbformat_minor": 5
}
