{
 "cells": [
  {
   "cell_type": "markdown",
   "metadata": {},
   "source": [
    "# SVM Evaluation Notebook: Text Classification with TF-IDF"
   ]
  },
  {
   "cell_type": "markdown",
   "metadata": {},
   "source": [
    "### Step 1: Import Libraries"
   ]
  },
  {
   "cell_type": "code",
   "execution_count": 4,
   "metadata": {},
   "outputs": [],
   "source": [
    "import pandas as pd\n",
    "import numpy as np\n",
    "from sklearn.model_selection import train_test_split\n",
    "from sklearn.feature_extraction.text import TfidfVectorizer\n",
    "from sklearn.preprocessing import StandardScaler\n",
    "from sklearn.svm import SVC\n",
    "from sklearn.metrics import classification_report, confusion_matrix, accuracy_score, ConfusionMatrixDisplay\n",
    "import matplotlib.pyplot as plt"
   ]
  },
  {
   "cell_type": "markdown",
   "metadata": {},
   "source": [
    "### Step 2: Load Dataset from \"dataset/data.csv\""
   ]
  },
  {
   "cell_type": "code",
   "execution_count": 5,
   "metadata": {},
   "outputs": [
    {
     "name": "stdout",
     "output_type": "stream",
     "text": [
      "✅ Dataset loaded successfully from 'dataset/data.csv'.\n",
      "\n",
      "First few rows of the dataset:\n",
      "   label                                              title  \\\n",
      "0      1  As U.S. budget fight looms, Republicans flip t...   \n",
      "1      1  U.S. military to accept transgender recruits o...   \n",
      "2      1  Senior U.S. Republican senator: 'Let Mr. Muell...   \n",
      "3      1  FBI Russia probe helped by Australian diplomat...   \n",
      "4      1  Trump wants Postal Service to charge 'much mor...   \n",
      "\n",
      "                                                text       subject  \\\n",
      "0  WASHINGTON (Reuters) - The head of a conservat...  politicsNews   \n",
      "1  WASHINGTON (Reuters) - Transgender people will...  politicsNews   \n",
      "2  WASHINGTON (Reuters) - The special counsel inv...  politicsNews   \n",
      "3  WASHINGTON (Reuters) - Trump campaign adviser ...  politicsNews   \n",
      "4  SEATTLE/WASHINGTON (Reuters) - President Donal...  politicsNews   \n",
      "\n",
      "                 date  \n",
      "0  December 31, 2017   \n",
      "1  December 29, 2017   \n",
      "2  December 31, 2017   \n",
      "3  December 30, 2017   \n",
      "4  December 29, 2017   \n"
     ]
    }
   ],
   "source": [
    "try:\n",
    "    data = pd.read_csv('dataset/data.csv')\n",
    "    print(\"✅ Dataset loaded successfully from 'dataset/data.csv'.\")\n",
    "except FileNotFoundError:\n",
    "    print(\"⚠️ File not found. Generating synthetic text dataset instead.\")\n",
    "    from sklearn.datasets import make_classification\n",
    "    X, y = make_classification(n_samples=100, n_features=5, n_classes=2, random_state=42)\n",
    "    data = pd.DataFrame(X, columns=[f'feature_{i}' for i in range(1, 6)])\n",
    "    data['text'] = ['sample text'] * 100  # dummy placeholder\n",
    "    data['fake'] = y\n",
    "    \n",
    "# Show first few rows\n",
    "print(\"\\nFirst few rows of the dataset:\")\n",
    "print(data.head())"
   ]
  },
  {
   "cell_type": "markdown",
   "metadata": {},
   "source": [
    "### Step 3: Preprocess the Data"
   ]
  },
  {
   "cell_type": "code",
   "execution_count": 6,
   "metadata": {},
   "outputs": [
    {
     "name": "stdout",
     "output_type": "stream",
     "text": [
      "✅ TF-IDF shape: (39942, 1000)\n",
      "✅ Train/Test split: 31953 train, 7989 test\n"
     ]
    }
   ],
   "source": [
    "# Step 3: Use correct column names from your file\n",
    "text_column = 'text'   # this contains the article body\n",
    "target_column = 'label'  # 1 = fake, 0 = real\n",
    "\n",
    "# Ensure the cell where 'data' is defined (CELL INDEX 4) is executed before running this cell.\n",
    "# Validate if 'data' exists\n",
    "if 'data' not in locals():\n",
    "    raise NameError(\"❌ The variable 'data' is not defined. Please ensure the dataset is loaded correctly by executing the earlier cells.\")\n",
    "\n",
    "# Validate columns\n",
    "if text_column not in data.columns or target_column not in data.columns:\n",
    "    raise KeyError(\"❌ Required columns not found in the dataset.\")\n",
    "\n",
    "# Step 4: Prepare features and labels\n",
    "data[text_column] = data[text_column].astype(str)  # Make sure text is string\n",
    "X_raw = data[text_column]\n",
    "y = data[target_column]\n",
    "\n",
    "# Step 5: Convert text to TF-IDF vectors\n",
    "vectorizer = TfidfVectorizer(max_features=1000)\n",
    "X = vectorizer.fit_transform(X_raw)\n",
    "\n",
    "print(f\"✅ TF-IDF shape: {X.shape}\")\n",
    "\n",
    "# Step 6: Split into training and test sets\n",
    "X_train, X_test, y_train, y_test = train_test_split(\n",
    "    X, y, test_size=0.2, random_state=42)\n",
    "\n",
    "print(f\"✅ Train/Test split: {X_train.shape[0]} train, {X_test.shape[0]} test\")"
   ]
  },
  {
   "cell_type": "markdown",
   "metadata": {},
   "source": [
    "### Step 4: Train-Test Split"
   ]
  },
  {
   "cell_type": "code",
   "execution_count": 7,
   "metadata": {},
   "outputs": [],
   "source": [
    "X_train, X_test, y_train, y_test = train_test_split(X, y, test_size=0.2, random_state=42)"
   ]
  },
  {
   "cell_type": "markdown",
   "metadata": {},
   "source": [
    "### Step 5: Train the SVM Model"
   ]
  },
  {
   "cell_type": "code",
   "execution_count": 8,
   "metadata": {},
   "outputs": [
    {
     "name": "stdout",
     "output_type": "stream",
     "text": [
      "✅ Linear SVM model trained successfully.\n"
     ]
    }
   ],
   "source": [
    "from sklearn.svm import LinearSVC\n",
    "\n",
    "svm_model = LinearSVC()\n",
    "svm_model.fit(X_train, y_train)\n",
    "print(\"✅ Linear SVM model trained successfully.\")"
   ]
  },
  {
   "cell_type": "markdown",
   "metadata": {},
   "source": [
    "### Step 6: Make Predictions"
   ]
  },
  {
   "cell_type": "code",
   "execution_count": 9,
   "metadata": {},
   "outputs": [],
   "source": [
    "y_pred = svm_model.predict(X_test)"
   ]
  },
  {
   "cell_type": "markdown",
   "metadata": {},
   "source": [
    "### Step 7: Evaluation"
   ]
  },
  {
   "cell_type": "code",
   "execution_count": 10,
   "metadata": {},
   "outputs": [
    {
     "name": "stdout",
     "output_type": "stream",
     "text": [
      "\n",
      "📊 Evaluation Results:\n",
      "Confusion Matrix:\n",
      "[[3964   32]\n",
      " [  16 3977]]\n",
      "\n",
      "Classification Report:\n",
      "              precision    recall  f1-score   support\n",
      "\n",
      "           0       1.00      0.99      0.99      3996\n",
      "           1       0.99      1.00      0.99      3993\n",
      "\n",
      "    accuracy                           0.99      7989\n",
      "   macro avg       0.99      0.99      0.99      7989\n",
      "weighted avg       0.99      0.99      0.99      7989\n",
      "\n",
      "Accuracy Score: 0.9939917386406308\n"
     ]
    }
   ],
   "source": [
    "print(\"\\n📊 Evaluation Results:\")\n",
    "print(\"Confusion Matrix:\")\n",
    "print(confusion_matrix(y_test, y_pred))\n",
    "print(\"\\nClassification Report:\")\n",
    "print(classification_report(y_test, y_pred))\n",
    "print(\"Accuracy Score:\", accuracy_score(y_test, y_pred))"
   ]
  },
  {
   "cell_type": "markdown",
   "metadata": {},
   "source": [
    "### Step 8: Confusion Matrix Plot"
   ]
  },
  {
   "cell_type": "code",
   "execution_count": 11,
   "metadata": {},
   "outputs": [
    {
     "data": {
      "image/png": "[encoded data removed]",
      "text/plain": [
       "<Figure size 640x480 with 2 Axes>"
      ]
     },
     "metadata": {},
     "output_type": "display_data"
    }
   ],
   "source": [
    "disp = ConfusionMatrixDisplay.from_predictions(y_test, y_pred)\n",
    "plt.title(\"Confusion Matrix\")\n",
    "plt.show()"
   ]
  }
 ],
 "metadata": {
  "kernelspec": {
   "display_name": "Python 3",
   "language": "python",
   "name": "python3"
  },
  "language_info": {
   "codemirror_mode": {
    "name": "ipython",
    "version": 3
   },
   "file_extension": ".py",
   "mimetype": "text/x-python",
   "name": "python",
   "nbconvert_exporter": "python",
   "pygments_lexer": "ipython3",
   "version": "3.9.6"
  }
 },
 "nbformat": 4,
 "nbformat_minor": 2
}
