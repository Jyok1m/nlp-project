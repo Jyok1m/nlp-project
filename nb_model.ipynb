{
 "cells": [
  {
   "cell_type": "code",
   "execution_count": 1,
   "id": "3ef7565a",
   "metadata": {},
   "outputs": [
    {
     "data": {
      "text/html": [
       "<style>.container { width:100% !important; }</style>"
      ],
      "text/plain": [
       "<IPython.core.display.HTML object>"
      ]
     },
     "metadata": {},
     "output_type": "display_data"
    }
   ],
   "source": [
    "from IPython.display import display, HTML\n",
    "display(HTML(\"<style>.container { width:100% !important; }</style>\"))"
   ]
  },
  {
   "cell_type": "markdown",
   "id": "4067e2fa",
   "metadata": {},
   "source": [
    "# 1. Data exploration"
   ]
  },
  {
   "cell_type": "markdown",
   "id": "8bf7ea42",
   "metadata": {},
   "source": [
    "## 1.1 Imports"
   ]
  },
  {
   "cell_type": "code",
   "execution_count": 2,
   "id": "fab33a14",
   "metadata": {},
   "outputs": [],
   "source": [
    "import pandas as pd\n",
    "import numpy as np\n",
    "import matplotlib.pyplot as plt\n",
    "import nltk\n",
    "\n",
    "from sklearn.feature_extraction.text import CountVectorizer\n",
    "from sklearn.feature_extraction.text import TfidfVectorizer\n",
    "from sklearn.naive_bayes import MultinomialNB\n",
    "from sklearn.ensemble import RandomForestClassifier\n",
    "from sklearn.metrics import classification_report,confusion_matrix,accuracy_score"
   ]
  },
  {
   "cell_type": "markdown",
   "id": "bde2c961",
   "metadata": {},
   "source": [
    "## 1.2 Load data"
   ]
  },
  {
   "cell_type": "code",
   "execution_count": 3,
   "id": "2b02a424",
   "metadata": {},
   "outputs": [],
   "source": [
    "df = pd.read_csv(\"./dataset/data.csv\")"
   ]
  },
  {
   "cell_type": "markdown",
   "id": "530a15e7",
   "metadata": {},
   "source": [
    "## 1.3 Inspect data\n",
    "\n",
    "We inspect the data to understand its structure, types, and any potential issues."
   ]
  },
  {
   "cell_type": "code",
   "execution_count": 4,
   "id": "413352a6",
   "metadata": {},
   "outputs": [
    {
     "data": {
      "text/plain": [
       "(39942, 5)"
      ]
     },
     "execution_count": 4,
     "metadata": {},
     "output_type": "execute_result"
    }
   ],
   "source": [
    "df.shape"
   ]
  },
  {
   "cell_type": "code",
   "execution_count": 5,
   "id": "490172b5",
   "metadata": {},
   "outputs": [
    {
     "data": {
      "text/plain": [
       "label       int64\n",
       "title      object\n",
       "text       object\n",
       "subject    object\n",
       "date       object\n",
       "dtype: object"
      ]
     },
     "execution_count": 5,
     "metadata": {},
     "output_type": "execute_result"
    }
   ],
   "source": [
    "df.dtypes"
   ]
  },
  {
   "cell_type": "code",
   "execution_count": 6,
   "id": "5b272eba",
   "metadata": {},
   "outputs": [
    {
     "data": {
      "text/plain": [
       "Index(['label', 'title', 'text', 'subject', 'date'], dtype='object')"
      ]
     },
     "execution_count": 6,
     "metadata": {},
     "output_type": "execute_result"
    }
   ],
   "source": [
    "df.columns"
   ]
  },
  {
   "cell_type": "code",
   "execution_count": 7,
   "id": "ecdd5cdd",
   "metadata": {},
   "outputs": [
    {
     "data": {
      "application/vnd.microsoft.datawrangler.viewer.v0+json": {
       "columns": [
        {
         "name": "index",
         "rawType": "int64",
         "type": "integer"
        },
        {
         "name": "label",
         "rawType": "int64",
         "type": "integer"
        },
        {
         "name": "title",
         "rawType": "object",
         "type": "string"
        },
        {
         "name": "text",
         "rawType": "object",
         "type": "string"
        },
        {
         "name": "subject",
         "rawType": "object",
         "type": "string"
        },
        {
         "name": "date",
         "rawType": "object",
         "type": "string"
        }
       ],
       "conversionMethod": "pd.DataFrame",
       "ref": "f567a509-2da9-4362-a6a2-122c10966954",
       "rows": [
        [
         "0",
         "1",
         "As U.S. budget fight looms, Republicans flip their fiscal script",
         "WASHINGTON (Reuters) - The head of a conservative Republican faction in the U.S. Congress, who voted this month for a huge expansion of the national debt to pay for tax cuts, called himself a “fiscal conservative” on Sunday and urged budget restraint in 2018. In keeping with a sharp pivot under way among Republicans, U.S. Representative Mark Meadows, speaking on CBS’ “Face the Nation,” drew a hard line on federal spending, which lawmakers are bracing to do battle over in January. When they return from the holidays on Wednesday, lawmakers will begin trying to pass a federal budget in a fight likely to be linked to other issues, such as immigration policy, even as the November congressional election campaigns approach in which Republicans will seek to keep control of Congress. President Donald Trump and his Republicans want a big budget increase in military spending, while Democrats also want proportional increases for non-defense “discretionary” spending on programs that support education, scientific research, infrastructure, public health and environmental protection. “The (Trump) administration has already been willing to say: ‘We’re going to increase non-defense discretionary spending ... by about 7 percent,’” Meadows, chairman of the small but influential House Freedom Caucus, said on the program. “Now, Democrats are saying that’s not enough, we need to give the government a pay raise of 10 to 11 percent. For a fiscal conservative, I don’t see where the rationale is. ... Eventually you run out of other people’s money,” he said. Meadows was among Republicans who voted in late December for their party’s debt-financed tax overhaul, which is expected to balloon the federal budget deficit and add about $1.5 trillion over 10 years to the $20 trillion national debt. “It’s interesting to hear Mark talk about fiscal responsibility,” Democratic U.S. Representative Joseph Crowley said on CBS. Crowley said the Republican tax bill would require the  United States to borrow $1.5 trillion, to be paid off by future generations, to finance tax cuts for corporations and the rich. “This is one of the least ... fiscally responsible bills we’ve ever seen passed in the history of the House of Representatives. I think we’re going to be paying for this for many, many years to come,” Crowley said. Republicans insist the tax package, the biggest U.S. tax overhaul in more than 30 years,  will boost the economy and job growth. House Speaker Paul Ryan, who also supported the tax bill, recently went further than Meadows, making clear in a radio interview that welfare or “entitlement reform,” as the party often calls it, would be a top Republican priority in 2018. In Republican parlance, “entitlement” programs mean food stamps, housing assistance, Medicare and Medicaid health insurance for the elderly, poor and disabled, as well as other programs created by Washington to assist the needy. Democrats seized on Ryan’s early December remarks, saying they showed Republicans would try to pay for their tax overhaul by seeking spending cuts for social programs. But the goals of House Republicans may have to take a back seat to the Senate, where the votes of some Democrats will be needed to approve a budget and prevent a government shutdown. Democrats will use their leverage in the Senate, which Republicans narrowly control, to defend both discretionary non-defense programs and social spending, while tackling the issue of the “Dreamers,” people brought illegally to the country as children. Trump in September put a March 2018 expiration date on the Deferred Action for Childhood Arrivals, or DACA, program, which protects the young immigrants from deportation and provides them with work permits. The president has said in recent Twitter messages he wants funding for his proposed Mexican border wall and other immigration law changes in exchange for agreeing to help the Dreamers. Representative Debbie Dingell told CBS she did not favor linking that issue to other policy objectives, such as wall funding. “We need to do DACA clean,” she said.  On Wednesday, Trump aides will meet with congressional leaders to discuss those issues. That will be followed by a weekend of strategy sessions for Trump and Republican leaders on Jan. 6 and 7, the White House said. Trump was also scheduled to meet on Sunday with Florida Republican Governor Rick Scott, who wants more emergency aid. The House has passed an $81 billion aid package after hurricanes in Florida, Texas and Puerto Rico, and wildfires in California. The package far exceeded the $44 billion requested by the Trump administration. The Senate has not yet voted on the aid. ",
         "politicsNews",
         "December 31, 2017 "
        ],
        [
         "1",
         "1",
         "U.S. military to accept transgender recruits on Monday: Pentagon",
         "WASHINGTON (Reuters) - Transgender people will be allowed for the first time to enlist in the U.S. military starting on Monday as ordered by federal courts, the Pentagon said on Friday, after President Donald Trump’s administration decided not to appeal rulings that blocked his transgender ban. Two federal appeals courts, one in Washington and one in Virginia, last week rejected the administration’s request to put on hold orders by lower court judges requiring the military to begin accepting transgender recruits on Jan. 1. A Justice Department official said the administration will not challenge those rulings. “The Department of Defense has announced that it will be releasing an independent study of these issues in the coming weeks. So rather than litigate this interim appeal before that occurs, the administration has decided to wait for DOD’s study and will continue to defend the president’s lawful authority in District Court in the meantime,” the official said, speaking on condition of anonymity. In September, the Pentagon said it had created a panel of senior officials to study how to implement a directive by Trump to prohibit transgender individuals from serving. The Defense Department has until Feb. 21 to submit a plan to Trump. Lawyers representing currently-serving transgender service members and aspiring recruits said they had expected the administration to appeal the rulings to the conservative-majority Supreme Court, but were hoping that would not happen. Pentagon spokeswoman Heather Babb said in a statement: “As mandated by court order, the Department of Defense is prepared to begin accessing transgender applicants for military service Jan. 1. All applicants must meet all accession standards.” Jennifer Levi, a lawyer with gay, lesbian and transgender advocacy group GLAD, called the decision not to appeal “great news.” “I’m hoping it means the government has come to see that there is no way to justify a ban and that it’s not good for the military or our country,” Levi said. Both GLAD and the American Civil Liberties Union represent plaintiffs in the lawsuits filed against the administration. In a move that appealed to his hard-line conservative supporters, Trump announced in July that he would prohibit transgender people from serving in the military, reversing Democratic President Barack Obama’s policy of accepting them. Trump said on Twitter at the time that the military “cannot be burdened with the tremendous medical costs and disruption that transgender in the military would entail.” Four federal judges - in Baltimore, Washington, D.C., Seattle and Riverside, California - have issued rulings blocking Trump’s ban while legal challenges to the Republican president’s policy proceed. The judges said the ban would likely violate the right under the U.S. Constitution to equal protection under the law. The Pentagon on Dec. 8 issued guidelines to recruitment personnel in order to enlist transgender applicants by Jan. 1. The memo outlined medical requirements and specified how the applicants’ sex would be identified and even which undergarments they would wear. The Trump administration previously said in legal papers that the armed forces were not prepared to train thousands of personnel on the medical standards needed to process transgender applicants and might have to accept “some individuals who are not medically fit for service.” The Obama administration had set a deadline of July 1, 2017, to begin accepting transgender recruits. But Trump’s defense secretary, James Mattis, postponed that date to Jan. 1, 2018, which the president’s ban then put off indefinitely. Trump has taken other steps aimed at rolling back transgender rights. In October, his administration said a federal law banning gender-based workplace discrimination does not protect transgender employees, reversing another Obama-era position. In February, Trump rescinded guidance issued by the Obama administration saying that public schools should allow transgender students to use the restroom that corresponds to their gender identity. ",
         "politicsNews",
         "December 29, 2017 "
        ],
        [
         "2",
         "1",
         "Senior U.S. Republican senator: 'Let Mr. Mueller do his job'",
         "WASHINGTON (Reuters) - The special counsel investigation of links between Russia and President Trump’s 2016 election campaign should continue without interference in 2018, despite calls from some Trump administration allies and Republican lawmakers to shut it down, a prominent Republican senator said on Sunday. Lindsey Graham, who serves on the Senate armed forces and judiciary committees, said Department of Justice Special Counsel Robert Mueller needs to carry on with his Russia investigation without political interference. “This investigation will go forward. It will be an investigation conducted without political influence,” Graham said on CBS’s Face the Nation news program. “And we all need to let Mr. Mueller do his job. I think he’s the right guy at the right time.”  The question of how Russia may have interfered in the election, and how Trump’s campaign may have had links with or co-ordinated any such effort, has loomed over the White House since Trump took office in January. It shows no sign of receding as Trump prepares for his second year in power, despite intensified rhetoric from some Trump allies in recent weeks accusing Mueller’s team of bias against the Republican president. Trump himself seemed to undercut his supporters in an interview last week with the New York Times in which he said he expected Mueller was “going to be fair.”    Russia’s role in the election and the question of possible links to the Trump campaign are the focus of multiple inquiries in Washington. Three committees of the Senate and the House of Representatives are investigating, as well as Mueller, whose team in May took over an earlier probe launched by the U.S. Federal Bureau of Investigation (FBI). Several members of the Trump campaign and administration have been convicted or indicted in the investigation.  Trump and his allies deny any collusion with Russia during the campaign, and the Kremlin has denied meddling in the election. Graham said he still wants an examination of the FBI’s use of a dossier on links between Trump and Russia that was compiled by a former British spy, Christopher Steele, which prompted Trump allies and some Republicans to question Mueller’s inquiry.   On Saturday, the New York Times reported that it was not that dossier that triggered an early FBI probe, but a tip from former Trump campaign foreign policy adviser George Papadopoulos to an Australian diplomat that Russia had damaging information about former Trump rival Hillary Clinton.  “I want somebody to look at the way the Department of Justice used this dossier. It bothers me greatly the way they used it, and I want somebody to look at it,” Graham said. But he said the Russia investigation must continue. “As a matter of fact, it would hurt us if we ignored it,” he said. ",
         "politicsNews",
         "December 31, 2017 "
        ],
        [
         "3",
         "1",
         "FBI Russia probe helped by Australian diplomat tip-off: NYT",
         "WASHINGTON (Reuters) - Trump campaign adviser George Papadopoulos told an Australian diplomat in May 2016 that Russia had political dirt on Democratic presidential candidate Hillary Clinton, the New York Times reported on Saturday. The conversation between Papadopoulos and the diplomat, Alexander Downer, in London was a driving factor behind the FBI’s decision to open a counter-intelligence investigation of Moscow’s contacts with the Trump campaign, the Times reported. Two months after the meeting, Australian officials passed the information that came from Papadopoulos to their American counterparts when leaked Democratic emails began appearing online, according to the newspaper, which cited four current and former U.S. and foreign officials. Besides the information from the Australians, the probe by the Federal Bureau of Investigation was also propelled by intelligence from other friendly governments, including the British and Dutch, the Times said. Papadopoulos, a Chicago-based international energy lawyer, pleaded guilty on Oct. 30 to lying to FBI agents about contacts with people who claimed to have ties to top Russian officials. It was the first criminal charge alleging links between the Trump campaign and Russia. The White House has played down the former aide’s campaign role, saying it was “extremely limited” and that any actions he took would have been on his own. The New York Times, however, reported that Papadopoulos helped set up a meeting between then-candidate Donald Trump and Egyptian President Abdel Fattah al-Sisi and edited the outline of Trump’s first major foreign policy speech in April 2016. The federal investigation, which is now being led by Special Counsel Robert Mueller, has hung over Trump’s White House since he took office almost a year ago. Some Trump allies have recently accused Mueller’s team of being biased against the Republican president. Lawyers for Papadopoulos did not immediately respond to requests by Reuters for comment. Mueller’s office declined to comment. Trump’s White House attorney, Ty Cobb, declined to comment on the New York Times report. “Out of respect for the special counsel and his process, we are not commenting on matters such as this,” he said in a statement. Mueller has charged four Trump associates, including Papadopoulos, in his investigation. Russia has denied interfering in the U.S. election and Trump has said there was no collusion between his campaign and Moscow. ",
         "politicsNews",
         "December 30, 2017 "
        ],
        [
         "4",
         "1",
         "Trump wants Postal Service to charge 'much more' for Amazon shipments",
         "SEATTLE/WASHINGTON (Reuters) - President Donald Trump called on the U.S. Postal Service on Friday to charge “much more” to ship packages for Amazon (AMZN.O), picking another fight with an online retail giant he has criticized in the past.     “Why is the United States Post Office, which is losing many billions of dollars a year, while charging Amazon and others so little to deliver their packages, making Amazon richer and the Post Office dumber and poorer? Should be charging MUCH MORE!” Trump wrote on Twitter.  The president’s tweet drew fresh attention to the fragile finances of the Postal Service at a time when tens of millions of parcels have just been shipped all over the country for the holiday season.  The U.S. Postal Service, which runs at a big loss, is an independent agency within the federal government and does not receive tax dollars for operating expenses, according to its website.  Package delivery has become an increasingly important part of its business as the Internet has led to a sharp decline in the amount of first-class letters. The president does not determine postal rates. They are set by the Postal Regulatory Commission, an independent government agency with commissioners selected by the president from both political parties. That panel raised prices on packages by almost 2 percent in November.  Amazon was founded by Jeff Bezos, who remains the chief executive officer of the retail company and is the richest person in the world, according to Bloomberg News. Bezos also owns The Washington Post, a newspaper Trump has repeatedly railed against in his criticisms of the news media. In tweets over the past year, Trump has said the “Amazon Washington Post” fabricated stories. He has said Amazon does not pay sales tax, which is not true, and so hurts other retailers, part of a pattern by the former businessman and reality television host of periodically turning his ire on big American companies since he took office in January. Daniel Ives, a research analyst at GBH Insights, said Trump’s comment could be taken as a warning to the retail giant. However, he said he was not concerned for Amazon. “We do not see any price hikes in the future. However, that is a risk that Amazon is clearly aware of and (it) is building out its distribution (system) aggressively,” he said. Amazon has shown interest in the past in shifting into its own delivery service, including testing drones for deliveries. In 2015, the company spent $11.5 billion on shipping, 46 percent of its total operating expenses that year.  Amazon shares were down 0.86 percent to $1,175.90 by early afternoon. Overall, U.S. stock prices were down slightly on Friday.  Satish Jindel, president of ShipMatrix Inc, which analyzes shipping data, disputed the idea that the Postal Service charges less than United Parcel Service Inc (UPS.N) and FedEx Corp (FDX.N), the other biggest players in the parcel delivery business in the United States. Many customers get lower rates from UPS and FedEx than they would get from the post office for comparable services, he said. The Postal Service delivers about 62 percent of Amazon packages, for about 3.5 to 4 million a day during the current peak year-end holiday shipping season, Jindel said. The Seattle-based company and the post office have an agreement in which mail carriers take Amazon packages on the last leg of their journeys, from post offices to customers’ doorsteps. Amazon’s No. 2 carrier is UPS, at 21 percent, and FedEx is third, with 8 percent or so, according to Jindel. Trump’s comment tapped into a debate over whether Postal Service pricing has kept pace with the rise of e-commerce, which has flooded the mail with small packages.Private companies like UPS have long claimed the current system unfairly undercuts their business. Steve Gaut, a spokesman for UPS, noted that the company values its “productive relationship” with the postal service, but that it has filed with the Postal Regulatory Commission its concerns about the postal service’s methods for covering costs. Representatives for Amazon, the White House, the U.S. Postal Service and FedEx declined comment or were not immediately available for comment on Trump’s tweet. According to its annual report, the Postal Service lost $2.74 billion this year, and its deficit has ballooned to $61.86 billion.  While the Postal Service’s revenue for first class mail, marketing mail and periodicals is flat or declining, revenue from package delivery is up 44 percent since 2014 to $19.5 billion in the fiscal year ended Sept. 30, 2017. But it also lost about $2 billion in revenue when a temporary surcharge expired in April 2016. According to a Government Accountability Office report in February, the service is facing growing personnel expenses, particularly $73.4 billion in unfunded pension and benefits liabilities. The Postal Service has not announced any plans to cut costs. By law, the Postal Service has to set prices for package delivery to cover the costs attributable to that service. But the postal service allocates only 5.5 percent of its total costs to its business of shipping packages even though that line of business is 28 percent of its total revenue. ",
         "politicsNews",
         "December 29, 2017 "
        ]
       ],
       "shape": {
        "columns": 5,
        "rows": 5
       }
      },
      "text/html": [
       "<div>\n",
       "<style scoped>\n",
       "    .dataframe tbody tr th:only-of-type {\n",
       "        vertical-align: middle;\n",
       "    }\n",
       "\n",
       "    .dataframe tbody tr th {\n",
       "        vertical-align: top;\n",
       "    }\n",
       "\n",
       "    .dataframe thead th {\n",
       "        text-align: right;\n",
       "    }\n",
       "</style>\n",
       "<table border=\"1\" class=\"dataframe\">\n",
       "  <thead>\n",
       "    <tr style=\"text-align: right;\">\n",
       "      <th></th>\n",
       "      <th>label</th>\n",
       "      <th>title</th>\n",
       "      <th>text</th>\n",
       "      <th>subject</th>\n",
       "      <th>date</th>\n",
       "    </tr>\n",
       "  </thead>\n",
       "  <tbody>\n",
       "    <tr>\n",
       "      <th>0</th>\n",
       "      <td>1</td>\n",
       "      <td>As U.S. budget fight looms, Republicans flip t...</td>\n",
       "      <td>WASHINGTON (Reuters) - The head of a conservat...</td>\n",
       "      <td>politicsNews</td>\n",
       "      <td>December 31, 2017</td>\n",
       "    </tr>\n",
       "    <tr>\n",
       "      <th>1</th>\n",
       "      <td>1</td>\n",
       "      <td>U.S. military to accept transgender recruits o...</td>\n",
       "      <td>WASHINGTON (Reuters) - Transgender people will...</td>\n",
       "      <td>politicsNews</td>\n",
       "      <td>December 29, 2017</td>\n",
       "    </tr>\n",
       "    <tr>\n",
       "      <th>2</th>\n",
       "      <td>1</td>\n",
       "      <td>Senior U.S. Republican senator: 'Let Mr. Muell...</td>\n",
       "      <td>WASHINGTON (Reuters) - The special counsel inv...</td>\n",
       "      <td>politicsNews</td>\n",
       "      <td>December 31, 2017</td>\n",
       "    </tr>\n",
       "    <tr>\n",
       "      <th>3</th>\n",
       "      <td>1</td>\n",
       "      <td>FBI Russia probe helped by Australian diplomat...</td>\n",
       "      <td>WASHINGTON (Reuters) - Trump campaign adviser ...</td>\n",
       "      <td>politicsNews</td>\n",
       "      <td>December 30, 2017</td>\n",
       "    </tr>\n",
       "    <tr>\n",
       "      <th>4</th>\n",
       "      <td>1</td>\n",
       "      <td>Trump wants Postal Service to charge 'much mor...</td>\n",
       "      <td>SEATTLE/WASHINGTON (Reuters) - President Donal...</td>\n",
       "      <td>politicsNews</td>\n",
       "      <td>December 29, 2017</td>\n",
       "    </tr>\n",
       "  </tbody>\n",
       "</table>\n",
       "</div>"
      ],
      "text/plain": [
       "   label                                              title  \\\n",
       "0      1  As U.S. budget fight looms, Republicans flip t...   \n",
       "1      1  U.S. military to accept transgender recruits o...   \n",
       "2      1  Senior U.S. Republican senator: 'Let Mr. Muell...   \n",
       "3      1  FBI Russia probe helped by Australian diplomat...   \n",
       "4      1  Trump wants Postal Service to charge 'much mor...   \n",
       "\n",
       "                                                text       subject  \\\n",
       "0  WASHINGTON (Reuters) - The head of a conservat...  politicsNews   \n",
       "1  WASHINGTON (Reuters) - Transgender people will...  politicsNews   \n",
       "2  WASHINGTON (Reuters) - The special counsel inv...  politicsNews   \n",
       "3  WASHINGTON (Reuters) - Trump campaign adviser ...  politicsNews   \n",
       "4  SEATTLE/WASHINGTON (Reuters) - President Donal...  politicsNews   \n",
       "\n",
       "                 date  \n",
       "0  December 31, 2017   \n",
       "1  December 29, 2017   \n",
       "2  December 31, 2017   \n",
       "3  December 30, 2017   \n",
       "4  December 29, 2017   "
      ]
     },
     "execution_count": 7,
     "metadata": {},
     "output_type": "execute_result"
    }
   ],
   "source": [
    "df.head()"
   ]
  },
  {
   "cell_type": "code",
   "execution_count": 8,
   "id": "6c68039a",
   "metadata": {},
   "outputs": [
    {
     "data": {
      "text/plain": [
       "label      0\n",
       "title      0\n",
       "text       0\n",
       "subject    0\n",
       "date       0\n",
       "dtype: int64"
      ]
     },
     "execution_count": 8,
     "metadata": {},
     "output_type": "execute_result"
    }
   ],
   "source": [
    "df.isnull().sum()"
   ]
  },
  {
   "cell_type": "code",
   "execution_count": 9,
   "id": "8b64b0eb",
   "metadata": {},
   "outputs": [
    {
     "data": {
      "text/plain": [
       "label          2\n",
       "title      36083\n",
       "text       35977\n",
       "subject        6\n",
       "date        2392\n",
       "dtype: int64"
      ]
     },
     "execution_count": 9,
     "metadata": {},
     "output_type": "execute_result"
    }
   ],
   "source": [
    "df.nunique()"
   ]
  },
  {
   "cell_type": "code",
   "execution_count": 10,
   "id": "f8d9c464",
   "metadata": {},
   "outputs": [
    {
     "data": {
      "text/plain": [
       "label\n",
       "1    50.070102\n",
       "0    49.929898\n",
       "Name: proportion, dtype: float64"
      ]
     },
     "execution_count": 10,
     "metadata": {},
     "output_type": "execute_result"
    }
   ],
   "source": [
    "df['label'].value_counts(normalize=True) * 100"
   ]
  },
  {
   "cell_type": "markdown",
   "id": "3e1e6677",
   "metadata": {},
   "source": [
    "# 2. Data cleaning"
   ]
  },
  {
   "cell_type": "markdown",
   "id": "0419019b",
   "metadata": {},
   "source": [
    "## 2.1 Reshape data\n",
    "\n",
    "We will combine 3 columns (title, text and subject) into a single column. This is done to simplify the data structure and make it easier to work with. The new column will be called \"combined_text\". We will also drop the original columns (date, title, text and subject) after the reshaping process."
   ]
  },
  {
   "cell_type": "code",
   "execution_count": 11,
   "id": "133dc058",
   "metadata": {},
   "outputs": [],
   "source": [
    "# We regroup the 3 columns into one\n",
    "df['combined_text'] = df['title'] + ' ' + df['text'] + ' ' + df['subject']"
   ]
  },
  {
   "cell_type": "code",
   "execution_count": 12,
   "id": "7f083f95",
   "metadata": {},
   "outputs": [],
   "source": [
    "# We drop the 3 columns\n",
    "df.drop(['title', 'text', 'subject', 'date'], axis=1, inplace=True)"
   ]
  },
  {
   "cell_type": "code",
   "execution_count": 13,
   "id": "31a239fc",
   "metadata": {},
   "outputs": [
    {
     "data": {
      "application/vnd.microsoft.datawrangler.viewer.v0+json": {
       "columns": [
        {
         "name": "index",
         "rawType": "int64",
         "type": "integer"
        },
        {
         "name": "label",
         "rawType": "int64",
         "type": "integer"
        },
        {
         "name": "combined_text",
         "rawType": "object",
         "type": "string"
        }
       ],
       "conversionMethod": "pd.DataFrame",
       "ref": "f26754a9-26f3-46eb-9695-c48c4c1bc013",
       "rows": [
        [
         "0",
         "1",
         "As U.S. budget fight looms, Republicans flip their fiscal script WASHINGTON (Reuters) - The head of a conservative Republican faction in the U.S. Congress, who voted this month for a huge expansion of the national debt to pay for tax cuts, called himself a “fiscal conservative” on Sunday and urged budget restraint in 2018. In keeping with a sharp pivot under way among Republicans, U.S. Representative Mark Meadows, speaking on CBS’ “Face the Nation,” drew a hard line on federal spending, which lawmakers are bracing to do battle over in January. When they return from the holidays on Wednesday, lawmakers will begin trying to pass a federal budget in a fight likely to be linked to other issues, such as immigration policy, even as the November congressional election campaigns approach in which Republicans will seek to keep control of Congress. President Donald Trump and his Republicans want a big budget increase in military spending, while Democrats also want proportional increases for non-defense “discretionary” spending on programs that support education, scientific research, infrastructure, public health and environmental protection. “The (Trump) administration has already been willing to say: ‘We’re going to increase non-defense discretionary spending ... by about 7 percent,’” Meadows, chairman of the small but influential House Freedom Caucus, said on the program. “Now, Democrats are saying that’s not enough, we need to give the government a pay raise of 10 to 11 percent. For a fiscal conservative, I don’t see where the rationale is. ... Eventually you run out of other people’s money,” he said. Meadows was among Republicans who voted in late December for their party’s debt-financed tax overhaul, which is expected to balloon the federal budget deficit and add about $1.5 trillion over 10 years to the $20 trillion national debt. “It’s interesting to hear Mark talk about fiscal responsibility,” Democratic U.S. Representative Joseph Crowley said on CBS. Crowley said the Republican tax bill would require the  United States to borrow $1.5 trillion, to be paid off by future generations, to finance tax cuts for corporations and the rich. “This is one of the least ... fiscally responsible bills we’ve ever seen passed in the history of the House of Representatives. I think we’re going to be paying for this for many, many years to come,” Crowley said. Republicans insist the tax package, the biggest U.S. tax overhaul in more than 30 years,  will boost the economy and job growth. House Speaker Paul Ryan, who also supported the tax bill, recently went further than Meadows, making clear in a radio interview that welfare or “entitlement reform,” as the party often calls it, would be a top Republican priority in 2018. In Republican parlance, “entitlement” programs mean food stamps, housing assistance, Medicare and Medicaid health insurance for the elderly, poor and disabled, as well as other programs created by Washington to assist the needy. Democrats seized on Ryan’s early December remarks, saying they showed Republicans would try to pay for their tax overhaul by seeking spending cuts for social programs. But the goals of House Republicans may have to take a back seat to the Senate, where the votes of some Democrats will be needed to approve a budget and prevent a government shutdown. Democrats will use their leverage in the Senate, which Republicans narrowly control, to defend both discretionary non-defense programs and social spending, while tackling the issue of the “Dreamers,” people brought illegally to the country as children. Trump in September put a March 2018 expiration date on the Deferred Action for Childhood Arrivals, or DACA, program, which protects the young immigrants from deportation and provides them with work permits. The president has said in recent Twitter messages he wants funding for his proposed Mexican border wall and other immigration law changes in exchange for agreeing to help the Dreamers. Representative Debbie Dingell told CBS she did not favor linking that issue to other policy objectives, such as wall funding. “We need to do DACA clean,” she said.  On Wednesday, Trump aides will meet with congressional leaders to discuss those issues. That will be followed by a weekend of strategy sessions for Trump and Republican leaders on Jan. 6 and 7, the White House said. Trump was also scheduled to meet on Sunday with Florida Republican Governor Rick Scott, who wants more emergency aid. The House has passed an $81 billion aid package after hurricanes in Florida, Texas and Puerto Rico, and wildfires in California. The package far exceeded the $44 billion requested by the Trump administration. The Senate has not yet voted on the aid.  politicsNews"
        ],
        [
         "1",
         "1",
         "U.S. military to accept transgender recruits on Monday: Pentagon WASHINGTON (Reuters) - Transgender people will be allowed for the first time to enlist in the U.S. military starting on Monday as ordered by federal courts, the Pentagon said on Friday, after President Donald Trump’s administration decided not to appeal rulings that blocked his transgender ban. Two federal appeals courts, one in Washington and one in Virginia, last week rejected the administration’s request to put on hold orders by lower court judges requiring the military to begin accepting transgender recruits on Jan. 1. A Justice Department official said the administration will not challenge those rulings. “The Department of Defense has announced that it will be releasing an independent study of these issues in the coming weeks. So rather than litigate this interim appeal before that occurs, the administration has decided to wait for DOD’s study and will continue to defend the president’s lawful authority in District Court in the meantime,” the official said, speaking on condition of anonymity. In September, the Pentagon said it had created a panel of senior officials to study how to implement a directive by Trump to prohibit transgender individuals from serving. The Defense Department has until Feb. 21 to submit a plan to Trump. Lawyers representing currently-serving transgender service members and aspiring recruits said they had expected the administration to appeal the rulings to the conservative-majority Supreme Court, but were hoping that would not happen. Pentagon spokeswoman Heather Babb said in a statement: “As mandated by court order, the Department of Defense is prepared to begin accessing transgender applicants for military service Jan. 1. All applicants must meet all accession standards.” Jennifer Levi, a lawyer with gay, lesbian and transgender advocacy group GLAD, called the decision not to appeal “great news.” “I’m hoping it means the government has come to see that there is no way to justify a ban and that it’s not good for the military or our country,” Levi said. Both GLAD and the American Civil Liberties Union represent plaintiffs in the lawsuits filed against the administration. In a move that appealed to his hard-line conservative supporters, Trump announced in July that he would prohibit transgender people from serving in the military, reversing Democratic President Barack Obama’s policy of accepting them. Trump said on Twitter at the time that the military “cannot be burdened with the tremendous medical costs and disruption that transgender in the military would entail.” Four federal judges - in Baltimore, Washington, D.C., Seattle and Riverside, California - have issued rulings blocking Trump’s ban while legal challenges to the Republican president’s policy proceed. The judges said the ban would likely violate the right under the U.S. Constitution to equal protection under the law. The Pentagon on Dec. 8 issued guidelines to recruitment personnel in order to enlist transgender applicants by Jan. 1. The memo outlined medical requirements and specified how the applicants’ sex would be identified and even which undergarments they would wear. The Trump administration previously said in legal papers that the armed forces were not prepared to train thousands of personnel on the medical standards needed to process transgender applicants and might have to accept “some individuals who are not medically fit for service.” The Obama administration had set a deadline of July 1, 2017, to begin accepting transgender recruits. But Trump’s defense secretary, James Mattis, postponed that date to Jan. 1, 2018, which the president’s ban then put off indefinitely. Trump has taken other steps aimed at rolling back transgender rights. In October, his administration said a federal law banning gender-based workplace discrimination does not protect transgender employees, reversing another Obama-era position. In February, Trump rescinded guidance issued by the Obama administration saying that public schools should allow transgender students to use the restroom that corresponds to their gender identity.  politicsNews"
        ],
        [
         "2",
         "1",
         "Senior U.S. Republican senator: 'Let Mr. Mueller do his job' WASHINGTON (Reuters) - The special counsel investigation of links between Russia and President Trump’s 2016 election campaign should continue without interference in 2018, despite calls from some Trump administration allies and Republican lawmakers to shut it down, a prominent Republican senator said on Sunday. Lindsey Graham, who serves on the Senate armed forces and judiciary committees, said Department of Justice Special Counsel Robert Mueller needs to carry on with his Russia investigation without political interference. “This investigation will go forward. It will be an investigation conducted without political influence,” Graham said on CBS’s Face the Nation news program. “And we all need to let Mr. Mueller do his job. I think he’s the right guy at the right time.”  The question of how Russia may have interfered in the election, and how Trump’s campaign may have had links with or co-ordinated any such effort, has loomed over the White House since Trump took office in January. It shows no sign of receding as Trump prepares for his second year in power, despite intensified rhetoric from some Trump allies in recent weeks accusing Mueller’s team of bias against the Republican president. Trump himself seemed to undercut his supporters in an interview last week with the New York Times in which he said he expected Mueller was “going to be fair.”    Russia’s role in the election and the question of possible links to the Trump campaign are the focus of multiple inquiries in Washington. Three committees of the Senate and the House of Representatives are investigating, as well as Mueller, whose team in May took over an earlier probe launched by the U.S. Federal Bureau of Investigation (FBI). Several members of the Trump campaign and administration have been convicted or indicted in the investigation.  Trump and his allies deny any collusion with Russia during the campaign, and the Kremlin has denied meddling in the election. Graham said he still wants an examination of the FBI’s use of a dossier on links between Trump and Russia that was compiled by a former British spy, Christopher Steele, which prompted Trump allies and some Republicans to question Mueller’s inquiry.   On Saturday, the New York Times reported that it was not that dossier that triggered an early FBI probe, but a tip from former Trump campaign foreign policy adviser George Papadopoulos to an Australian diplomat that Russia had damaging information about former Trump rival Hillary Clinton.  “I want somebody to look at the way the Department of Justice used this dossier. It bothers me greatly the way they used it, and I want somebody to look at it,” Graham said. But he said the Russia investigation must continue. “As a matter of fact, it would hurt us if we ignored it,” he said.  politicsNews"
        ],
        [
         "3",
         "1",
         "FBI Russia probe helped by Australian diplomat tip-off: NYT WASHINGTON (Reuters) - Trump campaign adviser George Papadopoulos told an Australian diplomat in May 2016 that Russia had political dirt on Democratic presidential candidate Hillary Clinton, the New York Times reported on Saturday. The conversation between Papadopoulos and the diplomat, Alexander Downer, in London was a driving factor behind the FBI’s decision to open a counter-intelligence investigation of Moscow’s contacts with the Trump campaign, the Times reported. Two months after the meeting, Australian officials passed the information that came from Papadopoulos to their American counterparts when leaked Democratic emails began appearing online, according to the newspaper, which cited four current and former U.S. and foreign officials. Besides the information from the Australians, the probe by the Federal Bureau of Investigation was also propelled by intelligence from other friendly governments, including the British and Dutch, the Times said. Papadopoulos, a Chicago-based international energy lawyer, pleaded guilty on Oct. 30 to lying to FBI agents about contacts with people who claimed to have ties to top Russian officials. It was the first criminal charge alleging links between the Trump campaign and Russia. The White House has played down the former aide’s campaign role, saying it was “extremely limited” and that any actions he took would have been on his own. The New York Times, however, reported that Papadopoulos helped set up a meeting between then-candidate Donald Trump and Egyptian President Abdel Fattah al-Sisi and edited the outline of Trump’s first major foreign policy speech in April 2016. The federal investigation, which is now being led by Special Counsel Robert Mueller, has hung over Trump’s White House since he took office almost a year ago. Some Trump allies have recently accused Mueller’s team of being biased against the Republican president. Lawyers for Papadopoulos did not immediately respond to requests by Reuters for comment. Mueller’s office declined to comment. Trump’s White House attorney, Ty Cobb, declined to comment on the New York Times report. “Out of respect for the special counsel and his process, we are not commenting on matters such as this,” he said in a statement. Mueller has charged four Trump associates, including Papadopoulos, in his investigation. Russia has denied interfering in the U.S. election and Trump has said there was no collusion between his campaign and Moscow.  politicsNews"
        ],
        [
         "4",
         "1",
         "Trump wants Postal Service to charge 'much more' for Amazon shipments SEATTLE/WASHINGTON (Reuters) - President Donald Trump called on the U.S. Postal Service on Friday to charge “much more” to ship packages for Amazon (AMZN.O), picking another fight with an online retail giant he has criticized in the past.     “Why is the United States Post Office, which is losing many billions of dollars a year, while charging Amazon and others so little to deliver their packages, making Amazon richer and the Post Office dumber and poorer? Should be charging MUCH MORE!” Trump wrote on Twitter.  The president’s tweet drew fresh attention to the fragile finances of the Postal Service at a time when tens of millions of parcels have just been shipped all over the country for the holiday season.  The U.S. Postal Service, which runs at a big loss, is an independent agency within the federal government and does not receive tax dollars for operating expenses, according to its website.  Package delivery has become an increasingly important part of its business as the Internet has led to a sharp decline in the amount of first-class letters. The president does not determine postal rates. They are set by the Postal Regulatory Commission, an independent government agency with commissioners selected by the president from both political parties. That panel raised prices on packages by almost 2 percent in November.  Amazon was founded by Jeff Bezos, who remains the chief executive officer of the retail company and is the richest person in the world, according to Bloomberg News. Bezos also owns The Washington Post, a newspaper Trump has repeatedly railed against in his criticisms of the news media. In tweets over the past year, Trump has said the “Amazon Washington Post” fabricated stories. He has said Amazon does not pay sales tax, which is not true, and so hurts other retailers, part of a pattern by the former businessman and reality television host of periodically turning his ire on big American companies since he took office in January. Daniel Ives, a research analyst at GBH Insights, said Trump’s comment could be taken as a warning to the retail giant. However, he said he was not concerned for Amazon. “We do not see any price hikes in the future. However, that is a risk that Amazon is clearly aware of and (it) is building out its distribution (system) aggressively,” he said. Amazon has shown interest in the past in shifting into its own delivery service, including testing drones for deliveries. In 2015, the company spent $11.5 billion on shipping, 46 percent of its total operating expenses that year.  Amazon shares were down 0.86 percent to $1,175.90 by early afternoon. Overall, U.S. stock prices were down slightly on Friday.  Satish Jindel, president of ShipMatrix Inc, which analyzes shipping data, disputed the idea that the Postal Service charges less than United Parcel Service Inc (UPS.N) and FedEx Corp (FDX.N), the other biggest players in the parcel delivery business in the United States. Many customers get lower rates from UPS and FedEx than they would get from the post office for comparable services, he said. The Postal Service delivers about 62 percent of Amazon packages, for about 3.5 to 4 million a day during the current peak year-end holiday shipping season, Jindel said. The Seattle-based company and the post office have an agreement in which mail carriers take Amazon packages on the last leg of their journeys, from post offices to customers’ doorsteps. Amazon’s No. 2 carrier is UPS, at 21 percent, and FedEx is third, with 8 percent or so, according to Jindel. Trump’s comment tapped into a debate over whether Postal Service pricing has kept pace with the rise of e-commerce, which has flooded the mail with small packages.Private companies like UPS have long claimed the current system unfairly undercuts their business. Steve Gaut, a spokesman for UPS, noted that the company values its “productive relationship” with the postal service, but that it has filed with the Postal Regulatory Commission its concerns about the postal service’s methods for covering costs. Representatives for Amazon, the White House, the U.S. Postal Service and FedEx declined comment or were not immediately available for comment on Trump’s tweet. According to its annual report, the Postal Service lost $2.74 billion this year, and its deficit has ballooned to $61.86 billion.  While the Postal Service’s revenue for first class mail, marketing mail and periodicals is flat or declining, revenue from package delivery is up 44 percent since 2014 to $19.5 billion in the fiscal year ended Sept. 30, 2017. But it also lost about $2 billion in revenue when a temporary surcharge expired in April 2016. According to a Government Accountability Office report in February, the service is facing growing personnel expenses, particularly $73.4 billion in unfunded pension and benefits liabilities. The Postal Service has not announced any plans to cut costs. By law, the Postal Service has to set prices for package delivery to cover the costs attributable to that service. But the postal service allocates only 5.5 percent of its total costs to its business of shipping packages even though that line of business is 28 percent of its total revenue.  politicsNews"
        ]
       ],
       "shape": {
        "columns": 2,
        "rows": 5
       }
      },
      "text/html": [
       "<div>\n",
       "<style scoped>\n",
       "    .dataframe tbody tr th:only-of-type {\n",
       "        vertical-align: middle;\n",
       "    }\n",
       "\n",
       "    .dataframe tbody tr th {\n",
       "        vertical-align: top;\n",
       "    }\n",
       "\n",
       "    .dataframe thead th {\n",
       "        text-align: right;\n",
       "    }\n",
       "</style>\n",
       "<table border=\"1\" class=\"dataframe\">\n",
       "  <thead>\n",
       "    <tr style=\"text-align: right;\">\n",
       "      <th></th>\n",
       "      <th>label</th>\n",
       "      <th>combined_text</th>\n",
       "    </tr>\n",
       "  </thead>\n",
       "  <tbody>\n",
       "    <tr>\n",
       "      <th>0</th>\n",
       "      <td>1</td>\n",
       "      <td>As U.S. budget fight looms, Republicans flip t...</td>\n",
       "    </tr>\n",
       "    <tr>\n",
       "      <th>1</th>\n",
       "      <td>1</td>\n",
       "      <td>U.S. military to accept transgender recruits o...</td>\n",
       "    </tr>\n",
       "    <tr>\n",
       "      <th>2</th>\n",
       "      <td>1</td>\n",
       "      <td>Senior U.S. Republican senator: 'Let Mr. Muell...</td>\n",
       "    </tr>\n",
       "    <tr>\n",
       "      <th>3</th>\n",
       "      <td>1</td>\n",
       "      <td>FBI Russia probe helped by Australian diplomat...</td>\n",
       "    </tr>\n",
       "    <tr>\n",
       "      <th>4</th>\n",
       "      <td>1</td>\n",
       "      <td>Trump wants Postal Service to charge 'much mor...</td>\n",
       "    </tr>\n",
       "  </tbody>\n",
       "</table>\n",
       "</div>"
      ],
      "text/plain": [
       "   label                                      combined_text\n",
       "0      1  As U.S. budget fight looms, Republicans flip t...\n",
       "1      1  U.S. military to accept transgender recruits o...\n",
       "2      1  Senior U.S. Republican senator: 'Let Mr. Muell...\n",
       "3      1  FBI Russia probe helped by Australian diplomat...\n",
       "4      1  Trump wants Postal Service to charge 'much mor..."
      ]
     },
     "execution_count": 13,
     "metadata": {},
     "output_type": "execute_result"
    }
   ],
   "source": [
    "df.head()"
   ]
  },
  {
   "cell_type": "markdown",
   "id": "a773caa2",
   "metadata": {},
   "source": [
    "## 2.2 Separate y and X\n",
    "\n",
    "We will separate the target variable (y) from the features (X). The target variable is the \"label\" column, which indicates whether the news article is fake or real. The features are the combined text of the articles."
   ]
  },
  {
   "cell_type": "code",
   "execution_count": 14,
   "id": "4fb576f4",
   "metadata": {},
   "outputs": [],
   "source": [
    "y = df['label']\n",
    "df = df.drop(['label'], axis=1)"
   ]
  },
  {
   "cell_type": "code",
   "execution_count": 15,
   "id": "6d581114",
   "metadata": {},
   "outputs": [
    {
     "data": {
      "application/vnd.microsoft.datawrangler.viewer.v0+json": {
       "columns": [
        {
         "name": "index",
         "rawType": "int64",
         "type": "integer"
        },
        {
         "name": "combined_text",
         "rawType": "object",
         "type": "string"
        }
       ],
       "conversionMethod": "pd.DataFrame",
       "ref": "3106de3f-59e5-4c62-b499-8ef0be837d49",
       "rows": [
        [
         "0",
         "As U.S. budget fight looms, Republicans flip their fiscal script WASHINGTON (Reuters) - The head of a conservative Republican faction in the U.S. Congress, who voted this month for a huge expansion of the national debt to pay for tax cuts, called himself a “fiscal conservative” on Sunday and urged budget restraint in 2018. In keeping with a sharp pivot under way among Republicans, U.S. Representative Mark Meadows, speaking on CBS’ “Face the Nation,” drew a hard line on federal spending, which lawmakers are bracing to do battle over in January. When they return from the holidays on Wednesday, lawmakers will begin trying to pass a federal budget in a fight likely to be linked to other issues, such as immigration policy, even as the November congressional election campaigns approach in which Republicans will seek to keep control of Congress. President Donald Trump and his Republicans want a big budget increase in military spending, while Democrats also want proportional increases for non-defense “discretionary” spending on programs that support education, scientific research, infrastructure, public health and environmental protection. “The (Trump) administration has already been willing to say: ‘We’re going to increase non-defense discretionary spending ... by about 7 percent,’” Meadows, chairman of the small but influential House Freedom Caucus, said on the program. “Now, Democrats are saying that’s not enough, we need to give the government a pay raise of 10 to 11 percent. For a fiscal conservative, I don’t see where the rationale is. ... Eventually you run out of other people’s money,” he said. Meadows was among Republicans who voted in late December for their party’s debt-financed tax overhaul, which is expected to balloon the federal budget deficit and add about $1.5 trillion over 10 years to the $20 trillion national debt. “It’s interesting to hear Mark talk about fiscal responsibility,” Democratic U.S. Representative Joseph Crowley said on CBS. Crowley said the Republican tax bill would require the  United States to borrow $1.5 trillion, to be paid off by future generations, to finance tax cuts for corporations and the rich. “This is one of the least ... fiscally responsible bills we’ve ever seen passed in the history of the House of Representatives. I think we’re going to be paying for this for many, many years to come,” Crowley said. Republicans insist the tax package, the biggest U.S. tax overhaul in more than 30 years,  will boost the economy and job growth. House Speaker Paul Ryan, who also supported the tax bill, recently went further than Meadows, making clear in a radio interview that welfare or “entitlement reform,” as the party often calls it, would be a top Republican priority in 2018. In Republican parlance, “entitlement” programs mean food stamps, housing assistance, Medicare and Medicaid health insurance for the elderly, poor and disabled, as well as other programs created by Washington to assist the needy. Democrats seized on Ryan’s early December remarks, saying they showed Republicans would try to pay for their tax overhaul by seeking spending cuts for social programs. But the goals of House Republicans may have to take a back seat to the Senate, where the votes of some Democrats will be needed to approve a budget and prevent a government shutdown. Democrats will use their leverage in the Senate, which Republicans narrowly control, to defend both discretionary non-defense programs and social spending, while tackling the issue of the “Dreamers,” people brought illegally to the country as children. Trump in September put a March 2018 expiration date on the Deferred Action for Childhood Arrivals, or DACA, program, which protects the young immigrants from deportation and provides them with work permits. The president has said in recent Twitter messages he wants funding for his proposed Mexican border wall and other immigration law changes in exchange for agreeing to help the Dreamers. Representative Debbie Dingell told CBS she did not favor linking that issue to other policy objectives, such as wall funding. “We need to do DACA clean,” she said.  On Wednesday, Trump aides will meet with congressional leaders to discuss those issues. That will be followed by a weekend of strategy sessions for Trump and Republican leaders on Jan. 6 and 7, the White House said. Trump was also scheduled to meet on Sunday with Florida Republican Governor Rick Scott, who wants more emergency aid. The House has passed an $81 billion aid package after hurricanes in Florida, Texas and Puerto Rico, and wildfires in California. The package far exceeded the $44 billion requested by the Trump administration. The Senate has not yet voted on the aid.  politicsNews"
        ],
        [
         "1",
         "U.S. military to accept transgender recruits on Monday: Pentagon WASHINGTON (Reuters) - Transgender people will be allowed for the first time to enlist in the U.S. military starting on Monday as ordered by federal courts, the Pentagon said on Friday, after President Donald Trump’s administration decided not to appeal rulings that blocked his transgender ban. Two federal appeals courts, one in Washington and one in Virginia, last week rejected the administration’s request to put on hold orders by lower court judges requiring the military to begin accepting transgender recruits on Jan. 1. A Justice Department official said the administration will not challenge those rulings. “The Department of Defense has announced that it will be releasing an independent study of these issues in the coming weeks. So rather than litigate this interim appeal before that occurs, the administration has decided to wait for DOD’s study and will continue to defend the president’s lawful authority in District Court in the meantime,” the official said, speaking on condition of anonymity. In September, the Pentagon said it had created a panel of senior officials to study how to implement a directive by Trump to prohibit transgender individuals from serving. The Defense Department has until Feb. 21 to submit a plan to Trump. Lawyers representing currently-serving transgender service members and aspiring recruits said they had expected the administration to appeal the rulings to the conservative-majority Supreme Court, but were hoping that would not happen. Pentagon spokeswoman Heather Babb said in a statement: “As mandated by court order, the Department of Defense is prepared to begin accessing transgender applicants for military service Jan. 1. All applicants must meet all accession standards.” Jennifer Levi, a lawyer with gay, lesbian and transgender advocacy group GLAD, called the decision not to appeal “great news.” “I’m hoping it means the government has come to see that there is no way to justify a ban and that it’s not good for the military or our country,” Levi said. Both GLAD and the American Civil Liberties Union represent plaintiffs in the lawsuits filed against the administration. In a move that appealed to his hard-line conservative supporters, Trump announced in July that he would prohibit transgender people from serving in the military, reversing Democratic President Barack Obama’s policy of accepting them. Trump said on Twitter at the time that the military “cannot be burdened with the tremendous medical costs and disruption that transgender in the military would entail.” Four federal judges - in Baltimore, Washington, D.C., Seattle and Riverside, California - have issued rulings blocking Trump’s ban while legal challenges to the Republican president’s policy proceed. The judges said the ban would likely violate the right under the U.S. Constitution to equal protection under the law. The Pentagon on Dec. 8 issued guidelines to recruitment personnel in order to enlist transgender applicants by Jan. 1. The memo outlined medical requirements and specified how the applicants’ sex would be identified and even which undergarments they would wear. The Trump administration previously said in legal papers that the armed forces were not prepared to train thousands of personnel on the medical standards needed to process transgender applicants and might have to accept “some individuals who are not medically fit for service.” The Obama administration had set a deadline of July 1, 2017, to begin accepting transgender recruits. But Trump’s defense secretary, James Mattis, postponed that date to Jan. 1, 2018, which the president’s ban then put off indefinitely. Trump has taken other steps aimed at rolling back transgender rights. In October, his administration said a federal law banning gender-based workplace discrimination does not protect transgender employees, reversing another Obama-era position. In February, Trump rescinded guidance issued by the Obama administration saying that public schools should allow transgender students to use the restroom that corresponds to their gender identity.  politicsNews"
        ],
        [
         "2",
         "Senior U.S. Republican senator: 'Let Mr. Mueller do his job' WASHINGTON (Reuters) - The special counsel investigation of links between Russia and President Trump’s 2016 election campaign should continue without interference in 2018, despite calls from some Trump administration allies and Republican lawmakers to shut it down, a prominent Republican senator said on Sunday. Lindsey Graham, who serves on the Senate armed forces and judiciary committees, said Department of Justice Special Counsel Robert Mueller needs to carry on with his Russia investigation without political interference. “This investigation will go forward. It will be an investigation conducted without political influence,” Graham said on CBS’s Face the Nation news program. “And we all need to let Mr. Mueller do his job. I think he’s the right guy at the right time.”  The question of how Russia may have interfered in the election, and how Trump’s campaign may have had links with or co-ordinated any such effort, has loomed over the White House since Trump took office in January. It shows no sign of receding as Trump prepares for his second year in power, despite intensified rhetoric from some Trump allies in recent weeks accusing Mueller’s team of bias against the Republican president. Trump himself seemed to undercut his supporters in an interview last week with the New York Times in which he said he expected Mueller was “going to be fair.”    Russia’s role in the election and the question of possible links to the Trump campaign are the focus of multiple inquiries in Washington. Three committees of the Senate and the House of Representatives are investigating, as well as Mueller, whose team in May took over an earlier probe launched by the U.S. Federal Bureau of Investigation (FBI). Several members of the Trump campaign and administration have been convicted or indicted in the investigation.  Trump and his allies deny any collusion with Russia during the campaign, and the Kremlin has denied meddling in the election. Graham said he still wants an examination of the FBI’s use of a dossier on links between Trump and Russia that was compiled by a former British spy, Christopher Steele, which prompted Trump allies and some Republicans to question Mueller’s inquiry.   On Saturday, the New York Times reported that it was not that dossier that triggered an early FBI probe, but a tip from former Trump campaign foreign policy adviser George Papadopoulos to an Australian diplomat that Russia had damaging information about former Trump rival Hillary Clinton.  “I want somebody to look at the way the Department of Justice used this dossier. It bothers me greatly the way they used it, and I want somebody to look at it,” Graham said. But he said the Russia investigation must continue. “As a matter of fact, it would hurt us if we ignored it,” he said.  politicsNews"
        ],
        [
         "3",
         "FBI Russia probe helped by Australian diplomat tip-off: NYT WASHINGTON (Reuters) - Trump campaign adviser George Papadopoulos told an Australian diplomat in May 2016 that Russia had political dirt on Democratic presidential candidate Hillary Clinton, the New York Times reported on Saturday. The conversation between Papadopoulos and the diplomat, Alexander Downer, in London was a driving factor behind the FBI’s decision to open a counter-intelligence investigation of Moscow’s contacts with the Trump campaign, the Times reported. Two months after the meeting, Australian officials passed the information that came from Papadopoulos to their American counterparts when leaked Democratic emails began appearing online, according to the newspaper, which cited four current and former U.S. and foreign officials. Besides the information from the Australians, the probe by the Federal Bureau of Investigation was also propelled by intelligence from other friendly governments, including the British and Dutch, the Times said. Papadopoulos, a Chicago-based international energy lawyer, pleaded guilty on Oct. 30 to lying to FBI agents about contacts with people who claimed to have ties to top Russian officials. It was the first criminal charge alleging links between the Trump campaign and Russia. The White House has played down the former aide’s campaign role, saying it was “extremely limited” and that any actions he took would have been on his own. The New York Times, however, reported that Papadopoulos helped set up a meeting between then-candidate Donald Trump and Egyptian President Abdel Fattah al-Sisi and edited the outline of Trump’s first major foreign policy speech in April 2016. The federal investigation, which is now being led by Special Counsel Robert Mueller, has hung over Trump’s White House since he took office almost a year ago. Some Trump allies have recently accused Mueller’s team of being biased against the Republican president. Lawyers for Papadopoulos did not immediately respond to requests by Reuters for comment. Mueller’s office declined to comment. Trump’s White House attorney, Ty Cobb, declined to comment on the New York Times report. “Out of respect for the special counsel and his process, we are not commenting on matters such as this,” he said in a statement. Mueller has charged four Trump associates, including Papadopoulos, in his investigation. Russia has denied interfering in the U.S. election and Trump has said there was no collusion between his campaign and Moscow.  politicsNews"
        ],
        [
         "4",
         "Trump wants Postal Service to charge 'much more' for Amazon shipments SEATTLE/WASHINGTON (Reuters) - President Donald Trump called on the U.S. Postal Service on Friday to charge “much more” to ship packages for Amazon (AMZN.O), picking another fight with an online retail giant he has criticized in the past.     “Why is the United States Post Office, which is losing many billions of dollars a year, while charging Amazon and others so little to deliver their packages, making Amazon richer and the Post Office dumber and poorer? Should be charging MUCH MORE!” Trump wrote on Twitter.  The president’s tweet drew fresh attention to the fragile finances of the Postal Service at a time when tens of millions of parcels have just been shipped all over the country for the holiday season.  The U.S. Postal Service, which runs at a big loss, is an independent agency within the federal government and does not receive tax dollars for operating expenses, according to its website.  Package delivery has become an increasingly important part of its business as the Internet has led to a sharp decline in the amount of first-class letters. The president does not determine postal rates. They are set by the Postal Regulatory Commission, an independent government agency with commissioners selected by the president from both political parties. That panel raised prices on packages by almost 2 percent in November.  Amazon was founded by Jeff Bezos, who remains the chief executive officer of the retail company and is the richest person in the world, according to Bloomberg News. Bezos also owns The Washington Post, a newspaper Trump has repeatedly railed against in his criticisms of the news media. In tweets over the past year, Trump has said the “Amazon Washington Post” fabricated stories. He has said Amazon does not pay sales tax, which is not true, and so hurts other retailers, part of a pattern by the former businessman and reality television host of periodically turning his ire on big American companies since he took office in January. Daniel Ives, a research analyst at GBH Insights, said Trump’s comment could be taken as a warning to the retail giant. However, he said he was not concerned for Amazon. “We do not see any price hikes in the future. However, that is a risk that Amazon is clearly aware of and (it) is building out its distribution (system) aggressively,” he said. Amazon has shown interest in the past in shifting into its own delivery service, including testing drones for deliveries. In 2015, the company spent $11.5 billion on shipping, 46 percent of its total operating expenses that year.  Amazon shares were down 0.86 percent to $1,175.90 by early afternoon. Overall, U.S. stock prices were down slightly on Friday.  Satish Jindel, president of ShipMatrix Inc, which analyzes shipping data, disputed the idea that the Postal Service charges less than United Parcel Service Inc (UPS.N) and FedEx Corp (FDX.N), the other biggest players in the parcel delivery business in the United States. Many customers get lower rates from UPS and FedEx than they would get from the post office for comparable services, he said. The Postal Service delivers about 62 percent of Amazon packages, for about 3.5 to 4 million a day during the current peak year-end holiday shipping season, Jindel said. The Seattle-based company and the post office have an agreement in which mail carriers take Amazon packages on the last leg of their journeys, from post offices to customers’ doorsteps. Amazon’s No. 2 carrier is UPS, at 21 percent, and FedEx is third, with 8 percent or so, according to Jindel. Trump’s comment tapped into a debate over whether Postal Service pricing has kept pace with the rise of e-commerce, which has flooded the mail with small packages.Private companies like UPS have long claimed the current system unfairly undercuts their business. Steve Gaut, a spokesman for UPS, noted that the company values its “productive relationship” with the postal service, but that it has filed with the Postal Regulatory Commission its concerns about the postal service’s methods for covering costs. Representatives for Amazon, the White House, the U.S. Postal Service and FedEx declined comment or were not immediately available for comment on Trump’s tweet. According to its annual report, the Postal Service lost $2.74 billion this year, and its deficit has ballooned to $61.86 billion.  While the Postal Service’s revenue for first class mail, marketing mail and periodicals is flat or declining, revenue from package delivery is up 44 percent since 2014 to $19.5 billion in the fiscal year ended Sept. 30, 2017. But it also lost about $2 billion in revenue when a temporary surcharge expired in April 2016. According to a Government Accountability Office report in February, the service is facing growing personnel expenses, particularly $73.4 billion in unfunded pension and benefits liabilities. The Postal Service has not announced any plans to cut costs. By law, the Postal Service has to set prices for package delivery to cover the costs attributable to that service. But the postal service allocates only 5.5 percent of its total costs to its business of shipping packages even though that line of business is 28 percent of its total revenue.  politicsNews"
        ]
       ],
       "shape": {
        "columns": 1,
        "rows": 5
       }
      },
      "text/html": [
       "<div>\n",
       "<style scoped>\n",
       "    .dataframe tbody tr th:only-of-type {\n",
       "        vertical-align: middle;\n",
       "    }\n",
       "\n",
       "    .dataframe tbody tr th {\n",
       "        vertical-align: top;\n",
       "    }\n",
       "\n",
       "    .dataframe thead th {\n",
       "        text-align: right;\n",
       "    }\n",
       "</style>\n",
       "<table border=\"1\" class=\"dataframe\">\n",
       "  <thead>\n",
       "    <tr style=\"text-align: right;\">\n",
       "      <th></th>\n",
       "      <th>combined_text</th>\n",
       "    </tr>\n",
       "  </thead>\n",
       "  <tbody>\n",
       "    <tr>\n",
       "      <th>0</th>\n",
       "      <td>As U.S. budget fight looms, Republicans flip t...</td>\n",
       "    </tr>\n",
       "    <tr>\n",
       "      <th>1</th>\n",
       "      <td>U.S. military to accept transgender recruits o...</td>\n",
       "    </tr>\n",
       "    <tr>\n",
       "      <th>2</th>\n",
       "      <td>Senior U.S. Republican senator: 'Let Mr. Muell...</td>\n",
       "    </tr>\n",
       "    <tr>\n",
       "      <th>3</th>\n",
       "      <td>FBI Russia probe helped by Australian diplomat...</td>\n",
       "    </tr>\n",
       "    <tr>\n",
       "      <th>4</th>\n",
       "      <td>Trump wants Postal Service to charge 'much mor...</td>\n",
       "    </tr>\n",
       "  </tbody>\n",
       "</table>\n",
       "</div>"
      ],
      "text/plain": [
       "                                       combined_text\n",
       "0  As U.S. budget fight looms, Republicans flip t...\n",
       "1  U.S. military to accept transgender recruits o...\n",
       "2  Senior U.S. Republican senator: 'Let Mr. Muell...\n",
       "3  FBI Russia probe helped by Australian diplomat...\n",
       "4  Trump wants Postal Service to charge 'much mor..."
      ]
     },
     "execution_count": 15,
     "metadata": {},
     "output_type": "execute_result"
    }
   ],
   "source": [
    "df.head()"
   ]
  },
  {
   "cell_type": "markdown",
   "id": "fd67c247",
   "metadata": {},
   "source": [
    "# 3. Text preprocessing"
   ]
  },
  {
   "cell_type": "markdown",
   "id": "293be741",
   "metadata": {},
   "source": [
    "## 3.1 Tokenization\n",
    "\n",
    "We will tokenize the text data into a standardized format without any fluff."
   ]
  },
  {
   "cell_type": "code",
   "execution_count": 16,
   "id": "3a22d2de",
   "metadata": {},
   "outputs": [],
   "source": [
    "from nltk.tokenize import word_tokenize\n",
    "\n",
    "# We will tokenize line by line\n",
    "def tokenize(text):\n",
    "  return word_tokenize(text=text, language=\"english\", preserve_line=False)\n",
    "    \n",
    "# We will apply the function to the column combined_text\n",
    "df[\"tokenized_text\"] = df[\"combined_text\"].apply(tokenize)"
   ]
  },
  {
   "cell_type": "code",
   "execution_count": 17,
   "id": "5eb96d1c",
   "metadata": {},
   "outputs": [
    {
     "data": {
      "application/vnd.microsoft.datawrangler.viewer.v0+json": {
       "columns": [
        {
         "name": "index",
         "rawType": "int64",
         "type": "integer"
        },
        {
         "name": "combined_text",
         "rawType": "object",
         "type": "string"
        },
        {
         "name": "tokenized_text",
         "rawType": "object",
         "type": "unknown"
        }
       ],
       "conversionMethod": "pd.DataFrame",
       "ref": "8327a6da-3893-45f9-bd8e-68eb746066b8",
       "rows": [
        [
         "0",
         "As U.S. budget fight looms, Republicans flip their fiscal script WASHINGTON (Reuters) - The head of a conservative Republican faction in the U.S. Congress, who voted this month for a huge expansion of the national debt to pay for tax cuts, called himself a “fiscal conservative” on Sunday and urged budget restraint in 2018. In keeping with a sharp pivot under way among Republicans, U.S. Representative Mark Meadows, speaking on CBS’ “Face the Nation,” drew a hard line on federal spending, which lawmakers are bracing to do battle over in January. When they return from the holidays on Wednesday, lawmakers will begin trying to pass a federal budget in a fight likely to be linked to other issues, such as immigration policy, even as the November congressional election campaigns approach in which Republicans will seek to keep control of Congress. President Donald Trump and his Republicans want a big budget increase in military spending, while Democrats also want proportional increases for non-defense “discretionary” spending on programs that support education, scientific research, infrastructure, public health and environmental protection. “The (Trump) administration has already been willing to say: ‘We’re going to increase non-defense discretionary spending ... by about 7 percent,’” Meadows, chairman of the small but influential House Freedom Caucus, said on the program. “Now, Democrats are saying that’s not enough, we need to give the government a pay raise of 10 to 11 percent. For a fiscal conservative, I don’t see where the rationale is. ... Eventually you run out of other people’s money,” he said. Meadows was among Republicans who voted in late December for their party’s debt-financed tax overhaul, which is expected to balloon the federal budget deficit and add about $1.5 trillion over 10 years to the $20 trillion national debt. “It’s interesting to hear Mark talk about fiscal responsibility,” Democratic U.S. Representative Joseph Crowley said on CBS. Crowley said the Republican tax bill would require the  United States to borrow $1.5 trillion, to be paid off by future generations, to finance tax cuts for corporations and the rich. “This is one of the least ... fiscally responsible bills we’ve ever seen passed in the history of the House of Representatives. I think we’re going to be paying for this for many, many years to come,” Crowley said. Republicans insist the tax package, the biggest U.S. tax overhaul in more than 30 years,  will boost the economy and job growth. House Speaker Paul Ryan, who also supported the tax bill, recently went further than Meadows, making clear in a radio interview that welfare or “entitlement reform,” as the party often calls it, would be a top Republican priority in 2018. In Republican parlance, “entitlement” programs mean food stamps, housing assistance, Medicare and Medicaid health insurance for the elderly, poor and disabled, as well as other programs created by Washington to assist the needy. Democrats seized on Ryan’s early December remarks, saying they showed Republicans would try to pay for their tax overhaul by seeking spending cuts for social programs. But the goals of House Republicans may have to take a back seat to the Senate, where the votes of some Democrats will be needed to approve a budget and prevent a government shutdown. Democrats will use their leverage in the Senate, which Republicans narrowly control, to defend both discretionary non-defense programs and social spending, while tackling the issue of the “Dreamers,” people brought illegally to the country as children. Trump in September put a March 2018 expiration date on the Deferred Action for Childhood Arrivals, or DACA, program, which protects the young immigrants from deportation and provides them with work permits. The president has said in recent Twitter messages he wants funding for his proposed Mexican border wall and other immigration law changes in exchange for agreeing to help the Dreamers. Representative Debbie Dingell told CBS she did not favor linking that issue to other policy objectives, such as wall funding. “We need to do DACA clean,” she said.  On Wednesday, Trump aides will meet with congressional leaders to discuss those issues. That will be followed by a weekend of strategy sessions for Trump and Republican leaders on Jan. 6 and 7, the White House said. Trump was also scheduled to meet on Sunday with Florida Republican Governor Rick Scott, who wants more emergency aid. The House has passed an $81 billion aid package after hurricanes in Florida, Texas and Puerto Rico, and wildfires in California. The package far exceeded the $44 billion requested by the Trump administration. The Senate has not yet voted on the aid.  politicsNews",
         "['As', 'U.S.', 'budget', 'fight', 'looms', ',', 'Republicans', 'flip', 'their', 'fiscal', 'script', 'WASHINGTON', '(', 'Reuters', ')', '-', 'The', 'head', 'of', 'a', 'conservative', 'Republican', 'faction', 'in', 'the', 'U.S.', 'Congress', ',', 'who', 'voted', 'this', 'month', 'for', 'a', 'huge', 'expansion', 'of', 'the', 'national', 'debt', 'to', 'pay', 'for', 'tax', 'cuts', ',', 'called', 'himself', 'a', '“', 'fiscal', 'conservative', '”', 'on', 'Sunday', 'and', 'urged', 'budget', 'restraint', 'in', '2018', '.', 'In', 'keeping', 'with', 'a', 'sharp', 'pivot', 'under', 'way', 'among', 'Republicans', ',', 'U.S.', 'Representative', 'Mark', 'Meadows', ',', 'speaking', 'on', 'CBS', '’', '“', 'Face', 'the', 'Nation', ',', '”', 'drew', 'a', 'hard', 'line', 'on', 'federal', 'spending', ',', 'which', 'lawmakers', 'are', 'bracing', 'to', 'do', 'battle', 'over', 'in', 'January', '.', 'When', 'they', 'return', 'from', 'the', 'holidays', 'on', 'Wednesday', ',', 'lawmakers', 'will', 'begin', 'trying', 'to', 'pass', 'a', 'federal', 'budget', 'in', 'a', 'fight', 'likely', 'to', 'be', 'linked', 'to', 'other', 'issues', ',', 'such', 'as', 'immigration', 'policy', ',', 'even', 'as', 'the', 'November', 'congressional', 'election', 'campaigns', 'approach', 'in', 'which', 'Republicans', 'will', 'seek', 'to', 'keep', 'control', 'of', 'Congress', '.', 'President', 'Donald', 'Trump', 'and', 'his', 'Republicans', 'want', 'a', 'big', 'budget', 'increase', 'in', 'military', 'spending', ',', 'while', 'Democrats', 'also', 'want', 'proportional', 'increases', 'for', 'non-defense', '“', 'discretionary', '”', 'spending', 'on', 'programs', 'that', 'support', 'education', ',', 'scientific', 'research', ',', 'infrastructure', ',', 'public', 'health', 'and', 'environmental', 'protection', '.', '“', 'The', '(', 'Trump', ')', 'administration', 'has', 'already', 'been', 'willing', 'to', 'say', ':', '‘', 'We', '’', 're', 'going', 'to', 'increase', 'non-defense', 'discretionary', 'spending', '...', 'by', 'about', '7', 'percent', ',', '’', '”', 'Meadows', ',', 'chairman', 'of', 'the', 'small', 'but', 'influential', 'House', 'Freedom', 'Caucus', ',', 'said', 'on', 'the', 'program', '.', '“', 'Now', ',', 'Democrats', 'are', 'saying', 'that', '’', 's', 'not', 'enough', ',', 'we', 'need', 'to', 'give', 'the', 'government', 'a', 'pay', 'raise', 'of', '10', 'to', '11', 'percent', '.', 'For', 'a', 'fiscal', 'conservative', ',', 'I', 'don', '’', 't', 'see', 'where', 'the', 'rationale', 'is', '.', '...', 'Eventually', 'you', 'run', 'out', 'of', 'other', 'people', '’', 's', 'money', ',', '”', 'he', 'said', '.', 'Meadows', 'was', 'among', 'Republicans', 'who', 'voted', 'in', 'late', 'December', 'for', 'their', 'party', '’', 's', 'debt-financed', 'tax', 'overhaul', ',', 'which', 'is', 'expected', 'to', 'balloon', 'the', 'federal', 'budget', 'deficit', 'and', 'add', 'about', '$', '1.5', 'trillion', 'over', '10', 'years', 'to', 'the', '$', '20', 'trillion', 'national', 'debt', '.', '“', 'It', '’', 's', 'interesting', 'to', 'hear', 'Mark', 'talk', 'about', 'fiscal', 'responsibility', ',', '”', 'Democratic', 'U.S.', 'Representative', 'Joseph', 'Crowley', 'said', 'on', 'CBS', '.', 'Crowley', 'said', 'the', 'Republican', 'tax', 'bill', 'would', 'require', 'the', 'United', 'States', 'to', 'borrow', '$', '1.5', 'trillion', ',', 'to', 'be', 'paid', 'off', 'by', 'future', 'generations', ',', 'to', 'finance', 'tax', 'cuts', 'for', 'corporations', 'and', 'the', 'rich', '.', '“', 'This', 'is', 'one', 'of', 'the', 'least', '...', 'fiscally', 'responsible', 'bills', 'we', '’', 've', 'ever', 'seen', 'passed', 'in', 'the', 'history', 'of', 'the', 'House', 'of', 'Representatives', '.', 'I', 'think', 'we', '’', 're', 'going', 'to', 'be', 'paying', 'for', 'this', 'for', 'many', ',', 'many', 'years', 'to', 'come', ',', '”', 'Crowley', 'said', '.', 'Republicans', 'insist', 'the', 'tax', 'package', ',', 'the', 'biggest', 'U.S.', 'tax', 'overhaul', 'in', 'more', 'than', '30', 'years', ',', 'will', 'boost', 'the', 'economy', 'and', 'job', 'growth', '.', 'House', 'Speaker', 'Paul', 'Ryan', ',', 'who', 'also', 'supported', 'the', 'tax', 'bill', ',', 'recently', 'went', 'further', 'than', 'Meadows', ',', 'making', 'clear', 'in', 'a', 'radio', 'interview', 'that', 'welfare', 'or', '“', 'entitlement', 'reform', ',', '”', 'as', 'the', 'party', 'often', 'calls', 'it', ',', 'would', 'be', 'a', 'top', 'Republican', 'priority', 'in', '2018', '.', 'In', 'Republican', 'parlance', ',', '“', 'entitlement', '”', 'programs', 'mean', 'food', 'stamps', ',', 'housing', 'assistance', ',', 'Medicare', 'and', 'Medicaid', 'health', 'insurance', 'for', 'the', 'elderly', ',', 'poor', 'and', 'disabled', ',', 'as', 'well', 'as', 'other', 'programs', 'created', 'by', 'Washington', 'to', 'assist', 'the', 'needy', '.', 'Democrats', 'seized', 'on', 'Ryan', '’', 's', 'early', 'December', 'remarks', ',', 'saying', 'they', 'showed', 'Republicans', 'would', 'try', 'to', 'pay', 'for', 'their', 'tax', 'overhaul', 'by', 'seeking', 'spending', 'cuts', 'for', 'social', 'programs', '.', 'But', 'the', 'goals', 'of', 'House', 'Republicans', 'may', 'have', 'to', 'take', 'a', 'back', 'seat', 'to', 'the', 'Senate', ',', 'where', 'the', 'votes', 'of', 'some', 'Democrats', 'will', 'be', 'needed', 'to', 'approve', 'a', 'budget', 'and', 'prevent', 'a', 'government', 'shutdown', '.', 'Democrats', 'will', 'use', 'their', 'leverage', 'in', 'the', 'Senate', ',', 'which', 'Republicans', 'narrowly', 'control', ',', 'to', 'defend', 'both', 'discretionary', 'non-defense', 'programs', 'and', 'social', 'spending', ',', 'while', 'tackling', 'the', 'issue', 'of', 'the', '“', 'Dreamers', ',', '”', 'people', 'brought', 'illegally', 'to', 'the', 'country', 'as', 'children', '.', 'Trump', 'in', 'September', 'put', 'a', 'March', '2018', 'expiration', 'date', 'on', 'the', 'Deferred', 'Action', 'for', 'Childhood', 'Arrivals', ',', 'or', 'DACA', ',', 'program', ',', 'which', 'protects', 'the', 'young', 'immigrants', 'from', 'deportation', 'and', 'provides', 'them', 'with', 'work', 'permits', '.', 'The', 'president', 'has', 'said', 'in', 'recent', 'Twitter', 'messages', 'he', 'wants', 'funding', 'for', 'his', 'proposed', 'Mexican', 'border', 'wall', 'and', 'other', 'immigration', 'law', 'changes', 'in', 'exchange', 'for', 'agreeing', 'to', 'help', 'the', 'Dreamers', '.', 'Representative', 'Debbie', 'Dingell', 'told', 'CBS', 'she', 'did', 'not', 'favor', 'linking', 'that', 'issue', 'to', 'other', 'policy', 'objectives', ',', 'such', 'as', 'wall', 'funding', '.', '“', 'We', 'need', 'to', 'do', 'DACA', 'clean', ',', '”', 'she', 'said', '.', 'On', 'Wednesday', ',', 'Trump', 'aides', 'will', 'meet', 'with', 'congressional', 'leaders', 'to', 'discuss', 'those', 'issues', '.', 'That', 'will', 'be', 'followed', 'by', 'a', 'weekend', 'of', 'strategy', 'sessions', 'for', 'Trump', 'and', 'Republican', 'leaders', 'on', 'Jan.', '6', 'and', '7', ',', 'the', 'White', 'House', 'said', '.', 'Trump', 'was', 'also', 'scheduled', 'to', 'meet', 'on', 'Sunday', 'with', 'Florida', 'Republican', 'Governor', 'Rick', 'Scott', ',', 'who', 'wants', 'more', 'emergency', 'aid', '.', 'The', 'House', 'has', 'passed', 'an', '$', '81', 'billion', 'aid', 'package', 'after', 'hurricanes', 'in', 'Florida', ',', 'Texas', 'and', 'Puerto', 'Rico', ',', 'and', 'wildfires', 'in', 'California', '.', 'The', 'package', 'far', 'exceeded', 'the', '$', '44', 'billion', 'requested', 'by', 'the', 'Trump', 'administration', '.', 'The', 'Senate', 'has', 'not', 'yet', 'voted', 'on', 'the', 'aid', '.', 'politicsNews']"
        ],
        [
         "1",
         "U.S. military to accept transgender recruits on Monday: Pentagon WASHINGTON (Reuters) - Transgender people will be allowed for the first time to enlist in the U.S. military starting on Monday as ordered by federal courts, the Pentagon said on Friday, after President Donald Trump’s administration decided not to appeal rulings that blocked his transgender ban. Two federal appeals courts, one in Washington and one in Virginia, last week rejected the administration’s request to put on hold orders by lower court judges requiring the military to begin accepting transgender recruits on Jan. 1. A Justice Department official said the administration will not challenge those rulings. “The Department of Defense has announced that it will be releasing an independent study of these issues in the coming weeks. So rather than litigate this interim appeal before that occurs, the administration has decided to wait for DOD’s study and will continue to defend the president’s lawful authority in District Court in the meantime,” the official said, speaking on condition of anonymity. In September, the Pentagon said it had created a panel of senior officials to study how to implement a directive by Trump to prohibit transgender individuals from serving. The Defense Department has until Feb. 21 to submit a plan to Trump. Lawyers representing currently-serving transgender service members and aspiring recruits said they had expected the administration to appeal the rulings to the conservative-majority Supreme Court, but were hoping that would not happen. Pentagon spokeswoman Heather Babb said in a statement: “As mandated by court order, the Department of Defense is prepared to begin accessing transgender applicants for military service Jan. 1. All applicants must meet all accession standards.” Jennifer Levi, a lawyer with gay, lesbian and transgender advocacy group GLAD, called the decision not to appeal “great news.” “I’m hoping it means the government has come to see that there is no way to justify a ban and that it’s not good for the military or our country,” Levi said. Both GLAD and the American Civil Liberties Union represent plaintiffs in the lawsuits filed against the administration. In a move that appealed to his hard-line conservative supporters, Trump announced in July that he would prohibit transgender people from serving in the military, reversing Democratic President Barack Obama’s policy of accepting them. Trump said on Twitter at the time that the military “cannot be burdened with the tremendous medical costs and disruption that transgender in the military would entail.” Four federal judges - in Baltimore, Washington, D.C., Seattle and Riverside, California - have issued rulings blocking Trump’s ban while legal challenges to the Republican president’s policy proceed. The judges said the ban would likely violate the right under the U.S. Constitution to equal protection under the law. The Pentagon on Dec. 8 issued guidelines to recruitment personnel in order to enlist transgender applicants by Jan. 1. The memo outlined medical requirements and specified how the applicants’ sex would be identified and even which undergarments they would wear. The Trump administration previously said in legal papers that the armed forces were not prepared to train thousands of personnel on the medical standards needed to process transgender applicants and might have to accept “some individuals who are not medically fit for service.” The Obama administration had set a deadline of July 1, 2017, to begin accepting transgender recruits. But Trump’s defense secretary, James Mattis, postponed that date to Jan. 1, 2018, which the president’s ban then put off indefinitely. Trump has taken other steps aimed at rolling back transgender rights. In October, his administration said a federal law banning gender-based workplace discrimination does not protect transgender employees, reversing another Obama-era position. In February, Trump rescinded guidance issued by the Obama administration saying that public schools should allow transgender students to use the restroom that corresponds to their gender identity.  politicsNews",
         "['U.S.', 'military', 'to', 'accept', 'transgender', 'recruits', 'on', 'Monday', ':', 'Pentagon', 'WASHINGTON', '(', 'Reuters', ')', '-', 'Transgender', 'people', 'will', 'be', 'allowed', 'for', 'the', 'first', 'time', 'to', 'enlist', 'in', 'the', 'U.S.', 'military', 'starting', 'on', 'Monday', 'as', 'ordered', 'by', 'federal', 'courts', ',', 'the', 'Pentagon', 'said', 'on', 'Friday', ',', 'after', 'President', 'Donald', 'Trump', '’', 's', 'administration', 'decided', 'not', 'to', 'appeal', 'rulings', 'that', 'blocked', 'his', 'transgender', 'ban', '.', 'Two', 'federal', 'appeals', 'courts', ',', 'one', 'in', 'Washington', 'and', 'one', 'in', 'Virginia', ',', 'last', 'week', 'rejected', 'the', 'administration', '’', 's', 'request', 'to', 'put', 'on', 'hold', 'orders', 'by', 'lower', 'court', 'judges', 'requiring', 'the', 'military', 'to', 'begin', 'accepting', 'transgender', 'recruits', 'on', 'Jan.', '1', '.', 'A', 'Justice', 'Department', 'official', 'said', 'the', 'administration', 'will', 'not', 'challenge', 'those', 'rulings', '.', '“', 'The', 'Department', 'of', 'Defense', 'has', 'announced', 'that', 'it', 'will', 'be', 'releasing', 'an', 'independent', 'study', 'of', 'these', 'issues', 'in', 'the', 'coming', 'weeks', '.', 'So', 'rather', 'than', 'litigate', 'this', 'interim', 'appeal', 'before', 'that', 'occurs', ',', 'the', 'administration', 'has', 'decided', 'to', 'wait', 'for', 'DOD', '’', 's', 'study', 'and', 'will', 'continue', 'to', 'defend', 'the', 'president', '’', 's', 'lawful', 'authority', 'in', 'District', 'Court', 'in', 'the', 'meantime', ',', '”', 'the', 'official', 'said', ',', 'speaking', 'on', 'condition', 'of', 'anonymity', '.', 'In', 'September', ',', 'the', 'Pentagon', 'said', 'it', 'had', 'created', 'a', 'panel', 'of', 'senior', 'officials', 'to', 'study', 'how', 'to', 'implement', 'a', 'directive', 'by', 'Trump', 'to', 'prohibit', 'transgender', 'individuals', 'from', 'serving', '.', 'The', 'Defense', 'Department', 'has', 'until', 'Feb.', '21', 'to', 'submit', 'a', 'plan', 'to', 'Trump', '.', 'Lawyers', 'representing', 'currently-serving', 'transgender', 'service', 'members', 'and', 'aspiring', 'recruits', 'said', 'they', 'had', 'expected', 'the', 'administration', 'to', 'appeal', 'the', 'rulings', 'to', 'the', 'conservative-majority', 'Supreme', 'Court', ',', 'but', 'were', 'hoping', 'that', 'would', 'not', 'happen', '.', 'Pentagon', 'spokeswoman', 'Heather', 'Babb', 'said', 'in', 'a', 'statement', ':', '“', 'As', 'mandated', 'by', 'court', 'order', ',', 'the', 'Department', 'of', 'Defense', 'is', 'prepared', 'to', 'begin', 'accessing', 'transgender', 'applicants', 'for', 'military', 'service', 'Jan.', '1', '.', 'All', 'applicants', 'must', 'meet', 'all', 'accession', 'standards.', '”', 'Jennifer', 'Levi', ',', 'a', 'lawyer', 'with', 'gay', ',', 'lesbian', 'and', 'transgender', 'advocacy', 'group', 'GLAD', ',', 'called', 'the', 'decision', 'not', 'to', 'appeal', '“', 'great', 'news.', '”', '“', 'I', '’', 'm', 'hoping', 'it', 'means', 'the', 'government', 'has', 'come', 'to', 'see', 'that', 'there', 'is', 'no', 'way', 'to', 'justify', 'a', 'ban', 'and', 'that', 'it', '’', 's', 'not', 'good', 'for', 'the', 'military', 'or', 'our', 'country', ',', '”', 'Levi', 'said', '.', 'Both', 'GLAD', 'and', 'the', 'American', 'Civil', 'Liberties', 'Union', 'represent', 'plaintiffs', 'in', 'the', 'lawsuits', 'filed', 'against', 'the', 'administration', '.', 'In', 'a', 'move', 'that', 'appealed', 'to', 'his', 'hard-line', 'conservative', 'supporters', ',', 'Trump', 'announced', 'in', 'July', 'that', 'he', 'would', 'prohibit', 'transgender', 'people', 'from', 'serving', 'in', 'the', 'military', ',', 'reversing', 'Democratic', 'President', 'Barack', 'Obama', '’', 's', 'policy', 'of', 'accepting', 'them', '.', 'Trump', 'said', 'on', 'Twitter', 'at', 'the', 'time', 'that', 'the', 'military', '“', 'can', 'not', 'be', 'burdened', 'with', 'the', 'tremendous', 'medical', 'costs', 'and', 'disruption', 'that', 'transgender', 'in', 'the', 'military', 'would', 'entail.', '”', 'Four', 'federal', 'judges', '-', 'in', 'Baltimore', ',', 'Washington', ',', 'D.C.', ',', 'Seattle', 'and', 'Riverside', ',', 'California', '-', 'have', 'issued', 'rulings', 'blocking', 'Trump', '’', 's', 'ban', 'while', 'legal', 'challenges', 'to', 'the', 'Republican', 'president', '’', 's', 'policy', 'proceed', '.', 'The', 'judges', 'said', 'the', 'ban', 'would', 'likely', 'violate', 'the', 'right', 'under', 'the', 'U.S.', 'Constitution', 'to', 'equal', 'protection', 'under', 'the', 'law', '.', 'The', 'Pentagon', 'on', 'Dec.', '8', 'issued', 'guidelines', 'to', 'recruitment', 'personnel', 'in', 'order', 'to', 'enlist', 'transgender', 'applicants', 'by', 'Jan.', '1', '.', 'The', 'memo', 'outlined', 'medical', 'requirements', 'and', 'specified', 'how', 'the', 'applicants', '’', 'sex', 'would', 'be', 'identified', 'and', 'even', 'which', 'undergarments', 'they', 'would', 'wear', '.', 'The', 'Trump', 'administration', 'previously', 'said', 'in', 'legal', 'papers', 'that', 'the', 'armed', 'forces', 'were', 'not', 'prepared', 'to', 'train', 'thousands', 'of', 'personnel', 'on', 'the', 'medical', 'standards', 'needed', 'to', 'process', 'transgender', 'applicants', 'and', 'might', 'have', 'to', 'accept', '“', 'some', 'individuals', 'who', 'are', 'not', 'medically', 'fit', 'for', 'service.', '”', 'The', 'Obama', 'administration', 'had', 'set', 'a', 'deadline', 'of', 'July', '1', ',', '2017', ',', 'to', 'begin', 'accepting', 'transgender', 'recruits', '.', 'But', 'Trump', '’', 's', 'defense', 'secretary', ',', 'James', 'Mattis', ',', 'postponed', 'that', 'date', 'to', 'Jan.', '1', ',', '2018', ',', 'which', 'the', 'president', '’', 's', 'ban', 'then', 'put', 'off', 'indefinitely', '.', 'Trump', 'has', 'taken', 'other', 'steps', 'aimed', 'at', 'rolling', 'back', 'transgender', 'rights', '.', 'In', 'October', ',', 'his', 'administration', 'said', 'a', 'federal', 'law', 'banning', 'gender-based', 'workplace', 'discrimination', 'does', 'not', 'protect', 'transgender', 'employees', ',', 'reversing', 'another', 'Obama-era', 'position', '.', 'In', 'February', ',', 'Trump', 'rescinded', 'guidance', 'issued', 'by', 'the', 'Obama', 'administration', 'saying', 'that', 'public', 'schools', 'should', 'allow', 'transgender', 'students', 'to', 'use', 'the', 'restroom', 'that', 'corresponds', 'to', 'their', 'gender', 'identity', '.', 'politicsNews']"
        ],
        [
         "2",
         "Senior U.S. Republican senator: 'Let Mr. Mueller do his job' WASHINGTON (Reuters) - The special counsel investigation of links between Russia and President Trump’s 2016 election campaign should continue without interference in 2018, despite calls from some Trump administration allies and Republican lawmakers to shut it down, a prominent Republican senator said on Sunday. Lindsey Graham, who serves on the Senate armed forces and judiciary committees, said Department of Justice Special Counsel Robert Mueller needs to carry on with his Russia investigation without political interference. “This investigation will go forward. It will be an investigation conducted without political influence,” Graham said on CBS’s Face the Nation news program. “And we all need to let Mr. Mueller do his job. I think he’s the right guy at the right time.”  The question of how Russia may have interfered in the election, and how Trump’s campaign may have had links with or co-ordinated any such effort, has loomed over the White House since Trump took office in January. It shows no sign of receding as Trump prepares for his second year in power, despite intensified rhetoric from some Trump allies in recent weeks accusing Mueller’s team of bias against the Republican president. Trump himself seemed to undercut his supporters in an interview last week with the New York Times in which he said he expected Mueller was “going to be fair.”    Russia’s role in the election and the question of possible links to the Trump campaign are the focus of multiple inquiries in Washington. Three committees of the Senate and the House of Representatives are investigating, as well as Mueller, whose team in May took over an earlier probe launched by the U.S. Federal Bureau of Investigation (FBI). Several members of the Trump campaign and administration have been convicted or indicted in the investigation.  Trump and his allies deny any collusion with Russia during the campaign, and the Kremlin has denied meddling in the election. Graham said he still wants an examination of the FBI’s use of a dossier on links between Trump and Russia that was compiled by a former British spy, Christopher Steele, which prompted Trump allies and some Republicans to question Mueller’s inquiry.   On Saturday, the New York Times reported that it was not that dossier that triggered an early FBI probe, but a tip from former Trump campaign foreign policy adviser George Papadopoulos to an Australian diplomat that Russia had damaging information about former Trump rival Hillary Clinton.  “I want somebody to look at the way the Department of Justice used this dossier. It bothers me greatly the way they used it, and I want somebody to look at it,” Graham said. But he said the Russia investigation must continue. “As a matter of fact, it would hurt us if we ignored it,” he said.  politicsNews",
         "['Senior', 'U.S.', 'Republican', 'senator', ':', \"'Let\", 'Mr.', 'Mueller', 'do', 'his', 'job', \"'\", 'WASHINGTON', '(', 'Reuters', ')', '-', 'The', 'special', 'counsel', 'investigation', 'of', 'links', 'between', 'Russia', 'and', 'President', 'Trump', '’', 's', '2016', 'election', 'campaign', 'should', 'continue', 'without', 'interference', 'in', '2018', ',', 'despite', 'calls', 'from', 'some', 'Trump', 'administration', 'allies', 'and', 'Republican', 'lawmakers', 'to', 'shut', 'it', 'down', ',', 'a', 'prominent', 'Republican', 'senator', 'said', 'on', 'Sunday', '.', 'Lindsey', 'Graham', ',', 'who', 'serves', 'on', 'the', 'Senate', 'armed', 'forces', 'and', 'judiciary', 'committees', ',', 'said', 'Department', 'of', 'Justice', 'Special', 'Counsel', 'Robert', 'Mueller', 'needs', 'to', 'carry', 'on', 'with', 'his', 'Russia', 'investigation', 'without', 'political', 'interference', '.', '“', 'This', 'investigation', 'will', 'go', 'forward', '.', 'It', 'will', 'be', 'an', 'investigation', 'conducted', 'without', 'political', 'influence', ',', '”', 'Graham', 'said', 'on', 'CBS', '’', 's', 'Face', 'the', 'Nation', 'news', 'program', '.', '“', 'And', 'we', 'all', 'need', 'to', 'let', 'Mr.', 'Mueller', 'do', 'his', 'job', '.', 'I', 'think', 'he', '’', 's', 'the', 'right', 'guy', 'at', 'the', 'right', 'time.', '”', 'The', 'question', 'of', 'how', 'Russia', 'may', 'have', 'interfered', 'in', 'the', 'election', ',', 'and', 'how', 'Trump', '’', 's', 'campaign', 'may', 'have', 'had', 'links', 'with', 'or', 'co-ordinated', 'any', 'such', 'effort', ',', 'has', 'loomed', 'over', 'the', 'White', 'House', 'since', 'Trump', 'took', 'office', 'in', 'January', '.', 'It', 'shows', 'no', 'sign', 'of', 'receding', 'as', 'Trump', 'prepares', 'for', 'his', 'second', 'year', 'in', 'power', ',', 'despite', 'intensified', 'rhetoric', 'from', 'some', 'Trump', 'allies', 'in', 'recent', 'weeks', 'accusing', 'Mueller', '’', 's', 'team', 'of', 'bias', 'against', 'the', 'Republican', 'president', '.', 'Trump', 'himself', 'seemed', 'to', 'undercut', 'his', 'supporters', 'in', 'an', 'interview', 'last', 'week', 'with', 'the', 'New', 'York', 'Times', 'in', 'which', 'he', 'said', 'he', 'expected', 'Mueller', 'was', '“', 'going', 'to', 'be', 'fair.', '”', 'Russia', '’', 's', 'role', 'in', 'the', 'election', 'and', 'the', 'question', 'of', 'possible', 'links', 'to', 'the', 'Trump', 'campaign', 'are', 'the', 'focus', 'of', 'multiple', 'inquiries', 'in', 'Washington', '.', 'Three', 'committees', 'of', 'the', 'Senate', 'and', 'the', 'House', 'of', 'Representatives', 'are', 'investigating', ',', 'as', 'well', 'as', 'Mueller', ',', 'whose', 'team', 'in', 'May', 'took', 'over', 'an', 'earlier', 'probe', 'launched', 'by', 'the', 'U.S.', 'Federal', 'Bureau', 'of', 'Investigation', '(', 'FBI', ')', '.', 'Several', 'members', 'of', 'the', 'Trump', 'campaign', 'and', 'administration', 'have', 'been', 'convicted', 'or', 'indicted', 'in', 'the', 'investigation', '.', 'Trump', 'and', 'his', 'allies', 'deny', 'any', 'collusion', 'with', 'Russia', 'during', 'the', 'campaign', ',', 'and', 'the', 'Kremlin', 'has', 'denied', 'meddling', 'in', 'the', 'election', '.', 'Graham', 'said', 'he', 'still', 'wants', 'an', 'examination', 'of', 'the', 'FBI', '’', 's', 'use', 'of', 'a', 'dossier', 'on', 'links', 'between', 'Trump', 'and', 'Russia', 'that', 'was', 'compiled', 'by', 'a', 'former', 'British', 'spy', ',', 'Christopher', 'Steele', ',', 'which', 'prompted', 'Trump', 'allies', 'and', 'some', 'Republicans', 'to', 'question', 'Mueller', '’', 's', 'inquiry', '.', 'On', 'Saturday', ',', 'the', 'New', 'York', 'Times', 'reported', 'that', 'it', 'was', 'not', 'that', 'dossier', 'that', 'triggered', 'an', 'early', 'FBI', 'probe', ',', 'but', 'a', 'tip', 'from', 'former', 'Trump', 'campaign', 'foreign', 'policy', 'adviser', 'George', 'Papadopoulos', 'to', 'an', 'Australian', 'diplomat', 'that', 'Russia', 'had', 'damaging', 'information', 'about', 'former', 'Trump', 'rival', 'Hillary', 'Clinton', '.', '“', 'I', 'want', 'somebody', 'to', 'look', 'at', 'the', 'way', 'the', 'Department', 'of', 'Justice', 'used', 'this', 'dossier', '.', 'It', 'bothers', 'me', 'greatly', 'the', 'way', 'they', 'used', 'it', ',', 'and', 'I', 'want', 'somebody', 'to', 'look', 'at', 'it', ',', '”', 'Graham', 'said', '.', 'But', 'he', 'said', 'the', 'Russia', 'investigation', 'must', 'continue', '.', '“', 'As', 'a', 'matter', 'of', 'fact', ',', 'it', 'would', 'hurt', 'us', 'if', 'we', 'ignored', 'it', ',', '”', 'he', 'said', '.', 'politicsNews']"
        ],
        [
         "3",
         "FBI Russia probe helped by Australian diplomat tip-off: NYT WASHINGTON (Reuters) - Trump campaign adviser George Papadopoulos told an Australian diplomat in May 2016 that Russia had political dirt on Democratic presidential candidate Hillary Clinton, the New York Times reported on Saturday. The conversation between Papadopoulos and the diplomat, Alexander Downer, in London was a driving factor behind the FBI’s decision to open a counter-intelligence investigation of Moscow’s contacts with the Trump campaign, the Times reported. Two months after the meeting, Australian officials passed the information that came from Papadopoulos to their American counterparts when leaked Democratic emails began appearing online, according to the newspaper, which cited four current and former U.S. and foreign officials. Besides the information from the Australians, the probe by the Federal Bureau of Investigation was also propelled by intelligence from other friendly governments, including the British and Dutch, the Times said. Papadopoulos, a Chicago-based international energy lawyer, pleaded guilty on Oct. 30 to lying to FBI agents about contacts with people who claimed to have ties to top Russian officials. It was the first criminal charge alleging links between the Trump campaign and Russia. The White House has played down the former aide’s campaign role, saying it was “extremely limited” and that any actions he took would have been on his own. The New York Times, however, reported that Papadopoulos helped set up a meeting between then-candidate Donald Trump and Egyptian President Abdel Fattah al-Sisi and edited the outline of Trump’s first major foreign policy speech in April 2016. The federal investigation, which is now being led by Special Counsel Robert Mueller, has hung over Trump’s White House since he took office almost a year ago. Some Trump allies have recently accused Mueller’s team of being biased against the Republican president. Lawyers for Papadopoulos did not immediately respond to requests by Reuters for comment. Mueller’s office declined to comment. Trump’s White House attorney, Ty Cobb, declined to comment on the New York Times report. “Out of respect for the special counsel and his process, we are not commenting on matters such as this,” he said in a statement. Mueller has charged four Trump associates, including Papadopoulos, in his investigation. Russia has denied interfering in the U.S. election and Trump has said there was no collusion between his campaign and Moscow.  politicsNews",
         "['FBI', 'Russia', 'probe', 'helped', 'by', 'Australian', 'diplomat', 'tip-off', ':', 'NYT', 'WASHINGTON', '(', 'Reuters', ')', '-', 'Trump', 'campaign', 'adviser', 'George', 'Papadopoulos', 'told', 'an', 'Australian', 'diplomat', 'in', 'May', '2016', 'that', 'Russia', 'had', 'political', 'dirt', 'on', 'Democratic', 'presidential', 'candidate', 'Hillary', 'Clinton', ',', 'the', 'New', 'York', 'Times', 'reported', 'on', 'Saturday', '.', 'The', 'conversation', 'between', 'Papadopoulos', 'and', 'the', 'diplomat', ',', 'Alexander', 'Downer', ',', 'in', 'London', 'was', 'a', 'driving', 'factor', 'behind', 'the', 'FBI', '’', 's', 'decision', 'to', 'open', 'a', 'counter-intelligence', 'investigation', 'of', 'Moscow', '’', 's', 'contacts', 'with', 'the', 'Trump', 'campaign', ',', 'the', 'Times', 'reported', '.', 'Two', 'months', 'after', 'the', 'meeting', ',', 'Australian', 'officials', 'passed', 'the', 'information', 'that', 'came', 'from', 'Papadopoulos', 'to', 'their', 'American', 'counterparts', 'when', 'leaked', 'Democratic', 'emails', 'began', 'appearing', 'online', ',', 'according', 'to', 'the', 'newspaper', ',', 'which', 'cited', 'four', 'current', 'and', 'former', 'U.S.', 'and', 'foreign', 'officials', '.', 'Besides', 'the', 'information', 'from', 'the', 'Australians', ',', 'the', 'probe', 'by', 'the', 'Federal', 'Bureau', 'of', 'Investigation', 'was', 'also', 'propelled', 'by', 'intelligence', 'from', 'other', 'friendly', 'governments', ',', 'including', 'the', 'British', 'and', 'Dutch', ',', 'the', 'Times', 'said', '.', 'Papadopoulos', ',', 'a', 'Chicago-based', 'international', 'energy', 'lawyer', ',', 'pleaded', 'guilty', 'on', 'Oct.', '30', 'to', 'lying', 'to', 'FBI', 'agents', 'about', 'contacts', 'with', 'people', 'who', 'claimed', 'to', 'have', 'ties', 'to', 'top', 'Russian', 'officials', '.', 'It', 'was', 'the', 'first', 'criminal', 'charge', 'alleging', 'links', 'between', 'the', 'Trump', 'campaign', 'and', 'Russia', '.', 'The', 'White', 'House', 'has', 'played', 'down', 'the', 'former', 'aide', '’', 's', 'campaign', 'role', ',', 'saying', 'it', 'was', '“', 'extremely', 'limited', '”', 'and', 'that', 'any', 'actions', 'he', 'took', 'would', 'have', 'been', 'on', 'his', 'own', '.', 'The', 'New', 'York', 'Times', ',', 'however', ',', 'reported', 'that', 'Papadopoulos', 'helped', 'set', 'up', 'a', 'meeting', 'between', 'then-candidate', 'Donald', 'Trump', 'and', 'Egyptian', 'President', 'Abdel', 'Fattah', 'al-Sisi', 'and', 'edited', 'the', 'outline', 'of', 'Trump', '’', 's', 'first', 'major', 'foreign', 'policy', 'speech', 'in', 'April', '2016', '.', 'The', 'federal', 'investigation', ',', 'which', 'is', 'now', 'being', 'led', 'by', 'Special', 'Counsel', 'Robert', 'Mueller', ',', 'has', 'hung', 'over', 'Trump', '’', 's', 'White', 'House', 'since', 'he', 'took', 'office', 'almost', 'a', 'year', 'ago', '.', 'Some', 'Trump', 'allies', 'have', 'recently', 'accused', 'Mueller', '’', 's', 'team', 'of', 'being', 'biased', 'against', 'the', 'Republican', 'president', '.', 'Lawyers', 'for', 'Papadopoulos', 'did', 'not', 'immediately', 'respond', 'to', 'requests', 'by', 'Reuters', 'for', 'comment', '.', 'Mueller', '’', 's', 'office', 'declined', 'to', 'comment', '.', 'Trump', '’', 's', 'White', 'House', 'attorney', ',', 'Ty', 'Cobb', ',', 'declined', 'to', 'comment', 'on', 'the', 'New', 'York', 'Times', 'report', '.', '“', 'Out', 'of', 'respect', 'for', 'the', 'special', 'counsel', 'and', 'his', 'process', ',', 'we', 'are', 'not', 'commenting', 'on', 'matters', 'such', 'as', 'this', ',', '”', 'he', 'said', 'in', 'a', 'statement', '.', 'Mueller', 'has', 'charged', 'four', 'Trump', 'associates', ',', 'including', 'Papadopoulos', ',', 'in', 'his', 'investigation', '.', 'Russia', 'has', 'denied', 'interfering', 'in', 'the', 'U.S.', 'election', 'and', 'Trump', 'has', 'said', 'there', 'was', 'no', 'collusion', 'between', 'his', 'campaign', 'and', 'Moscow', '.', 'politicsNews']"
        ],
        [
         "4",
         "Trump wants Postal Service to charge 'much more' for Amazon shipments SEATTLE/WASHINGTON (Reuters) - President Donald Trump called on the U.S. Postal Service on Friday to charge “much more” to ship packages for Amazon (AMZN.O), picking another fight with an online retail giant he has criticized in the past.     “Why is the United States Post Office, which is losing many billions of dollars a year, while charging Amazon and others so little to deliver their packages, making Amazon richer and the Post Office dumber and poorer? Should be charging MUCH MORE!” Trump wrote on Twitter.  The president’s tweet drew fresh attention to the fragile finances of the Postal Service at a time when tens of millions of parcels have just been shipped all over the country for the holiday season.  The U.S. Postal Service, which runs at a big loss, is an independent agency within the federal government and does not receive tax dollars for operating expenses, according to its website.  Package delivery has become an increasingly important part of its business as the Internet has led to a sharp decline in the amount of first-class letters. The president does not determine postal rates. They are set by the Postal Regulatory Commission, an independent government agency with commissioners selected by the president from both political parties. That panel raised prices on packages by almost 2 percent in November.  Amazon was founded by Jeff Bezos, who remains the chief executive officer of the retail company and is the richest person in the world, according to Bloomberg News. Bezos also owns The Washington Post, a newspaper Trump has repeatedly railed against in his criticisms of the news media. In tweets over the past year, Trump has said the “Amazon Washington Post” fabricated stories. He has said Amazon does not pay sales tax, which is not true, and so hurts other retailers, part of a pattern by the former businessman and reality television host of periodically turning his ire on big American companies since he took office in January. Daniel Ives, a research analyst at GBH Insights, said Trump’s comment could be taken as a warning to the retail giant. However, he said he was not concerned for Amazon. “We do not see any price hikes in the future. However, that is a risk that Amazon is clearly aware of and (it) is building out its distribution (system) aggressively,” he said. Amazon has shown interest in the past in shifting into its own delivery service, including testing drones for deliveries. In 2015, the company spent $11.5 billion on shipping, 46 percent of its total operating expenses that year.  Amazon shares were down 0.86 percent to $1,175.90 by early afternoon. Overall, U.S. stock prices were down slightly on Friday.  Satish Jindel, president of ShipMatrix Inc, which analyzes shipping data, disputed the idea that the Postal Service charges less than United Parcel Service Inc (UPS.N) and FedEx Corp (FDX.N), the other biggest players in the parcel delivery business in the United States. Many customers get lower rates from UPS and FedEx than they would get from the post office for comparable services, he said. The Postal Service delivers about 62 percent of Amazon packages, for about 3.5 to 4 million a day during the current peak year-end holiday shipping season, Jindel said. The Seattle-based company and the post office have an agreement in which mail carriers take Amazon packages on the last leg of their journeys, from post offices to customers’ doorsteps. Amazon’s No. 2 carrier is UPS, at 21 percent, and FedEx is third, with 8 percent or so, according to Jindel. Trump’s comment tapped into a debate over whether Postal Service pricing has kept pace with the rise of e-commerce, which has flooded the mail with small packages.Private companies like UPS have long claimed the current system unfairly undercuts their business. Steve Gaut, a spokesman for UPS, noted that the company values its “productive relationship” with the postal service, but that it has filed with the Postal Regulatory Commission its concerns about the postal service’s methods for covering costs. Representatives for Amazon, the White House, the U.S. Postal Service and FedEx declined comment or were not immediately available for comment on Trump’s tweet. According to its annual report, the Postal Service lost $2.74 billion this year, and its deficit has ballooned to $61.86 billion.  While the Postal Service’s revenue for first class mail, marketing mail and periodicals is flat or declining, revenue from package delivery is up 44 percent since 2014 to $19.5 billion in the fiscal year ended Sept. 30, 2017. But it also lost about $2 billion in revenue when a temporary surcharge expired in April 2016. According to a Government Accountability Office report in February, the service is facing growing personnel expenses, particularly $73.4 billion in unfunded pension and benefits liabilities. The Postal Service has not announced any plans to cut costs. By law, the Postal Service has to set prices for package delivery to cover the costs attributable to that service. But the postal service allocates only 5.5 percent of its total costs to its business of shipping packages even though that line of business is 28 percent of its total revenue.  politicsNews",
         "['Trump', 'wants', 'Postal', 'Service', 'to', 'charge', \"'much\", 'more', \"'\", 'for', 'Amazon', 'shipments', 'SEATTLE/WASHINGTON', '(', 'Reuters', ')', '-', 'President', 'Donald', 'Trump', 'called', 'on', 'the', 'U.S', '.', 'Postal', 'Service', 'on', 'Friday', 'to', 'charge', '“', 'much', 'more', '”', 'to', 'ship', 'packages', 'for', 'Amazon', '(', 'AMZN.O', ')', ',', 'picking', 'another', 'fight', 'with', 'an', 'online', 'retail', 'giant', 'he', 'has', 'criticized', 'in', 'the', 'past', '.', '“', 'Why', 'is', 'the', 'United', 'States', 'Post', 'Office', ',', 'which', 'is', 'losing', 'many', 'billions', 'of', 'dollars', 'a', 'year', ',', 'while', 'charging', 'Amazon', 'and', 'others', 'so', 'little', 'to', 'deliver', 'their', 'packages', ',', 'making', 'Amazon', 'richer', 'and', 'the', 'Post', 'Office', 'dumber', 'and', 'poorer', '?', 'Should', 'be', 'charging', 'MUCH', 'MORE', '!', '”', 'Trump', 'wrote', 'on', 'Twitter', '.', 'The', 'president', '’', 's', 'tweet', 'drew', 'fresh', 'attention', 'to', 'the', 'fragile', 'finances', 'of', 'the', 'Postal', 'Service', 'at', 'a', 'time', 'when', 'tens', 'of', 'millions', 'of', 'parcels', 'have', 'just', 'been', 'shipped', 'all', 'over', 'the', 'country', 'for', 'the', 'holiday', 'season', '.', 'The', 'U.S', '.', 'Postal', 'Service', ',', 'which', 'runs', 'at', 'a', 'big', 'loss', ',', 'is', 'an', 'independent', 'agency', 'within', 'the', 'federal', 'government', 'and', 'does', 'not', 'receive', 'tax', 'dollars', 'for', 'operating', 'expenses', ',', 'according', 'to', 'its', 'website', '.', 'Package', 'delivery', 'has', 'become', 'an', 'increasingly', 'important', 'part', 'of', 'its', 'business', 'as', 'the', 'Internet', 'has', 'led', 'to', 'a', 'sharp', 'decline', 'in', 'the', 'amount', 'of', 'first-class', 'letters', '.', 'The', 'president', 'does', 'not', 'determine', 'postal', 'rates', '.', 'They', 'are', 'set', 'by', 'the', 'Postal', 'Regulatory', 'Commission', ',', 'an', 'independent', 'government', 'agency', 'with', 'commissioners', 'selected', 'by', 'the', 'president', 'from', 'both', 'political', 'parties', '.', 'That', 'panel', 'raised', 'prices', 'on', 'packages', 'by', 'almost', '2', 'percent', 'in', 'November', '.', 'Amazon', 'was', 'founded', 'by', 'Jeff', 'Bezos', ',', 'who', 'remains', 'the', 'chief', 'executive', 'officer', 'of', 'the', 'retail', 'company', 'and', 'is', 'the', 'richest', 'person', 'in', 'the', 'world', ',', 'according', 'to', 'Bloomberg', 'News', '.', 'Bezos', 'also', 'owns', 'The', 'Washington', 'Post', ',', 'a', 'newspaper', 'Trump', 'has', 'repeatedly', 'railed', 'against', 'in', 'his', 'criticisms', 'of', 'the', 'news', 'media', '.', 'In', 'tweets', 'over', 'the', 'past', 'year', ',', 'Trump', 'has', 'said', 'the', '“', 'Amazon', 'Washington', 'Post', '”', 'fabricated', 'stories', '.', 'He', 'has', 'said', 'Amazon', 'does', 'not', 'pay', 'sales', 'tax', ',', 'which', 'is', 'not', 'true', ',', 'and', 'so', 'hurts', 'other', 'retailers', ',', 'part', 'of', 'a', 'pattern', 'by', 'the', 'former', 'businessman', 'and', 'reality', 'television', 'host', 'of', 'periodically', 'turning', 'his', 'ire', 'on', 'big', 'American', 'companies', 'since', 'he', 'took', 'office', 'in', 'January', '.', 'Daniel', 'Ives', ',', 'a', 'research', 'analyst', 'at', 'GBH', 'Insights', ',', 'said', 'Trump', '’', 's', 'comment', 'could', 'be', 'taken', 'as', 'a', 'warning', 'to', 'the', 'retail', 'giant', '.', 'However', ',', 'he', 'said', 'he', 'was', 'not', 'concerned', 'for', 'Amazon', '.', '“', 'We', 'do', 'not', 'see', 'any', 'price', 'hikes', 'in', 'the', 'future', '.', 'However', ',', 'that', 'is', 'a', 'risk', 'that', 'Amazon', 'is', 'clearly', 'aware', 'of', 'and', '(', 'it', ')', 'is', 'building', 'out', 'its', 'distribution', '(', 'system', ')', 'aggressively', ',', '”', 'he', 'said', '.', 'Amazon', 'has', 'shown', 'interest', 'in', 'the', 'past', 'in', 'shifting', 'into', 'its', 'own', 'delivery', 'service', ',', 'including', 'testing', 'drones', 'for', 'deliveries', '.', 'In', '2015', ',', 'the', 'company', 'spent', '$', '11.5', 'billion', 'on', 'shipping', ',', '46', 'percent', 'of', 'its', 'total', 'operating', 'expenses', 'that', 'year', '.', 'Amazon', 'shares', 'were', 'down', '0.86', 'percent', 'to', '$', '1,175.90', 'by', 'early', 'afternoon', '.', 'Overall', ',', 'U.S.', 'stock', 'prices', 'were', 'down', 'slightly', 'on', 'Friday', '.', 'Satish', 'Jindel', ',', 'president', 'of', 'ShipMatrix', 'Inc', ',', 'which', 'analyzes', 'shipping', 'data', ',', 'disputed', 'the', 'idea', 'that', 'the', 'Postal', 'Service', 'charges', 'less', 'than', 'United', 'Parcel', 'Service', 'Inc', '(', 'UPS.N', ')', 'and', 'FedEx', 'Corp', '(', 'FDX.N', ')', ',', 'the', 'other', 'biggest', 'players', 'in', 'the', 'parcel', 'delivery', 'business', 'in', 'the', 'United', 'States', '.', 'Many', 'customers', 'get', 'lower', 'rates', 'from', 'UPS', 'and', 'FedEx', 'than', 'they', 'would', 'get', 'from', 'the', 'post', 'office', 'for', 'comparable', 'services', ',', 'he', 'said', '.', 'The', 'Postal', 'Service', 'delivers', 'about', '62', 'percent', 'of', 'Amazon', 'packages', ',', 'for', 'about', '3.5', 'to', '4', 'million', 'a', 'day', 'during', 'the', 'current', 'peak', 'year-end', 'holiday', 'shipping', 'season', ',', 'Jindel', 'said', '.', 'The', 'Seattle-based', 'company', 'and', 'the', 'post', 'office', 'have', 'an', 'agreement', 'in', 'which', 'mail', 'carriers', 'take', 'Amazon', 'packages', 'on', 'the', 'last', 'leg', 'of', 'their', 'journeys', ',', 'from', 'post', 'offices', 'to', 'customers', '’', 'doorsteps', '.', 'Amazon', '’', 's', 'No', '.', '2', 'carrier', 'is', 'UPS', ',', 'at', '21', 'percent', ',', 'and', 'FedEx', 'is', 'third', ',', 'with', '8', 'percent', 'or', 'so', ',', 'according', 'to', 'Jindel', '.', 'Trump', '’', 's', 'comment', 'tapped', 'into', 'a', 'debate', 'over', 'whether', 'Postal', 'Service', 'pricing', 'has', 'kept', 'pace', 'with', 'the', 'rise', 'of', 'e-commerce', ',', 'which', 'has', 'flooded', 'the', 'mail', 'with', 'small', 'packages.Private', 'companies', 'like', 'UPS', 'have', 'long', 'claimed', 'the', 'current', 'system', 'unfairly', 'undercuts', 'their', 'business', '.', 'Steve', 'Gaut', ',', 'a', 'spokesman', 'for', 'UPS', ',', 'noted', 'that', 'the', 'company', 'values', 'its', '“', 'productive', 'relationship', '”', 'with', 'the', 'postal', 'service', ',', 'but', 'that', 'it', 'has', 'filed', 'with', 'the', 'Postal', 'Regulatory', 'Commission', 'its', 'concerns', 'about', 'the', 'postal', 'service', '’', 's', 'methods', 'for', 'covering', 'costs', '.', 'Representatives', 'for', 'Amazon', ',', 'the', 'White', 'House', ',', 'the', 'U.S', '.', 'Postal', 'Service', 'and', 'FedEx', 'declined', 'comment', 'or', 'were', 'not', 'immediately', 'available', 'for', 'comment', 'on', 'Trump', '’', 's', 'tweet', '.', 'According', 'to', 'its', 'annual', 'report', ',', 'the', 'Postal', 'Service', 'lost', '$', '2.74', 'billion', 'this', 'year', ',', 'and', 'its', 'deficit', 'has', 'ballooned', 'to', '$', '61.86', 'billion', '.', 'While', 'the', 'Postal', 'Service', '’', 's', 'revenue', 'for', 'first', 'class', 'mail', ',', 'marketing', 'mail', 'and', 'periodicals', 'is', 'flat', 'or', 'declining', ',', 'revenue', 'from', 'package', 'delivery', 'is', 'up', '44', 'percent', 'since', '2014', 'to', '$', '19.5', 'billion', 'in', 'the', 'fiscal', 'year', 'ended', 'Sept.', '30', ',', '2017', '.', 'But', 'it', 'also', 'lost', 'about', '$', '2', 'billion', 'in', 'revenue', 'when', 'a', 'temporary', 'surcharge', 'expired', 'in', 'April', '2016', '.', 'According', 'to', 'a', 'Government', 'Accountability', 'Office', 'report', 'in', 'February', ',', 'the', 'service', 'is', 'facing', 'growing', 'personnel', 'expenses', ',', 'particularly', '$', '73.4', 'billion', 'in', 'unfunded', 'pension', 'and', 'benefits', 'liabilities', '.', 'The', 'Postal', 'Service', 'has', 'not', 'announced', 'any', 'plans', 'to', 'cut', 'costs', '.', 'By', 'law', ',', 'the', 'Postal', 'Service', 'has', 'to', 'set', 'prices', 'for', 'package', 'delivery', 'to', 'cover', 'the', 'costs', 'attributable', 'to', 'that', 'service', '.', 'But', 'the', 'postal', 'service', 'allocates', 'only', '5.5', 'percent', 'of', 'its', 'total', 'costs', 'to', 'its', 'business', 'of', 'shipping', 'packages', 'even', 'though', 'that', 'line', 'of', 'business', 'is', '28', 'percent', 'of', 'its', 'total', 'revenue', '.', 'politicsNews']"
        ]
       ],
       "shape": {
        "columns": 2,
        "rows": 5
       }
      },
      "text/html": [
       "<div>\n",
       "<style scoped>\n",
       "    .dataframe tbody tr th:only-of-type {\n",
       "        vertical-align: middle;\n",
       "    }\n",
       "\n",
       "    .dataframe tbody tr th {\n",
       "        vertical-align: top;\n",
       "    }\n",
       "\n",
       "    .dataframe thead th {\n",
       "        text-align: right;\n",
       "    }\n",
       "</style>\n",
       "<table border=\"1\" class=\"dataframe\">\n",
       "  <thead>\n",
       "    <tr style=\"text-align: right;\">\n",
       "      <th></th>\n",
       "      <th>combined_text</th>\n",
       "      <th>tokenized_text</th>\n",
       "    </tr>\n",
       "  </thead>\n",
       "  <tbody>\n",
       "    <tr>\n",
       "      <th>0</th>\n",
       "      <td>As U.S. budget fight looms, Republicans flip t...</td>\n",
       "      <td>[As, U.S., budget, fight, looms, ,, Republican...</td>\n",
       "    </tr>\n",
       "    <tr>\n",
       "      <th>1</th>\n",
       "      <td>U.S. military to accept transgender recruits o...</td>\n",
       "      <td>[U.S., military, to, accept, transgender, recr...</td>\n",
       "    </tr>\n",
       "    <tr>\n",
       "      <th>2</th>\n",
       "      <td>Senior U.S. Republican senator: 'Let Mr. Muell...</td>\n",
       "      <td>[Senior, U.S., Republican, senator, :, 'Let, M...</td>\n",
       "    </tr>\n",
       "    <tr>\n",
       "      <th>3</th>\n",
       "      <td>FBI Russia probe helped by Australian diplomat...</td>\n",
       "      <td>[FBI, Russia, probe, helped, by, Australian, d...</td>\n",
       "    </tr>\n",
       "    <tr>\n",
       "      <th>4</th>\n",
       "      <td>Trump wants Postal Service to charge 'much mor...</td>\n",
       "      <td>[Trump, wants, Postal, Service, to, charge, 'm...</td>\n",
       "    </tr>\n",
       "  </tbody>\n",
       "</table>\n",
       "</div>"
      ],
      "text/plain": [
       "                                       combined_text  \\\n",
       "0  As U.S. budget fight looms, Republicans flip t...   \n",
       "1  U.S. military to accept transgender recruits o...   \n",
       "2  Senior U.S. Republican senator: 'Let Mr. Muell...   \n",
       "3  FBI Russia probe helped by Australian diplomat...   \n",
       "4  Trump wants Postal Service to charge 'much mor...   \n",
       "\n",
       "                                      tokenized_text  \n",
       "0  [As, U.S., budget, fight, looms, ,, Republican...  \n",
       "1  [U.S., military, to, accept, transgender, recr...  \n",
       "2  [Senior, U.S., Republican, senator, :, 'Let, M...  \n",
       "3  [FBI, Russia, probe, helped, by, Australian, d...  \n",
       "4  [Trump, wants, Postal, Service, to, charge, 'm...  "
      ]
     },
     "execution_count": 17,
     "metadata": {},
     "output_type": "execute_result"
    }
   ],
   "source": [
    "df.head()"
   ]
  },
  {
   "cell_type": "markdown",
   "id": "fb57d809",
   "metadata": {},
   "source": [
    "## 3.2 Tokenized text cleaning\n",
    "\n",
    "- To lowercase\n",
    "- Remove punctuation\n",
    "- Remove stop words\n",
    "- Remove numbers\n",
    "- Remove extra whitespace\n",
    "- Remove URLs\n",
    "- Remove emojis\n",
    "- Remove special characters\n",
    "- Remove HTML tags\n",
    "- Remove non-ASCII characters\n",
    "- Remove non-alphanumeric characters\n",
    "- Remove extra spaces\n",
    "- Remove leading and trailing spaces"
   ]
  },
  {
   "cell_type": "code",
   "execution_count": 18,
   "id": "410ac8c4",
   "metadata": {},
   "outputs": [],
   "source": [
    "from nltk.corpus import stopwords\n",
    "import string\n",
    "import re\n",
    "\n",
    "# Conversion en lowercase + removal ponctuation\n",
    "def to_lowercase_no_punct(tokens):\n",
    "  return [word.lower() for word in tokens if word.isalpha()]\n",
    "\n",
    "# Removal stopwords\n",
    "def remove_stopwords(tokens):\n",
    "  stop_words = set(stopwords.words(\"english\"))\n",
    "  return [word for word in tokens if not word in stop_words]\n",
    "\n",
    "# Removal numbers\n",
    "def remove_numbers(tokens):\n",
    "  return [word for word in tokens if not word.isnumeric()]\n",
    "\n",
    "# Removal special characters\n",
    "def remove_special_characters(tokens):\n",
    "  return [re.sub(r'[^a-zA-Z]', '', word) for word in tokens]\n",
    "\n",
    "# Removal extra spaces\n",
    "def remove_extra_spaces(tokens):\n",
    "  return [word for word in tokens if word != ' ']\n",
    "\n",
    "# Removal accents\n",
    "def remove_accents(tokens):\n",
    "  return [word.encode('ascii', 'ignore').decode('utf-8') for word in tokens]\n",
    "\n",
    "# Removal html tags\n",
    "def remove_html_tags(tokens):\n",
    "  return [re.sub(r'<.*?>', '', word) for word in tokens]\n",
    "\n",
    "# Removal urls\n",
    "def remove_urls(tokens):\n",
    "  return [re.sub(r'http\\S+|www\\S+|https\\S+', '', word, flags=re.MULTILINE) for word in tokens]\n",
    "\n",
    "# Removal emojis\n",
    "def remove_emojis(tokens):\n",
    "  return [word.encode('ascii', 'ignore').decode('utf-8') for word in tokens]\n",
    "\n",
    "# Apply all the functions to the column tokenized_text\n",
    "def clean_text(tokens):\n",
    "  tokens = to_lowercase_no_punct(tokens)\n",
    "  tokens = remove_stopwords(tokens)\n",
    "  tokens = remove_numbers(tokens)\n",
    "  tokens = remove_special_characters(tokens)\n",
    "  tokens = remove_extra_spaces(tokens)\n",
    "  tokens = remove_accents(tokens)\n",
    "  tokens = remove_html_tags(tokens)\n",
    "  tokens = remove_urls(tokens)\n",
    "  tokens = remove_emojis(tokens)\n",
    "  return tokens\n",
    "\n",
    "df[\"cleaned_text\"] = df[\"tokenized_text\"].apply(clean_text)"
   ]
  },
  {
   "cell_type": "code",
   "execution_count": 19,
   "id": "45266cdb",
   "metadata": {},
   "outputs": [
    {
     "data": {
      "application/vnd.microsoft.datawrangler.viewer.v0+json": {
       "columns": [
        {
         "name": "index",
         "rawType": "int64",
         "type": "integer"
        },
        {
         "name": "combined_text",
         "rawType": "object",
         "type": "string"
        },
        {
         "name": "tokenized_text",
         "rawType": "object",
         "type": "unknown"
        },
        {
         "name": "cleaned_text",
         "rawType": "object",
         "type": "unknown"
        }
       ],
       "conversionMethod": "pd.DataFrame",
       "ref": "ebcd15c0-cf1f-4339-9077-cd58a2e3c21d",
       "rows": [
        [
         "0",
         "As U.S. budget fight looms, Republicans flip their fiscal script WASHINGTON (Reuters) - The head of a conservative Republican faction in the U.S. Congress, who voted this month for a huge expansion of the national debt to pay for tax cuts, called himself a “fiscal conservative” on Sunday and urged budget restraint in 2018. In keeping with a sharp pivot under way among Republicans, U.S. Representative Mark Meadows, speaking on CBS’ “Face the Nation,” drew a hard line on federal spending, which lawmakers are bracing to do battle over in January. When they return from the holidays on Wednesday, lawmakers will begin trying to pass a federal budget in a fight likely to be linked to other issues, such as immigration policy, even as the November congressional election campaigns approach in which Republicans will seek to keep control of Congress. President Donald Trump and his Republicans want a big budget increase in military spending, while Democrats also want proportional increases for non-defense “discretionary” spending on programs that support education, scientific research, infrastructure, public health and environmental protection. “The (Trump) administration has already been willing to say: ‘We’re going to increase non-defense discretionary spending ... by about 7 percent,’” Meadows, chairman of the small but influential House Freedom Caucus, said on the program. “Now, Democrats are saying that’s not enough, we need to give the government a pay raise of 10 to 11 percent. For a fiscal conservative, I don’t see where the rationale is. ... Eventually you run out of other people’s money,” he said. Meadows was among Republicans who voted in late December for their party’s debt-financed tax overhaul, which is expected to balloon the federal budget deficit and add about $1.5 trillion over 10 years to the $20 trillion national debt. “It’s interesting to hear Mark talk about fiscal responsibility,” Democratic U.S. Representative Joseph Crowley said on CBS. Crowley said the Republican tax bill would require the  United States to borrow $1.5 trillion, to be paid off by future generations, to finance tax cuts for corporations and the rich. “This is one of the least ... fiscally responsible bills we’ve ever seen passed in the history of the House of Representatives. I think we’re going to be paying for this for many, many years to come,” Crowley said. Republicans insist the tax package, the biggest U.S. tax overhaul in more than 30 years,  will boost the economy and job growth. House Speaker Paul Ryan, who also supported the tax bill, recently went further than Meadows, making clear in a radio interview that welfare or “entitlement reform,” as the party often calls it, would be a top Republican priority in 2018. In Republican parlance, “entitlement” programs mean food stamps, housing assistance, Medicare and Medicaid health insurance for the elderly, poor and disabled, as well as other programs created by Washington to assist the needy. Democrats seized on Ryan’s early December remarks, saying they showed Republicans would try to pay for their tax overhaul by seeking spending cuts for social programs. But the goals of House Republicans may have to take a back seat to the Senate, where the votes of some Democrats will be needed to approve a budget and prevent a government shutdown. Democrats will use their leverage in the Senate, which Republicans narrowly control, to defend both discretionary non-defense programs and social spending, while tackling the issue of the “Dreamers,” people brought illegally to the country as children. Trump in September put a March 2018 expiration date on the Deferred Action for Childhood Arrivals, or DACA, program, which protects the young immigrants from deportation and provides them with work permits. The president has said in recent Twitter messages he wants funding for his proposed Mexican border wall and other immigration law changes in exchange for agreeing to help the Dreamers. Representative Debbie Dingell told CBS she did not favor linking that issue to other policy objectives, such as wall funding. “We need to do DACA clean,” she said.  On Wednesday, Trump aides will meet with congressional leaders to discuss those issues. That will be followed by a weekend of strategy sessions for Trump and Republican leaders on Jan. 6 and 7, the White House said. Trump was also scheduled to meet on Sunday with Florida Republican Governor Rick Scott, who wants more emergency aid. The House has passed an $81 billion aid package after hurricanes in Florida, Texas and Puerto Rico, and wildfires in California. The package far exceeded the $44 billion requested by the Trump administration. The Senate has not yet voted on the aid.  politicsNews",
         "['As', 'U.S.', 'budget', 'fight', 'looms', ',', 'Republicans', 'flip', 'their', 'fiscal', 'script', 'WASHINGTON', '(', 'Reuters', ')', '-', 'The', 'head', 'of', 'a', 'conservative', 'Republican', 'faction', 'in', 'the', 'U.S.', 'Congress', ',', 'who', 'voted', 'this', 'month', 'for', 'a', 'huge', 'expansion', 'of', 'the', 'national', 'debt', 'to', 'pay', 'for', 'tax', 'cuts', ',', 'called', 'himself', 'a', '“', 'fiscal', 'conservative', '”', 'on', 'Sunday', 'and', 'urged', 'budget', 'restraint', 'in', '2018', '.', 'In', 'keeping', 'with', 'a', 'sharp', 'pivot', 'under', 'way', 'among', 'Republicans', ',', 'U.S.', 'Representative', 'Mark', 'Meadows', ',', 'speaking', 'on', 'CBS', '’', '“', 'Face', 'the', 'Nation', ',', '”', 'drew', 'a', 'hard', 'line', 'on', 'federal', 'spending', ',', 'which', 'lawmakers', 'are', 'bracing', 'to', 'do', 'battle', 'over', 'in', 'January', '.', 'When', 'they', 'return', 'from', 'the', 'holidays', 'on', 'Wednesday', ',', 'lawmakers', 'will', 'begin', 'trying', 'to', 'pass', 'a', 'federal', 'budget', 'in', 'a', 'fight', 'likely', 'to', 'be', 'linked', 'to', 'other', 'issues', ',', 'such', 'as', 'immigration', 'policy', ',', 'even', 'as', 'the', 'November', 'congressional', 'election', 'campaigns', 'approach', 'in', 'which', 'Republicans', 'will', 'seek', 'to', 'keep', 'control', 'of', 'Congress', '.', 'President', 'Donald', 'Trump', 'and', 'his', 'Republicans', 'want', 'a', 'big', 'budget', 'increase', 'in', 'military', 'spending', ',', 'while', 'Democrats', 'also', 'want', 'proportional', 'increases', 'for', 'non-defense', '“', 'discretionary', '”', 'spending', 'on', 'programs', 'that', 'support', 'education', ',', 'scientific', 'research', ',', 'infrastructure', ',', 'public', 'health', 'and', 'environmental', 'protection', '.', '“', 'The', '(', 'Trump', ')', 'administration', 'has', 'already', 'been', 'willing', 'to', 'say', ':', '‘', 'We', '’', 're', 'going', 'to', 'increase', 'non-defense', 'discretionary', 'spending', '...', 'by', 'about', '7', 'percent', ',', '’', '”', 'Meadows', ',', 'chairman', 'of', 'the', 'small', 'but', 'influential', 'House', 'Freedom', 'Caucus', ',', 'said', 'on', 'the', 'program', '.', '“', 'Now', ',', 'Democrats', 'are', 'saying', 'that', '’', 's', 'not', 'enough', ',', 'we', 'need', 'to', 'give', 'the', 'government', 'a', 'pay', 'raise', 'of', '10', 'to', '11', 'percent', '.', 'For', 'a', 'fiscal', 'conservative', ',', 'I', 'don', '’', 't', 'see', 'where', 'the', 'rationale', 'is', '.', '...', 'Eventually', 'you', 'run', 'out', 'of', 'other', 'people', '’', 's', 'money', ',', '”', 'he', 'said', '.', 'Meadows', 'was', 'among', 'Republicans', 'who', 'voted', 'in', 'late', 'December', 'for', 'their', 'party', '’', 's', 'debt-financed', 'tax', 'overhaul', ',', 'which', 'is', 'expected', 'to', 'balloon', 'the', 'federal', 'budget', 'deficit', 'and', 'add', 'about', '$', '1.5', 'trillion', 'over', '10', 'years', 'to', 'the', '$', '20', 'trillion', 'national', 'debt', '.', '“', 'It', '’', 's', 'interesting', 'to', 'hear', 'Mark', 'talk', 'about', 'fiscal', 'responsibility', ',', '”', 'Democratic', 'U.S.', 'Representative', 'Joseph', 'Crowley', 'said', 'on', 'CBS', '.', 'Crowley', 'said', 'the', 'Republican', 'tax', 'bill', 'would', 'require', 'the', 'United', 'States', 'to', 'borrow', '$', '1.5', 'trillion', ',', 'to', 'be', 'paid', 'off', 'by', 'future', 'generations', ',', 'to', 'finance', 'tax', 'cuts', 'for', 'corporations', 'and', 'the', 'rich', '.', '“', 'This', 'is', 'one', 'of', 'the', 'least', '...', 'fiscally', 'responsible', 'bills', 'we', '’', 've', 'ever', 'seen', 'passed', 'in', 'the', 'history', 'of', 'the', 'House', 'of', 'Representatives', '.', 'I', 'think', 'we', '’', 're', 'going', 'to', 'be', 'paying', 'for', 'this', 'for', 'many', ',', 'many', 'years', 'to', 'come', ',', '”', 'Crowley', 'said', '.', 'Republicans', 'insist', 'the', 'tax', 'package', ',', 'the', 'biggest', 'U.S.', 'tax', 'overhaul', 'in', 'more', 'than', '30', 'years', ',', 'will', 'boost', 'the', 'economy', 'and', 'job', 'growth', '.', 'House', 'Speaker', 'Paul', 'Ryan', ',', 'who', 'also', 'supported', 'the', 'tax', 'bill', ',', 'recently', 'went', 'further', 'than', 'Meadows', ',', 'making', 'clear', 'in', 'a', 'radio', 'interview', 'that', 'welfare', 'or', '“', 'entitlement', 'reform', ',', '”', 'as', 'the', 'party', 'often', 'calls', 'it', ',', 'would', 'be', 'a', 'top', 'Republican', 'priority', 'in', '2018', '.', 'In', 'Republican', 'parlance', ',', '“', 'entitlement', '”', 'programs', 'mean', 'food', 'stamps', ',', 'housing', 'assistance', ',', 'Medicare', 'and', 'Medicaid', 'health', 'insurance', 'for', 'the', 'elderly', ',', 'poor', 'and', 'disabled', ',', 'as', 'well', 'as', 'other', 'programs', 'created', 'by', 'Washington', 'to', 'assist', 'the', 'needy', '.', 'Democrats', 'seized', 'on', 'Ryan', '’', 's', 'early', 'December', 'remarks', ',', 'saying', 'they', 'showed', 'Republicans', 'would', 'try', 'to', 'pay', 'for', 'their', 'tax', 'overhaul', 'by', 'seeking', 'spending', 'cuts', 'for', 'social', 'programs', '.', 'But', 'the', 'goals', 'of', 'House', 'Republicans', 'may', 'have', 'to', 'take', 'a', 'back', 'seat', 'to', 'the', 'Senate', ',', 'where', 'the', 'votes', 'of', 'some', 'Democrats', 'will', 'be', 'needed', 'to', 'approve', 'a', 'budget', 'and', 'prevent', 'a', 'government', 'shutdown', '.', 'Democrats', 'will', 'use', 'their', 'leverage', 'in', 'the', 'Senate', ',', 'which', 'Republicans', 'narrowly', 'control', ',', 'to', 'defend', 'both', 'discretionary', 'non-defense', 'programs', 'and', 'social', 'spending', ',', 'while', 'tackling', 'the', 'issue', 'of', 'the', '“', 'Dreamers', ',', '”', 'people', 'brought', 'illegally', 'to', 'the', 'country', 'as', 'children', '.', 'Trump', 'in', 'September', 'put', 'a', 'March', '2018', 'expiration', 'date', 'on', 'the', 'Deferred', 'Action', 'for', 'Childhood', 'Arrivals', ',', 'or', 'DACA', ',', 'program', ',', 'which', 'protects', 'the', 'young', 'immigrants', 'from', 'deportation', 'and', 'provides', 'them', 'with', 'work', 'permits', '.', 'The', 'president', 'has', 'said', 'in', 'recent', 'Twitter', 'messages', 'he', 'wants', 'funding', 'for', 'his', 'proposed', 'Mexican', 'border', 'wall', 'and', 'other', 'immigration', 'law', 'changes', 'in', 'exchange', 'for', 'agreeing', 'to', 'help', 'the', 'Dreamers', '.', 'Representative', 'Debbie', 'Dingell', 'told', 'CBS', 'she', 'did', 'not', 'favor', 'linking', 'that', 'issue', 'to', 'other', 'policy', 'objectives', ',', 'such', 'as', 'wall', 'funding', '.', '“', 'We', 'need', 'to', 'do', 'DACA', 'clean', ',', '”', 'she', 'said', '.', 'On', 'Wednesday', ',', 'Trump', 'aides', 'will', 'meet', 'with', 'congressional', 'leaders', 'to', 'discuss', 'those', 'issues', '.', 'That', 'will', 'be', 'followed', 'by', 'a', 'weekend', 'of', 'strategy', 'sessions', 'for', 'Trump', 'and', 'Republican', 'leaders', 'on', 'Jan.', '6', 'and', '7', ',', 'the', 'White', 'House', 'said', '.', 'Trump', 'was', 'also', 'scheduled', 'to', 'meet', 'on', 'Sunday', 'with', 'Florida', 'Republican', 'Governor', 'Rick', 'Scott', ',', 'who', 'wants', 'more', 'emergency', 'aid', '.', 'The', 'House', 'has', 'passed', 'an', '$', '81', 'billion', 'aid', 'package', 'after', 'hurricanes', 'in', 'Florida', ',', 'Texas', 'and', 'Puerto', 'Rico', ',', 'and', 'wildfires', 'in', 'California', '.', 'The', 'package', 'far', 'exceeded', 'the', '$', '44', 'billion', 'requested', 'by', 'the', 'Trump', 'administration', '.', 'The', 'Senate', 'has', 'not', 'yet', 'voted', 'on', 'the', 'aid', '.', 'politicsNews']",
         "['budget', 'fight', 'looms', 'republicans', 'flip', 'fiscal', 'script', 'washington', 'reuters', 'head', 'conservative', 'republican', 'faction', 'congress', 'voted', 'month', 'huge', 'expansion', 'national', 'debt', 'pay', 'tax', 'cuts', 'called', 'fiscal', 'conservative', 'sunday', 'urged', 'budget', 'restraint', 'keeping', 'sharp', 'pivot', 'way', 'among', 'republicans', 'representative', 'mark', 'meadows', 'speaking', 'cbs', 'face', 'nation', 'drew', 'hard', 'line', 'federal', 'spending', 'lawmakers', 'bracing', 'battle', 'january', 'return', 'holidays', 'wednesday', 'lawmakers', 'begin', 'trying', 'pass', 'federal', 'budget', 'fight', 'likely', 'linked', 'issues', 'immigration', 'policy', 'even', 'november', 'congressional', 'election', 'campaigns', 'approach', 'republicans', 'seek', 'keep', 'control', 'congress', 'president', 'donald', 'trump', 'republicans', 'want', 'big', 'budget', 'increase', 'military', 'spending', 'democrats', 'also', 'want', 'proportional', 'increases', 'discretionary', 'spending', 'programs', 'support', 'education', 'scientific', 'research', 'infrastructure', 'public', 'health', 'environmental', 'protection', 'trump', 'administration', 'already', 'willing', 'say', 'going', 'increase', 'discretionary', 'spending', 'percent', 'meadows', 'chairman', 'small', 'influential', 'house', 'freedom', 'caucus', 'said', 'program', 'democrats', 'saying', 'enough', 'need', 'give', 'government', 'pay', 'raise', 'percent', 'fiscal', 'conservative', 'see', 'rationale', 'eventually', 'run', 'people', 'money', 'said', 'meadows', 'among', 'republicans', 'voted', 'late', 'december', 'party', 'tax', 'overhaul', 'expected', 'balloon', 'federal', 'budget', 'deficit', 'add', 'trillion', 'years', 'trillion', 'national', 'debt', 'interesting', 'hear', 'mark', 'talk', 'fiscal', 'responsibility', 'democratic', 'representative', 'joseph', 'crowley', 'said', 'cbs', 'crowley', 'said', 'republican', 'tax', 'bill', 'would', 'require', 'united', 'states', 'borrow', 'trillion', 'paid', 'future', 'generations', 'finance', 'tax', 'cuts', 'corporations', 'rich', 'one', 'least', 'fiscally', 'responsible', 'bills', 'ever', 'seen', 'passed', 'history', 'house', 'representatives', 'think', 'going', 'paying', 'many', 'many', 'years', 'come', 'crowley', 'said', 'republicans', 'insist', 'tax', 'package', 'biggest', 'tax', 'overhaul', 'years', 'boost', 'economy', 'job', 'growth', 'house', 'speaker', 'paul', 'ryan', 'also', 'supported', 'tax', 'bill', 'recently', 'went', 'meadows', 'making', 'clear', 'radio', 'interview', 'welfare', 'entitlement', 'reform', 'party', 'often', 'calls', 'would', 'top', 'republican', 'priority', 'republican', 'parlance', 'entitlement', 'programs', 'mean', 'food', 'stamps', 'housing', 'assistance', 'medicare', 'medicaid', 'health', 'insurance', 'elderly', 'poor', 'disabled', 'well', 'programs', 'created', 'washington', 'assist', 'needy', 'democrats', 'seized', 'ryan', 'early', 'december', 'remarks', 'saying', 'showed', 'republicans', 'would', 'try', 'pay', 'tax', 'overhaul', 'seeking', 'spending', 'cuts', 'social', 'programs', 'goals', 'house', 'republicans', 'may', 'take', 'back', 'seat', 'senate', 'votes', 'democrats', 'needed', 'approve', 'budget', 'prevent', 'government', 'shutdown', 'democrats', 'use', 'leverage', 'senate', 'republicans', 'narrowly', 'control', 'defend', 'discretionary', 'programs', 'social', 'spending', 'tackling', 'issue', 'dreamers', 'people', 'brought', 'illegally', 'country', 'children', 'trump', 'september', 'put', 'march', 'expiration', 'date', 'deferred', 'action', 'childhood', 'arrivals', 'daca', 'program', 'protects', 'young', 'immigrants', 'deportation', 'provides', 'work', 'permits', 'president', 'said', 'recent', 'twitter', 'messages', 'wants', 'funding', 'proposed', 'mexican', 'border', 'wall', 'immigration', 'law', 'changes', 'exchange', 'agreeing', 'help', 'dreamers', 'representative', 'debbie', 'dingell', 'told', 'cbs', 'favor', 'linking', 'issue', 'policy', 'objectives', 'wall', 'funding', 'need', 'daca', 'clean', 'said', 'wednesday', 'trump', 'aides', 'meet', 'congressional', 'leaders', 'discuss', 'issues', 'followed', 'weekend', 'strategy', 'sessions', 'trump', 'republican', 'leaders', 'white', 'house', 'said', 'trump', 'also', 'scheduled', 'meet', 'sunday', 'florida', 'republican', 'governor', 'rick', 'scott', 'wants', 'emergency', 'aid', 'house', 'passed', 'billion', 'aid', 'package', 'hurricanes', 'florida', 'texas', 'puerto', 'rico', 'wildfires', 'california', 'package', 'far', 'exceeded', 'billion', 'requested', 'trump', 'administration', 'senate', 'yet', 'voted', 'aid', 'politicsnews']"
        ],
        [
         "1",
         "U.S. military to accept transgender recruits on Monday: Pentagon WASHINGTON (Reuters) - Transgender people will be allowed for the first time to enlist in the U.S. military starting on Monday as ordered by federal courts, the Pentagon said on Friday, after President Donald Trump’s administration decided not to appeal rulings that blocked his transgender ban. Two federal appeals courts, one in Washington and one in Virginia, last week rejected the administration’s request to put on hold orders by lower court judges requiring the military to begin accepting transgender recruits on Jan. 1. A Justice Department official said the administration will not challenge those rulings. “The Department of Defense has announced that it will be releasing an independent study of these issues in the coming weeks. So rather than litigate this interim appeal before that occurs, the administration has decided to wait for DOD’s study and will continue to defend the president’s lawful authority in District Court in the meantime,” the official said, speaking on condition of anonymity. In September, the Pentagon said it had created a panel of senior officials to study how to implement a directive by Trump to prohibit transgender individuals from serving. The Defense Department has until Feb. 21 to submit a plan to Trump. Lawyers representing currently-serving transgender service members and aspiring recruits said they had expected the administration to appeal the rulings to the conservative-majority Supreme Court, but were hoping that would not happen. Pentagon spokeswoman Heather Babb said in a statement: “As mandated by court order, the Department of Defense is prepared to begin accessing transgender applicants for military service Jan. 1. All applicants must meet all accession standards.” Jennifer Levi, a lawyer with gay, lesbian and transgender advocacy group GLAD, called the decision not to appeal “great news.” “I’m hoping it means the government has come to see that there is no way to justify a ban and that it’s not good for the military or our country,” Levi said. Both GLAD and the American Civil Liberties Union represent plaintiffs in the lawsuits filed against the administration. In a move that appealed to his hard-line conservative supporters, Trump announced in July that he would prohibit transgender people from serving in the military, reversing Democratic President Barack Obama’s policy of accepting them. Trump said on Twitter at the time that the military “cannot be burdened with the tremendous medical costs and disruption that transgender in the military would entail.” Four federal judges - in Baltimore, Washington, D.C., Seattle and Riverside, California - have issued rulings blocking Trump’s ban while legal challenges to the Republican president’s policy proceed. The judges said the ban would likely violate the right under the U.S. Constitution to equal protection under the law. The Pentagon on Dec. 8 issued guidelines to recruitment personnel in order to enlist transgender applicants by Jan. 1. The memo outlined medical requirements and specified how the applicants’ sex would be identified and even which undergarments they would wear. The Trump administration previously said in legal papers that the armed forces were not prepared to train thousands of personnel on the medical standards needed to process transgender applicants and might have to accept “some individuals who are not medically fit for service.” The Obama administration had set a deadline of July 1, 2017, to begin accepting transgender recruits. But Trump’s defense secretary, James Mattis, postponed that date to Jan. 1, 2018, which the president’s ban then put off indefinitely. Trump has taken other steps aimed at rolling back transgender rights. In October, his administration said a federal law banning gender-based workplace discrimination does not protect transgender employees, reversing another Obama-era position. In February, Trump rescinded guidance issued by the Obama administration saying that public schools should allow transgender students to use the restroom that corresponds to their gender identity.  politicsNews",
         "['U.S.', 'military', 'to', 'accept', 'transgender', 'recruits', 'on', 'Monday', ':', 'Pentagon', 'WASHINGTON', '(', 'Reuters', ')', '-', 'Transgender', 'people', 'will', 'be', 'allowed', 'for', 'the', 'first', 'time', 'to', 'enlist', 'in', 'the', 'U.S.', 'military', 'starting', 'on', 'Monday', 'as', 'ordered', 'by', 'federal', 'courts', ',', 'the', 'Pentagon', 'said', 'on', 'Friday', ',', 'after', 'President', 'Donald', 'Trump', '’', 's', 'administration', 'decided', 'not', 'to', 'appeal', 'rulings', 'that', 'blocked', 'his', 'transgender', 'ban', '.', 'Two', 'federal', 'appeals', 'courts', ',', 'one', 'in', 'Washington', 'and', 'one', 'in', 'Virginia', ',', 'last', 'week', 'rejected', 'the', 'administration', '’', 's', 'request', 'to', 'put', 'on', 'hold', 'orders', 'by', 'lower', 'court', 'judges', 'requiring', 'the', 'military', 'to', 'begin', 'accepting', 'transgender', 'recruits', 'on', 'Jan.', '1', '.', 'A', 'Justice', 'Department', 'official', 'said', 'the', 'administration', 'will', 'not', 'challenge', 'those', 'rulings', '.', '“', 'The', 'Department', 'of', 'Defense', 'has', 'announced', 'that', 'it', 'will', 'be', 'releasing', 'an', 'independent', 'study', 'of', 'these', 'issues', 'in', 'the', 'coming', 'weeks', '.', 'So', 'rather', 'than', 'litigate', 'this', 'interim', 'appeal', 'before', 'that', 'occurs', ',', 'the', 'administration', 'has', 'decided', 'to', 'wait', 'for', 'DOD', '’', 's', 'study', 'and', 'will', 'continue', 'to', 'defend', 'the', 'president', '’', 's', 'lawful', 'authority', 'in', 'District', 'Court', 'in', 'the', 'meantime', ',', '”', 'the', 'official', 'said', ',', 'speaking', 'on', 'condition', 'of', 'anonymity', '.', 'In', 'September', ',', 'the', 'Pentagon', 'said', 'it', 'had', 'created', 'a', 'panel', 'of', 'senior', 'officials', 'to', 'study', 'how', 'to', 'implement', 'a', 'directive', 'by', 'Trump', 'to', 'prohibit', 'transgender', 'individuals', 'from', 'serving', '.', 'The', 'Defense', 'Department', 'has', 'until', 'Feb.', '21', 'to', 'submit', 'a', 'plan', 'to', 'Trump', '.', 'Lawyers', 'representing', 'currently-serving', 'transgender', 'service', 'members', 'and', 'aspiring', 'recruits', 'said', 'they', 'had', 'expected', 'the', 'administration', 'to', 'appeal', 'the', 'rulings', 'to', 'the', 'conservative-majority', 'Supreme', 'Court', ',', 'but', 'were', 'hoping', 'that', 'would', 'not', 'happen', '.', 'Pentagon', 'spokeswoman', 'Heather', 'Babb', 'said', 'in', 'a', 'statement', ':', '“', 'As', 'mandated', 'by', 'court', 'order', ',', 'the', 'Department', 'of', 'Defense', 'is', 'prepared', 'to', 'begin', 'accessing', 'transgender', 'applicants', 'for', 'military', 'service', 'Jan.', '1', '.', 'All', 'applicants', 'must', 'meet', 'all', 'accession', 'standards.', '”', 'Jennifer', 'Levi', ',', 'a', 'lawyer', 'with', 'gay', ',', 'lesbian', 'and', 'transgender', 'advocacy', 'group', 'GLAD', ',', 'called', 'the', 'decision', 'not', 'to', 'appeal', '“', 'great', 'news.', '”', '“', 'I', '’', 'm', 'hoping', 'it', 'means', 'the', 'government', 'has', 'come', 'to', 'see', 'that', 'there', 'is', 'no', 'way', 'to', 'justify', 'a', 'ban', 'and', 'that', 'it', '’', 's', 'not', 'good', 'for', 'the', 'military', 'or', 'our', 'country', ',', '”', 'Levi', 'said', '.', 'Both', 'GLAD', 'and', 'the', 'American', 'Civil', 'Liberties', 'Union', 'represent', 'plaintiffs', 'in', 'the', 'lawsuits', 'filed', 'against', 'the', 'administration', '.', 'In', 'a', 'move', 'that', 'appealed', 'to', 'his', 'hard-line', 'conservative', 'supporters', ',', 'Trump', 'announced', 'in', 'July', 'that', 'he', 'would', 'prohibit', 'transgender', 'people', 'from', 'serving', 'in', 'the', 'military', ',', 'reversing', 'Democratic', 'President', 'Barack', 'Obama', '’', 's', 'policy', 'of', 'accepting', 'them', '.', 'Trump', 'said', 'on', 'Twitter', 'at', 'the', 'time', 'that', 'the', 'military', '“', 'can', 'not', 'be', 'burdened', 'with', 'the', 'tremendous', 'medical', 'costs', 'and', 'disruption', 'that', 'transgender', 'in', 'the', 'military', 'would', 'entail.', '”', 'Four', 'federal', 'judges', '-', 'in', 'Baltimore', ',', 'Washington', ',', 'D.C.', ',', 'Seattle', 'and', 'Riverside', ',', 'California', '-', 'have', 'issued', 'rulings', 'blocking', 'Trump', '’', 's', 'ban', 'while', 'legal', 'challenges', 'to', 'the', 'Republican', 'president', '’', 's', 'policy', 'proceed', '.', 'The', 'judges', 'said', 'the', 'ban', 'would', 'likely', 'violate', 'the', 'right', 'under', 'the', 'U.S.', 'Constitution', 'to', 'equal', 'protection', 'under', 'the', 'law', '.', 'The', 'Pentagon', 'on', 'Dec.', '8', 'issued', 'guidelines', 'to', 'recruitment', 'personnel', 'in', 'order', 'to', 'enlist', 'transgender', 'applicants', 'by', 'Jan.', '1', '.', 'The', 'memo', 'outlined', 'medical', 'requirements', 'and', 'specified', 'how', 'the', 'applicants', '’', 'sex', 'would', 'be', 'identified', 'and', 'even', 'which', 'undergarments', 'they', 'would', 'wear', '.', 'The', 'Trump', 'administration', 'previously', 'said', 'in', 'legal', 'papers', 'that', 'the', 'armed', 'forces', 'were', 'not', 'prepared', 'to', 'train', 'thousands', 'of', 'personnel', 'on', 'the', 'medical', 'standards', 'needed', 'to', 'process', 'transgender', 'applicants', 'and', 'might', 'have', 'to', 'accept', '“', 'some', 'individuals', 'who', 'are', 'not', 'medically', 'fit', 'for', 'service.', '”', 'The', 'Obama', 'administration', 'had', 'set', 'a', 'deadline', 'of', 'July', '1', ',', '2017', ',', 'to', 'begin', 'accepting', 'transgender', 'recruits', '.', 'But', 'Trump', '’', 's', 'defense', 'secretary', ',', 'James', 'Mattis', ',', 'postponed', 'that', 'date', 'to', 'Jan.', '1', ',', '2018', ',', 'which', 'the', 'president', '’', 's', 'ban', 'then', 'put', 'off', 'indefinitely', '.', 'Trump', 'has', 'taken', 'other', 'steps', 'aimed', 'at', 'rolling', 'back', 'transgender', 'rights', '.', 'In', 'October', ',', 'his', 'administration', 'said', 'a', 'federal', 'law', 'banning', 'gender-based', 'workplace', 'discrimination', 'does', 'not', 'protect', 'transgender', 'employees', ',', 'reversing', 'another', 'Obama-era', 'position', '.', 'In', 'February', ',', 'Trump', 'rescinded', 'guidance', 'issued', 'by', 'the', 'Obama', 'administration', 'saying', 'that', 'public', 'schools', 'should', 'allow', 'transgender', 'students', 'to', 'use', 'the', 'restroom', 'that', 'corresponds', 'to', 'their', 'gender', 'identity', '.', 'politicsNews']",
         "['military', 'accept', 'transgender', 'recruits', 'monday', 'pentagon', 'washington', 'reuters', 'transgender', 'people', 'allowed', 'first', 'time', 'enlist', 'military', 'starting', 'monday', 'ordered', 'federal', 'courts', 'pentagon', 'said', 'friday', 'president', 'donald', 'trump', 'administration', 'decided', 'appeal', 'rulings', 'blocked', 'transgender', 'ban', 'two', 'federal', 'appeals', 'courts', 'one', 'washington', 'one', 'virginia', 'last', 'week', 'rejected', 'administration', 'request', 'put', 'hold', 'orders', 'lower', 'court', 'judges', 'requiring', 'military', 'begin', 'accepting', 'transgender', 'recruits', 'justice', 'department', 'official', 'said', 'administration', 'challenge', 'rulings', 'department', 'defense', 'announced', 'releasing', 'independent', 'study', 'issues', 'coming', 'weeks', 'rather', 'litigate', 'interim', 'appeal', 'occurs', 'administration', 'decided', 'wait', 'dod', 'study', 'continue', 'defend', 'president', 'lawful', 'authority', 'district', 'court', 'meantime', 'official', 'said', 'speaking', 'condition', 'anonymity', 'september', 'pentagon', 'said', 'created', 'panel', 'senior', 'officials', 'study', 'implement', 'directive', 'trump', 'prohibit', 'transgender', 'individuals', 'serving', 'defense', 'department', 'submit', 'plan', 'trump', 'lawyers', 'representing', 'transgender', 'service', 'members', 'aspiring', 'recruits', 'said', 'expected', 'administration', 'appeal', 'rulings', 'supreme', 'court', 'hoping', 'would', 'happen', 'pentagon', 'spokeswoman', 'heather', 'babb', 'said', 'statement', 'mandated', 'court', 'order', 'department', 'defense', 'prepared', 'begin', 'accessing', 'transgender', 'applicants', 'military', 'service', 'applicants', 'must', 'meet', 'accession', 'jennifer', 'levi', 'lawyer', 'gay', 'lesbian', 'transgender', 'advocacy', 'group', 'glad', 'called', 'decision', 'appeal', 'great', 'hoping', 'means', 'government', 'come', 'see', 'way', 'justify', 'ban', 'good', 'military', 'country', 'levi', 'said', 'glad', 'american', 'civil', 'liberties', 'union', 'represent', 'plaintiffs', 'lawsuits', 'filed', 'administration', 'move', 'appealed', 'conservative', 'supporters', 'trump', 'announced', 'july', 'would', 'prohibit', 'transgender', 'people', 'serving', 'military', 'reversing', 'democratic', 'president', 'barack', 'obama', 'policy', 'accepting', 'trump', 'said', 'twitter', 'time', 'military', 'burdened', 'tremendous', 'medical', 'costs', 'disruption', 'transgender', 'military', 'would', 'four', 'federal', 'judges', 'baltimore', 'washington', 'seattle', 'riverside', 'california', 'issued', 'rulings', 'blocking', 'trump', 'ban', 'legal', 'challenges', 'republican', 'president', 'policy', 'proceed', 'judges', 'said', 'ban', 'would', 'likely', 'violate', 'right', 'constitution', 'equal', 'protection', 'law', 'pentagon', 'issued', 'guidelines', 'recruitment', 'personnel', 'order', 'enlist', 'transgender', 'applicants', 'memo', 'outlined', 'medical', 'requirements', 'specified', 'applicants', 'sex', 'would', 'identified', 'even', 'undergarments', 'would', 'wear', 'trump', 'administration', 'previously', 'said', 'legal', 'papers', 'armed', 'forces', 'prepared', 'train', 'thousands', 'personnel', 'medical', 'standards', 'needed', 'process', 'transgender', 'applicants', 'might', 'accept', 'individuals', 'medically', 'fit', 'obama', 'administration', 'set', 'deadline', 'july', 'begin', 'accepting', 'transgender', 'recruits', 'trump', 'defense', 'secretary', 'james', 'mattis', 'postponed', 'date', 'president', 'ban', 'put', 'indefinitely', 'trump', 'taken', 'steps', 'aimed', 'rolling', 'back', 'transgender', 'rights', 'october', 'administration', 'said', 'federal', 'law', 'banning', 'workplace', 'discrimination', 'protect', 'transgender', 'employees', 'reversing', 'another', 'position', 'february', 'trump', 'rescinded', 'guidance', 'issued', 'obama', 'administration', 'saying', 'public', 'schools', 'allow', 'transgender', 'students', 'use', 'restroom', 'corresponds', 'gender', 'identity', 'politicsnews']"
        ],
        [
         "2",
         "Senior U.S. Republican senator: 'Let Mr. Mueller do his job' WASHINGTON (Reuters) - The special counsel investigation of links between Russia and President Trump’s 2016 election campaign should continue without interference in 2018, despite calls from some Trump administration allies and Republican lawmakers to shut it down, a prominent Republican senator said on Sunday. Lindsey Graham, who serves on the Senate armed forces and judiciary committees, said Department of Justice Special Counsel Robert Mueller needs to carry on with his Russia investigation without political interference. “This investigation will go forward. It will be an investigation conducted without political influence,” Graham said on CBS’s Face the Nation news program. “And we all need to let Mr. Mueller do his job. I think he’s the right guy at the right time.”  The question of how Russia may have interfered in the election, and how Trump’s campaign may have had links with or co-ordinated any such effort, has loomed over the White House since Trump took office in January. It shows no sign of receding as Trump prepares for his second year in power, despite intensified rhetoric from some Trump allies in recent weeks accusing Mueller’s team of bias against the Republican president. Trump himself seemed to undercut his supporters in an interview last week with the New York Times in which he said he expected Mueller was “going to be fair.”    Russia’s role in the election and the question of possible links to the Trump campaign are the focus of multiple inquiries in Washington. Three committees of the Senate and the House of Representatives are investigating, as well as Mueller, whose team in May took over an earlier probe launched by the U.S. Federal Bureau of Investigation (FBI). Several members of the Trump campaign and administration have been convicted or indicted in the investigation.  Trump and his allies deny any collusion with Russia during the campaign, and the Kremlin has denied meddling in the election. Graham said he still wants an examination of the FBI’s use of a dossier on links between Trump and Russia that was compiled by a former British spy, Christopher Steele, which prompted Trump allies and some Republicans to question Mueller’s inquiry.   On Saturday, the New York Times reported that it was not that dossier that triggered an early FBI probe, but a tip from former Trump campaign foreign policy adviser George Papadopoulos to an Australian diplomat that Russia had damaging information about former Trump rival Hillary Clinton.  “I want somebody to look at the way the Department of Justice used this dossier. It bothers me greatly the way they used it, and I want somebody to look at it,” Graham said. But he said the Russia investigation must continue. “As a matter of fact, it would hurt us if we ignored it,” he said.  politicsNews",
         "['Senior', 'U.S.', 'Republican', 'senator', ':', \"'Let\", 'Mr.', 'Mueller', 'do', 'his', 'job', \"'\", 'WASHINGTON', '(', 'Reuters', ')', '-', 'The', 'special', 'counsel', 'investigation', 'of', 'links', 'between', 'Russia', 'and', 'President', 'Trump', '’', 's', '2016', 'election', 'campaign', 'should', 'continue', 'without', 'interference', 'in', '2018', ',', 'despite', 'calls', 'from', 'some', 'Trump', 'administration', 'allies', 'and', 'Republican', 'lawmakers', 'to', 'shut', 'it', 'down', ',', 'a', 'prominent', 'Republican', 'senator', 'said', 'on', 'Sunday', '.', 'Lindsey', 'Graham', ',', 'who', 'serves', 'on', 'the', 'Senate', 'armed', 'forces', 'and', 'judiciary', 'committees', ',', 'said', 'Department', 'of', 'Justice', 'Special', 'Counsel', 'Robert', 'Mueller', 'needs', 'to', 'carry', 'on', 'with', 'his', 'Russia', 'investigation', 'without', 'political', 'interference', '.', '“', 'This', 'investigation', 'will', 'go', 'forward', '.', 'It', 'will', 'be', 'an', 'investigation', 'conducted', 'without', 'political', 'influence', ',', '”', 'Graham', 'said', 'on', 'CBS', '’', 's', 'Face', 'the', 'Nation', 'news', 'program', '.', '“', 'And', 'we', 'all', 'need', 'to', 'let', 'Mr.', 'Mueller', 'do', 'his', 'job', '.', 'I', 'think', 'he', '’', 's', 'the', 'right', 'guy', 'at', 'the', 'right', 'time.', '”', 'The', 'question', 'of', 'how', 'Russia', 'may', 'have', 'interfered', 'in', 'the', 'election', ',', 'and', 'how', 'Trump', '’', 's', 'campaign', 'may', 'have', 'had', 'links', 'with', 'or', 'co-ordinated', 'any', 'such', 'effort', ',', 'has', 'loomed', 'over', 'the', 'White', 'House', 'since', 'Trump', 'took', 'office', 'in', 'January', '.', 'It', 'shows', 'no', 'sign', 'of', 'receding', 'as', 'Trump', 'prepares', 'for', 'his', 'second', 'year', 'in', 'power', ',', 'despite', 'intensified', 'rhetoric', 'from', 'some', 'Trump', 'allies', 'in', 'recent', 'weeks', 'accusing', 'Mueller', '’', 's', 'team', 'of', 'bias', 'against', 'the', 'Republican', 'president', '.', 'Trump', 'himself', 'seemed', 'to', 'undercut', 'his', 'supporters', 'in', 'an', 'interview', 'last', 'week', 'with', 'the', 'New', 'York', 'Times', 'in', 'which', 'he', 'said', 'he', 'expected', 'Mueller', 'was', '“', 'going', 'to', 'be', 'fair.', '”', 'Russia', '’', 's', 'role', 'in', 'the', 'election', 'and', 'the', 'question', 'of', 'possible', 'links', 'to', 'the', 'Trump', 'campaign', 'are', 'the', 'focus', 'of', 'multiple', 'inquiries', 'in', 'Washington', '.', 'Three', 'committees', 'of', 'the', 'Senate', 'and', 'the', 'House', 'of', 'Representatives', 'are', 'investigating', ',', 'as', 'well', 'as', 'Mueller', ',', 'whose', 'team', 'in', 'May', 'took', 'over', 'an', 'earlier', 'probe', 'launched', 'by', 'the', 'U.S.', 'Federal', 'Bureau', 'of', 'Investigation', '(', 'FBI', ')', '.', 'Several', 'members', 'of', 'the', 'Trump', 'campaign', 'and', 'administration', 'have', 'been', 'convicted', 'or', 'indicted', 'in', 'the', 'investigation', '.', 'Trump', 'and', 'his', 'allies', 'deny', 'any', 'collusion', 'with', 'Russia', 'during', 'the', 'campaign', ',', 'and', 'the', 'Kremlin', 'has', 'denied', 'meddling', 'in', 'the', 'election', '.', 'Graham', 'said', 'he', 'still', 'wants', 'an', 'examination', 'of', 'the', 'FBI', '’', 's', 'use', 'of', 'a', 'dossier', 'on', 'links', 'between', 'Trump', 'and', 'Russia', 'that', 'was', 'compiled', 'by', 'a', 'former', 'British', 'spy', ',', 'Christopher', 'Steele', ',', 'which', 'prompted', 'Trump', 'allies', 'and', 'some', 'Republicans', 'to', 'question', 'Mueller', '’', 's', 'inquiry', '.', 'On', 'Saturday', ',', 'the', 'New', 'York', 'Times', 'reported', 'that', 'it', 'was', 'not', 'that', 'dossier', 'that', 'triggered', 'an', 'early', 'FBI', 'probe', ',', 'but', 'a', 'tip', 'from', 'former', 'Trump', 'campaign', 'foreign', 'policy', 'adviser', 'George', 'Papadopoulos', 'to', 'an', 'Australian', 'diplomat', 'that', 'Russia', 'had', 'damaging', 'information', 'about', 'former', 'Trump', 'rival', 'Hillary', 'Clinton', '.', '“', 'I', 'want', 'somebody', 'to', 'look', 'at', 'the', 'way', 'the', 'Department', 'of', 'Justice', 'used', 'this', 'dossier', '.', 'It', 'bothers', 'me', 'greatly', 'the', 'way', 'they', 'used', 'it', ',', 'and', 'I', 'want', 'somebody', 'to', 'look', 'at', 'it', ',', '”', 'Graham', 'said', '.', 'But', 'he', 'said', 'the', 'Russia', 'investigation', 'must', 'continue', '.', '“', 'As', 'a', 'matter', 'of', 'fact', ',', 'it', 'would', 'hurt', 'us', 'if', 'we', 'ignored', 'it', ',', '”', 'he', 'said', '.', 'politicsNews']",
         "['senior', 'republican', 'senator', 'mueller', 'job', 'washington', 'reuters', 'special', 'counsel', 'investigation', 'links', 'russia', 'president', 'trump', 'election', 'campaign', 'continue', 'without', 'interference', 'despite', 'calls', 'trump', 'administration', 'allies', 'republican', 'lawmakers', 'shut', 'prominent', 'republican', 'senator', 'said', 'sunday', 'lindsey', 'graham', 'serves', 'senate', 'armed', 'forces', 'judiciary', 'committees', 'said', 'department', 'justice', 'special', 'counsel', 'robert', 'mueller', 'needs', 'carry', 'russia', 'investigation', 'without', 'political', 'interference', 'investigation', 'go', 'forward', 'investigation', 'conducted', 'without', 'political', 'influence', 'graham', 'said', 'cbs', 'face', 'nation', 'news', 'program', 'need', 'let', 'mueller', 'job', 'think', 'right', 'guy', 'right', 'question', 'russia', 'may', 'interfered', 'election', 'trump', 'campaign', 'may', 'links', 'effort', 'loomed', 'white', 'house', 'since', 'trump', 'took', 'office', 'january', 'shows', 'sign', 'receding', 'trump', 'prepares', 'second', 'year', 'power', 'despite', 'intensified', 'rhetoric', 'trump', 'allies', 'recent', 'weeks', 'accusing', 'mueller', 'team', 'bias', 'republican', 'president', 'trump', 'seemed', 'undercut', 'supporters', 'interview', 'last', 'week', 'new', 'york', 'times', 'said', 'expected', 'mueller', 'going', 'russia', 'role', 'election', 'question', 'possible', 'links', 'trump', 'campaign', 'focus', 'multiple', 'inquiries', 'washington', 'three', 'committees', 'senate', 'house', 'representatives', 'investigating', 'well', 'mueller', 'whose', 'team', 'may', 'took', 'earlier', 'probe', 'launched', 'federal', 'bureau', 'investigation', 'fbi', 'several', 'members', 'trump', 'campaign', 'administration', 'convicted', 'indicted', 'investigation', 'trump', 'allies', 'deny', 'collusion', 'russia', 'campaign', 'kremlin', 'denied', 'meddling', 'election', 'graham', 'said', 'still', 'wants', 'examination', 'fbi', 'use', 'dossier', 'links', 'trump', 'russia', 'compiled', 'former', 'british', 'spy', 'christopher', 'steele', 'prompted', 'trump', 'allies', 'republicans', 'question', 'mueller', 'inquiry', 'saturday', 'new', 'york', 'times', 'reported', 'dossier', 'triggered', 'early', 'fbi', 'probe', 'tip', 'former', 'trump', 'campaign', 'foreign', 'policy', 'adviser', 'george', 'papadopoulos', 'australian', 'diplomat', 'russia', 'damaging', 'information', 'former', 'trump', 'rival', 'hillary', 'clinton', 'want', 'somebody', 'look', 'way', 'department', 'justice', 'used', 'dossier', 'bothers', 'greatly', 'way', 'used', 'want', 'somebody', 'look', 'graham', 'said', 'said', 'russia', 'investigation', 'must', 'continue', 'matter', 'fact', 'would', 'hurt', 'us', 'ignored', 'said', 'politicsnews']"
        ],
        [
         "3",
         "FBI Russia probe helped by Australian diplomat tip-off: NYT WASHINGTON (Reuters) - Trump campaign adviser George Papadopoulos told an Australian diplomat in May 2016 that Russia had political dirt on Democratic presidential candidate Hillary Clinton, the New York Times reported on Saturday. The conversation between Papadopoulos and the diplomat, Alexander Downer, in London was a driving factor behind the FBI’s decision to open a counter-intelligence investigation of Moscow’s contacts with the Trump campaign, the Times reported. Two months after the meeting, Australian officials passed the information that came from Papadopoulos to their American counterparts when leaked Democratic emails began appearing online, according to the newspaper, which cited four current and former U.S. and foreign officials. Besides the information from the Australians, the probe by the Federal Bureau of Investigation was also propelled by intelligence from other friendly governments, including the British and Dutch, the Times said. Papadopoulos, a Chicago-based international energy lawyer, pleaded guilty on Oct. 30 to lying to FBI agents about contacts with people who claimed to have ties to top Russian officials. It was the first criminal charge alleging links between the Trump campaign and Russia. The White House has played down the former aide’s campaign role, saying it was “extremely limited” and that any actions he took would have been on his own. The New York Times, however, reported that Papadopoulos helped set up a meeting between then-candidate Donald Trump and Egyptian President Abdel Fattah al-Sisi and edited the outline of Trump’s first major foreign policy speech in April 2016. The federal investigation, which is now being led by Special Counsel Robert Mueller, has hung over Trump’s White House since he took office almost a year ago. Some Trump allies have recently accused Mueller’s team of being biased against the Republican president. Lawyers for Papadopoulos did not immediately respond to requests by Reuters for comment. Mueller’s office declined to comment. Trump’s White House attorney, Ty Cobb, declined to comment on the New York Times report. “Out of respect for the special counsel and his process, we are not commenting on matters such as this,” he said in a statement. Mueller has charged four Trump associates, including Papadopoulos, in his investigation. Russia has denied interfering in the U.S. election and Trump has said there was no collusion between his campaign and Moscow.  politicsNews",
         "['FBI', 'Russia', 'probe', 'helped', 'by', 'Australian', 'diplomat', 'tip-off', ':', 'NYT', 'WASHINGTON', '(', 'Reuters', ')', '-', 'Trump', 'campaign', 'adviser', 'George', 'Papadopoulos', 'told', 'an', 'Australian', 'diplomat', 'in', 'May', '2016', 'that', 'Russia', 'had', 'political', 'dirt', 'on', 'Democratic', 'presidential', 'candidate', 'Hillary', 'Clinton', ',', 'the', 'New', 'York', 'Times', 'reported', 'on', 'Saturday', '.', 'The', 'conversation', 'between', 'Papadopoulos', 'and', 'the', 'diplomat', ',', 'Alexander', 'Downer', ',', 'in', 'London', 'was', 'a', 'driving', 'factor', 'behind', 'the', 'FBI', '’', 's', 'decision', 'to', 'open', 'a', 'counter-intelligence', 'investigation', 'of', 'Moscow', '’', 's', 'contacts', 'with', 'the', 'Trump', 'campaign', ',', 'the', 'Times', 'reported', '.', 'Two', 'months', 'after', 'the', 'meeting', ',', 'Australian', 'officials', 'passed', 'the', 'information', 'that', 'came', 'from', 'Papadopoulos', 'to', 'their', 'American', 'counterparts', 'when', 'leaked', 'Democratic', 'emails', 'began', 'appearing', 'online', ',', 'according', 'to', 'the', 'newspaper', ',', 'which', 'cited', 'four', 'current', 'and', 'former', 'U.S.', 'and', 'foreign', 'officials', '.', 'Besides', 'the', 'information', 'from', 'the', 'Australians', ',', 'the', 'probe', 'by', 'the', 'Federal', 'Bureau', 'of', 'Investigation', 'was', 'also', 'propelled', 'by', 'intelligence', 'from', 'other', 'friendly', 'governments', ',', 'including', 'the', 'British', 'and', 'Dutch', ',', 'the', 'Times', 'said', '.', 'Papadopoulos', ',', 'a', 'Chicago-based', 'international', 'energy', 'lawyer', ',', 'pleaded', 'guilty', 'on', 'Oct.', '30', 'to', 'lying', 'to', 'FBI', 'agents', 'about', 'contacts', 'with', 'people', 'who', 'claimed', 'to', 'have', 'ties', 'to', 'top', 'Russian', 'officials', '.', 'It', 'was', 'the', 'first', 'criminal', 'charge', 'alleging', 'links', 'between', 'the', 'Trump', 'campaign', 'and', 'Russia', '.', 'The', 'White', 'House', 'has', 'played', 'down', 'the', 'former', 'aide', '’', 's', 'campaign', 'role', ',', 'saying', 'it', 'was', '“', 'extremely', 'limited', '”', 'and', 'that', 'any', 'actions', 'he', 'took', 'would', 'have', 'been', 'on', 'his', 'own', '.', 'The', 'New', 'York', 'Times', ',', 'however', ',', 'reported', 'that', 'Papadopoulos', 'helped', 'set', 'up', 'a', 'meeting', 'between', 'then-candidate', 'Donald', 'Trump', 'and', 'Egyptian', 'President', 'Abdel', 'Fattah', 'al-Sisi', 'and', 'edited', 'the', 'outline', 'of', 'Trump', '’', 's', 'first', 'major', 'foreign', 'policy', 'speech', 'in', 'April', '2016', '.', 'The', 'federal', 'investigation', ',', 'which', 'is', 'now', 'being', 'led', 'by', 'Special', 'Counsel', 'Robert', 'Mueller', ',', 'has', 'hung', 'over', 'Trump', '’', 's', 'White', 'House', 'since', 'he', 'took', 'office', 'almost', 'a', 'year', 'ago', '.', 'Some', 'Trump', 'allies', 'have', 'recently', 'accused', 'Mueller', '’', 's', 'team', 'of', 'being', 'biased', 'against', 'the', 'Republican', 'president', '.', 'Lawyers', 'for', 'Papadopoulos', 'did', 'not', 'immediately', 'respond', 'to', 'requests', 'by', 'Reuters', 'for', 'comment', '.', 'Mueller', '’', 's', 'office', 'declined', 'to', 'comment', '.', 'Trump', '’', 's', 'White', 'House', 'attorney', ',', 'Ty', 'Cobb', ',', 'declined', 'to', 'comment', 'on', 'the', 'New', 'York', 'Times', 'report', '.', '“', 'Out', 'of', 'respect', 'for', 'the', 'special', 'counsel', 'and', 'his', 'process', ',', 'we', 'are', 'not', 'commenting', 'on', 'matters', 'such', 'as', 'this', ',', '”', 'he', 'said', 'in', 'a', 'statement', '.', 'Mueller', 'has', 'charged', 'four', 'Trump', 'associates', ',', 'including', 'Papadopoulos', ',', 'in', 'his', 'investigation', '.', 'Russia', 'has', 'denied', 'interfering', 'in', 'the', 'U.S.', 'election', 'and', 'Trump', 'has', 'said', 'there', 'was', 'no', 'collusion', 'between', 'his', 'campaign', 'and', 'Moscow', '.', 'politicsNews']",
         "['fbi', 'russia', 'probe', 'helped', 'australian', 'diplomat', 'nyt', 'washington', 'reuters', 'trump', 'campaign', 'adviser', 'george', 'papadopoulos', 'told', 'australian', 'diplomat', 'may', 'russia', 'political', 'dirt', 'democratic', 'presidential', 'candidate', 'hillary', 'clinton', 'new', 'york', 'times', 'reported', 'saturday', 'conversation', 'papadopoulos', 'diplomat', 'alexander', 'downer', 'london', 'driving', 'factor', 'behind', 'fbi', 'decision', 'open', 'investigation', 'moscow', 'contacts', 'trump', 'campaign', 'times', 'reported', 'two', 'months', 'meeting', 'australian', 'officials', 'passed', 'information', 'came', 'papadopoulos', 'american', 'counterparts', 'leaked', 'democratic', 'emails', 'began', 'appearing', 'online', 'according', 'newspaper', 'cited', 'four', 'current', 'former', 'foreign', 'officials', 'besides', 'information', 'australians', 'probe', 'federal', 'bureau', 'investigation', 'also', 'propelled', 'intelligence', 'friendly', 'governments', 'including', 'british', 'dutch', 'times', 'said', 'papadopoulos', 'international', 'energy', 'lawyer', 'pleaded', 'guilty', 'lying', 'fbi', 'agents', 'contacts', 'people', 'claimed', 'ties', 'top', 'russian', 'officials', 'first', 'criminal', 'charge', 'alleging', 'links', 'trump', 'campaign', 'russia', 'white', 'house', 'played', 'former', 'aide', 'campaign', 'role', 'saying', 'extremely', 'limited', 'actions', 'took', 'would', 'new', 'york', 'times', 'however', 'reported', 'papadopoulos', 'helped', 'set', 'meeting', 'donald', 'trump', 'egyptian', 'president', 'abdel', 'fattah', 'edited', 'outline', 'trump', 'first', 'major', 'foreign', 'policy', 'speech', 'april', 'federal', 'investigation', 'led', 'special', 'counsel', 'robert', 'mueller', 'hung', 'trump', 'white', 'house', 'since', 'took', 'office', 'almost', 'year', 'ago', 'trump', 'allies', 'recently', 'accused', 'mueller', 'team', 'biased', 'republican', 'president', 'lawyers', 'papadopoulos', 'immediately', 'respond', 'requests', 'reuters', 'comment', 'mueller', 'office', 'declined', 'comment', 'trump', 'white', 'house', 'attorney', 'ty', 'cobb', 'declined', 'comment', 'new', 'york', 'times', 'report', 'respect', 'special', 'counsel', 'process', 'commenting', 'matters', 'said', 'statement', 'mueller', 'charged', 'four', 'trump', 'associates', 'including', 'papadopoulos', 'investigation', 'russia', 'denied', 'interfering', 'election', 'trump', 'said', 'collusion', 'campaign', 'moscow', 'politicsnews']"
        ],
        [
         "4",
         "Trump wants Postal Service to charge 'much more' for Amazon shipments SEATTLE/WASHINGTON (Reuters) - President Donald Trump called on the U.S. Postal Service on Friday to charge “much more” to ship packages for Amazon (AMZN.O), picking another fight with an online retail giant he has criticized in the past.     “Why is the United States Post Office, which is losing many billions of dollars a year, while charging Amazon and others so little to deliver their packages, making Amazon richer and the Post Office dumber and poorer? Should be charging MUCH MORE!” Trump wrote on Twitter.  The president’s tweet drew fresh attention to the fragile finances of the Postal Service at a time when tens of millions of parcels have just been shipped all over the country for the holiday season.  The U.S. Postal Service, which runs at a big loss, is an independent agency within the federal government and does not receive tax dollars for operating expenses, according to its website.  Package delivery has become an increasingly important part of its business as the Internet has led to a sharp decline in the amount of first-class letters. The president does not determine postal rates. They are set by the Postal Regulatory Commission, an independent government agency with commissioners selected by the president from both political parties. That panel raised prices on packages by almost 2 percent in November.  Amazon was founded by Jeff Bezos, who remains the chief executive officer of the retail company and is the richest person in the world, according to Bloomberg News. Bezos also owns The Washington Post, a newspaper Trump has repeatedly railed against in his criticisms of the news media. In tweets over the past year, Trump has said the “Amazon Washington Post” fabricated stories. He has said Amazon does not pay sales tax, which is not true, and so hurts other retailers, part of a pattern by the former businessman and reality television host of periodically turning his ire on big American companies since he took office in January. Daniel Ives, a research analyst at GBH Insights, said Trump’s comment could be taken as a warning to the retail giant. However, he said he was not concerned for Amazon. “We do not see any price hikes in the future. However, that is a risk that Amazon is clearly aware of and (it) is building out its distribution (system) aggressively,” he said. Amazon has shown interest in the past in shifting into its own delivery service, including testing drones for deliveries. In 2015, the company spent $11.5 billion on shipping, 46 percent of its total operating expenses that year.  Amazon shares were down 0.86 percent to $1,175.90 by early afternoon. Overall, U.S. stock prices were down slightly on Friday.  Satish Jindel, president of ShipMatrix Inc, which analyzes shipping data, disputed the idea that the Postal Service charges less than United Parcel Service Inc (UPS.N) and FedEx Corp (FDX.N), the other biggest players in the parcel delivery business in the United States. Many customers get lower rates from UPS and FedEx than they would get from the post office for comparable services, he said. The Postal Service delivers about 62 percent of Amazon packages, for about 3.5 to 4 million a day during the current peak year-end holiday shipping season, Jindel said. The Seattle-based company and the post office have an agreement in which mail carriers take Amazon packages on the last leg of their journeys, from post offices to customers’ doorsteps. Amazon’s No. 2 carrier is UPS, at 21 percent, and FedEx is third, with 8 percent or so, according to Jindel. Trump’s comment tapped into a debate over whether Postal Service pricing has kept pace with the rise of e-commerce, which has flooded the mail with small packages.Private companies like UPS have long claimed the current system unfairly undercuts their business. Steve Gaut, a spokesman for UPS, noted that the company values its “productive relationship” with the postal service, but that it has filed with the Postal Regulatory Commission its concerns about the postal service’s methods for covering costs. Representatives for Amazon, the White House, the U.S. Postal Service and FedEx declined comment or were not immediately available for comment on Trump’s tweet. According to its annual report, the Postal Service lost $2.74 billion this year, and its deficit has ballooned to $61.86 billion.  While the Postal Service’s revenue for first class mail, marketing mail and periodicals is flat or declining, revenue from package delivery is up 44 percent since 2014 to $19.5 billion in the fiscal year ended Sept. 30, 2017. But it also lost about $2 billion in revenue when a temporary surcharge expired in April 2016. According to a Government Accountability Office report in February, the service is facing growing personnel expenses, particularly $73.4 billion in unfunded pension and benefits liabilities. The Postal Service has not announced any plans to cut costs. By law, the Postal Service has to set prices for package delivery to cover the costs attributable to that service. But the postal service allocates only 5.5 percent of its total costs to its business of shipping packages even though that line of business is 28 percent of its total revenue.  politicsNews",
         "['Trump', 'wants', 'Postal', 'Service', 'to', 'charge', \"'much\", 'more', \"'\", 'for', 'Amazon', 'shipments', 'SEATTLE/WASHINGTON', '(', 'Reuters', ')', '-', 'President', 'Donald', 'Trump', 'called', 'on', 'the', 'U.S', '.', 'Postal', 'Service', 'on', 'Friday', 'to', 'charge', '“', 'much', 'more', '”', 'to', 'ship', 'packages', 'for', 'Amazon', '(', 'AMZN.O', ')', ',', 'picking', 'another', 'fight', 'with', 'an', 'online', 'retail', 'giant', 'he', 'has', 'criticized', 'in', 'the', 'past', '.', '“', 'Why', 'is', 'the', 'United', 'States', 'Post', 'Office', ',', 'which', 'is', 'losing', 'many', 'billions', 'of', 'dollars', 'a', 'year', ',', 'while', 'charging', 'Amazon', 'and', 'others', 'so', 'little', 'to', 'deliver', 'their', 'packages', ',', 'making', 'Amazon', 'richer', 'and', 'the', 'Post', 'Office', 'dumber', 'and', 'poorer', '?', 'Should', 'be', 'charging', 'MUCH', 'MORE', '!', '”', 'Trump', 'wrote', 'on', 'Twitter', '.', 'The', 'president', '’', 's', 'tweet', 'drew', 'fresh', 'attention', 'to', 'the', 'fragile', 'finances', 'of', 'the', 'Postal', 'Service', 'at', 'a', 'time', 'when', 'tens', 'of', 'millions', 'of', 'parcels', 'have', 'just', 'been', 'shipped', 'all', 'over', 'the', 'country', 'for', 'the', 'holiday', 'season', '.', 'The', 'U.S', '.', 'Postal', 'Service', ',', 'which', 'runs', 'at', 'a', 'big', 'loss', ',', 'is', 'an', 'independent', 'agency', 'within', 'the', 'federal', 'government', 'and', 'does', 'not', 'receive', 'tax', 'dollars', 'for', 'operating', 'expenses', ',', 'according', 'to', 'its', 'website', '.', 'Package', 'delivery', 'has', 'become', 'an', 'increasingly', 'important', 'part', 'of', 'its', 'business', 'as', 'the', 'Internet', 'has', 'led', 'to', 'a', 'sharp', 'decline', 'in', 'the', 'amount', 'of', 'first-class', 'letters', '.', 'The', 'president', 'does', 'not', 'determine', 'postal', 'rates', '.', 'They', 'are', 'set', 'by', 'the', 'Postal', 'Regulatory', 'Commission', ',', 'an', 'independent', 'government', 'agency', 'with', 'commissioners', 'selected', 'by', 'the', 'president', 'from', 'both', 'political', 'parties', '.', 'That', 'panel', 'raised', 'prices', 'on', 'packages', 'by', 'almost', '2', 'percent', 'in', 'November', '.', 'Amazon', 'was', 'founded', 'by', 'Jeff', 'Bezos', ',', 'who', 'remains', 'the', 'chief', 'executive', 'officer', 'of', 'the', 'retail', 'company', 'and', 'is', 'the', 'richest', 'person', 'in', 'the', 'world', ',', 'according', 'to', 'Bloomberg', 'News', '.', 'Bezos', 'also', 'owns', 'The', 'Washington', 'Post', ',', 'a', 'newspaper', 'Trump', 'has', 'repeatedly', 'railed', 'against', 'in', 'his', 'criticisms', 'of', 'the', 'news', 'media', '.', 'In', 'tweets', 'over', 'the', 'past', 'year', ',', 'Trump', 'has', 'said', 'the', '“', 'Amazon', 'Washington', 'Post', '”', 'fabricated', 'stories', '.', 'He', 'has', 'said', 'Amazon', 'does', 'not', 'pay', 'sales', 'tax', ',', 'which', 'is', 'not', 'true', ',', 'and', 'so', 'hurts', 'other', 'retailers', ',', 'part', 'of', 'a', 'pattern', 'by', 'the', 'former', 'businessman', 'and', 'reality', 'television', 'host', 'of', 'periodically', 'turning', 'his', 'ire', 'on', 'big', 'American', 'companies', 'since', 'he', 'took', 'office', 'in', 'January', '.', 'Daniel', 'Ives', ',', 'a', 'research', 'analyst', 'at', 'GBH', 'Insights', ',', 'said', 'Trump', '’', 's', 'comment', 'could', 'be', 'taken', 'as', 'a', 'warning', 'to', 'the', 'retail', 'giant', '.', 'However', ',', 'he', 'said', 'he', 'was', 'not', 'concerned', 'for', 'Amazon', '.', '“', 'We', 'do', 'not', 'see', 'any', 'price', 'hikes', 'in', 'the', 'future', '.', 'However', ',', 'that', 'is', 'a', 'risk', 'that', 'Amazon', 'is', 'clearly', 'aware', 'of', 'and', '(', 'it', ')', 'is', 'building', 'out', 'its', 'distribution', '(', 'system', ')', 'aggressively', ',', '”', 'he', 'said', '.', 'Amazon', 'has', 'shown', 'interest', 'in', 'the', 'past', 'in', 'shifting', 'into', 'its', 'own', 'delivery', 'service', ',', 'including', 'testing', 'drones', 'for', 'deliveries', '.', 'In', '2015', ',', 'the', 'company', 'spent', '$', '11.5', 'billion', 'on', 'shipping', ',', '46', 'percent', 'of', 'its', 'total', 'operating', 'expenses', 'that', 'year', '.', 'Amazon', 'shares', 'were', 'down', '0.86', 'percent', 'to', '$', '1,175.90', 'by', 'early', 'afternoon', '.', 'Overall', ',', 'U.S.', 'stock', 'prices', 'were', 'down', 'slightly', 'on', 'Friday', '.', 'Satish', 'Jindel', ',', 'president', 'of', 'ShipMatrix', 'Inc', ',', 'which', 'analyzes', 'shipping', 'data', ',', 'disputed', 'the', 'idea', 'that', 'the', 'Postal', 'Service', 'charges', 'less', 'than', 'United', 'Parcel', 'Service', 'Inc', '(', 'UPS.N', ')', 'and', 'FedEx', 'Corp', '(', 'FDX.N', ')', ',', 'the', 'other', 'biggest', 'players', 'in', 'the', 'parcel', 'delivery', 'business', 'in', 'the', 'United', 'States', '.', 'Many', 'customers', 'get', 'lower', 'rates', 'from', 'UPS', 'and', 'FedEx', 'than', 'they', 'would', 'get', 'from', 'the', 'post', 'office', 'for', 'comparable', 'services', ',', 'he', 'said', '.', 'The', 'Postal', 'Service', 'delivers', 'about', '62', 'percent', 'of', 'Amazon', 'packages', ',', 'for', 'about', '3.5', 'to', '4', 'million', 'a', 'day', 'during', 'the', 'current', 'peak', 'year-end', 'holiday', 'shipping', 'season', ',', 'Jindel', 'said', '.', 'The', 'Seattle-based', 'company', 'and', 'the', 'post', 'office', 'have', 'an', 'agreement', 'in', 'which', 'mail', 'carriers', 'take', 'Amazon', 'packages', 'on', 'the', 'last', 'leg', 'of', 'their', 'journeys', ',', 'from', 'post', 'offices', 'to', 'customers', '’', 'doorsteps', '.', 'Amazon', '’', 's', 'No', '.', '2', 'carrier', 'is', 'UPS', ',', 'at', '21', 'percent', ',', 'and', 'FedEx', 'is', 'third', ',', 'with', '8', 'percent', 'or', 'so', ',', 'according', 'to', 'Jindel', '.', 'Trump', '’', 's', 'comment', 'tapped', 'into', 'a', 'debate', 'over', 'whether', 'Postal', 'Service', 'pricing', 'has', 'kept', 'pace', 'with', 'the', 'rise', 'of', 'e-commerce', ',', 'which', 'has', 'flooded', 'the', 'mail', 'with', 'small', 'packages.Private', 'companies', 'like', 'UPS', 'have', 'long', 'claimed', 'the', 'current', 'system', 'unfairly', 'undercuts', 'their', 'business', '.', 'Steve', 'Gaut', ',', 'a', 'spokesman', 'for', 'UPS', ',', 'noted', 'that', 'the', 'company', 'values', 'its', '“', 'productive', 'relationship', '”', 'with', 'the', 'postal', 'service', ',', 'but', 'that', 'it', 'has', 'filed', 'with', 'the', 'Postal', 'Regulatory', 'Commission', 'its', 'concerns', 'about', 'the', 'postal', 'service', '’', 's', 'methods', 'for', 'covering', 'costs', '.', 'Representatives', 'for', 'Amazon', ',', 'the', 'White', 'House', ',', 'the', 'U.S', '.', 'Postal', 'Service', 'and', 'FedEx', 'declined', 'comment', 'or', 'were', 'not', 'immediately', 'available', 'for', 'comment', 'on', 'Trump', '’', 's', 'tweet', '.', 'According', 'to', 'its', 'annual', 'report', ',', 'the', 'Postal', 'Service', 'lost', '$', '2.74', 'billion', 'this', 'year', ',', 'and', 'its', 'deficit', 'has', 'ballooned', 'to', '$', '61.86', 'billion', '.', 'While', 'the', 'Postal', 'Service', '’', 's', 'revenue', 'for', 'first', 'class', 'mail', ',', 'marketing', 'mail', 'and', 'periodicals', 'is', 'flat', 'or', 'declining', ',', 'revenue', 'from', 'package', 'delivery', 'is', 'up', '44', 'percent', 'since', '2014', 'to', '$', '19.5', 'billion', 'in', 'the', 'fiscal', 'year', 'ended', 'Sept.', '30', ',', '2017', '.', 'But', 'it', 'also', 'lost', 'about', '$', '2', 'billion', 'in', 'revenue', 'when', 'a', 'temporary', 'surcharge', 'expired', 'in', 'April', '2016', '.', 'According', 'to', 'a', 'Government', 'Accountability', 'Office', 'report', 'in', 'February', ',', 'the', 'service', 'is', 'facing', 'growing', 'personnel', 'expenses', ',', 'particularly', '$', '73.4', 'billion', 'in', 'unfunded', 'pension', 'and', 'benefits', 'liabilities', '.', 'The', 'Postal', 'Service', 'has', 'not', 'announced', 'any', 'plans', 'to', 'cut', 'costs', '.', 'By', 'law', ',', 'the', 'Postal', 'Service', 'has', 'to', 'set', 'prices', 'for', 'package', 'delivery', 'to', 'cover', 'the', 'costs', 'attributable', 'to', 'that', 'service', '.', 'But', 'the', 'postal', 'service', 'allocates', 'only', '5.5', 'percent', 'of', 'its', 'total', 'costs', 'to', 'its', 'business', 'of', 'shipping', 'packages', 'even', 'though', 'that', 'line', 'of', 'business', 'is', '28', 'percent', 'of', 'its', 'total', 'revenue', '.', 'politicsNews']",
         "['trump', 'wants', 'postal', 'service', 'charge', 'amazon', 'shipments', 'reuters', 'president', 'donald', 'trump', 'called', 'postal', 'service', 'friday', 'charge', 'much', 'ship', 'packages', 'amazon', 'picking', 'another', 'fight', 'online', 'retail', 'giant', 'criticized', 'past', 'united', 'states', 'post', 'office', 'losing', 'many', 'billions', 'dollars', 'year', 'charging', 'amazon', 'others', 'little', 'deliver', 'packages', 'making', 'amazon', 'richer', 'post', 'office', 'dumber', 'poorer', 'charging', 'much', 'trump', 'wrote', 'twitter', 'president', 'tweet', 'drew', 'fresh', 'attention', 'fragile', 'finances', 'postal', 'service', 'time', 'tens', 'millions', 'parcels', 'shipped', 'country', 'holiday', 'season', 'postal', 'service', 'runs', 'big', 'loss', 'independent', 'agency', 'within', 'federal', 'government', 'receive', 'tax', 'dollars', 'operating', 'expenses', 'according', 'website', 'package', 'delivery', 'become', 'increasingly', 'important', 'part', 'business', 'internet', 'led', 'sharp', 'decline', 'amount', 'letters', 'president', 'determine', 'postal', 'rates', 'set', 'postal', 'regulatory', 'commission', 'independent', 'government', 'agency', 'commissioners', 'selected', 'president', 'political', 'parties', 'panel', 'raised', 'prices', 'packages', 'almost', 'percent', 'november', 'amazon', 'founded', 'jeff', 'bezos', 'remains', 'chief', 'executive', 'officer', 'retail', 'company', 'richest', 'person', 'world', 'according', 'bloomberg', 'news', 'bezos', 'also', 'owns', 'washington', 'post', 'newspaper', 'trump', 'repeatedly', 'railed', 'criticisms', 'news', 'media', 'tweets', 'past', 'year', 'trump', 'said', 'amazon', 'washington', 'post', 'fabricated', 'stories', 'said', 'amazon', 'pay', 'sales', 'tax', 'true', 'hurts', 'retailers', 'part', 'pattern', 'former', 'businessman', 'reality', 'television', 'host', 'periodically', 'turning', 'ire', 'big', 'american', 'companies', 'since', 'took', 'office', 'january', 'daniel', 'ives', 'research', 'analyst', 'gbh', 'insights', 'said', 'trump', 'comment', 'could', 'taken', 'warning', 'retail', 'giant', 'however', 'said', 'concerned', 'amazon', 'see', 'price', 'hikes', 'future', 'however', 'risk', 'amazon', 'clearly', 'aware', 'building', 'distribution', 'system', 'aggressively', 'said', 'amazon', 'shown', 'interest', 'past', 'shifting', 'delivery', 'service', 'including', 'testing', 'drones', 'deliveries', 'company', 'spent', 'billion', 'shipping', 'percent', 'total', 'operating', 'expenses', 'year', 'amazon', 'shares', 'percent', 'early', 'afternoon', 'overall', 'stock', 'prices', 'slightly', 'friday', 'satish', 'jindel', 'president', 'shipmatrix', 'inc', 'analyzes', 'shipping', 'data', 'disputed', 'idea', 'postal', 'service', 'charges', 'less', 'united', 'parcel', 'service', 'inc', 'fedex', 'corp', 'biggest', 'players', 'parcel', 'delivery', 'business', 'united', 'states', 'many', 'customers', 'get', 'lower', 'rates', 'ups', 'fedex', 'would', 'get', 'post', 'office', 'comparable', 'services', 'said', 'postal', 'service', 'delivers', 'percent', 'amazon', 'packages', 'million', 'day', 'current', 'peak', 'holiday', 'shipping', 'season', 'jindel', 'said', 'company', 'post', 'office', 'agreement', 'mail', 'carriers', 'take', 'amazon', 'packages', 'last', 'leg', 'journeys', 'post', 'offices', 'customers', 'doorsteps', 'amazon', 'carrier', 'ups', 'percent', 'fedex', 'third', 'percent', 'according', 'jindel', 'trump', 'comment', 'tapped', 'debate', 'whether', 'postal', 'service', 'pricing', 'kept', 'pace', 'rise', 'flooded', 'mail', 'small', 'companies', 'like', 'ups', 'long', 'claimed', 'current', 'system', 'unfairly', 'undercuts', 'business', 'steve', 'gaut', 'spokesman', 'ups', 'noted', 'company', 'values', 'productive', 'relationship', 'postal', 'service', 'filed', 'postal', 'regulatory', 'commission', 'concerns', 'postal', 'service', 'methods', 'covering', 'costs', 'representatives', 'amazon', 'white', 'house', 'postal', 'service', 'fedex', 'declined', 'comment', 'immediately', 'available', 'comment', 'trump', 'tweet', 'according', 'annual', 'report', 'postal', 'service', 'lost', 'billion', 'year', 'deficit', 'ballooned', 'billion', 'postal', 'service', 'revenue', 'first', 'class', 'mail', 'marketing', 'mail', 'periodicals', 'flat', 'declining', 'revenue', 'package', 'delivery', 'percent', 'since', 'billion', 'fiscal', 'year', 'ended', 'also', 'lost', 'billion', 'revenue', 'temporary', 'surcharge', 'expired', 'april', 'according', 'government', 'accountability', 'office', 'report', 'february', 'service', 'facing', 'growing', 'personnel', 'expenses', 'particularly', 'billion', 'unfunded', 'pension', 'benefits', 'liabilities', 'postal', 'service', 'announced', 'plans', 'cut', 'costs', 'law', 'postal', 'service', 'set', 'prices', 'package', 'delivery', 'cover', 'costs', 'attributable', 'service', 'postal', 'service', 'allocates', 'percent', 'total', 'costs', 'business', 'shipping', 'packages', 'even', 'though', 'line', 'business', 'percent', 'total', 'revenue', 'politicsnews']"
        ]
       ],
       "shape": {
        "columns": 3,
        "rows": 5
       }
      },
      "text/html": [
       "<div>\n",
       "<style scoped>\n",
       "    .dataframe tbody tr th:only-of-type {\n",
       "        vertical-align: middle;\n",
       "    }\n",
       "\n",
       "    .dataframe tbody tr th {\n",
       "        vertical-align: top;\n",
       "    }\n",
       "\n",
       "    .dataframe thead th {\n",
       "        text-align: right;\n",
       "    }\n",
       "</style>\n",
       "<table border=\"1\" class=\"dataframe\">\n",
       "  <thead>\n",
       "    <tr style=\"text-align: right;\">\n",
       "      <th></th>\n",
       "      <th>combined_text</th>\n",
       "      <th>tokenized_text</th>\n",
       "      <th>cleaned_text</th>\n",
       "    </tr>\n",
       "  </thead>\n",
       "  <tbody>\n",
       "    <tr>\n",
       "      <th>0</th>\n",
       "      <td>As U.S. budget fight looms, Republicans flip t...</td>\n",
       "      <td>[As, U.S., budget, fight, looms, ,, Republican...</td>\n",
       "      <td>[budget, fight, looms, republicans, flip, fisc...</td>\n",
       "    </tr>\n",
       "    <tr>\n",
       "      <th>1</th>\n",
       "      <td>U.S. military to accept transgender recruits o...</td>\n",
       "      <td>[U.S., military, to, accept, transgender, recr...</td>\n",
       "      <td>[military, accept, transgender, recruits, mond...</td>\n",
       "    </tr>\n",
       "    <tr>\n",
       "      <th>2</th>\n",
       "      <td>Senior U.S. Republican senator: 'Let Mr. Muell...</td>\n",
       "      <td>[Senior, U.S., Republican, senator, :, 'Let, M...</td>\n",
       "      <td>[senior, republican, senator, mueller, job, wa...</td>\n",
       "    </tr>\n",
       "    <tr>\n",
       "      <th>3</th>\n",
       "      <td>FBI Russia probe helped by Australian diplomat...</td>\n",
       "      <td>[FBI, Russia, probe, helped, by, Australian, d...</td>\n",
       "      <td>[fbi, russia, probe, helped, australian, diplo...</td>\n",
       "    </tr>\n",
       "    <tr>\n",
       "      <th>4</th>\n",
       "      <td>Trump wants Postal Service to charge 'much mor...</td>\n",
       "      <td>[Trump, wants, Postal, Service, to, charge, 'm...</td>\n",
       "      <td>[trump, wants, postal, service, charge, amazon...</td>\n",
       "    </tr>\n",
       "  </tbody>\n",
       "</table>\n",
       "</div>"
      ],
      "text/plain": [
       "                                       combined_text  \\\n",
       "0  As U.S. budget fight looms, Republicans flip t...   \n",
       "1  U.S. military to accept transgender recruits o...   \n",
       "2  Senior U.S. Republican senator: 'Let Mr. Muell...   \n",
       "3  FBI Russia probe helped by Australian diplomat...   \n",
       "4  Trump wants Postal Service to charge 'much mor...   \n",
       "\n",
       "                                      tokenized_text  \\\n",
       "0  [As, U.S., budget, fight, looms, ,, Republican...   \n",
       "1  [U.S., military, to, accept, transgender, recr...   \n",
       "2  [Senior, U.S., Republican, senator, :, 'Let, M...   \n",
       "3  [FBI, Russia, probe, helped, by, Australian, d...   \n",
       "4  [Trump, wants, Postal, Service, to, charge, 'm...   \n",
       "\n",
       "                                        cleaned_text  \n",
       "0  [budget, fight, looms, republicans, flip, fisc...  \n",
       "1  [military, accept, transgender, recruits, mond...  \n",
       "2  [senior, republican, senator, mueller, job, wa...  \n",
       "3  [fbi, russia, probe, helped, australian, diplo...  \n",
       "4  [trump, wants, postal, service, charge, amazon...  "
      ]
     },
     "execution_count": 19,
     "metadata": {},
     "output_type": "execute_result"
    }
   ],
   "source": [
    "df.head()"
   ]
  },
  {
   "cell_type": "markdown",
   "id": "56bd1200",
   "metadata": {},
   "source": [
    "## 3.3 Lemmatization\n",
    "\n",
    "We will lemmatize the text data to reduce words to their base or root form. This helps in reducing the dimensionality of the data and improving the performance of the model."
   ]
  },
  {
   "cell_type": "code",
   "execution_count": 20,
   "id": "8f89fb97",
   "metadata": {},
   "outputs": [],
   "source": [
    "from nltk.corpus import wordnet\n",
    "from nltk import WordNetLemmatizer\n",
    "\n",
    "# We will create a function to get the wordnet pos tag\n",
    "def get_wordnet_pos(word):\n",
    "    \"\"\"Map POS tag to first character lemmatize() accepts\"\"\"\n",
    "    tag = nltk.pos_tag([word])[0][1][0]\n",
    "    tag_dict = {\"J\": wordnet.ADJ,\n",
    "                \"N\": wordnet.NOUN,\n",
    "                \"V\": wordnet.VERB,\n",
    "                \"R\": wordnet.ADV}\n",
    "    \n",
    "    return tag_dict.get(tag, wordnet.NOUN) # returns the word type (Noun if we have not found)\n",
    "\n",
    "# We will create a function to lemmatize the words\n",
    "def lemmatize(tokens):\n",
    "    lemmatizer = WordNetLemmatizer()\n",
    "    return [lemmatizer.lemmatize(word, get_wordnet_pos(word)) for word in tokens]\n",
    "\n",
    "# Apply the function to the column cleaned_text\n",
    "df[\"lemmatized_text\"] = df[\"cleaned_text\"].apply(lemmatize)"
   ]
  },
  {
   "cell_type": "code",
   "execution_count": 21,
   "id": "da78bf33",
   "metadata": {},
   "outputs": [
    {
     "data": {
      "application/vnd.microsoft.datawrangler.viewer.v0+json": {
       "columns": [
        {
         "name": "index",
         "rawType": "int64",
         "type": "integer"
        },
        {
         "name": "combined_text",
         "rawType": "object",
         "type": "string"
        },
        {
         "name": "tokenized_text",
         "rawType": "object",
         "type": "unknown"
        },
        {
         "name": "cleaned_text",
         "rawType": "object",
         "type": "unknown"
        },
        {
         "name": "lemmatized_text",
         "rawType": "object",
         "type": "unknown"
        }
       ],
       "conversionMethod": "pd.DataFrame",
       "ref": "679db533-e1c0-4dda-be76-c25b0d89bdf1",
       "rows": [
        [
         "0",
         "As U.S. budget fight looms, Republicans flip their fiscal script WASHINGTON (Reuters) - The head of a conservative Republican faction in the U.S. Congress, who voted this month for a huge expansion of the national debt to pay for tax cuts, called himself a “fiscal conservative” on Sunday and urged budget restraint in 2018. In keeping with a sharp pivot under way among Republicans, U.S. Representative Mark Meadows, speaking on CBS’ “Face the Nation,” drew a hard line on federal spending, which lawmakers are bracing to do battle over in January. When they return from the holidays on Wednesday, lawmakers will begin trying to pass a federal budget in a fight likely to be linked to other issues, such as immigration policy, even as the November congressional election campaigns approach in which Republicans will seek to keep control of Congress. President Donald Trump and his Republicans want a big budget increase in military spending, while Democrats also want proportional increases for non-defense “discretionary” spending on programs that support education, scientific research, infrastructure, public health and environmental protection. “The (Trump) administration has already been willing to say: ‘We’re going to increase non-defense discretionary spending ... by about 7 percent,’” Meadows, chairman of the small but influential House Freedom Caucus, said on the program. “Now, Democrats are saying that’s not enough, we need to give the government a pay raise of 10 to 11 percent. For a fiscal conservative, I don’t see where the rationale is. ... Eventually you run out of other people’s money,” he said. Meadows was among Republicans who voted in late December for their party’s debt-financed tax overhaul, which is expected to balloon the federal budget deficit and add about $1.5 trillion over 10 years to the $20 trillion national debt. “It’s interesting to hear Mark talk about fiscal responsibility,” Democratic U.S. Representative Joseph Crowley said on CBS. Crowley said the Republican tax bill would require the  United States to borrow $1.5 trillion, to be paid off by future generations, to finance tax cuts for corporations and the rich. “This is one of the least ... fiscally responsible bills we’ve ever seen passed in the history of the House of Representatives. I think we’re going to be paying for this for many, many years to come,” Crowley said. Republicans insist the tax package, the biggest U.S. tax overhaul in more than 30 years,  will boost the economy and job growth. House Speaker Paul Ryan, who also supported the tax bill, recently went further than Meadows, making clear in a radio interview that welfare or “entitlement reform,” as the party often calls it, would be a top Republican priority in 2018. In Republican parlance, “entitlement” programs mean food stamps, housing assistance, Medicare and Medicaid health insurance for the elderly, poor and disabled, as well as other programs created by Washington to assist the needy. Democrats seized on Ryan’s early December remarks, saying they showed Republicans would try to pay for their tax overhaul by seeking spending cuts for social programs. But the goals of House Republicans may have to take a back seat to the Senate, where the votes of some Democrats will be needed to approve a budget and prevent a government shutdown. Democrats will use their leverage in the Senate, which Republicans narrowly control, to defend both discretionary non-defense programs and social spending, while tackling the issue of the “Dreamers,” people brought illegally to the country as children. Trump in September put a March 2018 expiration date on the Deferred Action for Childhood Arrivals, or DACA, program, which protects the young immigrants from deportation and provides them with work permits. The president has said in recent Twitter messages he wants funding for his proposed Mexican border wall and other immigration law changes in exchange for agreeing to help the Dreamers. Representative Debbie Dingell told CBS she did not favor linking that issue to other policy objectives, such as wall funding. “We need to do DACA clean,” she said.  On Wednesday, Trump aides will meet with congressional leaders to discuss those issues. That will be followed by a weekend of strategy sessions for Trump and Republican leaders on Jan. 6 and 7, the White House said. Trump was also scheduled to meet on Sunday with Florida Republican Governor Rick Scott, who wants more emergency aid. The House has passed an $81 billion aid package after hurricanes in Florida, Texas and Puerto Rico, and wildfires in California. The package far exceeded the $44 billion requested by the Trump administration. The Senate has not yet voted on the aid.  politicsNews",
         "['As', 'U.S.', 'budget', 'fight', 'looms', ',', 'Republicans', 'flip', 'their', 'fiscal', 'script', 'WASHINGTON', '(', 'Reuters', ')', '-', 'The', 'head', 'of', 'a', 'conservative', 'Republican', 'faction', 'in', 'the', 'U.S.', 'Congress', ',', 'who', 'voted', 'this', 'month', 'for', 'a', 'huge', 'expansion', 'of', 'the', 'national', 'debt', 'to', 'pay', 'for', 'tax', 'cuts', ',', 'called', 'himself', 'a', '“', 'fiscal', 'conservative', '”', 'on', 'Sunday', 'and', 'urged', 'budget', 'restraint', 'in', '2018', '.', 'In', 'keeping', 'with', 'a', 'sharp', 'pivot', 'under', 'way', 'among', 'Republicans', ',', 'U.S.', 'Representative', 'Mark', 'Meadows', ',', 'speaking', 'on', 'CBS', '’', '“', 'Face', 'the', 'Nation', ',', '”', 'drew', 'a', 'hard', 'line', 'on', 'federal', 'spending', ',', 'which', 'lawmakers', 'are', 'bracing', 'to', 'do', 'battle', 'over', 'in', 'January', '.', 'When', 'they', 'return', 'from', 'the', 'holidays', 'on', 'Wednesday', ',', 'lawmakers', 'will', 'begin', 'trying', 'to', 'pass', 'a', 'federal', 'budget', 'in', 'a', 'fight', 'likely', 'to', 'be', 'linked', 'to', 'other', 'issues', ',', 'such', 'as', 'immigration', 'policy', ',', 'even', 'as', 'the', 'November', 'congressional', 'election', 'campaigns', 'approach', 'in', 'which', 'Republicans', 'will', 'seek', 'to', 'keep', 'control', 'of', 'Congress', '.', 'President', 'Donald', 'Trump', 'and', 'his', 'Republicans', 'want', 'a', 'big', 'budget', 'increase', 'in', 'military', 'spending', ',', 'while', 'Democrats', 'also', 'want', 'proportional', 'increases', 'for', 'non-defense', '“', 'discretionary', '”', 'spending', 'on', 'programs', 'that', 'support', 'education', ',', 'scientific', 'research', ',', 'infrastructure', ',', 'public', 'health', 'and', 'environmental', 'protection', '.', '“', 'The', '(', 'Trump', ')', 'administration', 'has', 'already', 'been', 'willing', 'to', 'say', ':', '‘', 'We', '’', 're', 'going', 'to', 'increase', 'non-defense', 'discretionary', 'spending', '...', 'by', 'about', '7', 'percent', ',', '’', '”', 'Meadows', ',', 'chairman', 'of', 'the', 'small', 'but', 'influential', 'House', 'Freedom', 'Caucus', ',', 'said', 'on', 'the', 'program', '.', '“', 'Now', ',', 'Democrats', 'are', 'saying', 'that', '’', 's', 'not', 'enough', ',', 'we', 'need', 'to', 'give', 'the', 'government', 'a', 'pay', 'raise', 'of', '10', 'to', '11', 'percent', '.', 'For', 'a', 'fiscal', 'conservative', ',', 'I', 'don', '’', 't', 'see', 'where', 'the', 'rationale', 'is', '.', '...', 'Eventually', 'you', 'run', 'out', 'of', 'other', 'people', '’', 's', 'money', ',', '”', 'he', 'said', '.', 'Meadows', 'was', 'among', 'Republicans', 'who', 'voted', 'in', 'late', 'December', 'for', 'their', 'party', '’', 's', 'debt-financed', 'tax', 'overhaul', ',', 'which', 'is', 'expected', 'to', 'balloon', 'the', 'federal', 'budget', 'deficit', 'and', 'add', 'about', '$', '1.5', 'trillion', 'over', '10', 'years', 'to', 'the', '$', '20', 'trillion', 'national', 'debt', '.', '“', 'It', '’', 's', 'interesting', 'to', 'hear', 'Mark', 'talk', 'about', 'fiscal', 'responsibility', ',', '”', 'Democratic', 'U.S.', 'Representative', 'Joseph', 'Crowley', 'said', 'on', 'CBS', '.', 'Crowley', 'said', 'the', 'Republican', 'tax', 'bill', 'would', 'require', 'the', 'United', 'States', 'to', 'borrow', '$', '1.5', 'trillion', ',', 'to', 'be', 'paid', 'off', 'by', 'future', 'generations', ',', 'to', 'finance', 'tax', 'cuts', 'for', 'corporations', 'and', 'the', 'rich', '.', '“', 'This', 'is', 'one', 'of', 'the', 'least', '...', 'fiscally', 'responsible', 'bills', 'we', '’', 've', 'ever', 'seen', 'passed', 'in', 'the', 'history', 'of', 'the', 'House', 'of', 'Representatives', '.', 'I', 'think', 'we', '’', 're', 'going', 'to', 'be', 'paying', 'for', 'this', 'for', 'many', ',', 'many', 'years', 'to', 'come', ',', '”', 'Crowley', 'said', '.', 'Republicans', 'insist', 'the', 'tax', 'package', ',', 'the', 'biggest', 'U.S.', 'tax', 'overhaul', 'in', 'more', 'than', '30', 'years', ',', 'will', 'boost', 'the', 'economy', 'and', 'job', 'growth', '.', 'House', 'Speaker', 'Paul', 'Ryan', ',', 'who', 'also', 'supported', 'the', 'tax', 'bill', ',', 'recently', 'went', 'further', 'than', 'Meadows', ',', 'making', 'clear', 'in', 'a', 'radio', 'interview', 'that', 'welfare', 'or', '“', 'entitlement', 'reform', ',', '”', 'as', 'the', 'party', 'often', 'calls', 'it', ',', 'would', 'be', 'a', 'top', 'Republican', 'priority', 'in', '2018', '.', 'In', 'Republican', 'parlance', ',', '“', 'entitlement', '”', 'programs', 'mean', 'food', 'stamps', ',', 'housing', 'assistance', ',', 'Medicare', 'and', 'Medicaid', 'health', 'insurance', 'for', 'the', 'elderly', ',', 'poor', 'and', 'disabled', ',', 'as', 'well', 'as', 'other', 'programs', 'created', 'by', 'Washington', 'to', 'assist', 'the', 'needy', '.', 'Democrats', 'seized', 'on', 'Ryan', '’', 's', 'early', 'December', 'remarks', ',', 'saying', 'they', 'showed', 'Republicans', 'would', 'try', 'to', 'pay', 'for', 'their', 'tax', 'overhaul', 'by', 'seeking', 'spending', 'cuts', 'for', 'social', 'programs', '.', 'But', 'the', 'goals', 'of', 'House', 'Republicans', 'may', 'have', 'to', 'take', 'a', 'back', 'seat', 'to', 'the', 'Senate', ',', 'where', 'the', 'votes', 'of', 'some', 'Democrats', 'will', 'be', 'needed', 'to', 'approve', 'a', 'budget', 'and', 'prevent', 'a', 'government', 'shutdown', '.', 'Democrats', 'will', 'use', 'their', 'leverage', 'in', 'the', 'Senate', ',', 'which', 'Republicans', 'narrowly', 'control', ',', 'to', 'defend', 'both', 'discretionary', 'non-defense', 'programs', 'and', 'social', 'spending', ',', 'while', 'tackling', 'the', 'issue', 'of', 'the', '“', 'Dreamers', ',', '”', 'people', 'brought', 'illegally', 'to', 'the', 'country', 'as', 'children', '.', 'Trump', 'in', 'September', 'put', 'a', 'March', '2018', 'expiration', 'date', 'on', 'the', 'Deferred', 'Action', 'for', 'Childhood', 'Arrivals', ',', 'or', 'DACA', ',', 'program', ',', 'which', 'protects', 'the', 'young', 'immigrants', 'from', 'deportation', 'and', 'provides', 'them', 'with', 'work', 'permits', '.', 'The', 'president', 'has', 'said', 'in', 'recent', 'Twitter', 'messages', 'he', 'wants', 'funding', 'for', 'his', 'proposed', 'Mexican', 'border', 'wall', 'and', 'other', 'immigration', 'law', 'changes', 'in', 'exchange', 'for', 'agreeing', 'to', 'help', 'the', 'Dreamers', '.', 'Representative', 'Debbie', 'Dingell', 'told', 'CBS', 'she', 'did', 'not', 'favor', 'linking', 'that', 'issue', 'to', 'other', 'policy', 'objectives', ',', 'such', 'as', 'wall', 'funding', '.', '“', 'We', 'need', 'to', 'do', 'DACA', 'clean', ',', '”', 'she', 'said', '.', 'On', 'Wednesday', ',', 'Trump', 'aides', 'will', 'meet', 'with', 'congressional', 'leaders', 'to', 'discuss', 'those', 'issues', '.', 'That', 'will', 'be', 'followed', 'by', 'a', 'weekend', 'of', 'strategy', 'sessions', 'for', 'Trump', 'and', 'Republican', 'leaders', 'on', 'Jan.', '6', 'and', '7', ',', 'the', 'White', 'House', 'said', '.', 'Trump', 'was', 'also', 'scheduled', 'to', 'meet', 'on', 'Sunday', 'with', 'Florida', 'Republican', 'Governor', 'Rick', 'Scott', ',', 'who', 'wants', 'more', 'emergency', 'aid', '.', 'The', 'House', 'has', 'passed', 'an', '$', '81', 'billion', 'aid', 'package', 'after', 'hurricanes', 'in', 'Florida', ',', 'Texas', 'and', 'Puerto', 'Rico', ',', 'and', 'wildfires', 'in', 'California', '.', 'The', 'package', 'far', 'exceeded', 'the', '$', '44', 'billion', 'requested', 'by', 'the', 'Trump', 'administration', '.', 'The', 'Senate', 'has', 'not', 'yet', 'voted', 'on', 'the', 'aid', '.', 'politicsNews']",
         "['budget', 'fight', 'looms', 'republicans', 'flip', 'fiscal', 'script', 'washington', 'reuters', 'head', 'conservative', 'republican', 'faction', 'congress', 'voted', 'month', 'huge', 'expansion', 'national', 'debt', 'pay', 'tax', 'cuts', 'called', 'fiscal', 'conservative', 'sunday', 'urged', 'budget', 'restraint', 'keeping', 'sharp', 'pivot', 'way', 'among', 'republicans', 'representative', 'mark', 'meadows', 'speaking', 'cbs', 'face', 'nation', 'drew', 'hard', 'line', 'federal', 'spending', 'lawmakers', 'bracing', 'battle', 'january', 'return', 'holidays', 'wednesday', 'lawmakers', 'begin', 'trying', 'pass', 'federal', 'budget', 'fight', 'likely', 'linked', 'issues', 'immigration', 'policy', 'even', 'november', 'congressional', 'election', 'campaigns', 'approach', 'republicans', 'seek', 'keep', 'control', 'congress', 'president', 'donald', 'trump', 'republicans', 'want', 'big', 'budget', 'increase', 'military', 'spending', 'democrats', 'also', 'want', 'proportional', 'increases', 'discretionary', 'spending', 'programs', 'support', 'education', 'scientific', 'research', 'infrastructure', 'public', 'health', 'environmental', 'protection', 'trump', 'administration', 'already', 'willing', 'say', 'going', 'increase', 'discretionary', 'spending', 'percent', 'meadows', 'chairman', 'small', 'influential', 'house', 'freedom', 'caucus', 'said', 'program', 'democrats', 'saying', 'enough', 'need', 'give', 'government', 'pay', 'raise', 'percent', 'fiscal', 'conservative', 'see', 'rationale', 'eventually', 'run', 'people', 'money', 'said', 'meadows', 'among', 'republicans', 'voted', 'late', 'december', 'party', 'tax', 'overhaul', 'expected', 'balloon', 'federal', 'budget', 'deficit', 'add', 'trillion', 'years', 'trillion', 'national', 'debt', 'interesting', 'hear', 'mark', 'talk', 'fiscal', 'responsibility', 'democratic', 'representative', 'joseph', 'crowley', 'said', 'cbs', 'crowley', 'said', 'republican', 'tax', 'bill', 'would', 'require', 'united', 'states', 'borrow', 'trillion', 'paid', 'future', 'generations', 'finance', 'tax', 'cuts', 'corporations', 'rich', 'one', 'least', 'fiscally', 'responsible', 'bills', 'ever', 'seen', 'passed', 'history', 'house', 'representatives', 'think', 'going', 'paying', 'many', 'many', 'years', 'come', 'crowley', 'said', 'republicans', 'insist', 'tax', 'package', 'biggest', 'tax', 'overhaul', 'years', 'boost', 'economy', 'job', 'growth', 'house', 'speaker', 'paul', 'ryan', 'also', 'supported', 'tax', 'bill', 'recently', 'went', 'meadows', 'making', 'clear', 'radio', 'interview', 'welfare', 'entitlement', 'reform', 'party', 'often', 'calls', 'would', 'top', 'republican', 'priority', 'republican', 'parlance', 'entitlement', 'programs', 'mean', 'food', 'stamps', 'housing', 'assistance', 'medicare', 'medicaid', 'health', 'insurance', 'elderly', 'poor', 'disabled', 'well', 'programs', 'created', 'washington', 'assist', 'needy', 'democrats', 'seized', 'ryan', 'early', 'december', 'remarks', 'saying', 'showed', 'republicans', 'would', 'try', 'pay', 'tax', 'overhaul', 'seeking', 'spending', 'cuts', 'social', 'programs', 'goals', 'house', 'republicans', 'may', 'take', 'back', 'seat', 'senate', 'votes', 'democrats', 'needed', 'approve', 'budget', 'prevent', 'government', 'shutdown', 'democrats', 'use', 'leverage', 'senate', 'republicans', 'narrowly', 'control', 'defend', 'discretionary', 'programs', 'social', 'spending', 'tackling', 'issue', 'dreamers', 'people', 'brought', 'illegally', 'country', 'children', 'trump', 'september', 'put', 'march', 'expiration', 'date', 'deferred', 'action', 'childhood', 'arrivals', 'daca', 'program', 'protects', 'young', 'immigrants', 'deportation', 'provides', 'work', 'permits', 'president', 'said', 'recent', 'twitter', 'messages', 'wants', 'funding', 'proposed', 'mexican', 'border', 'wall', 'immigration', 'law', 'changes', 'exchange', 'agreeing', 'help', 'dreamers', 'representative', 'debbie', 'dingell', 'told', 'cbs', 'favor', 'linking', 'issue', 'policy', 'objectives', 'wall', 'funding', 'need', 'daca', 'clean', 'said', 'wednesday', 'trump', 'aides', 'meet', 'congressional', 'leaders', 'discuss', 'issues', 'followed', 'weekend', 'strategy', 'sessions', 'trump', 'republican', 'leaders', 'white', 'house', 'said', 'trump', 'also', 'scheduled', 'meet', 'sunday', 'florida', 'republican', 'governor', 'rick', 'scott', 'wants', 'emergency', 'aid', 'house', 'passed', 'billion', 'aid', 'package', 'hurricanes', 'florida', 'texas', 'puerto', 'rico', 'wildfires', 'california', 'package', 'far', 'exceeded', 'billion', 'requested', 'trump', 'administration', 'senate', 'yet', 'voted', 'aid', 'politicsnews']",
         "['budget', 'fight', 'loom', 'republican', 'flip', 'fiscal', 'script', 'washington', 'reuters', 'head', 'conservative', 'republican', 'faction', 'congress', 'vote', 'month', 'huge', 'expansion', 'national', 'debt', 'pay', 'tax', 'cut', 'call', 'fiscal', 'conservative', 'sunday', 'urge', 'budget', 'restraint', 'keep', 'sharp', 'pivot', 'way', 'among', 'republican', 'representative', 'mark', 'meadow', 'speak', 'cbs', 'face', 'nation', 'drew', 'hard', 'line', 'federal', 'spending', 'lawmaker', 'bracing', 'battle', 'january', 'return', 'holiday', 'wednesday', 'lawmaker', 'begin', 'try', 'pas', 'federal', 'budget', 'fight', 'likely', 'link', 'issue', 'immigration', 'policy', 'even', 'november', 'congressional', 'election', 'campaign', 'approach', 'republican', 'seek', 'keep', 'control', 'congress', 'president', 'donald', 'trump', 'republican', 'want', 'big', 'budget', 'increase', 'military', 'spending', 'democrat', 'also', 'want', 'proportional', 'increase', 'discretionary', 'spending', 'program', 'support', 'education', 'scientific', 'research', 'infrastructure', 'public', 'health', 'environmental', 'protection', 'trump', 'administration', 'already', 'willing', 'say', 'go', 'increase', 'discretionary', 'spending', 'percent', 'meadow', 'chairman', 'small', 'influential', 'house', 'freedom', 'caucus', 'say', 'program', 'democrat', 'say', 'enough', 'need', 'give', 'government', 'pay', 'raise', 'percent', 'fiscal', 'conservative', 'see', 'rationale', 'eventually', 'run', 'people', 'money', 'say', 'meadow', 'among', 'republican', 'vote', 'late', 'december', 'party', 'tax', 'overhaul', 'expect', 'balloon', 'federal', 'budget', 'deficit', 'add', 'trillion', 'year', 'trillion', 'national', 'debt', 'interest', 'hear', 'mark', 'talk', 'fiscal', 'responsibility', 'democratic', 'representative', 'joseph', 'crowley', 'say', 'cbs', 'crowley', 'say', 'republican', 'tax', 'bill', 'would', 'require', 'united', 'state', 'borrow', 'trillion', 'paid', 'future', 'generation', 'finance', 'tax', 'cut', 'corporation', 'rich', 'one', 'least', 'fiscally', 'responsible', 'bill', 'ever', 'see', 'pass', 'history', 'house', 'representative', 'think', 'go', 'pay', 'many', 'many', 'year', 'come', 'crowley', 'say', 'republican', 'insist', 'tax', 'package', 'big', 'tax', 'overhaul', 'year', 'boost', 'economy', 'job', 'growth', 'house', 'speaker', 'paul', 'ryan', 'also', 'support', 'tax', 'bill', 'recently', 'go', 'meadow', 'make', 'clear', 'radio', 'interview', 'welfare', 'entitlement', 'reform', 'party', 'often', 'call', 'would', 'top', 'republican', 'priority', 'republican', 'parlance', 'entitlement', 'program', 'mean', 'food', 'stamp', 'housing', 'assistance', 'medicare', 'medicaid', 'health', 'insurance', 'elderly', 'poor', 'disabled', 'well', 'program', 'create', 'washington', 'assist', 'needy', 'democrat', 'seize', 'ryan', 'early', 'december', 'remark', 'say', 'show', 'republican', 'would', 'try', 'pay', 'tax', 'overhaul', 'seek', 'spending', 'cut', 'social', 'program', 'goal', 'house', 'republican', 'may', 'take', 'back', 'seat', 'senate', 'vote', 'democrat', 'need', 'approve', 'budget', 'prevent', 'government', 'shutdown', 'democrat', 'use', 'leverage', 'senate', 'republican', 'narrowly', 'control', 'defend', 'discretionary', 'program', 'social', 'spending', 'tackle', 'issue', 'dreamer', 'people', 'brought', 'illegally', 'country', 'child', 'trump', 'september', 'put', 'march', 'expiration', 'date', 'defer', 'action', 'childhood', 'arrival', 'daca', 'program', 'protects', 'young', 'immigrant', 'deportation', 'provide', 'work', 'permit', 'president', 'say', 'recent', 'twitter', 'message', 'want', 'funding', 'propose', 'mexican', 'border', 'wall', 'immigration', 'law', 'change', 'exchange', 'agree', 'help', 'dreamer', 'representative', 'debbie', 'dingell', 'told', 'cbs', 'favor', 'link', 'issue', 'policy', 'objective', 'wall', 'funding', 'need', 'daca', 'clean', 'say', 'wednesday', 'trump', 'aide', 'meet', 'congressional', 'leader', 'discus', 'issue', 'follow', 'weekend', 'strategy', 'session', 'trump', 'republican', 'leader', 'white', 'house', 'say', 'trump', 'also', 'schedule', 'meet', 'sunday', 'florida', 'republican', 'governor', 'rick', 'scott', 'want', 'emergency', 'aid', 'house', 'pass', 'billion', 'aid', 'package', 'hurricane', 'florida', 'texas', 'puerto', 'rico', 'wildfire', 'california', 'package', 'far', 'exceed', 'billion', 'request', 'trump', 'administration', 'senate', 'yet', 'vote', 'aid', 'politicsnews']"
        ],
        [
         "1",
         "U.S. military to accept transgender recruits on Monday: Pentagon WASHINGTON (Reuters) - Transgender people will be allowed for the first time to enlist in the U.S. military starting on Monday as ordered by federal courts, the Pentagon said on Friday, after President Donald Trump’s administration decided not to appeal rulings that blocked his transgender ban. Two federal appeals courts, one in Washington and one in Virginia, last week rejected the administration’s request to put on hold orders by lower court judges requiring the military to begin accepting transgender recruits on Jan. 1. A Justice Department official said the administration will not challenge those rulings. “The Department of Defense has announced that it will be releasing an independent study of these issues in the coming weeks. So rather than litigate this interim appeal before that occurs, the administration has decided to wait for DOD’s study and will continue to defend the president’s lawful authority in District Court in the meantime,” the official said, speaking on condition of anonymity. In September, the Pentagon said it had created a panel of senior officials to study how to implement a directive by Trump to prohibit transgender individuals from serving. The Defense Department has until Feb. 21 to submit a plan to Trump. Lawyers representing currently-serving transgender service members and aspiring recruits said they had expected the administration to appeal the rulings to the conservative-majority Supreme Court, but were hoping that would not happen. Pentagon spokeswoman Heather Babb said in a statement: “As mandated by court order, the Department of Defense is prepared to begin accessing transgender applicants for military service Jan. 1. All applicants must meet all accession standards.” Jennifer Levi, a lawyer with gay, lesbian and transgender advocacy group GLAD, called the decision not to appeal “great news.” “I’m hoping it means the government has come to see that there is no way to justify a ban and that it’s not good for the military or our country,” Levi said. Both GLAD and the American Civil Liberties Union represent plaintiffs in the lawsuits filed against the administration. In a move that appealed to his hard-line conservative supporters, Trump announced in July that he would prohibit transgender people from serving in the military, reversing Democratic President Barack Obama’s policy of accepting them. Trump said on Twitter at the time that the military “cannot be burdened with the tremendous medical costs and disruption that transgender in the military would entail.” Four federal judges - in Baltimore, Washington, D.C., Seattle and Riverside, California - have issued rulings blocking Trump’s ban while legal challenges to the Republican president’s policy proceed. The judges said the ban would likely violate the right under the U.S. Constitution to equal protection under the law. The Pentagon on Dec. 8 issued guidelines to recruitment personnel in order to enlist transgender applicants by Jan. 1. The memo outlined medical requirements and specified how the applicants’ sex would be identified and even which undergarments they would wear. The Trump administration previously said in legal papers that the armed forces were not prepared to train thousands of personnel on the medical standards needed to process transgender applicants and might have to accept “some individuals who are not medically fit for service.” The Obama administration had set a deadline of July 1, 2017, to begin accepting transgender recruits. But Trump’s defense secretary, James Mattis, postponed that date to Jan. 1, 2018, which the president’s ban then put off indefinitely. Trump has taken other steps aimed at rolling back transgender rights. In October, his administration said a federal law banning gender-based workplace discrimination does not protect transgender employees, reversing another Obama-era position. In February, Trump rescinded guidance issued by the Obama administration saying that public schools should allow transgender students to use the restroom that corresponds to their gender identity.  politicsNews",
         "['U.S.', 'military', 'to', 'accept', 'transgender', 'recruits', 'on', 'Monday', ':', 'Pentagon', 'WASHINGTON', '(', 'Reuters', ')', '-', 'Transgender', 'people', 'will', 'be', 'allowed', 'for', 'the', 'first', 'time', 'to', 'enlist', 'in', 'the', 'U.S.', 'military', 'starting', 'on', 'Monday', 'as', 'ordered', 'by', 'federal', 'courts', ',', 'the', 'Pentagon', 'said', 'on', 'Friday', ',', 'after', 'President', 'Donald', 'Trump', '’', 's', 'administration', 'decided', 'not', 'to', 'appeal', 'rulings', 'that', 'blocked', 'his', 'transgender', 'ban', '.', 'Two', 'federal', 'appeals', 'courts', ',', 'one', 'in', 'Washington', 'and', 'one', 'in', 'Virginia', ',', 'last', 'week', 'rejected', 'the', 'administration', '’', 's', 'request', 'to', 'put', 'on', 'hold', 'orders', 'by', 'lower', 'court', 'judges', 'requiring', 'the', 'military', 'to', 'begin', 'accepting', 'transgender', 'recruits', 'on', 'Jan.', '1', '.', 'A', 'Justice', 'Department', 'official', 'said', 'the', 'administration', 'will', 'not', 'challenge', 'those', 'rulings', '.', '“', 'The', 'Department', 'of', 'Defense', 'has', 'announced', 'that', 'it', 'will', 'be', 'releasing', 'an', 'independent', 'study', 'of', 'these', 'issues', 'in', 'the', 'coming', 'weeks', '.', 'So', 'rather', 'than', 'litigate', 'this', 'interim', 'appeal', 'before', 'that', 'occurs', ',', 'the', 'administration', 'has', 'decided', 'to', 'wait', 'for', 'DOD', '’', 's', 'study', 'and', 'will', 'continue', 'to', 'defend', 'the', 'president', '’', 's', 'lawful', 'authority', 'in', 'District', 'Court', 'in', 'the', 'meantime', ',', '”', 'the', 'official', 'said', ',', 'speaking', 'on', 'condition', 'of', 'anonymity', '.', 'In', 'September', ',', 'the', 'Pentagon', 'said', 'it', 'had', 'created', 'a', 'panel', 'of', 'senior', 'officials', 'to', 'study', 'how', 'to', 'implement', 'a', 'directive', 'by', 'Trump', 'to', 'prohibit', 'transgender', 'individuals', 'from', 'serving', '.', 'The', 'Defense', 'Department', 'has', 'until', 'Feb.', '21', 'to', 'submit', 'a', 'plan', 'to', 'Trump', '.', 'Lawyers', 'representing', 'currently-serving', 'transgender', 'service', 'members', 'and', 'aspiring', 'recruits', 'said', 'they', 'had', 'expected', 'the', 'administration', 'to', 'appeal', 'the', 'rulings', 'to', 'the', 'conservative-majority', 'Supreme', 'Court', ',', 'but', 'were', 'hoping', 'that', 'would', 'not', 'happen', '.', 'Pentagon', 'spokeswoman', 'Heather', 'Babb', 'said', 'in', 'a', 'statement', ':', '“', 'As', 'mandated', 'by', 'court', 'order', ',', 'the', 'Department', 'of', 'Defense', 'is', 'prepared', 'to', 'begin', 'accessing', 'transgender', 'applicants', 'for', 'military', 'service', 'Jan.', '1', '.', 'All', 'applicants', 'must', 'meet', 'all', 'accession', 'standards.', '”', 'Jennifer', 'Levi', ',', 'a', 'lawyer', 'with', 'gay', ',', 'lesbian', 'and', 'transgender', 'advocacy', 'group', 'GLAD', ',', 'called', 'the', 'decision', 'not', 'to', 'appeal', '“', 'great', 'news.', '”', '“', 'I', '’', 'm', 'hoping', 'it', 'means', 'the', 'government', 'has', 'come', 'to', 'see', 'that', 'there', 'is', 'no', 'way', 'to', 'justify', 'a', 'ban', 'and', 'that', 'it', '’', 's', 'not', 'good', 'for', 'the', 'military', 'or', 'our', 'country', ',', '”', 'Levi', 'said', '.', 'Both', 'GLAD', 'and', 'the', 'American', 'Civil', 'Liberties', 'Union', 'represent', 'plaintiffs', 'in', 'the', 'lawsuits', 'filed', 'against', 'the', 'administration', '.', 'In', 'a', 'move', 'that', 'appealed', 'to', 'his', 'hard-line', 'conservative', 'supporters', ',', 'Trump', 'announced', 'in', 'July', 'that', 'he', 'would', 'prohibit', 'transgender', 'people', 'from', 'serving', 'in', 'the', 'military', ',', 'reversing', 'Democratic', 'President', 'Barack', 'Obama', '’', 's', 'policy', 'of', 'accepting', 'them', '.', 'Trump', 'said', 'on', 'Twitter', 'at', 'the', 'time', 'that', 'the', 'military', '“', 'can', 'not', 'be', 'burdened', 'with', 'the', 'tremendous', 'medical', 'costs', 'and', 'disruption', 'that', 'transgender', 'in', 'the', 'military', 'would', 'entail.', '”', 'Four', 'federal', 'judges', '-', 'in', 'Baltimore', ',', 'Washington', ',', 'D.C.', ',', 'Seattle', 'and', 'Riverside', ',', 'California', '-', 'have', 'issued', 'rulings', 'blocking', 'Trump', '’', 's', 'ban', 'while', 'legal', 'challenges', 'to', 'the', 'Republican', 'president', '’', 's', 'policy', 'proceed', '.', 'The', 'judges', 'said', 'the', 'ban', 'would', 'likely', 'violate', 'the', 'right', 'under', 'the', 'U.S.', 'Constitution', 'to', 'equal', 'protection', 'under', 'the', 'law', '.', 'The', 'Pentagon', 'on', 'Dec.', '8', 'issued', 'guidelines', 'to', 'recruitment', 'personnel', 'in', 'order', 'to', 'enlist', 'transgender', 'applicants', 'by', 'Jan.', '1', '.', 'The', 'memo', 'outlined', 'medical', 'requirements', 'and', 'specified', 'how', 'the', 'applicants', '’', 'sex', 'would', 'be', 'identified', 'and', 'even', 'which', 'undergarments', 'they', 'would', 'wear', '.', 'The', 'Trump', 'administration', 'previously', 'said', 'in', 'legal', 'papers', 'that', 'the', 'armed', 'forces', 'were', 'not', 'prepared', 'to', 'train', 'thousands', 'of', 'personnel', 'on', 'the', 'medical', 'standards', 'needed', 'to', 'process', 'transgender', 'applicants', 'and', 'might', 'have', 'to', 'accept', '“', 'some', 'individuals', 'who', 'are', 'not', 'medically', 'fit', 'for', 'service.', '”', 'The', 'Obama', 'administration', 'had', 'set', 'a', 'deadline', 'of', 'July', '1', ',', '2017', ',', 'to', 'begin', 'accepting', 'transgender', 'recruits', '.', 'But', 'Trump', '’', 's', 'defense', 'secretary', ',', 'James', 'Mattis', ',', 'postponed', 'that', 'date', 'to', 'Jan.', '1', ',', '2018', ',', 'which', 'the', 'president', '’', 's', 'ban', 'then', 'put', 'off', 'indefinitely', '.', 'Trump', 'has', 'taken', 'other', 'steps', 'aimed', 'at', 'rolling', 'back', 'transgender', 'rights', '.', 'In', 'October', ',', 'his', 'administration', 'said', 'a', 'federal', 'law', 'banning', 'gender-based', 'workplace', 'discrimination', 'does', 'not', 'protect', 'transgender', 'employees', ',', 'reversing', 'another', 'Obama-era', 'position', '.', 'In', 'February', ',', 'Trump', 'rescinded', 'guidance', 'issued', 'by', 'the', 'Obama', 'administration', 'saying', 'that', 'public', 'schools', 'should', 'allow', 'transgender', 'students', 'to', 'use', 'the', 'restroom', 'that', 'corresponds', 'to', 'their', 'gender', 'identity', '.', 'politicsNews']",
         "['military', 'accept', 'transgender', 'recruits', 'monday', 'pentagon', 'washington', 'reuters', 'transgender', 'people', 'allowed', 'first', 'time', 'enlist', 'military', 'starting', 'monday', 'ordered', 'federal', 'courts', 'pentagon', 'said', 'friday', 'president', 'donald', 'trump', 'administration', 'decided', 'appeal', 'rulings', 'blocked', 'transgender', 'ban', 'two', 'federal', 'appeals', 'courts', 'one', 'washington', 'one', 'virginia', 'last', 'week', 'rejected', 'administration', 'request', 'put', 'hold', 'orders', 'lower', 'court', 'judges', 'requiring', 'military', 'begin', 'accepting', 'transgender', 'recruits', 'justice', 'department', 'official', 'said', 'administration', 'challenge', 'rulings', 'department', 'defense', 'announced', 'releasing', 'independent', 'study', 'issues', 'coming', 'weeks', 'rather', 'litigate', 'interim', 'appeal', 'occurs', 'administration', 'decided', 'wait', 'dod', 'study', 'continue', 'defend', 'president', 'lawful', 'authority', 'district', 'court', 'meantime', 'official', 'said', 'speaking', 'condition', 'anonymity', 'september', 'pentagon', 'said', 'created', 'panel', 'senior', 'officials', 'study', 'implement', 'directive', 'trump', 'prohibit', 'transgender', 'individuals', 'serving', 'defense', 'department', 'submit', 'plan', 'trump', 'lawyers', 'representing', 'transgender', 'service', 'members', 'aspiring', 'recruits', 'said', 'expected', 'administration', 'appeal', 'rulings', 'supreme', 'court', 'hoping', 'would', 'happen', 'pentagon', 'spokeswoman', 'heather', 'babb', 'said', 'statement', 'mandated', 'court', 'order', 'department', 'defense', 'prepared', 'begin', 'accessing', 'transgender', 'applicants', 'military', 'service', 'applicants', 'must', 'meet', 'accession', 'jennifer', 'levi', 'lawyer', 'gay', 'lesbian', 'transgender', 'advocacy', 'group', 'glad', 'called', 'decision', 'appeal', 'great', 'hoping', 'means', 'government', 'come', 'see', 'way', 'justify', 'ban', 'good', 'military', 'country', 'levi', 'said', 'glad', 'american', 'civil', 'liberties', 'union', 'represent', 'plaintiffs', 'lawsuits', 'filed', 'administration', 'move', 'appealed', 'conservative', 'supporters', 'trump', 'announced', 'july', 'would', 'prohibit', 'transgender', 'people', 'serving', 'military', 'reversing', 'democratic', 'president', 'barack', 'obama', 'policy', 'accepting', 'trump', 'said', 'twitter', 'time', 'military', 'burdened', 'tremendous', 'medical', 'costs', 'disruption', 'transgender', 'military', 'would', 'four', 'federal', 'judges', 'baltimore', 'washington', 'seattle', 'riverside', 'california', 'issued', 'rulings', 'blocking', 'trump', 'ban', 'legal', 'challenges', 'republican', 'president', 'policy', 'proceed', 'judges', 'said', 'ban', 'would', 'likely', 'violate', 'right', 'constitution', 'equal', 'protection', 'law', 'pentagon', 'issued', 'guidelines', 'recruitment', 'personnel', 'order', 'enlist', 'transgender', 'applicants', 'memo', 'outlined', 'medical', 'requirements', 'specified', 'applicants', 'sex', 'would', 'identified', 'even', 'undergarments', 'would', 'wear', 'trump', 'administration', 'previously', 'said', 'legal', 'papers', 'armed', 'forces', 'prepared', 'train', 'thousands', 'personnel', 'medical', 'standards', 'needed', 'process', 'transgender', 'applicants', 'might', 'accept', 'individuals', 'medically', 'fit', 'obama', 'administration', 'set', 'deadline', 'july', 'begin', 'accepting', 'transgender', 'recruits', 'trump', 'defense', 'secretary', 'james', 'mattis', 'postponed', 'date', 'president', 'ban', 'put', 'indefinitely', 'trump', 'taken', 'steps', 'aimed', 'rolling', 'back', 'transgender', 'rights', 'october', 'administration', 'said', 'federal', 'law', 'banning', 'workplace', 'discrimination', 'protect', 'transgender', 'employees', 'reversing', 'another', 'position', 'february', 'trump', 'rescinded', 'guidance', 'issued', 'obama', 'administration', 'saying', 'public', 'schools', 'allow', 'transgender', 'students', 'use', 'restroom', 'corresponds', 'gender', 'identity', 'politicsnews']",
         "['military', 'accept', 'transgender', 'recruit', 'monday', 'pentagon', 'washington', 'reuters', 'transgender', 'people', 'allow', 'first', 'time', 'enlist', 'military', 'start', 'monday', 'order', 'federal', 'court', 'pentagon', 'say', 'friday', 'president', 'donald', 'trump', 'administration', 'decide', 'appeal', 'ruling', 'block', 'transgender', 'ban', 'two', 'federal', 'appeal', 'court', 'one', 'washington', 'one', 'virginia', 'last', 'week', 'reject', 'administration', 'request', 'put', 'hold', 'order', 'low', 'court', 'judge', 'require', 'military', 'begin', 'accept', 'transgender', 'recruit', 'justice', 'department', 'official', 'say', 'administration', 'challenge', 'ruling', 'department', 'defense', 'announce', 'release', 'independent', 'study', 'issue', 'come', 'week', 'rather', 'litigate', 'interim', 'appeal', 'occurs', 'administration', 'decide', 'wait', 'dod', 'study', 'continue', 'defend', 'president', 'lawful', 'authority', 'district', 'court', 'meantime', 'official', 'say', 'speak', 'condition', 'anonymity', 'september', 'pentagon', 'say', 'create', 'panel', 'senior', 'official', 'study', 'implement', 'directive', 'trump', 'prohibit', 'transgender', 'individual', 'serve', 'defense', 'department', 'submit', 'plan', 'trump', 'lawyer', 'represent', 'transgender', 'service', 'member', 'aspire', 'recruit', 'say', 'expect', 'administration', 'appeal', 'ruling', 'supreme', 'court', 'hop', 'would', 'happen', 'pentagon', 'spokeswoman', 'heather', 'babb', 'say', 'statement', 'mandate', 'court', 'order', 'department', 'defense', 'prepared', 'begin', 'access', 'transgender', 'applicant', 'military', 'service', 'applicant', 'must', 'meet', 'accession', 'jennifer', 'levi', 'lawyer', 'gay', 'lesbian', 'transgender', 'advocacy', 'group', 'glad', 'call', 'decision', 'appeal', 'great', 'hop', 'mean', 'government', 'come', 'see', 'way', 'justify', 'ban', 'good', 'military', 'country', 'levi', 'say', 'glad', 'american', 'civil', 'liberty', 'union', 'represent', 'plaintiff', 'lawsuit', 'file', 'administration', 'move', 'appeal', 'conservative', 'supporter', 'trump', 'announce', 'july', 'would', 'prohibit', 'transgender', 'people', 'serve', 'military', 'reverse', 'democratic', 'president', 'barack', 'obama', 'policy', 'accept', 'trump', 'say', 'twitter', 'time', 'military', 'burden', 'tremendous', 'medical', 'cost', 'disruption', 'transgender', 'military', 'would', 'four', 'federal', 'judge', 'baltimore', 'washington', 'seattle', 'riverside', 'california', 'issue', 'ruling', 'block', 'trump', 'ban', 'legal', 'challenge', 'republican', 'president', 'policy', 'proceed', 'judge', 'say', 'ban', 'would', 'likely', 'violate', 'right', 'constitution', 'equal', 'protection', 'law', 'pentagon', 'issue', 'guideline', 'recruitment', 'personnel', 'order', 'enlist', 'transgender', 'applicant', 'memo', 'outline', 'medical', 'requirement', 'specify', 'applicant', 'sex', 'would', 'identify', 'even', 'undergarment', 'would', 'wear', 'trump', 'administration', 'previously', 'say', 'legal', 'paper', 'arm', 'force', 'prepared', 'train', 'thousand', 'personnel', 'medical', 'standard', 'need', 'process', 'transgender', 'applicant', 'might', 'accept', 'individual', 'medically', 'fit', 'obama', 'administration', 'set', 'deadline', 'july', 'begin', 'accept', 'transgender', 'recruit', 'trump', 'defense', 'secretary', 'james', 'mattis', 'postpone', 'date', 'president', 'ban', 'put', 'indefinitely', 'trump', 'take', 'step', 'aim', 'roll', 'back', 'transgender', 'right', 'october', 'administration', 'say', 'federal', 'law', 'ban', 'workplace', 'discrimination', 'protect', 'transgender', 'employee', 'reverse', 'another', 'position', 'february', 'trump', 'rescind', 'guidance', 'issue', 'obama', 'administration', 'say', 'public', 'school', 'allow', 'transgender', 'student', 'use', 'restroom', 'corresponds', 'gender', 'identity', 'politicsnews']"
        ],
        [
         "2",
         "Senior U.S. Republican senator: 'Let Mr. Mueller do his job' WASHINGTON (Reuters) - The special counsel investigation of links between Russia and President Trump’s 2016 election campaign should continue without interference in 2018, despite calls from some Trump administration allies and Republican lawmakers to shut it down, a prominent Republican senator said on Sunday. Lindsey Graham, who serves on the Senate armed forces and judiciary committees, said Department of Justice Special Counsel Robert Mueller needs to carry on with his Russia investigation without political interference. “This investigation will go forward. It will be an investigation conducted without political influence,” Graham said on CBS’s Face the Nation news program. “And we all need to let Mr. Mueller do his job. I think he’s the right guy at the right time.”  The question of how Russia may have interfered in the election, and how Trump’s campaign may have had links with or co-ordinated any such effort, has loomed over the White House since Trump took office in January. It shows no sign of receding as Trump prepares for his second year in power, despite intensified rhetoric from some Trump allies in recent weeks accusing Mueller’s team of bias against the Republican president. Trump himself seemed to undercut his supporters in an interview last week with the New York Times in which he said he expected Mueller was “going to be fair.”    Russia’s role in the election and the question of possible links to the Trump campaign are the focus of multiple inquiries in Washington. Three committees of the Senate and the House of Representatives are investigating, as well as Mueller, whose team in May took over an earlier probe launched by the U.S. Federal Bureau of Investigation (FBI). Several members of the Trump campaign and administration have been convicted or indicted in the investigation.  Trump and his allies deny any collusion with Russia during the campaign, and the Kremlin has denied meddling in the election. Graham said he still wants an examination of the FBI’s use of a dossier on links between Trump and Russia that was compiled by a former British spy, Christopher Steele, which prompted Trump allies and some Republicans to question Mueller’s inquiry.   On Saturday, the New York Times reported that it was not that dossier that triggered an early FBI probe, but a tip from former Trump campaign foreign policy adviser George Papadopoulos to an Australian diplomat that Russia had damaging information about former Trump rival Hillary Clinton.  “I want somebody to look at the way the Department of Justice used this dossier. It bothers me greatly the way they used it, and I want somebody to look at it,” Graham said. But he said the Russia investigation must continue. “As a matter of fact, it would hurt us if we ignored it,” he said.  politicsNews",
         "['Senior', 'U.S.', 'Republican', 'senator', ':', \"'Let\", 'Mr.', 'Mueller', 'do', 'his', 'job', \"'\", 'WASHINGTON', '(', 'Reuters', ')', '-', 'The', 'special', 'counsel', 'investigation', 'of', 'links', 'between', 'Russia', 'and', 'President', 'Trump', '’', 's', '2016', 'election', 'campaign', 'should', 'continue', 'without', 'interference', 'in', '2018', ',', 'despite', 'calls', 'from', 'some', 'Trump', 'administration', 'allies', 'and', 'Republican', 'lawmakers', 'to', 'shut', 'it', 'down', ',', 'a', 'prominent', 'Republican', 'senator', 'said', 'on', 'Sunday', '.', 'Lindsey', 'Graham', ',', 'who', 'serves', 'on', 'the', 'Senate', 'armed', 'forces', 'and', 'judiciary', 'committees', ',', 'said', 'Department', 'of', 'Justice', 'Special', 'Counsel', 'Robert', 'Mueller', 'needs', 'to', 'carry', 'on', 'with', 'his', 'Russia', 'investigation', 'without', 'political', 'interference', '.', '“', 'This', 'investigation', 'will', 'go', 'forward', '.', 'It', 'will', 'be', 'an', 'investigation', 'conducted', 'without', 'political', 'influence', ',', '”', 'Graham', 'said', 'on', 'CBS', '’', 's', 'Face', 'the', 'Nation', 'news', 'program', '.', '“', 'And', 'we', 'all', 'need', 'to', 'let', 'Mr.', 'Mueller', 'do', 'his', 'job', '.', 'I', 'think', 'he', '’', 's', 'the', 'right', 'guy', 'at', 'the', 'right', 'time.', '”', 'The', 'question', 'of', 'how', 'Russia', 'may', 'have', 'interfered', 'in', 'the', 'election', ',', 'and', 'how', 'Trump', '’', 's', 'campaign', 'may', 'have', 'had', 'links', 'with', 'or', 'co-ordinated', 'any', 'such', 'effort', ',', 'has', 'loomed', 'over', 'the', 'White', 'House', 'since', 'Trump', 'took', 'office', 'in', 'January', '.', 'It', 'shows', 'no', 'sign', 'of', 'receding', 'as', 'Trump', 'prepares', 'for', 'his', 'second', 'year', 'in', 'power', ',', 'despite', 'intensified', 'rhetoric', 'from', 'some', 'Trump', 'allies', 'in', 'recent', 'weeks', 'accusing', 'Mueller', '’', 's', 'team', 'of', 'bias', 'against', 'the', 'Republican', 'president', '.', 'Trump', 'himself', 'seemed', 'to', 'undercut', 'his', 'supporters', 'in', 'an', 'interview', 'last', 'week', 'with', 'the', 'New', 'York', 'Times', 'in', 'which', 'he', 'said', 'he', 'expected', 'Mueller', 'was', '“', 'going', 'to', 'be', 'fair.', '”', 'Russia', '’', 's', 'role', 'in', 'the', 'election', 'and', 'the', 'question', 'of', 'possible', 'links', 'to', 'the', 'Trump', 'campaign', 'are', 'the', 'focus', 'of', 'multiple', 'inquiries', 'in', 'Washington', '.', 'Three', 'committees', 'of', 'the', 'Senate', 'and', 'the', 'House', 'of', 'Representatives', 'are', 'investigating', ',', 'as', 'well', 'as', 'Mueller', ',', 'whose', 'team', 'in', 'May', 'took', 'over', 'an', 'earlier', 'probe', 'launched', 'by', 'the', 'U.S.', 'Federal', 'Bureau', 'of', 'Investigation', '(', 'FBI', ')', '.', 'Several', 'members', 'of', 'the', 'Trump', 'campaign', 'and', 'administration', 'have', 'been', 'convicted', 'or', 'indicted', 'in', 'the', 'investigation', '.', 'Trump', 'and', 'his', 'allies', 'deny', 'any', 'collusion', 'with', 'Russia', 'during', 'the', 'campaign', ',', 'and', 'the', 'Kremlin', 'has', 'denied', 'meddling', 'in', 'the', 'election', '.', 'Graham', 'said', 'he', 'still', 'wants', 'an', 'examination', 'of', 'the', 'FBI', '’', 's', 'use', 'of', 'a', 'dossier', 'on', 'links', 'between', 'Trump', 'and', 'Russia', 'that', 'was', 'compiled', 'by', 'a', 'former', 'British', 'spy', ',', 'Christopher', 'Steele', ',', 'which', 'prompted', 'Trump', 'allies', 'and', 'some', 'Republicans', 'to', 'question', 'Mueller', '’', 's', 'inquiry', '.', 'On', 'Saturday', ',', 'the', 'New', 'York', 'Times', 'reported', 'that', 'it', 'was', 'not', 'that', 'dossier', 'that', 'triggered', 'an', 'early', 'FBI', 'probe', ',', 'but', 'a', 'tip', 'from', 'former', 'Trump', 'campaign', 'foreign', 'policy', 'adviser', 'George', 'Papadopoulos', 'to', 'an', 'Australian', 'diplomat', 'that', 'Russia', 'had', 'damaging', 'information', 'about', 'former', 'Trump', 'rival', 'Hillary', 'Clinton', '.', '“', 'I', 'want', 'somebody', 'to', 'look', 'at', 'the', 'way', 'the', 'Department', 'of', 'Justice', 'used', 'this', 'dossier', '.', 'It', 'bothers', 'me', 'greatly', 'the', 'way', 'they', 'used', 'it', ',', 'and', 'I', 'want', 'somebody', 'to', 'look', 'at', 'it', ',', '”', 'Graham', 'said', '.', 'But', 'he', 'said', 'the', 'Russia', 'investigation', 'must', 'continue', '.', '“', 'As', 'a', 'matter', 'of', 'fact', ',', 'it', 'would', 'hurt', 'us', 'if', 'we', 'ignored', 'it', ',', '”', 'he', 'said', '.', 'politicsNews']",
         "['senior', 'republican', 'senator', 'mueller', 'job', 'washington', 'reuters', 'special', 'counsel', 'investigation', 'links', 'russia', 'president', 'trump', 'election', 'campaign', 'continue', 'without', 'interference', 'despite', 'calls', 'trump', 'administration', 'allies', 'republican', 'lawmakers', 'shut', 'prominent', 'republican', 'senator', 'said', 'sunday', 'lindsey', 'graham', 'serves', 'senate', 'armed', 'forces', 'judiciary', 'committees', 'said', 'department', 'justice', 'special', 'counsel', 'robert', 'mueller', 'needs', 'carry', 'russia', 'investigation', 'without', 'political', 'interference', 'investigation', 'go', 'forward', 'investigation', 'conducted', 'without', 'political', 'influence', 'graham', 'said', 'cbs', 'face', 'nation', 'news', 'program', 'need', 'let', 'mueller', 'job', 'think', 'right', 'guy', 'right', 'question', 'russia', 'may', 'interfered', 'election', 'trump', 'campaign', 'may', 'links', 'effort', 'loomed', 'white', 'house', 'since', 'trump', 'took', 'office', 'january', 'shows', 'sign', 'receding', 'trump', 'prepares', 'second', 'year', 'power', 'despite', 'intensified', 'rhetoric', 'trump', 'allies', 'recent', 'weeks', 'accusing', 'mueller', 'team', 'bias', 'republican', 'president', 'trump', 'seemed', 'undercut', 'supporters', 'interview', 'last', 'week', 'new', 'york', 'times', 'said', 'expected', 'mueller', 'going', 'russia', 'role', 'election', 'question', 'possible', 'links', 'trump', 'campaign', 'focus', 'multiple', 'inquiries', 'washington', 'three', 'committees', 'senate', 'house', 'representatives', 'investigating', 'well', 'mueller', 'whose', 'team', 'may', 'took', 'earlier', 'probe', 'launched', 'federal', 'bureau', 'investigation', 'fbi', 'several', 'members', 'trump', 'campaign', 'administration', 'convicted', 'indicted', 'investigation', 'trump', 'allies', 'deny', 'collusion', 'russia', 'campaign', 'kremlin', 'denied', 'meddling', 'election', 'graham', 'said', 'still', 'wants', 'examination', 'fbi', 'use', 'dossier', 'links', 'trump', 'russia', 'compiled', 'former', 'british', 'spy', 'christopher', 'steele', 'prompted', 'trump', 'allies', 'republicans', 'question', 'mueller', 'inquiry', 'saturday', 'new', 'york', 'times', 'reported', 'dossier', 'triggered', 'early', 'fbi', 'probe', 'tip', 'former', 'trump', 'campaign', 'foreign', 'policy', 'adviser', 'george', 'papadopoulos', 'australian', 'diplomat', 'russia', 'damaging', 'information', 'former', 'trump', 'rival', 'hillary', 'clinton', 'want', 'somebody', 'look', 'way', 'department', 'justice', 'used', 'dossier', 'bothers', 'greatly', 'way', 'used', 'want', 'somebody', 'look', 'graham', 'said', 'said', 'russia', 'investigation', 'must', 'continue', 'matter', 'fact', 'would', 'hurt', 'us', 'ignored', 'said', 'politicsnews']",
         "['senior', 'republican', 'senator', 'mueller', 'job', 'washington', 'reuters', 'special', 'counsel', 'investigation', 'link', 'russia', 'president', 'trump', 'election', 'campaign', 'continue', 'without', 'interference', 'despite', 'call', 'trump', 'administration', 'ally', 'republican', 'lawmaker', 'shut', 'prominent', 'republican', 'senator', 'say', 'sunday', 'lindsey', 'graham', 'serf', 'senate', 'arm', 'force', 'judiciary', 'committee', 'say', 'department', 'justice', 'special', 'counsel', 'robert', 'mueller', 'need', 'carry', 'russia', 'investigation', 'without', 'political', 'interference', 'investigation', 'go', 'forward', 'investigation', 'conduct', 'without', 'political', 'influence', 'graham', 'say', 'cbs', 'face', 'nation', 'news', 'program', 'need', 'let', 'mueller', 'job', 'think', 'right', 'guy', 'right', 'question', 'russia', 'may', 'interfere', 'election', 'trump', 'campaign', 'may', 'link', 'effort', 'loom', 'white', 'house', 'since', 'trump', 'take', 'office', 'january', 'show', 'sign', 'recede', 'trump', 'prepares', 'second', 'year', 'power', 'despite', 'intensified', 'rhetoric', 'trump', 'ally', 'recent', 'week', 'accuse', 'mueller', 'team', 'bias', 'republican', 'president', 'trump', 'seem', 'undercut', 'supporter', 'interview', 'last', 'week', 'new', 'york', 'time', 'say', 'expect', 'mueller', 'go', 'russia', 'role', 'election', 'question', 'possible', 'link', 'trump', 'campaign', 'focus', 'multiple', 'inquiry', 'washington', 'three', 'committee', 'senate', 'house', 'representative', 'investigate', 'well', 'mueller', 'whose', 'team', 'may', 'take', 'earlier', 'probe', 'launch', 'federal', 'bureau', 'investigation', 'fbi', 'several', 'member', 'trump', 'campaign', 'administration', 'convict', 'indict', 'investigation', 'trump', 'ally', 'deny', 'collusion', 'russia', 'campaign', 'kremlin', 'deny', 'meddling', 'election', 'graham', 'say', 'still', 'want', 'examination', 'fbi', 'use', 'dossier', 'link', 'trump', 'russia', 'compile', 'former', 'british', 'spy', 'christopher', 'steele', 'prompt', 'trump', 'ally', 'republican', 'question', 'mueller', 'inquiry', 'saturday', 'new', 'york', 'time', 'report', 'dossier', 'trigger', 'early', 'fbi', 'probe', 'tip', 'former', 'trump', 'campaign', 'foreign', 'policy', 'adviser', 'george', 'papadopoulos', 'australian', 'diplomat', 'russia', 'damage', 'information', 'former', 'trump', 'rival', 'hillary', 'clinton', 'want', 'somebody', 'look', 'way', 'department', 'justice', 'use', 'dossier', 'bother', 'greatly', 'way', 'use', 'want', 'somebody', 'look', 'graham', 'say', 'say', 'russia', 'investigation', 'must', 'continue', 'matter', 'fact', 'would', 'hurt', 'u', 'ignore', 'say', 'politicsnews']"
        ],
        [
         "3",
         "FBI Russia probe helped by Australian diplomat tip-off: NYT WASHINGTON (Reuters) - Trump campaign adviser George Papadopoulos told an Australian diplomat in May 2016 that Russia had political dirt on Democratic presidential candidate Hillary Clinton, the New York Times reported on Saturday. The conversation between Papadopoulos and the diplomat, Alexander Downer, in London was a driving factor behind the FBI’s decision to open a counter-intelligence investigation of Moscow’s contacts with the Trump campaign, the Times reported. Two months after the meeting, Australian officials passed the information that came from Papadopoulos to their American counterparts when leaked Democratic emails began appearing online, according to the newspaper, which cited four current and former U.S. and foreign officials. Besides the information from the Australians, the probe by the Federal Bureau of Investigation was also propelled by intelligence from other friendly governments, including the British and Dutch, the Times said. Papadopoulos, a Chicago-based international energy lawyer, pleaded guilty on Oct. 30 to lying to FBI agents about contacts with people who claimed to have ties to top Russian officials. It was the first criminal charge alleging links between the Trump campaign and Russia. The White House has played down the former aide’s campaign role, saying it was “extremely limited” and that any actions he took would have been on his own. The New York Times, however, reported that Papadopoulos helped set up a meeting between then-candidate Donald Trump and Egyptian President Abdel Fattah al-Sisi and edited the outline of Trump’s first major foreign policy speech in April 2016. The federal investigation, which is now being led by Special Counsel Robert Mueller, has hung over Trump’s White House since he took office almost a year ago. Some Trump allies have recently accused Mueller’s team of being biased against the Republican president. Lawyers for Papadopoulos did not immediately respond to requests by Reuters for comment. Mueller’s office declined to comment. Trump’s White House attorney, Ty Cobb, declined to comment on the New York Times report. “Out of respect for the special counsel and his process, we are not commenting on matters such as this,” he said in a statement. Mueller has charged four Trump associates, including Papadopoulos, in his investigation. Russia has denied interfering in the U.S. election and Trump has said there was no collusion between his campaign and Moscow.  politicsNews",
         "['FBI', 'Russia', 'probe', 'helped', 'by', 'Australian', 'diplomat', 'tip-off', ':', 'NYT', 'WASHINGTON', '(', 'Reuters', ')', '-', 'Trump', 'campaign', 'adviser', 'George', 'Papadopoulos', 'told', 'an', 'Australian', 'diplomat', 'in', 'May', '2016', 'that', 'Russia', 'had', 'political', 'dirt', 'on', 'Democratic', 'presidential', 'candidate', 'Hillary', 'Clinton', ',', 'the', 'New', 'York', 'Times', 'reported', 'on', 'Saturday', '.', 'The', 'conversation', 'between', 'Papadopoulos', 'and', 'the', 'diplomat', ',', 'Alexander', 'Downer', ',', 'in', 'London', 'was', 'a', 'driving', 'factor', 'behind', 'the', 'FBI', '’', 's', 'decision', 'to', 'open', 'a', 'counter-intelligence', 'investigation', 'of', 'Moscow', '’', 's', 'contacts', 'with', 'the', 'Trump', 'campaign', ',', 'the', 'Times', 'reported', '.', 'Two', 'months', 'after', 'the', 'meeting', ',', 'Australian', 'officials', 'passed', 'the', 'information', 'that', 'came', 'from', 'Papadopoulos', 'to', 'their', 'American', 'counterparts', 'when', 'leaked', 'Democratic', 'emails', 'began', 'appearing', 'online', ',', 'according', 'to', 'the', 'newspaper', ',', 'which', 'cited', 'four', 'current', 'and', 'former', 'U.S.', 'and', 'foreign', 'officials', '.', 'Besides', 'the', 'information', 'from', 'the', 'Australians', ',', 'the', 'probe', 'by', 'the', 'Federal', 'Bureau', 'of', 'Investigation', 'was', 'also', 'propelled', 'by', 'intelligence', 'from', 'other', 'friendly', 'governments', ',', 'including', 'the', 'British', 'and', 'Dutch', ',', 'the', 'Times', 'said', '.', 'Papadopoulos', ',', 'a', 'Chicago-based', 'international', 'energy', 'lawyer', ',', 'pleaded', 'guilty', 'on', 'Oct.', '30', 'to', 'lying', 'to', 'FBI', 'agents', 'about', 'contacts', 'with', 'people', 'who', 'claimed', 'to', 'have', 'ties', 'to', 'top', 'Russian', 'officials', '.', 'It', 'was', 'the', 'first', 'criminal', 'charge', 'alleging', 'links', 'between', 'the', 'Trump', 'campaign', 'and', 'Russia', '.', 'The', 'White', 'House', 'has', 'played', 'down', 'the', 'former', 'aide', '’', 's', 'campaign', 'role', ',', 'saying', 'it', 'was', '“', 'extremely', 'limited', '”', 'and', 'that', 'any', 'actions', 'he', 'took', 'would', 'have', 'been', 'on', 'his', 'own', '.', 'The', 'New', 'York', 'Times', ',', 'however', ',', 'reported', 'that', 'Papadopoulos', 'helped', 'set', 'up', 'a', 'meeting', 'between', 'then-candidate', 'Donald', 'Trump', 'and', 'Egyptian', 'President', 'Abdel', 'Fattah', 'al-Sisi', 'and', 'edited', 'the', 'outline', 'of', 'Trump', '’', 's', 'first', 'major', 'foreign', 'policy', 'speech', 'in', 'April', '2016', '.', 'The', 'federal', 'investigation', ',', 'which', 'is', 'now', 'being', 'led', 'by', 'Special', 'Counsel', 'Robert', 'Mueller', ',', 'has', 'hung', 'over', 'Trump', '’', 's', 'White', 'House', 'since', 'he', 'took', 'office', 'almost', 'a', 'year', 'ago', '.', 'Some', 'Trump', 'allies', 'have', 'recently', 'accused', 'Mueller', '’', 's', 'team', 'of', 'being', 'biased', 'against', 'the', 'Republican', 'president', '.', 'Lawyers', 'for', 'Papadopoulos', 'did', 'not', 'immediately', 'respond', 'to', 'requests', 'by', 'Reuters', 'for', 'comment', '.', 'Mueller', '’', 's', 'office', 'declined', 'to', 'comment', '.', 'Trump', '’', 's', 'White', 'House', 'attorney', ',', 'Ty', 'Cobb', ',', 'declined', 'to', 'comment', 'on', 'the', 'New', 'York', 'Times', 'report', '.', '“', 'Out', 'of', 'respect', 'for', 'the', 'special', 'counsel', 'and', 'his', 'process', ',', 'we', 'are', 'not', 'commenting', 'on', 'matters', 'such', 'as', 'this', ',', '”', 'he', 'said', 'in', 'a', 'statement', '.', 'Mueller', 'has', 'charged', 'four', 'Trump', 'associates', ',', 'including', 'Papadopoulos', ',', 'in', 'his', 'investigation', '.', 'Russia', 'has', 'denied', 'interfering', 'in', 'the', 'U.S.', 'election', 'and', 'Trump', 'has', 'said', 'there', 'was', 'no', 'collusion', 'between', 'his', 'campaign', 'and', 'Moscow', '.', 'politicsNews']",
         "['fbi', 'russia', 'probe', 'helped', 'australian', 'diplomat', 'nyt', 'washington', 'reuters', 'trump', 'campaign', 'adviser', 'george', 'papadopoulos', 'told', 'australian', 'diplomat', 'may', 'russia', 'political', 'dirt', 'democratic', 'presidential', 'candidate', 'hillary', 'clinton', 'new', 'york', 'times', 'reported', 'saturday', 'conversation', 'papadopoulos', 'diplomat', 'alexander', 'downer', 'london', 'driving', 'factor', 'behind', 'fbi', 'decision', 'open', 'investigation', 'moscow', 'contacts', 'trump', 'campaign', 'times', 'reported', 'two', 'months', 'meeting', 'australian', 'officials', 'passed', 'information', 'came', 'papadopoulos', 'american', 'counterparts', 'leaked', 'democratic', 'emails', 'began', 'appearing', 'online', 'according', 'newspaper', 'cited', 'four', 'current', 'former', 'foreign', 'officials', 'besides', 'information', 'australians', 'probe', 'federal', 'bureau', 'investigation', 'also', 'propelled', 'intelligence', 'friendly', 'governments', 'including', 'british', 'dutch', 'times', 'said', 'papadopoulos', 'international', 'energy', 'lawyer', 'pleaded', 'guilty', 'lying', 'fbi', 'agents', 'contacts', 'people', 'claimed', 'ties', 'top', 'russian', 'officials', 'first', 'criminal', 'charge', 'alleging', 'links', 'trump', 'campaign', 'russia', 'white', 'house', 'played', 'former', 'aide', 'campaign', 'role', 'saying', 'extremely', 'limited', 'actions', 'took', 'would', 'new', 'york', 'times', 'however', 'reported', 'papadopoulos', 'helped', 'set', 'meeting', 'donald', 'trump', 'egyptian', 'president', 'abdel', 'fattah', 'edited', 'outline', 'trump', 'first', 'major', 'foreign', 'policy', 'speech', 'april', 'federal', 'investigation', 'led', 'special', 'counsel', 'robert', 'mueller', 'hung', 'trump', 'white', 'house', 'since', 'took', 'office', 'almost', 'year', 'ago', 'trump', 'allies', 'recently', 'accused', 'mueller', 'team', 'biased', 'republican', 'president', 'lawyers', 'papadopoulos', 'immediately', 'respond', 'requests', 'reuters', 'comment', 'mueller', 'office', 'declined', 'comment', 'trump', 'white', 'house', 'attorney', 'ty', 'cobb', 'declined', 'comment', 'new', 'york', 'times', 'report', 'respect', 'special', 'counsel', 'process', 'commenting', 'matters', 'said', 'statement', 'mueller', 'charged', 'four', 'trump', 'associates', 'including', 'papadopoulos', 'investigation', 'russia', 'denied', 'interfering', 'election', 'trump', 'said', 'collusion', 'campaign', 'moscow', 'politicsnews']",
         "['fbi', 'russia', 'probe', 'help', 'australian', 'diplomat', 'nyt', 'washington', 'reuters', 'trump', 'campaign', 'adviser', 'george', 'papadopoulos', 'told', 'australian', 'diplomat', 'may', 'russia', 'political', 'dirt', 'democratic', 'presidential', 'candidate', 'hillary', 'clinton', 'new', 'york', 'time', 'report', 'saturday', 'conversation', 'papadopoulos', 'diplomat', 'alexander', 'downer', 'london', 'drive', 'factor', 'behind', 'fbi', 'decision', 'open', 'investigation', 'moscow', 'contact', 'trump', 'campaign', 'time', 'report', 'two', 'month', 'meeting', 'australian', 'official', 'pass', 'information', 'come', 'papadopoulos', 'american', 'counterpart', 'leak', 'democratic', 'email', 'begin', 'appear', 'online', 'accord', 'newspaper', 'cite', 'four', 'current', 'former', 'foreign', 'official', 'besides', 'information', 'australian', 'probe', 'federal', 'bureau', 'investigation', 'also', 'propel', 'intelligence', 'friendly', 'government', 'include', 'british', 'dutch', 'time', 'say', 'papadopoulos', 'international', 'energy', 'lawyer', 'plead', 'guilty', 'lie', 'fbi', 'agent', 'contact', 'people', 'claimed', 'tie', 'top', 'russian', 'official', 'first', 'criminal', 'charge', 'allege', 'link', 'trump', 'campaign', 'russia', 'white', 'house', 'played', 'former', 'aide', 'campaign', 'role', 'say', 'extremely', 'limited', 'action', 'take', 'would', 'new', 'york', 'time', 'however', 'report', 'papadopoulos', 'help', 'set', 'meeting', 'donald', 'trump', 'egyptian', 'president', 'abdel', 'fattah', 'edit', 'outline', 'trump', 'first', 'major', 'foreign', 'policy', 'speech', 'april', 'federal', 'investigation', 'lead', 'special', 'counsel', 'robert', 'mueller', 'hung', 'trump', 'white', 'house', 'since', 'take', 'office', 'almost', 'year', 'ago', 'trump', 'ally', 'recently', 'accuse', 'mueller', 'team', 'bias', 'republican', 'president', 'lawyer', 'papadopoulos', 'immediately', 'respond', 'request', 'reuters', 'comment', 'mueller', 'office', 'decline', 'comment', 'trump', 'white', 'house', 'attorney', 'ty', 'cobb', 'decline', 'comment', 'new', 'york', 'time', 'report', 'respect', 'special', 'counsel', 'process', 'comment', 'matter', 'say', 'statement', 'mueller', 'charge', 'four', 'trump', 'associate', 'include', 'papadopoulos', 'investigation', 'russia', 'deny', 'interfere', 'election', 'trump', 'say', 'collusion', 'campaign', 'moscow', 'politicsnews']"
        ],
        [
         "4",
         "Trump wants Postal Service to charge 'much more' for Amazon shipments SEATTLE/WASHINGTON (Reuters) - President Donald Trump called on the U.S. Postal Service on Friday to charge “much more” to ship packages for Amazon (AMZN.O), picking another fight with an online retail giant he has criticized in the past.     “Why is the United States Post Office, which is losing many billions of dollars a year, while charging Amazon and others so little to deliver their packages, making Amazon richer and the Post Office dumber and poorer? Should be charging MUCH MORE!” Trump wrote on Twitter.  The president’s tweet drew fresh attention to the fragile finances of the Postal Service at a time when tens of millions of parcels have just been shipped all over the country for the holiday season.  The U.S. Postal Service, which runs at a big loss, is an independent agency within the federal government and does not receive tax dollars for operating expenses, according to its website.  Package delivery has become an increasingly important part of its business as the Internet has led to a sharp decline in the amount of first-class letters. The president does not determine postal rates. They are set by the Postal Regulatory Commission, an independent government agency with commissioners selected by the president from both political parties. That panel raised prices on packages by almost 2 percent in November.  Amazon was founded by Jeff Bezos, who remains the chief executive officer of the retail company and is the richest person in the world, according to Bloomberg News. Bezos also owns The Washington Post, a newspaper Trump has repeatedly railed against in his criticisms of the news media. In tweets over the past year, Trump has said the “Amazon Washington Post” fabricated stories. He has said Amazon does not pay sales tax, which is not true, and so hurts other retailers, part of a pattern by the former businessman and reality television host of periodically turning his ire on big American companies since he took office in January. Daniel Ives, a research analyst at GBH Insights, said Trump’s comment could be taken as a warning to the retail giant. However, he said he was not concerned for Amazon. “We do not see any price hikes in the future. However, that is a risk that Amazon is clearly aware of and (it) is building out its distribution (system) aggressively,” he said. Amazon has shown interest in the past in shifting into its own delivery service, including testing drones for deliveries. In 2015, the company spent $11.5 billion on shipping, 46 percent of its total operating expenses that year.  Amazon shares were down 0.86 percent to $1,175.90 by early afternoon. Overall, U.S. stock prices were down slightly on Friday.  Satish Jindel, president of ShipMatrix Inc, which analyzes shipping data, disputed the idea that the Postal Service charges less than United Parcel Service Inc (UPS.N) and FedEx Corp (FDX.N), the other biggest players in the parcel delivery business in the United States. Many customers get lower rates from UPS and FedEx than they would get from the post office for comparable services, he said. The Postal Service delivers about 62 percent of Amazon packages, for about 3.5 to 4 million a day during the current peak year-end holiday shipping season, Jindel said. The Seattle-based company and the post office have an agreement in which mail carriers take Amazon packages on the last leg of their journeys, from post offices to customers’ doorsteps. Amazon’s No. 2 carrier is UPS, at 21 percent, and FedEx is third, with 8 percent or so, according to Jindel. Trump’s comment tapped into a debate over whether Postal Service pricing has kept pace with the rise of e-commerce, which has flooded the mail with small packages.Private companies like UPS have long claimed the current system unfairly undercuts their business. Steve Gaut, a spokesman for UPS, noted that the company values its “productive relationship” with the postal service, but that it has filed with the Postal Regulatory Commission its concerns about the postal service’s methods for covering costs. Representatives for Amazon, the White House, the U.S. Postal Service and FedEx declined comment or were not immediately available for comment on Trump’s tweet. According to its annual report, the Postal Service lost $2.74 billion this year, and its deficit has ballooned to $61.86 billion.  While the Postal Service’s revenue for first class mail, marketing mail and periodicals is flat or declining, revenue from package delivery is up 44 percent since 2014 to $19.5 billion in the fiscal year ended Sept. 30, 2017. But it also lost about $2 billion in revenue when a temporary surcharge expired in April 2016. According to a Government Accountability Office report in February, the service is facing growing personnel expenses, particularly $73.4 billion in unfunded pension and benefits liabilities. The Postal Service has not announced any plans to cut costs. By law, the Postal Service has to set prices for package delivery to cover the costs attributable to that service. But the postal service allocates only 5.5 percent of its total costs to its business of shipping packages even though that line of business is 28 percent of its total revenue.  politicsNews",
         "['Trump', 'wants', 'Postal', 'Service', 'to', 'charge', \"'much\", 'more', \"'\", 'for', 'Amazon', 'shipments', 'SEATTLE/WASHINGTON', '(', 'Reuters', ')', '-', 'President', 'Donald', 'Trump', 'called', 'on', 'the', 'U.S', '.', 'Postal', 'Service', 'on', 'Friday', 'to', 'charge', '“', 'much', 'more', '”', 'to', 'ship', 'packages', 'for', 'Amazon', '(', 'AMZN.O', ')', ',', 'picking', 'another', 'fight', 'with', 'an', 'online', 'retail', 'giant', 'he', 'has', 'criticized', 'in', 'the', 'past', '.', '“', 'Why', 'is', 'the', 'United', 'States', 'Post', 'Office', ',', 'which', 'is', 'losing', 'many', 'billions', 'of', 'dollars', 'a', 'year', ',', 'while', 'charging', 'Amazon', 'and', 'others', 'so', 'little', 'to', 'deliver', 'their', 'packages', ',', 'making', 'Amazon', 'richer', 'and', 'the', 'Post', 'Office', 'dumber', 'and', 'poorer', '?', 'Should', 'be', 'charging', 'MUCH', 'MORE', '!', '”', 'Trump', 'wrote', 'on', 'Twitter', '.', 'The', 'president', '’', 's', 'tweet', 'drew', 'fresh', 'attention', 'to', 'the', 'fragile', 'finances', 'of', 'the', 'Postal', 'Service', 'at', 'a', 'time', 'when', 'tens', 'of', 'millions', 'of', 'parcels', 'have', 'just', 'been', 'shipped', 'all', 'over', 'the', 'country', 'for', 'the', 'holiday', 'season', '.', 'The', 'U.S', '.', 'Postal', 'Service', ',', 'which', 'runs', 'at', 'a', 'big', 'loss', ',', 'is', 'an', 'independent', 'agency', 'within', 'the', 'federal', 'government', 'and', 'does', 'not', 'receive', 'tax', 'dollars', 'for', 'operating', 'expenses', ',', 'according', 'to', 'its', 'website', '.', 'Package', 'delivery', 'has', 'become', 'an', 'increasingly', 'important', 'part', 'of', 'its', 'business', 'as', 'the', 'Internet', 'has', 'led', 'to', 'a', 'sharp', 'decline', 'in', 'the', 'amount', 'of', 'first-class', 'letters', '.', 'The', 'president', 'does', 'not', 'determine', 'postal', 'rates', '.', 'They', 'are', 'set', 'by', 'the', 'Postal', 'Regulatory', 'Commission', ',', 'an', 'independent', 'government', 'agency', 'with', 'commissioners', 'selected', 'by', 'the', 'president', 'from', 'both', 'political', 'parties', '.', 'That', 'panel', 'raised', 'prices', 'on', 'packages', 'by', 'almost', '2', 'percent', 'in', 'November', '.', 'Amazon', 'was', 'founded', 'by', 'Jeff', 'Bezos', ',', 'who', 'remains', 'the', 'chief', 'executive', 'officer', 'of', 'the', 'retail', 'company', 'and', 'is', 'the', 'richest', 'person', 'in', 'the', 'world', ',', 'according', 'to', 'Bloomberg', 'News', '.', 'Bezos', 'also', 'owns', 'The', 'Washington', 'Post', ',', 'a', 'newspaper', 'Trump', 'has', 'repeatedly', 'railed', 'against', 'in', 'his', 'criticisms', 'of', 'the', 'news', 'media', '.', 'In', 'tweets', 'over', 'the', 'past', 'year', ',', 'Trump', 'has', 'said', 'the', '“', 'Amazon', 'Washington', 'Post', '”', 'fabricated', 'stories', '.', 'He', 'has', 'said', 'Amazon', 'does', 'not', 'pay', 'sales', 'tax', ',', 'which', 'is', 'not', 'true', ',', 'and', 'so', 'hurts', 'other', 'retailers', ',', 'part', 'of', 'a', 'pattern', 'by', 'the', 'former', 'businessman', 'and', 'reality', 'television', 'host', 'of', 'periodically', 'turning', 'his', 'ire', 'on', 'big', 'American', 'companies', 'since', 'he', 'took', 'office', 'in', 'January', '.', 'Daniel', 'Ives', ',', 'a', 'research', 'analyst', 'at', 'GBH', 'Insights', ',', 'said', 'Trump', '’', 's', 'comment', 'could', 'be', 'taken', 'as', 'a', 'warning', 'to', 'the', 'retail', 'giant', '.', 'However', ',', 'he', 'said', 'he', 'was', 'not', 'concerned', 'for', 'Amazon', '.', '“', 'We', 'do', 'not', 'see', 'any', 'price', 'hikes', 'in', 'the', 'future', '.', 'However', ',', 'that', 'is', 'a', 'risk', 'that', 'Amazon', 'is', 'clearly', 'aware', 'of', 'and', '(', 'it', ')', 'is', 'building', 'out', 'its', 'distribution', '(', 'system', ')', 'aggressively', ',', '”', 'he', 'said', '.', 'Amazon', 'has', 'shown', 'interest', 'in', 'the', 'past', 'in', 'shifting', 'into', 'its', 'own', 'delivery', 'service', ',', 'including', 'testing', 'drones', 'for', 'deliveries', '.', 'In', '2015', ',', 'the', 'company', 'spent', '$', '11.5', 'billion', 'on', 'shipping', ',', '46', 'percent', 'of', 'its', 'total', 'operating', 'expenses', 'that', 'year', '.', 'Amazon', 'shares', 'were', 'down', '0.86', 'percent', 'to', '$', '1,175.90', 'by', 'early', 'afternoon', '.', 'Overall', ',', 'U.S.', 'stock', 'prices', 'were', 'down', 'slightly', 'on', 'Friday', '.', 'Satish', 'Jindel', ',', 'president', 'of', 'ShipMatrix', 'Inc', ',', 'which', 'analyzes', 'shipping', 'data', ',', 'disputed', 'the', 'idea', 'that', 'the', 'Postal', 'Service', 'charges', 'less', 'than', 'United', 'Parcel', 'Service', 'Inc', '(', 'UPS.N', ')', 'and', 'FedEx', 'Corp', '(', 'FDX.N', ')', ',', 'the', 'other', 'biggest', 'players', 'in', 'the', 'parcel', 'delivery', 'business', 'in', 'the', 'United', 'States', '.', 'Many', 'customers', 'get', 'lower', 'rates', 'from', 'UPS', 'and', 'FedEx', 'than', 'they', 'would', 'get', 'from', 'the', 'post', 'office', 'for', 'comparable', 'services', ',', 'he', 'said', '.', 'The', 'Postal', 'Service', 'delivers', 'about', '62', 'percent', 'of', 'Amazon', 'packages', ',', 'for', 'about', '3.5', 'to', '4', 'million', 'a', 'day', 'during', 'the', 'current', 'peak', 'year-end', 'holiday', 'shipping', 'season', ',', 'Jindel', 'said', '.', 'The', 'Seattle-based', 'company', 'and', 'the', 'post', 'office', 'have', 'an', 'agreement', 'in', 'which', 'mail', 'carriers', 'take', 'Amazon', 'packages', 'on', 'the', 'last', 'leg', 'of', 'their', 'journeys', ',', 'from', 'post', 'offices', 'to', 'customers', '’', 'doorsteps', '.', 'Amazon', '’', 's', 'No', '.', '2', 'carrier', 'is', 'UPS', ',', 'at', '21', 'percent', ',', 'and', 'FedEx', 'is', 'third', ',', 'with', '8', 'percent', 'or', 'so', ',', 'according', 'to', 'Jindel', '.', 'Trump', '’', 's', 'comment', 'tapped', 'into', 'a', 'debate', 'over', 'whether', 'Postal', 'Service', 'pricing', 'has', 'kept', 'pace', 'with', 'the', 'rise', 'of', 'e-commerce', ',', 'which', 'has', 'flooded', 'the', 'mail', 'with', 'small', 'packages.Private', 'companies', 'like', 'UPS', 'have', 'long', 'claimed', 'the', 'current', 'system', 'unfairly', 'undercuts', 'their', 'business', '.', 'Steve', 'Gaut', ',', 'a', 'spokesman', 'for', 'UPS', ',', 'noted', 'that', 'the', 'company', 'values', 'its', '“', 'productive', 'relationship', '”', 'with', 'the', 'postal', 'service', ',', 'but', 'that', 'it', 'has', 'filed', 'with', 'the', 'Postal', 'Regulatory', 'Commission', 'its', 'concerns', 'about', 'the', 'postal', 'service', '’', 's', 'methods', 'for', 'covering', 'costs', '.', 'Representatives', 'for', 'Amazon', ',', 'the', 'White', 'House', ',', 'the', 'U.S', '.', 'Postal', 'Service', 'and', 'FedEx', 'declined', 'comment', 'or', 'were', 'not', 'immediately', 'available', 'for', 'comment', 'on', 'Trump', '’', 's', 'tweet', '.', 'According', 'to', 'its', 'annual', 'report', ',', 'the', 'Postal', 'Service', 'lost', '$', '2.74', 'billion', 'this', 'year', ',', 'and', 'its', 'deficit', 'has', 'ballooned', 'to', '$', '61.86', 'billion', '.', 'While', 'the', 'Postal', 'Service', '’', 's', 'revenue', 'for', 'first', 'class', 'mail', ',', 'marketing', 'mail', 'and', 'periodicals', 'is', 'flat', 'or', 'declining', ',', 'revenue', 'from', 'package', 'delivery', 'is', 'up', '44', 'percent', 'since', '2014', 'to', '$', '19.5', 'billion', 'in', 'the', 'fiscal', 'year', 'ended', 'Sept.', '30', ',', '2017', '.', 'But', 'it', 'also', 'lost', 'about', '$', '2', 'billion', 'in', 'revenue', 'when', 'a', 'temporary', 'surcharge', 'expired', 'in', 'April', '2016', '.', 'According', 'to', 'a', 'Government', 'Accountability', 'Office', 'report', 'in', 'February', ',', 'the', 'service', 'is', 'facing', 'growing', 'personnel', 'expenses', ',', 'particularly', '$', '73.4', 'billion', 'in', 'unfunded', 'pension', 'and', 'benefits', 'liabilities', '.', 'The', 'Postal', 'Service', 'has', 'not', 'announced', 'any', 'plans', 'to', 'cut', 'costs', '.', 'By', 'law', ',', 'the', 'Postal', 'Service', 'has', 'to', 'set', 'prices', 'for', 'package', 'delivery', 'to', 'cover', 'the', 'costs', 'attributable', 'to', 'that', 'service', '.', 'But', 'the', 'postal', 'service', 'allocates', 'only', '5.5', 'percent', 'of', 'its', 'total', 'costs', 'to', 'its', 'business', 'of', 'shipping', 'packages', 'even', 'though', 'that', 'line', 'of', 'business', 'is', '28', 'percent', 'of', 'its', 'total', 'revenue', '.', 'politicsNews']",
         "['trump', 'wants', 'postal', 'service', 'charge', 'amazon', 'shipments', 'reuters', 'president', 'donald', 'trump', 'called', 'postal', 'service', 'friday', 'charge', 'much', 'ship', 'packages', 'amazon', 'picking', 'another', 'fight', 'online', 'retail', 'giant', 'criticized', 'past', 'united', 'states', 'post', 'office', 'losing', 'many', 'billions', 'dollars', 'year', 'charging', 'amazon', 'others', 'little', 'deliver', 'packages', 'making', 'amazon', 'richer', 'post', 'office', 'dumber', 'poorer', 'charging', 'much', 'trump', 'wrote', 'twitter', 'president', 'tweet', 'drew', 'fresh', 'attention', 'fragile', 'finances', 'postal', 'service', 'time', 'tens', 'millions', 'parcels', 'shipped', 'country', 'holiday', 'season', 'postal', 'service', 'runs', 'big', 'loss', 'independent', 'agency', 'within', 'federal', 'government', 'receive', 'tax', 'dollars', 'operating', 'expenses', 'according', 'website', 'package', 'delivery', 'become', 'increasingly', 'important', 'part', 'business', 'internet', 'led', 'sharp', 'decline', 'amount', 'letters', 'president', 'determine', 'postal', 'rates', 'set', 'postal', 'regulatory', 'commission', 'independent', 'government', 'agency', 'commissioners', 'selected', 'president', 'political', 'parties', 'panel', 'raised', 'prices', 'packages', 'almost', 'percent', 'november', 'amazon', 'founded', 'jeff', 'bezos', 'remains', 'chief', 'executive', 'officer', 'retail', 'company', 'richest', 'person', 'world', 'according', 'bloomberg', 'news', 'bezos', 'also', 'owns', 'washington', 'post', 'newspaper', 'trump', 'repeatedly', 'railed', 'criticisms', 'news', 'media', 'tweets', 'past', 'year', 'trump', 'said', 'amazon', 'washington', 'post', 'fabricated', 'stories', 'said', 'amazon', 'pay', 'sales', 'tax', 'true', 'hurts', 'retailers', 'part', 'pattern', 'former', 'businessman', 'reality', 'television', 'host', 'periodically', 'turning', 'ire', 'big', 'american', 'companies', 'since', 'took', 'office', 'january', 'daniel', 'ives', 'research', 'analyst', 'gbh', 'insights', 'said', 'trump', 'comment', 'could', 'taken', 'warning', 'retail', 'giant', 'however', 'said', 'concerned', 'amazon', 'see', 'price', 'hikes', 'future', 'however', 'risk', 'amazon', 'clearly', 'aware', 'building', 'distribution', 'system', 'aggressively', 'said', 'amazon', 'shown', 'interest', 'past', 'shifting', 'delivery', 'service', 'including', 'testing', 'drones', 'deliveries', 'company', 'spent', 'billion', 'shipping', 'percent', 'total', 'operating', 'expenses', 'year', 'amazon', 'shares', 'percent', 'early', 'afternoon', 'overall', 'stock', 'prices', 'slightly', 'friday', 'satish', 'jindel', 'president', 'shipmatrix', 'inc', 'analyzes', 'shipping', 'data', 'disputed', 'idea', 'postal', 'service', 'charges', 'less', 'united', 'parcel', 'service', 'inc', 'fedex', 'corp', 'biggest', 'players', 'parcel', 'delivery', 'business', 'united', 'states', 'many', 'customers', 'get', 'lower', 'rates', 'ups', 'fedex', 'would', 'get', 'post', 'office', 'comparable', 'services', 'said', 'postal', 'service', 'delivers', 'percent', 'amazon', 'packages', 'million', 'day', 'current', 'peak', 'holiday', 'shipping', 'season', 'jindel', 'said', 'company', 'post', 'office', 'agreement', 'mail', 'carriers', 'take', 'amazon', 'packages', 'last', 'leg', 'journeys', 'post', 'offices', 'customers', 'doorsteps', 'amazon', 'carrier', 'ups', 'percent', 'fedex', 'third', 'percent', 'according', 'jindel', 'trump', 'comment', 'tapped', 'debate', 'whether', 'postal', 'service', 'pricing', 'kept', 'pace', 'rise', 'flooded', 'mail', 'small', 'companies', 'like', 'ups', 'long', 'claimed', 'current', 'system', 'unfairly', 'undercuts', 'business', 'steve', 'gaut', 'spokesman', 'ups', 'noted', 'company', 'values', 'productive', 'relationship', 'postal', 'service', 'filed', 'postal', 'regulatory', 'commission', 'concerns', 'postal', 'service', 'methods', 'covering', 'costs', 'representatives', 'amazon', 'white', 'house', 'postal', 'service', 'fedex', 'declined', 'comment', 'immediately', 'available', 'comment', 'trump', 'tweet', 'according', 'annual', 'report', 'postal', 'service', 'lost', 'billion', 'year', 'deficit', 'ballooned', 'billion', 'postal', 'service', 'revenue', 'first', 'class', 'mail', 'marketing', 'mail', 'periodicals', 'flat', 'declining', 'revenue', 'package', 'delivery', 'percent', 'since', 'billion', 'fiscal', 'year', 'ended', 'also', 'lost', 'billion', 'revenue', 'temporary', 'surcharge', 'expired', 'april', 'according', 'government', 'accountability', 'office', 'report', 'february', 'service', 'facing', 'growing', 'personnel', 'expenses', 'particularly', 'billion', 'unfunded', 'pension', 'benefits', 'liabilities', 'postal', 'service', 'announced', 'plans', 'cut', 'costs', 'law', 'postal', 'service', 'set', 'prices', 'package', 'delivery', 'cover', 'costs', 'attributable', 'service', 'postal', 'service', 'allocates', 'percent', 'total', 'costs', 'business', 'shipping', 'packages', 'even', 'though', 'line', 'business', 'percent', 'total', 'revenue', 'politicsnews']",
         "['trump', 'want', 'postal', 'service', 'charge', 'amazon', 'shipment', 'reuters', 'president', 'donald', 'trump', 'call', 'postal', 'service', 'friday', 'charge', 'much', 'ship', 'package', 'amazon', 'pick', 'another', 'fight', 'online', 'retail', 'giant', 'criticize', 'past', 'united', 'state', 'post', 'office', 'lose', 'many', 'billion', 'dollar', 'year', 'charge', 'amazon', 'others', 'little', 'deliver', 'package', 'make', 'amazon', 'richer', 'post', 'office', 'dumber', 'poorer', 'charge', 'much', 'trump', 'write', 'twitter', 'president', 'tweet', 'drew', 'fresh', 'attention', 'fragile', 'finance', 'postal', 'service', 'time', 'ten', 'million', 'parcel', 'ship', 'country', 'holiday', 'season', 'postal', 'service', 'run', 'big', 'loss', 'independent', 'agency', 'within', 'federal', 'government', 'receive', 'tax', 'dollar', 'operating', 'expense', 'accord', 'website', 'package', 'delivery', 'become', 'increasingly', 'important', 'part', 'business', 'internet', 'lead', 'sharp', 'decline', 'amount', 'letter', 'president', 'determine', 'postal', 'rate', 'set', 'postal', 'regulatory', 'commission', 'independent', 'government', 'agency', 'commissioner', 'select', 'president', 'political', 'party', 'panel', 'raise', 'price', 'package', 'almost', 'percent', 'november', 'amazon', 'found', 'jeff', 'bezos', 'remains', 'chief', 'executive', 'officer', 'retail', 'company', 'richest', 'person', 'world', 'accord', 'bloomberg', 'news', 'bezos', 'also', 'own', 'washington', 'post', 'newspaper', 'trump', 'repeatedly', 'rail', 'criticism', 'news', 'medium', 'tweet', 'past', 'year', 'trump', 'say', 'amazon', 'washington', 'post', 'fabricate', 'story', 'say', 'amazon', 'pay', 'sale', 'tax', 'true', 'hurt', 'retailer', 'part', 'pattern', 'former', 'businessman', 'reality', 'television', 'host', 'periodically', 'turn', 'ire', 'big', 'american', 'company', 'since', 'take', 'office', 'january', 'daniel', 'ives', 'research', 'analyst', 'gbh', 'insight', 'say', 'trump', 'comment', 'could', 'take', 'warn', 'retail', 'giant', 'however', 'say', 'concerned', 'amazon', 'see', 'price', 'hike', 'future', 'however', 'risk', 'amazon', 'clearly', 'aware', 'building', 'distribution', 'system', 'aggressively', 'say', 'amazon', 'show', 'interest', 'past', 'shift', 'delivery', 'service', 'include', 'test', 'drone', 'delivery', 'company', 'spent', 'billion', 'shipping', 'percent', 'total', 'operating', 'expense', 'year', 'amazon', 'share', 'percent', 'early', 'afternoon', 'overall', 'stock', 'price', 'slightly', 'friday', 'satish', 'jindel', 'president', 'shipmatrix', 'inc', 'analyzes', 'shipping', 'data', 'dispute', 'idea', 'postal', 'service', 'charge', 'less', 'united', 'parcel', 'service', 'inc', 'fedex', 'corp', 'big', 'player', 'parcel', 'delivery', 'business', 'united', 'state', 'many', 'customer', 'get', 'low', 'rate', 'ups', 'fedex', 'would', 'get', 'post', 'office', 'comparable', 'service', 'say', 'postal', 'service', 'delivers', 'percent', 'amazon', 'package', 'million', 'day', 'current', 'peak', 'holiday', 'shipping', 'season', 'jindel', 'say', 'company', 'post', 'office', 'agreement', 'mail', 'carrier', 'take', 'amazon', 'package', 'last', 'leg', 'journey', 'post', 'office', 'customer', 'doorstep', 'amazon', 'carrier', 'ups', 'percent', 'fedex', 'third', 'percent', 'accord', 'jindel', 'trump', 'comment', 'tapped', 'debate', 'whether', 'postal', 'service', 'pricing', 'kept', 'pace', 'rise', 'flood', 'mail', 'small', 'company', 'like', 'ups', 'long', 'claimed', 'current', 'system', 'unfairly', 'undercut', 'business', 'steve', 'gaut', 'spokesman', 'ups', 'note', 'company', 'value', 'productive', 'relationship', 'postal', 'service', 'file', 'postal', 'regulatory', 'commission', 'concern', 'postal', 'service', 'method', 'cover', 'cost', 'representative', 'amazon', 'white', 'house', 'postal', 'service', 'fedex', 'decline', 'comment', 'immediately', 'available', 'comment', 'trump', 'tweet', 'accord', 'annual', 'report', 'postal', 'service', 'lose', 'billion', 'year', 'deficit', 'balloon', 'billion', 'postal', 'service', 'revenue', 'first', 'class', 'mail', 'marketing', 'mail', 'periodical', 'flat', 'decline', 'revenue', 'package', 'delivery', 'percent', 'since', 'billion', 'fiscal', 'year', 'end', 'also', 'lose', 'billion', 'revenue', 'temporary', 'surcharge', 'expire', 'april', 'accord', 'government', 'accountability', 'office', 'report', 'february', 'service', 'face', 'grow', 'personnel', 'expense', 'particularly', 'billion', 'unfunded', 'pension', 'benefit', 'liability', 'postal', 'service', 'announce', 'plan', 'cut', 'cost', 'law', 'postal', 'service', 'set', 'price', 'package', 'delivery', 'cover', 'cost', 'attributable', 'service', 'postal', 'service', 'allocates', 'percent', 'total', 'cost', 'business', 'shipping', 'package', 'even', 'though', 'line', 'business', 'percent', 'total', 'revenue', 'politicsnews']"
        ]
       ],
       "shape": {
        "columns": 4,
        "rows": 5
       }
      },
      "text/html": [
       "<div>\n",
       "<style scoped>\n",
       "    .dataframe tbody tr th:only-of-type {\n",
       "        vertical-align: middle;\n",
       "    }\n",
       "\n",
       "    .dataframe tbody tr th {\n",
       "        vertical-align: top;\n",
       "    }\n",
       "\n",
       "    .dataframe thead th {\n",
       "        text-align: right;\n",
       "    }\n",
       "</style>\n",
       "<table border=\"1\" class=\"dataframe\">\n",
       "  <thead>\n",
       "    <tr style=\"text-align: right;\">\n",
       "      <th></th>\n",
       "      <th>combined_text</th>\n",
       "      <th>tokenized_text</th>\n",
       "      <th>cleaned_text</th>\n",
       "      <th>lemmatized_text</th>\n",
       "    </tr>\n",
       "  </thead>\n",
       "  <tbody>\n",
       "    <tr>\n",
       "      <th>0</th>\n",
       "      <td>As U.S. budget fight looms, Republicans flip t...</td>\n",
       "      <td>[As, U.S., budget, fight, looms, ,, Republican...</td>\n",
       "      <td>[budget, fight, looms, republicans, flip, fisc...</td>\n",
       "      <td>[budget, fight, loom, republican, flip, fiscal...</td>\n",
       "    </tr>\n",
       "    <tr>\n",
       "      <th>1</th>\n",
       "      <td>U.S. military to accept transgender recruits o...</td>\n",
       "      <td>[U.S., military, to, accept, transgender, recr...</td>\n",
       "      <td>[military, accept, transgender, recruits, mond...</td>\n",
       "      <td>[military, accept, transgender, recruit, monda...</td>\n",
       "    </tr>\n",
       "    <tr>\n",
       "      <th>2</th>\n",
       "      <td>Senior U.S. Republican senator: 'Let Mr. Muell...</td>\n",
       "      <td>[Senior, U.S., Republican, senator, :, 'Let, M...</td>\n",
       "      <td>[senior, republican, senator, mueller, job, wa...</td>\n",
       "      <td>[senior, republican, senator, mueller, job, wa...</td>\n",
       "    </tr>\n",
       "    <tr>\n",
       "      <th>3</th>\n",
       "      <td>FBI Russia probe helped by Australian diplomat...</td>\n",
       "      <td>[FBI, Russia, probe, helped, by, Australian, d...</td>\n",
       "      <td>[fbi, russia, probe, helped, australian, diplo...</td>\n",
       "      <td>[fbi, russia, probe, help, australian, diploma...</td>\n",
       "    </tr>\n",
       "    <tr>\n",
       "      <th>4</th>\n",
       "      <td>Trump wants Postal Service to charge 'much mor...</td>\n",
       "      <td>[Trump, wants, Postal, Service, to, charge, 'm...</td>\n",
       "      <td>[trump, wants, postal, service, charge, amazon...</td>\n",
       "      <td>[trump, want, postal, service, charge, amazon,...</td>\n",
       "    </tr>\n",
       "  </tbody>\n",
       "</table>\n",
       "</div>"
      ],
      "text/plain": [
       "                                       combined_text  \\\n",
       "0  As U.S. budget fight looms, Republicans flip t...   \n",
       "1  U.S. military to accept transgender recruits o...   \n",
       "2  Senior U.S. Republican senator: 'Let Mr. Muell...   \n",
       "3  FBI Russia probe helped by Australian diplomat...   \n",
       "4  Trump wants Postal Service to charge 'much mor...   \n",
       "\n",
       "                                      tokenized_text  \\\n",
       "0  [As, U.S., budget, fight, looms, ,, Republican...   \n",
       "1  [U.S., military, to, accept, transgender, recr...   \n",
       "2  [Senior, U.S., Republican, senator, :, 'Let, M...   \n",
       "3  [FBI, Russia, probe, helped, by, Australian, d...   \n",
       "4  [Trump, wants, Postal, Service, to, charge, 'm...   \n",
       "\n",
       "                                        cleaned_text  \\\n",
       "0  [budget, fight, looms, republicans, flip, fisc...   \n",
       "1  [military, accept, transgender, recruits, mond...   \n",
       "2  [senior, republican, senator, mueller, job, wa...   \n",
       "3  [fbi, russia, probe, helped, australian, diplo...   \n",
       "4  [trump, wants, postal, service, charge, amazon...   \n",
       "\n",
       "                                     lemmatized_text  \n",
       "0  [budget, fight, loom, republican, flip, fiscal...  \n",
       "1  [military, accept, transgender, recruit, monda...  \n",
       "2  [senior, republican, senator, mueller, job, wa...  \n",
       "3  [fbi, russia, probe, help, australian, diploma...  \n",
       "4  [trump, want, postal, service, charge, amazon,...  "
      ]
     },
     "execution_count": 21,
     "metadata": {},
     "output_type": "execute_result"
    }
   ],
   "source": [
    "df.head()"
   ]
  },
  {
   "cell_type": "markdown",
   "id": "c1987e8b",
   "metadata": {},
   "source": [
    "# 4. Text representation (aka. vectorization)"
   ]
  },
  {
   "cell_type": "markdown",
   "id": "3be0732d",
   "metadata": {},
   "source": [
    "## 4.1 TF-IDF\n",
    "\n",
    "We will use the TF-IDF (Term Frequency-Inverse Document Frequency) method to convert the text data into numerical vectors. This method helps in representing the importance of each word in the document relative to the entire corpus."
   ]
  },
  {
   "cell_type": "code",
   "execution_count": 22,
   "id": "2c03c1fe",
   "metadata": {},
   "outputs": [
    {
     "name": "stderr",
     "output_type": "stream",
     "text": [
      "/Users/joachimjasmin/.pyenv/versions/3.12.10/lib/python3.12/site-packages/sklearn/feature_extraction/text.py:533: UserWarning: The parameter 'ngram_range' will not be used since 'analyzer' is callable'\n",
      "  warnings.warn(\n"
     ]
    }
   ],
   "source": [
    "from sklearn.feature_extraction.text import TfidfVectorizer\n",
    "\n",
    "def identity(x):\n",
    "    return x\n",
    "\n",
    "# We create a TfidfVectorizer. No need for the stop words since we already removed them.\n",
    "tfidf_vectorizer = TfidfVectorizer(\n",
    "    analyzer=identity,\n",
    "    min_df=0.01,\n",
    "    max_df=0.9,\n",
    "    ngram_range=(1, 3), # we use trigrams because we have a lot of words\n",
    ")\n",
    "\n",
    "# We fit the vectorizer to the column lemmatized_text\n",
    "tfidf_matrix = tfidf_vectorizer.fit_transform(df[\"lemmatized_text\"])\n",
    "\n",
    "# We create a DataFrame with the tfidf_matrix and the columns of the vectorizer\n",
    "tfidf_df = pd.DataFrame(tfidf_matrix.toarray(), columns=tfidf_vectorizer.get_feature_names_out())"
   ]
  },
  {
   "cell_type": "code",
   "execution_count": 23,
   "id": "b76d8280",
   "metadata": {},
   "outputs": [
    {
     "name": "stdout",
     "output_type": "stream",
     "text": [
      "Final dictionary => 2485 words\n"
     ]
    }
   ],
   "source": [
    "print(\"Final dictionary =>\", len(tfidf_vectorizer.vocabulary_), \"words\")"
   ]
  },
  {
   "cell_type": "code",
   "execution_count": 24,
   "id": "795ed9c7",
   "metadata": {},
   "outputs": [
    {
     "name": "stdout",
     "output_type": "stream",
     "text": [
      "Dictionary => {'budget': 292, 'fight': 871, 'republican': 1863, 'fiscal': 889, 'washington': 2408, 'reuters': 1894, 'head': 1024, 'conservative': 475, 'congress': 469, 'vote': 2391, 'month': 1418, 'huge': 1074, 'expansion': 813, 'national': 1445, 'debt': 583, 'pay': 1592, 'tax': 2207, 'cut': 559, 'call': 309, 'sunday': 2170, 'urge': 2355, 'keep': 1217, 'sharp': 2020, 'way': 2414, 'among': 103, 'representative': 1861, 'mark': 1343, 'speak': 2081, 'cbs': 340, 'face': 833, 'nation': 1444, 'drew': 698, 'hard': 1017, 'line': 1294, 'federal': 860, 'spending': 2090, 'lawmaker': 1254, 'battle': 211, 'january': 1186, 'return': 1893, 'holiday': 1053, 'wednesday': 2422, 'begin': 218, 'try': 2316, 'pas': 1583, 'likely': 1291, 'link': 1295, 'issue': 1181, 'immigration': 1096, 'policy': 1644, 'even': 789, 'november': 1489, 'congressional': 470, 'election': 728, 'campaign': 313, 'approach': 137, 'seek': 1982, 'control': 495, 'president': 1682, 'donald': 684, 'trump': 2313, 'want': 2402, 'big': 235, 'increase': 1111, 'military': 1393, 'democrat': 607, 'also': 93, 'program': 1715, 'support': 2173, 'education': 719, 'research': 1869, 'infrastructure': 1126, 'public': 1744, 'health': 1027, 'environmental': 768, 'protection': 1735, 'administration': 35, 'already': 92, 'willing': 2443, 'say': 1949, 'go': 971, 'percent': 1605, 'chairman': 352, 'small': 2054, 'influential': 1123, 'house': 1071, 'freedom': 930, 'caucus': 337, 'enough': 760, 'need': 1459, 'give': 969, 'government': 982, 'raise': 1773, 'see': 1981, 'eventually': 791, 'run': 1931, 'people': 1603, 'money': 1416, 'late': 1248, 'december': 585, 'party': 1582, 'overhaul': 1553, 'expect': 814, 'deficit': 597, 'add': 31, 'trillion': 2306, 'year': 2473, 'interest': 1149, 'hear': 1029, 'talk': 2202, 'responsibility': 1883, 'democratic': 608, 'joseph': 1206, 'bill': 238, 'would': 2464, 'require': 1866, 'united': 2343, 'state': 2114, 'paid': 1564, 'future': 947, 'generation': 960, 'finance': 880, 'corporation': 512, 'rich': 1903, 'one': 1519, 'least': 1265, 'responsible': 1884, 'ever': 792, 'pass': 1584, 'history': 1050, 'think': 2242, 'many': 1338, 'come': 426, 'insist': 1136, 'package': 1561, 'boost': 259, 'economy': 716, 'job': 1198, 'growth': 995, 'speaker': 2082, 'paul': 1591, 'ryan': 1935, 'recently': 1803, 'make': 1329, 'clear': 401, 'radio': 1771, 'interview': 1157, 'welfare': 2427, 'reform': 1815, 'often': 1512, 'top': 2272, 'priority': 1697, 'mean': 1361, 'food': 907, 'housing': 1072, 'assistance': 165, 'medicaid': 1367, 'insurance': 1143, 'poor': 1653, 'well': 2428, 'create': 534, 'seize': 1985, 'early': 707, 'remark': 1844, 'show': 2030, 'social': 2056, 'goal': 972, 'may': 1356, 'take': 2201, 'back': 191, 'seat': 1973, 'senate': 1988, 'approve': 140, 'prevent': 1689, 'use': 2358, 'defend': 595, 'tackle': 2199, 'brought': 288, 'illegally': 1089, 'country': 523, 'child': 371, 'september': 1998, 'put': 1754, 'march': 1339, 'date': 571, 'action': 22, 'arrival': 152, 'young': 2480, 'immigrant': 1095, 'deportation': 618, 'provide': 1741, 'work': 2457, 'permit': 1614, 'recent': 1802, 'twitter': 2324, 'message': 1379, 'funding': 945, 'propose': 1729, 'mexican': 1381, 'border': 260, 'wall': 2401, 'law': 1253, 'change': 359, 'exchange': 805, 'agree': 65, 'help': 1038, 'told': 2267, 'favor': 853, 'clean': 400, 'aide': 69, 'meet': 1370, 'leader': 1259, 'discus': 661, 'follow': 905, 'weekend': 2424, 'strategy': 2137, 'session': 2006, 'white': 2434, 'schedule': 1955, 'florida': 899, 'governor': 983, 'rick': 1905, 'scott': 1962, 'emergency': 741, 'aid': 68, 'billion': 239, 'hurricane': 1080, 'texas': 2234, 'california': 308, 'far': 850, 'request': 1865, 'yet': 2478, 'politicsnews': 1650, 'accept': 10, 'transgender': 2294, 'monday': 1415, 'pentagon': 1602, 'allow': 85, 'first': 888, 'time': 2262, 'start': 2113, 'order': 1536, 'court': 528, 'friday': 934, 'decide': 586, 'appeal': 130, 'ruling': 1930, 'block': 248, 'ban': 200, 'two': 2325, 'virginia': 2384, 'last': 1247, 'week': 2423, 'reject': 1831, 'hold': 1052, 'low': 1318, 'judge': 1210, 'justice': 1215, 'department': 614, 'official': 1510, 'challenge': 353, 'defense': 596, 'announce': 113, 'release': 1836, 'independent': 1116, 'study': 2150, 'rather': 1783, 'wait': 2398, 'continue': 489, 'authority': 182, 'district': 671, 'condition': 460, 'anonymity': 116, 'panel': 1567, 'senior': 1991, 'implement': 1098, 'prohibit': 1718, 'individual': 1120, 'serve': 2003, 'submit': 2156, 'plan': 1629, 'lawyer': 1256, 'represent': 1860, 'service': 2005, 'member': 1373, 'supreme': 2177, 'hop': 1059, 'happen': 1013, 'spokeswoman': 2098, 'statement': 2115, 'mandate': 1335, 'prepared': 1677, 'access': 12, 'must': 1438, 'gay': 955, 'advocacy': 46, 'group': 992, 'decision': 587, 'great': 989, 'good': 977, 'american': 101, 'civil': 392, 'liberty': 1283, 'union': 2341, 'lawsuit': 1255, 'file': 874, 'move': 1428, 'supporter': 2174, 'july': 1213, 'reverse': 1898, 'barack': 205, 'obama': 1493, 'burden': 298, 'medical': 1368, 'cost': 516, 'four': 923, 'legal': 1271, 'proceed': 1704, 'violate': 2380, 'right': 1909, 'constitution': 480, 'equal': 769, 'personnel': 1618, 'memo': 1374, 'outline': 1547, 'requirement': 1867, 'sex': 2013, 'identify': 1084, 'wear': 2420, 'previously': 1691, 'paper': 1568, 'arm': 148, 'force': 910, 'train': 2291, 'thousand': 2247, 'standard': 2111, 'process': 1705, 'might': 1387, 'fit': 890, 'set': 2007, 'deadline': 578, 'secretary': 1976, 'james': 1185, 'mattis': 1355, 'step': 2121, 'aim': 70, 'roll': 1920, 'october': 1502, 'discrimination': 660, 'protect': 1734, 'employee': 744, 'another': 117, 'position': 1659, 'february': 858, 'school': 1957, 'student': 2149, 'gender': 956, 'identity': 1085, 'senator': 1989, 'mueller': 1434, 'special': 2084, 'counsel': 519, 'investigation': 1162, 'russia': 1933, 'without': 2452, 'interference': 1152, 'despite': 626, 'ally': 87, 'shut': 2031, 'prominent': 1720, 'graham': 986, 'serf': 1999, 'judiciary': 1212, 'committee': 437, 'robert': 1917, 'carry': 331, 'political': 1645, 'forward': 918, 'conduct': 461, 'influence': 1122, 'news': 1472, 'let': 1278, 'guy': 1003, 'question': 1760, 'interfere': 1151, 'effort': 723, 'since': 2043, 'office': 1508, 'sign': 2034, 'second': 1974, 'power': 1669, 'rhetoric': 1902, 'accuse': 17, 'team': 2211, 'bias': 233, 'seem': 1983, 'new': 1470, 'york': 2479, 'role': 1919, 'possible': 1662, 'focus': 903, 'multiple': 1435, 'inquiry': 1133, 'three': 2251, 'investigate': 1161, 'whose': 2436, 'earlier': 706, 'probe': 1701, 'launch': 1252, 'bureau': 299, 'fbi': 855, 'several': 2011, 'convict': 500, 'deny': 613, 'collusion': 422, 'kremlin': 1235, 'meddling': 1366, 'still': 2126, 'former': 916, 'british': 281, 'spy': 2103, 'prompt': 1724, 'saturday': 1945, 'report': 1856, 'trigger': 2305, 'foreign': 911, 'adviser': 44, 'george': 961, 'diplomat': 648, 'damage': 563, 'information': 1125, 'rival': 1914, 'hillary': 1046, 'clinton': 405, 'somebody': 2062, 'look': 1312, 'matter': 1354, 'fact': 836, 'hurt': 1081, 'u': 2328, 'ignore': 1087, 'presidential': 1683, 'candidate': 319, 'conversation': 499, 'london': 1308, 'drive': 699, 'factor': 838, 'behind': 221, 'open': 1523, 'moscow': 1422, 'contact': 485, 'meeting': 1371, 'counterpart': 522, 'leak': 1263, 'email': 736, 'appear': 131, 'online': 1521, 'accord': 13, 'newspaper': 1473, 'cite': 388, 'current': 554, 'intelligence': 1145, 'include': 1109, 'international': 1155, 'energy': 754, 'plead': 1637, 'guilty': 1000, 'lie': 1286, 'agent': 62, 'claimed': 395, 'tie': 2259, 'russian': 1934, 'criminal': 539, 'charge': 364, 'allege': 82, 'played': 1635, 'extremely': 829, 'limited': 1293, 'however': 1073, 'edit': 717, 'major': 1327, 'speech': 2087, 'april': 141, 'lead': 1258, 'almost': 88, 'ago': 64, 'immediately': 1094, 'respond': 1881, 'comment': 430, 'decline': 590, 'attorney': 177, 'respect': 1880, 'associate': 167, 'much': 1433, 'ship': 2023, 'pick': 1624, 'giant': 967, 'criticize': 544, 'past': 1587, 'post': 1664, 'lose': 1314, 'dollar': 681, 'others': 1542, 'little': 1299, 'deliver': 604, 'write': 2467, 'tweet': 2322, 'fresh': 933, 'attention': 175, 'ten': 2221, 'million': 1395, 'season': 1972, 'loss': 1315, 'agency': 60, 'within': 2451, 'receive': 1801, 'operating': 1527, 'expense': 815, 'website': 2421, 'become': 216, 'increasingly': 1112, 'important': 1101, 'part': 1575, 'business': 302, 'internet': 1156, 'amount': 104, 'letter': 1279, 'determine': 634, 'rate': 1782, 'regulatory': 1829, 'commission': 433, 'commissioner': 434, 'select': 1986, 'price': 1692, 'found': 920, 'jeff': 1191, 'remains': 1843, 'chief': 370, 'executive': 808, 'officer': 1509, 'company': 442, 'person': 1615, 'world': 2459, 'own': 1558, 'repeatedly': 1852, 'criticism': 543, 'medium': 1369, 'story': 2132, 'sale': 1939, 'true': 2311, 'businessman': 303, 'reality': 1794, 'television': 2217, 'host': 1066, 'turn': 2320, 'analyst': 106, 'could': 517, 'warn': 2405, 'concerned': 456, 'risk': 1913, 'clearly': 402, 'aware': 188, 'building': 294, 'system': 2197, 'shift': 2022, 'test': 2231, 'spent': 2091, 'total': 2275, 'share': 2019, 'afternoon': 58, 'overall': 1552, 'stock': 2127, 'inc': 1107, 'data': 570, 'dispute': 668, 'idea': 1083, 'less': 1277, 'corp': 510, 'player': 1636, 'customer': 558, 'get': 965, 'day': 574, 'agreement': 66, 'mail': 1322, 'third': 2243, 'debate': 582, 'whether': 2432, 'kept': 1219, 'rise': 1912, 'flood': 897, 'like': 1290, 'long': 1309, 'steve': 2123, 'spokesman': 2096, 'note': 1486, 'value': 2362, 'relationship': 1834, 'concern': 455, 'cover': 529, 'available': 184, 'annual': 115, 'revenue': 1897, 'class': 398, 'end': 750, 'temporary': 2220, 'grow': 993, 'particularly': 1578, 'benefit': 226, 'though': 2245, 'prepare': 1676, 'west': 2429, 'beach': 212, 'kick': 1222, 'next': 1474, 'legislative': 1274, 'activity': 25, 'stage': 2107, 'maintain': 1326, 'opening': 1524, 'away': 189, 'affair': 48, 'director': 653, 'short': 2026, 'majority': 1328, 'mitch': 1407, 'mcconnell': 1360, 'chuck': 382, 'schumer': 1958, 'nancy': 1441, 'pelosi': 1596, 'camp': 312, 'david': 573, 'christmas': 381, 'break': 271, 'various': 2363, 'domestic': 682, 'agenda': 61, 'disaster': 656, 'hit': 1051, 'ask': 159, 'figure': 873, 'adult': 38, 'enter': 762, 'know': 1231, 'effective': 721, 'solution': 2060, 'number': 1491, 'large': 1245, 'push': 1753, 'broader': 284, 'tougher': 2279, 'security': 1980, 'oppose': 1532, 'promise': 1721, 'along': 90, 'fully': 940, 'understand': 2338, 'southern': 2076, 'horrible': 1063, 'chain': 350, 'migration': 1389, 'ridiculous': 1907, 'rule': 1929, 'extend': 825, 'family': 847, 'live': 1300, 'critic': 541, 'fix': 892, 'stop': 2129, 'address': 34, 'potus': 1667, 'kid': 1223, 'avoid': 186, 'treasury': 2299, 'option': 1535, 'cash': 333, 'victory': 2374, 'passage': 1585, 'fair': 841, 'unclear': 2335, 'thursday': 2256, 'believe': 224, 'treat': 2300, 'conclusion': 458, 'defeat': 594, 'hack': 1004, 'embarrass': 737, 'propaganda': 1726, 'described': 621, 'golf': 975, 'club': 410, 'deputy': 619, 'general': 957, 'quickly': 1762, 'possibly': 1663, 'tell': 2218, 'thought': 2246, 'bad': 195, 'core': 509, 'do': 677, 'really': 1796, 'base': 206, 'strong': 2144, 'rare': 1781, 'aside': 158, 'mainly': 1324, 'profile': 1713, 'apart': 126, 'georgia': 962, 'legislation': 1273, 'cap': 320, 'dinner': 646, 'commerce': 431, 'trade': 2286, 'road': 1916, 'spoke': 2094, 'chinese': 373, 'practice': 1671, 'hope': 1060, 'beijing': 222, 'pressure': 1685, 'north': 1484, 'korea': 1233, 'nuclear': 1490, 'missile': 1404, 'disappointed': 655, 'result': 1890, 'complain': 445, 'free': 929, 'attempt': 173, 'mexico': 1382, 'canada': 315, 'canadian': 316, 'prime': 1694, 'minister': 1398, 'justin': 1216, 'importance': 1100, 'oil': 1515, 'export': 822, 'balance': 197, 'deal': 580, 'pretty': 1688, 'factbox': 837, 'approval': 139, 'rating': 1784, 'verify': 2366, 'account': 14, 'realdonaldtrump': 1793, 'opinion': 1529, 'express': 824, 'confirm': 465, 'fake': 843, 'love': 1317, 'massive': 1351, 'negative': 1460, 'coverage': 530, 'source': 2073, 'global': 970, 'warm': 2404, 'together': 2266, 'america': 100, 'east': 711, 'record': 1807, 'perhaps': 1611, 'bit': 243, 'old': 1518, 'alabama': 75, 'jones': 1205, 'today': 2265, 'cnn': 411, 'john': 1200, 'winner': 2447, 'opponent': 1530, 'moore': 1419, 'phone': 1621, 'allegation': 81, 'girl': 968, 'outcome': 1545, 'race': 1766, 'accusation': 16, 'sexual': 2014, 'percentage': 1606, 'point': 1642, 'quarter': 1759, 'century': 345, 'win': 2444, 'held': 1036, 'board': 252, 'narrow': 1443, 'pledge': 1639, 'stood': 2128, 'claim': 394, 'regret': 1825, 'outlet': 1546, 'shortly': 2027, 'met': 1380, 'potential': 1665, 'voter': 2392, 'fraud': 928, 'chance': 357, 'filing': 875, 'circuit': 386, 'sought': 2071, 'halt': 1007, 'addition': 32, 'fox': 925, 'channel': 360, 'complete': 447, 'period': 1612, 'intention': 1148, 'regard': 1819, 'case': 332, 'distance': 670, 'drop': 702, 'woman': 2454, 'assault': 161, 'wrongdoing': 2470, 'able': 4, 'independently': 1117, 'code': 416, 'target': 2205, 'unconstitutional': 2336, 'andrew': 107, 'resident': 1871, 'due': 704, 'sweep': 2191, 'local': 1304, 'income': 1110, 'property': 1727, 'provision': 1743, 'taxpayer': 2208, 'high': 1041, 'jersey': 1192, 'generally': 958, 'sure': 2178, 'legally': 1272, 'constitutional': 481, 'something': 2065, 'suggest': 2163, 'politics': 1649, 'fifth': 870, 'amendment': 99, 'life': 1287, 'guarantee': 996, 'brown': 289, 'limit': 1292, 'professor': 1712, 'rest': 1885, 'argue': 145, 'argument': 146, 'place': 1628, 'heavily': 1034, 'blue': 251, 'de': 576, 'effect': 720, 'firm': 887, 'expert': 818, 'broad': 282, 'frequently': 932, 'indiana': 1118, 'university': 2345, 'detail': 630, 'publish': 1746, 'suggestion': 2164, 'onto': 1522, 'form': 913, 'entity': 765, 'specifically': 2086, 'portion': 1657, 'full': 939, 'payment': 1593, 'wave': 2413, 'internal': 1154, 'advise': 43, 'apologize': 127, 'crooked': 545, 'iraq': 1172, 'syria': 2195, 'estimate': 782, 'isi': 1174, 'fighter': 872, 'mile': 1391, 'territory': 2227, 'remain': 1842, 'occupy': 1500, 'roughly': 1925, 'via': 2371, 'left': 1268, 'fire': 886, 'rescue': 1868, 'men': 1375, 'amaze': 97, 'arrest': 151, 'man': 1331, 'protest': 1736, 'paragraph': 1569, 'name': 1440, 'employer': 745, 'bernie': 229, 'los': 1313, 'angeles': 109, 'home': 1055, 'steven': 2124, 'county': 524, 'telephone': 2216, 'outside': 1550, 'air': 71, 'community': 441, 'nbc': 1454, 'affiliate': 51, 'neighbor': 1464, 'funny': 946, 'eye': 831, 'angry': 111, 'neither': 1466, 'secret': 1975, 'police': 1643, 'incident': 1108, 'interviewed': 1158, 'admit': 36, 'present': 1679, 'danger': 566, 'illegal': 1088, 'bomb': 255, 'photo': 1622, 'card': 327, 'wish': 2449, 'six': 2049, 'night': 1476, 'behavior': 220, 'reach': 1785, 'draw': 694, 'settle': 2008, 'tuesday': 2317, 'mount': 1426, 'originally': 1541, 'single': 2044, 'delegate': 602, 'split': 2093, 'emerge': 740, 'ballot': 199, 'count': 520, 'final': 878, 'image': 1091, 'fill': 876, 'slash': 2052, 'reporter': 1858, 'contest': 488, 'integrity': 1144, 'whole': 2435, 'consider': 476, 'resolve': 1877, 'review': 1899, 'act': 21, 'historic': 1049, 'gain': 948, 'tower': 2283, 'owner': 1559, 'investigator': 1163, 'organize': 1538, 'son': 2067, 'familiar': 846, 'involve': 1167, 'denies': 611, 'close': 407, 'door': 688, 'citizen': 389, 'born': 261, 'republic': 1862, 'real': 1792, 'estate': 781, 'knew': 1230, 'june': 1214, 'interested': 1150, 'learn': 1264, 'attend': 174, 'private': 1699, 'la': 1237, 'celebrate': 341, 'miss': 1403, 'extent': 826, 'client': 403, 'jared': 1189, 'witness': 2453, 'table': 2198, 'stand': 2110, 'picture': 1626, 'billionaire': 240, 'award': 187, 'honor': 1058, 'vladimir': 2389, 'putin': 1755, 'evidence': 798, 'later': 1249, 'steal': 2119, 'organization': 1537, 'discussion': 663, 'lift': 1288, 'economic': 715, 'sanction': 1941, 'ahead': 67, 'bring': 279, 'donation': 686, 'charity': 365, 'initially': 1128, 'ultimately': 2331, 'never': 1469, 'although': 95, 'conference': 462, 'room': 1923, 'unfair': 2339, 'essentially': 778, 'repeal': 1850, 'obamacare': 1494, 'develop': 636, 'healthcare': 1028, 'wow': 2466, 'dnc': 676, 'fund': 943, 'basis': 210, 'market': 1345, 'success': 2158, 'center': 343, 'watchdog': 2411, 'collect': 420, 'assessment': 163, 'gathering': 954, 'personal': 1616, 'intend': 1146, 'govern': 981, 'vice': 2372, 'mike': 1390, 'penny': 1601, 'body': 254, 'lack': 1240, 'hand': 1010, 'oversee': 1555, 'popular': 1654, 'chair': 351, 'advocate': 47, 'birth': 242, 'conviction': 501, 'voting': 2393, 'refuse': 1818, 'finding': 883, 'measure': 1365, 'harder': 1018, 'cast': 334, 'sent': 1994, 'neighborhood': 1465, 'suspect': 2189, 'instead': 1139, 'inside': 1135, 'footage': 909, 'discover': 659, 'hollywood': 1054, 'film': 877, 'hour': 1070, 'tv': 2321, 'station': 2116, 'refugee': 1816, 'restriction': 1889, 'travel': 2298, 'judicial': 1211, 'curb': 552, 'contribute': 493, 'procedure': 1703, 'grant': 988, 'branch': 268, 'effectively': 722, 'mostly': 1423, 'middle': 1386, 'africa': 56, 'pending': 1598, 'subject': 2155, 'egypt': 724, 'iran': 1170, 'libya': 1284, 'south': 2074, 'yemen': 2475, 'connection': 473, 'screen': 1965, 'homeland': 1056, 'praise': 1672, 'relief': 1838, 'situation': 2048, 'project': 1719, 'currently': 555, 'appoint': 135, 'bush': 301, 'relative': 1835, 'version': 2368, 'apply': 134, 'exclusive': 806, 'remove': 1848, 'cross': 546, 'alone': 89, 'contain': 486, 'document': 679, 'word': 2456, 'age': 59, 'instance': 1138, 'update': 2352, 'worry': 2462, 'appearance': 132, 'difficult': 645, 'tone': 2269, 'enforcement': 756, 'key': 1221, 'entry': 766, 'vulnerable': 2396, 'eliminate': 731, 'section': 1977, 'advance': 39, 'hearing': 1031, 'sit': 2046, 'location': 1306, 'especially': 777, 'resource': 1879, 'treatment': 2301, 'alien': 79, 'status': 2117, 'qualify': 1757, 'abuse': 9, 'language': 1244, 'previous': 1690, 'association': 168, 'feel': 863, 'toward': 2281, 'level': 1280, 'handle': 1011, 'surge': 2180, 'central': 344, 'violence': 2382, 'region': 1822, 'cause': 339, 'flee': 894, 'fell': 864, 'custom': 557, 'either': 726, 'exploit': 821, 'gang': 950, 'innocent': 1132, 'serious': 2001, 'kind': 1226, 'shot': 2028, 'complicate': 450, 'truth': 2315, 'testify': 2232, 'compromise': 453, 'prosecutor': 1732, 'leaf': 1261, 'range': 1776, 'book': 258, 'heard': 1030, 'separate': 1997, 'detain': 632, 'transport': 2296, 'coast': 415, 'struggle': 2148, 'enact': 748, 'conclude': 457, 'terrorism': 2229, 'challenged': 354, 'certain': 348, 'chaos': 362, 'airport': 73, 'mass': 1349, 'replace': 1853, 'visa': 2385, 'purpose': 1751, 'safe': 1937, 'bid': 234, 'around': 150, 'succeed': 2157, 'trial': 2304, 'fourth': 924, 'similar': 2040, 'suffer': 2162, 'harm': 1019, 'nothing': 1487, 'simply': 2042, 'ready': 1790, 'august': 180, 'openly': 1525, 'join': 1202, 'authorize': 183, 'fail': 839, 'oust': 1544, 'shake': 2016, 'surprise': 2181, 'opposition': 1534, 'broke': 285, 'rank': 1777, 'divide': 673, 'strengthen': 2140, 'unable': 2333, 'save': 1947, 'threaten': 2249, 'potentially': 1666, 'restore': 1887, 'stability': 2104, 'revive': 1900, 'investment': 1164, 'struck': 2146, 'rebel': 1799, 'father': 852, 'prison': 1698, 'sister': 2045, 'leadership': 1260, 'movement': 1429, 'threw': 2252, 'nine': 1477, 'formal': 914, 'everything': 796, 'negotiation': 1462, 'spend': 2089, 'reflect': 1814, 'half': 1005, 'politically': 1646, 'different': 644, 'successful': 2159, 'stay': 2118, 'sentence': 1995, 'human': 1075, 'crime': 538, 'deeply': 593, 'divisive': 675, 'corrupt': 514, 'dictator': 641, 'credit': 537, 'crisis': 540, 'leftist': 1269, 'term': 2224, 'anger': 110, 'activist': 24, 'scientist': 1960, 'crowd': 547, 'please': 1638, 'amid': 102, 'scandal': 1952, 'fan': 849, 'fear': 856, 'coup': 525, 'corruption': 515, 'sense': 1992, 'resignation': 1873, 'journalist': 1209, 'hopefully': 1062, 'few': 868, 'command': 428, 'absolute': 7, 'bloc': 247, 'interior': 1153, 'cabinet': 307, 'leave': 1266, 'ceremony': 347, 'finish': 885, 'folk': 904, 'piece': 1627, 'significant': 2037, 'corporate': 511, 'temporarily': 2219, 'wake': 2399, 'broadcast': 283, 'literally': 1298, 'wealthy': 2418, 'decade': 584, 'largely': 1246, 'staffer': 2106, 'staff': 2105, 'reporting': 1859, 'financial': 881, 'reasonable': 1798, 'impact': 1097, 'chamber': 355, 'list': 1296, 'additional': 33, 'disclosure': 658, 'michael': 1383, 'affected': 50, 'affect': 49, 'flag': 893, 'material': 1353, 'operation': 1528, 'allows': 86, 'overseas': 1554, 'numerous': 1492, 'circumstance': 387, 'beyond': 232, 'newly': 1471, 'necessary': 1458, 'analysis': 105, 'tough': 2278, 'worker': 2458, 'nobody': 1478, 'predict': 1674, 'bipartisan': 241, 'perfect': 1607, 'absolutely': 8, 'thing': 2241, 'thank': 2236, 'usa': 2357, 'mainstream': 1325, 'beautiful': 215, 'regulation': 1828, 'appointment': 136, 'minute': 1401, 'oval': 1551, 'city': 391, 'ministry': 1399, 'response': 1882, 'sector': 1978, 'partisan': 1579, 'confirmation': 466, 'surprised': 2182, 'affordable': 53, 'care': 328, 'area': 144, 'banking': 202, 'institution': 1141, 'advanced': 40, 'negotiator': 1463, 'floor': 898, 'throughout': 2253, 'pursue': 1752, 'lot': 1316, 'construction': 482, 'cooperate': 504, 'find': 882, 'consult': 483, 'prospect': 1733, 'margin': 1341, 'controversial': 496, 'sexually': 2015, 'summer': 2168, 'embrace': 739, 'lock': 1307, 'retire': 1892, 'signature': 2036, 'daily': 562, 'visit': 2387, 'resort': 1878, 'laugh': 1251, 'game': 949, 'asks': 160, 'bannon': 203, 'strategist': 2136, 'manager': 1334, 'becomes': 217, 'difference': 643, 'wife': 2440, 'ambassador': 98, 'odds': 1503, 'climate': 404, 'jerusalem': 1193, 'author': 181, 'officially': 1511, 'assume': 169, 'husband': 1082, 'nomination': 1480, 'controversy': 497, 'marriage': 1346, 'married': 1347, 'catholic': 336, 'resign': 1872, 'pull': 1747, 'paris': 1571, 'attitude': 176, 'dialogue': 640, 'recognize': 1804, 'israel': 1179, 'capital': 323, 'tension': 2222, 'conflict': 467, 'permanent': 1613, 'resolution': 1876, 'embassy': 738, 'religious': 1840, 'combat': 424, 'traffic': 2289, 'peaceful': 1595, 'king': 1227, 'sport': 2100, 'bar': 204, 'congressman': 471, 'pennsylvania': 1600, 'stake': 2108, 'surface': 2179, 'nearly': 1457, 'average': 185, 'ad': 29, 'product': 1708, 'improve': 1104, 'positive': 1660, 'southeast': 2075, 'switch': 2193, 'twice': 2323, 'dozen': 691, 'wage': 2397, 'commit': 435, 'always': 96, 'performance': 1610, 'felt': 866, 'living': 1301, 'hopeful': 1061, 'mislead': 1402, 'across': 20, 'college': 421, 'confident': 464, 'champion': 356, 'referendum': 1813, 'mind': 1396, 'dismantle': 665, 'initiative': 1129, 'expand': 812, 'indeed': 1114, 'poll': 1651, 'punish': 1749, 'consumer': 484, 'busy': 304, 'actually': 28, 'register': 1824, 'view': 2377, 'probably': 1700, 'grown': 994, 'johnson': 1201, 'net': 1467, 'vietnam': 2376, 'war': 2403, 'highly': 1043, 'ability': 3, 'veteran': 2370, 'announcement': 114, 'partner': 1580, 'hundred': 1078, 'every': 793, 'basic': 208, 'task': 2206, 'doctor': 678, 'inform': 1124, 'longer': 1310, 'spread': 2102, 'promote': 1723, 'undermine': 2337, 'play': 1634, 'crucial': 548, 'obligation': 1496, 'english': 758, 'direct': 650, 'reduce': 1810, 'management': 1333, 'structure': 2147, 'welcome': 2426, 'reason': 1797, 'foundation': 921, 'extra': 827, 'coordinate': 506, 'site': 2047, 'belief': 223, 'closer': 409, 'original': 1540, 'soon': 2068, 'modern': 1412, 'establish': 779, 'weak': 2415, 'fall': 844, 'capacity': 322, 'send': 1990, 'appropriate': 138, 'meanwhile': 1364, 'design': 623, 'hispanic': 1048, 'tire': 2263, 'refer': 1811, 'path': 1588, 'citizenship': 390, 'resume': 1891, 'island': 1178, 'surveillance': 2185, 'guard': 997, 'item': 1182, 'exist': 810, 'regular': 1826, 'series': 2000, 'attract': 178, 'build': 293, 'severe': 2012, 'natural': 1450, 'participate': 1576, 'compete': 444, 'suit': 2167, 'hotel': 1069, 'dog': 680, 'weigh': 2425, 'regularly': 1827, 'ethic': 783, 'event': 790, 'restaurant': 1886, 'injured': 1130, 'wealth': 2417, 'industry': 1121, 'plant': 1632, 'walk': 2400, 'ongoing': 1520, 'violation': 2381, 'inauguration': 1106, 'attack': 172, 'stem': 2120, 'desperate': 625, 'badly': 196, 'hate': 1021, 'deserve': 622, 'best': 230, 'hostile': 1067, 'environment': 767, 'harassment': 1016, 'culture': 551, 'capitol': 324, 'hill': 1045, 'false': 845, 'inappropriate': 1105, 'read': 1788, 'text': 2235, 'related': 1832, 'powerful': 1670, 'introduce': 1159, 'suspend': 2190, 'brief': 276, 'disagree': 654, 'predecessor': 1673, 'happy': 1015, 'saw': 1948, 'delay': 601, 'comply': 451, 'navy': 1452, 'afghanistan': 54, 'widespread': 2439, 'rally': 1774, 'threat': 2248, 'legitimate': 1276, 'water': 2412, 'press': 1684, 'narrative': 1442, 'outrageous': 1549, 'comey': 427, 'flynn': 902, 'san': 1940, 'francisco': 927, 'enforce': 755, 'obtain': 1497, 'moral': 1420, 'ground': 991, 'consequence': 474, 'adopt': 37, 'reveal': 1895, 'christian': 380, 'technology': 2213, 'flight': 896, 'someone': 2064, 'else': 734, 'lee': 1267, 'exit': 811, 'specific': 2085, 'us': 2356, 'store': 2130, 'secure': 1979, 'chicago': 369, 'meaning': 1362, 'meant': 1363, 'error': 774, 'depend': 616, 'patrol': 1590, 'hire': 1047, 'check': 367, 'spot': 2101, 'ensure': 761, 'import': 1099, 'critical': 542, 'supply': 2172, 'computer': 454, 'equipment': 771, 'pose': 1658, 'jim': 1196, 'manufacturing': 1337, 'producer': 1707, 'china': 372, 'survey': 2186, 'detailed': 631, 'offer': 1506, 'recommendation': 1806, 'rely': 1841, 'land': 1243, 'produce': 1706, 'reserve': 1870, 'example': 803, 'development': 638, 'recover': 1808, 'renew': 1849, 'abandon': 1, 'coalition': 414, 'communication': 439, 'vital': 2388, 'dan': 565, 'cia': 384, 'joint': 1203, 'failure': 840, 'easy': 713, 'vast': 2364, 'gather': 953, 'search': 1971, 'warrant': 2406, 'restrict': 1888, 'acknowledge': 19, 'passing': 1586, 'recommend': 1805, 'street': 2138, 'main': 1323, 'bank': 201, 'penalty': 1597, 'gap': 951, 'grab': 984, 'hammer': 1008, 'abc': 2, 'morning': 1421, 'define': 598, 'anyway': 124, 'fast': 851, 'carolina': 330, 'tank': 2203, 'delete': 603, 'bet': 231, 'bond': 257, 'favorite': 854, 'doubt': 690, 'fuel': 938, 'investor': 1165, 'brian': 274, 'asset': 164, 'demand': 605, 'trading': 2287, 'prove': 1739, 'flow': 900, 'profit': 1714, 'degree': 600, 'shape': 2018, 'trend': 2303, 'buy': 305, 'msnbc': 1432, 'tool': 2271, 'correct': 513, 'headline': 1025, 'exercise': 809, 'eight': 725, 'marked': 1344, 'joe': 1199, 'sheriff': 2021, 'arizona': 147, 'unlike': 2347, 'racial': 1767, 'light': 1289, 'raid': 1772, 'iowa': 1169, 'headquarters': 1026, 'spark': 2080, 'jewish': 1195, 'impose': 1102, 'ceo': 346, 'deport': 617, 'hampshire': 1009, 'asian': 157, 'dangerous': 567, 'torture': 2274, 'immediate': 1093, 'ethnic': 784, 'crack': 531, 'asylum': 171, 'faith': 842, 'drawn': 695, 'chris': 379, 'al': 74, 'star': 2112, 'fellow': 865, 'escalate': 775, 'denounce': 612, 'server': 2004, 'voice': 2390, 'commitment': 436, 'consideration': 477, 'regardless': 1820, 'front': 936, 'sue': 2161, 'william': 2442, 'problem': 1702, 'style': 2154, 'reiterate': 1830, 'possibility': 1661, 'typically': 2327, 'progressive': 1717, 'pact': 1562, 'occur': 1501, 'couple': 526, 'completely': 448, 'phase': 1620, 'seven': 2010, 'negotiate': 1461, 'strike': 2142, 'progress': 1716, 'thus': 2257, 'drug': 703, 'device': 639, 'personally': 1617, 'combine': 425, 'slam': 2051, 'tear': 2212, 'planning': 1631, 'tom': 2268, 'elect': 727, 'ohio': 1514, 'wisconsin': 2448, 'youtube': 2482, 'video': 2375, 'viewer': 2378, 'scheme': 1956, 'double': 689, 'size': 2050, 'donor': 687, 'commercial': 432, 'super': 2171, 'bridge': 275, 'swing': 2192, 'dismiss': 666, 'throw': 2254, 'alex': 77, 'directly': 652, 'incredibly': 1113, 'drag': 693, 'electoral': 729, 'advantage': 41, 'track': 2285, 'explain': 819, 'brand': 269, 'side': 2033, 'legislature': 1275, 'chosen': 378, 'certainly': 349, 'discuss': 662, 'wrong': 2469, 'vow': 2394, 'gas': 952, 'northern': 1485, 'bear': 213, 'native': 1448, 'production': 1709, 'politician': 1647, 'friend': 935, 'application': 133, 'entirely': 764, 'promising': 1722, 'longtime': 1311, 'tactic': 2200, 'wide': 2437, 'lobby': 1303, 'proposal': 1728, 'repeat': 1851, 'threatens': 2250, 'facility': 835, 'purchase': 1750, 'ted': 2214, 'cruz': 549, 'widely': 2438, 'near': 1455, 'otherwise': 1543, 'ease': 709, 'african': 57, 'female': 867, 'black': 244, 'liberal': 1282, 'moderate': 1411, 'highlight': 1042, 'mother': 1424, 'root': 1924, 'minority': 1400, 'unusual': 2350, 'thrown': 2255, 'primary': 1693, 'nominate': 1479, 'audience': 179, 'describe': 620, 'waste': 2409, 'abortion': 5, 'labor': 1239, 'nominee': 1481, 'blame': 245, 'connect': 472, 'ticket': 2258, 'compare': 443, 'invest': 1160, 'science': 1959, 'charles': 366, 'title': 2264, 'endorsement': 752, 'dominate': 683, 'democracy': 606, 'model': 1410, 'engage': 757, 'donate': 685, 'contrast': 492, 'division': 674, 'church': 383, 'capture': 325, 'beat': 214, 'forget': 912, 'vowed': 2395, 'gop': 978, 'picked': 1625, 'oversight': 1556, 'anything': 123, 'classify': 399, 'publicly': 1745, 'bottom': 263, 'peter': 1619, 'page': 1563, 'reputation': 1864, 'deep': 592, 'terrible': 2225, 'truly': 2312, 'partnership': 1581, 'alternative': 94, 'minimum': 1397, 'earn': 708, 'abroad': 6, 'transfer': 2293, 'five': 891, 'preserve': 1680, 'per': 1604, 'zero': 2483, 'loan': 1302, 'fine': 884, 'realize': 1795, 'youth': 2481, 'sell': 1987, 'type': 2326, 'employ': 743, 'creation': 535, 'element': 730, 'heavy': 1035, 'britain': 280, 'answer': 118, 'expensive': 816, 'scale': 1950, 'polling': 1652, 'generate': 959, 'broken': 286, 'opportunity': 1531, 'unit': 2342, 'confidence': 463, 'resistance': 1875, 'fed': 859, 'slow': 2053, 'nationwide': 1447, 'particular': 1577, 'offend': 1504, 'hospital': 1065, 'co': 412, 'chip': 374, 'plot': 1640, 'course': 527, 'career': 329, 'sometimes': 2066, 'independence': 1115, 'suggests': 2165, 'scalia': 1951, 'proud': 1738, 'backing': 193, 'death': 581, 'signal': 2035, 'article': 154, 'speaks': 2083, 'theory': 2238, 'suppose': 2175, 'society': 2058, 'stress': 2141, 'reading': 1789, 'tonight': 2270, 'idiot': 1086, 'copy': 508, 'bob': 253, 'prosecution': 1731, 'continued': 490, 'condemn': 459, 'unless': 2346, 'watch': 2410, 'definitely': 599, 'moment': 1414, 'stuff': 2151, 'anyone': 122, 'initial': 1127, 'journal': 1208, 'quite': 1764, 'sound': 2072, 'whatever': 2431, 'worried': 2461, 'susan': 2188, 'rush': 1932, 'stick': 2125, 'sander': 1942, 'ok': 1516, 'upon': 2353, 'mission': 1405, 'round': 1926, 'tim': 2261, 'function': 942, 'aircraft': 72, 'quick': 1761, 'kevin': 1220, 'object': 1495, 'notice': 1488, 'maybe': 1357, 'vet': 2369, 'towards': 2282, 'react': 1786, 'population': 1655, 'everybody': 794, 'reaction': 1787, 'parliamentary': 1574, 'settlement': 2009, 'employment': 746, 'draft': 692, 'disclose': 657, 'behalf': 219, 'movie': 1430, 'label': 1238, 'green': 990, 'hunt': 1079, 'coal': 413, 'council': 518, 'encourage': 749, 'trip': 2307, 'presidency': 1681, 'overturn': 1557, 'afford': 52, 'mccain': 1359, 'brain': 267, 'detention': 633, 'prior': 1696, 'sponsor': 2099, 'devastate': 635, 'western': 2430, 'burn': 300, 'destroyed': 628, 'institute': 1140, 'locate': 1305, 'teach': 2209, 'invite': 1166, 'remember': 1845, 'mention': 1376, 'ivanka': 1183, 'everyone': 795, 'scene': 1954, 'victim': 2373, 'closely': 408, 'everywhere': 797, 'listen': 1297, 'declare': 589, 'ben': 225, 'briefing': 277, 'die': 642, 'chose': 377, 'replacement': 1854, 'monitor': 1417, 'dream': 696, 'driver': 701, 'license': 1285, 'choice': 375, 'michelle': 1384, 'warren': 2407, 'elizabeth': 733, 'counter': 521, 'unprecedented': 2349, 'professional': 1711, 'richard': 1904, 'laid': 1242, 'vision': 2386, 'offensive': 1505, 'cyber': 560, 'user': 2359, 'spoken': 2095, 'relation': 1833, 'frustrate': 937, 'ukraine': 2330, 'lay': 1257, 'cooperation': 505, 'ronald': 1922, 'reagan': 1791, 'facebook': 834, 'backlash': 194, 'france': 926, 'strongly': 2145, 'strength': 2139, 'weaken': 2416, 'credibility': 536, 'europe': 787, 'demonstrate': 609, 'enemy': 753, 'withdraw': 2450, 'xi': 2471, 'jinping': 1197, 'asia': 156, 'sea': 1969, 'ballistic': 198, 'strategic': 2135, 'bilateral': 237, 'weapon': 2419, 'rid': 1906, 'accepted': 11, 'founder': 922, 'magazine': 1321, 'supremacist': 2176, 'ran': 1775, 'trouble': 2309, 'car': 326, 'kill': 1224, 'marco': 1340, 'rubio': 1928, 'writer': 2468, 'insult': 1142, 'driven': 700, 'endorse': 751, 'anybody': 120, 'manage': 1332, 'hang': 1012, 'aggressive': 63, 'upcoming': 2351, 'transition': 2295, 'sarah': 1943, 'complaint': 446, 'proven': 1740, 'adam': 30, 'topic': 2273, 'sensitive': 1993, 'caught': 338, 'score': 1961, 'upset': 2354, 'blow': 250, 'reference': 1812, 'trail': 2290, 'male': 1330, 'touch': 2277, 'offering': 1507, 'declaration': 588, 'confront': 468, 'islamist': 1177, 'militant': 1392, 'graduate': 985, 'god': 973, 'marine': 1342, 'entire': 763, 'vehicle': 2365, 'testimony': 2233, 'training': 2292, 'unlikely': 2348, 'era': 772, 'content': 487, 'choose': 376, 'outrage': 1548, 'politico': 1648, 'cold': 417, 'mouth': 1427, 'advice': 42, 'disgust': 664, 'saudi': 1946, 'arabia': 143, 'indicate': 1119, 'enable': 747, 'civilian': 393, 'korean': 1234, 'prosecute': 1730, 'daughter': 572, 'apparent': 128, 'seriously': 2002, 'european': 788, 'comprehensive': 452, 'departure': 615, 'candidacy': 318, 'paint': 1565, 'speed': 2088, 'heat': 1033, 'active': 23, 'scrap': 1963, 'motivate': 1425, 'sentiment': 1996, 'stance': 2109, 'resist': 1874, 'feature': 857, 'fly': 901, 'brilliant': 278, 'red': 1809, 'tape': 2204, 'wikileaks': 2441, 'actor': 26, 'kim': 1225, 'michigan': 1385, 'eric': 773, 'regional': 1823, 'quit': 1763, 'assure': 170, 'anywhere': 125, 'mitt': 1408, 'romney': 1921, 'tenure': 2223, 'expose': 823, 'extreme': 828, 'hero': 1039, 'simple': 2041, 'safety': 1938, 'quote': 1765, 'israeli': 1180, 'palestinian': 1566, 'suicide': 2166, 'heart': 1032, 'dead': 577, 'wound': 2465, 'perform': 1609, 'gov': 980, 'crazy': 533, 'fee': 861, 'space': 2077, 'formally': 915, 'stun': 2152, 'gotten': 979, 'shock': 2024, 'cheer': 368, 'sort': 2070, 'religion': 1839, 'network': 1468, 'arrive': 153, 'character': 363, 'trust': 2314, 'reply': 1855, 'fun': 941, 'convention': 498, 'color': 423, 'normal': 1483, 'blood': 249, 'impossible': 1103, 'river': 1915, 'strain': 2134, 'celebrity': 342, 'zone': 2484, 'park': 1572, 'window': 2445, 'equality': 770, 'exact': 800, 'foot': 908, 'surround': 2184, 'uk': 2329, 'alliance': 84, 'theresa': 2240, 'islamic': 1176, 'league': 1262, 'organizer': 1539, 'racist': 1769, 'suddenly': 2160, 'field': 869, 'wing': 2446, 'convince': 502, 'involvement': 1168, 'elsewhere': 735, 'thomas': 2244, 'sworn': 2194, 'prefer': 1675, 'principle': 1695, 'assistant': 166, 'kelly': 1218, 'yesterday': 2477, 'advisor': 45, 'dc': 575, 'solve': 2061, 'currency': 553, 'brother': 287, 'achieve': 18, 'silence': 2038, 'contribution': 494, 'obviously': 1499, 'bully': 296, 'colleague': 419, 'totally': 2276, 'fought': 919, 'nationalist': 1446, 'establishment': 780, 'josh': 1207, 'rock': 1918, 'teacher': 2210, 'nearby': 1456, 'town': 2284, 'hot': 1068, 'alongside': 91, 'tillerson': 2260, 'rex': 1901, 'hall': 1006, 'iranian': 1171, 'diplomacy': 647, 'tehran': 2215, 'common': 438, 'parent': 1570, 'rip': 1911, 'peace': 1594, 'mistake': 1406, 'soldier': 2059, 'clarify': 396, 'diplomatic': 649, 'cancel': 317, 'migrant': 1388, 'port': 1656, 'breitbart': 272, 'hell': 1037, 'elite': 732, 'gun': 1002, 'bombing': 256, 'accountable': 15, 'spokesperson': 2097, 'mr': 1431, 'nature': 1451, 'conspiracy': 479, 'worth': 2463, 'troop': 2308, 'army': 149, 'none': 1482, 'brag': 266, 'dress': 697, 'liar': 1281, 'famous': 848, 'melania': 1372, 'plane': 1630, 'segment': 1984, 'spicer': 2092, 'traditional': 2288, 'bos': 262, 'experience': 817, 'background': 192, 'fundamental': 944, 'editorial': 718, 'direction': 651, 'thanks': 2237, 'stephen': 2122, 'desire': 624, 'tour': 2280, 'racism': 1768, 'murder': 1436, 'hatred': 1023, 'martin': 1348, 'presence': 1678, 'protester': 1737, 'bigotry': 236, 'stupid': 2153, 'jason': 1190, 'grand': 987, 'eu': 785, 'deem': 591, 'muslim': 1437, 'terrorist': 2230, 'syrian': 2196, 'okay': 1517, 'turkey': 2318, 'scrutiny': 1968, 'turkish': 2319, 'feed': 862, 'relevant': 1837, 'developed': 637, 'circle': 385, 'arab': 142, 'anthony': 119, 'intent': 1147, 'allegedly': 83, 'oh': 1513, 'alarm': 76, 'therefore': 2239, 'happens': 1014, 'terror': 2228, 'survive': 2187, 'pacific': 1560, 'cry': 550, 'wonder': 2455, 'dare': 568, 'guest': 999, 'buying': 306, 'examine': 802, 'boy': 264, 'cycle': 561, 'knowledge': 1232, 'actual': 27, 'basically': 209, 'nice': 1475, 'excuse': 807, 'illinois': 1090, 'opposite': 1533, 'contract': 491, 'french': 931, 'operate': 1526, 'pm': 1641, 'un': 2332, 'disrupt': 669, 'obvious': 1498, 'shoot': 2025, 'usually': 2361, 'damn': 564, 'jail': 1184, 'straight': 2133, 'removal': 1847, 'recall': 1800, 'massachusetts': 1350, 'destroy': 627, 'brussels': 290, 'nato': 1449, 'germany': 964, 'sean': 1970, 'finally': 879, 'complex': 449, 'demonstration': 610, 'route': 1927, 'humanitarian': 1076, 'violent': 2383, 'brutal': 291, 'german': 963, 'shout': 2029, 'yeah': 2472, 'honest': 1057, 'enjoy': 759, 'duty': 705, 'socialist': 2057, 'follower': 906, 'hat': 1020, 'baby': 190, 'considers': 478, 'berlin': 228, 'mess': 1378, 'manner': 1336, 'boycott': 265, 'unfortunately': 2340, 'anymore': 121, 'extremist': 830, 'refusal': 1817, 'poverty': 1668, 'crackdown': 532, 'sorry': 2069, 'yell': 2474, 'chant': 361, 'yes': 2476, 'reportedly': 1857, 'uncertainty': 2334, 'parliament': 1573, 'summit': 2169, 'smart': 2055, 'exactly': 801, 'shame': 2017, 'hide': 1040, 'sick': 2032, 'bunch': 297, 'collapse': 418, 'built': 295, 'gulf': 1001, 'breach': 270, 'physical': 1623, 'prof': 1710, 'disturb': 672, 'remind': 1846, 'spanish': 2079, 'campus': 314, 'pyongyang': 1756, 'injury': 1131, 'deadly': 579, 'except': 804, 'explains': 820, 'imagine': 1092, 'display': 667, 'sad': 1936, 'radical': 1770, 'kingdom': 1228, 'mayor': 1358, 'hateful': 1022, 'afraid': 55, 'islam': 1175, 'horrific': 1064, 'rape': 1779, 'guess': 998, 'revelation': 1896, 'platform': 1633, 'camera': 311, 'lady': 1241, 'somehow': 2063, 'eastern': 712, 'destruction': 629, 'match': 1352, 'mock': 1409, 'assembly': 162, 'apparently': 129, 'joke': 1204, 'legacy': 1270, 'proof': 1725, 'chancellor': 358, 'angela': 108, 'merkel': 1377, 'as': 155, 'commander': 429, 'conway': 503, 'dark': 569, 'militia': 1394, 'ali': 78, 'capable': 321, 'treaty': 2302, 'storm': 2131, 'bashar': 207, 'village': 2379, 'escape': 776, 'latino': 1250, 'japanese': 1188, 'forum': 917, 'scar': 1953, 'clash': 397, 'humiliate': 1077, 'sat': 1944, 'inspire': 1137, 'custody': 556, 'blast': 246, 'vermont': 2367, 'communist': 440, 'machine': 1319, 'terrify': 2226, 'strip': 2143, 'japan': 1187, 'riot': 1910, 'jet': 1194, 'peninsula': 1599, 'scream': 1964, 'usual': 2360, 'catch': 335, 'easily': 710, 'quality': 1758, 'alive': 80, 'eat': 714, 'gold': 974, 'ankara': 112, 'province': 1742, 'euro': 786, 'perfectly': 1608, 'regime': 1821, 'evil': 799, 'truck': 2310, 'rig': 1908, 'iraqi': 1173, 'nazi': 1453, 'km': 1229, 'unity': 2344, 'silent': 2039, 'kurdish': 1236, 'emmanuel': 742, 'macron': 1320, 'surprising': 2183, 'f': 832, 'spain': 2078, 'clip': 406, 'rant': 1778, 'pundit': 1748, 'trash': 2297, 'rapist': 1780, 'mogul': 1413, 'gon': 976, 'na': 1439, 'screengrab': 1966, 'cop': 507, 'pretend': 1687, 'brexit': 273, 'pathetic': 1589, 'insane': 1134, 'caller': 310, '': 0, 'benghazi': 227, 'screenshot': 1967, 'presumptive': 1686, 'whine': 2433, 'hilarious': 1044, 'getty': 966, 'worldnews': 2460, 'flickr': 895}\n"
     ]
    }
   ],
   "source": [
    "print(\"Dictionary =>\", tfidf_vectorizer.vocabulary_)"
   ]
  },
  {
   "cell_type": "code",
   "execution_count": 25,
   "id": "11e47c21",
   "metadata": {},
   "outputs": [
    {
     "name": "stdout",
     "output_type": "stream",
     "text": [
      "Top 10 words : \n",
      "\n",
      "trump         3076.756051\n",
      "say           2451.619897\n",
      "state         1185.489748\n",
      "president     1172.736467\n",
      "republican    1060.026633\n",
      "would         1040.308862\n",
      "clinton        952.944198\n",
      "obama          928.063223\n",
      "people         908.225839\n",
      "house          871.981463\n",
      "dtype: float64\n"
     ]
    }
   ],
   "source": [
    "print(\"Top 10 words : \\n\")\n",
    "print(tfidf_df.sum().sort_values(ascending=False).head(10))"
   ]
  },
  {
   "cell_type": "code",
   "execution_count": 26,
   "id": "b02dff99",
   "metadata": {},
   "outputs": [
    {
     "name": "stdout",
     "output_type": "stream",
     "text": [
      "Last 10 words : \n",
      "\n",
      "fundamental    30.233001\n",
      "stem           30.134656\n",
      "advanced       30.044145\n",
      "odds           29.604289\n",
      "exclusive      29.488518\n",
      "strain         29.436833\n",
      "enable         29.201783\n",
      "generate       28.795850\n",
      "extent         27.462384\n",
      "developed      26.364114\n",
      "dtype: float64\n"
     ]
    }
   ],
   "source": [
    "print(\"Last 10 words : \\n\")\n",
    "print(tfidf_df.sum().sort_values(ascending=False).tail(10))"
   ]
  },
  {
   "cell_type": "code",
   "execution_count": 27,
   "id": "ccb0b713",
   "metadata": {},
   "outputs": [
    {
     "data": {
      "application/vnd.microsoft.datawrangler.viewer.v0+json": {
       "columns": [
        {
         "name": "index",
         "rawType": "int64",
         "type": "integer"
        },
        {
         "name": "",
         "rawType": "float64",
         "type": "float"
        },
        {
         "name": "abandon",
         "rawType": "float64",
         "type": "float"
        },
        {
         "name": "abc",
         "rawType": "float64",
         "type": "float"
        },
        {
         "name": "ability",
         "rawType": "float64",
         "type": "float"
        },
        {
         "name": "able",
         "rawType": "float64",
         "type": "float"
        },
        {
         "name": "abortion",
         "rawType": "float64",
         "type": "float"
        },
        {
         "name": "abroad",
         "rawType": "float64",
         "type": "float"
        },
        {
         "name": "absolute",
         "rawType": "float64",
         "type": "float"
        },
        {
         "name": "absolutely",
         "rawType": "float64",
         "type": "float"
        },
        {
         "name": "abuse",
         "rawType": "float64",
         "type": "float"
        },
        {
         "name": "accept",
         "rawType": "float64",
         "type": "float"
        },
        {
         "name": "accepted",
         "rawType": "float64",
         "type": "float"
        },
        {
         "name": "access",
         "rawType": "float64",
         "type": "float"
        },
        {
         "name": "accord",
         "rawType": "float64",
         "type": "float"
        },
        {
         "name": "account",
         "rawType": "float64",
         "type": "float"
        },
        {
         "name": "accountable",
         "rawType": "float64",
         "type": "float"
        },
        {
         "name": "accusation",
         "rawType": "float64",
         "type": "float"
        },
        {
         "name": "accuse",
         "rawType": "float64",
         "type": "float"
        },
        {
         "name": "achieve",
         "rawType": "float64",
         "type": "float"
        },
        {
         "name": "acknowledge",
         "rawType": "float64",
         "type": "float"
        },
        {
         "name": "across",
         "rawType": "float64",
         "type": "float"
        },
        {
         "name": "act",
         "rawType": "float64",
         "type": "float"
        },
        {
         "name": "action",
         "rawType": "float64",
         "type": "float"
        },
        {
         "name": "active",
         "rawType": "float64",
         "type": "float"
        },
        {
         "name": "activist",
         "rawType": "float64",
         "type": "float"
        },
        {
         "name": "activity",
         "rawType": "float64",
         "type": "float"
        },
        {
         "name": "actor",
         "rawType": "float64",
         "type": "float"
        },
        {
         "name": "actual",
         "rawType": "float64",
         "type": "float"
        },
        {
         "name": "actually",
         "rawType": "float64",
         "type": "float"
        },
        {
         "name": "ad",
         "rawType": "float64",
         "type": "float"
        },
        {
         "name": "adam",
         "rawType": "float64",
         "type": "float"
        },
        {
         "name": "add",
         "rawType": "float64",
         "type": "float"
        },
        {
         "name": "addition",
         "rawType": "float64",
         "type": "float"
        },
        {
         "name": "additional",
         "rawType": "float64",
         "type": "float"
        },
        {
         "name": "address",
         "rawType": "float64",
         "type": "float"
        },
        {
         "name": "administration",
         "rawType": "float64",
         "type": "float"
        },
        {
         "name": "admit",
         "rawType": "float64",
         "type": "float"
        },
        {
         "name": "adopt",
         "rawType": "float64",
         "type": "float"
        },
        {
         "name": "adult",
         "rawType": "float64",
         "type": "float"
        },
        {
         "name": "advance",
         "rawType": "float64",
         "type": "float"
        },
        {
         "name": "advanced",
         "rawType": "float64",
         "type": "float"
        },
        {
         "name": "advantage",
         "rawType": "float64",
         "type": "float"
        },
        {
         "name": "advice",
         "rawType": "float64",
         "type": "float"
        },
        {
         "name": "advise",
         "rawType": "float64",
         "type": "float"
        },
        {
         "name": "adviser",
         "rawType": "float64",
         "type": "float"
        },
        {
         "name": "advisor",
         "rawType": "float64",
         "type": "float"
        },
        {
         "name": "advocacy",
         "rawType": "float64",
         "type": "float"
        },
        {
         "name": "advocate",
         "rawType": "float64",
         "type": "float"
        },
        {
         "name": "affair",
         "rawType": "float64",
         "type": "float"
        },
        {
         "name": "affect",
         "rawType": "float64",
         "type": "float"
        },
        {
         "name": "affected",
         "rawType": "float64",
         "type": "float"
        },
        {
         "name": "affiliate",
         "rawType": "float64",
         "type": "float"
        },
        {
         "name": "afford",
         "rawType": "float64",
         "type": "float"
        },
        {
         "name": "affordable",
         "rawType": "float64",
         "type": "float"
        },
        {
         "name": "afghanistan",
         "rawType": "float64",
         "type": "float"
        },
        {
         "name": "afraid",
         "rawType": "float64",
         "type": "float"
        },
        {
         "name": "africa",
         "rawType": "float64",
         "type": "float"
        },
        {
         "name": "african",
         "rawType": "float64",
         "type": "float"
        },
        {
         "name": "afternoon",
         "rawType": "float64",
         "type": "float"
        },
        {
         "name": "age",
         "rawType": "float64",
         "type": "float"
        },
        {
         "name": "agency",
         "rawType": "float64",
         "type": "float"
        },
        {
         "name": "agenda",
         "rawType": "float64",
         "type": "float"
        },
        {
         "name": "agent",
         "rawType": "float64",
         "type": "float"
        },
        {
         "name": "aggressive",
         "rawType": "float64",
         "type": "float"
        },
        {
         "name": "ago",
         "rawType": "float64",
         "type": "float"
        },
        {
         "name": "agree",
         "rawType": "float64",
         "type": "float"
        },
        {
         "name": "agreement",
         "rawType": "float64",
         "type": "float"
        },
        {
         "name": "ahead",
         "rawType": "float64",
         "type": "float"
        },
        {
         "name": "aid",
         "rawType": "float64",
         "type": "float"
        },
        {
         "name": "aide",
         "rawType": "float64",
         "type": "float"
        },
        {
         "name": "aim",
         "rawType": "float64",
         "type": "float"
        },
        {
         "name": "air",
         "rawType": "float64",
         "type": "float"
        },
        {
         "name": "aircraft",
         "rawType": "float64",
         "type": "float"
        },
        {
         "name": "airport",
         "rawType": "float64",
         "type": "float"
        },
        {
         "name": "al",
         "rawType": "float64",
         "type": "float"
        },
        {
         "name": "alabama",
         "rawType": "float64",
         "type": "float"
        },
        {
         "name": "alarm",
         "rawType": "float64",
         "type": "float"
        },
        {
         "name": "alex",
         "rawType": "float64",
         "type": "float"
        },
        {
         "name": "ali",
         "rawType": "float64",
         "type": "float"
        },
        {
         "name": "alien",
         "rawType": "float64",
         "type": "float"
        },
        {
         "name": "alive",
         "rawType": "float64",
         "type": "float"
        },
        {
         "name": "allegation",
         "rawType": "float64",
         "type": "float"
        },
        {
         "name": "allege",
         "rawType": "float64",
         "type": "float"
        },
        {
         "name": "allegedly",
         "rawType": "float64",
         "type": "float"
        },
        {
         "name": "alliance",
         "rawType": "float64",
         "type": "float"
        },
        {
         "name": "allow",
         "rawType": "float64",
         "type": "float"
        },
        {
         "name": "allows",
         "rawType": "float64",
         "type": "float"
        },
        {
         "name": "ally",
         "rawType": "float64",
         "type": "float"
        },
        {
         "name": "almost",
         "rawType": "float64",
         "type": "float"
        },
        {
         "name": "alone",
         "rawType": "float64",
         "type": "float"
        },
        {
         "name": "along",
         "rawType": "float64",
         "type": "float"
        },
        {
         "name": "alongside",
         "rawType": "float64",
         "type": "float"
        },
        {
         "name": "already",
         "rawType": "float64",
         "type": "float"
        },
        {
         "name": "also",
         "rawType": "float64",
         "type": "float"
        },
        {
         "name": "alternative",
         "rawType": "float64",
         "type": "float"
        },
        {
         "name": "although",
         "rawType": "float64",
         "type": "float"
        },
        {
         "name": "always",
         "rawType": "float64",
         "type": "float"
        },
        {
         "name": "amaze",
         "rawType": "float64",
         "type": "float"
        },
        {
         "name": "ambassador",
         "rawType": "float64",
         "type": "float"
        },
        {
         "name": "amendment",
         "rawType": "float64",
         "type": "float"
        },
        {
         "name": "america",
         "rawType": "float64",
         "type": "float"
        },
        {
         "name": "american",
         "rawType": "float64",
         "type": "float"
        },
        {
         "name": "amid",
         "rawType": "float64",
         "type": "float"
        },
        {
         "name": "among",
         "rawType": "float64",
         "type": "float"
        },
        {
         "name": "amount",
         "rawType": "float64",
         "type": "float"
        },
        {
         "name": "analysis",
         "rawType": "float64",
         "type": "float"
        },
        {
         "name": "analyst",
         "rawType": "float64",
         "type": "float"
        },
        {
         "name": "andrew",
         "rawType": "float64",
         "type": "float"
        },
        {
         "name": "angela",
         "rawType": "float64",
         "type": "float"
        },
        {
         "name": "angeles",
         "rawType": "float64",
         "type": "float"
        },
        {
         "name": "anger",
         "rawType": "float64",
         "type": "float"
        },
        {
         "name": "angry",
         "rawType": "float64",
         "type": "float"
        },
        {
         "name": "ankara",
         "rawType": "float64",
         "type": "float"
        },
        {
         "name": "announce",
         "rawType": "float64",
         "type": "float"
        },
        {
         "name": "announcement",
         "rawType": "float64",
         "type": "float"
        },
        {
         "name": "annual",
         "rawType": "float64",
         "type": "float"
        },
        {
         "name": "anonymity",
         "rawType": "float64",
         "type": "float"
        },
        {
         "name": "another",
         "rawType": "float64",
         "type": "float"
        },
        {
         "name": "answer",
         "rawType": "float64",
         "type": "float"
        },
        {
         "name": "anthony",
         "rawType": "float64",
         "type": "float"
        },
        {
         "name": "anybody",
         "rawType": "float64",
         "type": "float"
        },
        {
         "name": "anymore",
         "rawType": "float64",
         "type": "float"
        },
        {
         "name": "anyone",
         "rawType": "float64",
         "type": "float"
        },
        {
         "name": "anything",
         "rawType": "float64",
         "type": "float"
        },
        {
         "name": "anyway",
         "rawType": "float64",
         "type": "float"
        },
        {
         "name": "anywhere",
         "rawType": "float64",
         "type": "float"
        },
        {
         "name": "apart",
         "rawType": "float64",
         "type": "float"
        },
        {
         "name": "apologize",
         "rawType": "float64",
         "type": "float"
        },
        {
         "name": "apparent",
         "rawType": "float64",
         "type": "float"
        },
        {
         "name": "apparently",
         "rawType": "float64",
         "type": "float"
        },
        {
         "name": "appeal",
         "rawType": "float64",
         "type": "float"
        },
        {
         "name": "appear",
         "rawType": "float64",
         "type": "float"
        },
        {
         "name": "appearance",
         "rawType": "float64",
         "type": "float"
        },
        {
         "name": "application",
         "rawType": "float64",
         "type": "float"
        },
        {
         "name": "apply",
         "rawType": "float64",
         "type": "float"
        },
        {
         "name": "appoint",
         "rawType": "float64",
         "type": "float"
        },
        {
         "name": "appointment",
         "rawType": "float64",
         "type": "float"
        },
        {
         "name": "approach",
         "rawType": "float64",
         "type": "float"
        },
        {
         "name": "appropriate",
         "rawType": "float64",
         "type": "float"
        },
        {
         "name": "approval",
         "rawType": "float64",
         "type": "float"
        },
        {
         "name": "approve",
         "rawType": "float64",
         "type": "float"
        },
        {
         "name": "april",
         "rawType": "float64",
         "type": "float"
        },
        {
         "name": "arab",
         "rawType": "float64",
         "type": "float"
        },
        {
         "name": "arabia",
         "rawType": "float64",
         "type": "float"
        },
        {
         "name": "area",
         "rawType": "float64",
         "type": "float"
        },
        {
         "name": "argue",
         "rawType": "float64",
         "type": "float"
        },
        {
         "name": "argument",
         "rawType": "float64",
         "type": "float"
        },
        {
         "name": "arizona",
         "rawType": "float64",
         "type": "float"
        },
        {
         "name": "arm",
         "rawType": "float64",
         "type": "float"
        },
        {
         "name": "army",
         "rawType": "float64",
         "type": "float"
        },
        {
         "name": "around",
         "rawType": "float64",
         "type": "float"
        },
        {
         "name": "arrest",
         "rawType": "float64",
         "type": "float"
        },
        {
         "name": "arrival",
         "rawType": "float64",
         "type": "float"
        },
        {
         "name": "arrive",
         "rawType": "float64",
         "type": "float"
        },
        {
         "name": "article",
         "rawType": "float64",
         "type": "float"
        },
        {
         "name": "as",
         "rawType": "float64",
         "type": "float"
        },
        {
         "name": "asia",
         "rawType": "float64",
         "type": "float"
        },
        {
         "name": "asian",
         "rawType": "float64",
         "type": "float"
        },
        {
         "name": "aside",
         "rawType": "float64",
         "type": "float"
        },
        {
         "name": "ask",
         "rawType": "float64",
         "type": "float"
        },
        {
         "name": "asks",
         "rawType": "float64",
         "type": "float"
        },
        {
         "name": "assault",
         "rawType": "float64",
         "type": "float"
        },
        {
         "name": "assembly",
         "rawType": "float64",
         "type": "float"
        },
        {
         "name": "assessment",
         "rawType": "float64",
         "type": "float"
        },
        {
         "name": "asset",
         "rawType": "float64",
         "type": "float"
        },
        {
         "name": "assistance",
         "rawType": "float64",
         "type": "float"
        },
        {
         "name": "assistant",
         "rawType": "float64",
         "type": "float"
        },
        {
         "name": "associate",
         "rawType": "float64",
         "type": "float"
        },
        {
         "name": "association",
         "rawType": "float64",
         "type": "float"
        },
        {
         "name": "assume",
         "rawType": "float64",
         "type": "float"
        },
        {
         "name": "assure",
         "rawType": "float64",
         "type": "float"
        },
        {
         "name": "asylum",
         "rawType": "float64",
         "type": "float"
        },
        {
         "name": "attack",
         "rawType": "float64",
         "type": "float"
        },
        {
         "name": "attempt",
         "rawType": "float64",
         "type": "float"
        },
        {
         "name": "attend",
         "rawType": "float64",
         "type": "float"
        },
        {
         "name": "attention",
         "rawType": "float64",
         "type": "float"
        },
        {
         "name": "attitude",
         "rawType": "float64",
         "type": "float"
        },
        {
         "name": "attorney",
         "rawType": "float64",
         "type": "float"
        },
        {
         "name": "attract",
         "rawType": "float64",
         "type": "float"
        },
        {
         "name": "audience",
         "rawType": "float64",
         "type": "float"
        },
        {
         "name": "august",
         "rawType": "float64",
         "type": "float"
        },
        {
         "name": "author",
         "rawType": "float64",
         "type": "float"
        },
        {
         "name": "authority",
         "rawType": "float64",
         "type": "float"
        },
        {
         "name": "authorize",
         "rawType": "float64",
         "type": "float"
        },
        {
         "name": "available",
         "rawType": "float64",
         "type": "float"
        },
        {
         "name": "average",
         "rawType": "float64",
         "type": "float"
        },
        {
         "name": "avoid",
         "rawType": "float64",
         "type": "float"
        },
        {
         "name": "award",
         "rawType": "float64",
         "type": "float"
        },
        {
         "name": "aware",
         "rawType": "float64",
         "type": "float"
        },
        {
         "name": "away",
         "rawType": "float64",
         "type": "float"
        },
        {
         "name": "baby",
         "rawType": "float64",
         "type": "float"
        },
        {
         "name": "back",
         "rawType": "float64",
         "type": "float"
        },
        {
         "name": "background",
         "rawType": "float64",
         "type": "float"
        },
        {
         "name": "backing",
         "rawType": "float64",
         "type": "float"
        },
        {
         "name": "backlash",
         "rawType": "float64",
         "type": "float"
        },
        {
         "name": "bad",
         "rawType": "float64",
         "type": "float"
        },
        {
         "name": "badly",
         "rawType": "float64",
         "type": "float"
        },
        {
         "name": "balance",
         "rawType": "float64",
         "type": "float"
        },
        {
         "name": "ballistic",
         "rawType": "float64",
         "type": "float"
        },
        {
         "name": "ballot",
         "rawType": "float64",
         "type": "float"
        },
        {
         "name": "ban",
         "rawType": "float64",
         "type": "float"
        },
        {
         "name": "bank",
         "rawType": "float64",
         "type": "float"
        },
        {
         "name": "banking",
         "rawType": "float64",
         "type": "float"
        },
        {
         "name": "bannon",
         "rawType": "float64",
         "type": "float"
        },
        {
         "name": "bar",
         "rawType": "float64",
         "type": "float"
        },
        {
         "name": "barack",
         "rawType": "float64",
         "type": "float"
        },
        {
         "name": "base",
         "rawType": "float64",
         "type": "float"
        },
        {
         "name": "bashar",
         "rawType": "float64",
         "type": "float"
        },
        {
         "name": "basic",
         "rawType": "float64",
         "type": "float"
        },
        {
         "name": "basically",
         "rawType": "float64",
         "type": "float"
        },
        {
         "name": "basis",
         "rawType": "float64",
         "type": "float"
        },
        {
         "name": "battle",
         "rawType": "float64",
         "type": "float"
        },
        {
         "name": "beach",
         "rawType": "float64",
         "type": "float"
        },
        {
         "name": "bear",
         "rawType": "float64",
         "type": "float"
        },
        {
         "name": "beat",
         "rawType": "float64",
         "type": "float"
        },
        {
         "name": "beautiful",
         "rawType": "float64",
         "type": "float"
        },
        {
         "name": "become",
         "rawType": "float64",
         "type": "float"
        },
        {
         "name": "becomes",
         "rawType": "float64",
         "type": "float"
        },
        {
         "name": "begin",
         "rawType": "float64",
         "type": "float"
        },
        {
         "name": "behalf",
         "rawType": "float64",
         "type": "float"
        },
        {
         "name": "behavior",
         "rawType": "float64",
         "type": "float"
        },
        {
         "name": "behind",
         "rawType": "float64",
         "type": "float"
        },
        {
         "name": "beijing",
         "rawType": "float64",
         "type": "float"
        },
        {
         "name": "belief",
         "rawType": "float64",
         "type": "float"
        },
        {
         "name": "believe",
         "rawType": "float64",
         "type": "float"
        },
        {
         "name": "ben",
         "rawType": "float64",
         "type": "float"
        },
        {
         "name": "benefit",
         "rawType": "float64",
         "type": "float"
        },
        {
         "name": "benghazi",
         "rawType": "float64",
         "type": "float"
        },
        {
         "name": "berlin",
         "rawType": "float64",
         "type": "float"
        },
        {
         "name": "bernie",
         "rawType": "float64",
         "type": "float"
        },
        {
         "name": "best",
         "rawType": "float64",
         "type": "float"
        },
        {
         "name": "bet",
         "rawType": "float64",
         "type": "float"
        },
        {
         "name": "beyond",
         "rawType": "float64",
         "type": "float"
        },
        {
         "name": "bias",
         "rawType": "float64",
         "type": "float"
        },
        {
         "name": "bid",
         "rawType": "float64",
         "type": "float"
        },
        {
         "name": "big",
         "rawType": "float64",
         "type": "float"
        },
        {
         "name": "bigotry",
         "rawType": "float64",
         "type": "float"
        },
        {
         "name": "bilateral",
         "rawType": "float64",
         "type": "float"
        },
        {
         "name": "bill",
         "rawType": "float64",
         "type": "float"
        },
        {
         "name": "billion",
         "rawType": "float64",
         "type": "float"
        },
        {
         "name": "billionaire",
         "rawType": "float64",
         "type": "float"
        },
        {
         "name": "bipartisan",
         "rawType": "float64",
         "type": "float"
        },
        {
         "name": "birth",
         "rawType": "float64",
         "type": "float"
        },
        {
         "name": "bit",
         "rawType": "float64",
         "type": "float"
        },
        {
         "name": "black",
         "rawType": "float64",
         "type": "float"
        },
        {
         "name": "blame",
         "rawType": "float64",
         "type": "float"
        },
        {
         "name": "blast",
         "rawType": "float64",
         "type": "float"
        },
        {
         "name": "bloc",
         "rawType": "float64",
         "type": "float"
        },
        {
         "name": "block",
         "rawType": "float64",
         "type": "float"
        },
        {
         "name": "blood",
         "rawType": "float64",
         "type": "float"
        },
        {
         "name": "blow",
         "rawType": "float64",
         "type": "float"
        },
        {
         "name": "blue",
         "rawType": "float64",
         "type": "float"
        },
        {
         "name": "board",
         "rawType": "float64",
         "type": "float"
        },
        {
         "name": "bob",
         "rawType": "float64",
         "type": "float"
        },
        {
         "name": "body",
         "rawType": "float64",
         "type": "float"
        },
        {
         "name": "bomb",
         "rawType": "float64",
         "type": "float"
        },
        {
         "name": "bombing",
         "rawType": "float64",
         "type": "float"
        },
        {
         "name": "bond",
         "rawType": "float64",
         "type": "float"
        },
        {
         "name": "book",
         "rawType": "float64",
         "type": "float"
        },
        {
         "name": "boost",
         "rawType": "float64",
         "type": "float"
        },
        {
         "name": "border",
         "rawType": "float64",
         "type": "float"
        },
        {
         "name": "born",
         "rawType": "float64",
         "type": "float"
        },
        {
         "name": "bos",
         "rawType": "float64",
         "type": "float"
        },
        {
         "name": "bottom",
         "rawType": "float64",
         "type": "float"
        },
        {
         "name": "boy",
         "rawType": "float64",
         "type": "float"
        },
        {
         "name": "boycott",
         "rawType": "float64",
         "type": "float"
        },
        {
         "name": "brag",
         "rawType": "float64",
         "type": "float"
        },
        {
         "name": "brain",
         "rawType": "float64",
         "type": "float"
        },
        {
         "name": "branch",
         "rawType": "float64",
         "type": "float"
        },
        {
         "name": "brand",
         "rawType": "float64",
         "type": "float"
        },
        {
         "name": "breach",
         "rawType": "float64",
         "type": "float"
        },
        {
         "name": "break",
         "rawType": "float64",
         "type": "float"
        },
        {
         "name": "breitbart",
         "rawType": "float64",
         "type": "float"
        },
        {
         "name": "brexit",
         "rawType": "float64",
         "type": "float"
        },
        {
         "name": "brian",
         "rawType": "float64",
         "type": "float"
        },
        {
         "name": "bridge",
         "rawType": "float64",
         "type": "float"
        },
        {
         "name": "brief",
         "rawType": "float64",
         "type": "float"
        },
        {
         "name": "briefing",
         "rawType": "float64",
         "type": "float"
        },
        {
         "name": "brilliant",
         "rawType": "float64",
         "type": "float"
        },
        {
         "name": "bring",
         "rawType": "float64",
         "type": "float"
        },
        {
         "name": "britain",
         "rawType": "float64",
         "type": "float"
        },
        {
         "name": "british",
         "rawType": "float64",
         "type": "float"
        },
        {
         "name": "broad",
         "rawType": "float64",
         "type": "float"
        },
        {
         "name": "broadcast",
         "rawType": "float64",
         "type": "float"
        },
        {
         "name": "broader",
         "rawType": "float64",
         "type": "float"
        },
        {
         "name": "broke",
         "rawType": "float64",
         "type": "float"
        },
        {
         "name": "broken",
         "rawType": "float64",
         "type": "float"
        },
        {
         "name": "brother",
         "rawType": "float64",
         "type": "float"
        },
        {
         "name": "brought",
         "rawType": "float64",
         "type": "float"
        },
        {
         "name": "brown",
         "rawType": "float64",
         "type": "float"
        },
        {
         "name": "brussels",
         "rawType": "float64",
         "type": "float"
        },
        {
         "name": "brutal",
         "rawType": "float64",
         "type": "float"
        },
        {
         "name": "budget",
         "rawType": "float64",
         "type": "float"
        },
        {
         "name": "build",
         "rawType": "float64",
         "type": "float"
        },
        {
         "name": "building",
         "rawType": "float64",
         "type": "float"
        },
        {
         "name": "built",
         "rawType": "float64",
         "type": "float"
        },
        {
         "name": "bully",
         "rawType": "float64",
         "type": "float"
        },
        {
         "name": "bunch",
         "rawType": "float64",
         "type": "float"
        },
        {
         "name": "burden",
         "rawType": "float64",
         "type": "float"
        },
        {
         "name": "bureau",
         "rawType": "float64",
         "type": "float"
        },
        {
         "name": "burn",
         "rawType": "float64",
         "type": "float"
        },
        {
         "name": "bush",
         "rawType": "float64",
         "type": "float"
        },
        {
         "name": "business",
         "rawType": "float64",
         "type": "float"
        },
        {
         "name": "businessman",
         "rawType": "float64",
         "type": "float"
        },
        {
         "name": "busy",
         "rawType": "float64",
         "type": "float"
        },
        {
         "name": "buy",
         "rawType": "float64",
         "type": "float"
        },
        {
         "name": "buying",
         "rawType": "float64",
         "type": "float"
        },
        {
         "name": "cabinet",
         "rawType": "float64",
         "type": "float"
        },
        {
         "name": "california",
         "rawType": "float64",
         "type": "float"
        },
        {
         "name": "call",
         "rawType": "float64",
         "type": "float"
        },
        {
         "name": "caller",
         "rawType": "float64",
         "type": "float"
        },
        {
         "name": "camera",
         "rawType": "float64",
         "type": "float"
        },
        {
         "name": "camp",
         "rawType": "float64",
         "type": "float"
        },
        {
         "name": "campaign",
         "rawType": "float64",
         "type": "float"
        },
        {
         "name": "campus",
         "rawType": "float64",
         "type": "float"
        },
        {
         "name": "canada",
         "rawType": "float64",
         "type": "float"
        },
        {
         "name": "canadian",
         "rawType": "float64",
         "type": "float"
        },
        {
         "name": "cancel",
         "rawType": "float64",
         "type": "float"
        },
        {
         "name": "candidacy",
         "rawType": "float64",
         "type": "float"
        },
        {
         "name": "candidate",
         "rawType": "float64",
         "type": "float"
        },
        {
         "name": "cap",
         "rawType": "float64",
         "type": "float"
        },
        {
         "name": "capable",
         "rawType": "float64",
         "type": "float"
        },
        {
         "name": "capacity",
         "rawType": "float64",
         "type": "float"
        },
        {
         "name": "capital",
         "rawType": "float64",
         "type": "float"
        },
        {
         "name": "capitol",
         "rawType": "float64",
         "type": "float"
        },
        {
         "name": "capture",
         "rawType": "float64",
         "type": "float"
        },
        {
         "name": "car",
         "rawType": "float64",
         "type": "float"
        },
        {
         "name": "card",
         "rawType": "float64",
         "type": "float"
        },
        {
         "name": "care",
         "rawType": "float64",
         "type": "float"
        },
        {
         "name": "career",
         "rawType": "float64",
         "type": "float"
        },
        {
         "name": "carolina",
         "rawType": "float64",
         "type": "float"
        },
        {
         "name": "carry",
         "rawType": "float64",
         "type": "float"
        },
        {
         "name": "case",
         "rawType": "float64",
         "type": "float"
        },
        {
         "name": "cash",
         "rawType": "float64",
         "type": "float"
        },
        {
         "name": "cast",
         "rawType": "float64",
         "type": "float"
        },
        {
         "name": "catch",
         "rawType": "float64",
         "type": "float"
        },
        {
         "name": "catholic",
         "rawType": "float64",
         "type": "float"
        },
        {
         "name": "caucus",
         "rawType": "float64",
         "type": "float"
        },
        {
         "name": "caught",
         "rawType": "float64",
         "type": "float"
        },
        {
         "name": "cause",
         "rawType": "float64",
         "type": "float"
        },
        {
         "name": "cbs",
         "rawType": "float64",
         "type": "float"
        },
        {
         "name": "celebrate",
         "rawType": "float64",
         "type": "float"
        },
        {
         "name": "celebrity",
         "rawType": "float64",
         "type": "float"
        },
        {
         "name": "center",
         "rawType": "float64",
         "type": "float"
        },
        {
         "name": "central",
         "rawType": "float64",
         "type": "float"
        },
        {
         "name": "century",
         "rawType": "float64",
         "type": "float"
        },
        {
         "name": "ceo",
         "rawType": "float64",
         "type": "float"
        },
        {
         "name": "ceremony",
         "rawType": "float64",
         "type": "float"
        },
        {
         "name": "certain",
         "rawType": "float64",
         "type": "float"
        },
        {
         "name": "certainly",
         "rawType": "float64",
         "type": "float"
        },
        {
         "name": "chain",
         "rawType": "float64",
         "type": "float"
        },
        {
         "name": "chair",
         "rawType": "float64",
         "type": "float"
        },
        {
         "name": "chairman",
         "rawType": "float64",
         "type": "float"
        },
        {
         "name": "challenge",
         "rawType": "float64",
         "type": "float"
        },
        {
         "name": "challenged",
         "rawType": "float64",
         "type": "float"
        },
        {
         "name": "chamber",
         "rawType": "float64",
         "type": "float"
        },
        {
         "name": "champion",
         "rawType": "float64",
         "type": "float"
        },
        {
         "name": "chance",
         "rawType": "float64",
         "type": "float"
        },
        {
         "name": "chancellor",
         "rawType": "float64",
         "type": "float"
        },
        {
         "name": "change",
         "rawType": "float64",
         "type": "float"
        },
        {
         "name": "channel",
         "rawType": "float64",
         "type": "float"
        },
        {
         "name": "chant",
         "rawType": "float64",
         "type": "float"
        },
        {
         "name": "chaos",
         "rawType": "float64",
         "type": "float"
        },
        {
         "name": "character",
         "rawType": "float64",
         "type": "float"
        },
        {
         "name": "charge",
         "rawType": "float64",
         "type": "float"
        },
        {
         "name": "charity",
         "rawType": "float64",
         "type": "float"
        },
        {
         "name": "charles",
         "rawType": "float64",
         "type": "float"
        },
        {
         "name": "check",
         "rawType": "float64",
         "type": "float"
        },
        {
         "name": "cheer",
         "rawType": "float64",
         "type": "float"
        },
        {
         "name": "chicago",
         "rawType": "float64",
         "type": "float"
        },
        {
         "name": "chief",
         "rawType": "float64",
         "type": "float"
        },
        {
         "name": "child",
         "rawType": "float64",
         "type": "float"
        },
        {
         "name": "china",
         "rawType": "float64",
         "type": "float"
        },
        {
         "name": "chinese",
         "rawType": "float64",
         "type": "float"
        },
        {
         "name": "chip",
         "rawType": "float64",
         "type": "float"
        },
        {
         "name": "choice",
         "rawType": "float64",
         "type": "float"
        },
        {
         "name": "choose",
         "rawType": "float64",
         "type": "float"
        },
        {
         "name": "chose",
         "rawType": "float64",
         "type": "float"
        },
        {
         "name": "chosen",
         "rawType": "float64",
         "type": "float"
        },
        {
         "name": "chris",
         "rawType": "float64",
         "type": "float"
        },
        {
         "name": "christian",
         "rawType": "float64",
         "type": "float"
        },
        {
         "name": "christmas",
         "rawType": "float64",
         "type": "float"
        },
        {
         "name": "chuck",
         "rawType": "float64",
         "type": "float"
        },
        {
         "name": "church",
         "rawType": "float64",
         "type": "float"
        },
        {
         "name": "cia",
         "rawType": "float64",
         "type": "float"
        },
        {
         "name": "circle",
         "rawType": "float64",
         "type": "float"
        },
        {
         "name": "circuit",
         "rawType": "float64",
         "type": "float"
        },
        {
         "name": "circumstance",
         "rawType": "float64",
         "type": "float"
        },
        {
         "name": "cite",
         "rawType": "float64",
         "type": "float"
        },
        {
         "name": "citizen",
         "rawType": "float64",
         "type": "float"
        },
        {
         "name": "citizenship",
         "rawType": "float64",
         "type": "float"
        },
        {
         "name": "city",
         "rawType": "float64",
         "type": "float"
        },
        {
         "name": "civil",
         "rawType": "float64",
         "type": "float"
        },
        {
         "name": "civilian",
         "rawType": "float64",
         "type": "float"
        },
        {
         "name": "claim",
         "rawType": "float64",
         "type": "float"
        },
        {
         "name": "claimed",
         "rawType": "float64",
         "type": "float"
        },
        {
         "name": "clarify",
         "rawType": "float64",
         "type": "float"
        },
        {
         "name": "clash",
         "rawType": "float64",
         "type": "float"
        },
        {
         "name": "class",
         "rawType": "float64",
         "type": "float"
        },
        {
         "name": "classify",
         "rawType": "float64",
         "type": "float"
        },
        {
         "name": "clean",
         "rawType": "float64",
         "type": "float"
        },
        {
         "name": "clear",
         "rawType": "float64",
         "type": "float"
        },
        {
         "name": "clearly",
         "rawType": "float64",
         "type": "float"
        },
        {
         "name": "client",
         "rawType": "float64",
         "type": "float"
        },
        {
         "name": "climate",
         "rawType": "float64",
         "type": "float"
        },
        {
         "name": "clinton",
         "rawType": "float64",
         "type": "float"
        },
        {
         "name": "clip",
         "rawType": "float64",
         "type": "float"
        },
        {
         "name": "close",
         "rawType": "float64",
         "type": "float"
        },
        {
         "name": "closely",
         "rawType": "float64",
         "type": "float"
        },
        {
         "name": "closer",
         "rawType": "float64",
         "type": "float"
        },
        {
         "name": "club",
         "rawType": "float64",
         "type": "float"
        },
        {
         "name": "cnn",
         "rawType": "float64",
         "type": "float"
        },
        {
         "name": "co",
         "rawType": "float64",
         "type": "float"
        },
        {
         "name": "coal",
         "rawType": "float64",
         "type": "float"
        },
        {
         "name": "coalition",
         "rawType": "float64",
         "type": "float"
        },
        {
         "name": "coast",
         "rawType": "float64",
         "type": "float"
        },
        {
         "name": "code",
         "rawType": "float64",
         "type": "float"
        },
        {
         "name": "cold",
         "rawType": "float64",
         "type": "float"
        },
        {
         "name": "collapse",
         "rawType": "float64",
         "type": "float"
        },
        {
         "name": "colleague",
         "rawType": "float64",
         "type": "float"
        },
        {
         "name": "collect",
         "rawType": "float64",
         "type": "float"
        },
        {
         "name": "college",
         "rawType": "float64",
         "type": "float"
        },
        {
         "name": "collusion",
         "rawType": "float64",
         "type": "float"
        },
        {
         "name": "color",
         "rawType": "float64",
         "type": "float"
        },
        {
         "name": "combat",
         "rawType": "float64",
         "type": "float"
        },
        {
         "name": "combine",
         "rawType": "float64",
         "type": "float"
        },
        {
         "name": "come",
         "rawType": "float64",
         "type": "float"
        },
        {
         "name": "comey",
         "rawType": "float64",
         "type": "float"
        },
        {
         "name": "command",
         "rawType": "float64",
         "type": "float"
        },
        {
         "name": "commander",
         "rawType": "float64",
         "type": "float"
        },
        {
         "name": "comment",
         "rawType": "float64",
         "type": "float"
        },
        {
         "name": "commerce",
         "rawType": "float64",
         "type": "float"
        },
        {
         "name": "commercial",
         "rawType": "float64",
         "type": "float"
        },
        {
         "name": "commission",
         "rawType": "float64",
         "type": "float"
        },
        {
         "name": "commissioner",
         "rawType": "float64",
         "type": "float"
        },
        {
         "name": "commit",
         "rawType": "float64",
         "type": "float"
        },
        {
         "name": "commitment",
         "rawType": "float64",
         "type": "float"
        },
        {
         "name": "committee",
         "rawType": "float64",
         "type": "float"
        },
        {
         "name": "common",
         "rawType": "float64",
         "type": "float"
        },
        {
         "name": "communication",
         "rawType": "float64",
         "type": "float"
        },
        {
         "name": "communist",
         "rawType": "float64",
         "type": "float"
        },
        {
         "name": "community",
         "rawType": "float64",
         "type": "float"
        },
        {
         "name": "company",
         "rawType": "float64",
         "type": "float"
        },
        {
         "name": "compare",
         "rawType": "float64",
         "type": "float"
        },
        {
         "name": "compete",
         "rawType": "float64",
         "type": "float"
        },
        {
         "name": "complain",
         "rawType": "float64",
         "type": "float"
        },
        {
         "name": "complaint",
         "rawType": "float64",
         "type": "float"
        },
        {
         "name": "complete",
         "rawType": "float64",
         "type": "float"
        },
        {
         "name": "completely",
         "rawType": "float64",
         "type": "float"
        },
        {
         "name": "complex",
         "rawType": "float64",
         "type": "float"
        },
        {
         "name": "complicate",
         "rawType": "float64",
         "type": "float"
        },
        {
         "name": "comply",
         "rawType": "float64",
         "type": "float"
        },
        {
         "name": "comprehensive",
         "rawType": "float64",
         "type": "float"
        },
        {
         "name": "compromise",
         "rawType": "float64",
         "type": "float"
        },
        {
         "name": "computer",
         "rawType": "float64",
         "type": "float"
        },
        {
         "name": "concern",
         "rawType": "float64",
         "type": "float"
        },
        {
         "name": "concerned",
         "rawType": "float64",
         "type": "float"
        },
        {
         "name": "conclude",
         "rawType": "float64",
         "type": "float"
        },
        {
         "name": "conclusion",
         "rawType": "float64",
         "type": "float"
        },
        {
         "name": "condemn",
         "rawType": "float64",
         "type": "float"
        },
        {
         "name": "condition",
         "rawType": "float64",
         "type": "float"
        },
        {
         "name": "conduct",
         "rawType": "float64",
         "type": "float"
        },
        {
         "name": "conference",
         "rawType": "float64",
         "type": "float"
        },
        {
         "name": "confidence",
         "rawType": "float64",
         "type": "float"
        },
        {
         "name": "confident",
         "rawType": "float64",
         "type": "float"
        },
        {
         "name": "confirm",
         "rawType": "float64",
         "type": "float"
        },
        {
         "name": "confirmation",
         "rawType": "float64",
         "type": "float"
        },
        {
         "name": "conflict",
         "rawType": "float64",
         "type": "float"
        },
        {
         "name": "confront",
         "rawType": "float64",
         "type": "float"
        },
        {
         "name": "congress",
         "rawType": "float64",
         "type": "float"
        },
        {
         "name": "congressional",
         "rawType": "float64",
         "type": "float"
        },
        {
         "name": "congressman",
         "rawType": "float64",
         "type": "float"
        },
        {
         "name": "connect",
         "rawType": "float64",
         "type": "float"
        },
        {
         "name": "connection",
         "rawType": "float64",
         "type": "float"
        },
        {
         "name": "consequence",
         "rawType": "float64",
         "type": "float"
        },
        {
         "name": "conservative",
         "rawType": "float64",
         "type": "float"
        },
        {
         "name": "consider",
         "rawType": "float64",
         "type": "float"
        },
        {
         "name": "consideration",
         "rawType": "float64",
         "type": "float"
        },
        {
         "name": "considers",
         "rawType": "float64",
         "type": "float"
        },
        {
         "name": "conspiracy",
         "rawType": "float64",
         "type": "float"
        },
        {
         "name": "constitution",
         "rawType": "float64",
         "type": "float"
        },
        {
         "name": "constitutional",
         "rawType": "float64",
         "type": "float"
        },
        {
         "name": "construction",
         "rawType": "float64",
         "type": "float"
        },
        {
         "name": "consult",
         "rawType": "float64",
         "type": "float"
        },
        {
         "name": "consumer",
         "rawType": "float64",
         "type": "float"
        },
        {
         "name": "contact",
         "rawType": "float64",
         "type": "float"
        },
        {
         "name": "contain",
         "rawType": "float64",
         "type": "float"
        },
        {
         "name": "content",
         "rawType": "float64",
         "type": "float"
        },
        {
         "name": "contest",
         "rawType": "float64",
         "type": "float"
        },
        {
         "name": "continue",
         "rawType": "float64",
         "type": "float"
        },
        {
         "name": "continued",
         "rawType": "float64",
         "type": "float"
        },
        {
         "name": "contract",
         "rawType": "float64",
         "type": "float"
        },
        {
         "name": "contrast",
         "rawType": "float64",
         "type": "float"
        },
        {
         "name": "contribute",
         "rawType": "float64",
         "type": "float"
        },
        {
         "name": "contribution",
         "rawType": "float64",
         "type": "float"
        },
        {
         "name": "control",
         "rawType": "float64",
         "type": "float"
        },
        {
         "name": "controversial",
         "rawType": "float64",
         "type": "float"
        },
        {
         "name": "controversy",
         "rawType": "float64",
         "type": "float"
        },
        {
         "name": "convention",
         "rawType": "float64",
         "type": "float"
        },
        {
         "name": "conversation",
         "rawType": "float64",
         "type": "float"
        },
        {
         "name": "convict",
         "rawType": "float64",
         "type": "float"
        },
        {
         "name": "conviction",
         "rawType": "float64",
         "type": "float"
        },
        {
         "name": "convince",
         "rawType": "float64",
         "type": "float"
        },
        {
         "name": "conway",
         "rawType": "float64",
         "type": "float"
        },
        {
         "name": "cooperate",
         "rawType": "float64",
         "type": "float"
        },
        {
         "name": "cooperation",
         "rawType": "float64",
         "type": "float"
        },
        {
         "name": "coordinate",
         "rawType": "float64",
         "type": "float"
        },
        {
         "name": "cop",
         "rawType": "float64",
         "type": "float"
        },
        {
         "name": "copy",
         "rawType": "float64",
         "type": "float"
        },
        {
         "name": "core",
         "rawType": "float64",
         "type": "float"
        },
        {
         "name": "corp",
         "rawType": "float64",
         "type": "float"
        },
        {
         "name": "corporate",
         "rawType": "float64",
         "type": "float"
        },
        {
         "name": "corporation",
         "rawType": "float64",
         "type": "float"
        },
        {
         "name": "correct",
         "rawType": "float64",
         "type": "float"
        },
        {
         "name": "corrupt",
         "rawType": "float64",
         "type": "float"
        },
        {
         "name": "corruption",
         "rawType": "float64",
         "type": "float"
        },
        {
         "name": "cost",
         "rawType": "float64",
         "type": "float"
        },
        {
         "name": "could",
         "rawType": "float64",
         "type": "float"
        },
        {
         "name": "council",
         "rawType": "float64",
         "type": "float"
        },
        {
         "name": "counsel",
         "rawType": "float64",
         "type": "float"
        },
        {
         "name": "count",
         "rawType": "float64",
         "type": "float"
        },
        {
         "name": "counter",
         "rawType": "float64",
         "type": "float"
        },
        {
         "name": "counterpart",
         "rawType": "float64",
         "type": "float"
        },
        {
         "name": "country",
         "rawType": "float64",
         "type": "float"
        },
        {
         "name": "county",
         "rawType": "float64",
         "type": "float"
        },
        {
         "name": "coup",
         "rawType": "float64",
         "type": "float"
        },
        {
         "name": "couple",
         "rawType": "float64",
         "type": "float"
        },
        {
         "name": "course",
         "rawType": "float64",
         "type": "float"
        },
        {
         "name": "court",
         "rawType": "float64",
         "type": "float"
        },
        {
         "name": "cover",
         "rawType": "float64",
         "type": "float"
        },
        {
         "name": "coverage",
         "rawType": "float64",
         "type": "float"
        },
        {
         "name": "crack",
         "rawType": "float64",
         "type": "float"
        },
        {
         "name": "crackdown",
         "rawType": "float64",
         "type": "float"
        },
        {
         "name": "crazy",
         "rawType": "float64",
         "type": "float"
        },
        {
         "name": "create",
         "rawType": "float64",
         "type": "float"
        },
        {
         "name": "creation",
         "rawType": "float64",
         "type": "float"
        },
        {
         "name": "credibility",
         "rawType": "float64",
         "type": "float"
        },
        {
         "name": "credit",
         "rawType": "float64",
         "type": "float"
        },
        {
         "name": "crime",
         "rawType": "float64",
         "type": "float"
        },
        {
         "name": "criminal",
         "rawType": "float64",
         "type": "float"
        },
        {
         "name": "crisis",
         "rawType": "float64",
         "type": "float"
        },
        {
         "name": "critic",
         "rawType": "float64",
         "type": "float"
        },
        {
         "name": "critical",
         "rawType": "float64",
         "type": "float"
        },
        {
         "name": "criticism",
         "rawType": "float64",
         "type": "float"
        },
        {
         "name": "criticize",
         "rawType": "float64",
         "type": "float"
        },
        {
         "name": "crooked",
         "rawType": "float64",
         "type": "float"
        },
        {
         "name": "cross",
         "rawType": "float64",
         "type": "float"
        },
        {
         "name": "crowd",
         "rawType": "float64",
         "type": "float"
        },
        {
         "name": "crucial",
         "rawType": "float64",
         "type": "float"
        },
        {
         "name": "cruz",
         "rawType": "float64",
         "type": "float"
        },
        {
         "name": "cry",
         "rawType": "float64",
         "type": "float"
        },
        {
         "name": "culture",
         "rawType": "float64",
         "type": "float"
        },
        {
         "name": "curb",
         "rawType": "float64",
         "type": "float"
        },
        {
         "name": "currency",
         "rawType": "float64",
         "type": "float"
        },
        {
         "name": "current",
         "rawType": "float64",
         "type": "float"
        },
        {
         "name": "currently",
         "rawType": "float64",
         "type": "float"
        },
        {
         "name": "custody",
         "rawType": "float64",
         "type": "float"
        },
        {
         "name": "custom",
         "rawType": "float64",
         "type": "float"
        },
        {
         "name": "customer",
         "rawType": "float64",
         "type": "float"
        },
        {
         "name": "cut",
         "rawType": "float64",
         "type": "float"
        },
        {
         "name": "cyber",
         "rawType": "float64",
         "type": "float"
        },
        {
         "name": "cycle",
         "rawType": "float64",
         "type": "float"
        },
        {
         "name": "daily",
         "rawType": "float64",
         "type": "float"
        },
        {
         "name": "damage",
         "rawType": "float64",
         "type": "float"
        },
        {
         "name": "damn",
         "rawType": "float64",
         "type": "float"
        },
        {
         "name": "dan",
         "rawType": "float64",
         "type": "float"
        },
        {
         "name": "danger",
         "rawType": "float64",
         "type": "float"
        },
        {
         "name": "dangerous",
         "rawType": "float64",
         "type": "float"
        },
        {
         "name": "dare",
         "rawType": "float64",
         "type": "float"
        },
        {
         "name": "dark",
         "rawType": "float64",
         "type": "float"
        },
        {
         "name": "data",
         "rawType": "float64",
         "type": "float"
        },
        {
         "name": "date",
         "rawType": "float64",
         "type": "float"
        },
        {
         "name": "daughter",
         "rawType": "float64",
         "type": "float"
        },
        {
         "name": "david",
         "rawType": "float64",
         "type": "float"
        },
        {
         "name": "day",
         "rawType": "float64",
         "type": "float"
        },
        {
         "name": "dc",
         "rawType": "float64",
         "type": "float"
        },
        {
         "name": "de",
         "rawType": "float64",
         "type": "float"
        },
        {
         "name": "dead",
         "rawType": "float64",
         "type": "float"
        },
        {
         "name": "deadline",
         "rawType": "float64",
         "type": "float"
        },
        {
         "name": "deadly",
         "rawType": "float64",
         "type": "float"
        },
        {
         "name": "deal",
         "rawType": "float64",
         "type": "float"
        },
        {
         "name": "death",
         "rawType": "float64",
         "type": "float"
        },
        {
         "name": "debate",
         "rawType": "float64",
         "type": "float"
        },
        {
         "name": "debt",
         "rawType": "float64",
         "type": "float"
        },
        {
         "name": "decade",
         "rawType": "float64",
         "type": "float"
        },
        {
         "name": "december",
         "rawType": "float64",
         "type": "float"
        },
        {
         "name": "decide",
         "rawType": "float64",
         "type": "float"
        },
        {
         "name": "decision",
         "rawType": "float64",
         "type": "float"
        },
        {
         "name": "declaration",
         "rawType": "float64",
         "type": "float"
        },
        {
         "name": "declare",
         "rawType": "float64",
         "type": "float"
        },
        {
         "name": "decline",
         "rawType": "float64",
         "type": "float"
        },
        {
         "name": "deem",
         "rawType": "float64",
         "type": "float"
        },
        {
         "name": "deep",
         "rawType": "float64",
         "type": "float"
        },
        {
         "name": "deeply",
         "rawType": "float64",
         "type": "float"
        },
        {
         "name": "defeat",
         "rawType": "float64",
         "type": "float"
        },
        {
         "name": "defend",
         "rawType": "float64",
         "type": "float"
        },
        {
         "name": "defense",
         "rawType": "float64",
         "type": "float"
        },
        {
         "name": "deficit",
         "rawType": "float64",
         "type": "float"
        },
        {
         "name": "define",
         "rawType": "float64",
         "type": "float"
        },
        {
         "name": "definitely",
         "rawType": "float64",
         "type": "float"
        },
        {
         "name": "degree",
         "rawType": "float64",
         "type": "float"
        },
        {
         "name": "delay",
         "rawType": "float64",
         "type": "float"
        },
        {
         "name": "delegate",
         "rawType": "float64",
         "type": "float"
        },
        {
         "name": "delete",
         "rawType": "float64",
         "type": "float"
        },
        {
         "name": "deliver",
         "rawType": "float64",
         "type": "float"
        },
        {
         "name": "demand",
         "rawType": "float64",
         "type": "float"
        },
        {
         "name": "democracy",
         "rawType": "float64",
         "type": "float"
        },
        {
         "name": "democrat",
         "rawType": "float64",
         "type": "float"
        },
        {
         "name": "democratic",
         "rawType": "float64",
         "type": "float"
        },
        {
         "name": "demonstrate",
         "rawType": "float64",
         "type": "float"
        },
        {
         "name": "demonstration",
         "rawType": "float64",
         "type": "float"
        },
        {
         "name": "denies",
         "rawType": "float64",
         "type": "float"
        },
        {
         "name": "denounce",
         "rawType": "float64",
         "type": "float"
        },
        {
         "name": "deny",
         "rawType": "float64",
         "type": "float"
        },
        {
         "name": "department",
         "rawType": "float64",
         "type": "float"
        },
        {
         "name": "departure",
         "rawType": "float64",
         "type": "float"
        },
        {
         "name": "depend",
         "rawType": "float64",
         "type": "float"
        },
        {
         "name": "deport",
         "rawType": "float64",
         "type": "float"
        },
        {
         "name": "deportation",
         "rawType": "float64",
         "type": "float"
        },
        {
         "name": "deputy",
         "rawType": "float64",
         "type": "float"
        },
        {
         "name": "describe",
         "rawType": "float64",
         "type": "float"
        },
        {
         "name": "described",
         "rawType": "float64",
         "type": "float"
        },
        {
         "name": "deserve",
         "rawType": "float64",
         "type": "float"
        },
        {
         "name": "design",
         "rawType": "float64",
         "type": "float"
        },
        {
         "name": "desire",
         "rawType": "float64",
         "type": "float"
        },
        {
         "name": "desperate",
         "rawType": "float64",
         "type": "float"
        },
        {
         "name": "despite",
         "rawType": "float64",
         "type": "float"
        },
        {
         "name": "destroy",
         "rawType": "float64",
         "type": "float"
        },
        {
         "name": "destroyed",
         "rawType": "float64",
         "type": "float"
        },
        {
         "name": "destruction",
         "rawType": "float64",
         "type": "float"
        },
        {
         "name": "detail",
         "rawType": "float64",
         "type": "float"
        },
        {
         "name": "detailed",
         "rawType": "float64",
         "type": "float"
        },
        {
         "name": "detain",
         "rawType": "float64",
         "type": "float"
        },
        {
         "name": "detention",
         "rawType": "float64",
         "type": "float"
        },
        {
         "name": "determine",
         "rawType": "float64",
         "type": "float"
        },
        {
         "name": "devastate",
         "rawType": "float64",
         "type": "float"
        },
        {
         "name": "develop",
         "rawType": "float64",
         "type": "float"
        },
        {
         "name": "developed",
         "rawType": "float64",
         "type": "float"
        },
        {
         "name": "development",
         "rawType": "float64",
         "type": "float"
        },
        {
         "name": "device",
         "rawType": "float64",
         "type": "float"
        },
        {
         "name": "dialogue",
         "rawType": "float64",
         "type": "float"
        },
        {
         "name": "dictator",
         "rawType": "float64",
         "type": "float"
        },
        {
         "name": "die",
         "rawType": "float64",
         "type": "float"
        },
        {
         "name": "difference",
         "rawType": "float64",
         "type": "float"
        },
        {
         "name": "different",
         "rawType": "float64",
         "type": "float"
        },
        {
         "name": "difficult",
         "rawType": "float64",
         "type": "float"
        },
        {
         "name": "dinner",
         "rawType": "float64",
         "type": "float"
        },
        {
         "name": "diplomacy",
         "rawType": "float64",
         "type": "float"
        },
        {
         "name": "diplomat",
         "rawType": "float64",
         "type": "float"
        },
        {
         "name": "diplomatic",
         "rawType": "float64",
         "type": "float"
        },
        {
         "name": "direct",
         "rawType": "float64",
         "type": "float"
        },
        {
         "name": "direction",
         "rawType": "float64",
         "type": "float"
        },
        {
         "name": "directly",
         "rawType": "float64",
         "type": "float"
        },
        {
         "name": "director",
         "rawType": "float64",
         "type": "float"
        },
        {
         "name": "disagree",
         "rawType": "float64",
         "type": "float"
        },
        {
         "name": "disappointed",
         "rawType": "float64",
         "type": "float"
        },
        {
         "name": "disaster",
         "rawType": "float64",
         "type": "float"
        },
        {
         "name": "disclose",
         "rawType": "float64",
         "type": "float"
        },
        {
         "name": "disclosure",
         "rawType": "float64",
         "type": "float"
        },
        {
         "name": "discover",
         "rawType": "float64",
         "type": "float"
        },
        {
         "name": "discrimination",
         "rawType": "float64",
         "type": "float"
        },
        {
         "name": "discus",
         "rawType": "float64",
         "type": "float"
        },
        {
         "name": "discuss",
         "rawType": "float64",
         "type": "float"
        },
        {
         "name": "discussion",
         "rawType": "float64",
         "type": "float"
        },
        {
         "name": "disgust",
         "rawType": "float64",
         "type": "float"
        },
        {
         "name": "dismantle",
         "rawType": "float64",
         "type": "float"
        },
        {
         "name": "dismiss",
         "rawType": "float64",
         "type": "float"
        },
        {
         "name": "display",
         "rawType": "float64",
         "type": "float"
        },
        {
         "name": "dispute",
         "rawType": "float64",
         "type": "float"
        },
        {
         "name": "disrupt",
         "rawType": "float64",
         "type": "float"
        },
        {
         "name": "distance",
         "rawType": "float64",
         "type": "float"
        },
        {
         "name": "district",
         "rawType": "float64",
         "type": "float"
        },
        {
         "name": "disturb",
         "rawType": "float64",
         "type": "float"
        },
        {
         "name": "divide",
         "rawType": "float64",
         "type": "float"
        },
        {
         "name": "division",
         "rawType": "float64",
         "type": "float"
        },
        {
         "name": "divisive",
         "rawType": "float64",
         "type": "float"
        },
        {
         "name": "dnc",
         "rawType": "float64",
         "type": "float"
        },
        {
         "name": "do",
         "rawType": "float64",
         "type": "float"
        },
        {
         "name": "doctor",
         "rawType": "float64",
         "type": "float"
        },
        {
         "name": "document",
         "rawType": "float64",
         "type": "float"
        },
        {
         "name": "dog",
         "rawType": "float64",
         "type": "float"
        },
        {
         "name": "dollar",
         "rawType": "float64",
         "type": "float"
        },
        {
         "name": "domestic",
         "rawType": "float64",
         "type": "float"
        },
        {
         "name": "dominate",
         "rawType": "float64",
         "type": "float"
        },
        {
         "name": "donald",
         "rawType": "float64",
         "type": "float"
        },
        {
         "name": "donate",
         "rawType": "float64",
         "type": "float"
        },
        {
         "name": "donation",
         "rawType": "float64",
         "type": "float"
        },
        {
         "name": "donor",
         "rawType": "float64",
         "type": "float"
        },
        {
         "name": "door",
         "rawType": "float64",
         "type": "float"
        },
        {
         "name": "double",
         "rawType": "float64",
         "type": "float"
        },
        {
         "name": "doubt",
         "rawType": "float64",
         "type": "float"
        },
        {
         "name": "dozen",
         "rawType": "float64",
         "type": "float"
        },
        {
         "name": "draft",
         "rawType": "float64",
         "type": "float"
        },
        {
         "name": "drag",
         "rawType": "float64",
         "type": "float"
        },
        {
         "name": "draw",
         "rawType": "float64",
         "type": "float"
        },
        {
         "name": "drawn",
         "rawType": "float64",
         "type": "float"
        },
        {
         "name": "dream",
         "rawType": "float64",
         "type": "float"
        },
        {
         "name": "dress",
         "rawType": "float64",
         "type": "float"
        },
        {
         "name": "drew",
         "rawType": "float64",
         "type": "float"
        },
        {
         "name": "drive",
         "rawType": "float64",
         "type": "float"
        },
        {
         "name": "driven",
         "rawType": "float64",
         "type": "float"
        },
        {
         "name": "driver",
         "rawType": "float64",
         "type": "float"
        },
        {
         "name": "drop",
         "rawType": "float64",
         "type": "float"
        },
        {
         "name": "drug",
         "rawType": "float64",
         "type": "float"
        },
        {
         "name": "due",
         "rawType": "float64",
         "type": "float"
        },
        {
         "name": "duty",
         "rawType": "float64",
         "type": "float"
        },
        {
         "name": "earlier",
         "rawType": "float64",
         "type": "float"
        },
        {
         "name": "early",
         "rawType": "float64",
         "type": "float"
        },
        {
         "name": "earn",
         "rawType": "float64",
         "type": "float"
        },
        {
         "name": "ease",
         "rawType": "float64",
         "type": "float"
        },
        {
         "name": "easily",
         "rawType": "float64",
         "type": "float"
        },
        {
         "name": "east",
         "rawType": "float64",
         "type": "float"
        },
        {
         "name": "eastern",
         "rawType": "float64",
         "type": "float"
        },
        {
         "name": "easy",
         "rawType": "float64",
         "type": "float"
        },
        {
         "name": "eat",
         "rawType": "float64",
         "type": "float"
        },
        {
         "name": "economic",
         "rawType": "float64",
         "type": "float"
        },
        {
         "name": "economy",
         "rawType": "float64",
         "type": "float"
        },
        {
         "name": "edit",
         "rawType": "float64",
         "type": "float"
        },
        {
         "name": "editorial",
         "rawType": "float64",
         "type": "float"
        },
        {
         "name": "education",
         "rawType": "float64",
         "type": "float"
        },
        {
         "name": "effect",
         "rawType": "float64",
         "type": "float"
        },
        {
         "name": "effective",
         "rawType": "float64",
         "type": "float"
        },
        {
         "name": "effectively",
         "rawType": "float64",
         "type": "float"
        },
        {
         "name": "effort",
         "rawType": "float64",
         "type": "float"
        },
        {
         "name": "egypt",
         "rawType": "float64",
         "type": "float"
        },
        {
         "name": "eight",
         "rawType": "float64",
         "type": "float"
        },
        {
         "name": "either",
         "rawType": "float64",
         "type": "float"
        },
        {
         "name": "elect",
         "rawType": "float64",
         "type": "float"
        },
        {
         "name": "election",
         "rawType": "float64",
         "type": "float"
        },
        {
         "name": "electoral",
         "rawType": "float64",
         "type": "float"
        },
        {
         "name": "element",
         "rawType": "float64",
         "type": "float"
        },
        {
         "name": "eliminate",
         "rawType": "float64",
         "type": "float"
        },
        {
         "name": "elite",
         "rawType": "float64",
         "type": "float"
        },
        {
         "name": "elizabeth",
         "rawType": "float64",
         "type": "float"
        },
        {
         "name": "else",
         "rawType": "float64",
         "type": "float"
        },
        {
         "name": "elsewhere",
         "rawType": "float64",
         "type": "float"
        },
        {
         "name": "email",
         "rawType": "float64",
         "type": "float"
        },
        {
         "name": "embarrass",
         "rawType": "float64",
         "type": "float"
        },
        {
         "name": "embassy",
         "rawType": "float64",
         "type": "float"
        },
        {
         "name": "embrace",
         "rawType": "float64",
         "type": "float"
        },
        {
         "name": "emerge",
         "rawType": "float64",
         "type": "float"
        },
        {
         "name": "emergency",
         "rawType": "float64",
         "type": "float"
        },
        {
         "name": "emmanuel",
         "rawType": "float64",
         "type": "float"
        },
        {
         "name": "employ",
         "rawType": "float64",
         "type": "float"
        },
        {
         "name": "employee",
         "rawType": "float64",
         "type": "float"
        },
        {
         "name": "employer",
         "rawType": "float64",
         "type": "float"
        },
        {
         "name": "employment",
         "rawType": "float64",
         "type": "float"
        },
        {
         "name": "enable",
         "rawType": "float64",
         "type": "float"
        },
        {
         "name": "enact",
         "rawType": "float64",
         "type": "float"
        },
        {
         "name": "encourage",
         "rawType": "float64",
         "type": "float"
        },
        {
         "name": "end",
         "rawType": "float64",
         "type": "float"
        },
        {
         "name": "endorse",
         "rawType": "float64",
         "type": "float"
        },
        {
         "name": "endorsement",
         "rawType": "float64",
         "type": "float"
        },
        {
         "name": "enemy",
         "rawType": "float64",
         "type": "float"
        },
        {
         "name": "energy",
         "rawType": "float64",
         "type": "float"
        },
        {
         "name": "enforce",
         "rawType": "float64",
         "type": "float"
        },
        {
         "name": "enforcement",
         "rawType": "float64",
         "type": "float"
        },
        {
         "name": "engage",
         "rawType": "float64",
         "type": "float"
        },
        {
         "name": "english",
         "rawType": "float64",
         "type": "float"
        },
        {
         "name": "enjoy",
         "rawType": "float64",
         "type": "float"
        },
        {
         "name": "enough",
         "rawType": "float64",
         "type": "float"
        },
        {
         "name": "ensure",
         "rawType": "float64",
         "type": "float"
        },
        {
         "name": "enter",
         "rawType": "float64",
         "type": "float"
        },
        {
         "name": "entire",
         "rawType": "float64",
         "type": "float"
        },
        {
         "name": "entirely",
         "rawType": "float64",
         "type": "float"
        },
        {
         "name": "entity",
         "rawType": "float64",
         "type": "float"
        },
        {
         "name": "entry",
         "rawType": "float64",
         "type": "float"
        },
        {
         "name": "environment",
         "rawType": "float64",
         "type": "float"
        },
        {
         "name": "environmental",
         "rawType": "float64",
         "type": "float"
        },
        {
         "name": "equal",
         "rawType": "float64",
         "type": "float"
        },
        {
         "name": "equality",
         "rawType": "float64",
         "type": "float"
        },
        {
         "name": "equipment",
         "rawType": "float64",
         "type": "float"
        },
        {
         "name": "era",
         "rawType": "float64",
         "type": "float"
        },
        {
         "name": "eric",
         "rawType": "float64",
         "type": "float"
        },
        {
         "name": "error",
         "rawType": "float64",
         "type": "float"
        },
        {
         "name": "escalate",
         "rawType": "float64",
         "type": "float"
        },
        {
         "name": "escape",
         "rawType": "float64",
         "type": "float"
        },
        {
         "name": "especially",
         "rawType": "float64",
         "type": "float"
        },
        {
         "name": "essentially",
         "rawType": "float64",
         "type": "float"
        },
        {
         "name": "establish",
         "rawType": "float64",
         "type": "float"
        },
        {
         "name": "establishment",
         "rawType": "float64",
         "type": "float"
        },
        {
         "name": "estate",
         "rawType": "float64",
         "type": "float"
        },
        {
         "name": "estimate",
         "rawType": "float64",
         "type": "float"
        },
        {
         "name": "ethic",
         "rawType": "float64",
         "type": "float"
        },
        {
         "name": "ethnic",
         "rawType": "float64",
         "type": "float"
        },
        {
         "name": "eu",
         "rawType": "float64",
         "type": "float"
        },
        {
         "name": "euro",
         "rawType": "float64",
         "type": "float"
        },
        {
         "name": "europe",
         "rawType": "float64",
         "type": "float"
        },
        {
         "name": "european",
         "rawType": "float64",
         "type": "float"
        },
        {
         "name": "even",
         "rawType": "float64",
         "type": "float"
        },
        {
         "name": "event",
         "rawType": "float64",
         "type": "float"
        },
        {
         "name": "eventually",
         "rawType": "float64",
         "type": "float"
        },
        {
         "name": "ever",
         "rawType": "float64",
         "type": "float"
        },
        {
         "name": "every",
         "rawType": "float64",
         "type": "float"
        },
        {
         "name": "everybody",
         "rawType": "float64",
         "type": "float"
        },
        {
         "name": "everyone",
         "rawType": "float64",
         "type": "float"
        },
        {
         "name": "everything",
         "rawType": "float64",
         "type": "float"
        },
        {
         "name": "everywhere",
         "rawType": "float64",
         "type": "float"
        },
        {
         "name": "evidence",
         "rawType": "float64",
         "type": "float"
        },
        {
         "name": "evil",
         "rawType": "float64",
         "type": "float"
        },
        {
         "name": "exact",
         "rawType": "float64",
         "type": "float"
        },
        {
         "name": "exactly",
         "rawType": "float64",
         "type": "float"
        },
        {
         "name": "examine",
         "rawType": "float64",
         "type": "float"
        },
        {
         "name": "example",
         "rawType": "float64",
         "type": "float"
        },
        {
         "name": "except",
         "rawType": "float64",
         "type": "float"
        },
        {
         "name": "exchange",
         "rawType": "float64",
         "type": "float"
        },
        {
         "name": "exclusive",
         "rawType": "float64",
         "type": "float"
        },
        {
         "name": "excuse",
         "rawType": "float64",
         "type": "float"
        },
        {
         "name": "executive",
         "rawType": "float64",
         "type": "float"
        },
        {
         "name": "exercise",
         "rawType": "float64",
         "type": "float"
        },
        {
         "name": "exist",
         "rawType": "float64",
         "type": "float"
        },
        {
         "name": "exit",
         "rawType": "float64",
         "type": "float"
        },
        {
         "name": "expand",
         "rawType": "float64",
         "type": "float"
        },
        {
         "name": "expansion",
         "rawType": "float64",
         "type": "float"
        },
        {
         "name": "expect",
         "rawType": "float64",
         "type": "float"
        },
        {
         "name": "expense",
         "rawType": "float64",
         "type": "float"
        },
        {
         "name": "expensive",
         "rawType": "float64",
         "type": "float"
        },
        {
         "name": "experience",
         "rawType": "float64",
         "type": "float"
        },
        {
         "name": "expert",
         "rawType": "float64",
         "type": "float"
        },
        {
         "name": "explain",
         "rawType": "float64",
         "type": "float"
        },
        {
         "name": "explains",
         "rawType": "float64",
         "type": "float"
        },
        {
         "name": "exploit",
         "rawType": "float64",
         "type": "float"
        },
        {
         "name": "export",
         "rawType": "float64",
         "type": "float"
        },
        {
         "name": "expose",
         "rawType": "float64",
         "type": "float"
        },
        {
         "name": "express",
         "rawType": "float64",
         "type": "float"
        },
        {
         "name": "extend",
         "rawType": "float64",
         "type": "float"
        },
        {
         "name": "extent",
         "rawType": "float64",
         "type": "float"
        },
        {
         "name": "extra",
         "rawType": "float64",
         "type": "float"
        },
        {
         "name": "extreme",
         "rawType": "float64",
         "type": "float"
        },
        {
         "name": "extremely",
         "rawType": "float64",
         "type": "float"
        },
        {
         "name": "extremist",
         "rawType": "float64",
         "type": "float"
        },
        {
         "name": "eye",
         "rawType": "float64",
         "type": "float"
        },
        {
         "name": "f",
         "rawType": "float64",
         "type": "float"
        },
        {
         "name": "face",
         "rawType": "float64",
         "type": "float"
        },
        {
         "name": "facebook",
         "rawType": "float64",
         "type": "float"
        },
        {
         "name": "facility",
         "rawType": "float64",
         "type": "float"
        },
        {
         "name": "fact",
         "rawType": "float64",
         "type": "float"
        },
        {
         "name": "factbox",
         "rawType": "float64",
         "type": "float"
        },
        {
         "name": "factor",
         "rawType": "float64",
         "type": "float"
        },
        {
         "name": "fail",
         "rawType": "float64",
         "type": "float"
        },
        {
         "name": "failure",
         "rawType": "float64",
         "type": "float"
        },
        {
         "name": "fair",
         "rawType": "float64",
         "type": "float"
        },
        {
         "name": "faith",
         "rawType": "float64",
         "type": "float"
        },
        {
         "name": "fake",
         "rawType": "float64",
         "type": "float"
        },
        {
         "name": "fall",
         "rawType": "float64",
         "type": "float"
        },
        {
         "name": "false",
         "rawType": "float64",
         "type": "float"
        },
        {
         "name": "familiar",
         "rawType": "float64",
         "type": "float"
        },
        {
         "name": "family",
         "rawType": "float64",
         "type": "float"
        },
        {
         "name": "famous",
         "rawType": "float64",
         "type": "float"
        },
        {
         "name": "fan",
         "rawType": "float64",
         "type": "float"
        },
        {
         "name": "far",
         "rawType": "float64",
         "type": "float"
        },
        {
         "name": "fast",
         "rawType": "float64",
         "type": "float"
        },
        {
         "name": "father",
         "rawType": "float64",
         "type": "float"
        },
        {
         "name": "favor",
         "rawType": "float64",
         "type": "float"
        },
        {
         "name": "favorite",
         "rawType": "float64",
         "type": "float"
        },
        {
         "name": "fbi",
         "rawType": "float64",
         "type": "float"
        },
        {
         "name": "fear",
         "rawType": "float64",
         "type": "float"
        },
        {
         "name": "feature",
         "rawType": "float64",
         "type": "float"
        },
        {
         "name": "february",
         "rawType": "float64",
         "type": "float"
        },
        {
         "name": "fed",
         "rawType": "float64",
         "type": "float"
        },
        {
         "name": "federal",
         "rawType": "float64",
         "type": "float"
        },
        {
         "name": "fee",
         "rawType": "float64",
         "type": "float"
        },
        {
         "name": "feed",
         "rawType": "float64",
         "type": "float"
        },
        {
         "name": "feel",
         "rawType": "float64",
         "type": "float"
        },
        {
         "name": "fell",
         "rawType": "float64",
         "type": "float"
        },
        {
         "name": "fellow",
         "rawType": "float64",
         "type": "float"
        },
        {
         "name": "felt",
         "rawType": "float64",
         "type": "float"
        },
        {
         "name": "female",
         "rawType": "float64",
         "type": "float"
        },
        {
         "name": "few",
         "rawType": "float64",
         "type": "float"
        },
        {
         "name": "field",
         "rawType": "float64",
         "type": "float"
        },
        {
         "name": "fifth",
         "rawType": "float64",
         "type": "float"
        },
        {
         "name": "fight",
         "rawType": "float64",
         "type": "float"
        },
        {
         "name": "fighter",
         "rawType": "float64",
         "type": "float"
        },
        {
         "name": "figure",
         "rawType": "float64",
         "type": "float"
        },
        {
         "name": "file",
         "rawType": "float64",
         "type": "float"
        },
        {
         "name": "filing",
         "rawType": "float64",
         "type": "float"
        },
        {
         "name": "fill",
         "rawType": "float64",
         "type": "float"
        },
        {
         "name": "film",
         "rawType": "float64",
         "type": "float"
        },
        {
         "name": "final",
         "rawType": "float64",
         "type": "float"
        },
        {
         "name": "finally",
         "rawType": "float64",
         "type": "float"
        },
        {
         "name": "finance",
         "rawType": "float64",
         "type": "float"
        },
        {
         "name": "financial",
         "rawType": "float64",
         "type": "float"
        },
        {
         "name": "find",
         "rawType": "float64",
         "type": "float"
        },
        {
         "name": "finding",
         "rawType": "float64",
         "type": "float"
        },
        {
         "name": "fine",
         "rawType": "float64",
         "type": "float"
        },
        {
         "name": "finish",
         "rawType": "float64",
         "type": "float"
        },
        {
         "name": "fire",
         "rawType": "float64",
         "type": "float"
        },
        {
         "name": "firm",
         "rawType": "float64",
         "type": "float"
        },
        {
         "name": "first",
         "rawType": "float64",
         "type": "float"
        },
        {
         "name": "fiscal",
         "rawType": "float64",
         "type": "float"
        },
        {
         "name": "fit",
         "rawType": "float64",
         "type": "float"
        },
        {
         "name": "five",
         "rawType": "float64",
         "type": "float"
        },
        {
         "name": "fix",
         "rawType": "float64",
         "type": "float"
        },
        {
         "name": "flag",
         "rawType": "float64",
         "type": "float"
        },
        {
         "name": "flee",
         "rawType": "float64",
         "type": "float"
        },
        {
         "name": "flickr",
         "rawType": "float64",
         "type": "float"
        },
        {
         "name": "flight",
         "rawType": "float64",
         "type": "float"
        },
        {
         "name": "flood",
         "rawType": "float64",
         "type": "float"
        },
        {
         "name": "floor",
         "rawType": "float64",
         "type": "float"
        },
        {
         "name": "florida",
         "rawType": "float64",
         "type": "float"
        },
        {
         "name": "flow",
         "rawType": "float64",
         "type": "float"
        },
        {
         "name": "fly",
         "rawType": "float64",
         "type": "float"
        },
        {
         "name": "flynn",
         "rawType": "float64",
         "type": "float"
        },
        {
         "name": "focus",
         "rawType": "float64",
         "type": "float"
        },
        {
         "name": "folk",
         "rawType": "float64",
         "type": "float"
        },
        {
         "name": "follow",
         "rawType": "float64",
         "type": "float"
        },
        {
         "name": "follower",
         "rawType": "float64",
         "type": "float"
        },
        {
         "name": "food",
         "rawType": "float64",
         "type": "float"
        },
        {
         "name": "foot",
         "rawType": "float64",
         "type": "float"
        },
        {
         "name": "footage",
         "rawType": "float64",
         "type": "float"
        },
        {
         "name": "force",
         "rawType": "float64",
         "type": "float"
        },
        {
         "name": "foreign",
         "rawType": "float64",
         "type": "float"
        },
        {
         "name": "forget",
         "rawType": "float64",
         "type": "float"
        },
        {
         "name": "form",
         "rawType": "float64",
         "type": "float"
        },
        {
         "name": "formal",
         "rawType": "float64",
         "type": "float"
        },
        {
         "name": "formally",
         "rawType": "float64",
         "type": "float"
        },
        {
         "name": "former",
         "rawType": "float64",
         "type": "float"
        },
        {
         "name": "forum",
         "rawType": "float64",
         "type": "float"
        },
        {
         "name": "forward",
         "rawType": "float64",
         "type": "float"
        },
        {
         "name": "fought",
         "rawType": "float64",
         "type": "float"
        },
        {
         "name": "found",
         "rawType": "float64",
         "type": "float"
        },
        {
         "name": "foundation",
         "rawType": "float64",
         "type": "float"
        },
        {
         "name": "founder",
         "rawType": "float64",
         "type": "float"
        },
        {
         "name": "four",
         "rawType": "float64",
         "type": "float"
        },
        {
         "name": "fourth",
         "rawType": "float64",
         "type": "float"
        },
        {
         "name": "fox",
         "rawType": "float64",
         "type": "float"
        },
        {
         "name": "france",
         "rawType": "float64",
         "type": "float"
        },
        {
         "name": "francisco",
         "rawType": "float64",
         "type": "float"
        },
        {
         "name": "fraud",
         "rawType": "float64",
         "type": "float"
        },
        {
         "name": "free",
         "rawType": "float64",
         "type": "float"
        },
        {
         "name": "freedom",
         "rawType": "float64",
         "type": "float"
        },
        {
         "name": "french",
         "rawType": "float64",
         "type": "float"
        },
        {
         "name": "frequently",
         "rawType": "float64",
         "type": "float"
        },
        {
         "name": "fresh",
         "rawType": "float64",
         "type": "float"
        },
        {
         "name": "friday",
         "rawType": "float64",
         "type": "float"
        },
        {
         "name": "friend",
         "rawType": "float64",
         "type": "float"
        },
        {
         "name": "front",
         "rawType": "float64",
         "type": "float"
        },
        {
         "name": "frustrate",
         "rawType": "float64",
         "type": "float"
        },
        {
         "name": "fuel",
         "rawType": "float64",
         "type": "float"
        },
        {
         "name": "full",
         "rawType": "float64",
         "type": "float"
        },
        {
         "name": "fully",
         "rawType": "float64",
         "type": "float"
        },
        {
         "name": "fun",
         "rawType": "float64",
         "type": "float"
        },
        {
         "name": "function",
         "rawType": "float64",
         "type": "float"
        },
        {
         "name": "fund",
         "rawType": "float64",
         "type": "float"
        },
        {
         "name": "fundamental",
         "rawType": "float64",
         "type": "float"
        },
        {
         "name": "funding",
         "rawType": "float64",
         "type": "float"
        },
        {
         "name": "funny",
         "rawType": "float64",
         "type": "float"
        },
        {
         "name": "future",
         "rawType": "float64",
         "type": "float"
        },
        {
         "name": "gain",
         "rawType": "float64",
         "type": "float"
        },
        {
         "name": "game",
         "rawType": "float64",
         "type": "float"
        },
        {
         "name": "gang",
         "rawType": "float64",
         "type": "float"
        },
        {
         "name": "gap",
         "rawType": "float64",
         "type": "float"
        },
        {
         "name": "gas",
         "rawType": "float64",
         "type": "float"
        },
        {
         "name": "gather",
         "rawType": "float64",
         "type": "float"
        },
        {
         "name": "gathering",
         "rawType": "float64",
         "type": "float"
        },
        {
         "name": "gay",
         "rawType": "float64",
         "type": "float"
        },
        {
         "name": "gender",
         "rawType": "float64",
         "type": "float"
        },
        {
         "name": "general",
         "rawType": "float64",
         "type": "float"
        },
        {
         "name": "generally",
         "rawType": "float64",
         "type": "float"
        },
        {
         "name": "generate",
         "rawType": "float64",
         "type": "float"
        },
        {
         "name": "generation",
         "rawType": "float64",
         "type": "float"
        },
        {
         "name": "george",
         "rawType": "float64",
         "type": "float"
        },
        {
         "name": "georgia",
         "rawType": "float64",
         "type": "float"
        },
        {
         "name": "german",
         "rawType": "float64",
         "type": "float"
        },
        {
         "name": "germany",
         "rawType": "float64",
         "type": "float"
        },
        {
         "name": "get",
         "rawType": "float64",
         "type": "float"
        },
        {
         "name": "getty",
         "rawType": "float64",
         "type": "float"
        },
        {
         "name": "giant",
         "rawType": "float64",
         "type": "float"
        },
        {
         "name": "girl",
         "rawType": "float64",
         "type": "float"
        },
        {
         "name": "give",
         "rawType": "float64",
         "type": "float"
        },
        {
         "name": "global",
         "rawType": "float64",
         "type": "float"
        },
        {
         "name": "go",
         "rawType": "float64",
         "type": "float"
        },
        {
         "name": "goal",
         "rawType": "float64",
         "type": "float"
        },
        {
         "name": "god",
         "rawType": "float64",
         "type": "float"
        },
        {
         "name": "gold",
         "rawType": "float64",
         "type": "float"
        },
        {
         "name": "golf",
         "rawType": "float64",
         "type": "float"
        },
        {
         "name": "gon",
         "rawType": "float64",
         "type": "float"
        },
        {
         "name": "good",
         "rawType": "float64",
         "type": "float"
        },
        {
         "name": "gop",
         "rawType": "float64",
         "type": "float"
        },
        {
         "name": "gotten",
         "rawType": "float64",
         "type": "float"
        },
        {
         "name": "gov",
         "rawType": "float64",
         "type": "float"
        },
        {
         "name": "govern",
         "rawType": "float64",
         "type": "float"
        },
        {
         "name": "government",
         "rawType": "float64",
         "type": "float"
        },
        {
         "name": "governor",
         "rawType": "float64",
         "type": "float"
        },
        {
         "name": "grab",
         "rawType": "float64",
         "type": "float"
        },
        {
         "name": "graduate",
         "rawType": "float64",
         "type": "float"
        },
        {
         "name": "graham",
         "rawType": "float64",
         "type": "float"
        },
        {
         "name": "grand",
         "rawType": "float64",
         "type": "float"
        },
        {
         "name": "grant",
         "rawType": "float64",
         "type": "float"
        },
        {
         "name": "great",
         "rawType": "float64",
         "type": "float"
        },
        {
         "name": "green",
         "rawType": "float64",
         "type": "float"
        },
        {
         "name": "ground",
         "rawType": "float64",
         "type": "float"
        },
        {
         "name": "group",
         "rawType": "float64",
         "type": "float"
        },
        {
         "name": "grow",
         "rawType": "float64",
         "type": "float"
        },
        {
         "name": "grown",
         "rawType": "float64",
         "type": "float"
        },
        {
         "name": "growth",
         "rawType": "float64",
         "type": "float"
        },
        {
         "name": "guarantee",
         "rawType": "float64",
         "type": "float"
        },
        {
         "name": "guard",
         "rawType": "float64",
         "type": "float"
        },
        {
         "name": "guess",
         "rawType": "float64",
         "type": "float"
        },
        {
         "name": "guest",
         "rawType": "float64",
         "type": "float"
        },
        {
         "name": "guilty",
         "rawType": "float64",
         "type": "float"
        },
        {
         "name": "gulf",
         "rawType": "float64",
         "type": "float"
        },
        {
         "name": "gun",
         "rawType": "float64",
         "type": "float"
        },
        {
         "name": "guy",
         "rawType": "float64",
         "type": "float"
        },
        {
         "name": "hack",
         "rawType": "float64",
         "type": "float"
        },
        {
         "name": "half",
         "rawType": "float64",
         "type": "float"
        },
        {
         "name": "hall",
         "rawType": "float64",
         "type": "float"
        },
        {
         "name": "halt",
         "rawType": "float64",
         "type": "float"
        },
        {
         "name": "hammer",
         "rawType": "float64",
         "type": "float"
        },
        {
         "name": "hampshire",
         "rawType": "float64",
         "type": "float"
        },
        {
         "name": "hand",
         "rawType": "float64",
         "type": "float"
        },
        {
         "name": "handle",
         "rawType": "float64",
         "type": "float"
        },
        {
         "name": "hang",
         "rawType": "float64",
         "type": "float"
        },
        {
         "name": "happen",
         "rawType": "float64",
         "type": "float"
        },
        {
         "name": "happens",
         "rawType": "float64",
         "type": "float"
        },
        {
         "name": "happy",
         "rawType": "float64",
         "type": "float"
        },
        {
         "name": "harassment",
         "rawType": "float64",
         "type": "float"
        },
        {
         "name": "hard",
         "rawType": "float64",
         "type": "float"
        },
        {
         "name": "harder",
         "rawType": "float64",
         "type": "float"
        },
        {
         "name": "harm",
         "rawType": "float64",
         "type": "float"
        },
        {
         "name": "hat",
         "rawType": "float64",
         "type": "float"
        },
        {
         "name": "hate",
         "rawType": "float64",
         "type": "float"
        },
        {
         "name": "hateful",
         "rawType": "float64",
         "type": "float"
        },
        {
         "name": "hatred",
         "rawType": "float64",
         "type": "float"
        },
        {
         "name": "head",
         "rawType": "float64",
         "type": "float"
        },
        {
         "name": "headline",
         "rawType": "float64",
         "type": "float"
        },
        {
         "name": "headquarters",
         "rawType": "float64",
         "type": "float"
        },
        {
         "name": "health",
         "rawType": "float64",
         "type": "float"
        },
        {
         "name": "healthcare",
         "rawType": "float64",
         "type": "float"
        },
        {
         "name": "hear",
         "rawType": "float64",
         "type": "float"
        },
        {
         "name": "heard",
         "rawType": "float64",
         "type": "float"
        },
        {
         "name": "hearing",
         "rawType": "float64",
         "type": "float"
        },
        {
         "name": "heart",
         "rawType": "float64",
         "type": "float"
        },
        {
         "name": "heat",
         "rawType": "float64",
         "type": "float"
        },
        {
         "name": "heavily",
         "rawType": "float64",
         "type": "float"
        },
        {
         "name": "heavy",
         "rawType": "float64",
         "type": "float"
        },
        {
         "name": "held",
         "rawType": "float64",
         "type": "float"
        },
        {
         "name": "hell",
         "rawType": "float64",
         "type": "float"
        },
        {
         "name": "help",
         "rawType": "float64",
         "type": "float"
        },
        {
         "name": "hero",
         "rawType": "float64",
         "type": "float"
        },
        {
         "name": "hide",
         "rawType": "float64",
         "type": "float"
        },
        {
         "name": "high",
         "rawType": "float64",
         "type": "float"
        },
        {
         "name": "highlight",
         "rawType": "float64",
         "type": "float"
        },
        {
         "name": "highly",
         "rawType": "float64",
         "type": "float"
        },
        {
         "name": "hilarious",
         "rawType": "float64",
         "type": "float"
        },
        {
         "name": "hill",
         "rawType": "float64",
         "type": "float"
        },
        {
         "name": "hillary",
         "rawType": "float64",
         "type": "float"
        },
        {
         "name": "hire",
         "rawType": "float64",
         "type": "float"
        },
        {
         "name": "hispanic",
         "rawType": "float64",
         "type": "float"
        },
        {
         "name": "historic",
         "rawType": "float64",
         "type": "float"
        },
        {
         "name": "history",
         "rawType": "float64",
         "type": "float"
        },
        {
         "name": "hit",
         "rawType": "float64",
         "type": "float"
        },
        {
         "name": "hold",
         "rawType": "float64",
         "type": "float"
        },
        {
         "name": "holiday",
         "rawType": "float64",
         "type": "float"
        },
        {
         "name": "hollywood",
         "rawType": "float64",
         "type": "float"
        },
        {
         "name": "home",
         "rawType": "float64",
         "type": "float"
        },
        {
         "name": "homeland",
         "rawType": "float64",
         "type": "float"
        },
        {
         "name": "honest",
         "rawType": "float64",
         "type": "float"
        },
        {
         "name": "honor",
         "rawType": "float64",
         "type": "float"
        },
        {
         "name": "hop",
         "rawType": "float64",
         "type": "float"
        },
        {
         "name": "hope",
         "rawType": "float64",
         "type": "float"
        },
        {
         "name": "hopeful",
         "rawType": "float64",
         "type": "float"
        },
        {
         "name": "hopefully",
         "rawType": "float64",
         "type": "float"
        },
        {
         "name": "horrible",
         "rawType": "float64",
         "type": "float"
        },
        {
         "name": "horrific",
         "rawType": "float64",
         "type": "float"
        },
        {
         "name": "hospital",
         "rawType": "float64",
         "type": "float"
        },
        {
         "name": "host",
         "rawType": "float64",
         "type": "float"
        },
        {
         "name": "hostile",
         "rawType": "float64",
         "type": "float"
        },
        {
         "name": "hot",
         "rawType": "float64",
         "type": "float"
        },
        {
         "name": "hotel",
         "rawType": "float64",
         "type": "float"
        },
        {
         "name": "hour",
         "rawType": "float64",
         "type": "float"
        },
        {
         "name": "house",
         "rawType": "float64",
         "type": "float"
        },
        {
         "name": "housing",
         "rawType": "float64",
         "type": "float"
        },
        {
         "name": "however",
         "rawType": "float64",
         "type": "float"
        },
        {
         "name": "huge",
         "rawType": "float64",
         "type": "float"
        },
        {
         "name": "human",
         "rawType": "float64",
         "type": "float"
        },
        {
         "name": "humanitarian",
         "rawType": "float64",
         "type": "float"
        },
        {
         "name": "humiliate",
         "rawType": "float64",
         "type": "float"
        },
        {
         "name": "hundred",
         "rawType": "float64",
         "type": "float"
        },
        {
         "name": "hunt",
         "rawType": "float64",
         "type": "float"
        },
        {
         "name": "hurricane",
         "rawType": "float64",
         "type": "float"
        },
        {
         "name": "hurt",
         "rawType": "float64",
         "type": "float"
        },
        {
         "name": "husband",
         "rawType": "float64",
         "type": "float"
        },
        {
         "name": "idea",
         "rawType": "float64",
         "type": "float"
        },
        {
         "name": "identify",
         "rawType": "float64",
         "type": "float"
        },
        {
         "name": "identity",
         "rawType": "float64",
         "type": "float"
        },
        {
         "name": "idiot",
         "rawType": "float64",
         "type": "float"
        },
        {
         "name": "ignore",
         "rawType": "float64",
         "type": "float"
        },
        {
         "name": "illegal",
         "rawType": "float64",
         "type": "float"
        },
        {
         "name": "illegally",
         "rawType": "float64",
         "type": "float"
        },
        {
         "name": "illinois",
         "rawType": "float64",
         "type": "float"
        },
        {
         "name": "image",
         "rawType": "float64",
         "type": "float"
        },
        {
         "name": "imagine",
         "rawType": "float64",
         "type": "float"
        },
        {
         "name": "immediate",
         "rawType": "float64",
         "type": "float"
        },
        {
         "name": "immediately",
         "rawType": "float64",
         "type": "float"
        },
        {
         "name": "immigrant",
         "rawType": "float64",
         "type": "float"
        },
        {
         "name": "immigration",
         "rawType": "float64",
         "type": "float"
        },
        {
         "name": "impact",
         "rawType": "float64",
         "type": "float"
        },
        {
         "name": "implement",
         "rawType": "float64",
         "type": "float"
        },
        {
         "name": "import",
         "rawType": "float64",
         "type": "float"
        },
        {
         "name": "importance",
         "rawType": "float64",
         "type": "float"
        },
        {
         "name": "important",
         "rawType": "float64",
         "type": "float"
        },
        {
         "name": "impose",
         "rawType": "float64",
         "type": "float"
        },
        {
         "name": "impossible",
         "rawType": "float64",
         "type": "float"
        },
        {
         "name": "improve",
         "rawType": "float64",
         "type": "float"
        },
        {
         "name": "inappropriate",
         "rawType": "float64",
         "type": "float"
        },
        {
         "name": "inauguration",
         "rawType": "float64",
         "type": "float"
        },
        {
         "name": "inc",
         "rawType": "float64",
         "type": "float"
        },
        {
         "name": "incident",
         "rawType": "float64",
         "type": "float"
        },
        {
         "name": "include",
         "rawType": "float64",
         "type": "float"
        },
        {
         "name": "income",
         "rawType": "float64",
         "type": "float"
        },
        {
         "name": "increase",
         "rawType": "float64",
         "type": "float"
        },
        {
         "name": "increasingly",
         "rawType": "float64",
         "type": "float"
        },
        {
         "name": "incredibly",
         "rawType": "float64",
         "type": "float"
        },
        {
         "name": "indeed",
         "rawType": "float64",
         "type": "float"
        },
        {
         "name": "independence",
         "rawType": "float64",
         "type": "float"
        },
        {
         "name": "independent",
         "rawType": "float64",
         "type": "float"
        },
        {
         "name": "independently",
         "rawType": "float64",
         "type": "float"
        },
        {
         "name": "indiana",
         "rawType": "float64",
         "type": "float"
        },
        {
         "name": "indicate",
         "rawType": "float64",
         "type": "float"
        },
        {
         "name": "individual",
         "rawType": "float64",
         "type": "float"
        },
        {
         "name": "industry",
         "rawType": "float64",
         "type": "float"
        },
        {
         "name": "influence",
         "rawType": "float64",
         "type": "float"
        },
        {
         "name": "influential",
         "rawType": "float64",
         "type": "float"
        },
        {
         "name": "inform",
         "rawType": "float64",
         "type": "float"
        },
        {
         "name": "information",
         "rawType": "float64",
         "type": "float"
        },
        {
         "name": "infrastructure",
         "rawType": "float64",
         "type": "float"
        },
        {
         "name": "initial",
         "rawType": "float64",
         "type": "float"
        },
        {
         "name": "initially",
         "rawType": "float64",
         "type": "float"
        },
        {
         "name": "initiative",
         "rawType": "float64",
         "type": "float"
        },
        {
         "name": "injured",
         "rawType": "float64",
         "type": "float"
        },
        {
         "name": "injury",
         "rawType": "float64",
         "type": "float"
        },
        {
         "name": "innocent",
         "rawType": "float64",
         "type": "float"
        },
        {
         "name": "inquiry",
         "rawType": "float64",
         "type": "float"
        },
        {
         "name": "insane",
         "rawType": "float64",
         "type": "float"
        },
        {
         "name": "inside",
         "rawType": "float64",
         "type": "float"
        },
        {
         "name": "insist",
         "rawType": "float64",
         "type": "float"
        },
        {
         "name": "inspire",
         "rawType": "float64",
         "type": "float"
        },
        {
         "name": "instance",
         "rawType": "float64",
         "type": "float"
        },
        {
         "name": "instead",
         "rawType": "float64",
         "type": "float"
        },
        {
         "name": "institute",
         "rawType": "float64",
         "type": "float"
        },
        {
         "name": "institution",
         "rawType": "float64",
         "type": "float"
        },
        {
         "name": "insult",
         "rawType": "float64",
         "type": "float"
        },
        {
         "name": "insurance",
         "rawType": "float64",
         "type": "float"
        },
        {
         "name": "integrity",
         "rawType": "float64",
         "type": "float"
        },
        {
         "name": "intelligence",
         "rawType": "float64",
         "type": "float"
        },
        {
         "name": "intend",
         "rawType": "float64",
         "type": "float"
        },
        {
         "name": "intent",
         "rawType": "float64",
         "type": "float"
        },
        {
         "name": "intention",
         "rawType": "float64",
         "type": "float"
        },
        {
         "name": "interest",
         "rawType": "float64",
         "type": "float"
        },
        {
         "name": "interested",
         "rawType": "float64",
         "type": "float"
        },
        {
         "name": "interfere",
         "rawType": "float64",
         "type": "float"
        },
        {
         "name": "interference",
         "rawType": "float64",
         "type": "float"
        },
        {
         "name": "interior",
         "rawType": "float64",
         "type": "float"
        },
        {
         "name": "internal",
         "rawType": "float64",
         "type": "float"
        },
        {
         "name": "international",
         "rawType": "float64",
         "type": "float"
        },
        {
         "name": "internet",
         "rawType": "float64",
         "type": "float"
        },
        {
         "name": "interview",
         "rawType": "float64",
         "type": "float"
        },
        {
         "name": "interviewed",
         "rawType": "float64",
         "type": "float"
        },
        {
         "name": "introduce",
         "rawType": "float64",
         "type": "float"
        },
        {
         "name": "invest",
         "rawType": "float64",
         "type": "float"
        },
        {
         "name": "investigate",
         "rawType": "float64",
         "type": "float"
        },
        {
         "name": "investigation",
         "rawType": "float64",
         "type": "float"
        },
        {
         "name": "investigator",
         "rawType": "float64",
         "type": "float"
        },
        {
         "name": "investment",
         "rawType": "float64",
         "type": "float"
        },
        {
         "name": "investor",
         "rawType": "float64",
         "type": "float"
        },
        {
         "name": "invite",
         "rawType": "float64",
         "type": "float"
        },
        {
         "name": "involve",
         "rawType": "float64",
         "type": "float"
        },
        {
         "name": "involvement",
         "rawType": "float64",
         "type": "float"
        },
        {
         "name": "iowa",
         "rawType": "float64",
         "type": "float"
        },
        {
         "name": "iran",
         "rawType": "float64",
         "type": "float"
        },
        {
         "name": "iranian",
         "rawType": "float64",
         "type": "float"
        },
        {
         "name": "iraq",
         "rawType": "float64",
         "type": "float"
        },
        {
         "name": "iraqi",
         "rawType": "float64",
         "type": "float"
        },
        {
         "name": "isi",
         "rawType": "float64",
         "type": "float"
        },
        {
         "name": "islam",
         "rawType": "float64",
         "type": "float"
        },
        {
         "name": "islamic",
         "rawType": "float64",
         "type": "float"
        },
        {
         "name": "islamist",
         "rawType": "float64",
         "type": "float"
        },
        {
         "name": "island",
         "rawType": "float64",
         "type": "float"
        },
        {
         "name": "israel",
         "rawType": "float64",
         "type": "float"
        },
        {
         "name": "israeli",
         "rawType": "float64",
         "type": "float"
        },
        {
         "name": "issue",
         "rawType": "float64",
         "type": "float"
        },
        {
         "name": "item",
         "rawType": "float64",
         "type": "float"
        },
        {
         "name": "ivanka",
         "rawType": "float64",
         "type": "float"
        },
        {
         "name": "jail",
         "rawType": "float64",
         "type": "float"
        },
        {
         "name": "james",
         "rawType": "float64",
         "type": "float"
        },
        {
         "name": "january",
         "rawType": "float64",
         "type": "float"
        },
        {
         "name": "japan",
         "rawType": "float64",
         "type": "float"
        },
        {
         "name": "japanese",
         "rawType": "float64",
         "type": "float"
        },
        {
         "name": "jared",
         "rawType": "float64",
         "type": "float"
        },
        {
         "name": "jason",
         "rawType": "float64",
         "type": "float"
        },
        {
         "name": "jeff",
         "rawType": "float64",
         "type": "float"
        },
        {
         "name": "jersey",
         "rawType": "float64",
         "type": "float"
        },
        {
         "name": "jerusalem",
         "rawType": "float64",
         "type": "float"
        },
        {
         "name": "jet",
         "rawType": "float64",
         "type": "float"
        },
        {
         "name": "jewish",
         "rawType": "float64",
         "type": "float"
        },
        {
         "name": "jim",
         "rawType": "float64",
         "type": "float"
        },
        {
         "name": "jinping",
         "rawType": "float64",
         "type": "float"
        },
        {
         "name": "job",
         "rawType": "float64",
         "type": "float"
        },
        {
         "name": "joe",
         "rawType": "float64",
         "type": "float"
        },
        {
         "name": "john",
         "rawType": "float64",
         "type": "float"
        },
        {
         "name": "johnson",
         "rawType": "float64",
         "type": "float"
        },
        {
         "name": "join",
         "rawType": "float64",
         "type": "float"
        },
        {
         "name": "joint",
         "rawType": "float64",
         "type": "float"
        },
        {
         "name": "joke",
         "rawType": "float64",
         "type": "float"
        },
        {
         "name": "jones",
         "rawType": "float64",
         "type": "float"
        },
        {
         "name": "joseph",
         "rawType": "float64",
         "type": "float"
        },
        {
         "name": "josh",
         "rawType": "float64",
         "type": "float"
        },
        {
         "name": "journal",
         "rawType": "float64",
         "type": "float"
        },
        {
         "name": "journalist",
         "rawType": "float64",
         "type": "float"
        },
        {
         "name": "judge",
         "rawType": "float64",
         "type": "float"
        },
        {
         "name": "judicial",
         "rawType": "float64",
         "type": "float"
        },
        {
         "name": "judiciary",
         "rawType": "float64",
         "type": "float"
        },
        {
         "name": "july",
         "rawType": "float64",
         "type": "float"
        },
        {
         "name": "june",
         "rawType": "float64",
         "type": "float"
        },
        {
         "name": "justice",
         "rawType": "float64",
         "type": "float"
        },
        {
         "name": "justin",
         "rawType": "float64",
         "type": "float"
        },
        {
         "name": "keep",
         "rawType": "float64",
         "type": "float"
        },
        {
         "name": "kelly",
         "rawType": "float64",
         "type": "float"
        },
        {
         "name": "kept",
         "rawType": "float64",
         "type": "float"
        },
        {
         "name": "kevin",
         "rawType": "float64",
         "type": "float"
        },
        {
         "name": "key",
         "rawType": "float64",
         "type": "float"
        },
        {
         "name": "kick",
         "rawType": "float64",
         "type": "float"
        },
        {
         "name": "kid",
         "rawType": "float64",
         "type": "float"
        },
        {
         "name": "kill",
         "rawType": "float64",
         "type": "float"
        },
        {
         "name": "kim",
         "rawType": "float64",
         "type": "float"
        },
        {
         "name": "kind",
         "rawType": "float64",
         "type": "float"
        },
        {
         "name": "king",
         "rawType": "float64",
         "type": "float"
        },
        {
         "name": "kingdom",
         "rawType": "float64",
         "type": "float"
        },
        {
         "name": "km",
         "rawType": "float64",
         "type": "float"
        },
        {
         "name": "knew",
         "rawType": "float64",
         "type": "float"
        },
        {
         "name": "know",
         "rawType": "float64",
         "type": "float"
        },
        {
         "name": "knowledge",
         "rawType": "float64",
         "type": "float"
        },
        {
         "name": "korea",
         "rawType": "float64",
         "type": "float"
        },
        {
         "name": "korean",
         "rawType": "float64",
         "type": "float"
        },
        {
         "name": "kremlin",
         "rawType": "float64",
         "type": "float"
        },
        {
         "name": "kurdish",
         "rawType": "float64",
         "type": "float"
        },
        {
         "name": "la",
         "rawType": "float64",
         "type": "float"
        },
        {
         "name": "label",
         "rawType": "float64",
         "type": "float"
        },
        {
         "name": "labor",
         "rawType": "float64",
         "type": "float"
        },
        {
         "name": "lack",
         "rawType": "float64",
         "type": "float"
        },
        {
         "name": "lady",
         "rawType": "float64",
         "type": "float"
        },
        {
         "name": "laid",
         "rawType": "float64",
         "type": "float"
        },
        {
         "name": "land",
         "rawType": "float64",
         "type": "float"
        },
        {
         "name": "language",
         "rawType": "float64",
         "type": "float"
        },
        {
         "name": "large",
         "rawType": "float64",
         "type": "float"
        },
        {
         "name": "largely",
         "rawType": "float64",
         "type": "float"
        },
        {
         "name": "last",
         "rawType": "float64",
         "type": "float"
        },
        {
         "name": "late",
         "rawType": "float64",
         "type": "float"
        },
        {
         "name": "later",
         "rawType": "float64",
         "type": "float"
        },
        {
         "name": "latino",
         "rawType": "float64",
         "type": "float"
        },
        {
         "name": "laugh",
         "rawType": "float64",
         "type": "float"
        },
        {
         "name": "launch",
         "rawType": "float64",
         "type": "float"
        },
        {
         "name": "law",
         "rawType": "float64",
         "type": "float"
        },
        {
         "name": "lawmaker",
         "rawType": "float64",
         "type": "float"
        },
        {
         "name": "lawsuit",
         "rawType": "float64",
         "type": "float"
        },
        {
         "name": "lawyer",
         "rawType": "float64",
         "type": "float"
        },
        {
         "name": "lay",
         "rawType": "float64",
         "type": "float"
        },
        {
         "name": "lead",
         "rawType": "float64",
         "type": "float"
        },
        {
         "name": "leader",
         "rawType": "float64",
         "type": "float"
        },
        {
         "name": "leadership",
         "rawType": "float64",
         "type": "float"
        },
        {
         "name": "leaf",
         "rawType": "float64",
         "type": "float"
        },
        {
         "name": "league",
         "rawType": "float64",
         "type": "float"
        },
        {
         "name": "leak",
         "rawType": "float64",
         "type": "float"
        },
        {
         "name": "learn",
         "rawType": "float64",
         "type": "float"
        },
        {
         "name": "least",
         "rawType": "float64",
         "type": "float"
        },
        {
         "name": "leave",
         "rawType": "float64",
         "type": "float"
        },
        {
         "name": "lee",
         "rawType": "float64",
         "type": "float"
        },
        {
         "name": "left",
         "rawType": "float64",
         "type": "float"
        },
        {
         "name": "leftist",
         "rawType": "float64",
         "type": "float"
        },
        {
         "name": "legacy",
         "rawType": "float64",
         "type": "float"
        },
        {
         "name": "legal",
         "rawType": "float64",
         "type": "float"
        },
        {
         "name": "legally",
         "rawType": "float64",
         "type": "float"
        },
        {
         "name": "legislation",
         "rawType": "float64",
         "type": "float"
        },
        {
         "name": "legislative",
         "rawType": "float64",
         "type": "float"
        },
        {
         "name": "legislature",
         "rawType": "float64",
         "type": "float"
        },
        {
         "name": "legitimate",
         "rawType": "float64",
         "type": "float"
        },
        {
         "name": "less",
         "rawType": "float64",
         "type": "float"
        },
        {
         "name": "let",
         "rawType": "float64",
         "type": "float"
        },
        {
         "name": "letter",
         "rawType": "float64",
         "type": "float"
        },
        {
         "name": "level",
         "rawType": "float64",
         "type": "float"
        },
        {
         "name": "liar",
         "rawType": "float64",
         "type": "float"
        },
        {
         "name": "liberal",
         "rawType": "float64",
         "type": "float"
        },
        {
         "name": "liberty",
         "rawType": "float64",
         "type": "float"
        },
        {
         "name": "libya",
         "rawType": "float64",
         "type": "float"
        },
        {
         "name": "license",
         "rawType": "float64",
         "type": "float"
        },
        {
         "name": "lie",
         "rawType": "float64",
         "type": "float"
        },
        {
         "name": "life",
         "rawType": "float64",
         "type": "float"
        },
        {
         "name": "lift",
         "rawType": "float64",
         "type": "float"
        },
        {
         "name": "light",
         "rawType": "float64",
         "type": "float"
        },
        {
         "name": "like",
         "rawType": "float64",
         "type": "float"
        },
        {
         "name": "likely",
         "rawType": "float64",
         "type": "float"
        },
        {
         "name": "limit",
         "rawType": "float64",
         "type": "float"
        },
        {
         "name": "limited",
         "rawType": "float64",
         "type": "float"
        },
        {
         "name": "line",
         "rawType": "float64",
         "type": "float"
        },
        {
         "name": "link",
         "rawType": "float64",
         "type": "float"
        },
        {
         "name": "list",
         "rawType": "float64",
         "type": "float"
        },
        {
         "name": "listen",
         "rawType": "float64",
         "type": "float"
        },
        {
         "name": "literally",
         "rawType": "float64",
         "type": "float"
        },
        {
         "name": "little",
         "rawType": "float64",
         "type": "float"
        },
        {
         "name": "live",
         "rawType": "float64",
         "type": "float"
        },
        {
         "name": "living",
         "rawType": "float64",
         "type": "float"
        },
        {
         "name": "loan",
         "rawType": "float64",
         "type": "float"
        },
        {
         "name": "lobby",
         "rawType": "float64",
         "type": "float"
        },
        {
         "name": "local",
         "rawType": "float64",
         "type": "float"
        },
        {
         "name": "locate",
         "rawType": "float64",
         "type": "float"
        },
        {
         "name": "location",
         "rawType": "float64",
         "type": "float"
        },
        {
         "name": "lock",
         "rawType": "float64",
         "type": "float"
        },
        {
         "name": "london",
         "rawType": "float64",
         "type": "float"
        },
        {
         "name": "long",
         "rawType": "float64",
         "type": "float"
        },
        {
         "name": "longer",
         "rawType": "float64",
         "type": "float"
        },
        {
         "name": "longtime",
         "rawType": "float64",
         "type": "float"
        },
        {
         "name": "look",
         "rawType": "float64",
         "type": "float"
        },
        {
         "name": "los",
         "rawType": "float64",
         "type": "float"
        },
        {
         "name": "lose",
         "rawType": "float64",
         "type": "float"
        },
        {
         "name": "loss",
         "rawType": "float64",
         "type": "float"
        },
        {
         "name": "lot",
         "rawType": "float64",
         "type": "float"
        },
        {
         "name": "love",
         "rawType": "float64",
         "type": "float"
        },
        {
         "name": "low",
         "rawType": "float64",
         "type": "float"
        },
        {
         "name": "machine",
         "rawType": "float64",
         "type": "float"
        },
        {
         "name": "macron",
         "rawType": "float64",
         "type": "float"
        },
        {
         "name": "magazine",
         "rawType": "float64",
         "type": "float"
        },
        {
         "name": "mail",
         "rawType": "float64",
         "type": "float"
        },
        {
         "name": "main",
         "rawType": "float64",
         "type": "float"
        },
        {
         "name": "mainly",
         "rawType": "float64",
         "type": "float"
        },
        {
         "name": "mainstream",
         "rawType": "float64",
         "type": "float"
        },
        {
         "name": "maintain",
         "rawType": "float64",
         "type": "float"
        },
        {
         "name": "major",
         "rawType": "float64",
         "type": "float"
        },
        {
         "name": "majority",
         "rawType": "float64",
         "type": "float"
        },
        {
         "name": "make",
         "rawType": "float64",
         "type": "float"
        },
        {
         "name": "male",
         "rawType": "float64",
         "type": "float"
        },
        {
         "name": "man",
         "rawType": "float64",
         "type": "float"
        },
        {
         "name": "manage",
         "rawType": "float64",
         "type": "float"
        },
        {
         "name": "management",
         "rawType": "float64",
         "type": "float"
        },
        {
         "name": "manager",
         "rawType": "float64",
         "type": "float"
        },
        {
         "name": "mandate",
         "rawType": "float64",
         "type": "float"
        },
        {
         "name": "manner",
         "rawType": "float64",
         "type": "float"
        },
        {
         "name": "manufacturing",
         "rawType": "float64",
         "type": "float"
        },
        {
         "name": "many",
         "rawType": "float64",
         "type": "float"
        },
        {
         "name": "march",
         "rawType": "float64",
         "type": "float"
        },
        {
         "name": "marco",
         "rawType": "float64",
         "type": "float"
        },
        {
         "name": "margin",
         "rawType": "float64",
         "type": "float"
        },
        {
         "name": "marine",
         "rawType": "float64",
         "type": "float"
        },
        {
         "name": "mark",
         "rawType": "float64",
         "type": "float"
        },
        {
         "name": "marked",
         "rawType": "float64",
         "type": "float"
        },
        {
         "name": "market",
         "rawType": "float64",
         "type": "float"
        },
        {
         "name": "marriage",
         "rawType": "float64",
         "type": "float"
        },
        {
         "name": "married",
         "rawType": "float64",
         "type": "float"
        },
        {
         "name": "martin",
         "rawType": "float64",
         "type": "float"
        },
        {
         "name": "mass",
         "rawType": "float64",
         "type": "float"
        },
        {
         "name": "massachusetts",
         "rawType": "float64",
         "type": "float"
        },
        {
         "name": "massive",
         "rawType": "float64",
         "type": "float"
        },
        {
         "name": "match",
         "rawType": "float64",
         "type": "float"
        },
        {
         "name": "material",
         "rawType": "float64",
         "type": "float"
        },
        {
         "name": "matter",
         "rawType": "float64",
         "type": "float"
        },
        {
         "name": "mattis",
         "rawType": "float64",
         "type": "float"
        },
        {
         "name": "may",
         "rawType": "float64",
         "type": "float"
        },
        {
         "name": "maybe",
         "rawType": "float64",
         "type": "float"
        },
        {
         "name": "mayor",
         "rawType": "float64",
         "type": "float"
        },
        {
         "name": "mccain",
         "rawType": "float64",
         "type": "float"
        },
        {
         "name": "mcconnell",
         "rawType": "float64",
         "type": "float"
        },
        {
         "name": "mean",
         "rawType": "float64",
         "type": "float"
        },
        {
         "name": "meaning",
         "rawType": "float64",
         "type": "float"
        },
        {
         "name": "meant",
         "rawType": "float64",
         "type": "float"
        },
        {
         "name": "meanwhile",
         "rawType": "float64",
         "type": "float"
        },
        {
         "name": "measure",
         "rawType": "float64",
         "type": "float"
        },
        {
         "name": "meddling",
         "rawType": "float64",
         "type": "float"
        },
        {
         "name": "medicaid",
         "rawType": "float64",
         "type": "float"
        },
        {
         "name": "medical",
         "rawType": "float64",
         "type": "float"
        },
        {
         "name": "medium",
         "rawType": "float64",
         "type": "float"
        },
        {
         "name": "meet",
         "rawType": "float64",
         "type": "float"
        },
        {
         "name": "meeting",
         "rawType": "float64",
         "type": "float"
        },
        {
         "name": "melania",
         "rawType": "float64",
         "type": "float"
        },
        {
         "name": "member",
         "rawType": "float64",
         "type": "float"
        },
        {
         "name": "memo",
         "rawType": "float64",
         "type": "float"
        },
        {
         "name": "men",
         "rawType": "float64",
         "type": "float"
        },
        {
         "name": "mention",
         "rawType": "float64",
         "type": "float"
        },
        {
         "name": "merkel",
         "rawType": "float64",
         "type": "float"
        },
        {
         "name": "mess",
         "rawType": "float64",
         "type": "float"
        },
        {
         "name": "message",
         "rawType": "float64",
         "type": "float"
        },
        {
         "name": "met",
         "rawType": "float64",
         "type": "float"
        },
        {
         "name": "mexican",
         "rawType": "float64",
         "type": "float"
        },
        {
         "name": "mexico",
         "rawType": "float64",
         "type": "float"
        },
        {
         "name": "michael",
         "rawType": "float64",
         "type": "float"
        },
        {
         "name": "michelle",
         "rawType": "float64",
         "type": "float"
        },
        {
         "name": "michigan",
         "rawType": "float64",
         "type": "float"
        },
        {
         "name": "middle",
         "rawType": "float64",
         "type": "float"
        },
        {
         "name": "might",
         "rawType": "float64",
         "type": "float"
        },
        {
         "name": "migrant",
         "rawType": "float64",
         "type": "float"
        },
        {
         "name": "migration",
         "rawType": "float64",
         "type": "float"
        },
        {
         "name": "mike",
         "rawType": "float64",
         "type": "float"
        },
        {
         "name": "mile",
         "rawType": "float64",
         "type": "float"
        },
        {
         "name": "militant",
         "rawType": "float64",
         "type": "float"
        },
        {
         "name": "military",
         "rawType": "float64",
         "type": "float"
        },
        {
         "name": "militia",
         "rawType": "float64",
         "type": "float"
        },
        {
         "name": "million",
         "rawType": "float64",
         "type": "float"
        },
        {
         "name": "mind",
         "rawType": "float64",
         "type": "float"
        },
        {
         "name": "minimum",
         "rawType": "float64",
         "type": "float"
        },
        {
         "name": "minister",
         "rawType": "float64",
         "type": "float"
        },
        {
         "name": "ministry",
         "rawType": "float64",
         "type": "float"
        },
        {
         "name": "minority",
         "rawType": "float64",
         "type": "float"
        },
        {
         "name": "minute",
         "rawType": "float64",
         "type": "float"
        },
        {
         "name": "mislead",
         "rawType": "float64",
         "type": "float"
        },
        {
         "name": "miss",
         "rawType": "float64",
         "type": "float"
        },
        {
         "name": "missile",
         "rawType": "float64",
         "type": "float"
        },
        {
         "name": "mission",
         "rawType": "float64",
         "type": "float"
        },
        {
         "name": "mistake",
         "rawType": "float64",
         "type": "float"
        },
        {
         "name": "mitch",
         "rawType": "float64",
         "type": "float"
        },
        {
         "name": "mitt",
         "rawType": "float64",
         "type": "float"
        },
        {
         "name": "mock",
         "rawType": "float64",
         "type": "float"
        },
        {
         "name": "model",
         "rawType": "float64",
         "type": "float"
        },
        {
         "name": "moderate",
         "rawType": "float64",
         "type": "float"
        },
        {
         "name": "modern",
         "rawType": "float64",
         "type": "float"
        },
        {
         "name": "mogul",
         "rawType": "float64",
         "type": "float"
        },
        {
         "name": "moment",
         "rawType": "float64",
         "type": "float"
        },
        {
         "name": "monday",
         "rawType": "float64",
         "type": "float"
        },
        {
         "name": "money",
         "rawType": "float64",
         "type": "float"
        },
        {
         "name": "monitor",
         "rawType": "float64",
         "type": "float"
        },
        {
         "name": "month",
         "rawType": "float64",
         "type": "float"
        },
        {
         "name": "moore",
         "rawType": "float64",
         "type": "float"
        },
        {
         "name": "moral",
         "rawType": "float64",
         "type": "float"
        },
        {
         "name": "morning",
         "rawType": "float64",
         "type": "float"
        },
        {
         "name": "moscow",
         "rawType": "float64",
         "type": "float"
        },
        {
         "name": "mostly",
         "rawType": "float64",
         "type": "float"
        },
        {
         "name": "mother",
         "rawType": "float64",
         "type": "float"
        },
        {
         "name": "motivate",
         "rawType": "float64",
         "type": "float"
        },
        {
         "name": "mount",
         "rawType": "float64",
         "type": "float"
        },
        {
         "name": "mouth",
         "rawType": "float64",
         "type": "float"
        },
        {
         "name": "move",
         "rawType": "float64",
         "type": "float"
        },
        {
         "name": "movement",
         "rawType": "float64",
         "type": "float"
        },
        {
         "name": "movie",
         "rawType": "float64",
         "type": "float"
        },
        {
         "name": "mr",
         "rawType": "float64",
         "type": "float"
        },
        {
         "name": "msnbc",
         "rawType": "float64",
         "type": "float"
        },
        {
         "name": "much",
         "rawType": "float64",
         "type": "float"
        },
        {
         "name": "mueller",
         "rawType": "float64",
         "type": "float"
        },
        {
         "name": "multiple",
         "rawType": "float64",
         "type": "float"
        },
        {
         "name": "murder",
         "rawType": "float64",
         "type": "float"
        },
        {
         "name": "muslim",
         "rawType": "float64",
         "type": "float"
        },
        {
         "name": "must",
         "rawType": "float64",
         "type": "float"
        },
        {
         "name": "na",
         "rawType": "float64",
         "type": "float"
        },
        {
         "name": "name",
         "rawType": "float64",
         "type": "float"
        },
        {
         "name": "nancy",
         "rawType": "float64",
         "type": "float"
        },
        {
         "name": "narrative",
         "rawType": "float64",
         "type": "float"
        },
        {
         "name": "narrow",
         "rawType": "float64",
         "type": "float"
        },
        {
         "name": "nation",
         "rawType": "float64",
         "type": "float"
        },
        {
         "name": "national",
         "rawType": "float64",
         "type": "float"
        },
        {
         "name": "nationalist",
         "rawType": "float64",
         "type": "float"
        },
        {
         "name": "nationwide",
         "rawType": "float64",
         "type": "float"
        },
        {
         "name": "native",
         "rawType": "float64",
         "type": "float"
        },
        {
         "name": "nato",
         "rawType": "float64",
         "type": "float"
        },
        {
         "name": "natural",
         "rawType": "float64",
         "type": "float"
        },
        {
         "name": "nature",
         "rawType": "float64",
         "type": "float"
        },
        {
         "name": "navy",
         "rawType": "float64",
         "type": "float"
        },
        {
         "name": "nazi",
         "rawType": "float64",
         "type": "float"
        },
        {
         "name": "nbc",
         "rawType": "float64",
         "type": "float"
        },
        {
         "name": "near",
         "rawType": "float64",
         "type": "float"
        },
        {
         "name": "nearby",
         "rawType": "float64",
         "type": "float"
        },
        {
         "name": "nearly",
         "rawType": "float64",
         "type": "float"
        },
        {
         "name": "necessary",
         "rawType": "float64",
         "type": "float"
        },
        {
         "name": "need",
         "rawType": "float64",
         "type": "float"
        },
        {
         "name": "negative",
         "rawType": "float64",
         "type": "float"
        },
        {
         "name": "negotiate",
         "rawType": "float64",
         "type": "float"
        },
        {
         "name": "negotiation",
         "rawType": "float64",
         "type": "float"
        },
        {
         "name": "negotiator",
         "rawType": "float64",
         "type": "float"
        },
        {
         "name": "neighbor",
         "rawType": "float64",
         "type": "float"
        },
        {
         "name": "neighborhood",
         "rawType": "float64",
         "type": "float"
        },
        {
         "name": "neither",
         "rawType": "float64",
         "type": "float"
        },
        {
         "name": "net",
         "rawType": "float64",
         "type": "float"
        },
        {
         "name": "network",
         "rawType": "float64",
         "type": "float"
        },
        {
         "name": "never",
         "rawType": "float64",
         "type": "float"
        },
        {
         "name": "new",
         "rawType": "float64",
         "type": "float"
        },
        {
         "name": "newly",
         "rawType": "float64",
         "type": "float"
        },
        {
         "name": "news",
         "rawType": "float64",
         "type": "float"
        },
        {
         "name": "newspaper",
         "rawType": "float64",
         "type": "float"
        },
        {
         "name": "next",
         "rawType": "float64",
         "type": "float"
        },
        {
         "name": "nice",
         "rawType": "float64",
         "type": "float"
        },
        {
         "name": "night",
         "rawType": "float64",
         "type": "float"
        },
        {
         "name": "nine",
         "rawType": "float64",
         "type": "float"
        },
        {
         "name": "nobody",
         "rawType": "float64",
         "type": "float"
        },
        {
         "name": "nominate",
         "rawType": "float64",
         "type": "float"
        },
        {
         "name": "nomination",
         "rawType": "float64",
         "type": "float"
        },
        {
         "name": "nominee",
         "rawType": "float64",
         "type": "float"
        },
        {
         "name": "none",
         "rawType": "float64",
         "type": "float"
        },
        {
         "name": "normal",
         "rawType": "float64",
         "type": "float"
        },
        {
         "name": "north",
         "rawType": "float64",
         "type": "float"
        },
        {
         "name": "northern",
         "rawType": "float64",
         "type": "float"
        },
        {
         "name": "note",
         "rawType": "float64",
         "type": "float"
        },
        {
         "name": "nothing",
         "rawType": "float64",
         "type": "float"
        },
        {
         "name": "notice",
         "rawType": "float64",
         "type": "float"
        },
        {
         "name": "november",
         "rawType": "float64",
         "type": "float"
        },
        {
         "name": "nuclear",
         "rawType": "float64",
         "type": "float"
        },
        {
         "name": "number",
         "rawType": "float64",
         "type": "float"
        },
        {
         "name": "numerous",
         "rawType": "float64",
         "type": "float"
        },
        {
         "name": "obama",
         "rawType": "float64",
         "type": "float"
        },
        {
         "name": "obamacare",
         "rawType": "float64",
         "type": "float"
        },
        {
         "name": "object",
         "rawType": "float64",
         "type": "float"
        },
        {
         "name": "obligation",
         "rawType": "float64",
         "type": "float"
        },
        {
         "name": "obtain",
         "rawType": "float64",
         "type": "float"
        },
        {
         "name": "obvious",
         "rawType": "float64",
         "type": "float"
        },
        {
         "name": "obviously",
         "rawType": "float64",
         "type": "float"
        },
        {
         "name": "occupy",
         "rawType": "float64",
         "type": "float"
        },
        {
         "name": "occur",
         "rawType": "float64",
         "type": "float"
        },
        {
         "name": "october",
         "rawType": "float64",
         "type": "float"
        },
        {
         "name": "odds",
         "rawType": "float64",
         "type": "float"
        },
        {
         "name": "offend",
         "rawType": "float64",
         "type": "float"
        },
        {
         "name": "offensive",
         "rawType": "float64",
         "type": "float"
        },
        {
         "name": "offer",
         "rawType": "float64",
         "type": "float"
        },
        {
         "name": "offering",
         "rawType": "float64",
         "type": "float"
        },
        {
         "name": "office",
         "rawType": "float64",
         "type": "float"
        },
        {
         "name": "officer",
         "rawType": "float64",
         "type": "float"
        },
        {
         "name": "official",
         "rawType": "float64",
         "type": "float"
        },
        {
         "name": "officially",
         "rawType": "float64",
         "type": "float"
        },
        {
         "name": "often",
         "rawType": "float64",
         "type": "float"
        },
        {
         "name": "oh",
         "rawType": "float64",
         "type": "float"
        },
        {
         "name": "ohio",
         "rawType": "float64",
         "type": "float"
        },
        {
         "name": "oil",
         "rawType": "float64",
         "type": "float"
        },
        {
         "name": "ok",
         "rawType": "float64",
         "type": "float"
        },
        {
         "name": "okay",
         "rawType": "float64",
         "type": "float"
        },
        {
         "name": "old",
         "rawType": "float64",
         "type": "float"
        },
        {
         "name": "one",
         "rawType": "float64",
         "type": "float"
        },
        {
         "name": "ongoing",
         "rawType": "float64",
         "type": "float"
        },
        {
         "name": "online",
         "rawType": "float64",
         "type": "float"
        },
        {
         "name": "onto",
         "rawType": "float64",
         "type": "float"
        },
        {
         "name": "open",
         "rawType": "float64",
         "type": "float"
        },
        {
         "name": "opening",
         "rawType": "float64",
         "type": "float"
        },
        {
         "name": "openly",
         "rawType": "float64",
         "type": "float"
        },
        {
         "name": "operate",
         "rawType": "float64",
         "type": "float"
        },
        {
         "name": "operating",
         "rawType": "float64",
         "type": "float"
        },
        {
         "name": "operation",
         "rawType": "float64",
         "type": "float"
        },
        {
         "name": "opinion",
         "rawType": "float64",
         "type": "float"
        },
        {
         "name": "opponent",
         "rawType": "float64",
         "type": "float"
        },
        {
         "name": "opportunity",
         "rawType": "float64",
         "type": "float"
        },
        {
         "name": "oppose",
         "rawType": "float64",
         "type": "float"
        },
        {
         "name": "opposite",
         "rawType": "float64",
         "type": "float"
        },
        {
         "name": "opposition",
         "rawType": "float64",
         "type": "float"
        },
        {
         "name": "option",
         "rawType": "float64",
         "type": "float"
        },
        {
         "name": "order",
         "rawType": "float64",
         "type": "float"
        },
        {
         "name": "organization",
         "rawType": "float64",
         "type": "float"
        },
        {
         "name": "organize",
         "rawType": "float64",
         "type": "float"
        },
        {
         "name": "organizer",
         "rawType": "float64",
         "type": "float"
        },
        {
         "name": "original",
         "rawType": "float64",
         "type": "float"
        },
        {
         "name": "originally",
         "rawType": "float64",
         "type": "float"
        },
        {
         "name": "others",
         "rawType": "float64",
         "type": "float"
        },
        {
         "name": "otherwise",
         "rawType": "float64",
         "type": "float"
        },
        {
         "name": "oust",
         "rawType": "float64",
         "type": "float"
        },
        {
         "name": "outcome",
         "rawType": "float64",
         "type": "float"
        },
        {
         "name": "outlet",
         "rawType": "float64",
         "type": "float"
        },
        {
         "name": "outline",
         "rawType": "float64",
         "type": "float"
        },
        {
         "name": "outrage",
         "rawType": "float64",
         "type": "float"
        },
        {
         "name": "outrageous",
         "rawType": "float64",
         "type": "float"
        },
        {
         "name": "outside",
         "rawType": "float64",
         "type": "float"
        },
        {
         "name": "oval",
         "rawType": "float64",
         "type": "float"
        },
        {
         "name": "overall",
         "rawType": "float64",
         "type": "float"
        },
        {
         "name": "overhaul",
         "rawType": "float64",
         "type": "float"
        },
        {
         "name": "overseas",
         "rawType": "float64",
         "type": "float"
        },
        {
         "name": "oversee",
         "rawType": "float64",
         "type": "float"
        },
        {
         "name": "oversight",
         "rawType": "float64",
         "type": "float"
        },
        {
         "name": "overturn",
         "rawType": "float64",
         "type": "float"
        },
        {
         "name": "own",
         "rawType": "float64",
         "type": "float"
        },
        {
         "name": "owner",
         "rawType": "float64",
         "type": "float"
        },
        {
         "name": "pacific",
         "rawType": "float64",
         "type": "float"
        },
        {
         "name": "package",
         "rawType": "float64",
         "type": "float"
        },
        {
         "name": "pact",
         "rawType": "float64",
         "type": "float"
        },
        {
         "name": "page",
         "rawType": "float64",
         "type": "float"
        },
        {
         "name": "paid",
         "rawType": "float64",
         "type": "float"
        },
        {
         "name": "paint",
         "rawType": "float64",
         "type": "float"
        },
        {
         "name": "palestinian",
         "rawType": "float64",
         "type": "float"
        },
        {
         "name": "panel",
         "rawType": "float64",
         "type": "float"
        },
        {
         "name": "paper",
         "rawType": "float64",
         "type": "float"
        },
        {
         "name": "paragraph",
         "rawType": "float64",
         "type": "float"
        },
        {
         "name": "parent",
         "rawType": "float64",
         "type": "float"
        },
        {
         "name": "paris",
         "rawType": "float64",
         "type": "float"
        },
        {
         "name": "park",
         "rawType": "float64",
         "type": "float"
        },
        {
         "name": "parliament",
         "rawType": "float64",
         "type": "float"
        },
        {
         "name": "parliamentary",
         "rawType": "float64",
         "type": "float"
        },
        {
         "name": "part",
         "rawType": "float64",
         "type": "float"
        },
        {
         "name": "participate",
         "rawType": "float64",
         "type": "float"
        },
        {
         "name": "particular",
         "rawType": "float64",
         "type": "float"
        },
        {
         "name": "particularly",
         "rawType": "float64",
         "type": "float"
        },
        {
         "name": "partisan",
         "rawType": "float64",
         "type": "float"
        },
        {
         "name": "partner",
         "rawType": "float64",
         "type": "float"
        },
        {
         "name": "partnership",
         "rawType": "float64",
         "type": "float"
        },
        {
         "name": "party",
         "rawType": "float64",
         "type": "float"
        },
        {
         "name": "pas",
         "rawType": "float64",
         "type": "float"
        },
        {
         "name": "pass",
         "rawType": "float64",
         "type": "float"
        },
        {
         "name": "passage",
         "rawType": "float64",
         "type": "float"
        },
        {
         "name": "passing",
         "rawType": "float64",
         "type": "float"
        },
        {
         "name": "past",
         "rawType": "float64",
         "type": "float"
        },
        {
         "name": "path",
         "rawType": "float64",
         "type": "float"
        },
        {
         "name": "pathetic",
         "rawType": "float64",
         "type": "float"
        },
        {
         "name": "patrol",
         "rawType": "float64",
         "type": "float"
        },
        {
         "name": "paul",
         "rawType": "float64",
         "type": "float"
        },
        {
         "name": "pay",
         "rawType": "float64",
         "type": "float"
        },
        {
         "name": "payment",
         "rawType": "float64",
         "type": "float"
        },
        {
         "name": "peace",
         "rawType": "float64",
         "type": "float"
        },
        {
         "name": "peaceful",
         "rawType": "float64",
         "type": "float"
        },
        {
         "name": "pelosi",
         "rawType": "float64",
         "type": "float"
        },
        {
         "name": "penalty",
         "rawType": "float64",
         "type": "float"
        },
        {
         "name": "pending",
         "rawType": "float64",
         "type": "float"
        },
        {
         "name": "peninsula",
         "rawType": "float64",
         "type": "float"
        },
        {
         "name": "pennsylvania",
         "rawType": "float64",
         "type": "float"
        },
        {
         "name": "penny",
         "rawType": "float64",
         "type": "float"
        },
        {
         "name": "pentagon",
         "rawType": "float64",
         "type": "float"
        },
        {
         "name": "people",
         "rawType": "float64",
         "type": "float"
        },
        {
         "name": "per",
         "rawType": "float64",
         "type": "float"
        },
        {
         "name": "percent",
         "rawType": "float64",
         "type": "float"
        },
        {
         "name": "percentage",
         "rawType": "float64",
         "type": "float"
        },
        {
         "name": "perfect",
         "rawType": "float64",
         "type": "float"
        },
        {
         "name": "perfectly",
         "rawType": "float64",
         "type": "float"
        },
        {
         "name": "perform",
         "rawType": "float64",
         "type": "float"
        },
        {
         "name": "performance",
         "rawType": "float64",
         "type": "float"
        },
        {
         "name": "perhaps",
         "rawType": "float64",
         "type": "float"
        },
        {
         "name": "period",
         "rawType": "float64",
         "type": "float"
        },
        {
         "name": "permanent",
         "rawType": "float64",
         "type": "float"
        },
        {
         "name": "permit",
         "rawType": "float64",
         "type": "float"
        },
        {
         "name": "person",
         "rawType": "float64",
         "type": "float"
        },
        {
         "name": "personal",
         "rawType": "float64",
         "type": "float"
        },
        {
         "name": "personally",
         "rawType": "float64",
         "type": "float"
        },
        {
         "name": "personnel",
         "rawType": "float64",
         "type": "float"
        },
        {
         "name": "peter",
         "rawType": "float64",
         "type": "float"
        },
        {
         "name": "phase",
         "rawType": "float64",
         "type": "float"
        },
        {
         "name": "phone",
         "rawType": "float64",
         "type": "float"
        },
        {
         "name": "photo",
         "rawType": "float64",
         "type": "float"
        },
        {
         "name": "physical",
         "rawType": "float64",
         "type": "float"
        },
        {
         "name": "pick",
         "rawType": "float64",
         "type": "float"
        },
        {
         "name": "picked",
         "rawType": "float64",
         "type": "float"
        },
        {
         "name": "picture",
         "rawType": "float64",
         "type": "float"
        },
        {
         "name": "piece",
         "rawType": "float64",
         "type": "float"
        },
        {
         "name": "place",
         "rawType": "float64",
         "type": "float"
        },
        {
         "name": "plan",
         "rawType": "float64",
         "type": "float"
        },
        {
         "name": "plane",
         "rawType": "float64",
         "type": "float"
        },
        {
         "name": "planning",
         "rawType": "float64",
         "type": "float"
        },
        {
         "name": "plant",
         "rawType": "float64",
         "type": "float"
        },
        {
         "name": "platform",
         "rawType": "float64",
         "type": "float"
        },
        {
         "name": "play",
         "rawType": "float64",
         "type": "float"
        },
        {
         "name": "played",
         "rawType": "float64",
         "type": "float"
        },
        {
         "name": "player",
         "rawType": "float64",
         "type": "float"
        },
        {
         "name": "plead",
         "rawType": "float64",
         "type": "float"
        },
        {
         "name": "please",
         "rawType": "float64",
         "type": "float"
        },
        {
         "name": "pledge",
         "rawType": "float64",
         "type": "float"
        },
        {
         "name": "plot",
         "rawType": "float64",
         "type": "float"
        },
        {
         "name": "pm",
         "rawType": "float64",
         "type": "float"
        },
        {
         "name": "point",
         "rawType": "float64",
         "type": "float"
        },
        {
         "name": "police",
         "rawType": "float64",
         "type": "float"
        },
        {
         "name": "policy",
         "rawType": "float64",
         "type": "float"
        },
        {
         "name": "political",
         "rawType": "float64",
         "type": "float"
        },
        {
         "name": "politically",
         "rawType": "float64",
         "type": "float"
        },
        {
         "name": "politician",
         "rawType": "float64",
         "type": "float"
        },
        {
         "name": "politico",
         "rawType": "float64",
         "type": "float"
        },
        {
         "name": "politics",
         "rawType": "float64",
         "type": "float"
        },
        {
         "name": "politicsnews",
         "rawType": "float64",
         "type": "float"
        },
        {
         "name": "poll",
         "rawType": "float64",
         "type": "float"
        },
        {
         "name": "polling",
         "rawType": "float64",
         "type": "float"
        },
        {
         "name": "poor",
         "rawType": "float64",
         "type": "float"
        },
        {
         "name": "popular",
         "rawType": "float64",
         "type": "float"
        },
        {
         "name": "population",
         "rawType": "float64",
         "type": "float"
        },
        {
         "name": "port",
         "rawType": "float64",
         "type": "float"
        },
        {
         "name": "portion",
         "rawType": "float64",
         "type": "float"
        },
        {
         "name": "pose",
         "rawType": "float64",
         "type": "float"
        },
        {
         "name": "position",
         "rawType": "float64",
         "type": "float"
        },
        {
         "name": "positive",
         "rawType": "float64",
         "type": "float"
        },
        {
         "name": "possibility",
         "rawType": "float64",
         "type": "float"
        },
        {
         "name": "possible",
         "rawType": "float64",
         "type": "float"
        },
        {
         "name": "possibly",
         "rawType": "float64",
         "type": "float"
        },
        {
         "name": "post",
         "rawType": "float64",
         "type": "float"
        },
        {
         "name": "potential",
         "rawType": "float64",
         "type": "float"
        },
        {
         "name": "potentially",
         "rawType": "float64",
         "type": "float"
        },
        {
         "name": "potus",
         "rawType": "float64",
         "type": "float"
        },
        {
         "name": "poverty",
         "rawType": "float64",
         "type": "float"
        },
        {
         "name": "power",
         "rawType": "float64",
         "type": "float"
        },
        {
         "name": "powerful",
         "rawType": "float64",
         "type": "float"
        },
        {
         "name": "practice",
         "rawType": "float64",
         "type": "float"
        },
        {
         "name": "praise",
         "rawType": "float64",
         "type": "float"
        },
        {
         "name": "predecessor",
         "rawType": "float64",
         "type": "float"
        },
        {
         "name": "predict",
         "rawType": "float64",
         "type": "float"
        },
        {
         "name": "prefer",
         "rawType": "float64",
         "type": "float"
        },
        {
         "name": "prepare",
         "rawType": "float64",
         "type": "float"
        },
        {
         "name": "prepared",
         "rawType": "float64",
         "type": "float"
        },
        {
         "name": "presence",
         "rawType": "float64",
         "type": "float"
        },
        {
         "name": "present",
         "rawType": "float64",
         "type": "float"
        },
        {
         "name": "preserve",
         "rawType": "float64",
         "type": "float"
        },
        {
         "name": "presidency",
         "rawType": "float64",
         "type": "float"
        },
        {
         "name": "president",
         "rawType": "float64",
         "type": "float"
        },
        {
         "name": "presidential",
         "rawType": "float64",
         "type": "float"
        },
        {
         "name": "press",
         "rawType": "float64",
         "type": "float"
        },
        {
         "name": "pressure",
         "rawType": "float64",
         "type": "float"
        },
        {
         "name": "presumptive",
         "rawType": "float64",
         "type": "float"
        },
        {
         "name": "pretend",
         "rawType": "float64",
         "type": "float"
        },
        {
         "name": "pretty",
         "rawType": "float64",
         "type": "float"
        },
        {
         "name": "prevent",
         "rawType": "float64",
         "type": "float"
        },
        {
         "name": "previous",
         "rawType": "float64",
         "type": "float"
        },
        {
         "name": "previously",
         "rawType": "float64",
         "type": "float"
        },
        {
         "name": "price",
         "rawType": "float64",
         "type": "float"
        },
        {
         "name": "primary",
         "rawType": "float64",
         "type": "float"
        },
        {
         "name": "prime",
         "rawType": "float64",
         "type": "float"
        },
        {
         "name": "principle",
         "rawType": "float64",
         "type": "float"
        },
        {
         "name": "prior",
         "rawType": "float64",
         "type": "float"
        },
        {
         "name": "priority",
         "rawType": "float64",
         "type": "float"
        },
        {
         "name": "prison",
         "rawType": "float64",
         "type": "float"
        },
        {
         "name": "private",
         "rawType": "float64",
         "type": "float"
        },
        {
         "name": "probably",
         "rawType": "float64",
         "type": "float"
        },
        {
         "name": "probe",
         "rawType": "float64",
         "type": "float"
        },
        {
         "name": "problem",
         "rawType": "float64",
         "type": "float"
        },
        {
         "name": "procedure",
         "rawType": "float64",
         "type": "float"
        },
        {
         "name": "proceed",
         "rawType": "float64",
         "type": "float"
        },
        {
         "name": "process",
         "rawType": "float64",
         "type": "float"
        },
        {
         "name": "produce",
         "rawType": "float64",
         "type": "float"
        },
        {
         "name": "producer",
         "rawType": "float64",
         "type": "float"
        },
        {
         "name": "product",
         "rawType": "float64",
         "type": "float"
        },
        {
         "name": "production",
         "rawType": "float64",
         "type": "float"
        },
        {
         "name": "prof",
         "rawType": "float64",
         "type": "float"
        },
        {
         "name": "professional",
         "rawType": "float64",
         "type": "float"
        },
        {
         "name": "professor",
         "rawType": "float64",
         "type": "float"
        },
        {
         "name": "profile",
         "rawType": "float64",
         "type": "float"
        },
        {
         "name": "profit",
         "rawType": "float64",
         "type": "float"
        },
        {
         "name": "program",
         "rawType": "float64",
         "type": "float"
        },
        {
         "name": "progress",
         "rawType": "float64",
         "type": "float"
        },
        {
         "name": "progressive",
         "rawType": "float64",
         "type": "float"
        },
        {
         "name": "prohibit",
         "rawType": "float64",
         "type": "float"
        },
        {
         "name": "project",
         "rawType": "float64",
         "type": "float"
        },
        {
         "name": "prominent",
         "rawType": "float64",
         "type": "float"
        },
        {
         "name": "promise",
         "rawType": "float64",
         "type": "float"
        },
        {
         "name": "promising",
         "rawType": "float64",
         "type": "float"
        },
        {
         "name": "promote",
         "rawType": "float64",
         "type": "float"
        },
        {
         "name": "prompt",
         "rawType": "float64",
         "type": "float"
        },
        {
         "name": "proof",
         "rawType": "float64",
         "type": "float"
        },
        {
         "name": "propaganda",
         "rawType": "float64",
         "type": "float"
        },
        {
         "name": "property",
         "rawType": "float64",
         "type": "float"
        },
        {
         "name": "proposal",
         "rawType": "float64",
         "type": "float"
        },
        {
         "name": "propose",
         "rawType": "float64",
         "type": "float"
        },
        {
         "name": "prosecute",
         "rawType": "float64",
         "type": "float"
        },
        {
         "name": "prosecution",
         "rawType": "float64",
         "type": "float"
        },
        {
         "name": "prosecutor",
         "rawType": "float64",
         "type": "float"
        },
        {
         "name": "prospect",
         "rawType": "float64",
         "type": "float"
        },
        {
         "name": "protect",
         "rawType": "float64",
         "type": "float"
        },
        {
         "name": "protection",
         "rawType": "float64",
         "type": "float"
        },
        {
         "name": "protest",
         "rawType": "float64",
         "type": "float"
        },
        {
         "name": "protester",
         "rawType": "float64",
         "type": "float"
        },
        {
         "name": "proud",
         "rawType": "float64",
         "type": "float"
        },
        {
         "name": "prove",
         "rawType": "float64",
         "type": "float"
        },
        {
         "name": "proven",
         "rawType": "float64",
         "type": "float"
        },
        {
         "name": "provide",
         "rawType": "float64",
         "type": "float"
        },
        {
         "name": "province",
         "rawType": "float64",
         "type": "float"
        },
        {
         "name": "provision",
         "rawType": "float64",
         "type": "float"
        },
        {
         "name": "public",
         "rawType": "float64",
         "type": "float"
        },
        {
         "name": "publicly",
         "rawType": "float64",
         "type": "float"
        },
        {
         "name": "publish",
         "rawType": "float64",
         "type": "float"
        },
        {
         "name": "pull",
         "rawType": "float64",
         "type": "float"
        },
        {
         "name": "pundit",
         "rawType": "float64",
         "type": "float"
        },
        {
         "name": "punish",
         "rawType": "float64",
         "type": "float"
        },
        {
         "name": "purchase",
         "rawType": "float64",
         "type": "float"
        },
        {
         "name": "purpose",
         "rawType": "float64",
         "type": "float"
        },
        {
         "name": "pursue",
         "rawType": "float64",
         "type": "float"
        },
        {
         "name": "push",
         "rawType": "float64",
         "type": "float"
        },
        {
         "name": "put",
         "rawType": "float64",
         "type": "float"
        },
        {
         "name": "putin",
         "rawType": "float64",
         "type": "float"
        },
        {
         "name": "pyongyang",
         "rawType": "float64",
         "type": "float"
        },
        {
         "name": "qualify",
         "rawType": "float64",
         "type": "float"
        },
        {
         "name": "quality",
         "rawType": "float64",
         "type": "float"
        },
        {
         "name": "quarter",
         "rawType": "float64",
         "type": "float"
        },
        {
         "name": "question",
         "rawType": "float64",
         "type": "float"
        },
        {
         "name": "quick",
         "rawType": "float64",
         "type": "float"
        },
        {
         "name": "quickly",
         "rawType": "float64",
         "type": "float"
        },
        {
         "name": "quit",
         "rawType": "float64",
         "type": "float"
        },
        {
         "name": "quite",
         "rawType": "float64",
         "type": "float"
        },
        {
         "name": "quote",
         "rawType": "float64",
         "type": "float"
        },
        {
         "name": "race",
         "rawType": "float64",
         "type": "float"
        },
        {
         "name": "racial",
         "rawType": "float64",
         "type": "float"
        },
        {
         "name": "racism",
         "rawType": "float64",
         "type": "float"
        },
        {
         "name": "racist",
         "rawType": "float64",
         "type": "float"
        },
        {
         "name": "radical",
         "rawType": "float64",
         "type": "float"
        },
        {
         "name": "radio",
         "rawType": "float64",
         "type": "float"
        },
        {
         "name": "raid",
         "rawType": "float64",
         "type": "float"
        },
        {
         "name": "raise",
         "rawType": "float64",
         "type": "float"
        },
        {
         "name": "rally",
         "rawType": "float64",
         "type": "float"
        },
        {
         "name": "ran",
         "rawType": "float64",
         "type": "float"
        },
        {
         "name": "range",
         "rawType": "float64",
         "type": "float"
        },
        {
         "name": "rank",
         "rawType": "float64",
         "type": "float"
        },
        {
         "name": "rant",
         "rawType": "float64",
         "type": "float"
        },
        {
         "name": "rape",
         "rawType": "float64",
         "type": "float"
        },
        {
         "name": "rapist",
         "rawType": "float64",
         "type": "float"
        },
        {
         "name": "rare",
         "rawType": "float64",
         "type": "float"
        },
        {
         "name": "rate",
         "rawType": "float64",
         "type": "float"
        },
        {
         "name": "rather",
         "rawType": "float64",
         "type": "float"
        },
        {
         "name": "rating",
         "rawType": "float64",
         "type": "float"
        },
        {
         "name": "reach",
         "rawType": "float64",
         "type": "float"
        },
        {
         "name": "react",
         "rawType": "float64",
         "type": "float"
        },
        {
         "name": "reaction",
         "rawType": "float64",
         "type": "float"
        },
        {
         "name": "read",
         "rawType": "float64",
         "type": "float"
        },
        {
         "name": "reading",
         "rawType": "float64",
         "type": "float"
        },
        {
         "name": "ready",
         "rawType": "float64",
         "type": "float"
        },
        {
         "name": "reagan",
         "rawType": "float64",
         "type": "float"
        },
        {
         "name": "real",
         "rawType": "float64",
         "type": "float"
        },
        {
         "name": "realdonaldtrump",
         "rawType": "float64",
         "type": "float"
        },
        {
         "name": "reality",
         "rawType": "float64",
         "type": "float"
        },
        {
         "name": "realize",
         "rawType": "float64",
         "type": "float"
        },
        {
         "name": "really",
         "rawType": "float64",
         "type": "float"
        },
        {
         "name": "reason",
         "rawType": "float64",
         "type": "float"
        },
        {
         "name": "reasonable",
         "rawType": "float64",
         "type": "float"
        },
        {
         "name": "rebel",
         "rawType": "float64",
         "type": "float"
        },
        {
         "name": "recall",
         "rawType": "float64",
         "type": "float"
        },
        {
         "name": "receive",
         "rawType": "float64",
         "type": "float"
        },
        {
         "name": "recent",
         "rawType": "float64",
         "type": "float"
        },
        {
         "name": "recently",
         "rawType": "float64",
         "type": "float"
        },
        {
         "name": "recognize",
         "rawType": "float64",
         "type": "float"
        },
        {
         "name": "recommend",
         "rawType": "float64",
         "type": "float"
        },
        {
         "name": "recommendation",
         "rawType": "float64",
         "type": "float"
        },
        {
         "name": "record",
         "rawType": "float64",
         "type": "float"
        },
        {
         "name": "recover",
         "rawType": "float64",
         "type": "float"
        },
        {
         "name": "red",
         "rawType": "float64",
         "type": "float"
        },
        {
         "name": "reduce",
         "rawType": "float64",
         "type": "float"
        },
        {
         "name": "refer",
         "rawType": "float64",
         "type": "float"
        },
        {
         "name": "reference",
         "rawType": "float64",
         "type": "float"
        },
        {
         "name": "referendum",
         "rawType": "float64",
         "type": "float"
        },
        {
         "name": "reflect",
         "rawType": "float64",
         "type": "float"
        },
        {
         "name": "reform",
         "rawType": "float64",
         "type": "float"
        },
        {
         "name": "refugee",
         "rawType": "float64",
         "type": "float"
        },
        {
         "name": "refusal",
         "rawType": "float64",
         "type": "float"
        },
        {
         "name": "refuse",
         "rawType": "float64",
         "type": "float"
        },
        {
         "name": "regard",
         "rawType": "float64",
         "type": "float"
        },
        {
         "name": "regardless",
         "rawType": "float64",
         "type": "float"
        },
        {
         "name": "regime",
         "rawType": "float64",
         "type": "float"
        },
        {
         "name": "region",
         "rawType": "float64",
         "type": "float"
        },
        {
         "name": "regional",
         "rawType": "float64",
         "type": "float"
        },
        {
         "name": "register",
         "rawType": "float64",
         "type": "float"
        },
        {
         "name": "regret",
         "rawType": "float64",
         "type": "float"
        },
        {
         "name": "regular",
         "rawType": "float64",
         "type": "float"
        },
        {
         "name": "regularly",
         "rawType": "float64",
         "type": "float"
        },
        {
         "name": "regulation",
         "rawType": "float64",
         "type": "float"
        },
        {
         "name": "regulatory",
         "rawType": "float64",
         "type": "float"
        },
        {
         "name": "reiterate",
         "rawType": "float64",
         "type": "float"
        },
        {
         "name": "reject",
         "rawType": "float64",
         "type": "float"
        },
        {
         "name": "related",
         "rawType": "float64",
         "type": "float"
        },
        {
         "name": "relation",
         "rawType": "float64",
         "type": "float"
        },
        {
         "name": "relationship",
         "rawType": "float64",
         "type": "float"
        },
        {
         "name": "relative",
         "rawType": "float64",
         "type": "float"
        },
        {
         "name": "release",
         "rawType": "float64",
         "type": "float"
        },
        {
         "name": "relevant",
         "rawType": "float64",
         "type": "float"
        },
        {
         "name": "relief",
         "rawType": "float64",
         "type": "float"
        },
        {
         "name": "religion",
         "rawType": "float64",
         "type": "float"
        },
        {
         "name": "religious",
         "rawType": "float64",
         "type": "float"
        },
        {
         "name": "rely",
         "rawType": "float64",
         "type": "float"
        },
        {
         "name": "remain",
         "rawType": "float64",
         "type": "float"
        },
        {
         "name": "remains",
         "rawType": "float64",
         "type": "float"
        },
        {
         "name": "remark",
         "rawType": "float64",
         "type": "float"
        },
        {
         "name": "remember",
         "rawType": "float64",
         "type": "float"
        },
        {
         "name": "remind",
         "rawType": "float64",
         "type": "float"
        },
        {
         "name": "removal",
         "rawType": "float64",
         "type": "float"
        },
        {
         "name": "remove",
         "rawType": "float64",
         "type": "float"
        },
        {
         "name": "renew",
         "rawType": "float64",
         "type": "float"
        },
        {
         "name": "repeal",
         "rawType": "float64",
         "type": "float"
        },
        {
         "name": "repeat",
         "rawType": "float64",
         "type": "float"
        },
        {
         "name": "repeatedly",
         "rawType": "float64",
         "type": "float"
        },
        {
         "name": "replace",
         "rawType": "float64",
         "type": "float"
        },
        {
         "name": "replacement",
         "rawType": "float64",
         "type": "float"
        },
        {
         "name": "reply",
         "rawType": "float64",
         "type": "float"
        },
        {
         "name": "report",
         "rawType": "float64",
         "type": "float"
        },
        {
         "name": "reportedly",
         "rawType": "float64",
         "type": "float"
        },
        {
         "name": "reporter",
         "rawType": "float64",
         "type": "float"
        },
        {
         "name": "reporting",
         "rawType": "float64",
         "type": "float"
        },
        {
         "name": "represent",
         "rawType": "float64",
         "type": "float"
        },
        {
         "name": "representative",
         "rawType": "float64",
         "type": "float"
        },
        {
         "name": "republic",
         "rawType": "float64",
         "type": "float"
        },
        {
         "name": "republican",
         "rawType": "float64",
         "type": "float"
        },
        {
         "name": "reputation",
         "rawType": "float64",
         "type": "float"
        },
        {
         "name": "request",
         "rawType": "float64",
         "type": "float"
        },
        {
         "name": "require",
         "rawType": "float64",
         "type": "float"
        },
        {
         "name": "requirement",
         "rawType": "float64",
         "type": "float"
        },
        {
         "name": "rescue",
         "rawType": "float64",
         "type": "float"
        },
        {
         "name": "research",
         "rawType": "float64",
         "type": "float"
        },
        {
         "name": "reserve",
         "rawType": "float64",
         "type": "float"
        },
        {
         "name": "resident",
         "rawType": "float64",
         "type": "float"
        },
        {
         "name": "resign",
         "rawType": "float64",
         "type": "float"
        },
        {
         "name": "resignation",
         "rawType": "float64",
         "type": "float"
        },
        {
         "name": "resist",
         "rawType": "float64",
         "type": "float"
        },
        {
         "name": "resistance",
         "rawType": "float64",
         "type": "float"
        },
        {
         "name": "resolution",
         "rawType": "float64",
         "type": "float"
        },
        {
         "name": "resolve",
         "rawType": "float64",
         "type": "float"
        },
        {
         "name": "resort",
         "rawType": "float64",
         "type": "float"
        },
        {
         "name": "resource",
         "rawType": "float64",
         "type": "float"
        },
        {
         "name": "respect",
         "rawType": "float64",
         "type": "float"
        },
        {
         "name": "respond",
         "rawType": "float64",
         "type": "float"
        },
        {
         "name": "response",
         "rawType": "float64",
         "type": "float"
        },
        {
         "name": "responsibility",
         "rawType": "float64",
         "type": "float"
        },
        {
         "name": "responsible",
         "rawType": "float64",
         "type": "float"
        },
        {
         "name": "rest",
         "rawType": "float64",
         "type": "float"
        },
        {
         "name": "restaurant",
         "rawType": "float64",
         "type": "float"
        },
        {
         "name": "restore",
         "rawType": "float64",
         "type": "float"
        },
        {
         "name": "restrict",
         "rawType": "float64",
         "type": "float"
        },
        {
         "name": "restriction",
         "rawType": "float64",
         "type": "float"
        },
        {
         "name": "result",
         "rawType": "float64",
         "type": "float"
        },
        {
         "name": "resume",
         "rawType": "float64",
         "type": "float"
        },
        {
         "name": "retire",
         "rawType": "float64",
         "type": "float"
        },
        {
         "name": "return",
         "rawType": "float64",
         "type": "float"
        },
        {
         "name": "reuters",
         "rawType": "float64",
         "type": "float"
        },
        {
         "name": "reveal",
         "rawType": "float64",
         "type": "float"
        },
        {
         "name": "revelation",
         "rawType": "float64",
         "type": "float"
        },
        {
         "name": "revenue",
         "rawType": "float64",
         "type": "float"
        },
        {
         "name": "reverse",
         "rawType": "float64",
         "type": "float"
        },
        {
         "name": "review",
         "rawType": "float64",
         "type": "float"
        },
        {
         "name": "revive",
         "rawType": "float64",
         "type": "float"
        },
        {
         "name": "rex",
         "rawType": "float64",
         "type": "float"
        },
        {
         "name": "rhetoric",
         "rawType": "float64",
         "type": "float"
        },
        {
         "name": "rich",
         "rawType": "float64",
         "type": "float"
        },
        {
         "name": "richard",
         "rawType": "float64",
         "type": "float"
        },
        {
         "name": "rick",
         "rawType": "float64",
         "type": "float"
        },
        {
         "name": "rid",
         "rawType": "float64",
         "type": "float"
        },
        {
         "name": "ridiculous",
         "rawType": "float64",
         "type": "float"
        },
        {
         "name": "rig",
         "rawType": "float64",
         "type": "float"
        },
        {
         "name": "right",
         "rawType": "float64",
         "type": "float"
        },
        {
         "name": "riot",
         "rawType": "float64",
         "type": "float"
        },
        {
         "name": "rip",
         "rawType": "float64",
         "type": "float"
        },
        {
         "name": "rise",
         "rawType": "float64",
         "type": "float"
        },
        {
         "name": "risk",
         "rawType": "float64",
         "type": "float"
        },
        {
         "name": "rival",
         "rawType": "float64",
         "type": "float"
        },
        {
         "name": "river",
         "rawType": "float64",
         "type": "float"
        },
        {
         "name": "road",
         "rawType": "float64",
         "type": "float"
        },
        {
         "name": "robert",
         "rawType": "float64",
         "type": "float"
        },
        {
         "name": "rock",
         "rawType": "float64",
         "type": "float"
        },
        {
         "name": "role",
         "rawType": "float64",
         "type": "float"
        },
        {
         "name": "roll",
         "rawType": "float64",
         "type": "float"
        },
        {
         "name": "romney",
         "rawType": "float64",
         "type": "float"
        },
        {
         "name": "ronald",
         "rawType": "float64",
         "type": "float"
        },
        {
         "name": "room",
         "rawType": "float64",
         "type": "float"
        },
        {
         "name": "root",
         "rawType": "float64",
         "type": "float"
        },
        {
         "name": "roughly",
         "rawType": "float64",
         "type": "float"
        },
        {
         "name": "round",
         "rawType": "float64",
         "type": "float"
        },
        {
         "name": "route",
         "rawType": "float64",
         "type": "float"
        },
        {
         "name": "rubio",
         "rawType": "float64",
         "type": "float"
        },
        {
         "name": "rule",
         "rawType": "float64",
         "type": "float"
        },
        {
         "name": "ruling",
         "rawType": "float64",
         "type": "float"
        },
        {
         "name": "run",
         "rawType": "float64",
         "type": "float"
        },
        {
         "name": "rush",
         "rawType": "float64",
         "type": "float"
        },
        {
         "name": "russia",
         "rawType": "float64",
         "type": "float"
        },
        {
         "name": "russian",
         "rawType": "float64",
         "type": "float"
        },
        {
         "name": "ryan",
         "rawType": "float64",
         "type": "float"
        },
        {
         "name": "sad",
         "rawType": "float64",
         "type": "float"
        },
        {
         "name": "safe",
         "rawType": "float64",
         "type": "float"
        },
        {
         "name": "safety",
         "rawType": "float64",
         "type": "float"
        },
        {
         "name": "sale",
         "rawType": "float64",
         "type": "float"
        },
        {
         "name": "san",
         "rawType": "float64",
         "type": "float"
        },
        {
         "name": "sanction",
         "rawType": "float64",
         "type": "float"
        },
        {
         "name": "sander",
         "rawType": "float64",
         "type": "float"
        },
        {
         "name": "sarah",
         "rawType": "float64",
         "type": "float"
        },
        {
         "name": "sat",
         "rawType": "float64",
         "type": "float"
        },
        {
         "name": "saturday",
         "rawType": "float64",
         "type": "float"
        },
        {
         "name": "saudi",
         "rawType": "float64",
         "type": "float"
        },
        {
         "name": "save",
         "rawType": "float64",
         "type": "float"
        },
        {
         "name": "saw",
         "rawType": "float64",
         "type": "float"
        },
        {
         "name": "say",
         "rawType": "float64",
         "type": "float"
        },
        {
         "name": "scale",
         "rawType": "float64",
         "type": "float"
        },
        {
         "name": "scalia",
         "rawType": "float64",
         "type": "float"
        },
        {
         "name": "scandal",
         "rawType": "float64",
         "type": "float"
        },
        {
         "name": "scar",
         "rawType": "float64",
         "type": "float"
        },
        {
         "name": "scene",
         "rawType": "float64",
         "type": "float"
        },
        {
         "name": "schedule",
         "rawType": "float64",
         "type": "float"
        },
        {
         "name": "scheme",
         "rawType": "float64",
         "type": "float"
        },
        {
         "name": "school",
         "rawType": "float64",
         "type": "float"
        },
        {
         "name": "schumer",
         "rawType": "float64",
         "type": "float"
        },
        {
         "name": "science",
         "rawType": "float64",
         "type": "float"
        },
        {
         "name": "scientist",
         "rawType": "float64",
         "type": "float"
        },
        {
         "name": "score",
         "rawType": "float64",
         "type": "float"
        },
        {
         "name": "scott",
         "rawType": "float64",
         "type": "float"
        },
        {
         "name": "scrap",
         "rawType": "float64",
         "type": "float"
        },
        {
         "name": "scream",
         "rawType": "float64",
         "type": "float"
        },
        {
         "name": "screen",
         "rawType": "float64",
         "type": "float"
        },
        {
         "name": "screengrab",
         "rawType": "float64",
         "type": "float"
        },
        {
         "name": "screenshot",
         "rawType": "float64",
         "type": "float"
        },
        {
         "name": "scrutiny",
         "rawType": "float64",
         "type": "float"
        },
        {
         "name": "sea",
         "rawType": "float64",
         "type": "float"
        },
        {
         "name": "sean",
         "rawType": "float64",
         "type": "float"
        },
        {
         "name": "search",
         "rawType": "float64",
         "type": "float"
        },
        {
         "name": "season",
         "rawType": "float64",
         "type": "float"
        },
        {
         "name": "seat",
         "rawType": "float64",
         "type": "float"
        },
        {
         "name": "second",
         "rawType": "float64",
         "type": "float"
        },
        {
         "name": "secret",
         "rawType": "float64",
         "type": "float"
        },
        {
         "name": "secretary",
         "rawType": "float64",
         "type": "float"
        },
        {
         "name": "section",
         "rawType": "float64",
         "type": "float"
        },
        {
         "name": "sector",
         "rawType": "float64",
         "type": "float"
        },
        {
         "name": "secure",
         "rawType": "float64",
         "type": "float"
        },
        {
         "name": "security",
         "rawType": "float64",
         "type": "float"
        },
        {
         "name": "see",
         "rawType": "float64",
         "type": "float"
        },
        {
         "name": "seek",
         "rawType": "float64",
         "type": "float"
        },
        {
         "name": "seem",
         "rawType": "float64",
         "type": "float"
        },
        {
         "name": "segment",
         "rawType": "float64",
         "type": "float"
        },
        {
         "name": "seize",
         "rawType": "float64",
         "type": "float"
        },
        {
         "name": "select",
         "rawType": "float64",
         "type": "float"
        },
        {
         "name": "sell",
         "rawType": "float64",
         "type": "float"
        },
        {
         "name": "senate",
         "rawType": "float64",
         "type": "float"
        },
        {
         "name": "senator",
         "rawType": "float64",
         "type": "float"
        },
        {
         "name": "send",
         "rawType": "float64",
         "type": "float"
        },
        {
         "name": "senior",
         "rawType": "float64",
         "type": "float"
        },
        {
         "name": "sense",
         "rawType": "float64",
         "type": "float"
        },
        {
         "name": "sensitive",
         "rawType": "float64",
         "type": "float"
        },
        {
         "name": "sent",
         "rawType": "float64",
         "type": "float"
        },
        {
         "name": "sentence",
         "rawType": "float64",
         "type": "float"
        },
        {
         "name": "sentiment",
         "rawType": "float64",
         "type": "float"
        },
        {
         "name": "separate",
         "rawType": "float64",
         "type": "float"
        },
        {
         "name": "september",
         "rawType": "float64",
         "type": "float"
        },
        {
         "name": "serf",
         "rawType": "float64",
         "type": "float"
        },
        {
         "name": "series",
         "rawType": "float64",
         "type": "float"
        },
        {
         "name": "serious",
         "rawType": "float64",
         "type": "float"
        },
        {
         "name": "seriously",
         "rawType": "float64",
         "type": "float"
        },
        {
         "name": "serve",
         "rawType": "float64",
         "type": "float"
        },
        {
         "name": "server",
         "rawType": "float64",
         "type": "float"
        },
        {
         "name": "service",
         "rawType": "float64",
         "type": "float"
        },
        {
         "name": "session",
         "rawType": "float64",
         "type": "float"
        },
        {
         "name": "set",
         "rawType": "float64",
         "type": "float"
        },
        {
         "name": "settle",
         "rawType": "float64",
         "type": "float"
        },
        {
         "name": "settlement",
         "rawType": "float64",
         "type": "float"
        },
        {
         "name": "seven",
         "rawType": "float64",
         "type": "float"
        },
        {
         "name": "several",
         "rawType": "float64",
         "type": "float"
        },
        {
         "name": "severe",
         "rawType": "float64",
         "type": "float"
        },
        {
         "name": "sex",
         "rawType": "float64",
         "type": "float"
        },
        {
         "name": "sexual",
         "rawType": "float64",
         "type": "float"
        },
        {
         "name": "sexually",
         "rawType": "float64",
         "type": "float"
        },
        {
         "name": "shake",
         "rawType": "float64",
         "type": "float"
        },
        {
         "name": "shame",
         "rawType": "float64",
         "type": "float"
        },
        {
         "name": "shape",
         "rawType": "float64",
         "type": "float"
        },
        {
         "name": "share",
         "rawType": "float64",
         "type": "float"
        },
        {
         "name": "sharp",
         "rawType": "float64",
         "type": "float"
        },
        {
         "name": "sheriff",
         "rawType": "float64",
         "type": "float"
        },
        {
         "name": "shift",
         "rawType": "float64",
         "type": "float"
        },
        {
         "name": "ship",
         "rawType": "float64",
         "type": "float"
        },
        {
         "name": "shock",
         "rawType": "float64",
         "type": "float"
        },
        {
         "name": "shoot",
         "rawType": "float64",
         "type": "float"
        },
        {
         "name": "short",
         "rawType": "float64",
         "type": "float"
        },
        {
         "name": "shortly",
         "rawType": "float64",
         "type": "float"
        },
        {
         "name": "shot",
         "rawType": "float64",
         "type": "float"
        },
        {
         "name": "shout",
         "rawType": "float64",
         "type": "float"
        },
        {
         "name": "show",
         "rawType": "float64",
         "type": "float"
        },
        {
         "name": "shut",
         "rawType": "float64",
         "type": "float"
        },
        {
         "name": "sick",
         "rawType": "float64",
         "type": "float"
        },
        {
         "name": "side",
         "rawType": "float64",
         "type": "float"
        },
        {
         "name": "sign",
         "rawType": "float64",
         "type": "float"
        },
        {
         "name": "signal",
         "rawType": "float64",
         "type": "float"
        },
        {
         "name": "signature",
         "rawType": "float64",
         "type": "float"
        },
        {
         "name": "significant",
         "rawType": "float64",
         "type": "float"
        },
        {
         "name": "silence",
         "rawType": "float64",
         "type": "float"
        },
        {
         "name": "silent",
         "rawType": "float64",
         "type": "float"
        },
        {
         "name": "similar",
         "rawType": "float64",
         "type": "float"
        },
        {
         "name": "simple",
         "rawType": "float64",
         "type": "float"
        },
        {
         "name": "simply",
         "rawType": "float64",
         "type": "float"
        },
        {
         "name": "since",
         "rawType": "float64",
         "type": "float"
        },
        {
         "name": "single",
         "rawType": "float64",
         "type": "float"
        },
        {
         "name": "sister",
         "rawType": "float64",
         "type": "float"
        },
        {
         "name": "sit",
         "rawType": "float64",
         "type": "float"
        },
        {
         "name": "site",
         "rawType": "float64",
         "type": "float"
        },
        {
         "name": "situation",
         "rawType": "float64",
         "type": "float"
        },
        {
         "name": "six",
         "rawType": "float64",
         "type": "float"
        },
        {
         "name": "size",
         "rawType": "float64",
         "type": "float"
        },
        {
         "name": "slam",
         "rawType": "float64",
         "type": "float"
        },
        {
         "name": "slash",
         "rawType": "float64",
         "type": "float"
        },
        {
         "name": "slow",
         "rawType": "float64",
         "type": "float"
        },
        {
         "name": "small",
         "rawType": "float64",
         "type": "float"
        },
        {
         "name": "smart",
         "rawType": "float64",
         "type": "float"
        },
        {
         "name": "social",
         "rawType": "float64",
         "type": "float"
        },
        {
         "name": "socialist",
         "rawType": "float64",
         "type": "float"
        },
        {
         "name": "society",
         "rawType": "float64",
         "type": "float"
        },
        {
         "name": "soldier",
         "rawType": "float64",
         "type": "float"
        },
        {
         "name": "solution",
         "rawType": "float64",
         "type": "float"
        },
        {
         "name": "solve",
         "rawType": "float64",
         "type": "float"
        },
        {
         "name": "somebody",
         "rawType": "float64",
         "type": "float"
        },
        {
         "name": "somehow",
         "rawType": "float64",
         "type": "float"
        },
        {
         "name": "someone",
         "rawType": "float64",
         "type": "float"
        },
        {
         "name": "something",
         "rawType": "float64",
         "type": "float"
        },
        {
         "name": "sometimes",
         "rawType": "float64",
         "type": "float"
        },
        {
         "name": "son",
         "rawType": "float64",
         "type": "float"
        },
        {
         "name": "soon",
         "rawType": "float64",
         "type": "float"
        },
        {
         "name": "sorry",
         "rawType": "float64",
         "type": "float"
        },
        {
         "name": "sort",
         "rawType": "float64",
         "type": "float"
        },
        {
         "name": "sought",
         "rawType": "float64",
         "type": "float"
        },
        {
         "name": "sound",
         "rawType": "float64",
         "type": "float"
        },
        {
         "name": "source",
         "rawType": "float64",
         "type": "float"
        },
        {
         "name": "south",
         "rawType": "float64",
         "type": "float"
        },
        {
         "name": "southeast",
         "rawType": "float64",
         "type": "float"
        },
        {
         "name": "southern",
         "rawType": "float64",
         "type": "float"
        },
        {
         "name": "space",
         "rawType": "float64",
         "type": "float"
        },
        {
         "name": "spain",
         "rawType": "float64",
         "type": "float"
        },
        {
         "name": "spanish",
         "rawType": "float64",
         "type": "float"
        },
        {
         "name": "spark",
         "rawType": "float64",
         "type": "float"
        },
        {
         "name": "speak",
         "rawType": "float64",
         "type": "float"
        },
        {
         "name": "speaker",
         "rawType": "float64",
         "type": "float"
        },
        {
         "name": "speaks",
         "rawType": "float64",
         "type": "float"
        },
        {
         "name": "special",
         "rawType": "float64",
         "type": "float"
        },
        {
         "name": "specific",
         "rawType": "float64",
         "type": "float"
        },
        {
         "name": "specifically",
         "rawType": "float64",
         "type": "float"
        },
        {
         "name": "speech",
         "rawType": "float64",
         "type": "float"
        },
        {
         "name": "speed",
         "rawType": "float64",
         "type": "float"
        },
        {
         "name": "spend",
         "rawType": "float64",
         "type": "float"
        },
        {
         "name": "spending",
         "rawType": "float64",
         "type": "float"
        },
        {
         "name": "spent",
         "rawType": "float64",
         "type": "float"
        },
        {
         "name": "spicer",
         "rawType": "float64",
         "type": "float"
        },
        {
         "name": "split",
         "rawType": "float64",
         "type": "float"
        },
        {
         "name": "spoke",
         "rawType": "float64",
         "type": "float"
        },
        {
         "name": "spoken",
         "rawType": "float64",
         "type": "float"
        },
        {
         "name": "spokesman",
         "rawType": "float64",
         "type": "float"
        },
        {
         "name": "spokesperson",
         "rawType": "float64",
         "type": "float"
        },
        {
         "name": "spokeswoman",
         "rawType": "float64",
         "type": "float"
        },
        {
         "name": "sponsor",
         "rawType": "float64",
         "type": "float"
        },
        {
         "name": "sport",
         "rawType": "float64",
         "type": "float"
        },
        {
         "name": "spot",
         "rawType": "float64",
         "type": "float"
        },
        {
         "name": "spread",
         "rawType": "float64",
         "type": "float"
        },
        {
         "name": "spy",
         "rawType": "float64",
         "type": "float"
        },
        {
         "name": "stability",
         "rawType": "float64",
         "type": "float"
        },
        {
         "name": "staff",
         "rawType": "float64",
         "type": "float"
        },
        {
         "name": "staffer",
         "rawType": "float64",
         "type": "float"
        },
        {
         "name": "stage",
         "rawType": "float64",
         "type": "float"
        },
        {
         "name": "stake",
         "rawType": "float64",
         "type": "float"
        },
        {
         "name": "stance",
         "rawType": "float64",
         "type": "float"
        },
        {
         "name": "stand",
         "rawType": "float64",
         "type": "float"
        },
        {
         "name": "standard",
         "rawType": "float64",
         "type": "float"
        },
        {
         "name": "star",
         "rawType": "float64",
         "type": "float"
        },
        {
         "name": "start",
         "rawType": "float64",
         "type": "float"
        },
        {
         "name": "state",
         "rawType": "float64",
         "type": "float"
        },
        {
         "name": "statement",
         "rawType": "float64",
         "type": "float"
        },
        {
         "name": "station",
         "rawType": "float64",
         "type": "float"
        },
        {
         "name": "status",
         "rawType": "float64",
         "type": "float"
        },
        {
         "name": "stay",
         "rawType": "float64",
         "type": "float"
        },
        {
         "name": "steal",
         "rawType": "float64",
         "type": "float"
        },
        {
         "name": "stem",
         "rawType": "float64",
         "type": "float"
        },
        {
         "name": "step",
         "rawType": "float64",
         "type": "float"
        },
        {
         "name": "stephen",
         "rawType": "float64",
         "type": "float"
        },
        {
         "name": "steve",
         "rawType": "float64",
         "type": "float"
        },
        {
         "name": "steven",
         "rawType": "float64",
         "type": "float"
        },
        {
         "name": "stick",
         "rawType": "float64",
         "type": "float"
        },
        {
         "name": "still",
         "rawType": "float64",
         "type": "float"
        },
        {
         "name": "stock",
         "rawType": "float64",
         "type": "float"
        },
        {
         "name": "stood",
         "rawType": "float64",
         "type": "float"
        },
        {
         "name": "stop",
         "rawType": "float64",
         "type": "float"
        },
        {
         "name": "store",
         "rawType": "float64",
         "type": "float"
        },
        {
         "name": "storm",
         "rawType": "float64",
         "type": "float"
        },
        {
         "name": "story",
         "rawType": "float64",
         "type": "float"
        },
        {
         "name": "straight",
         "rawType": "float64",
         "type": "float"
        },
        {
         "name": "strain",
         "rawType": "float64",
         "type": "float"
        },
        {
         "name": "strategic",
         "rawType": "float64",
         "type": "float"
        },
        {
         "name": "strategist",
         "rawType": "float64",
         "type": "float"
        },
        {
         "name": "strategy",
         "rawType": "float64",
         "type": "float"
        },
        {
         "name": "street",
         "rawType": "float64",
         "type": "float"
        },
        {
         "name": "strength",
         "rawType": "float64",
         "type": "float"
        },
        {
         "name": "strengthen",
         "rawType": "float64",
         "type": "float"
        },
        {
         "name": "stress",
         "rawType": "float64",
         "type": "float"
        },
        {
         "name": "strike",
         "rawType": "float64",
         "type": "float"
        },
        {
         "name": "strip",
         "rawType": "float64",
         "type": "float"
        },
        {
         "name": "strong",
         "rawType": "float64",
         "type": "float"
        },
        {
         "name": "strongly",
         "rawType": "float64",
         "type": "float"
        },
        {
         "name": "struck",
         "rawType": "float64",
         "type": "float"
        },
        {
         "name": "structure",
         "rawType": "float64",
         "type": "float"
        },
        {
         "name": "struggle",
         "rawType": "float64",
         "type": "float"
        },
        {
         "name": "student",
         "rawType": "float64",
         "type": "float"
        },
        {
         "name": "study",
         "rawType": "float64",
         "type": "float"
        },
        {
         "name": "stuff",
         "rawType": "float64",
         "type": "float"
        },
        {
         "name": "stun",
         "rawType": "float64",
         "type": "float"
        },
        {
         "name": "stupid",
         "rawType": "float64",
         "type": "float"
        },
        {
         "name": "style",
         "rawType": "float64",
         "type": "float"
        },
        {
         "name": "subject",
         "rawType": "float64",
         "type": "float"
        },
        {
         "name": "submit",
         "rawType": "float64",
         "type": "float"
        },
        {
         "name": "succeed",
         "rawType": "float64",
         "type": "float"
        },
        {
         "name": "success",
         "rawType": "float64",
         "type": "float"
        },
        {
         "name": "successful",
         "rawType": "float64",
         "type": "float"
        },
        {
         "name": "suddenly",
         "rawType": "float64",
         "type": "float"
        },
        {
         "name": "sue",
         "rawType": "float64",
         "type": "float"
        },
        {
         "name": "suffer",
         "rawType": "float64",
         "type": "float"
        },
        {
         "name": "suggest",
         "rawType": "float64",
         "type": "float"
        },
        {
         "name": "suggestion",
         "rawType": "float64",
         "type": "float"
        },
        {
         "name": "suggests",
         "rawType": "float64",
         "type": "float"
        },
        {
         "name": "suicide",
         "rawType": "float64",
         "type": "float"
        },
        {
         "name": "suit",
         "rawType": "float64",
         "type": "float"
        },
        {
         "name": "summer",
         "rawType": "float64",
         "type": "float"
        },
        {
         "name": "summit",
         "rawType": "float64",
         "type": "float"
        },
        {
         "name": "sunday",
         "rawType": "float64",
         "type": "float"
        },
        {
         "name": "super",
         "rawType": "float64",
         "type": "float"
        },
        {
         "name": "supply",
         "rawType": "float64",
         "type": "float"
        },
        {
         "name": "support",
         "rawType": "float64",
         "type": "float"
        },
        {
         "name": "supporter",
         "rawType": "float64",
         "type": "float"
        },
        {
         "name": "suppose",
         "rawType": "float64",
         "type": "float"
        },
        {
         "name": "supremacist",
         "rawType": "float64",
         "type": "float"
        },
        {
         "name": "supreme",
         "rawType": "float64",
         "type": "float"
        },
        {
         "name": "sure",
         "rawType": "float64",
         "type": "float"
        },
        {
         "name": "surface",
         "rawType": "float64",
         "type": "float"
        },
        {
         "name": "surge",
         "rawType": "float64",
         "type": "float"
        },
        {
         "name": "surprise",
         "rawType": "float64",
         "type": "float"
        },
        {
         "name": "surprised",
         "rawType": "float64",
         "type": "float"
        },
        {
         "name": "surprising",
         "rawType": "float64",
         "type": "float"
        },
        {
         "name": "surround",
         "rawType": "float64",
         "type": "float"
        },
        {
         "name": "surveillance",
         "rawType": "float64",
         "type": "float"
        },
        {
         "name": "survey",
         "rawType": "float64",
         "type": "float"
        },
        {
         "name": "survive",
         "rawType": "float64",
         "type": "float"
        },
        {
         "name": "susan",
         "rawType": "float64",
         "type": "float"
        },
        {
         "name": "suspect",
         "rawType": "float64",
         "type": "float"
        },
        {
         "name": "suspend",
         "rawType": "float64",
         "type": "float"
        },
        {
         "name": "sweep",
         "rawType": "float64",
         "type": "float"
        },
        {
         "name": "swing",
         "rawType": "float64",
         "type": "float"
        },
        {
         "name": "switch",
         "rawType": "float64",
         "type": "float"
        },
        {
         "name": "sworn",
         "rawType": "float64",
         "type": "float"
        },
        {
         "name": "syria",
         "rawType": "float64",
         "type": "float"
        },
        {
         "name": "syrian",
         "rawType": "float64",
         "type": "float"
        },
        {
         "name": "system",
         "rawType": "float64",
         "type": "float"
        },
        {
         "name": "table",
         "rawType": "float64",
         "type": "float"
        },
        {
         "name": "tackle",
         "rawType": "float64",
         "type": "float"
        },
        {
         "name": "tactic",
         "rawType": "float64",
         "type": "float"
        },
        {
         "name": "take",
         "rawType": "float64",
         "type": "float"
        },
        {
         "name": "talk",
         "rawType": "float64",
         "type": "float"
        },
        {
         "name": "tank",
         "rawType": "float64",
         "type": "float"
        },
        {
         "name": "tape",
         "rawType": "float64",
         "type": "float"
        },
        {
         "name": "target",
         "rawType": "float64",
         "type": "float"
        },
        {
         "name": "task",
         "rawType": "float64",
         "type": "float"
        },
        {
         "name": "tax",
         "rawType": "float64",
         "type": "float"
        },
        {
         "name": "taxpayer",
         "rawType": "float64",
         "type": "float"
        },
        {
         "name": "teach",
         "rawType": "float64",
         "type": "float"
        },
        {
         "name": "teacher",
         "rawType": "float64",
         "type": "float"
        },
        {
         "name": "team",
         "rawType": "float64",
         "type": "float"
        },
        {
         "name": "tear",
         "rawType": "float64",
         "type": "float"
        },
        {
         "name": "technology",
         "rawType": "float64",
         "type": "float"
        },
        {
         "name": "ted",
         "rawType": "float64",
         "type": "float"
        },
        {
         "name": "tehran",
         "rawType": "float64",
         "type": "float"
        },
        {
         "name": "telephone",
         "rawType": "float64",
         "type": "float"
        },
        {
         "name": "television",
         "rawType": "float64",
         "type": "float"
        },
        {
         "name": "tell",
         "rawType": "float64",
         "type": "float"
        },
        {
         "name": "temporarily",
         "rawType": "float64",
         "type": "float"
        },
        {
         "name": "temporary",
         "rawType": "float64",
         "type": "float"
        },
        {
         "name": "ten",
         "rawType": "float64",
         "type": "float"
        },
        {
         "name": "tension",
         "rawType": "float64",
         "type": "float"
        },
        {
         "name": "tenure",
         "rawType": "float64",
         "type": "float"
        },
        {
         "name": "term",
         "rawType": "float64",
         "type": "float"
        },
        {
         "name": "terrible",
         "rawType": "float64",
         "type": "float"
        },
        {
         "name": "terrify",
         "rawType": "float64",
         "type": "float"
        },
        {
         "name": "territory",
         "rawType": "float64",
         "type": "float"
        },
        {
         "name": "terror",
         "rawType": "float64",
         "type": "float"
        },
        {
         "name": "terrorism",
         "rawType": "float64",
         "type": "float"
        },
        {
         "name": "terrorist",
         "rawType": "float64",
         "type": "float"
        },
        {
         "name": "test",
         "rawType": "float64",
         "type": "float"
        },
        {
         "name": "testify",
         "rawType": "float64",
         "type": "float"
        },
        {
         "name": "testimony",
         "rawType": "float64",
         "type": "float"
        },
        {
         "name": "texas",
         "rawType": "float64",
         "type": "float"
        },
        {
         "name": "text",
         "rawType": "float64",
         "type": "float"
        },
        {
         "name": "thank",
         "rawType": "float64",
         "type": "float"
        },
        {
         "name": "thanks",
         "rawType": "float64",
         "type": "float"
        },
        {
         "name": "theory",
         "rawType": "float64",
         "type": "float"
        },
        {
         "name": "therefore",
         "rawType": "float64",
         "type": "float"
        },
        {
         "name": "theresa",
         "rawType": "float64",
         "type": "float"
        },
        {
         "name": "thing",
         "rawType": "float64",
         "type": "float"
        },
        {
         "name": "think",
         "rawType": "float64",
         "type": "float"
        },
        {
         "name": "third",
         "rawType": "float64",
         "type": "float"
        },
        {
         "name": "thomas",
         "rawType": "float64",
         "type": "float"
        },
        {
         "name": "though",
         "rawType": "float64",
         "type": "float"
        },
        {
         "name": "thought",
         "rawType": "float64",
         "type": "float"
        },
        {
         "name": "thousand",
         "rawType": "float64",
         "type": "float"
        },
        {
         "name": "threat",
         "rawType": "float64",
         "type": "float"
        },
        {
         "name": "threaten",
         "rawType": "float64",
         "type": "float"
        },
        {
         "name": "threatens",
         "rawType": "float64",
         "type": "float"
        },
        {
         "name": "three",
         "rawType": "float64",
         "type": "float"
        },
        {
         "name": "threw",
         "rawType": "float64",
         "type": "float"
        },
        {
         "name": "throughout",
         "rawType": "float64",
         "type": "float"
        },
        {
         "name": "throw",
         "rawType": "float64",
         "type": "float"
        },
        {
         "name": "thrown",
         "rawType": "float64",
         "type": "float"
        },
        {
         "name": "thursday",
         "rawType": "float64",
         "type": "float"
        },
        {
         "name": "thus",
         "rawType": "float64",
         "type": "float"
        },
        {
         "name": "ticket",
         "rawType": "float64",
         "type": "float"
        },
        {
         "name": "tie",
         "rawType": "float64",
         "type": "float"
        },
        {
         "name": "tillerson",
         "rawType": "float64",
         "type": "float"
        },
        {
         "name": "tim",
         "rawType": "float64",
         "type": "float"
        },
        {
         "name": "time",
         "rawType": "float64",
         "type": "float"
        },
        {
         "name": "tire",
         "rawType": "float64",
         "type": "float"
        },
        {
         "name": "title",
         "rawType": "float64",
         "type": "float"
        },
        {
         "name": "today",
         "rawType": "float64",
         "type": "float"
        },
        {
         "name": "together",
         "rawType": "float64",
         "type": "float"
        },
        {
         "name": "told",
         "rawType": "float64",
         "type": "float"
        },
        {
         "name": "tom",
         "rawType": "float64",
         "type": "float"
        },
        {
         "name": "tone",
         "rawType": "float64",
         "type": "float"
        },
        {
         "name": "tonight",
         "rawType": "float64",
         "type": "float"
        },
        {
         "name": "tool",
         "rawType": "float64",
         "type": "float"
        },
        {
         "name": "top",
         "rawType": "float64",
         "type": "float"
        },
        {
         "name": "topic",
         "rawType": "float64",
         "type": "float"
        },
        {
         "name": "torture",
         "rawType": "float64",
         "type": "float"
        },
        {
         "name": "total",
         "rawType": "float64",
         "type": "float"
        },
        {
         "name": "totally",
         "rawType": "float64",
         "type": "float"
        },
        {
         "name": "touch",
         "rawType": "float64",
         "type": "float"
        },
        {
         "name": "tough",
         "rawType": "float64",
         "type": "float"
        },
        {
         "name": "tougher",
         "rawType": "float64",
         "type": "float"
        },
        {
         "name": "tour",
         "rawType": "float64",
         "type": "float"
        },
        {
         "name": "toward",
         "rawType": "float64",
         "type": "float"
        },
        {
         "name": "towards",
         "rawType": "float64",
         "type": "float"
        },
        {
         "name": "tower",
         "rawType": "float64",
         "type": "float"
        },
        {
         "name": "town",
         "rawType": "float64",
         "type": "float"
        },
        {
         "name": "track",
         "rawType": "float64",
         "type": "float"
        },
        {
         "name": "trade",
         "rawType": "float64",
         "type": "float"
        },
        {
         "name": "trading",
         "rawType": "float64",
         "type": "float"
        },
        {
         "name": "traditional",
         "rawType": "float64",
         "type": "float"
        },
        {
         "name": "traffic",
         "rawType": "float64",
         "type": "float"
        },
        {
         "name": "trail",
         "rawType": "float64",
         "type": "float"
        },
        {
         "name": "train",
         "rawType": "float64",
         "type": "float"
        },
        {
         "name": "training",
         "rawType": "float64",
         "type": "float"
        },
        {
         "name": "transfer",
         "rawType": "float64",
         "type": "float"
        },
        {
         "name": "transgender",
         "rawType": "float64",
         "type": "float"
        },
        {
         "name": "transition",
         "rawType": "float64",
         "type": "float"
        },
        {
         "name": "transport",
         "rawType": "float64",
         "type": "float"
        },
        {
         "name": "trash",
         "rawType": "float64",
         "type": "float"
        },
        {
         "name": "travel",
         "rawType": "float64",
         "type": "float"
        },
        {
         "name": "treasury",
         "rawType": "float64",
         "type": "float"
        },
        {
         "name": "treat",
         "rawType": "float64",
         "type": "float"
        },
        {
         "name": "treatment",
         "rawType": "float64",
         "type": "float"
        },
        {
         "name": "treaty",
         "rawType": "float64",
         "type": "float"
        },
        {
         "name": "trend",
         "rawType": "float64",
         "type": "float"
        },
        {
         "name": "trial",
         "rawType": "float64",
         "type": "float"
        },
        {
         "name": "trigger",
         "rawType": "float64",
         "type": "float"
        },
        {
         "name": "trillion",
         "rawType": "float64",
         "type": "float"
        },
        {
         "name": "trip",
         "rawType": "float64",
         "type": "float"
        },
        {
         "name": "troop",
         "rawType": "float64",
         "type": "float"
        },
        {
         "name": "trouble",
         "rawType": "float64",
         "type": "float"
        },
        {
         "name": "truck",
         "rawType": "float64",
         "type": "float"
        },
        {
         "name": "true",
         "rawType": "float64",
         "type": "float"
        },
        {
         "name": "truly",
         "rawType": "float64",
         "type": "float"
        },
        {
         "name": "trump",
         "rawType": "float64",
         "type": "float"
        },
        {
         "name": "trust",
         "rawType": "float64",
         "type": "float"
        },
        {
         "name": "truth",
         "rawType": "float64",
         "type": "float"
        },
        {
         "name": "try",
         "rawType": "float64",
         "type": "float"
        },
        {
         "name": "tuesday",
         "rawType": "float64",
         "type": "float"
        },
        {
         "name": "turkey",
         "rawType": "float64",
         "type": "float"
        },
        {
         "name": "turkish",
         "rawType": "float64",
         "type": "float"
        },
        {
         "name": "turn",
         "rawType": "float64",
         "type": "float"
        },
        {
         "name": "tv",
         "rawType": "float64",
         "type": "float"
        },
        {
         "name": "tweet",
         "rawType": "float64",
         "type": "float"
        },
        {
         "name": "twice",
         "rawType": "float64",
         "type": "float"
        },
        {
         "name": "twitter",
         "rawType": "float64",
         "type": "float"
        },
        {
         "name": "two",
         "rawType": "float64",
         "type": "float"
        },
        {
         "name": "type",
         "rawType": "float64",
         "type": "float"
        },
        {
         "name": "typically",
         "rawType": "float64",
         "type": "float"
        },
        {
         "name": "u",
         "rawType": "float64",
         "type": "float"
        },
        {
         "name": "uk",
         "rawType": "float64",
         "type": "float"
        },
        {
         "name": "ukraine",
         "rawType": "float64",
         "type": "float"
        },
        {
         "name": "ultimately",
         "rawType": "float64",
         "type": "float"
        },
        {
         "name": "un",
         "rawType": "float64",
         "type": "float"
        },
        {
         "name": "unable",
         "rawType": "float64",
         "type": "float"
        },
        {
         "name": "uncertainty",
         "rawType": "float64",
         "type": "float"
        },
        {
         "name": "unclear",
         "rawType": "float64",
         "type": "float"
        },
        {
         "name": "unconstitutional",
         "rawType": "float64",
         "type": "float"
        },
        {
         "name": "undermine",
         "rawType": "float64",
         "type": "float"
        },
        {
         "name": "understand",
         "rawType": "float64",
         "type": "float"
        },
        {
         "name": "unfair",
         "rawType": "float64",
         "type": "float"
        },
        {
         "name": "unfortunately",
         "rawType": "float64",
         "type": "float"
        },
        {
         "name": "union",
         "rawType": "float64",
         "type": "float"
        },
        {
         "name": "unit",
         "rawType": "float64",
         "type": "float"
        },
        {
         "name": "united",
         "rawType": "float64",
         "type": "float"
        },
        {
         "name": "unity",
         "rawType": "float64",
         "type": "float"
        },
        {
         "name": "university",
         "rawType": "float64",
         "type": "float"
        },
        {
         "name": "unless",
         "rawType": "float64",
         "type": "float"
        },
        {
         "name": "unlike",
         "rawType": "float64",
         "type": "float"
        },
        {
         "name": "unlikely",
         "rawType": "float64",
         "type": "float"
        },
        {
         "name": "unprecedented",
         "rawType": "float64",
         "type": "float"
        },
        {
         "name": "unusual",
         "rawType": "float64",
         "type": "float"
        },
        {
         "name": "upcoming",
         "rawType": "float64",
         "type": "float"
        },
        {
         "name": "update",
         "rawType": "float64",
         "type": "float"
        },
        {
         "name": "upon",
         "rawType": "float64",
         "type": "float"
        },
        {
         "name": "upset",
         "rawType": "float64",
         "type": "float"
        },
        {
         "name": "urge",
         "rawType": "float64",
         "type": "float"
        },
        {
         "name": "us",
         "rawType": "float64",
         "type": "float"
        },
        {
         "name": "usa",
         "rawType": "float64",
         "type": "float"
        },
        {
         "name": "use",
         "rawType": "float64",
         "type": "float"
        },
        {
         "name": "user",
         "rawType": "float64",
         "type": "float"
        },
        {
         "name": "usual",
         "rawType": "float64",
         "type": "float"
        },
        {
         "name": "usually",
         "rawType": "float64",
         "type": "float"
        },
        {
         "name": "value",
         "rawType": "float64",
         "type": "float"
        },
        {
         "name": "various",
         "rawType": "float64",
         "type": "float"
        },
        {
         "name": "vast",
         "rawType": "float64",
         "type": "float"
        },
        {
         "name": "vehicle",
         "rawType": "float64",
         "type": "float"
        },
        {
         "name": "verify",
         "rawType": "float64",
         "type": "float"
        },
        {
         "name": "vermont",
         "rawType": "float64",
         "type": "float"
        },
        {
         "name": "version",
         "rawType": "float64",
         "type": "float"
        },
        {
         "name": "vet",
         "rawType": "float64",
         "type": "float"
        },
        {
         "name": "veteran",
         "rawType": "float64",
         "type": "float"
        },
        {
         "name": "via",
         "rawType": "float64",
         "type": "float"
        },
        {
         "name": "vice",
         "rawType": "float64",
         "type": "float"
        },
        {
         "name": "victim",
         "rawType": "float64",
         "type": "float"
        },
        {
         "name": "victory",
         "rawType": "float64",
         "type": "float"
        },
        {
         "name": "video",
         "rawType": "float64",
         "type": "float"
        },
        {
         "name": "vietnam",
         "rawType": "float64",
         "type": "float"
        },
        {
         "name": "view",
         "rawType": "float64",
         "type": "float"
        },
        {
         "name": "viewer",
         "rawType": "float64",
         "type": "float"
        },
        {
         "name": "village",
         "rawType": "float64",
         "type": "float"
        },
        {
         "name": "violate",
         "rawType": "float64",
         "type": "float"
        },
        {
         "name": "violation",
         "rawType": "float64",
         "type": "float"
        },
        {
         "name": "violence",
         "rawType": "float64",
         "type": "float"
        },
        {
         "name": "violent",
         "rawType": "float64",
         "type": "float"
        },
        {
         "name": "virginia",
         "rawType": "float64",
         "type": "float"
        },
        {
         "name": "visa",
         "rawType": "float64",
         "type": "float"
        },
        {
         "name": "vision",
         "rawType": "float64",
         "type": "float"
        },
        {
         "name": "visit",
         "rawType": "float64",
         "type": "float"
        },
        {
         "name": "vital",
         "rawType": "float64",
         "type": "float"
        },
        {
         "name": "vladimir",
         "rawType": "float64",
         "type": "float"
        },
        {
         "name": "voice",
         "rawType": "float64",
         "type": "float"
        },
        {
         "name": "vote",
         "rawType": "float64",
         "type": "float"
        },
        {
         "name": "voter",
         "rawType": "float64",
         "type": "float"
        },
        {
         "name": "voting",
         "rawType": "float64",
         "type": "float"
        },
        {
         "name": "vow",
         "rawType": "float64",
         "type": "float"
        },
        {
         "name": "vowed",
         "rawType": "float64",
         "type": "float"
        },
        {
         "name": "vulnerable",
         "rawType": "float64",
         "type": "float"
        },
        {
         "name": "wage",
         "rawType": "float64",
         "type": "float"
        },
        {
         "name": "wait",
         "rawType": "float64",
         "type": "float"
        },
        {
         "name": "wake",
         "rawType": "float64",
         "type": "float"
        },
        {
         "name": "walk",
         "rawType": "float64",
         "type": "float"
        },
        {
         "name": "wall",
         "rawType": "float64",
         "type": "float"
        },
        {
         "name": "want",
         "rawType": "float64",
         "type": "float"
        },
        {
         "name": "war",
         "rawType": "float64",
         "type": "float"
        },
        {
         "name": "warm",
         "rawType": "float64",
         "type": "float"
        },
        {
         "name": "warn",
         "rawType": "float64",
         "type": "float"
        },
        {
         "name": "warrant",
         "rawType": "float64",
         "type": "float"
        },
        {
         "name": "warren",
         "rawType": "float64",
         "type": "float"
        },
        {
         "name": "washington",
         "rawType": "float64",
         "type": "float"
        },
        {
         "name": "waste",
         "rawType": "float64",
         "type": "float"
        },
        {
         "name": "watch",
         "rawType": "float64",
         "type": "float"
        },
        {
         "name": "watchdog",
         "rawType": "float64",
         "type": "float"
        },
        {
         "name": "water",
         "rawType": "float64",
         "type": "float"
        },
        {
         "name": "wave",
         "rawType": "float64",
         "type": "float"
        },
        {
         "name": "way",
         "rawType": "float64",
         "type": "float"
        },
        {
         "name": "weak",
         "rawType": "float64",
         "type": "float"
        },
        {
         "name": "weaken",
         "rawType": "float64",
         "type": "float"
        },
        {
         "name": "wealth",
         "rawType": "float64",
         "type": "float"
        },
        {
         "name": "wealthy",
         "rawType": "float64",
         "type": "float"
        },
        {
         "name": "weapon",
         "rawType": "float64",
         "type": "float"
        },
        {
         "name": "wear",
         "rawType": "float64",
         "type": "float"
        },
        {
         "name": "website",
         "rawType": "float64",
         "type": "float"
        },
        {
         "name": "wednesday",
         "rawType": "float64",
         "type": "float"
        },
        {
         "name": "week",
         "rawType": "float64",
         "type": "float"
        },
        {
         "name": "weekend",
         "rawType": "float64",
         "type": "float"
        },
        {
         "name": "weigh",
         "rawType": "float64",
         "type": "float"
        },
        {
         "name": "welcome",
         "rawType": "float64",
         "type": "float"
        },
        {
         "name": "welfare",
         "rawType": "float64",
         "type": "float"
        },
        {
         "name": "well",
         "rawType": "float64",
         "type": "float"
        },
        {
         "name": "west",
         "rawType": "float64",
         "type": "float"
        },
        {
         "name": "western",
         "rawType": "float64",
         "type": "float"
        },
        {
         "name": "whatever",
         "rawType": "float64",
         "type": "float"
        },
        {
         "name": "whether",
         "rawType": "float64",
         "type": "float"
        },
        {
         "name": "whine",
         "rawType": "float64",
         "type": "float"
        },
        {
         "name": "white",
         "rawType": "float64",
         "type": "float"
        },
        {
         "name": "whole",
         "rawType": "float64",
         "type": "float"
        },
        {
         "name": "whose",
         "rawType": "float64",
         "type": "float"
        },
        {
         "name": "wide",
         "rawType": "float64",
         "type": "float"
        },
        {
         "name": "widely",
         "rawType": "float64",
         "type": "float"
        },
        {
         "name": "widespread",
         "rawType": "float64",
         "type": "float"
        },
        {
         "name": "wife",
         "rawType": "float64",
         "type": "float"
        },
        {
         "name": "wikileaks",
         "rawType": "float64",
         "type": "float"
        },
        {
         "name": "william",
         "rawType": "float64",
         "type": "float"
        },
        {
         "name": "willing",
         "rawType": "float64",
         "type": "float"
        },
        {
         "name": "win",
         "rawType": "float64",
         "type": "float"
        },
        {
         "name": "window",
         "rawType": "float64",
         "type": "float"
        },
        {
         "name": "wing",
         "rawType": "float64",
         "type": "float"
        },
        {
         "name": "winner",
         "rawType": "float64",
         "type": "float"
        },
        {
         "name": "wisconsin",
         "rawType": "float64",
         "type": "float"
        },
        {
         "name": "wish",
         "rawType": "float64",
         "type": "float"
        },
        {
         "name": "withdraw",
         "rawType": "float64",
         "type": "float"
        },
        {
         "name": "within",
         "rawType": "float64",
         "type": "float"
        },
        {
         "name": "without",
         "rawType": "float64",
         "type": "float"
        },
        {
         "name": "witness",
         "rawType": "float64",
         "type": "float"
        },
        {
         "name": "woman",
         "rawType": "float64",
         "type": "float"
        },
        {
         "name": "wonder",
         "rawType": "float64",
         "type": "float"
        },
        {
         "name": "word",
         "rawType": "float64",
         "type": "float"
        },
        {
         "name": "work",
         "rawType": "float64",
         "type": "float"
        },
        {
         "name": "worker",
         "rawType": "float64",
         "type": "float"
        },
        {
         "name": "world",
         "rawType": "float64",
         "type": "float"
        },
        {
         "name": "worldnews",
         "rawType": "float64",
         "type": "float"
        },
        {
         "name": "worried",
         "rawType": "float64",
         "type": "float"
        },
        {
         "name": "worry",
         "rawType": "float64",
         "type": "float"
        },
        {
         "name": "worth",
         "rawType": "float64",
         "type": "float"
        },
        {
         "name": "would",
         "rawType": "float64",
         "type": "float"
        },
        {
         "name": "wound",
         "rawType": "float64",
         "type": "float"
        },
        {
         "name": "wow",
         "rawType": "float64",
         "type": "float"
        },
        {
         "name": "write",
         "rawType": "float64",
         "type": "float"
        },
        {
         "name": "writer",
         "rawType": "float64",
         "type": "float"
        },
        {
         "name": "wrong",
         "rawType": "float64",
         "type": "float"
        },
        {
         "name": "wrongdoing",
         "rawType": "float64",
         "type": "float"
        },
        {
         "name": "xi",
         "rawType": "float64",
         "type": "float"
        },
        {
         "name": "yeah",
         "rawType": "float64",
         "type": "float"
        },
        {
         "name": "year",
         "rawType": "float64",
         "type": "float"
        },
        {
         "name": "yell",
         "rawType": "float64",
         "type": "float"
        },
        {
         "name": "yemen",
         "rawType": "float64",
         "type": "float"
        },
        {
         "name": "yes",
         "rawType": "float64",
         "type": "float"
        },
        {
         "name": "yesterday",
         "rawType": "float64",
         "type": "float"
        },
        {
         "name": "yet",
         "rawType": "float64",
         "type": "float"
        },
        {
         "name": "york",
         "rawType": "float64",
         "type": "float"
        },
        {
         "name": "young",
         "rawType": "float64",
         "type": "float"
        },
        {
         "name": "youth",
         "rawType": "float64",
         "type": "float"
        },
        {
         "name": "youtube",
         "rawType": "float64",
         "type": "float"
        },
        {
         "name": "zero",
         "rawType": "float64",
         "type": "float"
        },
        {
         "name": "zone",
         "rawType": "float64",
         "type": "float"
        }
       ],
       "conversionMethod": "pd.DataFrame",
       "ref": "aa4a464e-64c3-4268-aa1d-67d1359ff576",
       "rows": [
        [
         "0",
         "0.0",
         "0.0",
         "0.0",
         "0.0",
         "0.0",
         "0.0",
         "0.0",
         "0.0",
         "0.0",
         "0.0",
         "0.0",
         "0.0",
         "0.0",
         "0.0",
         "0.0",
         "0.0",
         "0.0",
         "0.0",
         "0.0",
         "0.0",
         "0.0",
         "0.0",
         "0.02949262434361591",
         "0.0",
         "0.0",
         "0.0",
         "0.0",
         "0.0",
         "0.0",
         "0.0",
         "0.0",
         "0.02608671257608243",
         "0.0",
         "0.0",
         "0.0",
         "0.05188761415242765",
         "0.0",
         "0.0",
         "0.0",
         "0.0",
         "0.0",
         "0.0",
         "0.0",
         "0.0",
         "0.0",
         "0.0",
         "0.0",
         "0.0",
         "0.0",
         "0.0",
         "0.0",
         "0.0",
         "0.0",
         "0.0",
         "0.0",
         "0.0",
         "0.0",
         "0.0",
         "0.0",
         "0.0",
         "0.0",
         "0.0",
         "0.0",
         "0.0",
         "0.0",
         "0.032173164602462244",
         "0.0",
         "0.0",
         "0.12313783827664963",
         "0.03859069716432312",
         "0.0",
         "0.0",
         "0.0",
         "0.0",
         "0.0",
         "0.0",
         "0.0",
         "0.0",
         "0.0",
         "0.0",
         "0.0",
         "0.0",
         "0.0",
         "0.0",
         "0.0",
         "0.0",
         "0.0",
         "0.0",
         "0.0",
         "0.0",
         "0.0",
         "0.0",
         "0.029739482016726344",
         "0.05348627122420296",
         "0.0",
         "0.0",
         "0.0",
         "0.0",
         "0.0",
         "0.0",
         "0.0",
         "0.0",
         "0.0",
         "0.060959332604232086",
         "0.0",
         "0.0",
         "0.0",
         "0.0",
         "0.0",
         "0.0",
         "0.0",
         "0.0",
         "0.0",
         "0.0",
         "0.0",
         "0.0",
         "0.0",
         "0.0",
         "0.0",
         "0.0",
         "0.0",
         "0.0",
         "0.0",
         "0.0",
         "0.0",
         "0.0",
         "0.0",
         "0.0",
         "0.0",
         "0.0",
         "0.0",
         "0.0",
         "0.0",
         "0.0",
         "0.0",
         "0.0",
         "0.0",
         "0.03978254990502962",
         "0.0",
         "0.0",
         "0.03793578460661134",
         "0.0",
         "0.0",
         "0.0",
         "0.0",
         "0.0",
         "0.0",
         "0.0",
         "0.0",
         "0.0",
         "0.0",
         "0.0",
         "0.051230019834706444",
         "0.0",
         "0.0",
         "0.0",
         "0.0",
         "0.0",
         "0.0",
         "0.0",
         "0.0",
         "0.0",
         "0.0",
         "0.0",
         "0.0",
         "0.046743658867112146",
         "0.0",
         "0.0",
         "0.0",
         "0.0",
         "0.0",
         "0.0",
         "0.0",
         "0.0",
         "0.0",
         "0.0",
         "0.0",
         "0.0",
         "0.0",
         "0.0",
         "0.0",
         "0.0",
         "0.0",
         "0.0",
         "0.0",
         "0.0",
         "0.0",
         "0.0",
         "0.0",
         "0.0",
         "0.0",
         "0.022665648481511053",
         "0.0",
         "0.0",
         "0.0",
         "0.0",
         "0.0",
         "0.0",
         "0.0",
         "0.0",
         "0.0",
         "0.0",
         "0.0",
         "0.0",
         "0.0",
         "0.0",
         "0.0",
         "0.0",
         "0.0",
         "0.0",
         "0.0",
         "0.04040251582079967",
         "0.0",
         "0.0",
         "0.0",
         "0.0",
         "0.0",
         "0.0",
         "0.028453344383097604",
         "0.0",
         "0.0",
         "0.0",
         "0.0",
         "0.0",
         "0.0",
         "0.0",
         "0.0",
         "0.0",
         "0.0",
         "0.0",
         "0.0",
         "0.0",
         "0.0",
         "0.0",
         "0.0",
         "0.055226263085037926",
         "0.0",
         "0.0",
         "0.08543408184940311",
         "0.06759319422486525",
         "0.0",
         "0.0",
         "0.0",
         "0.0",
         "0.0",
         "0.0",
         "0.0",
         "0.0",
         "0.0",
         "0.0",
         "0.0",
         "0.0",
         "0.0",
         "0.0",
         "0.0",
         "0.0",
         "0.0",
         "0.0",
         "0.0",
         "0.04246552690760374",
         "0.03391811872311469",
         "0.0",
         "0.0",
         "0.0",
         "0.0",
         "0.0",
         "0.0",
         "0.0",
         "0.0",
         "0.0",
         "0.0",
         "0.0",
         "0.0",
         "0.0",
         "0.0",
         "0.0",
         "0.0",
         "0.0",
         "0.0",
         "0.0",
         "0.0",
         "0.0",
         "0.0",
         "0.0",
         "0.0",
         "0.0",
         "0.0",
         "0.0",
         "0.03748641979840854",
         "0.0",
         "0.0",
         "0.0",
         "0.22712783786510743",
         "0.0",
         "0.0",
         "0.0",
         "0.0",
         "0.0",
         "0.0",
         "0.0",
         "0.0",
         "0.0",
         "0.0",
         "0.0",
         "0.0",
         "0.0",
         "0.0",
         "0.0",
         "0.03974185377294273",
         "0.03920960454834579",
         "0.0",
         "0.0",
         "0.0",
         "0.022832402950249873",
         "0.0",
         "0.0",
         "0.0",
         "0.0",
         "0.0",
         "0.0",
         "0.0",
         "0.0",
         "0.0",
         "0.0",
         "0.0",
         "0.0",
         "0.0",
         "0.0",
         "0.0",
         "0.0",
         "0.0",
         "0.0",
         "0.0",
         "0.0",
         "0.0",
         "0.0",
         "0.0",
         "0.04787855762697791",
         "0.0",
         "0.0",
         "0.14599144932041935",
         "0.0",
         "0.0",
         "0.0",
         "0.0",
         "0.0",
         "0.0",
         "0.0",
         "0.0",
         "0.0",
         "0.0",
         "0.0",
         "0.035163102632700165",
         "0.0",
         "0.0",
         "0.0",
         "0.0",
         "0.0",
         "0.0",
         "0.027180096273090638",
         "0.0",
         "0.0",
         "0.0",
         "0.0",
         "0.0",
         "0.0",
         "0.0",
         "0.0",
         "0.0",
         "0.0",
         "0.0",
         "0.03206425042015314",
         "0.0",
         "0.0",
         "0.0",
         "0.0",
         "0.0",
         "0.0",
         "0.0",
         "0.0",
         "0.0",
         "0.0",
         "0.0",
         "0.0",
         "0.0",
         "0.0",
         "0.0",
         "0.0",
         "0.0",
         "0.0",
         "0.0",
         "0.0",
         "0.0",
         "0.0",
         "0.0",
         "0.0",
         "0.0",
         "0.0",
         "0.0",
         "0.0",
         "0.04686598162637724",
         "0.0292042668825601",
         "0.0",
         "0.0",
         "0.0",
         "0.0",
         "0.0",
         "0.0",
         "0.0",
         "0.0",
         "0.0",
         "0.0",
         "0.0",
         "0.0",
         "0.0",
         "0.0",
         "0.0",
         "0.0",
         "0.0",
         "0.0",
         "0.0",
         "0.0",
         "0.0",
         "0.0",
         "0.0",
         "0.0",
         "0.020100224810196635",
         "0.0",
         "0.0",
         "0.0",
         "0.0",
         "0.0",
         "0.0",
         "0.0",
         "0.0",
         "0.0",
         "0.0",
         "0.0",
         "0.0",
         "0.0",
         "0.0",
         "0.0",
         "0.0",
         "0.0",
         "0.0",
         "0.0",
         "0.0",
         "0.0",
         "0.0",
         "0.0",
         "0.0",
         "0.0",
         "0.0",
         "0.0",
         "0.0",
         "0.0",
         "0.0",
         "0.0",
         "0.0",
         "0.0",
         "0.0",
         "0.0",
         "0.0",
         "0.0",
         "0.0",
         "0.0",
         "0.0",
         "0.0",
         "0.0",
         "0.05698078581302023",
         "0.07082634369183442",
         "0.0",
         "0.0",
         "0.0",
         "0.0",
         "0.0884601930118532",
         "0.0",
         "0.0",
         "0.0",
         "0.0",
         "0.0",
         "0.0",
         "0.0",
         "0.0",
         "0.0",
         "0.0",
         "0.0",
         "0.0",
         "0.0",
         "0.0",
         "0.0",
         "0.0",
         "0.0",
         "0.0",
         "0.0",
         "0.06113021810733351",
         "0.0",
         "0.0",
         "0.0",
         "0.0",
         "0.0",
         "0.0",
         "0.0",
         "0.0",
         "0.0",
         "0.0",
         "0.0",
         "0.0",
         "0.0",
         "0.0",
         "0.0",
         "0.0",
         "0.04778313054255566",
         "0.0",
         "0.0",
         "0.0",
         "0.0",
         "0.0",
         "0.0",
         "0.0",
         "0.0",
         "0.0",
         "0.0",
         "0.020842690733403706",
         "0.0",
         "0.0",
         "0.0",
         "0.0",
         "0.0",
         "0.0",
         "0.0",
         "0.0",
         "0.0",
         "0.0",
         "0.03207973308896066",
         "0.0",
         "0.0",
         "0.0",
         "0.0",
         "0.0",
         "0.0",
         "0.0",
         "0.0",
         "0.0",
         "0.0",
         "0.0",
         "0.0",
         "0.0",
         "0.0",
         "0.0",
         "0.0",
         "0.0",
         "0.0",
         "0.0",
         "0.0",
         "0.0",
         "0.0",
         "0.0",
         "0.0",
         "0.0993386954187282",
         "0.0",
         "0.0",
         "0.0",
         "0.0",
         "0.0",
         "0.0",
         "0.0",
         "0.0",
         "0.0",
         "0.0",
         "0.0",
         "0.04109936033751077",
         "0.0",
         "0.0",
         "0.0",
         "0.0",
         "0.0",
         "0.0",
         "0.0",
         "0.0",
         "0.0",
         "0.0",
         "0.0",
         "0.08855118478031404",
         "0.0",
         "0.07676477044427153",
         "0.0",
         "0.0",
         "0.0",
         "0.0",
         "0.0",
         "0.0",
         "0.0",
         "0.0",
         "0.0",
         "0.0351202786628203",
         "0.0",
         "0.048399585806066577",
         "0.0",
         "0.0",
         "0.0",
         "0.0",
         "0.0",
         "0.0",
         "0.0",
         "0.0",
         "0.0",
         "0.12738013646673613",
         "0.025719552241598897",
         "0.0",
         "0.0",
         "0.0",
         "0.0",
         "0.0",
         "0.0",
         "0.0",
         "0.0",
         "0.0",
         "0.05177232404332906",
         "0.0",
         "0.0",
         "0.0",
         "0.0",
         "0.0",
         "0.0",
         "0.0",
         "0.0",
         "0.0",
         "0.0",
         "0.0",
         "0.0",
         "0.0",
         "0.0",
         "0.0",
         "0.0",
         "0.0",
         "0.0",
         "0.0",
         "0.0",
         "0.0",
         "0.0",
         "0.0",
         "0.0",
         "0.0",
         "0.0",
         "0.0",
         "0.0",
         "0.0",
         "0.0",
         "0.0",
         "0.0",
         "0.0",
         "0.0",
         "0.0",
         "0.0",
         "0.0",
         "0.0",
         "0.0",
         "0.0",
         "0.0",
         "0.0",
         "0.03875652778352654",
         "0.0",
         "0.0",
         "0.0",
         "0.0",
         "0.0",
         "0.0",
         "0.0",
         "0.0",
         "0.0",
         "0.0",
         "0.0",
         "0.0",
         "0.0",
         "0.0",
         "0.0",
         "0.0",
         "0.0",
         "0.0",
         "0.0",
         "0.0",
         "0.0",
         "0.0",
         "0.01731119718317062",
         "0.0",
         "0.0",
         "0.0",
         "0.0",
         "0.0",
         "0.0",
         "0.0",
         "0.0",
         "0.0",
         "0.0",
         "0.0",
         "0.0",
         "0.0",
         "0.043615527127309095",
         "0.0",
         "0.0",
         "0.0",
         "0.0",
         "0.0",
         "0.0",
         "0.0",
         "0.0",
         "0.03398104783392905",
         "0.0",
         "0.0",
         "0.0",
         "0.0",
         "0.0",
         "0.0",
         "0.0",
         "0.0",
         "0.03603154777470157",
         "0.0",
         "0.0",
         "0.04242693064597387",
         "0.0",
         "0.0",
         "0.0",
         "0.0",
         "0.0",
         "0.0",
         "0.0",
         "0.0",
         "0.022995219547227018",
         "0.0",
         "0.0",
         "0.0",
         "0.0",
         "0.0",
         "0.0",
         "0.0",
         "0.0",
         "0.0",
         "0.0",
         "0.0",
         "0.0",
         "0.04526167010530288",
         "0.0",
         "0.0",
         "0.0",
         "0.0",
         "0.0",
         "0.0",
         "0.0",
         "0.0",
         "0.0",
         "0.0",
         "0.0",
         "0.0",
         "0.0",
         "0.0",
         "0.0",
         "0.0",
         "0.0",
         "0.0",
         "0.03237082626749124",
         "0.0",
         "0.0",
         "0.0",
         "0.0",
         "0.0",
         "0.0",
         "0.0",
         "0.0459513145750532",
         "0.0",
         "0.0",
         "0.0",
         "0.0",
         "0.0",
         "0.0",
         "0.0",
         "0.0",
         "0.0",
         "0.0",
         "0.0",
         "0.0",
         "0.0",
         "0.0",
         "0.0",
         "0.0",
         "0.0",
         "0.0",
         "0.0",
         "0.0",
         "0.02178842093916154",
         "0.0",
         "0.04539774701745696",
         "0.03195147794602807",
         "0.0",
         "0.0",
         "0.0",
         "0.0",
         "0.0",
         "0.0",
         "0.0",
         "0.0",
         "0.0",
         "0.0",
         "0.0",
         "0.0",
         "0.03917880739414437",
         "0.0",
         "0.0",
         "0.0",
         "0.0",
         "0.0",
         "0.0",
         "0.0",
         "0.05202369234465375",
         "0.028704925873986927",
         "0.0",
         "0.0",
         "0.0",
         "0.0",
         "0.0",
         "0.0",
         "0.0",
         "0.0",
         "0.0",
         "0.0",
         "0.0",
         "0.0",
         "0.0",
         "0.0",
         "0.0",
         "0.0",
         "0.0",
         "0.0",
         "0.027349373945031147",
         "0.0",
         "0.0",
         "0.0",
         "0.0",
         "0.0",
         "0.0",
         "0.0",
         "0.0",
         "0.0",
         "0.0",
         "0.0",
         "0.0",
         "0.0",
         "0.0",
         "0.0",
         "0.0",
         "0.02967115225814176",
         "0.0",
         "0.0",
         "0.037044322348031365",
         "0.0",
         "0.0",
         "0.0",
         "0.0",
         "0.0",
         "0.0",
         "0.08361357849451072",
         "0.0",
         "0.0",
         "0.0",
         "0.0",
         "0.0",
         "0.0",
         "0.0",
         "0.0",
         "0.0",
         "0.0",
         "0.059738912170615326",
         "0.0",
         "0.0",
         "0.0",
         "0.0",
         "0.0",
         "0.0",
         "0.0",
         "0.0",
         "0.04127506766210491",
         "0.0",
         "0.0",
         "0.0",
         "0.0",
         "0.0",
         "0.0",
         "0.0",
         "0.0",
         "0.17926038320068197",
         "0.0",
         "0.0",
         "0.0",
         "0.0",
         "0.0",
         "0.0",
         "0.0",
         "0.0",
         "0.0",
         "0.07827035518809697",
         "0.0",
         "0.0",
         "0.0",
         "0.0",
         "0.0",
         "0.02760185957094153",
         "0.0",
         "0.04293325813297543",
         "0.0",
         "0.0",
         "0.0",
         "0.0",
         "0.0",
         "0.0",
         "0.0",
         "0.0",
         "0.0",
         "0.0",
         "0.0",
         "0.0",
         "0.0",
         "0.0",
         "0.0",
         "0.0",
         "0.0",
         "0.0",
         "0.0",
         "0.0",
         "0.0",
         "0.0",
         "0.03858042856259428",
         "0.0",
         "0.0",
         "0.0",
         "0.0",
         "0.0",
         "0.0",
         "0.0",
         "0.0",
         "0.0",
         "0.0",
         "0.0",
         "0.0",
         "0.0",
         "0.0",
         "0.07876650496306041",
         "0.0",
         "0.034214355315710224",
         "0.0",
         "0.0",
         "0.0",
         "0.0",
         "0.0",
         "0.0",
         "0.0",
         "0.0",
         "0.0",
         "0.0",
         "0.0",
         "0.0",
         "0.04863409067045873",
         "0.0",
         "0.0",
         "0.0",
         "0.0",
         "0.0",
         "0.0",
         "0.0",
         "0.0",
         "0.02188470888866745",
         "0.0",
         "0.05406654617248598",
         "0.040940013240316306",
         "0.0",
         "0.0",
         "0.0",
         "0.0",
         "0.0",
         "0.0",
         "0.0",
         "0.0",
         "0.0",
         "0.040993597018172144",
         "0.03464801340573942",
         "0.0",
         "0.0",
         "0.0",
         "0.0",
         "0.0",
         "0.0",
         "0.0",
         "0.0",
         "0.0",
         "0.0",
         "0.0",
         "0.044388640298842624",
         "0.0",
         "0.0",
         "0.0",
         "0.0",
         "0.0",
         "0.0",
         "0.0",
         "0.0",
         "0.0",
         "0.0",
         "0.0",
         "0.0",
         "0.0",
         "0.0",
         "0.0",
         "0.0",
         "0.0",
         "0.0",
         "0.0",
         "0.0",
         "0.0",
         "0.03415950764222118",
         "0.0",
         "0.0",
         "0.0",
         "0.0",
         "0.0",
         "0.0",
         "0.029183322852194032",
         "0.0",
         "0.0",
         "0.06922165131965885",
         "0.0",
         "0.040610051494006254",
         "0.0",
         "0.0",
         "0.0",
         "0.0",
         "0.0",
         "0.0",
         "0.0",
         "0.0",
         "0.02447182771368927",
         "0.0",
         "0.0",
         "0.0",
         "0.0",
         "0.0",
         "0.0",
         "0.0",
         "0.0",
         "0.0",
         "0.0",
         "0.0",
         "0.03398104783392905",
         "0.0",
         "0.0",
         "0.051467217623774604",
         "0.0",
         "0.0",
         "0.0",
         "0.0",
         "0.0",
         "0.0",
         "0.0",
         "0.0",
         "0.0",
         "0.0",
         "0.0",
         "0.0",
         "0.0",
         "0.0",
         "0.0",
         "0.0",
         "0.0",
         "0.12567900670216722",
         "0.049487609691824724",
         "0.0",
         "0.039626533834826554",
         "0.0",
         "0.0",
         "0.0",
         "0.0",
         "0.0",
         "0.052458064387885424",
         "0.0",
         "0.0",
         "0.0",
         "0.0",
         "0.0",
         "0.0",
         "0.0",
         "0.0",
         "0.04644459262894506",
         "0.0",
         "0.0",
         "0.0",
         "0.0",
         "0.0",
         "0.037797776711296506",
         "0.07146878628973435",
         "0.0",
         "0.0",
         "0.0",
         "0.0",
         "0.0",
         "0.0",
         "0.0",
         "0.0",
         "0.0",
         "0.0",
         "0.0",
         "0.0",
         "0.0",
         "0.0",
         "0.10164168316367826",
         "0.0",
         "0.0",
         "0.0",
         "0.0",
         "0.0",
         "0.0",
         "0.0",
         "0.0",
         "0.0",
         "0.0",
         "0.0",
         "0.05215192432567851",
         "0.0",
         "0.0",
         "0.045654222742409586",
         "0.0",
         "0.0",
         "0.0",
         "0.0",
         "0.0",
         "0.0",
         "0.0",
         "0.0",
         "0.0",
         "0.0427242862398373",
         "0.0",
         "0.0",
         "0.0",
         "0.0",
         "0.0",
         "0.0",
         "0.043331605400932414",
         "0.0",
         "0.0",
         "0.0",
         "0.0",
         "0.0",
         "0.03207973308896066",
         "0.0",
         "0.0",
         "0.0",
         "0.0",
         "0.0",
         "0.0",
         "0.0",
         "0.029625207248275266",
         "0.0",
         "0.0",
         "0.0",
         "0.0",
         "0.0",
         "0.0",
         "0.0",
         "0.0",
         "0.0",
         "0.0",
         "0.0",
         "0.0",
         "0.0",
         "0.0",
         "0.0",
         "0.0",
         "0.0",
         "0.0",
         "0.0",
         "0.0",
         "0.0",
         "0.0",
         "0.0",
         "0.09755117225535379",
         "0.0",
         "0.0",
         "0.0",
         "0.0",
         "0.03464462665919432",
         "0.0",
         "0.0",
         "0.0",
         "0.0",
         "0.0",
         "0.0",
         "0.0",
         "0.0",
         "0.0",
         "0.0",
         "0.0",
         "0.029336710571178284",
         "0.0",
         "0.0",
         "0.0",
         "0.0",
         "0.0",
         "0.0",
         "0.0",
         "0.05117163743059228",
         "0.0",
         "0.0",
         "0.0",
         "0.0",
         "0.0",
         "0.0",
         "0.0",
         "0.0",
         "0.0",
         "0.0",
         "0.05731605887321085",
         "0.0",
         "0.0",
         "0.0",
         "0.0",
         "0.0",
         "0.0",
         "0.0",
         "0.0",
         "0.0",
         "0.0",
         "0.0",
         "0.0",
         "0.0",
         "0.0",
         "0.0",
         "0.0",
         "0.0",
         "0.0",
         "0.0",
         "0.0",
         "0.0",
         "0.0",
         "0.0",
         "0.0",
         "0.0",
         "0.0",
         "0.0",
         "0.0",
         "0.0",
         "0.0",
         "0.02918903026713581",
         "0.0",
         "0.0",
         "0.0",
         "0.0",
         "0.02495210076086788",
         "0.06400002090830333",
         "0.0",
         "0.0",
         "0.0",
         "0.0",
         "0.04842809801209995",
         "0.0",
         "0.0",
         "0.0",
         "0.0",
         "0.0",
         "0.030887443159522857",
         "0.0",
         "0.0",
         "0.0",
         "0.0",
         "0.0",
         "0.0",
         "0.0",
         "0.0",
         "0.0",
         "0.0",
         "0.0",
         "0.0",
         "0.0",
         "0.0",
         "0.0",
         "0.0",
         "0.0",
         "0.0",
         "0.0",
         "0.0",
         "0.0",
         "0.0",
         "0.0",
         "0.0",
         "0.0",
         "0.030382027246313534",
         "0.0",
         "0.0",
         "0.03239482539280276",
         "0.07695670097249996",
         "0.0",
         "0.0",
         "0.0",
         "0.0",
         "0.0",
         "0.0",
         "0.0",
         "0.0",
         "0.0",
         "0.0",
         "0.0",
         "0.0",
         "0.0",
         "0.0",
         "0.0",
         "0.0",
         "0.0",
         "0.0",
         "0.0",
         "0.0",
         "0.0",
         "0.0",
         "0.0",
         "0.0",
         "0.0",
         "0.0",
         "0.0",
         "0.0",
         "0.0",
         "0.0",
         "0.0",
         "0.0",
         "0.0",
         "0.01656825540376143",
         "0.0",
         "0.0",
         "0.0",
         "0.0",
         "0.0",
         "0.0",
         "0.0",
         "0.0",
         "0.04604393707309056",
         "0.03321133975594137",
         "0.0",
         "0.0",
         "0.0",
         "0.07343682183144654",
         "0.0",
         "0.0",
         "0.0",
         "0.0",
         "0.0",
         "0.0",
         "0.0",
         "0.0",
         "0.0",
         "0.0",
         "0.0",
         "0.0",
         "0.024144540784823285",
         "0.0",
         "0.0",
         "0.0",
         "0.0",
         "0.030540931640986323",
         "0.0",
         "0.0",
         "0.0",
         "0.0",
         "0.0",
         "0.051939159194985075",
         "0.0",
         "0.0",
         "0.07002811717960643",
         "0.0",
         "0.0",
         "0.0",
         "0.0",
         "0.0",
         "0.0",
         "0.0",
         "0.0",
         "0.03399684568485944",
         "0.0",
         "0.044126931438042194",
         "0.0",
         "0.0",
         "0.0",
         "0.0",
         "0.0",
         "0.0",
         "0.0",
         "0.0",
         "0.0",
         "0.0",
         "0.0",
         "0.030168590572845728",
         "0.0",
         "0.0",
         "0.0",
         "0.0",
         "0.0",
         "0.0",
         "0.0",
         "0.0",
         "0.0",
         "0.0",
         "0.0",
         "0.0",
         "0.0",
         "0.0",
         "0.0",
         "0.0",
         "0.0",
         "0.0",
         "0.0",
         "0.0",
         "0.0",
         "0.0",
         "0.031687668060032474",
         "0.0",
         "0.024011441359400344",
         "0.0",
         "0.0",
         "0.0",
         "0.0",
         "0.0",
         "0.0",
         "0.0",
         "0.0",
         "0.0",
         "0.0",
         "0.0",
         "0.0",
         "0.0",
         "0.0",
         "0.0",
         "0.0",
         "0.0",
         "0.0",
         "0.0",
         "0.0",
         "0.0",
         "0.0",
         "0.0",
         "0.0",
         "0.0",
         "0.027227932271822637",
         "0.04801627546090344",
         "0.0",
         "0.0",
         "0.0",
         "0.0",
         "0.0",
         "0.0",
         "0.0",
         "0.0",
         "0.0",
         "0.0",
         "0.0",
         "0.0",
         "0.0",
         "0.06953707316696477",
         "0.0",
         "0.0",
         "0.0",
         "0.0",
         "0.0",
         "0.0",
         "0.0",
         "0.0",
         "0.0",
         "0.0",
         "0.0",
         "0.0",
         "0.0",
         "0.0",
         "0.0",
         "0.0",
         "0.0",
         "0.0",
         "0.0",
         "0.0",
         "0.0",
         "0.0",
         "0.0",
         "0.0",
         "0.0",
         "0.0",
         "0.0",
         "0.0",
         "0.0",
         "0.03450013088402677",
         "0.0",
         "0.0",
         "0.0",
         "0.0",
         "0.0",
         "0.0",
         "0.0",
         "0.0",
         "0.0",
         "0.0",
         "0.0",
         "0.0",
         "0.0",
         "0.0",
         "0.0",
         "0.0",
         "0.0",
         "0.0",
         "0.0",
         "0.0",
         "0.0",
         "0.0",
         "0.03651820645419916",
         "0.0",
         "0.0",
         "0.0",
         "0.0",
         "0.0",
         "0.0",
         "0.01708435526550566",
         "0.0",
         "0.0",
         "0.0",
         "0.0",
         "0.0",
         "0.0",
         "0.0",
         "0.0",
         "0.0",
         "0.0",
         "0.0",
         "0.0",
         "0.0",
         "0.0",
         "0.0",
         "0.0",
         "0.0",
         "0.0",
         "0.0",
         "0.0",
         "0.0",
         "0.0",
         "0.0",
         "0.0",
         "0.0",
         "0.0",
         "0.0",
         "0.0",
         "0.0",
         "0.0",
         "0.0",
         "0.0",
         "0.0",
         "0.14037719545500785",
         "0.0",
         "0.0",
         "0.0",
         "0.0",
         "0.0",
         "0.0",
         "0.0",
         "0.14826862011644287",
         "0.0",
         "0.0",
         "0.03927771583728198",
         "0.0",
         "0.0",
         "0.0",
         "0.0",
         "0.0",
         "0.0",
         "0.0",
         "0.0",
         "0.0",
         "0.0",
         "0.0",
         "0.0",
         "0.0",
         "0.0",
         "0.0",
         "0.0",
         "0.0",
         "0.047906492571448314",
         "0.038777462341234345",
         "0.07440541360310897",
         "0.0",
         "0.0",
         "0.0",
         "0.0",
         "0.0",
         "0.0",
         "0.03646060214867137",
         "0.12764320219133135",
         "0.0",
         "0.0",
         "0.0",
         "0.0",
         "0.0",
         "0.0",
         "0.0",
         "0.0",
         "0.0",
         "0.0",
         "0.034931004013400366",
         "0.0",
         "0.05862708678057837",
         "0.0",
         "0.0",
         "0.0",
         "0.0",
         "0.0",
         "0.0",
         "0.0",
         "0.0",
         "0.04801657245970015",
         "0.0",
         "0.0",
         "0.0",
         "0.0",
         "0.0",
         "0.0",
         "0.0",
         "0.0",
         "0.0",
         "0.0",
         "0.0",
         "0.0",
         "0.0",
         "0.0",
         "0.0",
         "0.0",
         "0.0",
         "0.0",
         "0.0",
         "0.0",
         "0.0",
         "0.0",
         "0.0",
         "0.0",
         "0.0",
         "0.0",
         "0.0",
         "0.0",
         "0.0",
         "0.05346435575614888",
         "0.0",
         "0.0",
         "0.0",
         "0.0",
         "0.0",
         "0.02144463359854542",
         "0.0",
         "0.0",
         "0.04117330047088523",
         "0.0",
         "0.0",
         "0.0",
         "0.0",
         "0.0",
         "0.0",
         "0.0",
         "0.0",
         "0.0",
         "0.0",
         "0.0",
         "0.0",
         "0.0",
         "0.0",
         "0.0",
         "0.0",
         "0.0",
         "0.0",
         "0.0",
         "0.0",
         "0.0",
         "0.0",
         "0.0",
         "0.0",
         "0.0",
         "0.0",
         "0.0",
         "0.0",
         "0.030965668795613705",
         "0.0",
         "0.0",
         "0.0",
         "0.0",
         "0.0",
         "0.0",
         "0.036849996600692304",
         "0.0",
         "0.0",
         "0.0",
         "0.0",
         "0.0",
         "0.0",
         "0.0",
         "0.043451018784062746",
         "0.0",
         "0.0",
         "0.0",
         "0.0",
         "0.0",
         "0.0",
         "0.0",
         "0.0",
         "0.0",
         "0.0",
         "0.0",
         "0.0",
         "0.0",
         "0.0",
         "0.0",
         "0.0",
         "0.0",
         "0.22176166316780385",
         "0.0",
         "0.0",
         "0.0",
         "0.0",
         "0.0",
         "0.0",
         "0.0",
         "0.0",
         "0.0",
         "0.0",
         "0.0",
         "0.0",
         "0.0",
         "0.0378451387403608",
         "0.0",
         "0.0",
         "0.0",
         "0.0",
         "0.0",
         "0.03865771592947219",
         "0.0",
         "0.0",
         "0.0",
         "0.0",
         "0.0",
         "0.030196066749794075",
         "0.0",
         "0.0",
         "0.02655906860221915",
         "0.0",
         "0.0",
         "0.0",
         "0.0",
         "0.0",
         "0.0",
         "0.0",
         "0.0",
         "0.0",
         "0.026133452920097357",
         "0.0",
         "0.0",
         "0.0",
         "0.0",
         "0.0",
         "0.0",
         "0.0",
         "0.0",
         "0.0",
         "0.0",
         "0.0",
         "0.0",
         "0.0",
         "0.0",
         "0.0",
         "0.0",
         "0.044464762516886844",
         "0.0",
         "0.03155969163965835",
         "0.0",
         "0.0",
         "0.0",
         "0.0",
         "0.0",
         "0.0",
         "0.0",
         "0.0",
         "0.0",
         "0.0",
         "0.0",
         "0.0",
         "0.0",
         "0.0",
         "0.0",
         "0.0",
         "0.0",
         "0.0",
         "0.0",
         "0.0",
         "0.0",
         "0.0",
         "0.0",
         "0.0",
         "0.0",
         "0.0",
         "0.0",
         "0.0",
         "0.03094683030153151",
         "0.03578773215843175",
         "0.0",
         "0.0",
         "0.0",
         "0.0",
         "0.0",
         "0.0",
         "0.0",
         "0.0",
         "0.0",
         "0.0",
         "0.0",
         "0.03567757571169852",
         "0.0",
         "0.0",
         "0.0",
         "0.0",
         "0.0",
         "0.0",
         "0.0",
         "0.0",
         "0.0",
         "0.0",
         "0.0",
         "0.0",
         "0.0",
         "0.0",
         "0.0",
         "0.0",
         "0.0",
         "0.0",
         "0.0",
         "0.0",
         "0.0",
         "0.0",
         "0.0",
         "0.0",
         "0.0",
         "0.0",
         "0.0",
         "0.0",
         "0.036781853077613086",
         "0.0",
         "0.0",
         "0.0",
         "0.0",
         "0.0",
         "0.0",
         "0.0",
         "0.0",
         "0.0",
         "0.0",
         "0.0",
         "0.0",
         "0.0",
         "0.0",
         "0.0",
         "0.0",
         "0.12406328015951619",
         "0.0",
         "0.3029866544449886",
         "0.0",
         "0.03331375699491502",
         "0.034243521468775434",
         "0.0",
         "0.0",
         "0.04194631231943643",
         "0.0",
         "0.0",
         "0.0",
         "0.0",
         "0.0",
         "0.0",
         "0.0",
         "0.0",
         "0.0",
         "0.0",
         "0.0",
         "0.0",
         "0.0",
         "0.04203458941461253",
         "0.040616412024891003",
         "0.0",
         "0.0",
         "0.0",
         "0.0",
         "0.0",
         "0.0",
         "0.0",
         "0.0",
         "0.03278732304249892",
         "0.015945411386919964",
         "0.0",
         "0.0",
         "0.0",
         "0.0",
         "0.0",
         "0.0",
         "0.0",
         "0.0",
         "0.04569765240510428",
         "0.0",
         "0.05103679578394471",
         "0.0",
         "0.0",
         "0.0",
         "0.0",
         "0.0",
         "0.0",
         "0.0",
         "0.0",
         "0.0",
         "0.0",
         "0.0",
         "0.0",
         "0.0",
         "0.0",
         "0.0",
         "0.0",
         "0.0",
         "0.0",
         "0.0",
         "0.0",
         "0.0",
         "0.0",
         "0.0",
         "0.0",
         "0.0",
         "0.028129676902439532",
         "0.0",
         "0.0",
         "0.0",
         "0.08148905664350252",
         "0.0",
         "0.0",
         "0.0",
         "0.0",
         "0.0",
         "0.0",
         "0.0",
         "0.0",
         "0.0",
         "0.0",
         "0.0",
         "0.0",
         "0.0",
         "0.12334745936444202",
         "0.0",
         "0.0",
         "0.0",
         "0.0",
         "0.0",
         "0.04007843804434433",
         "0.0",
         "0.0",
         "0.0",
         "0.0",
         "0.0",
         "0.0",
         "0.04551443661620182",
         "0.0",
         "0.0",
         "0.0",
         "0.0",
         "0.0",
         "0.0",
         "0.0",
         "0.0",
         "0.0",
         "0.0",
         "0.04041496506633553",
         "0.0",
         "0.0",
         "0.0",
         "0.0",
         "0.0",
         "0.0",
         "0.0",
         "0.043736014426682415",
         "0.06272266601456852",
         "0.0",
         "0.0",
         "0.04573035589138981",
         "0.0",
         "0.0",
         "0.08563604978213708",
         "0.0",
         "0.0",
         "0.0",
         "0.0",
         "0.0",
         "0.0",
         "0.0",
         "0.0",
         "0.0",
         "0.037638495321926445",
         "0.0",
         "0.0",
         "0.0",
         "0.0",
         "0.0",
         "0.0",
         "0.0",
         "0.040527751110659906",
         "0.0",
         "0.0",
         "0.0",
         "0.0",
         "0.0",
         "0.0",
         "0.0",
         "0.0",
         "0.0",
         "0.0",
         "0.0",
         "0.0",
         "0.0",
         "0.05252497385269721",
         "0.0",
         "0.0",
         "0.0",
         "0.0",
         "0.0",
         "0.0",
         "0.0",
         "0.0",
         "0.0",
         "0.022621799038061923",
         "0.0",
         "0.0",
         "0.0",
         "0.0",
         "0.0",
         "0.0",
         "0.0",
         "0.0",
         "0.0",
         "0.0",
         "0.0",
         "0.0",
         "0.0",
         "0.0",
         "0.0",
         "0.0",
         "0.0",
         "0.0",
         "0.0",
         "0.0",
         "0.0",
         "0.0",
         "0.0",
         "0.035245727306941775",
         "0.0",
         "0.06632398234057095",
         "0.0",
         "0.0",
         "0.0",
         "0.0",
         "0.0",
         "0.0",
         "0.0",
         "0.0",
         "0.0",
         "0.0",
         "0.0",
         "0.0",
         "0.0",
         "0.0",
         "0.0",
         "0.0",
         "0.0",
         "0.0",
         "0.0",
         "0.0",
         "0.0",
         "0.0",
         "0.0",
         "0.0",
         "0.030774273632932173",
         "0.03901085040242418",
         "0.0",
         "0.0",
         "0.0",
         "0.0",
         "0.0",
         "0.0",
         "0.0",
         "0.23412958130818215",
         "0.0",
         "0.0",
         "0.0",
         "0.0",
         "0.0",
         "0.0",
         "0.0",
         "0.0",
         "0.0",
         "0.0",
         "0.0",
         "0.0",
         "0.0",
         "0.0",
         "0.0",
         "0.0",
         "0.0",
         "0.0",
         "0.0",
         "0.0",
         "0.0",
         "0.0",
         "0.0",
         "0.016385376783126106",
         "0.0",
         "0.0",
         "0.0",
         "0.0",
         "0.0",
         "0.0",
         "0.0",
         "0.0",
         "0.0",
         "0.0",
         "0.0",
         "0.0",
         "0.0",
         "0.0",
         "0.0",
         "0.0",
         "0.0",
         "0.0",
         "0.0",
         "0.0",
         "0.0",
         "0.0",
         "0.04188791491075421",
         "0.0",
         "0.0",
         "0.0",
         "0.0",
         "0.0",
         "0.0",
         "0.0",
         "0.0",
         "0.0",
         "0.0",
         "0.0",
         "0.0",
         "0.0",
         "0.0",
         "0.0",
         "0.0",
         "0.0",
         "0.0",
         "0.0",
         "0.0",
         "0.0",
         "0.0",
         "0.0",
         "0.0",
         "0.0",
         "0.0",
         "0.0",
         "0.0",
         "0.0",
         "0.0",
         "0.0",
         "0.0",
         "0.06472035897104973",
         "0.0",
         "0.0",
         "0.04639237564372943",
         "0.0",
         "0.0",
         "0.0",
         "0.0",
         "0.0",
         "0.0",
         "0.0",
         "0.0",
         "0.0",
         "0.0",
         "0.0",
         "0.0",
         "0.0",
         "0.0",
         "0.0",
         "0.0",
         "0.0",
         "0.0",
         "0.0",
         "0.0",
         "0.0",
         "0.0",
         "0.0",
         "0.0",
         "0.0",
         "0.05062509396972115",
         "0.0",
         "0.01756142408438289",
         "0.02606069312708086",
         "0.0",
         "0.0",
         "0.0",
         "0.0",
         "0.26693490642841167",
         "0.0",
         "0.0",
         "0.0",
         "0.0",
         "0.0",
         "0.0",
         "0.0",
         "0.0",
         "0.0",
         "0.0",
         "0.0",
         "0.0",
         "0.0",
         "0.0",
         "0.0",
         "0.0",
         "0.0",
         "0.0",
         "0.0",
         "0.0",
         "0.0",
         "0.0",
         "0.0",
         "0.0",
         "0.0",
         "0.0",
         "0.03887224494463571",
         "0.0",
         "0.0",
         "0.0",
         "0.0",
         "0.0",
         "0.0",
         "0.0",
         "0.023827110575484773",
         "0.0",
         "0.0",
         "0.0",
         "0.0",
         "0.0",
         "0.0",
         "0.0",
         "0.0",
         "0.0",
         "0.0",
         "0.0",
         "0.0",
         "0.0",
         "0.0",
         "0.0",
         "0.0",
         "0.0",
         "0.0",
         "0.0",
         "0.0",
         "0.0",
         "0.0",
         "0.0",
         "0.0",
         "0.01969443174279787",
         "0.0",
         "0.0",
         "0.0",
         "0.0",
         "0.02890594509982346",
         "0.0",
         "0.0",
         "0.0",
         "0.0",
         "0.0",
         "0.0",
         "0.0",
         "0.0",
         "0.0",
         "0.0",
         "0.0",
         "0.0",
         "0.0",
         "0.0",
         "0.0",
         "0.0",
         "0.0",
         "0.0",
         "0.0",
         "0.0",
         "0.0",
         "0.0",
         "0.0",
         "0.0",
         "0.0",
         "0.0",
         "0.0",
         "0.0",
         "0.0",
         "0.0",
         "0.0",
         "0.0",
         "0.0",
         "0.14694511515013464",
         "0.0",
         "0.0",
         "0.0",
         "0.0",
         "0.0",
         "0.0",
         "0.10835478935775317",
         "0.0",
         "0.0",
         "0.04839661787229434",
         "0.0",
         "0.0",
         "0.0",
         "0.0",
         "0.0",
         "0.0",
         "0.0",
         "0.03002199717956373",
         "0.0",
         "0.0",
         "0.0",
         "0.0",
         "0.0",
         "0.0",
         "0.0",
         "0.0",
         "0.0",
         "0.0",
         "0.0",
         "0.0",
         "0.0",
         "0.0",
         "0.0",
         "0.0",
         "0.0",
         "0.0",
         "0.021862739115347987",
         "0.0",
         "0.0",
         "0.0",
         "0.0",
         "0.0",
         "0.0",
         "0.0",
         "0.0",
         "0.0",
         "0.0",
         "0.0",
         "0.0351595265609425",
         "0.0",
         "0.0",
         "0.022356408026078387",
         "0.0",
         "0.0",
         "0.0",
         "0.0",
         "0.0",
         "0.0",
         "0.0",
         "0.0",
         "0.0",
         "0.0",
         "0.0",
         "0.0",
         "0.0",
         "0.0",
         "0.0",
         "0.0",
         "0.0",
         "0.0",
         "0.0",
         "0.0",
         "0.0",
         "0.0",
         "0.0",
         "0.0",
         "0.0",
         "0.0",
         "0.0",
         "0.0",
         "0.0",
         "0.0",
         "0.0",
         "0.0",
         "0.10082926231589581",
         "0.0",
         "0.0",
         "0.0",
         "0.0",
         "0.0",
         "0.0",
         "0.0",
         "0.0",
         "0.0",
         "0.0712346878776574",
         "0.08596037827647394",
         "0.0",
         "0.0",
         "0.0",
         "0.0",
         "0.0",
         "0.04332251039607881",
         "0.0",
         "0.0",
         "0.0",
         "0.0",
         "0.0",
         "0.023534629724757606",
         "0.0",
         "0.0",
         "0.0",
         "0.0",
         "0.0",
         "0.0",
         "0.0",
         "0.05298598315751446",
         "0.0",
         "0.04182264552257736",
         "0.0",
         "0.0",
         "0.05300706744000087",
         "0.02277423576012248",
         "0.0",
         "0.0",
         "0.0",
         "0.0",
         "0.0",
         "0.022706822649488496",
         "0.0",
         "0.0",
         "0.0",
         "0.0",
         "0.0",
         "0.0",
         "0.0",
         "0.0",
         "0.04160121170530316",
         "0.0",
         "0.0",
         "0.0",
         "0.0",
         "0.0",
         "0.0",
         "0.0",
         "0.0",
         "0.0",
         "0.0",
         "0.0",
         "0.0",
         "0.0",
         "0.022194125059389853",
         "0.0",
         "0.0",
         "0.0",
         "0.0",
         "0.0",
         "0.0",
         "0.047196529297940264",
         "0.0",
         "0.0",
         "0.0",
         "0.0",
         "0.0",
         "0.0",
         "0.0",
         "0.0",
         "0.055440222318297566",
         "0.0",
         "0.0",
         "0.0",
         "0.0",
         "0.03092623103103543",
         "0.0",
         "0.03547211460355673",
         "0.0",
         "0.0",
         "0.0",
         "0.0"
        ],
        [
         "1",
         "0.0",
         "0.0",
         "0.0",
         "0.0",
         "0.0",
         "0.0",
         "0.0",
         "0.0",
         "0.0",
         "0.0",
         "0.1629774822125055",
         "0.0",
         "0.03022738013039899",
         "0.0",
         "0.0",
         "0.0",
         "0.0",
         "0.0",
         "0.0",
         "0.0",
         "0.0",
         "0.0",
         "0.0",
         "0.0",
         "0.0",
         "0.0",
         "0.0",
         "0.0",
         "0.0",
         "0.0",
         "0.0",
         "0.0",
         "0.0",
         "0.0",
         "0.0",
         "0.20940321395057337",
         "0.0",
         "0.0",
         "0.0",
         "0.0",
         "0.0",
         "0.0",
         "0.0",
         "0.0",
         "0.0",
         "0.0",
         "0.041721137101597444",
         "0.0",
         "0.0",
         "0.0",
         "0.0",
         "0.0",
         "0.0",
         "0.0",
         "0.0",
         "0.0",
         "0.0",
         "0.0",
         "0.0",
         "0.0",
         "0.0",
         "0.0",
         "0.0",
         "0.0",
         "0.0",
         "0.0",
         "0.0",
         "0.0",
         "0.0",
         "0.0",
         "0.029213404104757063",
         "0.0",
         "0.0",
         "0.0",
         "0.0",
         "0.0",
         "0.0",
         "0.0",
         "0.0",
         "0.0",
         "0.0",
         "0.0",
         "0.0",
         "0.0",
         "0.0",
         "0.0455278282178477",
         "0.0",
         "0.0",
         "0.0",
         "0.0",
         "0.0",
         "0.0",
         "0.0",
         "0.0",
         "0.0",
         "0.0",
         "0.0",
         "0.0",
         "0.0",
         "0.0",
         "0.0",
         "0.01771249730856337",
         "0.0",
         "0.0",
         "0.0",
         "0.0",
         "0.0",
         "0.0",
         "0.0",
         "0.0",
         "0.0",
         "0.0",
         "0.0",
         "0.05160754015109088",
         "0.0",
         "0.0",
         "0.03784737551679779",
         "0.02133866317764458",
         "0.0",
         "0.0",
         "0.0",
         "0.0",
         "0.0",
         "0.0",
         "0.0",
         "0.0",
         "0.0",
         "0.0",
         "0.0",
         "0.0",
         "0.18774265763925982",
         "0.0",
         "0.0",
         "0.0",
         "0.0",
         "0.0",
         "0.0",
         "0.0",
         "0.0",
         "0.0",
         "0.0",
         "0.0",
         "0.0",
         "0.0",
         "0.0",
         "0.0",
         "0.0",
         "0.0",
         "0.028075999894107494",
         "0.0",
         "0.0",
         "0.0",
         "0.0",
         "0.0",
         "0.0",
         "0.0",
         "0.0",
         "0.0",
         "0.0",
         "0.0",
         "0.0",
         "0.0",
         "0.0",
         "0.0",
         "0.0",
         "0.0",
         "0.0",
         "0.0",
         "0.0",
         "0.0",
         "0.0",
         "0.0",
         "0.0",
         "0.0",
         "0.0",
         "0.0",
         "0.0",
         "0.0",
         "0.0",
         "0.0",
         "0.0",
         "0.0",
         "0.02657943258163839",
         "0.0",
         "0.0",
         "0.0",
         "0.0",
         "0.0",
         "0.0",
         "0.0",
         "0.0",
         "0.018294383797873216",
         "0.0",
         "0.0",
         "0.0",
         "0.0",
         "0.0",
         "0.0",
         "0.0",
         "0.0",
         "0.1655541274145808",
         "0.0",
         "0.0",
         "0.0",
         "0.0",
         "0.023653952253626955",
         "0.0",
         "0.0",
         "0.0",
         "0.0",
         "0.0",
         "0.0",
         "0.0",
         "0.0",
         "0.0",
         "0.0",
         "0.0",
         "0.0",
         "0.06889761873374978",
         "0.0",
         "0.0",
         "0.0",
         "0.0",
         "0.0",
         "0.0",
         "0.0",
         "0.0",
         "0.0",
         "0.0",
         "0.0",
         "0.0",
         "0.0",
         "0.0",
         "0.0",
         "0.0",
         "0.0",
         "0.0",
         "0.0",
         "0.0",
         "0.0",
         "0.0",
         "0.0",
         "0.0",
         "0.0",
         "0.0",
         "0.0",
         "0.0",
         "0.0",
         "0.058459031423632644",
         "0.0",
         "0.0",
         "0.0",
         "0.0",
         "0.0",
         "0.0",
         "0.0",
         "0.0",
         "0.0",
         "0.0",
         "0.0",
         "0.0",
         "0.0",
         "0.0",
         "0.0",
         "0.0",
         "0.0",
         "0.0",
         "0.0",
         "0.0",
         "0.0",
         "0.0",
         "0.0",
         "0.0",
         "0.0",
         "0.0",
         "0.0",
         "0.0",
         "0.0",
         "0.0",
         "0.0",
         "0.0",
         "0.0",
         "0.0",
         "0.0",
         "0.0",
         "0.0",
         "0.0",
         "0.0",
         "0.0",
         "0.0",
         "0.0",
         "0.0",
         "0.0",
         "0.0",
         "0.0",
         "0.0",
         "0.0",
         "0.0",
         "0.04160622166695215",
         "0.0",
         "0.0",
         "0.0",
         "0.0",
         "0.0",
         "0.0",
         "0.0",
         "0.0",
         "0.0",
         "0.03207729645830541",
         "0.01582384803054291",
         "0.0",
         "0.0",
         "0.0",
         "0.0",
         "0.0",
         "0.0",
         "0.0",
         "0.0",
         "0.0",
         "0.0",
         "0.0",
         "0.0",
         "0.0",
         "0.0",
         "0.0",
         "0.0",
         "0.0",
         "0.0",
         "0.0",
         "0.0",
         "0.0",
         "0.0",
         "0.0",
         "0.0",
         "0.0",
         "0.0",
         "0.0",
         "0.0",
         "0.0",
         "0.0",
         "0.0",
         "0.0",
         "0.0",
         "0.0",
         "0.0",
         "0.0",
         "0.0",
         "0.0",
         "0.0",
         "0.0",
         "0.0",
         "0.0",
         "0.0",
         "0.05933526673607026",
         "0.0",
         "0.0",
         "0.0",
         "0.0",
         "0.0",
         "0.0",
         "0.0",
         "0.0",
         "0.0",
         "0.0",
         "0.0",
         "0.0",
         "0.0",
         "0.0",
         "0.0",
         "0.0",
         "0.0",
         "0.0",
         "0.0",
         "0.0",
         "0.0",
         "0.0",
         "0.0",
         "0.0",
         "0.0",
         "0.0",
         "0.0",
         "0.0",
         "0.0",
         "0.0",
         "0.0",
         "0.0",
         "0.0",
         "0.0",
         "0.0",
         "0.0",
         "0.0",
         "0.0",
         "0.029245661359904605",
         "0.0",
         "0.0",
         "0.0",
         "0.0",
         "0.0",
         "0.0",
         "0.0",
         "0.0",
         "0.0",
         "0.0",
         "0.0",
         "0.0",
         "0.0",
         "0.0",
         "0.0",
         "0.0",
         "0.0",
         "0.0",
         "0.0",
         "0.0",
         "0.0",
         "0.0",
         "0.0",
         "0.0",
         "0.0",
         "0.0",
         "0.0",
         "0.0",
         "0.0",
         "0.0",
         "0.0",
         "0.0",
         "0.0",
         "0.03244744816379113",
         "0.0",
         "0.0",
         "0.0",
         "0.0",
         "0.0",
         "0.0",
         "0.0",
         "0.0",
         "0.0",
         "0.0",
         "0.0",
         "0.0",
         "0.0",
         "0.0",
         "0.0",
         "0.0",
         "0.0",
         "0.0",
         "0.0",
         "0.0",
         "0.0",
         "0.0",
         "0.0",
         "0.0",
         "0.0",
         "0.0",
         "0.0",
         "0.0",
         "0.0",
         "0.0",
         "0.0",
         "0.0",
         "0.0",
         "0.030867277360544242",
         "0.0",
         "0.0",
         "0.0",
         "0.0",
         "0.0",
         "0.0",
         "0.0",
         "0.0",
         "0.0",
         "0.0",
         "0.0",
         "0.0",
         "0.0",
         "0.0",
         "0.023799962060250094",
         "0.0",
         "0.0",
         "0.0",
         "0.0",
         "0.03231025066344573",
         "0.0",
         "0.0",
         "0.0",
         "0.0",
         "0.0",
         "0.0",
         "0.0",
         "0.0",
         "0.02343021601384141",
         "0.0",
         "0.0",
         "0.0",
         "0.0",
         "0.0",
         "0.0",
         "0.0",
         "0.0",
         "0.0",
         "0.0",
         "0.0",
         "0.0",
         "0.0",
         "0.0",
         "0.0",
         "0.0",
         "0.0",
         "0.0",
         "0.0",
         "0.0",
         "0.0",
         "0.0",
         "0.0",
         "0.0",
         "0.0",
         "0.0",
         "0.02891356610652617",
         "0.0",
         "0.0",
         "0.0",
         "0.0",
         "0.0",
         "0.0",
         "0.016822999084641348",
         "0.0",
         "0.0",
         "0.0",
         "0.0",
         "0.14014840165365222",
         "0.0",
         "0.0",
         "0.0",
         "0.0",
         "0.0",
         "0.025892881456337388",
         "0.0",
         "0.0",
         "0.0",
         "0.0",
         "0.0",
         "0.0",
         "0.0",
         "0.0",
         "0.0",
         "0.0",
         "0.0",
         "0.0",
         "0.0",
         "0.0",
         "0.0",
         "0.0",
         "0.0",
         "0.0",
         "0.0",
         "0.0",
         "0.0",
         "0.0",
         "0.0",
         "0.0",
         "0.0",
         "0.0",
         "0.0",
         "0.0",
         "0.0",
         "0.0",
         "0.0",
         "0.0",
         "0.0",
         "0.0",
         "0.0",
         "0.0",
         "0.033172996240316874",
         "0.0",
         "0.0",
         "0.0",
         "0.0",
         "0.0",
         "0.0",
         "0.03994349977147599",
         "0.0",
         "0.0",
         "0.0",
         "0.0",
         "0.0",
         "0.0",
         "0.0",
         "0.0512129750351165",
         "0.023455933043112723",
         "0.0",
         "0.0",
         "0.0",
         "0.0",
         "0.0",
         "0.0",
         "0.0",
         "0.02834703174144781",
         "0.11014115093892389",
         "0.0",
         "0.0",
         "0.0",
         "0.0",
         "0.0",
         "0.0",
         "0.0",
         "0.0",
         "0.0",
         "0.0",
         "0.0",
         "0.02075931602844183",
         "0.0",
         "0.0",
         "0.0",
         "0.0",
         "0.0",
         "0.09258829661040038",
         "0.0",
         "0.0",
         "0.0",
         "0.0",
         "0.0",
         "0.0",
         "0.0",
         "0.0",
         "0.0",
         "0.0",
         "0.0",
         "0.0",
         "0.0",
         "0.0",
         "0.0",
         "0.0",
         "0.0",
         "0.0",
         "0.0",
         "0.0",
         "0.0",
         "0.0",
         "0.0",
         "0.0",
         "0.0",
         "0.0",
         "0.0",
         "0.0",
         "0.0",
         "0.0",
         "0.0",
         "0.0",
         "0.0",
         "0.0",
         "0.0",
         "0.0",
         "0.0",
         "0.0",
         "0.0",
         "0.0",
         "0.0",
         "0.0",
         "0.0",
         "0.0",
         "0.0",
         "0.03885783002989348",
         "0.0",
         "0.0",
         "0.0",
         "0.0",
         "0.0",
         "0.0",
         "0.0",
         "0.0",
         "0.0",
         "0.0",
         "0.030823439401275472",
         "0.0",
         "0.0",
         "0.0",
         "0.0",
         "0.0",
         "0.0",
         "0.0",
         "0.0",
         "0.0",
         "0.0",
         "0.0",
         "0.0",
         "0.01397258435062749",
         "0.0",
         "0.0",
         "0.0",
         "0.0",
         "0.0",
         "0.0",
         "0.0",
         "0.0",
         "0.0",
         "0.0",
         "0.0",
         "0.0",
         "0.0",
         "0.0",
         "0.0",
         "0.0",
         "0.0",
         "0.0",
         "0.0",
         "0.0",
         "0.0",
         "0.0",
         "0.0",
         "0.0",
         "0.0",
         "0.0",
         "0.0",
         "0.0",
         "0.0",
         "0.0",
         "0.0",
         "0.0",
         "0.0",
         "0.0",
         "0.0",
         "0.0",
         "0.0",
         "0.0",
         "0.0",
         "0.0",
         "0.0",
         "0.0",
         "0.0",
         "0.0",
         "0.0",
         "0.0",
         "0.0",
         "0.0",
         "0.0",
         "0.0",
         "0.0",
         "0.0",
         "0.0",
         "0.0",
         "0.0",
         "0.0",
         "0.0",
         "0.0",
         "0.0",
         "0.03209135668747424",
         "0.0",
         "0.0",
         "0.0",
         "0.0",
         "0.0",
         "0.0",
         "0.0",
         "0.0",
         "0.0",
         "0.0",
         "0.0",
         "0.0",
         "0.0",
         "0.0",
         "0.0",
         "0.0",
         "0.0",
         "0.0",
         "0.0",
         "0.0",
         "0.0",
         "0.0",
         "0.0",
         "0.0",
         "0.03974937250593551",
         "0.0",
         "0.0",
         "0.0",
         "0.0",
         "0.0",
         "0.0",
         "0.0",
         "0.0",
         "0.0",
         "0.0",
         "0.0",
         "0.0",
         "0.0",
         "0.0",
         "0.0",
         "0.0",
         "0.0",
         "0.0",
         "0.0",
         "0.01758633710991288",
         "0.0",
         "0.0",
         "0.0",
         "0.0",
         "0.0",
         "0.0",
         "0.0",
         "0.0",
         "0.0",
         "0.0",
         "0.0",
         "0.0",
         "0.0",
         "0.0",
         "0.0",
         "0.0",
         "0.0",
         "0.0",
         "0.0",
         "0.0",
         "0.0",
         "0.0",
         "0.0",
         "0.0",
         "0.02316893475413189",
         "0.0",
         "0.0",
         "0.0",
         "0.0",
         "0.0",
         "0.0",
         "0.0",
         "0.0",
         "0.0",
         "0.0",
         "0.0",
         "0.0",
         "0.0",
         "0.0",
         "0.0",
         "0.0",
         "0.0",
         "0.0",
         "0.0",
         "0.0",
         "0.0",
         "0.0",
         "0.0",
         "0.0",
         "0.0",
         "0.0",
         "0.0",
         "0.0",
         "0.0",
         "0.0",
         "0.0",
         "0.0",
         "0.0",
         "0.0",
         "0.0",
         "0.0",
         "0.0",
         "0.0",
         "0.0",
         "0.0",
         "0.0",
         "0.0",
         "0.0",
         "0.0319795926126812",
         "0.0",
         "0.08998397711496961",
         "0.0",
         "0.0",
         "0.0",
         "0.0",
         "0.0",
         "0.0",
         "0.0",
         "0.0",
         "0.0",
         "0.0",
         "0.0",
         "0.0",
         "0.0",
         "0.0311481502736408",
         "0.0",
         "0.0",
         "0.0",
         "0.0",
         "0.0",
         "0.0",
         "0.0",
         "0.0",
         "0.0",
         "0.0",
         "0.0",
         "0.0",
         "0.0",
         "0.017584228561065996",
         "0.0",
         "0.037650666266917765",
         "0.0",
         "0.0",
         "0.0",
         "0.0",
         "0.0",
         "0.0",
         "0.0",
         "0.0",
         "0.0",
         "0.0",
         "0.0",
         "0.0",
         "0.0",
         "0.0",
         "0.0",
         "0.0",
         "0.0",
         "0.0",
         "0.0",
         "0.021306569459085812",
         "0.0",
         "0.0",
         "0.0",
         "0.0",
         "0.0",
         "0.0",
         "0.0",
         "0.0",
         "0.0",
         "0.0",
         "0.0",
         "0.0",
         "0.02589705156961819",
         "0.0",
         "0.0",
         "0.0",
         "0.0",
         "0.0",
         "0.0",
         "0.0",
         "0.0",
         "0.0",
         "0.0",
         "0.021845568392941005",
         "0.0",
         "0.0",
         "0.0",
         "0.0",
         "0.0",
         "0.0",
         "0.0",
         "0.0",
         "0.0",
         "0.0",
         "0.0",
         "0.0",
         "0.0",
         "0.0",
         "0.0",
         "0.0",
         "0.0",
         "0.0",
         "0.0",
         "0.0",
         "0.03749686520323616",
         "0.04142906082132",
         "0.0",
         "0.0",
         "0.0",
         "0.0",
         "0.0",
         "0.0",
         "0.0",
         "0.0",
         "0.0",
         "0.0",
         "0.0",
         "0.0",
         "0.0",
         "0.0",
         "0.0",
         "0.0",
         "0.0",
         "0.0",
         "0.0",
         "0.0",
         "0.022656708191132517",
         "0.0",
         "0.0",
         "0.0",
         "0.0",
         "0.016543815142054014",
         "0.0",
         "0.0",
         "0.0",
         "0.0",
         "0.0",
         "0.0",
         "0.023439282733193467",
         "0.0",
         "0.0",
         "0.019299276742502994",
         "0.0",
         "0.0",
         "0.0",
         "0.0",
         "0.0",
         "0.0",
         "0.0",
         "0.0",
         "0.0",
         "0.0",
         "0.0",
         "0.0",
         "0.0",
         "0.0",
         "0.0",
         "0.0",
         "0.0",
         "0.0",
         "0.0",
         "0.0",
         "0.02477409307957353",
         "0.0",
         "0.0",
         "0.0",
         "0.0",
         "0.0",
         "0.0",
         "0.0",
         "0.0",
         "0.0",
         "0.0",
         "0.0",
         "0.0",
         "0.0",
         "0.0",
         "0.0",
         "0.0",
         "0.0",
         "0.0",
         "0.0",
         "0.0",
         "0.0",
         "0.0",
         "0.0",
         "0.0",
         "0.0",
         "0.0",
         "0.0",
         "0.0",
         "0.0",
         "0.0",
         "0.0",
         "0.0",
         "0.0",
         "0.0",
         "0.0",
         "0.0",
         "0.0",
         "0.0",
         "0.024181843812824677",
         "0.0",
         "0.0",
         "0.0",
         "0.0",
         "0.0",
         "0.0",
         "0.06485398973500296",
         "0.0",
         "0.0",
         "0.0",
         "0.0",
         "0.0",
         "0.0",
         "0.0",
         "0.0",
         "0.0",
         "0.0",
         "0.0",
         "0.0",
         "0.0",
         "0.0",
         "0.0",
         "0.0",
         "0.0",
         "0.0",
         "0.0",
         "0.0",
         "0.0",
         "0.0",
         "0.0",
         "0.0",
         "0.03203061499122403",
         "0.03896086618499192",
         "0.0",
         "0.0",
         "0.0",
         "0.0",
         "0.0",
         "0.0",
         "0.0",
         "0.0",
         "0.0",
         "0.0",
         "0.0",
         "0.0",
         "0.03566893841882569",
         "0.0",
         "0.0",
         "0.0",
         "0.0",
         "0.0",
         "0.0",
         "0.0",
         "0.0",
         "0.0",
         "0.0",
         "0.0",
         "0.0",
         "0.0",
         "0.0",
         "0.0",
         "0.0",
         "0.0",
         "0.03171159355085983",
         "0.0",
         "0.0",
         "0.0",
         "0.05805161798392939",
         "0.0",
         "0.0",
         "0.0",
         "0.0",
         "0.0",
         "0.0",
         "0.0",
         "0.0",
         "0.0",
         "0.0",
         "0.0",
         "0.0",
         "0.0",
         "0.0",
         "0.0",
         "0.0",
         "0.0",
         "0.0",
         "0.0",
         "0.0",
         "0.0",
         "0.0",
         "0.0",
         "0.0",
         "0.0",
         "0.0",
         "0.0",
         "0.0",
         "0.0",
         "0.0",
         "0.0",
         "0.0",
         "0.0",
         "0.0",
         "0.0",
         "0.0",
         "0.0",
         "0.0",
         "0.0",
         "0.0",
         "0.0",
         "0.0",
         "0.0",
         "0.0",
         "0.0",
         "0.0",
         "0.0",
         "0.0",
         "0.0",
         "0.0",
         "0.0",
         "0.0",
         "0.0",
         "0.0",
         "0.0",
         "0.0",
         "0.0",
         "0.0",
         "0.0",
         "0.0",
         "0.0787375921155602",
         "0.0",
         "0.0",
         "0.0",
         "0.030500528653494254",
         "0.0",
         "0.0",
         "0.0",
         "0.0",
         "0.0",
         "0.0",
         "0.0",
         "0.0",
         "0.0",
         "0.0",
         "0.0",
         "0.0",
         "0.0",
         "0.0",
         "0.0",
         "0.0",
         "0.0",
         "0.0",
         "0.0",
         "0.0",
         "0.0",
         "0.0",
         "0.0",
         "0.0",
         "0.08664803369385025",
         "0.0",
         "0.0",
         "0.05663096783586304",
         "0.0",
         "0.026059356221157133",
         "0.0",
         "0.0",
         "0.0",
         "0.0",
         "0.0",
         "0.0",
         "0.0",
         "0.0",
         "0.0",
         "0.0",
         "0.0",
         "0.0",
         "0.0",
         "0.0",
         "0.0",
         "0.0",
         "0.0",
         "0.0",
         "0.0",
         "0.0",
         "0.0",
         "0.0",
         "0.0",
         "0.0",
         "0.0",
         "0.0",
         "0.0",
         "0.0",
         "0.0",
         "0.0",
         "0.0",
         "0.016385397002610724",
         "0.0",
         "0.0",
         "0.0",
         "0.0",
         "0.0",
         "0.040279748294418875",
         "0.0",
         "0.03438256498993888",
         "0.05848485900019716",
         "0.0",
         "0.0",
         "0.0",
         "0.0",
         "0.0",
         "0.0",
         "0.0",
         "0.0",
         "0.0",
         "0.0",
         "0.0",
         "0.0",
         "0.0",
         "0.0",
         "0.0539305669960136",
         "0.0",
         "0.0",
         "0.0",
         "0.0",
         "0.0",
         "0.0",
         "0.0",
         "0.0",
         "0.0",
         "0.0",
         "0.0",
         "0.038524076882165054",
         "0.0",
         "0.0",
         "0.0",
         "0.0",
         "0.0",
         "0.0",
         "0.0",
         "0.024522592744473992",
         "0.0",
         "0.0",
         "0.0",
         "0.0",
         "0.0",
         "0.0",
         "0.0",
         "0.0",
         "0.0",
         "0.0",
         "0.0",
         "0.0",
         "0.0",
         "0.0",
         "0.0",
         "0.0",
         "0.0",
         "0.0",
         "0.0",
         "0.0",
         "0.0",
         "0.0",
         "0.0",
         "0.0",
         "0.0",
         "0.0",
         "0.027587149029115233",
         "0.0",
         "0.0",
         "0.0",
         "0.0",
         "0.0",
         "0.0",
         "0.0",
         "0.0",
         "0.0",
         "0.0",
         "0.0",
         "0.0",
         "0.0",
         "0.0",
         "0.0",
         "0.0",
         "0.03802884998583085",
         "0.0",
         "0.0",
         "0.0",
         "0.0",
         "0.0",
         "0.0",
         "0.0",
         "0.0",
         "0.0",
         "0.0",
         "0.0",
         "0.0",
         "0.0",
         "0.0",
         "0.0",
         "0.0",
         "0.0",
         "0.0",
         "0.0",
         "0.04246768828604208",
         "0.0",
         "0.0",
         "0.0",
         "0.0",
         "0.0",
         "0.024650851063916478",
         "0.0",
         "0.0",
         "0.0",
         "0.0",
         "0.0",
         "0.0",
         "0.1033192772882186",
         "0.0",
         "0.028261297120424377",
         "0.0",
         "0.0",
         "0.020914199509838086",
         "0.0406143777550431",
         "0.0",
         "0.0",
         "0.0",
         "0.0",
         "0.0",
         "0.0",
         "0.0",
         "0.0",
         "0.0",
         "0.0",
         "0.0",
         "0.0",
         "0.02490668023567375",
         "0.0",
         "0.0",
         "0.0",
         "0.0",
         "0.0",
         "0.19480255331083998",
         "0.0",
         "0.0",
         "0.0",
         "0.0",
         "0.0",
         "0.0",
         "0.0",
         "0.0",
         "0.0",
         "0.0",
         "0.0",
         "0.0",
         "0.0",
         "0.0",
         "0.0",
         "0.0",
         "0.0",
         "0.0",
         "0.0",
         "0.0",
         "0.0",
         "0.04408903663751433",
         "0.0",
         "0.0",
         "0.0",
         "0.0",
         "0.0",
         "0.0",
         "0.0",
         "0.0",
         "0.0",
         "0.0",
         "0.0",
         "0.0",
         "0.021833304335746925",
         "0.0",
         "0.0",
         "0.0",
         "0.0",
         "0.0",
         "0.0",
         "0.0",
         "0.0",
         "0.0",
         "0.024608445966075435",
         "0.0",
         "0.0",
         "0.0",
         "0.0",
         "0.0",
         "0.0",
         "0.0",
         "0.0",
         "0.0",
         "0.0",
         "0.0",
         "0.0",
         "0.0",
         "0.0",
         "0.0",
         "0.0",
         "0.0",
         "0.0",
         "0.0",
         "0.0",
         "0.018708750759031667",
         "0.0",
         "0.0",
         "0.0",
         "0.0",
         "0.0",
         "0.0",
         "0.0",
         "0.0",
         "0.0",
         "0.0",
         "0.0",
         "0.0",
         "0.0",
         "0.0",
         "0.0",
         "0.0",
         "0.0",
         "0.0",
         "0.0",
         "0.0",
         "0.0",
         "0.0",
         "0.0",
         "0.0",
         "0.0",
         "0.0",
         "0.0",
         "0.0",
         "0.0",
         "0.0",
         "0.0",
         "0.0",
         "0.0",
         "0.05691895444320309",
         "0.0",
         "0.0",
         "0.0",
         "0.0",
         "0.0",
         "0.0",
         "0.0",
         "0.0",
         "0.03056556506645405",
         "0.0",
         "0.0",
         "0.0",
         "0.0",
         "0.0",
         "0.0",
         "0.0",
         "0.056517934974360085",
         "0.0",
         "0.0",
         "0.0",
         "0.0",
         "0.0",
         "0.0",
         "0.0",
         "0.0",
         "0.027578981684228437",
         "0.0",
         "0.0",
         "0.0",
         "0.0",
         "0.0",
         "0.0",
         "0.0",
         "0.0",
         "0.0",
         "0.0",
         "0.0",
         "0.0",
         "0.0",
         "0.0",
         "0.0",
         "0.0",
         "0.09142887005296546",
         "0.0",
         "0.0",
         "0.0",
         "0.0",
         "0.0",
         "0.0",
         "0.0",
         "0.0",
         "0.0",
         "0.0",
         "0.04075883824599528",
         "0.0",
         "0.0",
         "0.0",
         "0.0",
         "0.0",
         "0.0",
         "0.0",
         "0.0",
         "0.0",
         "0.0",
         "0.0",
         "0.0",
         "0.0",
         "0.0",
         "0.0",
         "0.0",
         "0.0",
         "0.0",
         "0.0",
         "0.033103060855216984",
         "0.03582026479738928",
         "0.0",
         "0.0",
         "0.0",
         "0.0",
         "0.0",
         "0.0",
         "0.0",
         "0.0",
         "0.0",
         "0.0",
         "0.0",
         "0.0",
         "0.0",
         "0.0",
         "0.0",
         "0.0",
         "0.0",
         "0.0",
         "0.0",
         "0.0",
         "0.0",
         "0.0",
         "0.0",
         "0.0",
         "0.0",
         "0.0",
         "0.0",
         "0.0",
         "0.0",
         "0.0",
         "0.0",
         "0.0",
         "0.0",
         "0.19861928757981492",
         "0.028194260331332596",
         "0.0",
         "0.0",
         "0.0",
         "0.0",
         "0.0",
         "0.0",
         "0.0",
         "0.0",
         "0.0",
         "0.0",
         "0.0",
         "0.0",
         "0.0",
         "0.0",
         "0.0789465729291806",
         "0.0",
         "0.0",
         "0.0",
         "0.0",
         "0.0",
         "0.0",
         "0.0",
         "0.0",
         "0.0",
         "0.0",
         "0.02056379474020718",
         "0.0",
         "0.0",
         "0.0",
         "0.0",
         "0.0",
         "0.0",
         "0.0",
         "0.0",
         "0.0",
         "0.0",
         "0.0",
         "0.0",
         "0.0",
         "0.0",
         "0.04315329625388299",
         "0.0",
         "0.0",
         "0.0",
         "0.0",
         "0.0",
         "0.01730885210615436",
         "0.0",
         "0.0",
         "0.0",
         "0.0",
         "0.0",
         "0.0",
         "0.0",
         "0.0",
         "0.025934685348321433",
         "0.0",
         "0.0",
         "0.0",
         "0.0",
         "0.0",
         "0.0",
         "0.0",
         "0.0",
         "0.0",
         "0.0",
         "0.0",
         "0.0",
         "0.0",
         "0.0",
         "0.0",
         "0.0",
         "0.0",
         "0.07270043907247348",
         "0.0",
         "0.0",
         "0.0",
         "0.0",
         "0.0624841850396306",
         "0.0",
         "0.0",
         "0.0",
         "0.0",
         "0.0",
         "0.0",
         "0.0",
         "0.0",
         "0.030600221508608826",
         "0.0",
         "0.0",
         "0.0",
         "0.0",
         "0.0",
         "0.0",
         "0.0",
         "0.0",
         "0.0",
         "0.0",
         "0.0",
         "0.0",
         "0.04000932044022625",
         "0.027204030928616656",
         "0.0",
         "0.0",
         "0.0",
         "0.0",
         "0.0",
         "0.0",
         "0.0",
         "0.0",
         "0.0",
         "0.0",
         "0.0",
         "0.0",
         "0.08364206090162526",
         "0.0",
         "0.0",
         "0.0",
         "0.0",
         "0.0",
         "0.0",
         "0.0",
         "0.0",
         "0.0",
         "0.0",
         "0.0",
         "0.0",
         "0.0",
         "0.0",
         "0.0",
         "0.02685573980534586",
         "0.031202243895197525",
         "0.0",
         "0.0",
         "0.0",
         "0.0",
         "0.0",
         "0.0",
         "0.0",
         "0.0",
         "0.02143692445946947",
         "0.0",
         "0.0",
         "0.0",
         "0.0",
         "0.0",
         "0.0",
         "0.0",
         "0.0",
         "0.0",
         "0.04218678482320117",
         "0.0",
         "0.0",
         "0.0",
         "0.0",
         "0.0",
         "0.0",
         "0.0",
         "0.0",
         "0.0",
         "0.0",
         "0.0",
         "0.0",
         "0.0",
         "0.0",
         "0.0",
         "0.0",
         "0.0",
         "0.0",
         "0.0",
         "0.0",
         "0.0",
         "0.0",
         "0.0",
         "0.0",
         "0.0",
         "0.0",
         "0.0",
         "0.0",
         "0.02876946497693497",
         "0.0",
         "0.0",
         "0.0",
         "0.0",
         "0.0",
         "0.0",
         "0.0",
         "0.0",
         "0.0",
         "0.0",
         "0.0",
         "0.0",
         "0.0",
         "0.0",
         "0.0",
         "0.0",
         "0.0",
         "0.0",
         "0.0",
         "0.0",
         "0.0",
         "0.0",
         "0.0",
         "0.0",
         "0.0",
         "0.0",
         "0.0",
         "0.0",
         "0.0",
         "0.0",
         "0.0",
         "0.0",
         "0.0",
         "0.0",
         "0.0",
         "0.0",
         "0.0",
         "0.0",
         "0.0",
         "0.0",
         "0.0",
         "0.0",
         "0.0",
         "0.0",
         "0.0",
         "0.0",
         "0.0",
         "0.0306040819443552",
         "0.0",
         "0.0",
         "0.0",
         "0.0",
         "0.02381424122802508",
         "0.0",
         "0.0",
         "0.0",
         "0.0",
         "0.0",
         "0.0",
         "0.0",
         "0.0",
         "0.0",
         "0.0",
         "0.0",
         "0.0",
         "0.0",
         "0.0",
         "0.0",
         "0.0",
         "0.0",
         "0.0",
         "0.0",
         "0.0",
         "0.0",
         "0.0",
         "0.0",
         "0.0586668845521837",
         "0.0",
         "0.0",
         "0.016303538654017156",
         "0.0",
         "0.026888913269400013",
         "0.027639364691088",
         "0.03724414557165605",
         "0.0",
         "0.0",
         "0.0",
         "0.0",
         "0.0",
         "0.0",
         "0.0",
         "0.0",
         "0.0",
         "0.0",
         "0.0",
         "0.0",
         "0.0",
         "0.0",
         "0.0",
         "0.0",
         "0.0",
         "0.0",
         "0.0",
         "0.0",
         "0.0",
         "0.0",
         "0.0",
         "0.0",
         "0.0",
         "0.0",
         "0.012870202057763675",
         "0.0",
         "0.0",
         "0.0",
         "0.07559544292074243",
         "0.0",
         "0.0",
         "0.0",
         "0.0",
         "0.0",
         "0.0",
         "0.0",
         "0.0",
         "0.0",
         "0.0",
         "0.03605973880832",
         "0.0",
         "0.0",
         "0.0",
         "0.0",
         "0.0",
         "0.0",
         "0.0",
         "0.0",
         "0.0",
         "0.0",
         "0.03452313593759617",
         "0.0",
         "0.0",
         "0.0",
         "0.0",
         "0.0",
         "0.0",
         "0.0",
         "0.0",
         "0.0",
         "0.120792124584342",
         "0.0",
         "0.0",
         "0.0",
         "0.0",
         "0.0",
         "0.0",
         "0.0",
         "0.0",
         "0.0",
         "0.0",
         "0.0",
         "0.0",
         "0.0",
         "0.0",
         "0.0",
         "0.0",
         "0.0",
         "0.0",
         "0.108609648037353",
         "0.0",
         "0.0",
         "0.0",
         "0.0",
         "0.0",
         "0.0",
         "0.0",
         "0.0283326756741081",
         "0.0",
         "0.0",
         "0.0",
         "0.0",
         "0.0",
         "0.0",
         "0.0",
         "0.0",
         "0.0",
         "0.0",
         "0.0",
         "0.0",
         "0.0",
         "0.0",
         "0.0",
         "0.0",
         "0.0",
         "0.0",
         "0.02285861876609162",
         "0.0",
         "0.0",
         "0.0",
         "0.0",
         "0.017650574488608368",
         "0.0",
         "0.0",
         "0.0",
         "0.0",
         "0.0",
         "0.0",
         "0.0",
         "0.0",
         "0.0",
         "0.025890797252752278",
         "0.0",
         "0.0",
         "0.0",
         "0.0",
         "0.0",
         "0.0",
         "0.030379588722355095",
         "0.0",
         "0.0",
         "0.0",
         "0.0",
         "0.05351414962648035",
         "0.0",
         "0.05039594273224917",
         "0.0",
         "0.02381900688605134",
         "0.0",
         "0.0",
         "0.0",
         "0.0",
         "0.0",
         "0.037857345162565996",
         "0.0",
         "0.0",
         "0.0",
         "0.0",
         "0.0",
         "0.0",
         "0.0",
         "0.0",
         "0.0",
         "0.0",
         "0.0",
         "0.0",
         "0.0",
         "0.0",
         "0.0",
         "0.0",
         "0.0",
         "0.0",
         "0.0",
         "0.0",
         "0.0",
         "0.0",
         "0.0",
         "0.0",
         "0.0",
         "0.0",
         "0.0",
         "0.0",
         "0.0",
         "0.0",
         "0.0",
         "0.0",
         "0.0",
         "0.0",
         "0.0",
         "0.0",
         "0.0",
         "0.0",
         "0.0",
         "0.0",
         "0.0",
         "0.0",
         "0.0",
         "0.0",
         "0.0",
         "0.0",
         "0.0",
         "0.0",
         "0.0",
         "0.0",
         "0.0",
         "0.0",
         "0.0",
         "0.0",
         "0.0",
         "0.0",
         "0.0",
         "0.0",
         "0.0",
         "0.0",
         "0.0",
         "0.0",
         "0.0",
         "0.0",
         "0.0",
         "0.0",
         "0.0",
         "0.02483919105164283",
         "0.0",
         "0.0",
         "0.0",
         "0.0",
         "0.0",
         "0.0",
         "0.0",
         "0.0",
         "0.0",
         "0.0",
         "0.0",
         "0.0",
         "0.0",
         "0.0",
         "0.0",
         "0.0",
         "0.03160080975505003",
         "0.0",
         "0.0",
         "0.0",
         "0.0",
         "0.0",
         "0.0",
         "0.0",
         "0.0",
         "0.0",
         "0.0",
         "0.0",
         "0.0",
         "0.03368710774150084",
         "0.0",
         "0.022992923319663783",
         "0.0",
         "0.019739171052238387",
         "0.0",
         "0.0",
         "0.0",
         "0.0",
         "0.0",
         "0.025345948678173552",
         "0.0",
         "0.0",
         "0.0",
         "0.0",
         "0.0",
         "0.0",
         "0.0",
         "0.0",
         "0.0",
         "0.0",
         "0.0",
         "0.0",
         "0.0",
         "0.0",
         "0.0",
         "0.0",
         "0.0",
         "0.0",
         "0.0",
         "0.0",
         "0.0",
         "0.0",
         "0.0",
         "0.0",
         "0.0",
         "0.0",
         "0.0",
         "0.032007380761110635",
         "0.10012685829623462",
         "0.0",
         "0.0",
         "0.0",
         "0.0",
         "0.0",
         "0.040264740726315404",
         "0.0",
         "0.0",
         "0.0",
         "0.0",
         "0.0",
         "0.0",
         "0.0",
         "0.0",
         "0.0",
         "0.0",
         "0.0",
         "0.0",
         "0.0",
         "0.0",
         "0.0",
         "0.0",
         "0.0",
         "0.02457679585567878",
         "0.0",
         "0.0",
         "0.030146940099247524",
         "0.0",
         "0.0",
         "0.0",
         "0.0",
         "0.0",
         "0.0",
         "0.0",
         "0.0",
         "0.0",
         "0.0",
         "0.0",
         "0.0",
         "0.0",
         "0.0",
         "0.0",
         "0.0",
         "0.0",
         "0.0",
         "0.0",
         "0.0",
         "0.0",
         "0.0",
         "0.0",
         "0.014174552848068182",
         "0.0",
         "0.0",
         "0.0",
         "0.0",
         "0.0",
         "0.0",
         "0.0",
         "0.0",
         "0.0",
         "0.0",
         "0.0",
         "0.0",
         "0.0",
         "0.0",
         "0.0",
         "0.0",
         "0.0",
         "0.0",
         "0.0",
         "0.0",
         "0.0",
         "0.0",
         "0.0",
         "0.0",
         "0.0",
         "0.0",
         "0.0",
         "0.0",
         "0.0",
         "0.0",
         "0.0",
         "0.0",
         "0.0",
         "0.0",
         "0.0",
         "0.0",
         "0.0",
         "0.0",
         "0.0",
         "0.0",
         "0.0",
         "0.0",
         "0.0",
         "0.0",
         "0.0",
         "0.028145660653591118",
         "0.0",
         "0.0",
         "0.0",
         "0.0",
         "0.0",
         "0.0",
         "0.0",
         "0.0",
         "0.0",
         "0.0",
         "0.0",
         "0.0",
         "0.0",
         "0.0",
         "0.030991099194395154",
         "0.0",
         "0.0",
         "0.0",
         "0.0",
         "0.0",
         "0.0",
         "0.0",
         "0.0",
         "0.0",
         "0.0",
         "0.0",
         "0.0",
         "0.0",
         "0.0",
         "0.0",
         "0.0",
         "0.0",
         "0.0",
         "0.0",
         "0.0",
         "0.0",
         "0.0",
         "0.0",
         "0.0",
         "0.0",
         "0.0",
         "0.0",
         "0.0",
         "0.03800847202069518",
         "0.0",
         "0.0",
         "0.674340154162227",
         "0.0",
         "0.0",
         "0.0",
         "0.0",
         "0.0",
         "0.0",
         "0.0",
         "0.0",
         "0.0",
         "0.0",
         "0.0",
         "0.0",
         "0.0",
         "0.0",
         "0.0",
         "0.0",
         "0.0",
         "0.0",
         "0.12493948430156916",
         "0.0",
         "0.0",
         "0.0",
         "0.0",
         "0.0",
         "0.0",
         "0.0",
         "0.0",
         "0.0",
         "0.0",
         "0.02423199756360954",
         "0.017221232058936144",
         "0.0",
         "0.0",
         "0.0",
         "0.0",
         "0.0",
         "0.0",
         "0.0",
         "0.0",
         "0.0",
         "0.0",
         "0.0",
         "0.0",
         "0.0",
         "0.0",
         "0.0",
         "0.027524957577838596",
         "0.0",
         "0.0",
         "0.0",
         "0.0",
         "0.0",
         "0.0",
         "0.0",
         "0.0",
         "0.0",
         "0.0",
         "0.0",
         "0.0",
         "0.0",
         "0.0",
         "0.0",
         "0.0",
         "0.018044783016226525",
         "0.0",
         "0.0",
         "0.0",
         "0.0",
         "0.0",
         "0.0",
         "0.0",
         "0.0",
         "0.0",
         "0.0",
         "0.0",
         "0.0",
         "0.0",
         "0.0",
         "0.0",
         "0.0",
         "0.0",
         "0.0",
         "0.0",
         "0.0",
         "0.0",
         "0.03392189525393605",
         "0.0",
         "0.0",
         "0.0",
         "0.03452313593759617",
         "0.0",
         "0.0",
         "0.0",
         "0.0",
         "0.0",
         "0.0",
         "0.0",
         "0.0",
         "0.0",
         "0.0",
         "0.0",
         "0.0",
         "0.0",
         "0.031341303243412284",
         "0.0",
         "0.0",
         "0.0",
         "0.0",
         "0.0",
         "0.0",
         "0.0",
         "0.0",
         "0.0",
         "0.05245108911750717",
         "0.0",
         "0.0",
         "0.0",
         "0.0",
         "0.0",
         "0.018995774556230447",
         "0.0",
         "0.0",
         "0.0",
         "0.0",
         "0.0",
         "0.036309376401074865",
         "0.0",
         "0.0",
         "0.03635914391352307",
         "0.0",
         "0.0",
         "0.0",
         "0.0",
         "0.0",
         "0.0",
         "0.0",
         "0.0",
         "0.0",
         "0.0",
         "0.0",
         "0.0",
         "0.0",
         "0.0",
         "0.0",
         "0.0",
         "0.0",
         "0.0",
         "0.0",
         "0.0",
         "0.0",
         "0.0",
         "0.0",
         "0.0",
         "0.0",
         "0.0",
         "0.0",
         "0.0",
         "0.0",
         "0.0",
         "0.0",
         "0.0",
         "0.0",
         "0.0",
         "0.0",
         "0.0",
         "0.0",
         "0.0",
         "0.0",
         "0.0",
         "0.07618854775837629",
         "0.0",
         "0.0",
         "0.0",
         "0.0",
         "0.0",
         "0.0",
         "0.0",
         "0.0",
         "0.0",
         "0.0",
         "0.0",
         "0.0",
         "0.0",
         "0.0",
         "0.0",
         "0.0",
         "0.0",
         "0.0",
         "0.0",
         "0.0"
        ],
        [
         "2",
         "0.0",
         "0.0",
         "0.0",
         "0.0",
         "0.0",
         "0.0",
         "0.0",
         "0.0",
         "0.0",
         "0.0",
         "0.0",
         "0.0",
         "0.0",
         "0.0",
         "0.0",
         "0.0",
         "0.0",
         "0.03825986106007042",
         "0.0",
         "0.0",
         "0.0",
         "0.0",
         "0.0",
         "0.0",
         "0.0",
         "0.0",
         "0.0",
         "0.0",
         "0.0",
         "0.0",
         "0.0",
         "0.0",
         "0.0",
         "0.0",
         "0.0",
         "0.06314642391562308",
         "0.0",
         "0.0",
         "0.0",
         "0.0",
         "0.0",
         "0.0",
         "0.0",
         "0.0",
         "0.04422318808406876",
         "0.0",
         "0.0",
         "0.0",
         "0.0",
         "0.0",
         "0.0",
         "0.0",
         "0.0",
         "0.0",
         "0.0",
         "0.0",
         "0.0",
         "0.0",
         "0.0",
         "0.0",
         "0.0",
         "0.0",
         "0.0",
         "0.0",
         "0.0",
         "0.0",
         "0.0",
         "0.0",
         "0.0",
         "0.0",
         "0.0",
         "0.0",
         "0.0",
         "0.0",
         "0.0",
         "0.0",
         "0.0",
         "0.0",
         "0.0",
         "0.0",
         "0.0",
         "0.0",
         "0.0",
         "0.0",
         "0.0",
         "0.0",
         "0.0",
         "0.16514184563502823",
         "0.0",
         "0.0",
         "0.0",
         "0.0",
         "0.0",
         "0.0",
         "0.0",
         "0.0",
         "0.0",
         "0.0",
         "0.0",
         "0.0",
         "0.0",
         "0.0",
         "0.0",
         "0.0",
         "0.0",
         "0.0",
         "0.0",
         "0.0",
         "0.0",
         "0.0",
         "0.0",
         "0.0",
         "0.0",
         "0.0",
         "0.0",
         "0.0",
         "0.0",
         "0.0",
         "0.0",
         "0.0",
         "0.0",
         "0.0",
         "0.0",
         "0.0",
         "0.0",
         "0.0",
         "0.0",
         "0.0",
         "0.0",
         "0.0",
         "0.0",
         "0.0",
         "0.0",
         "0.0",
         "0.0",
         "0.0",
         "0.0",
         "0.0",
         "0.0",
         "0.0",
         "0.0",
         "0.0",
         "0.0",
         "0.0",
         "0.0",
         "0.0",
         "0.0",
         "0.0",
         "0.04233218195941272",
         "0.0",
         "0.0",
         "0.0",
         "0.0",
         "0.0",
         "0.0",
         "0.0",
         "0.0",
         "0.0",
         "0.0",
         "0.0",
         "0.0",
         "0.0",
         "0.0",
         "0.0",
         "0.0",
         "0.0",
         "0.0",
         "0.0",
         "0.0",
         "0.0",
         "0.0",
         "0.0",
         "0.0",
         "0.0",
         "0.0",
         "0.0",
         "0.0",
         "0.0",
         "0.0",
         "0.0",
         "0.0",
         "0.0",
         "0.0",
         "0.0",
         "0.0",
         "0.0",
         "0.0",
         "0.0",
         "0.0",
         "0.0",
         "0.0",
         "0.0",
         "0.0",
         "0.0",
         "0.0",
         "0.0",
         "0.0",
         "0.0",
         "0.0",
         "0.0",
         "0.0",
         "0.0",
         "0.0",
         "0.0",
         "0.0",
         "0.0",
         "0.0",
         "0.0",
         "0.0",
         "0.0",
         "0.0",
         "0.0",
         "0.0",
         "0.0",
         "0.0",
         "0.0",
         "0.0",
         "0.0",
         "0.0",
         "0.0",
         "0.0",
         "0.0",
         "0.0",
         "0.0",
         "0.0",
         "0.0",
         "0.0",
         "0.0",
         "0.0",
         "0.0",
         "0.0",
         "0.0",
         "0.0",
         "0.05989448535538919",
         "0.0",
         "0.0",
         "0.0",
         "0.0",
         "0.0",
         "0.0",
         "0.0",
         "0.0",
         "0.0",
         "0.0",
         "0.0",
         "0.0",
         "0.0",
         "0.0",
         "0.0",
         "0.0",
         "0.0",
         "0.0",
         "0.0",
         "0.0",
         "0.0",
         "0.0",
         "0.0",
         "0.0",
         "0.0",
         "0.0",
         "0.0",
         "0.0",
         "0.0",
         "0.0",
         "0.0",
         "0.0",
         "0.0",
         "0.0",
         "0.0",
         "0.0",
         "0.0",
         "0.0",
         "0.0",
         "0.0",
         "0.0",
         "0.0",
         "0.0",
         "0.0",
         "0.0",
         "0.0",
         "0.0",
         "0.05012370637410784",
         "0.0",
         "0.0",
         "0.0",
         "0.0",
         "0.0",
         "0.0",
         "0.0",
         "0.0",
         "0.0",
         "0.0",
         "0.0",
         "0.0",
         "0.0",
         "0.0",
         "0.0",
         "0.0",
         "0.0",
         "0.05359014508090767",
         "0.0",
         "0.0",
         "0.0",
         "0.0",
         "0.0",
         "0.0",
         "0.0",
         "0.0",
         "0.0",
         "0.023858741154491346",
         "0.0",
         "0.0",
         "0.0",
         "0.16672008754998946",
         "0.0",
         "0.0",
         "0.0",
         "0.0",
         "0.0",
         "0.0",
         "0.0",
         "0.0",
         "0.0",
         "0.0",
         "0.0",
         "0.0",
         "0.0",
         "0.0",
         "0.0",
         "0.0",
         "0.0",
         "0.042487972159604266",
         "0.0",
         "0.0",
         "0.0",
         "0.0",
         "0.0",
         "0.0",
         "0.0",
         "0.0",
         "0.05922311195989653",
         "0.0",
         "0.0",
         "0.0",
         "0.0",
         "0.0",
         "0.0",
         "0.0",
         "0.0",
         "0.0",
         "0.0",
         "0.0",
         "0.0",
         "0.0",
         "0.0",
         "0.0",
         "0.0",
         "0.0",
         "0.0",
         "0.0",
         "0.0",
         "0.0",
         "0.0",
         "0.0",
         "0.0",
         "0.0",
         "0.0",
         "0.0",
         "0.0",
         "0.0",
         "0.0",
         "0.0",
         "0.0",
         "0.0",
         "0.0",
         "0.0",
         "0.0",
         "0.0",
         "0.0",
         "0.0",
         "0.0",
         "0.0",
         "0.0",
         "0.0",
         "0.0",
         "0.0",
         "0.0",
         "0.0",
         "0.0",
         "0.0",
         "0.0",
         "0.0",
         "0.0",
         "0.0",
         "0.0",
         "0.0",
         "0.0",
         "0.0",
         "0.0",
         "0.0",
         "0.0",
         "0.0",
         "0.0",
         "0.0",
         "0.0",
         "0.03212198155038006",
         "0.0",
         "0.0",
         "0.0",
         "0.0",
         "0.0",
         "0.0",
         "0.0",
         "0.0",
         "0.0",
         "0.0",
         "0.0",
         "0.0",
         "0.0",
         "0.0",
         "0.0",
         "0.0",
         "0.057140536582098535",
         "0.0",
         "0.0",
         "0.0",
         "0.0",
         "0.0",
         "0.0",
         "0.0",
         "0.0",
         "0.0",
         "0.0",
         "0.0",
         "0.0",
         "0.0",
         "0.0",
         "0.07240953858741249",
         "0.0",
         "0.0",
         "0.0",
         "0.0",
         "0.0",
         "0.0",
         "0.0",
         "0.0",
         "0.0",
         "0.0",
         "0.0",
         "0.0",
         "0.0",
         "0.0",
         "0.0",
         "0.0",
         "0.0",
         "0.0",
         "0.0",
         "0.0",
         "0.0",
         "0.0",
         "0.0",
         "0.04506644935135044",
         "0.0",
         "0.0",
         "0.0",
         "0.0",
         "0.0",
         "0.0",
         "0.0",
         "0.0",
         "0.0",
         "0.0",
         "0.0",
         "0.0",
         "0.0",
         "0.0",
         "0.0",
         "0.0",
         "0.0",
         "0.0",
         "0.0",
         "0.0",
         "0.0",
         "0.0",
         "0.0",
         "0.0",
         "0.0",
         "0.0",
         "0.0",
         "0.07065480633902177",
         "0.0",
         "0.0",
         "0.0",
         "0.0",
         "0.0",
         "0.0",
         "0.0",
         "0.0",
         "0.0",
         "0.0",
         "0.05758759937772003",
         "0.0",
         "0.0",
         "0.0",
         "0.0",
         "0.0",
         "0.0",
         "0.0",
         "0.0",
         "0.0",
         "0.0",
         "0.0",
         "0.0",
         "0.0",
         "0.0",
         "0.0",
         "0.0",
         "0.0",
         "0.0",
         "0.1046570099135579",
         "0.0",
         "0.0",
         "0.0",
         "0.0",
         "0.0",
         "0.0",
         "0.0",
         "0.0",
         "0.0",
         "0.0",
         "0.0",
         "0.0",
         "0.0",
         "0.0",
         "0.0",
         "0.0",
         "0.0",
         "0.0",
         "0.0",
         "0.0",
         "0.0",
         "0.0",
         "0.0",
         "0.0",
         "0.0",
         "0.0",
         "0.0",
         "0.0",
         "0.0",
         "0.0",
         "0.0",
         "0.0",
         "0.0",
         "0.0",
         "0.0",
         "0.0",
         "0.0",
         "0.0",
         "0.0",
         "0.0",
         "0.0",
         "0.0",
         "0.0",
         "0.04747560158738149",
         "0.0",
         "0.0",
         "0.0",
         "0.0",
         "0.0",
         "0.0",
         "0.0",
         "0.0",
         "0.0",
         "0.0",
         "0.0",
         "0.0",
         "0.0",
         "0.0",
         "0.0",
         "0.0",
         "0.0",
         "0.0",
         "0.0",
         "0.0",
         "0.0",
         "0.0",
         "0.0",
         "0.0",
         "0.0",
         "0.0",
         "0.0",
         "0.0",
         "0.0",
         "0.0",
         "0.0",
         "0.0",
         "0.0",
         "0.0",
         "0.0",
         "0.0",
         "0.0",
         "0.0",
         "0.0",
         "0.0",
         "0.0",
         "0.0",
         "0.0",
         "0.0",
         "0.0",
         "0.0",
         "0.0",
         "0.0",
         "0.0",
         "0.08172359513146832",
         "0.06980098009343116",
         "0.0",
         "0.0",
         "0.0",
         "0.0",
         "0.0",
         "0.0",
         "0.0",
         "0.0",
         "0.0",
         "0.0",
         "0.0",
         "0.08004163590492411",
         "0.0",
         "0.0",
         "0.0",
         "0.0",
         "0.0",
         "0.0",
         "0.0",
         "0.0",
         "0.0",
         "0.0",
         "0.0",
         "0.0",
         "0.0",
         "0.0",
         "0.0",
         "0.0",
         "0.0",
         "0.0",
         "0.0",
         "0.0",
         "0.0",
         "0.053026398457083374",
         "0.0",
         "0.0",
         "0.0",
         "0.0",
         "0.0",
         "0.0",
         "0.0",
         "0.0",
         "0.0",
         "0.0",
         "0.0",
         "0.0",
         "0.0",
         "0.0",
         "0.0",
         "0.0",
         "0.0",
         "0.0",
         "0.0",
         "0.0",
         "0.0",
         "0.0",
         "0.0",
         "0.0",
         "0.0",
         "0.0",
         "0.0",
         "0.0",
         "0.0",
         "0.0",
         "0.0",
         "0.0",
         "0.0",
         "0.0",
         "0.0",
         "0.0",
         "0.0",
         "0.0",
         "0.0",
         "0.0",
         "0.0",
         "0.0",
         "0.0",
         "0.0",
         "0.0",
         "0.0",
         "0.0",
         "0.0",
         "0.0",
         "0.0",
         "0.0",
         "0.0",
         "0.0",
         "0.0",
         "0.0",
         "0.0",
         "0.0",
         "0.03717585860498036",
         "0.04135440965381052",
         "0.0",
         "0.0",
         "0.0",
         "0.0",
         "0.0",
         "0.0",
         "0.0",
         "0.0",
         "0.0",
         "0.0",
         "0.0",
         "0.0",
         "0.0",
         "0.0",
         "0.0",
         "0.034612290009827185",
         "0.0",
         "0.0",
         "0.0",
         "0.0",
         "0.11193930615474887",
         "0.0",
         "0.0",
         "0.0",
         "0.0",
         "0.0",
         "0.0",
         "0.0",
         "0.0",
         "0.0",
         "0.0",
         "0.0",
         "0.0",
         "0.0",
         "0.0",
         "0.0",
         "0.0",
         "0.0",
         "0.0",
         "0.0",
         "0.0",
         "0.0",
         "0.0",
         "0.0",
         "0.0",
         "0.0",
         "0.0",
         "0.0",
         "0.0",
         "0.0",
         "0.0",
         "0.0",
         "0.0",
         "0.0",
         "0.0",
         "0.0",
         "0.0",
         "0.0",
         "0.0",
         "0.0",
         "0.0",
         "0.0",
         "0.0",
         "0.0",
         "0.0",
         "0.0",
         "0.0",
         "0.0",
         "0.0",
         "0.0",
         "0.0",
         "0.0",
         "0.0",
         "0.0",
         "0.0",
         "0.0",
         "0.0",
         "0.0",
         "0.0",
         "0.0",
         "0.0",
         "0.0",
         "0.0",
         "0.0",
         "0.0",
         "0.0",
         "0.0",
         "0.0",
         "0.0",
         "0.0",
         "0.0",
         "0.0",
         "0.0",
         "0.0",
         "0.0",
         "0.0",
         "0.0",
         "0.0",
         "0.0",
         "0.0",
         "0.0",
         "0.0",
         "0.0",
         "0.0",
         "0.0",
         "0.0",
         "0.03493345083049092",
         "0.0",
         "0.0",
         "0.0",
         "0.0",
         "0.0",
         "0.0",
         "0.0",
         "0.0",
         "0.0",
         "0.0",
         "0.0",
         "0.0",
         "0.0",
         "0.0",
         "0.0",
         "0.0",
         "0.0",
         "0.0",
         "0.03328376509828468",
         "0.0",
         "0.0",
         "0.034828306525557524",
         "0.0",
         "0.0",
         "0.0",
         "0.0",
         "0.0",
         "0.0",
         "0.0",
         "0.0",
         "0.0",
         "0.0",
         "0.0",
         "0.0",
         "0.0",
         "0.0",
         "0.0",
         "0.0",
         "0.0",
         "0.0",
         "0.13603657082608533",
         "0.0",
         "0.0",
         "0.0",
         "0.0",
         "0.03391881061252952",
         "0.0",
         "0.0",
         "0.0",
         "0.0",
         "0.0",
         "0.0",
         "0.0",
         "0.0",
         "0.0",
         "0.0",
         "0.0",
         "0.0",
         "0.0",
         "0.0",
         "0.0",
         "0.0",
         "0.0",
         "0.0",
         "0.0",
         "0.0",
         "0.0",
         "0.0",
         "0.0",
         "0.0",
         "0.0",
         "0.0",
         "0.0",
         "0.0",
         "0.0",
         "0.0",
         "0.0",
         "0.0",
         "0.0",
         "0.0",
         "0.0",
         "0.0",
         "0.0",
         "0.0",
         "0.0",
         "0.0",
         "0.0",
         "0.0",
         "0.04115256508586828",
         "0.0",
         "0.0",
         "0.0",
         "0.0",
         "0.0",
         "0.0",
         "0.03212543021351791",
         "0.033904713978034504",
         "0.0",
         "0.0",
         "0.0",
         "0.0",
         "0.0840702543121038",
         "0.0",
         "0.04479397501687983",
         "0.0",
         "0.0",
         "0.0",
         "0.0",
         "0.0",
         "0.0",
         "0.0",
         "0.0",
         "0.0",
         "0.0",
         "0.0",
         "0.0",
         "0.0",
         "0.0",
         "0.0",
         "0.0",
         "0.0",
         "0.0",
         "0.0",
         "0.0",
         "0.0",
         "0.0",
         "0.0",
         "0.0",
         "0.0",
         "0.0",
         "0.0",
         "0.0",
         "0.0",
         "0.0",
         "0.0",
         "0.0",
         "0.0",
         "0.0",
         "0.0",
         "0.0",
         "0.0",
         "0.0",
         "0.0",
         "0.0",
         "0.0",
         "0.0",
         "0.04626686900873672",
         "0.0",
         "0.0",
         "0.0",
         "0.0",
         "0.0",
         "0.0",
         "0.0",
         "0.0",
         "0.0",
         "0.043865433656054546",
         "0.0",
         "0.0",
         "0.0",
         "0.0",
         "0.0",
         "0.0",
         "0.0",
         "0.0",
         "0.0",
         "0.0",
         "0.0",
         "0.0",
         "0.0",
         "0.0",
         "0.2574654275988564",
         "0.0",
         "0.0",
         "0.0",
         "0.0",
         "0.0",
         "0.0",
         "0.0",
         "0.0",
         "0.0",
         "0.0",
         "0.0",
         "0.0",
         "0.0",
         "0.0",
         "0.0",
         "0.0",
         "0.04500827074803769",
         "0.0",
         "0.0",
         "0.0",
         "0.0",
         "0.0",
         "0.0",
         "0.0",
         "0.0",
         "0.0",
         "0.0",
         "0.0",
         "0.0",
         "0.0",
         "0.0",
         "0.0",
         "0.0",
         "0.0",
         "0.0",
         "0.0",
         "0.0",
         "0.0",
         "0.0",
         "0.0",
         "0.0",
         "0.0",
         "0.0",
         "0.0",
         "0.0",
         "0.0",
         "0.0",
         "0.0",
         "0.0",
         "0.0",
         "0.0",
         "0.0",
         "0.0",
         "0.0",
         "0.0",
         "0.0",
         "0.0",
         "0.0",
         "0.0",
         "0.03180400801670386",
         "0.0",
         "0.0",
         "0.0",
         "0.0",
         "0.0",
         "0.0",
         "0.0",
         "0.0",
         "0.0",
         "0.0",
         "0.0",
         "0.0",
         "0.0",
         "0.0",
         "0.0",
         "0.0",
         "0.0",
         "0.0",
         "0.0",
         "0.0",
         "0.0",
         "0.0",
         "0.0",
         "0.0",
         "0.05098313579033697",
         "0.0",
         "0.0",
         "0.0",
         "0.0",
         "0.0",
         "0.0",
         "0.0",
         "0.0",
         "0.0",
         "0.049056238422548276",
         "0.0",
         "0.0",
         "0.0",
         "0.0",
         "0.0",
         "0.05049986546487852",
         "0.0",
         "0.0",
         "0.0",
         "0.0",
         "0.0",
         "0.0",
         "0.0",
         "0.0",
         "0.0",
         "0.0",
         "0.0",
         "0.0",
         "0.0",
         "0.0",
         "0.0",
         "0.0",
         "0.0",
         "0.0",
         "0.0",
         "0.0",
         "0.0",
         "0.0",
         "0.0",
         "0.0",
         "0.0",
         "0.0",
         "0.0",
         "0.0",
         "0.0",
         "0.0",
         "0.0",
         "0.0",
         "0.0",
         "0.0",
         "0.0468522959928371",
         "0.0",
         "0.0",
         "0.039969601465147934",
         "0.0",
         "0.0",
         "0.0",
         "0.0",
         "0.0",
         "0.0",
         "0.0",
         "0.12576202687551238",
         "0.0",
         "0.0",
         "0.0",
         "0.0",
         "0.0",
         "0.0",
         "0.0",
         "0.0",
         "0.0",
         "0.0",
         "0.0",
         "0.0",
         "0.0",
         "0.0",
         "0.0",
         "0.0",
         "0.0",
         "0.05848629581292218",
         "0.11464685809698573",
         "0.0",
         "0.0",
         "0.0",
         "0.0",
         "0.03605341902967906",
         "0.0",
         "0.0",
         "0.0",
         "0.04516763682197941",
         "0.26983834228276865",
         "0.0",
         "0.0",
         "0.0",
         "0.0",
         "0.0",
         "0.0",
         "0.0",
         "0.0",
         "0.0",
         "0.0",
         "0.0",
         "0.0",
         "0.0",
         "0.0",
         "0.0",
         "0.0",
         "0.0",
         "0.0",
         "0.0",
         "0.0",
         "0.0",
         "0.0",
         "0.0",
         "0.04216197482106868",
         "0.0",
         "0.0",
         "0.0",
         "0.0",
         "0.0",
         "0.0",
         "0.0",
         "0.0",
         "0.0",
         "0.0",
         "0.0",
         "0.07140464607123942",
         "0.0",
         "0.0",
         "0.0",
         "0.0",
         "0.0",
         "0.0",
         "0.0",
         "0.0",
         "0.0",
         "0.0",
         "0.0",
         "0.0",
         "0.0",
         "0.05668107829670199",
         "0.0",
         "0.0",
         "0.0785830897178984",
         "0.0",
         "0.0",
         "0.0",
         "0.0",
         "0.0",
         "0.0",
         "0.0",
         "0.0",
         "0.0",
         "0.0",
         "0.0",
         "0.0",
         "0.0",
         "0.0",
         "0.0",
         "0.0",
         "0.0",
         "0.0",
         "0.0",
         "0.059779837807902046",
         "0.0",
         "0.0",
         "0.0",
         "0.0",
         "0.0",
         "0.0",
         "0.0",
         "0.0",
         "0.0",
         "0.0",
         "0.0",
         "0.02470542848012013",
         "0.0",
         "0.0",
         "0.0",
         "0.0",
         "0.04439197500486752",
         "0.0",
         "0.03894351780188163",
         "0.0",
         "0.0",
         "0.0",
         "0.0",
         "0.0",
         "0.0",
         "0.0",
         "0.0",
         "0.0",
         "0.0",
         "0.0",
         "0.0",
         "0.0",
         "0.0",
         "0.0",
         "0.0",
         "0.0",
         "0.0",
         "0.0",
         "0.0",
         "0.0",
         "0.0",
         "0.0",
         "0.036597161927098",
         "0.0",
         "0.0",
         "0.0",
         "0.0",
         "0.0",
         "0.0",
         "0.0",
         "0.0",
         "0.0",
         "0.0",
         "0.0",
         "0.0",
         "0.0",
         "0.0",
         "0.0",
         "0.0",
         "0.18731022970074118",
         "0.0",
         "0.0",
         "0.0",
         "0.0",
         "0.0",
         "0.0",
         "0.0",
         "0.0",
         "0.0",
         "0.0",
         "0.0",
         "0.0",
         "0.0",
         "0.0",
         "0.0",
         "0.0",
         "0.06215540958333129",
         "0.0",
         "0.0",
         "0.0",
         "0.0",
         "0.0",
         "0.0",
         "0.0",
         "0.0",
         "0.0",
         "0.0",
         "0.0",
         "0.0",
         "0.0",
         "0.0",
         "0.0",
         "0.0",
         "0.0",
         "0.0",
         "0.0",
         "0.0",
         "0.0",
         "0.0",
         "0.0",
         "0.0",
         "0.0",
         "0.0",
         "0.0",
         "0.0",
         "0.0",
         "0.0",
         "0.0",
         "0.0",
         "0.0",
         "0.0",
         "0.0",
         "0.0",
         "0.0",
         "0.0",
         "0.0",
         "0.0",
         "0.0",
         "0.03708797525874379",
         "0.0",
         "0.0881505981273858",
         "0.0",
         "0.0",
         "0.0",
         "0.0",
         "0.0",
         "0.0",
         "0.0",
         "0.0",
         "0.0",
         "0.05922311195989653",
         "0.0",
         "0.0",
         "0.0",
         "0.0",
         "0.0",
         "0.0",
         "0.03153382613353477",
         "0.0",
         "0.0",
         "0.0",
         "0.0",
         "0.0",
         "0.0",
         "0.0",
         "0.0",
         "0.0",
         "0.0",
         "0.0",
         "0.0",
         "0.0",
         "0.0",
         "0.0",
         "0.0",
         "0.0",
         "0.0",
         "0.0",
         "0.0",
         "0.0",
         "0.0",
         "0.0",
         "0.0",
         "0.0",
         "0.0",
         "0.0",
         "0.0",
         "0.0",
         "0.0",
         "0.0",
         "0.0",
         "0.0",
         "0.0",
         "0.0",
         "0.0",
         "0.0",
         "0.0",
         "0.0",
         "0.0",
         "0.0",
         "0.0",
         "0.0",
         "0.0",
         "0.0",
         "0.0",
         "0.0",
         "0.0",
         "0.0",
         "0.0",
         "0.0",
         "0.0",
         "0.0",
         "0.0",
         "0.0",
         "0.0",
         "0.0",
         "0.0",
         "0.0",
         "0.0",
         "0.422274286769926",
         "0.051483885018019704",
         "0.0",
         "0.0",
         "0.03710390427066913",
         "0.0",
         "0.0",
         "0.0",
         "0.0",
         "0.0",
         "0.03313597246023971",
         "0.0",
         "0.0",
         "0.0",
         "0.0",
         "0.0",
         "0.0",
         "0.0",
         "0.0",
         "0.0",
         "0.0",
         "0.0",
         "0.0",
         "0.0",
         "0.0",
         "0.056417028376670446",
         "0.0",
         "0.0",
         "0.0",
         "0.0",
         "0.0",
         "0.0",
         "0.0",
         "0.0",
         "0.0",
         "0.0",
         "0.04666307986748744",
         "0.0",
         "0.021126395337524688",
         "0.0",
         "0.0",
         "0.0",
         "0.0",
         "0.0",
         "0.0",
         "0.0",
         "0.0",
         "0.0",
         "0.0",
         "0.0",
         "0.0",
         "0.0",
         "0.0",
         "0.0",
         "0.0",
         "0.0",
         "0.0",
         "0.0",
         "0.0",
         "0.0",
         "0.0",
         "0.0",
         "0.0",
         "0.0",
         "0.0",
         "0.0",
         "0.0",
         "0.0",
         "0.0",
         "0.0",
         "0.0",
         "0.0",
         "0.0",
         "0.0",
         "0.030776195168824013",
         "0.0",
         "0.0",
         "0.0",
         "0.0",
         "0.0",
         "0.0",
         "0.0",
         "0.0",
         "0.0",
         "0.0",
         "0.0",
         "0.0",
         "0.0",
         "0.0",
         "0.0",
         "0.0",
         "0.0",
         "0.0",
         "0.0",
         "0.0",
         "0.0",
         "0.0",
         "0.0",
         "0.0",
         "0.0",
         "0.0",
         "0.0",
         "0.0",
         "0.0",
         "0.0",
         "0.0",
         "0.0",
         "0.0",
         "0.0",
         "0.0",
         "0.0",
         "0.0",
         "0.0",
         "0.0",
         "0.0",
         "0.0",
         "0.0",
         "0.0",
         "0.0",
         "0.0",
         "0.0",
         "0.0",
         "0.0",
         "0.0",
         "0.0",
         "0.0",
         "0.0",
         "0.0",
         "0.0",
         "0.0",
         "0.0",
         "0.0",
         "0.0",
         "0.0",
         "0.0",
         "0.0",
         "0.0",
         "0.0",
         "0.0",
         "0.0",
         "0.0",
         "0.0",
         "0.0",
         "0.0",
         "0.0",
         "0.0",
         "0.0",
         "0.0",
         "0.0",
         "0.0",
         "0.0",
         "0.0",
         "0.0",
         "0.0",
         "0.0",
         "0.0",
         "0.0",
         "0.0",
         "0.0",
         "0.0",
         "0.0",
         "0.0",
         "0.0",
         "0.0",
         "0.0",
         "0.0",
         "0.0",
         "0.0",
         "0.0",
         "0.0",
         "0.0",
         "0.0",
         "0.0",
         "0.0",
         "0.0",
         "0.0",
         "0.0",
         "0.0",
         "0.0",
         "0.0",
         "0.0",
         "0.0",
         "0.0",
         "0.0",
         "0.0",
         "0.0",
         "0.0",
         "0.0",
         "0.0",
         "0.0",
         "0.0",
         "0.0",
         "0.0",
         "0.0",
         "0.0",
         "0.0",
         "0.0",
         "0.0",
         "0.0",
         "0.0",
         "0.0",
         "0.0",
         "0.0",
         "0.0",
         "0.0",
         "0.0",
         "0.0",
         "0.0",
         "0.0",
         "0.0",
         "0.03253264703051975",
         "0.06062040449699019",
         "0.0",
         "0.0",
         "0.0",
         "0.0",
         "0.026097787420923585",
         "0.0",
         "0.0",
         "0.0",
         "0.0",
         "0.0",
         "0.0",
         "0.0",
         "0.0",
         "0.0",
         "0.0",
         "0.0",
         "0.039043682374736384",
         "0.0",
         "0.0",
         "0.0",
         "0.0",
         "0.0",
         "0.0",
         "0.03550871090289891",
         "0.0",
         "0.0",
         "0.0",
         "0.0",
         "0.0",
         "0.0",
         "0.0",
         "0.0",
         "0.0",
         "0.0",
         "0.0",
         "0.0",
         "0.03768474000084892",
         "0.0",
         "0.0",
         "0.0",
         "0.0",
         "0.0",
         "0.0",
         "0.0",
         "0.0",
         "0.0",
         "0.0",
         "0.0",
         "0.0",
         "0.0",
         "0.0",
         "0.0",
         "0.0",
         "0.0",
         "0.0",
         "0.10066233153613442",
         "0.0",
         "0.0",
         "0.0",
         "0.0",
         "0.0",
         "0.0",
         "0.0",
         "0.0",
         "0.0",
         "0.0",
         "0.0",
         "0.0",
         "0.0",
         "0.03855435917847509",
         "0.0",
         "0.0",
         "0.0",
         "0.0",
         "0.05660865830053767",
         "0.0",
         "0.0",
         "0.0",
         "0.05135504360487446",
         "0.0",
         "0.0",
         "0.0",
         "0.0",
         "0.0",
         "0.0",
         "0.0",
         "0.0",
         "0.0",
         "0.0",
         "0.0",
         "0.0",
         "0.0",
         "0.0",
         "0.0",
         "0.0",
         "0.0",
         "0.0",
         "0.0",
         "0.0",
         "0.0",
         "0.0",
         "0.0",
         "0.0",
         "0.0",
         "0.0",
         "0.0",
         "0.0",
         "0.0",
         "0.0",
         "0.0",
         "0.0",
         "0.0",
         "0.0",
         "0.0",
         "0.10168396650628353",
         "0.0",
         "0.0",
         "0.0",
         "0.0",
         "0.0",
         "0.0",
         "0.0",
         "0.0",
         "0.0",
         "0.0",
         "0.0",
         "0.0",
         "0.0",
         "0.0",
         "0.0",
         "0.0",
         "0.0",
         "0.0",
         "0.0",
         "0.0",
         "0.0",
         "0.0",
         "0.0",
         "0.0",
         "0.0",
         "0.0",
         "0.0",
         "0.0",
         "0.0",
         "0.0",
         "0.0",
         "0.0",
         "0.0",
         "0.0",
         "0.0",
         "0.0",
         "0.0",
         "0.0",
         "0.0",
         "0.0",
         "0.0",
         "0.037661813844912136",
         "0.0",
         "0.0",
         "0.0",
         "0.0",
         "0.0",
         "0.0",
         "0.0",
         "0.0",
         "0.0",
         "0.0",
         "0.0",
         "0.0",
         "0.0",
         "0.0",
         "0.0",
         "0.0",
         "0.0",
         "0.0",
         "0.0",
         "0.0",
         "0.0",
         "0.0",
         "0.0",
         "0.0",
         "0.0",
         "0.0",
         "0.0",
         "0.0",
         "0.0",
         "0.0",
         "0.0",
         "0.0",
         "0.0",
         "0.0",
         "0.0",
         "0.0",
         "0.0",
         "0.0",
         "0.0",
         "0.0",
         "0.0",
         "0.0",
         "0.0",
         "0.0",
         "0.0",
         "0.0",
         "0.0",
         "0.0",
         "0.0",
         "0.0",
         "0.0",
         "0.0",
         "0.0",
         "0.028603107017096917",
         "0.0",
         "0.0",
         "0.0",
         "0.0",
         "0.03774577328946713",
         "0.0",
         "0.12291002412865493",
         "0.0",
         "0.0",
         "0.0",
         "0.0",
         "0.0",
         "0.0",
         "0.0",
         "0.0",
         "0.0",
         "0.0",
         "0.0",
         "0.0",
         "0.0",
         "0.0",
         "0.0",
         "0.0",
         "0.0",
         "0.0",
         "0.0",
         "0.0",
         "0.0",
         "0.0",
         "0.0",
         "0.0",
         "0.0",
         "0.0",
         "0.0",
         "0.0",
         "0.0",
         "0.0",
         "0.019405319041834228",
         "0.0",
         "0.0",
         "0.0",
         "0.0",
         "0.0",
         "0.0",
         "0.0",
         "0.05062803122975635",
         "0.0",
         "0.0",
         "0.0",
         "0.0",
         "0.0",
         "0.0",
         "0.05436983296766123",
         "0.0",
         "0.0",
         "0.0",
         "0.0",
         "0.047083681455613625",
         "0.0",
         "0.0",
         "0.04785427680868307",
         "0.0",
         "0.0414469871866777",
         "0.0",
         "0.0",
         "0.0",
         "0.0",
         "0.0",
         "0.0",
         "0.0",
         "0.0",
         "0.0",
         "0.0",
         "0.0",
         "0.0",
         "0.0",
         "0.29815845258875234",
         "0.0",
         "0.0",
         "0.0",
         "0.0",
         "0.0",
         "0.0",
         "0.0",
         "0.0",
         "0.0",
         "0.0",
         "0.0",
         "0.04162260083373409",
         "0.0",
         "0.0",
         "0.0",
         "0.10917232750643009",
         "0.0",
         "0.0",
         "0.0",
         "0.0",
         "0.0",
         "0.0",
         "0.0",
         "0.0",
         "0.0",
         "0.0",
         "0.0",
         "0.0",
         "0.0",
         "0.0",
         "0.0",
         "0.0",
         "0.0",
         "0.0",
         "0.0",
         "0.0",
         "0.0",
         "0.0",
         "0.0",
         "0.0",
         "0.04027687256686986",
         "0.0",
         "0.0",
         "0.0",
         "0.0",
         "0.0",
         "0.0",
         "0.0",
         "0.0",
         "0.03850925152543999",
         "0.0",
         "0.0",
         "0.0",
         "0.0",
         "0.06947849874302775",
         "0.0709896802692431",
         "0.0",
         "0.03903739651344708",
         "0.0",
         "0.0",
         "0.0",
         "0.0",
         "0.0",
         "0.0",
         "0.0",
         "0.06313259512391856",
         "0.0",
         "0.0",
         "0.0",
         "0.0",
         "0.0",
         "0.0",
         "0.0",
         "0.0",
         "0.0",
         "0.0",
         "0.0",
         "0.035580643769139164",
         "0.0",
         "0.0",
         "0.0",
         "0.0",
         "0.0",
         "0.0",
         "0.0",
         "0.0",
         "0.0",
         "0.0",
         "0.0",
         "0.0",
         "0.0",
         "0.0",
         "0.0",
         "0.0",
         "0.0",
         "0.0",
         "0.027530379554455937",
         "0.05015664988034609",
         "0.0",
         "0.0",
         "0.03756739359187349",
         "0.0",
         "0.0",
         "0.0",
         "0.0",
         "0.0",
         "0.0",
         "0.0",
         "0.0",
         "0.02824786358310568",
         "0.0",
         "0.0",
         "0.0",
         "0.0",
         "0.0",
         "0.0",
         "0.0",
         "0.0",
         "0.0",
         "0.0",
         "0.0",
         "0.0",
         "0.0",
         "0.0",
         "0.0",
         "0.0",
         "0.0",
         "0.0",
         "0.11607271285312104",
         "0.0",
         "0.0",
         "0.0",
         "0.0",
         "0.0",
         "0.0",
         "0.0",
         "0.0",
         "0.0",
         "0.0",
         "0.0",
         "0.0",
         "0.0",
         "0.0",
         "0.0",
         "0.0",
         "0.0",
         "0.0",
         "0.0",
         "0.0",
         "0.0",
         "0.0849505235037072",
         "0.0",
         "0.0",
         "0.0",
         "0.0",
         "0.0",
         "0.0",
         "0.0",
         "0.0",
         "0.0",
         "0.0",
         "0.0",
         "0.0",
         "0.0",
         "0.0",
         "0.0",
         "0.0",
         "0.0",
         "0.0",
         "0.05879632304034976",
         "0.0",
         "0.0",
         "0.0",
         "0.0",
         "0.0",
         "0.0",
         "0.0",
         "0.0",
         "0.0",
         "0.0",
         "0.0",
         "0.0",
         "0.0",
         "0.0",
         "0.0",
         "0.0",
         "0.0",
         "0.0",
         "0.0",
         "0.0",
         "0.0",
         "0.0",
         "0.03200192407205155",
         "0.0",
         "0.0",
         "0.0",
         "0.0",
         "0.0",
         "0.0",
         "0.0",
         "0.0",
         "0.0",
         "0.0",
         "0.0",
         "0.0",
         "0.0",
         "0.0",
         "0.0",
         "0.0",
         "0.0",
         "0.0",
         "0.0",
         "0.0",
         "0.0",
         "0.0",
         "0.0",
         "0.0",
         "0.0",
         "0.0",
         "0.0",
         "0.0",
         "0.0",
         "0.0",
         "0.0",
         "0.0",
         "0.0",
         "0.0",
         "0.0",
         "0.0",
         "0.0",
         "0.0",
         "0.0",
         "0.0",
         "0.0",
         "0.0",
         "0.0",
         "0.03938183794259111",
         "0.0",
         "0.0",
         "0.0",
         "0.037056183148094696",
         "0.0",
         "0.0",
         "0.0",
         "0.0",
         "0.0",
         "0.0",
         "0.0",
         "0.0",
         "0.0",
         "0.0",
         "0.0",
         "0.0",
         "0.0",
         "0.0",
         "0.0",
         "0.0",
         "0.0",
         "0.0",
         "0.0",
         "0.0",
         "0.0",
         "0.0",
         "0.0",
         "0.0",
         "0.0",
         "0.0",
         "0.04274396300191386",
         "0.0",
         "0.0",
         "0.0",
         "0.0",
         "0.0",
         "0.0",
         "0.0",
         "0.0",
         "0.0",
         "0.08244144059366625",
         "0.0",
         "0.0",
         "0.0",
         "0.0",
         "0.0",
         "0.0",
         "0.0",
         "0.0",
         "0.0",
         "0.0",
         "0.0",
         "0.0",
         "0.0",
         "0.0",
         "0.0",
         "0.0",
         "0.0",
         "0.0",
         "0.0",
         "0.0",
         "0.0",
         "0.0",
         "0.0",
         "0.0",
         "0.0",
         "0.0",
         "0.0",
         "0.0",
         "0.0",
         "0.0",
         "0.028997225053825147",
         "0.0",
         "0.0",
         "0.0",
         "0.0",
         "0.0",
         "0.0",
         "0.0",
         "0.0",
         "0.034204426810155154",
         "0.0",
         "0.0",
         "0.0",
         "0.0",
         "0.0",
         "0.0",
         "0.0",
         "0.0",
         "0.0",
         "0.0",
         "0.046727484512303574",
         "0.0",
         "0.0",
         "0.0",
         "0.0",
         "0.0",
         "0.0",
         "0.0",
         "0.0",
         "0.0",
         "0.0",
         "0.0",
         "0.0",
         "0.0",
         "0.0",
         "0.0",
         "0.0",
         "0.0",
         "0.0",
         "0.0",
         "0.0",
         "0.0",
         "0.0",
         "0.0",
         "0.0",
         "0.0",
         "0.0",
         "0.0",
         "0.0",
         "0.0",
         "0.0",
         "0.0",
         "0.0",
         "0.0",
         "0.0",
         "0.0",
         "0.0",
         "0.0",
         "0.0",
         "0.0",
         "0.0",
         "0.0",
         "0.0",
         "0.05527404603820181",
         "0.0",
         "0.0",
         "0.0",
         "0.0",
         "0.0",
         "0.0",
         "0.0",
         "0.2637322056077848",
         "0.0",
         "0.0",
         "0.0",
         "0.0",
         "0.0",
         "0.0",
         "0.0",
         "0.0",
         "0.0",
         "0.0",
         "0.0",
         "0.0",
         "0.0",
         "0.0",
         "0.031685541861870045",
         "0.0",
         "0.0",
         "0.0",
         "0.0",
         "0.0",
         "0.0",
         "0.0",
         "0.0",
         "0.0",
         "0.0",
         "0.0",
         "0.0",
         "0.0",
         "0.0",
         "0.0",
         "0.0",
         "0.0",
         "0.0",
         "0.0",
         "0.0",
         "0.0",
         "0.0",
         "0.0",
         "0.0",
         "0.0",
         "0.0",
         "0.0",
         "0.0",
         "0.0",
         "0.08162220839244355",
         "0.0",
         "0.0",
         "0.0",
         "0.0",
         "0.0",
         "0.0",
         "0.0",
         "0.0",
         "0.0",
         "0.0",
         "0.0",
         "0.0",
         "0.0",
         "0.0",
         "0.0",
         "0.0",
         "0.0",
         "0.0",
         "0.0",
         "0.0",
         "0.0",
         "0.0",
         "0.0",
         "0.0",
         "0.0",
         "0.0",
         "0.0",
         "0.0",
         "0.0",
         "0.0",
         "0.0",
         "0.0",
         "0.0",
         "0.0",
         "0.0",
         "0.0",
         "0.0",
         "0.0",
         "0.0",
         "0.0",
         "0.0",
         "0.0",
         "0.0",
         "0.07845933815699799",
         "0.0",
         "0.0",
         "0.0",
         "0.0",
         "0.0",
         "0.052722825114358975",
         "0.0",
         "0.0",
         "0.0",
         "0.0",
         "0.0",
         "0.05728256076415634",
         "0.0",
         "0.0",
         "0.0",
         "0.0",
         "0.0",
         "0.0",
         "0.0",
         "0.0",
         "0.05482126734010876",
         "0.0",
         "0.0",
         "0.0",
         "0.0",
         "0.027715892687576044",
         "0.0",
         "0.0",
         "0.0",
         "0.0",
         "0.0",
         "0.027633851974563896",
         "0.0",
         "0.042112630062747056",
         "0.0",
         "0.0",
         "0.0",
         "0.0",
         "0.0",
         "0.0",
         "0.0",
         "0.0",
         "0.0",
         "0.0",
         "0.0",
         "0.0",
         "0.0",
         "0.0",
         "0.0",
         "0.10462256742289736",
         "0.0",
         "0.0",
         "0.0",
         "0.0",
         "0.0",
         "0.0",
         "0.0",
         "0.0",
         "0.0",
         "0.0",
         "0.0",
         "0.01914581540043324",
         "0.0",
         "0.0",
         "0.0",
         "0.0",
         "0.0",
         "0.0",
         "0.0",
         "0.0",
         "0.02248996436929585",
         "0.0",
         "0.0",
         "0.0",
         "0.0",
         "0.0",
         "0.07137643472278828",
         "0.0",
         "0.0",
         "0.0",
         "0.0",
         "0.0"
        ],
        [
         "3",
         "0.0",
         "0.0",
         "0.0",
         "0.0",
         "0.0",
         "0.0",
         "0.0",
         "0.0",
         "0.0",
         "0.0",
         "0.0",
         "0.0",
         "0.0",
         "0.03983308273369096",
         "0.0",
         "0.0",
         "0.0",
         "0.050592578181948226",
         "0.0",
         "0.0",
         "0.0",
         "0.0",
         "0.04746154821701655",
         "0.0",
         "0.0",
         "0.0",
         "0.0",
         "0.0",
         "0.0",
         "0.0",
         "0.0",
         "0.0",
         "0.0",
         "0.0",
         "0.0",
         "0.0",
         "0.0",
         "0.0",
         "0.0",
         "0.0",
         "0.0",
         "0.0",
         "0.0",
         "0.0",
         "0.058478129261511025",
         "0.0",
         "0.0",
         "0.0",
         "0.0",
         "0.0",
         "0.0",
         "0.0",
         "0.0",
         "0.0",
         "0.0",
         "0.0",
         "0.0",
         "0.0",
         "0.0",
         "0.0",
         "0.0",
         "0.0",
         "0.06772842129036087",
         "0.0",
         "0.05327364161371337",
         "0.0",
         "0.0",
         "0.0",
         "0.0",
         "0.06210278925514729",
         "0.0",
         "0.0",
         "0.0",
         "0.0",
         "0.0",
         "0.0",
         "0.0",
         "0.0",
         "0.0",
         "0.0",
         "0.0",
         "0.0",
         "0.06137635979226051",
         "0.0",
         "0.0",
         "0.0",
         "0.0",
         "0.05459345319683457",
         "0.057408718805632045",
         "0.0",
         "0.0",
         "0.0",
         "0.0",
         "0.02869125526752744",
         "0.0",
         "0.0",
         "0.0",
         "0.0",
         "0.0",
         "0.0",
         "0.0",
         "0.03531495378930891",
         "0.0",
         "0.0",
         "0.0",
         "0.0",
         "0.0",
         "0.0",
         "0.0",
         "0.0",
         "0.0",
         "0.0",
         "0.0",
         "0.0",
         "0.0",
         "0.0",
         "0.0",
         "0.0",
         "0.0",
         "0.0",
         "0.0",
         "0.0",
         "0.0",
         "0.0",
         "0.0",
         "0.0",
         "0.0",
         "0.0",
         "0.0",
         "0.0",
         "0.0",
         "0.047979380505585936",
         "0.0",
         "0.0",
         "0.0",
         "0.0",
         "0.0",
         "0.0",
         "0.0",
         "0.0",
         "0.0",
         "0.061010335792496255",
         "0.0",
         "0.0",
         "0.0",
         "0.0",
         "0.0",
         "0.0",
         "0.0",
         "0.0",
         "0.0",
         "0.0",
         "0.0",
         "0.0",
         "0.0",
         "0.0",
         "0.0",
         "0.0",
         "0.0",
         "0.0",
         "0.0",
         "0.0",
         "0.0",
         "0.0",
         "0.0",
         "0.0",
         "0.0",
         "0.06456483006809133",
         "0.0",
         "0.0",
         "0.0",
         "0.0",
         "0.0",
         "0.0",
         "0.0",
         "0.0",
         "0.0",
         "0.05535981469009056",
         "0.0",
         "0.0",
         "0.0",
         "0.0",
         "0.0",
         "0.0",
         "0.0",
         "0.0",
         "0.0",
         "0.0",
         "0.0",
         "0.0",
         "0.0",
         "0.0",
         "0.0",
         "0.0",
         "0.0",
         "0.0",
         "0.0",
         "0.0",
         "0.0",
         "0.0",
         "0.0",
         "0.0",
         "0.0",
         "0.0",
         "0.0",
         "0.0",
         "0.0",
         "0.0",
         "0.0",
         "0.0",
         "0.0",
         "0.0",
         "0.0",
         "0.0",
         "0.0",
         "0.0",
         "0.0",
         "0.0",
         "0.04578906782387054",
         "0.0",
         "0.0",
         "0.05419963340296102",
         "0.0",
         "0.0",
         "0.0",
         "0.0",
         "0.0",
         "0.0",
         "0.0",
         "0.0",
         "0.0",
         "0.0",
         "0.0",
         "0.07920092622010434",
         "0.0",
         "0.0",
         "0.0",
         "0.0",
         "0.0",
         "0.0",
         "0.0",
         "0.0",
         "0.0",
         "0.0",
         "0.0",
         "0.0",
         "0.0",
         "0.0",
         "0.0",
         "0.0",
         "0.0",
         "0.0",
         "0.0",
         "0.0",
         "0.0",
         "0.0",
         "0.0",
         "0.0",
         "0.0",
         "0.0",
         "0.0",
         "0.0",
         "0.0",
         "0.0",
         "0.0",
         "0.0",
         "0.0",
         "0.0",
         "0.0",
         "0.0",
         "0.0",
         "0.0",
         "0.0",
         "0.0",
         "0.0",
         "0.0",
         "0.0",
         "0.0",
         "0.0",
         "0.0",
         "0.0",
         "0.06628062578480258",
         "0.0",
         "0.0",
         "0.0",
         "0.0",
         "0.0",
         "0.0",
         "0.0",
         "0.0",
         "0.0",
         "0.0",
         "0.0",
         "0.0",
         "0.0",
         "0.0",
         "0.0",
         "0.0",
         "0.0",
         "0.0708644393802401",
         "0.0",
         "0.0",
         "0.0",
         "0.0",
         "0.0",
         "0.0",
         "0.0",
         "0.0",
         "0.0",
         "0.0",
         "0.0",
         "0.0",
         "0.0",
         "0.18371732215281972",
         "0.0",
         "0.0",
         "0.0",
         "0.0",
         "0.0",
         "0.044364510565703855",
         "0.0",
         "0.0",
         "0.0",
         "0.0",
         "0.0",
         "0.0",
         "0.0",
         "0.0",
         "0.0",
         "0.0",
         "0.0",
         "0.0",
         "0.0",
         "0.0",
         "0.0",
         "0.0",
         "0.0",
         "0.0",
         "0.0",
         "0.0",
         "0.0",
         "0.0",
         "0.0",
         "0.0",
         "0.0",
         "0.0",
         "0.0",
         "0.0",
         "0.0",
         "0.0",
         "0.0",
         "0.0",
         "0.0",
         "0.0",
         "0.0",
         "0.0",
         "0.0",
         "0.0",
         "0.0",
         "0.0",
         "0.0",
         "0.0",
         "0.0",
         "0.0",
         "0.1009993038168851",
         "0.0",
         "0.0",
         "0.0",
         "0.0",
         "0.0",
         "0.0",
         "0.0",
         "0.0",
         "0.0",
         "0.0",
         "0.0",
         "0.0",
         "0.0",
         "0.0",
         "0.0",
         "0.0",
         "0.0",
         "0.0",
         "0.0",
         "0.0",
         "0.0",
         "0.0",
         "0.0",
         "0.05714970977829337",
         "0.0",
         "0.0",
         "0.0",
         "0.0",
         "0.0",
         "0.0",
         "0.061337000458317754",
         "0.0",
         "0.0",
         "0.0",
         "0.0",
         "0.0",
         "0.0",
         "0.0",
         "0.0",
         "0.0",
         "0.04247620921558335",
         "0.0",
         "0.0",
         "0.0",
         "0.0",
         "0.0",
         "0.0",
         "0.0",
         "0.0",
         "0.0",
         "0.0",
         "0.0",
         "0.0",
         "0.0",
         "0.0",
         "0.0",
         "0.0",
         "0.07555926718733809",
         "0.0",
         "0.0",
         "0.0",
         "0.03234665650256126",
         "0.0",
         "0.0",
         "0.0",
         "0.17210535288394496",
         "0.0",
         "0.0",
         "0.0",
         "0.0",
         "0.0",
         "0.0",
         "0.0",
         "0.0",
         "0.0",
         "0.0",
         "0.0",
         "0.0",
         "0.0",
         "0.0",
         "0.0",
         "0.0",
         "0.0",
         "0.0",
         "0.0",
         "0.0",
         "0.0",
         "0.0",
         "0.0",
         "0.0",
         "0.0",
         "0.0",
         "0.0",
         "0.0",
         "0.0",
         "0.0",
         "0.0",
         "0.0",
         "0.0",
         "0.0",
         "0.0",
         "0.0",
         "0.0",
         "0.0",
         "0.0",
         "0.0",
         "0.0",
         "0.0",
         "0.0",
         "0.0",
         "0.0",
         "0.0",
         "0.0",
         "0.0",
         "0.0",
         "0.0",
         "0.0",
         "0.0",
         "0.0",
         "0.0",
         "0.1291102326701805",
         "0.0",
         "0.0",
         "0.0",
         "0.0",
         "0.0",
         "0.0",
         "0.0",
         "0.0",
         "0.0",
         "0.0",
         "0.0",
         "0.0",
         "0.0",
         "0.06578840915471502",
         "0.0",
         "0.0",
         "0.0",
         "0.0",
         "0.0",
         "0.0",
         "0.0",
         "0.0",
         "0.0",
         "0.0",
         "0.0",
         "0.0",
         "0.0",
         "0.0",
         "0.0",
         "0.0",
         "0.0",
         "0.0",
         "0.0",
         "0.13839224214712462",
         "0.0",
         "0.0",
         "0.07940543921957562",
         "0.0",
         "0.0",
         "0.0",
         "0.0",
         "0.0",
         "0.0",
         "0.0",
         "0.0",
         "0.0",
         "0.0",
         "0.0",
         "0.0",
         "0.0",
         "0.0",
         "0.0",
         "0.0",
         "0.05840012914390347",
         "0.0",
         "0.0",
         "0.0",
         "0.0",
         "0.0",
         "0.0",
         "0.0",
         "0.0",
         "0.0",
         "0.0",
         "0.0",
         "0.0",
         "0.0",
         "0.0",
         "0.05581803394961758",
         "0.0",
         "0.0",
         "0.0",
         "0.0",
         "0.0",
         "0.0",
         "0.0",
         "0.0",
         "0.0",
         "0.0",
         "0.0",
         "0.0",
         "0.0",
         "0.0",
         "0.0",
         "0.0",
         "0.0",
         "0.0",
         "0.0",
         "0.0",
         "0.0",
         "0.0",
         "0.0",
         "0.0",
         "0.0",
         "0.0",
         "0.0",
         "0.0",
         "0.0",
         "0.0",
         "0.0",
         "0.0",
         "0.04676614353539938",
         "0.0",
         "0.0",
         "0.11413264521085553",
         "0.0",
         "0.0",
         "0.0",
         "0.0",
         "0.0",
         "0.0",
         "0.0",
         "0.0",
         "0.0",
         "0.0",
         "0.0",
         "0.0",
         "0.0",
         "0.0",
         "0.0",
         "0.0",
         "0.0",
         "0.08277932506870705",
         "0.0",
         "0.0",
         "0.0",
         "0.0",
         "0.05403322517960922",
         "0.0",
         "0.0",
         "0.0",
         "0.0",
         "0.0",
         "0.0",
         "0.0",
         "0.0",
         "0.0",
         "0.0",
         "0.0",
         "0.0",
         "0.0",
         "0.0",
         "0.0",
         "0.0",
         "0.0",
         "0.0",
         "0.0",
         "0.0",
         "0.0",
         "0.0",
         "0.0",
         "0.0",
         "0.0",
         "0.0",
         "0.0",
         "0.0",
         "0.0",
         "0.0",
         "0.0",
         "0.0",
         "0.0",
         "0.0",
         "0.21035692252789837",
         "0.0",
         "0.0",
         "0.0",
         "0.0",
         "0.0",
         "0.0",
         "0.0",
         "0.0",
         "0.0",
         "0.0",
         "0.0",
         "0.0",
         "0.0",
         "0.0",
         "0.0",
         "0.0",
         "0.0",
         "0.0",
         "0.0",
         "0.0",
         "0.0",
         "0.0",
         "0.0",
         "0.0",
         "0.0",
         "0.0",
         "0.0",
         "0.0",
         "0.0",
         "0.0",
         "0.0",
         "0.0",
         "0.0",
         "0.0",
         "0.0",
         "0.027858362491949073",
         "0.0",
         "0.0",
         "0.0",
         "0.0",
         "0.0",
         "0.0",
         "0.0",
         "0.0",
         "0.0",
         "0.0",
         "0.0",
         "0.0",
         "0.0",
         "0.0",
         "0.06527083256268457",
         "0.0",
         "0.0",
         "0.0",
         "0.0",
         "0.0",
         "0.0",
         "0.0",
         "0.0",
         "0.0",
         "0.0",
         "0.0",
         "0.0",
         "0.0",
         "0.0",
         "0.0",
         "0.0",
         "0.0",
         "0.0803613199310179",
         "0.0",
         "0.0",
         "0.0",
         "0.0",
         "0.0",
         "0.0",
         "0.0",
         "0.0",
         "0.0",
         "0.0",
         "0.03700548003412396",
         "0.0",
         "0.0",
         "0.0",
         "0.0",
         "0.0",
         "0.0",
         "0.0",
         "0.056347017839838746",
         "0.0",
         "0.0",
         "0.0",
         "0.0",
         "0.0",
         "0.0",
         "0.0",
         "0.0",
         "0.0",
         "0.0",
         "0.0",
         "0.0",
         "0.0",
         "0.0",
         "0.0",
         "0.0",
         "0.0",
         "0.06585171668220964",
         "0.0",
         "0.0",
         "0.0",
         "0.0",
         "0.0",
         "0.0",
         "0.0",
         "0.0",
         "0.0",
         "0.0",
         "0.0",
         "0.0",
         "0.0",
         "0.0",
         "0.0",
         "0.0",
         "0.0",
         "0.0",
         "0.0",
         "0.0",
         "0.0",
         "0.0",
         "0.0",
         "0.0",
         "0.0",
         "0.0",
         "0.0",
         "0.0",
         "0.0",
         "0.0",
         "0.0",
         "0.0",
         "0.0",
         "0.0",
         "0.0",
         "0.0",
         "0.0",
         "0.0",
         "0.0",
         "0.0",
         "0.0",
         "0.0",
         "0.0",
         "0.0",
         "0.0",
         "0.0",
         "0.0",
         "0.0",
         "0.0",
         "0.0",
         "0.0",
         "0.0",
         "0.0",
         "0.0",
         "0.0",
         "0.0",
         "0.0",
         "0.0",
         "0.0",
         "0.0",
         "0.0",
         "0.0",
         "0.0",
         "0.0",
         "0.0",
         "0.0",
         "0.0",
         "0.0",
         "0.0",
         "0.0",
         "0.0",
         "0.0",
         "0.0",
         "0.0",
         "0.07345247520202872",
         "0.0",
         "0.0",
         "0.0",
         "0.0",
         "0.0",
         "0.0",
         "0.0",
         "0.0",
         "0.08038874746263025",
         "0.0",
         "0.0",
         "0.0",
         "0.0",
         "0.0",
         "0.0",
         "0.0",
         "0.0",
         "0.0",
         "0.0",
         "0.0",
         "0.0",
         "0.0",
         "0.0",
         "0.0",
         "0.0",
         "0.17988671820624202",
         "0.0",
         "0.0",
         "0.0",
         "0.0",
         "0.08970445946255805",
         "0.0",
         "0.0",
         "0.0",
         "0.0",
         "0.0",
         "0.0",
         "0.0",
         "0.0",
         "0.0",
         "0.0",
         "0.0",
         "0.0",
         "0.0",
         "0.0",
         "0.0",
         "0.0",
         "0.0",
         "0.0",
         "0.0",
         "0.0",
         "0.0",
         "0.0",
         "0.0",
         "0.0",
         "0.0",
         "0.0",
         "0.0",
         "0.07011842635588902",
         "0.0",
         "0.0",
         "0.0",
         "0.0",
         "0.0",
         "0.0",
         "0.0",
         "0.0",
         "0.0",
         "0.0",
         "0.0",
         "0.0",
         "0.0",
         "0.0",
         "0.0",
         "0.0",
         "0.0",
         "0.0",
         "0.0",
         "0.0",
         "0.0",
         "0.0",
         "0.08966717835055026",
         "0.0",
         "0.0",
         "0.0",
         "0.0",
         "0.07411302247688739",
         "0.0",
         "0.0",
         "0.0",
         "0.0",
         "0.0",
         "0.0",
         "0.10326642974486291",
         "0.0",
         "0.0",
         "0.0",
         "0.0",
         "0.0",
         "0.0",
         "0.0",
         "0.0",
         "0.0",
         "0.0",
         "0.0",
         "0.0",
         "0.0",
         "0.0",
         "0.0",
         "0.0",
         "0.0",
         "0.0",
         "0.0",
         "0.0",
         "0.0",
         "0.0",
         "0.0",
         "0.0",
         "0.0",
         "0.0",
         "0.0",
         "0.0",
         "0.0",
         "0.0",
         "0.0",
         "0.0",
         "0.0",
         "0.0",
         "0.0",
         "0.0",
         "0.0",
         "0.0611805720852809",
         "0.0",
         "0.0",
         "0.0",
         "0.0",
         "0.0",
         "0.0",
         "0.0",
         "0.0",
         "0.0",
         "0.0",
         "0.0",
         "0.0",
         "0.0",
         "0.0",
         "0.0",
         "0.0",
         "0.0",
         "0.0",
         "0.0",
         "0.0",
         "0.032984850022139175",
         "0.0",
         "0.0",
         "0.0",
         "0.0",
         "0.0",
         "0.0",
         "0.0",
         "0.0",
         "0.0",
         "0.0",
         "0.0",
         "0.0",
         "0.0",
         "0.0",
         "0.0",
         "0.0",
         "0.0",
         "0.07298944382004073",
         "0.0",
         "0.0",
         "0.0",
         "0.0",
         "0.0",
         "0.0",
         "0.0",
         "0.0",
         "0.0",
         "0.0",
         "0.0",
         "0.0",
         "0.0",
         "0.0",
         "0.0",
         "0.0",
         "0.0",
         "0.0",
         "0.0",
         "0.0",
         "0.0",
         "0.0",
         "0.0",
         "0.0",
         "0.0",
         "0.0",
         "0.0",
         "0.0",
         "0.0",
         "0.0",
         "0.0",
         "0.0",
         "0.0",
         "0.0",
         "0.0",
         "0.0",
         "0.0",
         "0.07876347777394058",
         "0.0",
         "0.0",
         "0.0",
         "0.0",
         "0.0",
         "0.0",
         "0.0",
         "0.04205573981458251",
         "0.0",
         "0.0",
         "0.0",
         "0.0",
         "0.0",
         "0.0",
         "0.0",
         "0.0",
         "0.0",
         "0.0",
         "0.0",
         "0.0",
         "0.0",
         "0.0",
         "0.0",
         "0.0",
         "0.0",
         "0.0",
         "0.0",
         "0.0",
         "0.0",
         "0.0",
         "0.0",
         "0.0",
         "0.1011256266476138",
         "0.0",
         "0.048542568135211864",
         "0.0",
         "0.0",
         "0.0",
         "0.0",
         "0.0",
         "0.0",
         "0.0",
         "0.0",
         "0.0",
         "0.0",
         "0.0",
         "0.0",
         "0.0",
         "0.0",
         "0.0",
         "0.0",
         "0.0",
         "0.0",
         "0.0",
         "0.0",
         "0.05640378388797943",
         "0.0",
         "0.0",
         "0.0",
         "0.0",
         "0.0",
         "0.0",
         "0.0",
         "0.0",
         "0.0",
         "0.0",
         "0.0",
         "0.0",
         "0.0",
         "0.0",
         "0.06814638093829627",
         "0.0",
         "0.0",
         "0.0",
         "0.0",
         "0.0",
         "0.0",
         "0.0",
         "0.0",
         "0.0",
         "0.0",
         "0.0",
         "0.0",
         "0.0",
         "0.0",
         "0.0",
         "0.10570687561315925",
         "0.0",
         "0.0",
         "0.0",
         "0.0",
         "0.0",
         "0.0",
         "0.0",
         "0.0",
         "0.0",
         "0.0",
         "0.0",
         "0.0",
         "0.0",
         "0.0",
         "0.0",
         "0.0",
         "0.0",
         "0.0",
         "0.0",
         "0.05656386330108207",
         "0.0",
         "0.0",
         "0.0",
         "0.0",
         "0.0",
         "0.07733881962723392",
         "0.0",
         "0.0",
         "0.0",
         "0.050910455820467784",
         "0.0",
         "0.0",
         "0.0",
         "0.0",
         "0.0",
         "0.0",
         "0.20389615420407087",
         "0.0",
         "0.0",
         "0.0",
         "0.0",
         "0.0",
         "0.0",
         "0.0",
         "0.0",
         "0.0",
         "0.0",
         "0.0",
         "0.0",
         "0.0",
         "0.0",
         "0.0",
         "0.0",
         "0.0",
         "0.0",
         "0.0",
         "0.0",
         "0.0",
         "0.0",
         "0.0",
         "0.0",
         "0.0",
         "0.0",
         "0.0",
         "0.0",
         "0.0",
         "0.0",
         "0.0",
         "0.0",
         "0.0",
         "0.0",
         "0.0",
         "0.0",
         "0.0",
         "0.0",
         "0.0",
         "0.0",
         "0.0",
         "0.0",
         "0.0",
         "0.0",
         "0.0",
         "0.0",
         "0.0",
         "0.0",
         "0.0",
         "0.0",
         "0.0",
         "0.0",
         "0.0",
         "0.0",
         "0.0",
         "0.0",
         "0.0",
         "0.0",
         "0.0",
         "0.0",
         "0.0",
         "0.0",
         "0.0",
         "0.0",
         "0.0",
         "0.0",
         "0.0",
         "0.0",
         "0.0",
         "0.0",
         "0.0",
         "0.0",
         "0.0",
         "0.0",
         "0.0",
         "0.0",
         "0.0",
         "0.0",
         "0.0",
         "0.0",
         "0.0",
         "0.0",
         "0.0",
         "0.0",
         "0.0",
         "0.0",
         "0.0",
         "0.0",
         "0.0",
         "0.0",
         "0.0",
         "0.0",
         "0.0",
         "0.11660637441382513",
         "0.0",
         "0.041809354017103055",
         "0.0",
         "0.0",
         "0.0",
         "0.0",
         "0.07021722594701012",
         "0.0",
         "0.0",
         "0.0",
         "0.0",
         "0.0",
         "0.0",
         "0.0",
         "0.0",
         "0.0",
         "0.0",
         "0.0",
         "0.0",
         "0.0",
         "0.0",
         "0.0",
         "0.0",
         "0.0",
         "0.0",
         "0.0",
         "0.0",
         "0.0",
         "0.0",
         "0.05525397202965896",
         "0.0",
         "0.0",
         "0.0",
         "0.0",
         "0.0",
         "0.0",
         "0.07391206426112008",
         "0.0",
         "0.06192199329693532",
         "0.0",
         "0.0",
         "0.0",
         "0.0",
         "0.0",
         "0.0",
         "0.0",
         "0.0",
         "0.0",
         "0.0",
         "0.0",
         "0.0",
         "0.06857679151941935",
         "0.0",
         "0.0",
         "0.0",
         "0.0",
         "0.0",
         "0.0",
         "0.0",
         "0.0",
         "0.0",
         "0.0",
         "0.0",
         "0.0",
         "0.0",
         "0.0",
         "0.0",
         "0.0",
         "0.0",
         "0.0",
         "0.04949874192818067",
         "0.0",
         "0.0",
         "0.0",
         "0.0",
         "0.0",
         "0.0",
         "0.0",
         "0.0",
         "0.0",
         "0.0",
         "0.0",
         "0.0",
         "0.0",
         "0.0",
         "0.0",
         "0.0",
         "0.0",
         "0.0",
         "0.0",
         "0.0",
         "0.0",
         "0.0",
         "0.0",
         "0.0",
         "0.0",
         "0.0",
         "0.04904294568509087",
         "0.0",
         "0.03885504637652455",
         "0.0",
         "0.0",
         "0.0",
         "0.0",
         "0.0",
         "0.0",
         "0.0",
         "0.0",
         "0.0",
         "0.0",
         "0.0",
         "0.0",
         "0.0",
         "0.0",
         "0.0961622803201546",
         "0.0",
         "0.0",
         "0.0",
         "0.0",
         "0.0",
         "0.0",
         "0.0",
         "0.0",
         "0.0",
         "0.0",
         "0.0",
         "0.0",
         "0.0",
         "0.0",
         "0.0",
         "0.0",
         "0.0",
         "0.0",
         "0.0",
         "0.0",
         "0.0",
         "0.0",
         "0.0",
         "0.0",
         "0.0",
         "0.0",
         "0.0",
         "0.0",
         "0.0",
         "0.0",
         "0.0",
         "0.0",
         "0.0",
         "0.0",
         "0.0",
         "0.0",
         "0.0",
         "0.0",
         "0.0",
         "0.0",
         "0.0",
         "0.0",
         "0.0",
         "0.0",
         "0.0",
         "0.0",
         "0.03864085367791054",
         "0.0",
         "0.0",
         "0.0",
         "0.12843795877317968",
         "0.0",
         "0.0",
         "0.0",
         "0.0",
         "0.0",
         "0.0",
         "0.0",
         "0.0",
         "0.0",
         "0.0",
         "0.0",
         "0.3190803143959021",
         "0.0",
         "0.0",
         "0.0",
         "0.0",
         "0.0",
         "0.0",
         "0.0",
         "0.0",
         "0.0",
         "0.0",
         "0.0",
         "0.0",
         "0.0",
         "0.0",
         "0.0",
         "0.0",
         "0.0",
         "0.0",
         "0.0",
         "0.0",
         "0.0",
         "0.0",
         "0.0",
         "0.0",
         "0.0",
         "0.0",
         "0.0",
         "0.0",
         "0.0",
         "0.0",
         "0.0",
         "0.0",
         "0.0",
         "0.0",
         "0.0",
         "0.09255674684886092",
         "0.0",
         "0.0",
         "0.0665549578215026",
         "0.0",
         "0.0",
         "0.0",
         "0.0",
         "0.0",
         "0.0",
         "0.0",
         "0.0",
         "0.0",
         "0.0",
         "0.0",
         "0.0",
         "0.0",
         "0.0",
         "0.0",
         "0.0",
         "0.0",
         "0.0",
         "0.0",
         "0.0",
         "0.0",
         "0.0",
         "0.0",
         "0.0",
         "0.0",
         "0.0",
         "0.0",
         "0.0",
         "0.0",
         "0.0",
         "0.0",
         "0.0",
         "0.0",
         "0.0",
         "0.08139324174632852",
         "0.0",
         "0.11268474609290308",
         "0.0",
         "0.0",
         "0.0",
         "0.0",
         "0.0",
         "0.0",
         "0.0",
         "0.0",
         "0.0",
         "0.0",
         "0.06805478975657028",
         "0.0",
         "0.050171244428648364",
         "0.0",
         "0.0",
         "0.0",
         "0.0",
         "0.0",
         "0.0",
         "0.0",
         "0.0",
         "0.0",
         "0.0",
         "0.0",
         "0.0",
         "0.0",
         "0.0",
         "0.0",
         "0.0",
         "0.0",
         "0.0",
         "0.0",
         "0.0",
         "0.0",
         "0.0",
         "0.0",
         "0.0812644577491251",
         "0.0",
         "0.0",
         "0.0",
         "0.0",
         "0.0",
         "0.0",
         "0.0",
         "0.0",
         "0.0",
         "0.0",
         "0.0",
         "0.0",
         "0.0",
         "0.0",
         "0.0",
         "0.0",
         "0.0",
         "0.0",
         "0.0",
         "0.0",
         "0.0",
         "0.0",
         "0.0",
         "0.0",
         "0.0",
         "0.0",
         "0.0",
         "0.0",
         "0.0",
         "0.0",
         "0.0",
         "0.0",
         "0.0",
         "0.0",
         "0.0",
         "0.0",
         "0.05986914023294498",
         "0.0",
         "0.0",
         "0.0",
         "0.0",
         "0.0",
         "0.0",
         "0.0",
         "0.0",
         "0.0",
         "0.0",
         "0.0",
         "0.0",
         "0.0",
         "0.0",
         "0.0",
         "0.0",
         "0.0",
         "0.0",
         "0.028106680367521644",
         "0.0",
         "0.0",
         "0.0",
         "0.0",
         "0.0",
         "0.0",
         "0.0",
         "0.0",
         "0.0",
         "0.0",
         "0.0",
         "0.0",
         "0.0",
         "0.0",
         "0.0",
         "0.0",
         "0.0",
         "0.0",
         "0.0",
         "0.0",
         "0.0",
         "0.0",
         "0.0",
         "0.0",
         "0.0",
         "0.0",
         "0.0",
         "0.0",
         "0.0",
         "0.0",
         "0.0",
         "0.07053020779611253",
         "0.0",
         "0.08164721771624173",
         "0.0",
         "0.0",
         "0.0",
         "0.0",
         "0.0",
         "0.0",
         "0.04301924896624983",
         "0.040080419386782494",
         "0.0",
         "0.0",
         "0.0",
         "0.0",
         "0.034510171074481975",
         "0.0",
         "0.0",
         "0.0",
         "0.0",
         "0.0",
         "0.0",
         "0.0",
         "0.0",
         "0.0",
         "0.0",
         "0.0",
         "0.0",
         "0.0",
         "0.0",
         "0.0",
         "0.0",
         "0.0",
         "0.0",
         "0.0",
         "0.0",
         "0.0",
         "0.0",
         "0.0",
         "0.0",
         "0.0",
         "0.0",
         "0.0",
         "0.0",
         "0.0",
         "0.0",
         "0.0",
         "0.04983207209680943",
         "0.039561428317496504",
         "0.0",
         "0.0",
         "0.0",
         "0.0",
         "0.0",
         "0.0",
         "0.0",
         "0.0",
         "0.0",
         "0.0",
         "0.0",
         "0.0",
         "0.0",
         "0.0",
         "0.0",
         "0.0",
         "0.0",
         "0.1331099156430052",
         "0.0",
         "0.0",
         "0.0",
         "0.05423905383813713",
         "0.0",
         "0.0",
         "0.0",
         "0.0",
         "0.0",
         "0.0",
         "0.0",
         "0.0",
         "0.0",
         "0.0",
         "0.0",
         "0.0",
         "0.0",
         "0.0",
         "0.0",
         "0.0",
         "0.0",
         "0.0",
         "0.0",
         "0.0",
         "0.0",
         "0.0",
         "0.0",
         "0.0",
         "0.0",
         "0.0",
         "0.0",
         "0.0",
         "0.0",
         "0.0",
         "0.0",
         "0.0",
         "0.0",
         "0.0",
         "0.0",
         "0.0",
         "0.0",
         "0.0",
         "0.0",
         "0.0",
         "0.0",
         "0.0",
         "0.0",
         "0.0",
         "0.0",
         "0.0",
         "0.0",
         "0.0",
         "0.0",
         "0.0",
         "0.0",
         "0.0",
         "0.0",
         "0.0",
         "0.0",
         "0.0",
         "0.0",
         "0.0",
         "0.0",
         "0.0",
         "0.0",
         "0.0",
         "0.0",
         "0.0",
         "0.0",
         "0.0",
         "0.0",
         "0.0",
         "0.0",
         "0.0",
         "0.0",
         "0.0",
         "0.0",
         "0.0",
         "0.0",
         "0.0",
         "0.0",
         "0.0",
         "0.0",
         "0.0",
         "0.0",
         "0.0",
         "0.0",
         "0.0",
         "0.0",
         "0.0",
         "0.0",
         "0.0",
         "0.0",
         "0.0",
         "0.0",
         "0.0",
         "0.0",
         "0.0",
         "0.0",
         "0.0",
         "0.0",
         "0.05759206626122966",
         "0.0",
         "0.0",
         "0.0",
         "0.0",
         "0.0",
         "0.0",
         "0.0",
         "0.0",
         "0.0",
         "0.0",
         "0.0",
         "0.0",
         "0.0",
         "0.0",
         "0.0",
         "0.0",
         "0.0",
         "0.0",
         "0.0",
         "0.0",
         "0.0",
         "0.0",
         "0.0",
         "0.0",
         "0.0",
         "0.0",
         "0.0",
         "0.0",
         "0.0",
         "0.0",
         "0.0",
         "0.0",
         "0.0",
         "0.0",
         "0.0",
         "0.0",
         "0.0",
         "0.0",
         "0.0",
         "0.0",
         "0.0",
         "0.0",
         "0.0",
         "0.0",
         "0.0",
         "0.0",
         "0.0",
         "0.0",
         "0.0",
         "0.0",
         "0.0",
         "0.0",
         "0.15129223033372347",
         "0.0",
         "0.0",
         "0.0",
         "0.0",
         "0.0",
         "0.0",
         "0.03250578979004098",
         "0.0",
         "0.05361077622264523",
         "0.0",
         "0.0",
         "0.0",
         "0.0",
         "0.0",
         "0.0",
         "0.0",
         "0.0",
         "0.0",
         "0.0",
         "0.0",
         "0.0",
         "0.0",
         "0.0",
         "0.06078121884791865",
         "0.05097403855101772",
         "0.0",
         "0.0",
         "0.0",
         "0.0",
         "0.0",
         "0.0",
         "0.0",
         "0.0",
         "0.0",
         "0.0",
         "0.0",
         "0.0",
         "0.05132089315370033",
         "0.0",
         "0.0",
         "0.0",
         "0.0",
         "0.0",
         "0.0",
         "0.0",
         "0.0",
         "0.0",
         "0.0",
         "0.0",
         "0.0",
         "0.0",
         "0.0",
         "0.0",
         "0.0",
         "0.0",
         "0.0",
         "0.0",
         "0.0",
         "0.0",
         "0.0",
         "0.06327966630570493",
         "0.0",
         "0.05480704533547353",
         "0.0",
         "0.0",
         "0.0",
         "0.0",
         "0.0",
         "0.0",
         "0.0",
         "0.0",
         "0.0",
         "0.0",
         "0.0",
         "0.0",
         "0.0",
         "0.19713355466086724",
         "0.051821496696279654",
         "0.0",
         "0.0",
         "0.0",
         "0.0",
         "0.0",
         "0.0",
         "0.0",
         "0.0",
         "0.0",
         "0.0",
         "0.055039266439323546",
         "0.0",
         "0.0",
         "0.0",
         "0.0721815155836867",
         "0.0",
         "0.0",
         "0.0",
         "0.0",
         "0.0",
         "0.0",
         "0.0",
         "0.0",
         "0.0",
         "0.0",
         "0.0",
         "0.0",
         "0.0",
         "0.0",
         "0.0",
         "0.0",
         "0.0",
         "0.0",
         "0.0",
         "0.0",
         "0.0",
         "0.0",
         "0.0",
         "0.0",
         "0.0",
         "0.0",
         "0.0",
         "0.0",
         "0.0",
         "0.0",
         "0.0",
         "0.0",
         "0.0",
         "0.0",
         "0.0",
         "0.0",
         "0.0",
         "0.0",
         "0.0",
         "0.0",
         "0.0",
         "0.0",
         "0.0",
         "0.0",
         "0.0",
         "0.0",
         "0.0",
         "0.0",
         "0.0",
         "0.0",
         "0.0",
         "0.0",
         "0.0",
         "0.0",
         "0.0",
         "0.0",
         "0.0",
         "0.047490035585295985",
         "0.0",
         "0.0",
         "0.0",
         "0.0",
         "0.0",
         "0.0",
         "0.0",
         "0.0",
         "0.0",
         "0.0",
         "0.0",
         "0.0",
         "0.0",
         "0.0",
         "0.0",
         "0.0",
         "0.0",
         "0.0",
         "0.0",
         "0.0",
         "0.0",
         "0.0",
         "0.0",
         "0.0",
         "0.0",
         "0.0",
         "0.0",
         "0.0",
         "0.0",
         "0.0",
         "0.0",
         "0.0",
         "0.0",
         "0.0",
         "0.0",
         "0.03735330466980666",
         "0.0",
         "0.0",
         "0.0",
         "0.0",
         "0.0",
         "0.0",
         "0.0",
         "0.0",
         "0.0",
         "0.0",
         "0.0",
         "0.0",
         "0.0",
         "0.0",
         "0.0",
         "0.0",
         "0.0",
         "0.0",
         "0.0",
         "0.0",
         "0.0",
         "0.0",
         "0.0",
         "0.0",
         "0.0",
         "0.0",
         "0.0",
         "0.0",
         "0.0",
         "0.0",
         "0.0",
         "0.0",
         "0.0",
         "0.0",
         "0.0",
         "0.0",
         "0.0",
         "0.0",
         "0.0",
         "0.0",
         "0.11233354964909083",
         "0.0",
         "0.0",
         "0.0514021120063578",
         "0.0",
         "0.0",
         "0.0",
         "0.0",
         "0.0",
         "0.0",
         "0.0",
         "0.0",
         "0.0",
         "0.0",
         "0.0",
         "0.0",
         "0.0",
         "0.0",
         "0.0",
         "0.0",
         "0.0",
         "0.0",
         "0.0",
         "0.0",
         "0.0",
         "0.0",
         "0.0",
         "0.0",
         "0.0",
         "0.0",
         "0.0",
         "0.039355710344246335",
         "0.0",
         "0.0",
         "0.0",
         "0.0",
         "0.0",
         "0.0",
         "0.0",
         "0.0",
         "0.0",
         "0.0",
         "0.0",
         "0.0",
         "0.0",
         "0.0",
         "0.0",
         "0.0",
         "0.0",
         "0.0",
         "0.0",
         "0.0",
         "0.0",
         "0.0",
         "0.0",
         "0.0",
         "0.0",
         "0.0",
         "0.0",
         "0.0",
         "0.0",
         "0.0",
         "0.0",
         "0.0",
         "0.0",
         "0.0",
         "0.0",
         "0.0",
         "0.0",
         "0.0",
         "0.0",
         "0.0",
         "0.0",
         "0.0",
         "0.0",
         "0.0",
         "0.0",
         "0.0",
         "0.0",
         "0.0",
         "0.0",
         "0.0",
         "0.0",
         "0.0",
         "0.0",
         "0.0",
         "0.0",
         "0.0",
         "0.0",
         "0.0",
         "0.0",
         "0.0",
         "0.0",
         "0.0",
         "0.0",
         "0.0",
         "0.0",
         "0.0",
         "0.0",
         "0.0",
         "0.0",
         "0.0",
         "0.0",
         "0.0",
         "0.0",
         "0.0",
         "0.0",
         "0.0",
         "0.0",
         "0.0",
         "0.0",
         "0.0",
         "0.0",
         "0.0",
         "0.0",
         "0.0",
         "0.0",
         "0.05652208947087717",
         "0.0",
         "0.0",
         "0.0",
         "0.0",
         "0.0",
         "0.0",
         "0.0",
         "0.0",
         "0.0",
         "0.054507843378193165",
         "0.0",
         "0.0",
         "0.0",
         "0.0",
         "0.0",
         "0.0",
         "0.0",
         "0.0",
         "0.0",
         "0.0",
         "0.0",
         "0.0",
         "0.0",
         "0.0",
         "0.0",
         "0.0",
         "0.0",
         "0.0",
         "0.0",
         "0.0",
         "0.0",
         "0.0",
         "0.0",
         "0.0",
         "0.0",
         "0.0",
         "0.0",
         "0.0",
         "0.0",
         "0.0",
         "0.0",
         "0.0",
         "0.0",
         "0.0",
         "0.0",
         "0.0",
         "0.0",
         "0.0",
         "0.0",
         "0.0",
         "0.0",
         "0.0",
         "0.0",
         "0.0",
         "0.0",
         "0.0",
         "0.0",
         "0.053989478489077536",
         "0.0",
         "0.0",
         "0.15447415698418002",
         "0.0",
         "0.0",
         "0.0",
         "0.0",
         "0.031693626544627165",
         "0.0",
         "0.0",
         "0.0",
         "0.0",
         "0.046517423852471644",
         "0.0",
         "0.0",
         "0.0",
         "0.0",
         "0.0",
         "0.0",
         "0.0",
         "0.0",
         "0.0",
         "0.0",
         "0.0",
         "0.0",
         "0.0",
         "0.0",
         "0.0",
         "0.0",
         "0.0",
         "0.0",
         "0.0",
         "0.0",
         "0.0",
         "0.0",
         "0.0",
         "0.0",
         "0.0",
         "0.0",
         "0.0",
         "0.0",
         "0.0",
         "0.0",
         "0.0",
         "0.0",
         "0.0",
         "0.0",
         "0.0",
         "0.0",
         "0.0",
         "0.0",
         "0.0",
         "0.0",
         "0.24910276838471795",
         "0.0",
         "0.0",
         "0.0",
         "0.0",
         "0.0",
         "0.0",
         "0.0",
         "0.0",
         "0.0",
         "0.0",
         "0.0",
         "0.0343354753291772",
         "0.0",
         "0.0",
         "0.0",
         "0.0",
         "0.0",
         "0.0",
         "0.0",
         "0.0",
         "0.0",
         "0.0",
         "0.0",
         "0.0",
         "0.0",
         "0.0",
         "0.0",
         "0.0",
         "0.0",
         "0.0",
         "0.0",
         "0.0",
         "0.0",
         "0.0",
         "0.0",
         "0.0",
         "0.0",
         "0.0",
         "0.0",
         "0.0",
         "0.0",
         "0.0",
         "0.0",
         "0.0",
         "0.0",
         "0.0",
         "0.0",
         "0.0",
         "0.0",
         "0.0",
         "0.0",
         "0.0",
         "0.0",
         "0.0",
         "0.0",
         "0.0",
         "0.0",
         "0.0",
         "0.0",
         "0.0",
         "0.0",
         "0.0",
         "0.0",
         "0.0",
         "0.0",
         "0.0",
         "0.0",
         "0.0",
         "0.0",
         "0.0",
         "0.0",
         "0.0",
         "0.0",
         "0.0",
         "0.0",
         "0.0",
         "0.0",
         "0.0",
         "0.0",
         "0.0",
         "0.0",
         "0.0",
         "0.0",
         "0.0",
         "0.0",
         "0.0",
         "0.0",
         "0.0",
         "0.0",
         "0.0",
         "0.0",
         "0.0",
         "0.0",
         "0.0",
         "0.034858773368040046",
         "0.0",
         "0.0",
         "0.0",
         "0.0",
         "0.0",
         "0.0",
         "0.0",
         "0.0",
         "0.0",
         "0.0",
         "0.0",
         "0.0",
         "0.0",
         "0.0",
         "0.0",
         "0.0",
         "0.0",
         "0.0",
         "0.0",
         "0.0",
         "0.0",
         "0.0",
         "0.0",
         "0.0",
         "0.0",
         "0.10962411606485864",
         "0.0",
         "0.0",
         "0.0",
         "0.0",
         "0.0",
         "0.0",
         "0.0",
         "0.0",
         "0.0",
         "0.0",
         "0.0",
         "0.0",
         "0.0",
         "0.0",
         "0.0",
         "0.0",
         "0.0",
         "0.0",
         "0.0",
         "0.0",
         "0.0",
         "0.0",
         "0.0",
         "0.0",
         "0.0",
         "0.0",
         "0.0",
         "0.0",
         "0.0",
         "0.025317294304408124",
         "0.0",
         "0.0",
         "0.0",
         "0.0",
         "0.0",
         "0.0",
         "0.0",
         "0.0",
         "0.029739399180681077",
         "0.0",
         "0.0",
         "0.0",
         "0.0",
         "0.0",
         "0.1415759658036279",
         "0.0",
         "0.0",
         "0.0",
         "0.0",
         "0.0"
        ],
        [
         "4",
         "0.0",
         "0.0",
         "0.0",
         "0.0",
         "0.0",
         "0.0",
         "0.0",
         "0.0",
         "0.0",
         "0.0",
         "0.0",
         "0.0",
         "0.0",
         "0.10148724639172653",
         "0.0",
         "0.0",
         "0.0",
         "0.0",
         "0.0",
         "0.0",
         "0.0",
         "0.0",
         "0.0",
         "0.0",
         "0.0",
         "0.0",
         "0.0",
         "0.0",
         "0.0",
         "0.0",
         "0.0",
         "0.0",
         "0.0",
         "0.0",
         "0.0",
         "0.0",
         "0.0",
         "0.0",
         "0.0",
         "0.0",
         "0.0",
         "0.0",
         "0.0",
         "0.0",
         "0.0",
         "0.0",
         "0.0",
         "0.0",
         "0.0",
         "0.0",
         "0.0",
         "0.0",
         "0.0",
         "0.0",
         "0.0",
         "0.0",
         "0.0",
         "0.0",
         "0.03947798119200713",
         "0.0",
         "0.04807555899902077",
         "0.0",
         "0.0",
         "0.0",
         "0.0",
         "0.0",
         "0.029087949480175325",
         "0.0",
         "0.0",
         "0.0",
         "0.0",
         "0.0",
         "0.0",
         "0.0",
         "0.0",
         "0.0",
         "0.0",
         "0.0",
         "0.0",
         "0.0",
         "0.0",
         "0.0",
         "0.0",
         "0.0",
         "0.0",
         "0.0",
         "0.0",
         "0.0",
         "0.029253336124711527",
         "0.0",
         "0.0",
         "0.0",
         "0.0",
         "0.029239981370165674",
         "0.0",
         "0.0",
         "0.0",
         "0.0",
         "0.0",
         "0.0",
         "0.0",
         "0.017995179737854715",
         "0.0",
         "0.0",
         "0.032565484306251856",
         "0.0",
         "0.035192941909607076",
         "0.0",
         "0.0",
         "0.0",
         "0.0",
         "0.0",
         "0.0",
         "0.026215585094216128",
         "0.0",
         "0.03565197922416448",
         "0.0",
         "0.021679217366012478",
         "0.0",
         "0.0",
         "0.0",
         "0.0",
         "0.0",
         "0.0",
         "0.0",
         "0.0",
         "0.0",
         "0.0",
         "0.0",
         "0.0",
         "0.0",
         "0.0",
         "0.0",
         "0.0",
         "0.0",
         "0.0",
         "0.0",
         "0.0",
         "0.0",
         "0.0",
         "0.0",
         "0.03108858544748292",
         "0.0",
         "0.0",
         "0.0",
         "0.0",
         "0.0",
         "0.0",
         "0.0",
         "0.0",
         "0.0",
         "0.0",
         "0.0",
         "0.0",
         "0.0",
         "0.0",
         "0.0",
         "0.0",
         "0.0",
         "0.0",
         "0.0",
         "0.0",
         "0.0",
         "0.0",
         "0.0",
         "0.0",
         "0.0",
         "0.0",
         "0.0",
         "0.0",
         "0.0",
         "0.0",
         "0.0",
         "0.0",
         "0.0",
         "0.03320788605771308",
         "0.0",
         "0.0",
         "0.0",
         "0.0",
         "0.0",
         "0.0",
         "0.0",
         "0.0",
         "0.03545683130596988",
         "0.0",
         "0.0",
         "0.0",
         "0.036897136812882224",
         "0.0",
         "0.0",
         "0.0",
         "0.0",
         "0.0",
         "0.0",
         "0.0",
         "0.0",
         "0.0",
         "0.0",
         "0.0",
         "0.0",
         "0.0",
         "0.0",
         "0.0",
         "0.0",
         "0.0",
         "0.0",
         "0.0",
         "0.0",
         "0.0",
         "0.0",
         "0.0",
         "0.0",
         "0.0",
         "0.0",
         "0.0",
         "0.022472219545066143",
         "0.0",
         "0.0",
         "0.0",
         "0.0",
         "0.0",
         "0.0",
         "0.0",
         "0.0",
         "0.0",
         "0.031457972348805555",
         "0.0",
         "0.0",
         "0.0",
         "0.0",
         "0.0",
         "0.0",
         "0.0",
         "0.0",
         "0.067930208075418",
         "0.0",
         "0.0",
         "0.0",
         "0.19399790632070063",
         "0.0",
         "0.0",
         "0.0",
         "0.0",
         "0.0",
         "0.0",
         "0.0",
         "0.0",
         "0.0",
         "0.0",
         "0.0",
         "0.0",
         "0.0",
         "0.0",
         "0.0",
         "0.0",
         "0.0",
         "0.0",
         "0.0",
         "0.0",
         "0.0",
         "0.0",
         "0.0",
         "0.0",
         "0.0",
         "0.0",
         "0.0",
         "0.0",
         "0.0",
         "0.0",
         "0.0",
         "0.0",
         "0.0",
         "0.0",
         "0.0",
         "0.0",
         "0.0",
         "0.0",
         "0.0",
         "0.0",
         "0.0",
         "0.0",
         "0.0",
         "0.0",
         "0.0",
         "0.0",
         "0.0",
         "0.0",
         "0.0",
         "0.0",
         "0.0",
         "0.0",
         "0.0",
         "0.0",
         "0.031006676874838397",
         "0.0",
         "0.0",
         "0.0",
         "0.0",
         "0.0",
         "0.0",
         "0.0",
         "0.12150762958182705",
         "0.03648566575144901",
         "0.0",
         "0.0",
         "0.0",
         "0.0",
         "0.0",
         "0.0160763885799689",
         "0.0",
         "0.0",
         "0.0",
         "0.0",
         "0.0",
         "0.0",
         "0.0",
         "0.0",
         "0.0",
         "0.0",
         "0.0",
         "0.0",
         "0.0",
         "0.0",
         "0.0",
         "0.0",
         "0.0",
         "0.0",
         "0.0",
         "0.0",
         "0.0",
         "0.0",
         "0.0",
         "0.0",
         "0.0",
         "0.0",
         "0.0",
         "0.0",
         "0.0",
         "0.0",
         "0.0",
         "0.0",
         "0.0",
         "0.0",
         "0.0",
         "0.0",
         "0.0",
         "0.0",
         "0.0",
         "0.0",
         "0.0",
         "0.0",
         "0.0",
         "0.0",
         "0.0",
         "0.0",
         "0.0",
         "0.0",
         "0.0",
         "0.0",
         "0.0",
         "0.0",
         "0.0",
         "0.0",
         "0.12866367010037438",
         "0.0",
         "0.0",
         "0.0",
         "0.0",
         "0.0",
         "0.02500655639801064",
         "0.0",
         "0.0",
         "0.0",
         "0.0",
         "0.0",
         "0.0",
         "0.0",
         "0.0",
         "0.0",
         "0.0",
         "0.0",
         "0.0",
         "0.0",
         "0.0",
         "0.0",
         "0.0",
         "0.0",
         "0.0",
         "0.0",
         "0.0",
         "0.0",
         "0.0",
         "0.0",
         "0.0",
         "0.03125504154453843",
         "0.0",
         "0.0",
         "0.034829053825205014",
         "0.0",
         "0.0",
         "0.0",
         "0.03059856415003346",
         "0.0",
         "0.0",
         "0.0",
         "0.0",
         "0.0",
         "0.0",
         "0.0",
         "0.0",
         "0.0",
         "0.0",
         "0.0",
         "0.0",
         "0.0",
         "0.0",
         "0.0",
         "0.0",
         "0.0",
         "0.0",
         "0.0",
         "0.0",
         "0.0",
         "0.0",
         "0.0",
         "0.0",
         "0.0",
         "0.0",
         "0.0",
         "0.0876984514115687",
         "0.0",
         "0.0",
         "0.06535067684007158",
         "0.041291694604848155",
         "0.0",
         "0.0",
         "0.0",
         "0.0",
         "0.0",
         "0.0",
         "0.0",
         "0.1529326053591243",
         "0.0",
         "0.0",
         "0.0",
         "0.0",
         "0.0",
         "0.0",
         "0.0",
         "0.0",
         "0.0",
         "0.0",
         "0.0",
         "0.0",
         "0.02567004427807996",
         "0.03250878028874059",
         "0.0",
         "0.0",
         "0.0",
         "0.0",
         "0.0",
         "0.0",
         "0.0",
         "0.0",
         "0.0",
         "0.0",
         "0.0",
         "0.0",
         "0.0",
         "0.0",
         "0.0",
         "0.0",
         "0.0",
         "0.0",
         "0.0",
         "0.0",
         "0.0",
         "0.0",
         "0.0",
         "0.0",
         "0.0",
         "0.0",
         "0.0",
         "0.0",
         "0.0",
         "0.0",
         "0.0",
         "0.0",
         "0.0",
         "0.0",
         "0.0",
         "0.0",
         "0.0",
         "0.0",
         "0.0",
         "0.0",
         "0.0",
         "0.0",
         "0.0",
         "0.0",
         "0.0",
         "0.0",
         "0.0",
         "0.0",
         "0.0",
         "0.0",
         "0.0",
         "0.0",
         "0.0",
         "0.03649352771723645",
         "0.0",
         "0.0",
         "0.0",
         "0.0",
         "0.0",
         "0.11750004753936837",
         "0.016531197770204824",
         "0.0",
         "0.0",
         "0.0",
         "0.0",
         "0.0",
         "0.017091485575640747",
         "0.0",
         "0.0",
         "0.0",
         "0.0",
         "0.0",
         "0.0605341417181892",
         "0.0",
         "0.0",
         "0.0",
         "0.0",
         "0.0",
         "0.0",
         "0.0",
         "0.0",
         "0.0",
         "0.0",
         "0.0",
         "0.0",
         "0.0",
         "0.03121907071315613",
         "0.028738361433300497",
         "0.0",
         "0.0",
         "0.0",
         "0.0",
         "0.0",
         "0.0",
         "0.0",
         "0.0",
         "0.0",
         "0.05688556522144617",
         "0.0",
         "0.0",
         "0.0",
         "0.08218005793296973",
         "0.027153338014576273",
         "0.0",
         "0.0",
         "0.0",
         "0.0",
         "0.0",
         "0.0",
         "0.0",
         "0.0",
         "0.0",
         "0.0",
         "0.03345387458618836",
         "0.0",
         "0.0",
         "0.0",
         "0.01847202445076057",
         "0.0",
         "0.0",
         "0.0",
         "0.0",
         "0.0",
         "0.0",
         "0.0",
         "0.029078863826064495",
         "0.0",
         "0.0",
         "0.0",
         "0.0",
         "0.0",
         "0.0",
         "0.0",
         "0.08723659147819349",
         "0.0",
         "0.0",
         "0.0",
         "0.0",
         "0.0",
         "0.0",
         "0.03968877306928617",
         "0.0",
         "0.0",
         "0.0",
         "0.0",
         "0.0",
         "0.0",
         "0.03233190199029409",
         "0.0",
         "0.0",
         "0.0",
         "0.0",
         "0.0",
         "0.0",
         "0.0",
         "0.0",
         "0.0",
         "0.0",
         "0.0",
         "0.0",
         "0.0",
         "0.0",
         "0.0",
         "0.0",
         "0.0",
         "0.0",
         "0.0",
         "0.0",
         "0.0",
         "0.0",
         "0.0",
         "0.0",
         "0.0",
         "0.0",
         "0.0",
         "0.0",
         "0.0",
         "0.03314120049597337",
         "0.0",
         "0.0",
         "0.0",
         "0.0",
         "0.0",
         "0.0",
         "0.0",
         "0.0",
         "0.0",
         "0.0",
         "0.0",
         "0.0",
         "0.0",
         "0.0",
         "0.0",
         "0.0",
         "0.0",
         "0.0",
         "0.0",
         "0.0",
         "0.0",
         "0.0",
         "0.0",
         "0.0",
         "0.0",
         "0.0",
         "0.0",
         "0.0",
         "0.0",
         "0.0",
         "0.0",
         "0.0",
         "0.0",
         "0.03409082656787762",
         "0.0",
         "0.0",
         "0.0",
         "0.0",
         "0.0",
         "0.0",
         "0.0",
         "0.0",
         "0.0",
         "0.0",
         "0.0",
         "0.0",
         "0.06052708862649251",
         "0.0",
         "0.0",
         "0.014195579675279086",
         "0.0",
         "0.0",
         "0.0",
         "0.0",
         "0.0",
         "0.0",
         "0.0",
         "0.0",
         "0.0",
         "0.0",
         "0.0",
         "0.0",
         "0.0",
         "0.03576573496701474",
         "0.0",
         "0.0",
         "0.0",
         "0.0",
         "0.0",
         "0.0",
         "0.0",
         "0.0",
         "0.027865240449399094",
         "0.0",
         "0.0",
         "0.0",
         "0.0",
         "0.0",
         "0.0",
         "0.0",
         "0.0",
         "0.0",
         "0.0",
         "0.0",
         "0.0",
         "0.0",
         "0.0",
         "0.0",
         "0.0",
         "0.0",
         "0.0",
         "0.0",
         "0.0",
         "0.0",
         "0.0",
         "0.0",
         "0.0",
         "0.0",
         "0.0",
         "0.0",
         "0.0",
         "0.0",
         "0.0",
         "0.0",
         "0.0",
         "0.0",
         "0.0",
         "0.0",
         "0.0",
         "0.0",
         "0.0",
         "0.0",
         "0.0",
         "0.0",
         "0.0",
         "0.021325639215777306",
         "0.0",
         "0.0",
         "0.0",
         "0.0",
         "0.0",
         "0.0",
         "0.0",
         "0.0",
         "0.0",
         "0.0",
         "0.0",
         "0.0",
         "0.0",
         "0.0",
         "0.0",
         "0.0",
         "0.0",
         "0.0",
         "0.0",
         "0.0",
         "0.0",
         "0.0",
         "0.0",
         "0.0",
         "0.0",
         "0.0",
         "0.0",
         "0.0",
         "0.0",
         "0.0",
         "0.0",
         "0.0",
         "0.0",
         "0.0",
         "0.0",
         "0.0",
         "0.0",
         "0.0",
         "0.017867006086735433",
         "0.0",
         "0.0",
         "0.0",
         "0.0",
         "0.0",
         "0.0",
         "0.0",
         "0.0",
         "0.0",
         "0.0",
         "0.0",
         "0.0",
         "0.0",
         "0.0",
         "0.0",
         "0.0",
         "0.0",
         "0.0",
         "0.026419178922288834",
         "0.0",
         "0.0",
         "0.0",
         "0.0",
         "0.0",
         "0.0",
         "0.12352744942585152",
         "0.0",
         "0.0",
         "0.0",
         "0.0",
         "0.0",
         "0.0",
         "0.0",
         "0.0",
         "0.0",
         "0.0",
         "0.0",
         "0.0",
         "0.0",
         "0.0",
         "0.0",
         "0.0",
         "0.0",
         "0.022427115398068825",
         "0.0",
         "0.0",
         "0.0",
         "0.0",
         "0.0",
         "0.0",
         "0.0",
         "0.0",
         "0.0",
         "0.0",
         "0.0",
         "0.0",
         "0.0",
         "0.0",
         "0.0",
         "0.0",
         "0.0",
         "0.0",
         "0.0",
         "0.0",
         "0.0",
         "0.0",
         "0.0",
         "0.0",
         "0.03248997061133471",
         "0.0",
         "0.022855018881612187",
         "0.0",
         "0.0",
         "0.0",
         "0.0",
         "0.0",
         "0.0",
         "0.0",
         "0.0",
         "0.0",
         "0.0",
         "0.02449364068987946",
         "0.0",
         "0.0",
         "0.03164525887633499",
         "0.0",
         "0.0",
         "0.0",
         "0.0",
         "0.0",
         "0.03384650439829552",
         "0.0",
         "0.0",
         "0.0",
         "0.0",
         "0.0",
         "0.0",
         "0.0",
         "0.01786486388652364",
         "0.03674940885689033",
         "0.0",
         "0.0",
         "0.0",
         "0.0",
         "0.0",
         "0.0",
         "0.0",
         "0.04143901763171432",
         "0.0",
         "0.0",
         "0.0",
         "0.0",
         "0.0",
         "0.0",
         "0.0",
         "0.0",
         "0.0",
         "0.0",
         "0.0",
         "0.0",
         "0.0",
         "0.0",
         "0.0",
         "0.0",
         "0.0",
         "0.0",
         "0.01888261228294466",
         "0.0",
         "0.0",
         "0.0",
         "0.02522639243948627",
         "0.0",
         "0.0",
         "0.0",
         "0.0",
         "0.0",
         "0.0",
         "0.0",
         "0.0",
         "0.0",
         "0.0",
         "0.0",
         "0.0",
         "0.04160436869506315",
         "0.04438842506036843",
         "0.0",
         "0.0",
         "0.0",
         "0.0",
         "0.0",
         "0.0",
         "0.0",
         "0.0",
         "0.0",
         "0.0",
         "0.0",
         "0.0",
         "0.0280565579482075",
         "0.0",
         "0.0",
         "0.0",
         "0.0",
         "0.0",
         "0.0",
         "0.0",
         "0.0",
         "0.0",
         "0.0",
         "0.0",
         "0.0",
         "0.0",
         "0.0",
         "0.0",
         "0.0",
         "0.0",
         "0.03180733616108651",
         "0.0",
         "0.08305754455871753",
         "0.0",
         "0.0",
         "0.0",
         "0.0",
         "0.0",
         "0.0",
         "0.0",
         "0.0",
         "0.0",
         "0.0",
         "0.0",
         "0.0",
         "0.0",
         "0.0",
         "0.05042353799887483",
         "0.0",
         "0.0",
         "0.0",
         "0.0",
         "0.0",
         "0.0",
         "0.0",
         "0.0",
         "0.0",
         "0.0",
         "0.030109941108551325",
         "0.0",
         "0.0",
         "0.0",
         "0.0",
         "0.0",
         "0.0",
         "0.0",
         "0.0",
         "0.0",
         "0.0",
         "0.0",
         "0.0",
         "0.0",
         "0.0",
         "0.0",
         "0.0",
         "0.0",
         "0.0",
         "0.0",
         "0.0",
         "0.0",
         "0.0",
         "0.0",
         "0.0",
         "0.0",
         "0.0",
         "0.0",
         "0.0",
         "0.0",
         "0.0",
         "0.0",
         "0.0",
         "0.0",
         "0.0",
         "0.0",
         "0.0",
         "0.0",
         "0.0",
         "0.0",
         "0.0",
         "0.0",
         "0.0",
         "0.0",
         "0.0",
         "0.0",
         "0.0",
         "0.0",
         "0.0",
         "0.0",
         "0.0",
         "0.0",
         "0.0",
         "0.0",
         "0.0",
         "0.0",
         "0.0",
         "0.0",
         "0.0",
         "0.0",
         "0.08440860336955695",
         "0.0",
         "0.0",
         "0.0",
         "0.0",
         "0.0",
         "0.0",
         "0.0",
         "0.0",
         "0.0",
         "0.0",
         "0.0",
         "0.0",
         "0.028139250503586326",
         "0.0",
         "0.0",
         "0.0",
         "0.0",
         "0.017176612476817215",
         "0.0",
         "0.04947095464101361",
         "0.0",
         "0.0",
         "0.0",
         "0.0",
         "0.0",
         "0.0",
         "0.0",
         "0.03305485172272075",
         "0.0",
         "0.028288166308964868",
         "0.0",
         "0.0",
         "0.0",
         "0.0",
         "0.0",
         "0.0",
         "0.0",
         "0.0",
         "0.0",
         "0.0",
         "0.028741258873360865",
         "0.0",
         "0.0",
         "0.0",
         "0.0",
         "0.0",
         "0.0",
         "0.027082801273602672",
         "0.0",
         "0.0",
         "0.0",
         "0.0",
         "0.0",
         "0.07605582169288821",
         "0.0",
         "0.017362423589524903",
         "0.0",
         "0.0",
         "0.037402061537701765",
         "0.0",
         "0.0",
         "0.0",
         "0.06443538884216232",
         "0.0",
         "0.0",
         "0.0",
         "0.0",
         "0.0",
         "0.0",
         "0.0",
         "0.0",
         "0.0",
         "0.0",
         "0.0",
         "0.0",
         "0.0",
         "0.0",
         "0.0",
         "0.0",
         "0.0",
         "0.0",
         "0.0",
         "0.0",
         "0.0",
         "0.0",
         "0.0",
         "0.0",
         "0.0",
         "0.0",
         "0.0",
         "0.0",
         "0.0",
         "0.0",
         "0.0",
         "0.0",
         "0.026306118647226984",
         "0.0",
         "0.0",
         "0.0",
         "0.0",
         "0.0",
         "0.0",
         "0.03673316682052372",
         "0.0",
         "0.0",
         "0.0",
         "0.0",
         "0.0",
         "0.0",
         "0.0",
         "0.0",
         "0.0",
         "0.0",
         "0.0",
         "0.0",
         "0.0",
         "0.0",
         "0.0",
         "0.0",
         "0.0",
         "0.0",
         "0.0",
         "0.0",
         "0.0",
         "0.0",
         "0.0",
         "0.0",
         "0.0",
         "0.0",
         "0.0",
         "0.0",
         "0.0",
         "0.02840939034181895",
         "0.0",
         "0.0",
         "0.0",
         "0.0",
         "0.03484176035922247",
         "0.0",
         "0.0",
         "0.0",
         "0.0",
         "0.0",
         "0.0",
         "0.0",
         "0.0",
         "0.0",
         "0.0",
         "0.0",
         "0.0",
         "0.0",
         "0.0",
         "0.0",
         "0.0",
         "0.0",
         "0.0",
         "0.0",
         "0.0",
         "0.0",
         "0.0",
         "0.0",
         "0.0",
         "0.0",
         "0.0",
         "0.0",
         "0.036109868110765705",
         "0.0",
         "0.0",
         "0.0",
         "0.0",
         "0.0",
         "0.0",
         "0.0",
         "0.0",
         "0.0",
         "0.0",
         "0.0",
         "0.0",
         "0.0",
         "0.0",
         "0.0",
         "0.0",
         "0.0",
         "0.0",
         "0.0",
         "0.0",
         "0.0",
         "0.0",
         "0.0",
         "0.0",
         "0.0",
         "0.0",
         "0.0",
         "0.016646899587419123",
         "0.0",
         "0.0",
         "0.0",
         "0.0",
         "0.0",
         "0.020461296273653607",
         "0.0",
         "0.0",
         "0.0",
         "0.0",
         "0.021304483215524854",
         "0.0",
         "0.0",
         "0.0",
         "0.0",
         "0.0",
         "0.0",
         "0.0",
         "0.0",
         "0.0",
         "0.0",
         "0.0",
         "0.0",
         "0.0",
         "0.0",
         "0.0",
         "0.0",
         "0.0",
         "0.0",
         "0.0277089106506995",
         "0.0",
         "0.030841608261842506",
         "0.0",
         "0.0",
         "0.0",
         "0.0",
         "0.0",
         "0.0",
         "0.0",
         "0.0",
         "0.0",
         "0.0",
         "0.017050876698568033",
         "0.0",
         "0.0",
         "0.0",
         "0.02656450158036151",
         "0.0",
         "0.0",
         "0.0",
         "0.0",
         "0.025833704005802694",
         "0.0",
         "0.0",
         "0.0",
         "0.0",
         "0.0",
         "0.0",
         "0.0",
         "0.0",
         "0.0",
         "0.02396225049959",
         "0.0",
         "0.0",
         "0.0",
         "0.0",
         "0.07520852404733355",
         "0.03477213038081652",
         "0.0",
         "0.0",
         "0.028027425866927507",
         "0.0",
         "0.0",
         "0.0",
         "0.1589456128882489",
         "0.0",
         "0.0",
         "0.0",
         "0.0",
         "0.0",
         "0.0",
         "0.013586350335903889",
         "0.0",
         "0.0",
         "0.0",
         "0.0",
         "0.0",
         "0.0",
         "0.0",
         "0.0",
         "0.03775708695179222",
         "0.0",
         "0.0",
         "0.0",
         "0.0",
         "0.0",
         "0.0",
         "0.0",
         "0.0",
         "0.0",
         "0.0",
         "0.0",
         "0.0",
         "0.0",
         "0.0",
         "0.0",
         "0.0",
         "0.0",
         "0.0",
         "0.0",
         "0.0",
         "0.0",
         "0.0",
         "0.0",
         "0.0",
         "0.0",
         "0.0",
         "0.0",
         "0.0",
         "0.0",
         "0.0",
         "0.02171664972685761",
         "0.0",
         "0.0",
         "0.0",
         "0.0",
         "0.0",
         "0.0",
         "0.0",
         "0.0",
         "0.0",
         "0.0",
         "0.0",
         "0.0",
         "0.0",
         "0.0",
         "0.0",
         "0.0",
         "0.0",
         "0.0",
         "0.0",
         "0.0",
         "0.0",
         "0.0",
         "0.0",
         "0.0",
         "0.0",
         "0.04325840031794457",
         "0.0",
         "0.0",
         "0.0",
         "0.0",
         "0.0",
         "0.0",
         "0.0",
         "0.0",
         "0.0",
         "0.0",
         "0.0",
         "0.0",
         "0.0",
         "0.0",
         "0.0",
         "0.0",
         "0.0",
         "0.0",
         "0.0",
         "0.0",
         "0.0",
         "0.0",
         "0.0",
         "0.0",
         "0.0",
         "0.0",
         "0.0",
         "0.0",
         "0.0",
         "0.0",
         "0.0",
         "0.0",
         "0.0",
         "0.0",
         "0.0",
         "0.0",
         "0.0",
         "0.04289853494762631",
         "0.0",
         "0.0",
         "0.0",
         "0.0",
         "0.0",
         "0.0",
         "0.0",
         "0.0",
         "0.0",
         "0.0",
         "0.0",
         "0.0",
         "0.0",
         "0.0",
         "0.0",
         "0.0",
         "0.0",
         "0.0",
         "0.0",
         "0.0",
         "0.0",
         "0.0",
         "0.0",
         "0.0",
         "0.0",
         "0.0",
         "0.0",
         "0.0",
         "0.0",
         "0.0",
         "0.0",
         "0.0",
         "0.0",
         "0.0",
         "0.0",
         "0.0",
         "0.0",
         "0.0",
         "0.028470583467992774",
         "0.03391391747497785",
         "0.0",
         "0.0",
         "0.0",
         "0.0",
         "0.0",
         "0.0",
         "0.0",
         "0.0",
         "0.0",
         "0.0",
         "0.0",
         "0.0",
         "0.027831659303324274",
         "0.0",
         "0.0",
         "0.02829090048421822",
         "0.0",
         "0.0",
         "0.0",
         "0.0",
         "0.0",
         "0.0",
         "0.0",
         "0.0",
         "0.0",
         "0.0",
         "0.0",
         "0.0",
         "0.0",
         "0.0",
         "0.0",
         "0.0",
         "0.0",
         "0.0",
         "0.1451623321365746",
         "0.02901255861243674",
         "0.0",
         "0.0",
         "0.0",
         "0.0",
         "0.0",
         "0.0",
         "0.0",
         "0.0",
         "0.0",
         "0.0",
         "0.0",
         "0.034678175738181015",
         "0.0",
         "0.0",
         "0.0",
         "0.0",
         "0.0",
         "0.08184249287528597",
         "0.0",
         "0.0",
         "0.0",
         "0.0",
         "0.0",
         "0.0",
         "0.0",
         "0.0",
         "0.0",
         "0.0",
         "0.0",
         "0.0",
         "0.0",
         "0.0",
         "0.02669253804829494",
         "0.0",
         "0.0",
         "0.0",
         "0.0",
         "0.0",
         "0.0",
         "0.0",
         "0.0",
         "0.0",
         "0.039295297691588175",
         "0.0",
         "0.0",
         "0.0",
         "0.0",
         "0.0",
         "0.036947010799504396",
         "0.0",
         "0.0",
         "0.3647510315900329",
         "0.0",
         "0.0",
         "0.0",
         "0.0",
         "0.0",
         "0.033631368834409044",
         "0.0",
         "0.0",
         "0.0",
         "0.0",
         "0.0",
         "0.0",
         "0.0",
         "0.0408727965290557",
         "0.0",
         "0.0",
         "0.03400472190837896",
         "0.0",
         "0.0",
         "0.0",
         "0.019642212640333525",
         "0.0",
         "0.0",
         "0.0",
         "0.0",
         "0.07800266439777188",
         "0.0",
         "0.0",
         "0.0",
         "0.0",
         "0.02616759007973665",
         "0.0",
         "0.0",
         "0.0",
         "0.0",
         "0.0",
         "0.0",
         "0.0",
         "0.0",
         "0.0",
         "0.0",
         "0.0",
         "0.0",
         "0.21634001549559348",
         "0.0",
         "0.0",
         "0.0",
         "0.0",
         "0.0",
         "0.0",
         "0.0",
         "0.0",
         "0.0",
         "0.026421328040794362",
         "0.0",
         "0.0",
         "0.04010325999771422",
         "0.0",
         "0.0",
         "0.0",
         "0.0",
         "0.0",
         "0.032742975230974164",
         "0.0",
         "0.0",
         "0.0",
         "0.0",
         "0.020891982423250605",
         "0.0",
         "0.0",
         "0.0",
         "0.0",
         "0.0",
         "0.0",
         "0.03951271812043457",
         "0.0",
         "0.0",
         "0.0",
         "0.0",
         "0.0",
         "0.0",
         "0.0",
         "0.0",
         "0.020423482786832835",
         "0.0",
         "0.0",
         "0.0",
         "0.0",
         "0.01758509256374623",
         "0.0",
         "0.0",
         "0.0",
         "0.0",
         "0.0",
         "0.0",
         "0.0",
         "0.0",
         "0.0",
         "0.0",
         "0.0",
         "0.0",
         "0.0",
         "0.16339757149987744",
         "0.0",
         "0.0",
         "0.0",
         "0.0",
         "0.0",
         "0.0",
         "0.0",
         "0.0",
         "0.0",
         "0.0",
         "0.0",
         "0.0",
         "0.0",
         "0.0",
         "0.0",
         "0.0",
         "0.0",
         "0.06348140078575541",
         "0.0",
         "0.0",
         "0.0",
         "0.0",
         "0.0",
         "0.0",
         "0.0",
         "0.0",
         "0.0",
         "0.1338367760175328",
         "0.0",
         "0.0",
         "0.0",
         "0.0",
         "0.0",
         "0.0",
         "0.0",
         "0.0",
         "0.0",
         "0.0",
         "0.0",
         "0.0",
         "0.0",
         "0.0",
         "0.0",
         "0.0",
         "0.0",
         "0.0",
         "0.0",
         "0.0",
         "0.0",
         "0.0",
         "0.0",
         "0.0",
         "0.0",
         "0.0",
         "0.0",
         "0.0",
         "0.0",
         "0.0",
         "0.0",
         "0.0",
         "0.0",
         "0.0",
         "0.0",
         "0.0",
         "0.0",
         "0.0",
         "0.0",
         "0.0",
         "0.0",
         "0.0",
         "0.0",
         "0.0",
         "0.0",
         "0.0",
         "0.0",
         "0.0",
         "0.0",
         "0.0",
         "0.0",
         "0.0",
         "0.0",
         "0.0",
         "0.0",
         "0.0",
         "0.0",
         "0.0",
         "0.0",
         "0.0",
         "0.0",
         "0.0",
         "0.0",
         "0.0",
         "0.0",
         "0.0",
         "0.0",
         "0.0",
         "0.0",
         "0.0",
         "0.0",
         "0.0",
         "0.0",
         "0.0",
         "0.0",
         "0.0",
         "0.0",
         "0.0",
         "0.0",
         "0.0",
         "0.025879672703026463",
         "0.0",
         "0.0",
         "0.0",
         "0.0",
         "0.0",
         "0.0",
         "0.0",
         "0.0",
         "0.06570093337020434",
         "0.0",
         "0.0",
         "0.0",
         "0.0",
         "0.0",
         "0.0",
         "0.0",
         "0.0",
         "0.0",
         "0.0",
         "0.0",
         "0.032419837428433546",
         "0.0",
         "0.0",
         "0.0",
         "0.0",
         "0.0",
         "0.0",
         "0.0263145942927758",
         "0.0",
         "0.0",
         "0.0",
         "0.0",
         "0.0",
         "0.0",
         "0.0",
         "0.0",
         "0.0",
         "0.0",
         "0.0",
         "0.0",
         "0.0",
         "0.0",
         "0.0",
         "0.0",
         "0.0",
         "0.0",
         "0.0",
         "0.0",
         "0.0",
         "0.0",
         "0.0",
         "0.0",
         "0.0",
         "0.0",
         "0.0",
         "0.08360887044210351",
         "0.0",
         "0.0",
         "0.0",
         "0.0",
         "0.03149093923720139",
         "0.0",
         "0.0",
         "0.0",
         "0.0",
         "0.0",
         "0.0",
         "0.0",
         "0.0",
         "0.03410237968094952",
         "0.0",
         "0.0",
         "0.0",
         "0.0",
         "0.0",
         "0.0",
         "0.0",
         "0.0",
         "0.030952547338971317",
         "0.0",
         "0.0",
         "0.0",
         "0.03854643126590294",
         "0.0",
         "0.0",
         "0.0",
         "0.0",
         "0.02543368548757875",
         "0.0",
         "0.0",
         "0.0",
         "0.0",
         "0.0",
         "0.0",
         "0.0",
         "0.03439694044924747",
         "0.0",
         "0.0",
         "0.0",
         "0.0",
         "0.0",
         "0.0",
         "0.0",
         "0.0",
         "0.0",
         "0.0",
         "0.0",
         "0.0",
         "0.0",
         "0.0",
         "0.0",
         "0.0",
         "0.0",
         "0.0",
         "0.0",
         "0.0",
         "0.0",
         "0.0",
         "0.0",
         "0.0",
         "0.01307560392288634",
         "0.0",
         "0.0",
         "0.15120487058017548",
         "0.0",
         "0.0",
         "0.0",
         "0.0",
         "0.0",
         "0.0",
         "0.0",
         "0.0",
         "0.0",
         "0.0",
         "0.0",
         "0.0",
         "0.0",
         "0.0",
         "0.029620991798342374",
         "0.030380774537958385",
         "0.0",
         "0.0",
         "0.0",
         "0.0",
         "0.0",
         "0.0",
         "0.0",
         "0.0",
         "0.0",
         "0.0",
         "0.0",
         "0.0",
         "0.0",
         "0.0",
         "0.0",
         "0.0",
         "0.0",
         "0.02306698176233826",
         "0.0",
         "0.0",
         "0.0",
         "0.0",
         "0.0",
         "0.0",
         "0.0",
         "0.036360945148774325",
         "0.0",
         "0.0",
         "0.0",
         "0.0",
         "0.0",
         "0.0",
         "0.0",
         "0.0",
         "0.0",
         "0.06436675155374989",
         "0.0",
         "0.0",
         "0.0",
         "0.0",
         "0.0",
         "0.0",
         "0.0",
         "0.0",
         "0.0",
         "0.0",
         "0.0",
         "0.0",
         "0.0",
         "0.0",
         "0.0",
         "0.0",
         "0.0",
         "0.0",
         "0.0",
         "0.0",
         "0.0",
         "0.0",
         "0.08264187282348064",
         "0.0",
         "0.0",
         "0.0",
         "0.0",
         "0.0",
         "0.0",
         "0.0",
         "0.0",
         "0.01793226866125422",
         "0.0",
         "0.0",
         "0.0",
         "0.0",
         "0.04165008241232931",
         "0.0",
         "0.0",
         "0.0",
         "0.0",
         "0.0",
         "0.0",
         "0.0",
         "0.0",
         "0.0",
         "0.0",
         "0.0",
         "0.0",
         "0.0",
         "0.0",
         "0.0",
         "0.0",
         "0.0",
         "0.0",
         "0.5120023629231606",
         "0.0",
         "0.048398292191634294",
         "0.0",
         "0.0",
         "0.0",
         "0.0",
         "0.0",
         "0.0",
         "0.0",
         "0.0",
         "0.0",
         "0.0",
         "0.0",
         "0.02773941635026893",
         "0.043071686110350796",
         "0.0",
         "0.03551208912323863",
         "0.08223703921197437",
         "0.0",
         "0.0",
         "0.0",
         "0.0",
         "0.0",
         "0.0",
         "0.01855039528722782",
         "0.0",
         "0.0",
         "0.0",
         "0.0",
         "0.0",
         "0.0",
         "0.0",
         "0.0",
         "0.0",
         "0.0",
         "0.0",
         "0.0",
         "0.03806769423209672",
         "0.0",
         "0.0",
         "0.0",
         "0.0",
         "0.0",
         "0.0",
         "0.0",
         "0.0",
         "0.0",
         "0.0",
         "0.02890230669229853",
         "0.0",
         "0.0",
         "0.0",
         "0.0",
         "0.0",
         "0.0",
         "0.0",
         "0.0",
         "0.0",
         "0.0",
         "0.0",
         "0.0",
         "0.0",
         "0.0",
         "0.0",
         "0.0",
         "0.0",
         "0.0",
         "0.0",
         "0.0",
         "0.0",
         "0.0",
         "0.0",
         "0.0",
         "0.0",
         "0.0",
         "0.0",
         "0.0",
         "0.0",
         "0.0",
         "0.0",
         "0.0",
         "0.0",
         "0.0",
         "0.0",
         "0.0",
         "0.031704459417937376",
         "0.0",
         "0.0",
         "0.0",
         "0.0",
         "0.025774150986476948",
         "0.0",
         "0.0",
         "0.0",
         "0.0",
         "0.0",
         "0.0",
         "0.0",
         "0.0",
         "0.0",
         "0.0",
         "0.0",
         "0.0",
         "0.0",
         "0.0",
         "0.0",
         "0.0",
         "0.0",
         "0.02687277132519301",
         "0.0",
         "0.0",
         "0.0",
         "0.0",
         "0.0",
         "0.0",
         "0.0",
         "0.0",
         "0.035787250982314604",
         "0.0",
         "0.0",
         "0.0",
         "0.038750636084450035",
         "0.0",
         "0.0",
         "0.0",
         "0.0",
         "0.026301884291762518",
         "0.0",
         "0.0",
         "0.0",
         "0.0",
         "0.0",
         "0.0",
         "0.0",
         "0.0",
         "0.0",
         "0.0",
         "0.0",
         "0.0",
         "0.0",
         "0.0",
         "0.0",
         "0.0",
         "0.0",
         "0.0",
         "0.0",
         "0.0",
         "0.0",
         "0.0",
         "0.0",
         "0.0",
         "0.0",
         "0.0",
         "0.0",
         "0.0",
         "0.0",
         "0.0",
         "0.0",
         "0.0",
         "0.0",
         "0.0",
         "0.0",
         "0.0",
         "0.0",
         "0.0",
         "0.0",
         "0.0",
         "0.0",
         "0.0",
         "0.0",
         "0.0",
         "0.0",
         "0.0",
         "0.0",
         "0.0",
         "0.0",
         "0.0",
         "0.0",
         "0.0",
         "0.0",
         "0.0",
         "0.0",
         "0.0",
         "0.0",
         "0.0",
         "0.0",
         "0.0",
         "0.0",
         "0.0",
         "0.0",
         "0.0",
         "0.05335394572164209",
         "0.0",
         "0.0",
         "0.0",
         "0.043202314460997246",
         "0.0",
         "0.0",
         "0.0",
         "0.0",
         "0.0",
         "0.054723190028727685",
         "0.0",
         "0.0",
         "0.0",
         "0.0",
         "0.0",
         "0.0",
         "0.0",
         "0.0",
         "0.0",
         "0.03264173970678658",
         "0.0",
         "0.0",
         "0.038584116230650875",
         "0.035477506925517446",
         "0.0",
         "0.0",
         "0.0",
         "0.0",
         "0.0",
         "0.0",
         "0.0",
         "0.0",
         "0.0",
         "0.03280142236185551",
         "0.0",
         "0.0",
         "0.0",
         "0.0",
         "0.0",
         "0.0",
         "0.0",
         "0.0",
         "0.0",
         "0.0",
         "0.0",
         "0.03178982246099985",
         "0.0",
         "0.024947665921825176",
         "0.0",
         "0.0",
         "0.0",
         "0.0",
         "0.0",
         "0.0",
         "0.0",
         "0.0",
         "0.0",
         "0.0",
         "0.0",
         "0.0",
         "0.0",
         "0.0",
         "0.0",
         "0.0",
         "0.015742850670955405",
         "0.0",
         "0.0",
         "0.0",
         "0.0",
         "0.0",
         "0.0",
         "0.0",
         "0.0",
         "0.0",
         "0.0",
         "0.0",
         "0.0",
         "0.09427543456710868",
         "0.0",
         "0.0",
         "0.0",
         "0.0",
         "0.0",
         "0.0",
         "0.0",
         "0.0",
         "0.0",
         "0.0",
         "0.0",
         "0.0",
         "0.0",
         "0.0",
         "0.0",
         "0.0",
         "0.0",
         "0.0",
         "0.0",
         "0.0",
         "0.0",
         "0.0",
         "0.0",
         "0.0",
         "0.0",
         "0.0",
         "0.0",
         "0.0",
         "0.0",
         "0.0",
         "0.0",
         "0.0",
         "0.0",
         "0.0",
         "0.0",
         "0.03092562344086512",
         "0.0",
         "0.10154676383322352",
         "0.0",
         "0.0",
         "0.0",
         "0.0",
         "0.0",
         "0.0",
         "0.02395442498683024",
         "0.0",
         "0.0778747413601617",
         "0.0",
         "0.02461872789409497",
         "0.0",
         "0.0",
         "0.0",
         "0.0",
         "0.0",
         "0.0",
         "0.0",
         "0.0",
         "0.0",
         "0.0",
         "0.0",
         "0.0",
         "0.0",
         "0.0",
         "0.0",
         "0.0",
         "0.0",
         "0.0",
         "0.05378384609935802",
         "0.0",
         "0.0",
         "0.0",
         "0.0",
         "0.0",
         "0.0",
         "0.0",
         "0.0",
         "0.0",
         "0.0",
         "0.0",
         "0.0",
         "0.0",
         "0.0",
         "0.0",
         "0.0",
         "0.0",
         "0.0",
         "0.032899822798892774",
         "0.0",
         "0.0",
         "0.0",
         "0.0",
         "0.0",
         "0.0",
         "0.0",
         "0.0",
         "0.0",
         "0.0",
         "0.0",
         "0.0",
         "0.0",
         "0.0",
         "0.0",
         "0.0",
         "0.0",
         "0.0",
         "0.0",
         "0.0",
         "0.0",
         "0.0",
         "0.0",
         "0.0",
         "0.0",
         "0.0",
         "0.0",
         "0.0",
         "0.0",
         "0.0",
         "0.0",
         "0.0",
         "0.0",
         "0.0",
         "0.0",
         "0.0",
         "0.0",
         "0.0",
         "0.0",
         "0.01762237160476558",
         "0.0",
         "0.0",
         "0.02829090048421822",
         "0.0",
         "0.0",
         "0.035525454510940156",
         "0.0",
         "0.0",
         "0.0",
         "0.0",
         "0.0",
         "0.0",
         "0.0",
         "0.0",
         "0.0",
         "0.0",
         "0.0",
         "0.0",
         "0.031954644428321514",
         "0.0",
         "0.0",
         "0.0",
         "0.0",
         "0.0",
         "0.0",
         "0.0",
         "0.0",
         "0.0",
         "0.0",
         "0.022868608401188404",
         "0.0",
         "0.018620116603293657",
         "0.0",
         "0.0",
         "0.0",
         "0.0",
         "0.0",
         "0.0",
         "0.0",
         "0.0",
         "0.0",
         "0.0",
         "0.0",
         "0.0",
         "0.0",
         "0.0",
         "0.0",
         "0.0",
         "0.028174191873686267",
         "0.0",
         "0.0",
         "0.0",
         "0.0",
         "0.0",
         "0.0",
         "0.0",
         "0.021900561747685777",
         "0.0",
         "0.0",
         "0.0",
         "0.0",
         "0.01290074635810263",
         "0.0",
         "0.0",
         "0.024475217513060792",
         "0.0",
         "0.0",
         "0.0",
         "0.0",
         "0.0",
         "0.0757704281230263",
         "0.0",
         "0.0",
         "0.0",
         "0.0",
         "0.0",
         "0.0",
         "0.0",
         "0.0",
         "0.0",
         "0.0",
         "0.0"
        ]
       ],
       "shape": {
        "columns": 2485,
        "rows": 5
       }
      },
      "text/html": [
       "<div>\n",
       "<style scoped>\n",
       "    .dataframe tbody tr th:only-of-type {\n",
       "        vertical-align: middle;\n",
       "    }\n",
       "\n",
       "    .dataframe tbody tr th {\n",
       "        vertical-align: top;\n",
       "    }\n",
       "\n",
       "    .dataframe thead th {\n",
       "        text-align: right;\n",
       "    }\n",
       "</style>\n",
       "<table border=\"1\" class=\"dataframe\">\n",
       "  <thead>\n",
       "    <tr style=\"text-align: right;\">\n",
       "      <th></th>\n",
       "      <th></th>\n",
       "      <th>abandon</th>\n",
       "      <th>abc</th>\n",
       "      <th>ability</th>\n",
       "      <th>able</th>\n",
       "      <th>abortion</th>\n",
       "      <th>abroad</th>\n",
       "      <th>absolute</th>\n",
       "      <th>absolutely</th>\n",
       "      <th>abuse</th>\n",
       "      <th>...</th>\n",
       "      <th>yemen</th>\n",
       "      <th>yes</th>\n",
       "      <th>yesterday</th>\n",
       "      <th>yet</th>\n",
       "      <th>york</th>\n",
       "      <th>young</th>\n",
       "      <th>youth</th>\n",
       "      <th>youtube</th>\n",
       "      <th>zero</th>\n",
       "      <th>zone</th>\n",
       "    </tr>\n",
       "  </thead>\n",
       "  <tbody>\n",
       "    <tr>\n",
       "      <th>0</th>\n",
       "      <td>0.0</td>\n",
       "      <td>0.0</td>\n",
       "      <td>0.0</td>\n",
       "      <td>0.0</td>\n",
       "      <td>0.0</td>\n",
       "      <td>0.0</td>\n",
       "      <td>0.0</td>\n",
       "      <td>0.0</td>\n",
       "      <td>0.0</td>\n",
       "      <td>0.0</td>\n",
       "      <td>...</td>\n",
       "      <td>0.0</td>\n",
       "      <td>0.0</td>\n",
       "      <td>0.0</td>\n",
       "      <td>0.030926</td>\n",
       "      <td>0.000000</td>\n",
       "      <td>0.035472</td>\n",
       "      <td>0.0</td>\n",
       "      <td>0.0</td>\n",
       "      <td>0.0</td>\n",
       "      <td>0.0</td>\n",
       "    </tr>\n",
       "    <tr>\n",
       "      <th>1</th>\n",
       "      <td>0.0</td>\n",
       "      <td>0.0</td>\n",
       "      <td>0.0</td>\n",
       "      <td>0.0</td>\n",
       "      <td>0.0</td>\n",
       "      <td>0.0</td>\n",
       "      <td>0.0</td>\n",
       "      <td>0.0</td>\n",
       "      <td>0.0</td>\n",
       "      <td>0.0</td>\n",
       "      <td>...</td>\n",
       "      <td>0.0</td>\n",
       "      <td>0.0</td>\n",
       "      <td>0.0</td>\n",
       "      <td>0.000000</td>\n",
       "      <td>0.000000</td>\n",
       "      <td>0.000000</td>\n",
       "      <td>0.0</td>\n",
       "      <td>0.0</td>\n",
       "      <td>0.0</td>\n",
       "      <td>0.0</td>\n",
       "    </tr>\n",
       "    <tr>\n",
       "      <th>2</th>\n",
       "      <td>0.0</td>\n",
       "      <td>0.0</td>\n",
       "      <td>0.0</td>\n",
       "      <td>0.0</td>\n",
       "      <td>0.0</td>\n",
       "      <td>0.0</td>\n",
       "      <td>0.0</td>\n",
       "      <td>0.0</td>\n",
       "      <td>0.0</td>\n",
       "      <td>0.0</td>\n",
       "      <td>...</td>\n",
       "      <td>0.0</td>\n",
       "      <td>0.0</td>\n",
       "      <td>0.0</td>\n",
       "      <td>0.000000</td>\n",
       "      <td>0.071376</td>\n",
       "      <td>0.000000</td>\n",
       "      <td>0.0</td>\n",
       "      <td>0.0</td>\n",
       "      <td>0.0</td>\n",
       "      <td>0.0</td>\n",
       "    </tr>\n",
       "    <tr>\n",
       "      <th>3</th>\n",
       "      <td>0.0</td>\n",
       "      <td>0.0</td>\n",
       "      <td>0.0</td>\n",
       "      <td>0.0</td>\n",
       "      <td>0.0</td>\n",
       "      <td>0.0</td>\n",
       "      <td>0.0</td>\n",
       "      <td>0.0</td>\n",
       "      <td>0.0</td>\n",
       "      <td>0.0</td>\n",
       "      <td>...</td>\n",
       "      <td>0.0</td>\n",
       "      <td>0.0</td>\n",
       "      <td>0.0</td>\n",
       "      <td>0.000000</td>\n",
       "      <td>0.141576</td>\n",
       "      <td>0.000000</td>\n",
       "      <td>0.0</td>\n",
       "      <td>0.0</td>\n",
       "      <td>0.0</td>\n",
       "      <td>0.0</td>\n",
       "    </tr>\n",
       "    <tr>\n",
       "      <th>4</th>\n",
       "      <td>0.0</td>\n",
       "      <td>0.0</td>\n",
       "      <td>0.0</td>\n",
       "      <td>0.0</td>\n",
       "      <td>0.0</td>\n",
       "      <td>0.0</td>\n",
       "      <td>0.0</td>\n",
       "      <td>0.0</td>\n",
       "      <td>0.0</td>\n",
       "      <td>0.0</td>\n",
       "      <td>...</td>\n",
       "      <td>0.0</td>\n",
       "      <td>0.0</td>\n",
       "      <td>0.0</td>\n",
       "      <td>0.000000</td>\n",
       "      <td>0.000000</td>\n",
       "      <td>0.000000</td>\n",
       "      <td>0.0</td>\n",
       "      <td>0.0</td>\n",
       "      <td>0.0</td>\n",
       "      <td>0.0</td>\n",
       "    </tr>\n",
       "  </tbody>\n",
       "</table>\n",
       "<p>5 rows × 2485 columns</p>\n",
       "</div>"
      ],
      "text/plain": [
       "        abandon  abc  ability  able  abortion  abroad  absolute  absolutely  \\\n",
       "0  0.0      0.0  0.0      0.0   0.0       0.0     0.0       0.0         0.0   \n",
       "1  0.0      0.0  0.0      0.0   0.0       0.0     0.0       0.0         0.0   \n",
       "2  0.0      0.0  0.0      0.0   0.0       0.0     0.0       0.0         0.0   \n",
       "3  0.0      0.0  0.0      0.0   0.0       0.0     0.0       0.0         0.0   \n",
       "4  0.0      0.0  0.0      0.0   0.0       0.0     0.0       0.0         0.0   \n",
       "\n",
       "   abuse  ...  yemen  yes  yesterday       yet      york     young  youth  \\\n",
       "0    0.0  ...    0.0  0.0        0.0  0.030926  0.000000  0.035472    0.0   \n",
       "1    0.0  ...    0.0  0.0        0.0  0.000000  0.000000  0.000000    0.0   \n",
       "2    0.0  ...    0.0  0.0        0.0  0.000000  0.071376  0.000000    0.0   \n",
       "3    0.0  ...    0.0  0.0        0.0  0.000000  0.141576  0.000000    0.0   \n",
       "4    0.0  ...    0.0  0.0        0.0  0.000000  0.000000  0.000000    0.0   \n",
       "\n",
       "   youtube  zero  zone  \n",
       "0      0.0   0.0   0.0  \n",
       "1      0.0   0.0   0.0  \n",
       "2      0.0   0.0   0.0  \n",
       "3      0.0   0.0   0.0  \n",
       "4      0.0   0.0   0.0  \n",
       "\n",
       "[5 rows x 2485 columns]"
      ]
     },
     "execution_count": 27,
     "metadata": {},
     "output_type": "execute_result"
    }
   ],
   "source": [
    "tfidf_df.head()"
   ]
  },
  {
   "cell_type": "code",
   "execution_count": 28,
   "id": "84486aa9",
   "metadata": {},
   "outputs": [
    {
     "data": {
      "text/plain": [
       "(39942, 2485)"
      ]
     },
     "execution_count": 28,
     "metadata": {},
     "output_type": "execute_result"
    }
   ],
   "source": [
    "tfidf_matrix.shape"
   ]
  },
  {
   "cell_type": "markdown",
   "id": "79d9c380",
   "metadata": {},
   "source": [
    "# 5. Model training"
   ]
  },
  {
   "cell_type": "markdown",
   "id": "d7665c83",
   "metadata": {},
   "source": [
    "## 5.1 Train-test split\n",
    "\n",
    "We will split the data into training and testing sets. The training set will be used to train the model, while the testing set will be used to evaluate its performance."
   ]
  },
  {
   "cell_type": "code",
   "execution_count": 29,
   "id": "33d2aa65",
   "metadata": {},
   "outputs": [],
   "source": [
    "from sklearn.model_selection import train_test_split\n",
    "\n",
    "# Définition de la matrice X\n",
    "# y has already been defined\n",
    "X = tfidf_matrix\n",
    "\n",
    "# Splitting the dataset into train and test sets\n",
    "X_train, X_test, y_train, y_test = train_test_split(X, y, test_size=0.3, random_state=42)"
   ]
  },
  {
   "cell_type": "markdown",
   "id": "2d90d578",
   "metadata": {},
   "source": [
    "## 5.2 Multinomial Naive Bayes Model\n",
    "\n",
    "We will train a Multinomial Naive Bayes Model on the training data. This model is good for text classification tasks and works well with high-dimensional data like text."
   ]
  },
  {
   "cell_type": "markdown",
   "id": "c3bb635e",
   "metadata": {},
   "source": [
    "### Model training"
   ]
  },
  {
   "cell_type": "code",
   "execution_count": 30,
   "id": "9e4c5c28",
   "metadata": {},
   "outputs": [],
   "source": [
    "# Instanciation of the model\n",
    "model = MultinomialNB()\n",
    "\n",
    "# Fitting the model\n",
    "model.fit(X_train, y_train)\n",
    "\n",
    "# Prediction\n",
    "y_pred = model.predict(X_test) # Prédit les labels sur les données de test"
   ]
  },
  {
   "cell_type": "markdown",
   "id": "c8e98d0c",
   "metadata": {},
   "source": [
    "### Analysis - Confusion Matrix"
   ]
  },
  {
   "cell_type": "code",
   "execution_count": 31,
   "id": "78c5f25f",
   "metadata": {},
   "outputs": [
    {
     "data": {
      "image/png": "[encoded data removed]",
      "text/plain": [
       "<Figure size 640x480 with 2 Axes>"
      ]
     },
     "metadata": {},
     "output_type": "display_data"
    }
   ],
   "source": [
    "# Labels (1 = Real News, 0 = fake News)\n",
    "\n",
    "from sklearn.metrics import confusion_matrix, ConfusionMatrixDisplay\n",
    "import matplotlib.pyplot as plt\n",
    "\n",
    "cm = confusion_matrix(y_test, y_pred)\n",
    "disp = ConfusionMatrixDisplay(confusion_matrix=cm, display_labels=[\"Fake News\", \"Real News\"])\n",
    "disp.plot(cmap=\"Blues\")\n",
    "plt.title(\"Confusion Matrix - Naive Bayes\")\n",
    "plt.show()"
   ]
  },
  {
   "cell_type": "markdown",
   "id": "7f8a3a19",
   "metadata": {},
   "source": [
    "### Analysis - ROC Curve"
   ]
  },
  {
   "cell_type": "code",
   "execution_count": 32,
   "id": "0bac97c7",
   "metadata": {},
   "outputs": [
    {
     "data": {
      "image/png": "[encoded data removed]",
      "text/plain": [
       "<Figure size 640x480 with 1 Axes>"
      ]
     },
     "metadata": {},
     "output_type": "display_data"
    }
   ],
   "source": [
    "from sklearn.metrics import roc_curve, auc\n",
    "\n",
    "y_proba = model.predict_proba(X_test)[:, 1]\n",
    "fpr, tpr, thresholds = roc_curve(y_test, y_proba)\n",
    "roc_auc = auc(fpr, tpr)\n",
    "\n",
    "plt.figure()\n",
    "plt.plot(fpr, tpr, color='darkorange', lw=2, label=f\"ROC curve (AUC = {roc_auc:.2f})\")\n",
    "plt.plot([0, 1], [0, 1], color='navy', lw=2, linestyle='--')\n",
    "plt.xlim([0.0, 1.0])\n",
    "plt.ylim([0.0, 1.05])\n",
    "plt.xlabel(\"Faux positifs\")\n",
    "plt.ylabel(\"Vrais positifs\")\n",
    "plt.title(\"ROC curve - Naive Bayes\")\n",
    "plt.legend(loc=\"lower right\")\n",
    "plt.grid()\n",
    "plt.show()"
   ]
  },
  {
   "cell_type": "markdown",
   "id": "6bd243d7",
   "metadata": {},
   "source": [
    "### Analysis - Classification Report"
   ]
  },
  {
   "cell_type": "code",
   "execution_count": 33,
   "id": "520d9950",
   "metadata": {},
   "outputs": [
    {
     "name": "stdout",
     "output_type": "stream",
     "text": [
      "              precision    recall  f1-score   support\n",
      "\n",
      "   Fake News       0.94      0.94      0.94      6004\n",
      "   Real News       0.94      0.94      0.94      5979\n",
      "\n",
      "    accuracy                           0.94     11983\n",
      "   macro avg       0.94      0.94      0.94     11983\n",
      "weighted avg       0.94      0.94      0.94     11983\n",
      "\n"
     ]
    }
   ],
   "source": [
    "from sklearn.metrics import classification_report\n",
    "\n",
    "# Classification report\n",
    "print(classification_report(y_test, y_pred, target_names=[\"Fake News\", \"Real News\"]))"
   ]
  },
  {
   "cell_type": "markdown",
   "id": "a858cb08",
   "metadata": {},
   "source": [
    "# 6. Model saving"
   ]
  },
  {
   "cell_type": "code",
   "execution_count": 34,
   "id": "7de35049",
   "metadata": {},
   "outputs": [],
   "source": [
    "# Save the models using pickle\n",
    "import pickle\n",
    "\n",
    "# Save the Naive Bayes model and the TfidfVectorizer\n",
    "with open(\"naive_bayes_model_v1.pkl\", \"wb\") as f:\n",
    "    pickle.dump(model, f)"
   ]
  },
  {
   "cell_type": "code",
   "execution_count": 35,
   "id": "b57e6537",
   "metadata": {},
   "outputs": [],
   "source": [
    "# Save the TfidfVectorizer\n",
    "with open(\"tfidf_vectorizer_v1.pkl\", \"wb\") as f:\n",
    "    pickle.dump(tfidf_vectorizer, f)"
   ]
  },
  {
   "cell_type": "markdown",
   "id": "f2396845",
   "metadata": {},
   "source": [
    "# 7. Model (re)loading"
   ]
  },
  {
   "cell_type": "code",
   "execution_count": 36,
   "id": "a91a4010",
   "metadata": {},
   "outputs": [],
   "source": [
    "# Load the model\n",
    "with open(\"naive_bayes_model_v1.pkl\", \"rb\") as f:\n",
    "    naive_bayes_model_v1 = pickle.load(f)\n",
    "\n",
    "# Load the TfidfVectorizer\n",
    "with open(\"tfidf_vectorizer_v1.pkl\", \"rb\") as f:\n",
    "    tfidf_vectorizer_v1 = pickle.load(f)"
   ]
  },
  {
   "cell_type": "markdown",
   "id": "00b14000",
   "metadata": {},
   "source": [
    "# 8. Prediction\n",
    "\n",
    "We use the trained model to make predictions on new data. The predictions will be in the form of probabilities for each class (fake or real). We will also provide a threshold to classify the articles as fake or real based on the predicted probabilities."
   ]
  },
  {
   "cell_type": "markdown",
   "id": "1b04ba9e",
   "metadata": {},
   "source": [
    "## 8.1 Load new data"
   ]
  },
  {
   "cell_type": "code",
   "execution_count": 37,
   "id": "acdb37f8",
   "metadata": {},
   "outputs": [],
   "source": [
    "val_df = pd.read_csv(\"./dataset/validation_data.csv\")"
   ]
  },
  {
   "cell_type": "markdown",
   "id": "211f9a53",
   "metadata": {},
   "source": [
    "## 8.2 Preprocess new data"
   ]
  },
  {
   "cell_type": "code",
   "execution_count": 38,
   "id": "cbdbe015",
   "metadata": {},
   "outputs": [],
   "source": [
    "# We regroup the 3 columns into one\n",
    "val_df['combined_text'] = val_df['title'] + ' ' + val_df['text'] + ' ' + val_df['subject']\n",
    "\n",
    "# We drop the label column\n",
    "val_df.drop(['label'], axis=1, inplace=True)\n",
    "\n",
    "# We will tokenize line by line\n",
    "val_df[\"tokenized_text\"] = val_df[\"combined_text\"].apply(tokenize)\n",
    "\n",
    "# Apply all the functions to the column tokenized_text\n",
    "val_df[\"cleaned_text\"] = val_df[\"tokenized_text\"].apply(clean_text)\n",
    "\n",
    "# Apply the lemmatization\n",
    "val_df[\"lemmatized_text\"] = val_df[\"cleaned_text\"].apply(lemmatize)\n",
    "\n",
    "# We just need to transform the validation data using the same TfidfVectorizer\n",
    "tfidf_matrix_val = tfidf_vectorizer_v1.transform(val_df[\"lemmatized_text\"])"
   ]
  },
  {
   "cell_type": "markdown",
   "id": "e88ac214",
   "metadata": {},
   "source": [
    "## 8.3 Predict new data"
   ]
  },
  {
   "cell_type": "code",
   "execution_count": 39,
   "id": "dcd263d9",
   "metadata": {},
   "outputs": [],
   "source": [
    "# Prediction\n",
    "y_pred_val = naive_bayes_model_v1.predict(tfidf_matrix_val) # Prédit les labels sur les données de test"
   ]
  },
  {
   "cell_type": "markdown",
   "id": "d6b3cab0",
   "metadata": {},
   "source": [
    "## 8.4 Write predictions to DF"
   ]
  },
  {
   "cell_type": "code",
   "execution_count": 40,
   "id": "76861b7e",
   "metadata": {},
   "outputs": [],
   "source": [
    "# Add the predictions to the DataFrame\n",
    "val_df[\"predictions_num\"] = y_pred_val\n",
    "\n",
    "# Convert the predictions to string\n",
    "val_df[\"predictions\"] = val_df[\"predictions_num\"].replace({0: \"Fake News\", 1: \"Real News\"})\n",
    "\n",
    "# Clean the DataFrame\n",
    "val_df.drop(['combined_text', 'tokenized_text', 'cleaned_text', 'lemmatized_text', 'predictions_num'], axis=1, inplace=True)"
   ]
  },
  {
   "cell_type": "code",
   "execution_count": 43,
   "id": "9a2e9cd3",
   "metadata": {},
   "outputs": [
    {
     "data": {
      "application/vnd.microsoft.datawrangler.viewer.v0+json": {
       "columns": [
        {
         "name": "index",
         "rawType": "int64",
         "type": "integer"
        },
        {
         "name": "title",
         "rawType": "object",
         "type": "string"
        },
        {
         "name": "text",
         "rawType": "object",
         "type": "string"
        },
        {
         "name": "subject",
         "rawType": "object",
         "type": "string"
        },
        {
         "name": "date",
         "rawType": "object",
         "type": "string"
        },
        {
         "name": "predictions",
         "rawType": "object",
         "type": "string"
        }
       ],
       "conversionMethod": "pd.DataFrame",
       "ref": "939ec93d-6846-4b8b-8b07-7a00d9fba94d",
       "rows": [
        [
         "0",
         "UK's May 'receiving regular updates' on London tube station incident: PM's office",
         "LONDON (Reuters) - British Prime Minister Theresa May is being regularly briefed after armed police rushed to an incident at a London underground station on Friday, with local media reporting there had been an explosion on a packed rush-hour commuter train.  The prime minister is receiving regular updates,  a spokesman from May s office said when asked if May was aware of the incident. ",
         "worldnews",
         "September 15, 2017 ",
         "Real News"
        ],
        [
         "1",
         "UK transport police leading investigation of London incident, counter-terrorism police aware",
         "LONDON (Reuters) - British counter-terrorism police were monitoring events after media reports of a blast on a train in Parsons Green station in west London on Friday, but the investigation into the incident is being led by transport police, a security source said. Armed police rushed to an incident at a London underground station on Friday with local media reporting there had been an explosion on a packed rush-hour commuter train. Counter-terrorism officers were on the scene of the incident.  ",
         "worldnews",
         "September 15, 2017 ",
         "Real News"
        ],
        [
         "2",
         "Pacific nations crack down on North Korean ships as Fiji probes more than 20 vessels",
         "WELLINGTON (Reuters) - South Pacific island nations are scouring shipping records for vessels with links to North Korea after Fiji said it had identified 20 falsely flagged ships it suspects the isolated regime is using to evade United Nations sanctions. Fiji, along with Interpol and the Singapore-based regional shipping regulator Tokyo MoU, are investigating the vessels for links to North Korea, a spokesman for the country s Maritime Safety Authority (MSAF) told Reuters on Friday. Interpol and Tokyo MoU did not immediately respond to requests for comment on their investigations. The 18 members of the Pacific Islands Forum this month agreed to launch an audit of every ship registered in the Pacific to search for any links to North Korea. New Zealand Foreign Affairs Minister Gerry Brownlee said Pacific countries, including his own, were concerned North Korea was using falsely flagged cargo ships as one avenue to trade goods in spite of sanctions.  What we do know is that declared North Korean GDP (gross domestic product) is not big enough to support the nuclear program that they re running so there has to be significant black market or offbook revenue going into the country,  Brownlee told Reuters in a phone interview this week. The move came as the UN on Monday ramped up sanctions on North Korea, including tightening up oversight of vessels on the high seas. Authorities will now be allowed to check suspected vessels for prohibited cargo with the authority of the flag country.  UN sanctions introduced in August banned North Korean exports of seafood as part of efforts to curtail the regime s access to foreign funds. North Korea had been expected to earn an estimated $295 million from seafood in 2017, one U.N. diplomat said. In Fiji s case, the North Korean-linked ships had adopted the island nation s flag without formally registering, the MSAF said. It was not known in what way the possibly more-than 20 vessels were linked to North Korea or what their suspected activities or locations were. The MSAF declined to provide details due to the ongoing investigation. In addition to the fraudulent use of flags, Pacific governments were concerned North Korean vessels could be quietly registering in nations that allow international ships to use their flags.     If it s not clear why they re on that register, in other words, they re not regular callers into Pacific ports, then further investigation is needed to untangle the ship owner,  said Brownlee. The review would take place over the next couple of months, Brownlee said, and Australia and New Zealand would provide intelligence to help the small island nations check any North Korean connections. ",
         "worldnews",
         "September 15, 2017 ",
         "Real News"
        ],
        [
         "3",
         "Three suspected al Qaeda militants killed in Yemen drone strike",
         "ADEN, Yemen (Reuters) - Three suspected al Qaeda militants were killed in a drone strike in southern Yemen late on Thursday, a local security official and residents said. The strike in Mudiyah district in Abyan province on the Arabian Sea coast had targeted a motorcycle which the suspected militants were riding, the official said. Abyan is one of several provinces in central and southern Yemen where Al Qaeda in the Arabian Peninsula (AQAP) and its local affiliate Ansar al-Sharia operate. AQAP has taken advantage of a more than two-year civil war between the Iran-aligned Houthi group and President Abd-Rabbu Mansour Hadi s Saudi-backed government to strengthen its position in the impoverished country. The United States has repeatedly attacked AQAP with aircraft and unmanned drones in what U.S. officials say is a campaign to wear down the group s ability to coordinate attacks abroad. The Saudi-led coalition supporting Hadi has also launched thousands of air strikes against the Houthis which control Yemen s capital and much of the country s north. The Houthis have in turn fired rockets towards Saudi cities and villages. They say their attacks are in response to Saudi strikes on Yemeni cities and villages. The coalition spokesman said on Thursday that a Saudi pilot had died a day earlier when his plane crashed in the southern province of Abyan due to  technical failure , the Saudi news agency SPA said. The war has killed more than 10,000 people. ",
         "worldnews",
         "September 15, 2017 ",
         "Real News"
        ],
        [
         "4",
         "Chinese academics prod Beijing to consider North Korea contingencies",
         "BEIJING (Reuters) - Chinese academics are publicly broaching the idea that China and the United States should share plans on how to deal with a  potential conflict on the Korean Peninsula, a sign some say of how North Korea s weapons test may be making Beijing more open to the once taboo subject. Chinese officials have rebuffed top U.S. military brass for years in their efforts to share contingencies for war or regime collapse in Pyongyang, suspicious over Washington s intentions and fearful that such engagement could further alienate North Korea, their once steadfast wartime ally. Jia Qingguo, the dean of the School of International Studies at China s elite Peking University and a respected advisor to Chinese leaders, said in an article this week that with the chances of war increasing daily, it might be time for China to  prepare for the worst .  When war becomes a real possibility, China must be prepared. And, with this in mind, China must be more willing to consider talks with concerned countries on contingency plans,  Jia wrote in an article first published on the online East Asia Forum run out of Australian National University. Given recent developments,  Beijing may have no better choice than to start talking with Washington and Seoul , Jia said. Ties between China and North Korea have deteriorated sharply in recent years, to the point some diplomats and experts fear Beijing may become, like Washington, a target of its neighbor s ire. Jia s comments, at the forefront of what is still a sensitive debate in China, were made before North Korea on Friday fired a missile that flew over Japan s northern Hokkaido far out into the Pacific Ocean.  That test came after the U.N. Security Council s latest round of sanctions on Monday banning North Korea s textile exports and capping fuel supplies in response to Pyongyang s accelerated effort to target the United States with a powerful, nuclear-tipped missile. Xie Tao, associate dean at the School of English and International Studies at Beijing Foreign Studies University, said Chinese academics in years past would typically only express their opinions on whether China should be sharing plans with Washington behind closed doors.  Now you can get all sorts of people from the left and right and they are allowed to make their views public,  Xie told Reuters.  You could interpret that as a signal that the Chinese government is perhaps willing now to consider, if not actually join up to, contingency plans,  Xie said.  My sense is that there must be some in-depth discussion about what could potentially happen if there is a collapse or internal chaos   how Beijing and Washington should respond to this.  During a trip to China in August, Joseph Dunford, Chairman of the U.S. Joint Chiefs of Staff, attended Chinese military drills at China s Northern Theater Command in the city of Shenyang, which covers China s border with North Korea.  Some analysts perceived that as China opening a crack in the door to its own preparations, but neither side are showing their cards to the public. Dunford said in Beijing during that visit that despite Washington s urgings the  conditions aren t set for such a detailed conversation  between the two militaries.  U.S. military officials have privately voiced frustration that previous channels established for direct military communications line are essentially unstaffed on the Chinese side. Dunford said creating a round-the-clock  responsive  communications link that could be used in a crisis was a top priority for military ties.  For a graphic on North Korea's missile and nuclear tests, click: here ",
         "worldnews",
         "September 15, 2017 ",
         "Real News"
        ]
       ],
       "shape": {
        "columns": 5,
        "rows": 5
       }
      },
      "text/html": [
       "<div>\n",
       "<style scoped>\n",
       "    .dataframe tbody tr th:only-of-type {\n",
       "        vertical-align: middle;\n",
       "    }\n",
       "\n",
       "    .dataframe tbody tr th {\n",
       "        vertical-align: top;\n",
       "    }\n",
       "\n",
       "    .dataframe thead th {\n",
       "        text-align: right;\n",
       "    }\n",
       "</style>\n",
       "<table border=\"1\" class=\"dataframe\">\n",
       "  <thead>\n",
       "    <tr style=\"text-align: right;\">\n",
       "      <th></th>\n",
       "      <th>title</th>\n",
       "      <th>text</th>\n",
       "      <th>subject</th>\n",
       "      <th>date</th>\n",
       "      <th>predictions</th>\n",
       "    </tr>\n",
       "  </thead>\n",
       "  <tbody>\n",
       "    <tr>\n",
       "      <th>0</th>\n",
       "      <td>UK's May 'receiving regular updates' on London...</td>\n",
       "      <td>LONDON (Reuters) - British Prime Minister Ther...</td>\n",
       "      <td>worldnews</td>\n",
       "      <td>September 15, 2017</td>\n",
       "      <td>Real News</td>\n",
       "    </tr>\n",
       "    <tr>\n",
       "      <th>1</th>\n",
       "      <td>UK transport police leading investigation of L...</td>\n",
       "      <td>LONDON (Reuters) - British counter-terrorism p...</td>\n",
       "      <td>worldnews</td>\n",
       "      <td>September 15, 2017</td>\n",
       "      <td>Real News</td>\n",
       "    </tr>\n",
       "    <tr>\n",
       "      <th>2</th>\n",
       "      <td>Pacific nations crack down on North Korean shi...</td>\n",
       "      <td>WELLINGTON (Reuters) - South Pacific island na...</td>\n",
       "      <td>worldnews</td>\n",
       "      <td>September 15, 2017</td>\n",
       "      <td>Real News</td>\n",
       "    </tr>\n",
       "    <tr>\n",
       "      <th>3</th>\n",
       "      <td>Three suspected al Qaeda militants killed in Y...</td>\n",
       "      <td>ADEN, Yemen (Reuters) - Three suspected al Qae...</td>\n",
       "      <td>worldnews</td>\n",
       "      <td>September 15, 2017</td>\n",
       "      <td>Real News</td>\n",
       "    </tr>\n",
       "    <tr>\n",
       "      <th>4</th>\n",
       "      <td>Chinese academics prod Beijing to consider Nor...</td>\n",
       "      <td>BEIJING (Reuters) - Chinese academics are publ...</td>\n",
       "      <td>worldnews</td>\n",
       "      <td>September 15, 2017</td>\n",
       "      <td>Real News</td>\n",
       "    </tr>\n",
       "  </tbody>\n",
       "</table>\n",
       "</div>"
      ],
      "text/plain": [
       "                                               title  \\\n",
       "0  UK's May 'receiving regular updates' on London...   \n",
       "1  UK transport police leading investigation of L...   \n",
       "2  Pacific nations crack down on North Korean shi...   \n",
       "3  Three suspected al Qaeda militants killed in Y...   \n",
       "4  Chinese academics prod Beijing to consider Nor...   \n",
       "\n",
       "                                                text    subject  \\\n",
       "0  LONDON (Reuters) - British Prime Minister Ther...  worldnews   \n",
       "1  LONDON (Reuters) - British counter-terrorism p...  worldnews   \n",
       "2  WELLINGTON (Reuters) - South Pacific island na...  worldnews   \n",
       "3  ADEN, Yemen (Reuters) - Three suspected al Qae...  worldnews   \n",
       "4  BEIJING (Reuters) - Chinese academics are publ...  worldnews   \n",
       "\n",
       "                  date predictions  \n",
       "0  September 15, 2017    Real News  \n",
       "1  September 15, 2017    Real News  \n",
       "2  September 15, 2017    Real News  \n",
       "3  September 15, 2017    Real News  \n",
       "4  September 15, 2017    Real News  "
      ]
     },
     "execution_count": 43,
     "metadata": {},
     "output_type": "execute_result"
    }
   ],
   "source": [
    "val_df.head()"
   ]
  },
  {
   "cell_type": "markdown",
   "id": "f56e62c6",
   "metadata": {},
   "source": [
    "## 8.5 Save the enhanced model and tfidf vectorizer"
   ]
  },
  {
   "cell_type": "code",
   "execution_count": 44,
   "id": "889a6583",
   "metadata": {},
   "outputs": [],
   "source": [
    "# Save the enhanced tfidf model\n",
    "with open(\"naive_bayes_model_v2.pkl\", \"wb\") as f:\n",
    "    pickle.dump(naive_bayes_model_v1, f)\n",
    "with open(\"tfidf_vectorizer_v2.pkl\", \"wb\") as f:\n",
    "    pickle.dump(tfidf_vectorizer_v1, f)"
   ]
  },
  {
   "cell_type": "markdown",
   "id": "425ccf70",
   "metadata": {},
   "source": [
    "## 8.6 Save the predictions to a CSV file"
   ]
  },
  {
   "cell_type": "code",
   "execution_count": 45,
   "id": "ed887d35",
   "metadata": {},
   "outputs": [],
   "source": [
    "# Save the predictions to a CSV file\n",
    "val_df.to_csv(\"predictions.csv\", index=False)\n",
    "\n",
    "# Save the predictions to a JSON file\n",
    "val_df.to_json(\"predictions.json\", orient=\"records\", lines=True) # On anticipe un fichier JSON avec une ligne par enregistrement pour communication API une fois le modèle mis en prod"
   ]
  }
 ],
 "metadata": {
  "kernelspec": {
   "display_name": "Python 3",
   "language": "python",
   "name": "python3"
  },
  "language_info": {
   "codemirror_mode": {
    "name": "ipython",
    "version": 3
   },
   "file_extension": ".py",
   "mimetype": "text/x-python",
   "name": "python",
   "nbconvert_exporter": "python",
   "pygments_lexer": "ipython3",
   "version": "3.12.10"
  }
 },
 "nbformat": 4,
 "nbformat_minor": 5
}
